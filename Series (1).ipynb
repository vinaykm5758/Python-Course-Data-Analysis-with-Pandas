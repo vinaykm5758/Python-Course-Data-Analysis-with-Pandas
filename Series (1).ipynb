{
  "metadata": {
    "anaconda-cloud": {},
    "kernelspec": {
      "name": "python",
      "display_name": "Python (Pyodide)",
      "language": "python"
    },
    "language_info": {
      "codemirror_mode": {
        "name": "python",
        "version": 3
      },
      "file_extension": ".py",
      "mimetype": "text/x-python",
      "name": "python",
      "nbconvert_exporter": "python",
      "pygments_lexer": "ipython3",
      "version": "3.8"
    }
  },
  "nbformat_minor": 4,
  "nbformat": 4,
  "cells": [
    {
      "cell_type": "code",
      "source": "import pandas as pd",
      "metadata": {
        "tags": [],
        "trusted": true
      },
      "execution_count": 1,
      "outputs": []
    },
    {
      "cell_type": "markdown",
      "source": "## Create A `Series` Object from A Python List",
      "metadata": {}
    },
    {
      "cell_type": "code",
      "source": "ice_cream = [\"Chocolate\", \"Vanilla\", \"Strawberry\", \"Rum Raisin\"]\n\npd.Series(ice_cream)",
      "metadata": {
        "collapsed": false,
        "jupyter": {
          "outputs_hidden": false
        },
        "trusted": true
      },
      "execution_count": 2,
      "outputs": [
        {
          "execution_count": 2,
          "output_type": "execute_result",
          "data": {
            "text/plain": "0     Chocolate\n1       Vanilla\n2    Strawberry\n3    Rum Raisin\ndtype: object"
          },
          "metadata": {}
        }
      ]
    },
    {
      "cell_type": "code",
      "source": "lottery = [4, 8, 15, 16, 23, 42]\n\npd.Series(lottery)",
      "metadata": {
        "collapsed": false,
        "jupyter": {
          "outputs_hidden": false
        },
        "trusted": true
      },
      "execution_count": 3,
      "outputs": [
        {
          "execution_count": 3,
          "output_type": "execute_result",
          "data": {
            "text/plain": "0     4\n1     8\n2    15\n3    16\n4    23\n5    42\ndtype: int64"
          },
          "metadata": {}
        }
      ]
    },
    {
      "cell_type": "code",
      "source": "registrations = [True, False, False, False, True]\n\npd.Series(registrations)",
      "metadata": {
        "collapsed": false,
        "jupyter": {
          "outputs_hidden": false
        },
        "trusted": true
      },
      "execution_count": 4,
      "outputs": [
        {
          "execution_count": 4,
          "output_type": "execute_result",
          "data": {
            "text/plain": "0     True\n1    False\n2    False\n3    False\n4     True\ndtype: bool"
          },
          "metadata": {}
        }
      ]
    },
    {
      "cell_type": "code",
      "source": "",
      "metadata": {
        "collapsed": true,
        "jupyter": {
          "outputs_hidden": true
        }
      },
      "execution_count": null,
      "outputs": []
    },
    {
      "cell_type": "code",
      "source": "",
      "metadata": {
        "collapsed": true,
        "jupyter": {
          "outputs_hidden": true
        }
      },
      "execution_count": null,
      "outputs": []
    },
    {
      "cell_type": "code",
      "source": "",
      "metadata": {
        "collapsed": true,
        "jupyter": {
          "outputs_hidden": true
        }
      },
      "execution_count": null,
      "outputs": []
    },
    {
      "cell_type": "code",
      "source": "",
      "metadata": {
        "collapsed": true,
        "jupyter": {
          "outputs_hidden": true
        }
      },
      "execution_count": null,
      "outputs": []
    },
    {
      "cell_type": "code",
      "source": "",
      "metadata": {
        "collapsed": true,
        "jupyter": {
          "outputs_hidden": true
        }
      },
      "execution_count": null,
      "outputs": []
    },
    {
      "cell_type": "code",
      "source": "",
      "metadata": {
        "collapsed": true,
        "jupyter": {
          "outputs_hidden": true
        }
      },
      "execution_count": null,
      "outputs": []
    },
    {
      "cell_type": "code",
      "source": "",
      "metadata": {
        "collapsed": true,
        "jupyter": {
          "outputs_hidden": true
        }
      },
      "execution_count": null,
      "outputs": []
    },
    {
      "cell_type": "markdown",
      "source": "## Create A `Series` Object from a Dictionary",
      "metadata": {}
    },
    {
      "cell_type": "code",
      "source": "webster = {\"Aardvark\" : \"An animal\",\n           \"Banana\" : \"A delicious fruit\",\n           \"Cyan\" : \"A color\"}\n\npd.Series(webster)",
      "metadata": {
        "collapsed": false,
        "jupyter": {
          "outputs_hidden": false
        },
        "trusted": true
      },
      "execution_count": 5,
      "outputs": [
        {
          "execution_count": 5,
          "output_type": "execute_result",
          "data": {
            "text/plain": "Aardvark            An animal\nBanana      A delicious fruit\nCyan                  A color\ndtype: object"
          },
          "metadata": {}
        }
      ]
    },
    {
      "cell_type": "code",
      "source": "webster.keys()",
      "metadata": {
        "trusted": true
      },
      "execution_count": 18,
      "outputs": [
        {
          "execution_count": 18,
          "output_type": "execute_result",
          "data": {
            "text/plain": "dict_keys(['Aardvark', 'Banana', 'Cyan'])"
          },
          "metadata": {}
        }
      ]
    },
    {
      "cell_type": "code",
      "source": "webster.values()",
      "metadata": {
        "tags": [],
        "trusted": true
      },
      "execution_count": 19,
      "outputs": [
        {
          "execution_count": 19,
          "output_type": "execute_result",
          "data": {
            "text/plain": "dict_values(['An animal', 'A delicious fruit', 'A color'])"
          },
          "metadata": {}
        }
      ]
    },
    {
      "cell_type": "code",
      "source": "webster[\"Cyan\"]",
      "metadata": {
        "trusted": true
      },
      "execution_count": 21,
      "outputs": [
        {
          "execution_count": 21,
          "output_type": "execute_result",
          "data": {
            "text/plain": "'A color'"
          },
          "metadata": {}
        }
      ]
    },
    {
      "cell_type": "code",
      "source": "",
      "metadata": {},
      "execution_count": null,
      "outputs": []
    },
    {
      "cell_type": "code",
      "source": "",
      "metadata": {},
      "execution_count": null,
      "outputs": []
    },
    {
      "cell_type": "markdown",
      "source": "## Intro to Attributes",
      "metadata": {}
    },
    {
      "cell_type": "code",
      "source": "about_me = [\"Smart\", \"Handsome\", \"Charming\", \"Brilliant\", \"Humble\"]\ns = pd.Series(about_me)\ns",
      "metadata": {
        "collapsed": false,
        "jupyter": {
          "outputs_hidden": false
        },
        "trusted": true
      },
      "execution_count": 13,
      "outputs": [
        {
          "execution_count": 13,
          "output_type": "execute_result",
          "data": {
            "text/plain": "0        Smart\n1     Handsome\n2     Charming\n3    Brilliant\n4       Humble\ndtype: object"
          },
          "metadata": {}
        }
      ]
    },
    {
      "cell_type": "code",
      "source": "s.values",
      "metadata": {
        "collapsed": false,
        "jupyter": {
          "outputs_hidden": false
        },
        "trusted": true
      },
      "execution_count": 14,
      "outputs": [
        {
          "execution_count": 14,
          "output_type": "execute_result",
          "data": {
            "text/plain": "array(['Smart', 'Handsome', 'Charming', 'Brilliant', 'Humble'],\n      dtype=object)"
          },
          "metadata": {}
        }
      ]
    },
    {
      "cell_type": "code",
      "source": "s.index",
      "metadata": {
        "collapsed": false,
        "jupyter": {
          "outputs_hidden": false
        },
        "trusted": true
      },
      "execution_count": 22,
      "outputs": [
        {
          "execution_count": 22,
          "output_type": "execute_result",
          "data": {
            "text/plain": "RangeIndex(start=0, stop=5, step=1)"
          },
          "metadata": {}
        }
      ]
    },
    {
      "cell_type": "code",
      "source": "s.dtype",
      "metadata": {
        "collapsed": false,
        "jupyter": {
          "outputs_hidden": false
        },
        "trusted": true
      },
      "execution_count": 23,
      "outputs": [
        {
          "execution_count": 23,
          "output_type": "execute_result",
          "data": {
            "text/plain": "dtype('O')"
          },
          "metadata": {}
        }
      ]
    },
    {
      "cell_type": "code",
      "source": "",
      "metadata": {},
      "execution_count": null,
      "outputs": []
    },
    {
      "cell_type": "code",
      "source": "",
      "metadata": {},
      "execution_count": null,
      "outputs": []
    },
    {
      "cell_type": "code",
      "source": "",
      "metadata": {},
      "execution_count": null,
      "outputs": []
    },
    {
      "cell_type": "markdown",
      "source": "## Intro to Methods",
      "metadata": {}
    },
    {
      "cell_type": "code",
      "source": "prices = [2.99, 4.45, 1.36]\ns = pd.Series(prices)\ns",
      "metadata": {
        "collapsed": false,
        "jupyter": {
          "outputs_hidden": false
        },
        "trusted": true
      },
      "execution_count": 6,
      "outputs": [
        {
          "execution_count": 6,
          "output_type": "execute_result",
          "data": {
            "text/plain": "0    2.99\n1    4.45\n2    1.36\ndtype: float64"
          },
          "metadata": {}
        }
      ]
    },
    {
      "cell_type": "code",
      "source": "s.sum()",
      "metadata": {
        "collapsed": false,
        "jupyter": {
          "outputs_hidden": false
        },
        "trusted": true
      },
      "execution_count": 7,
      "outputs": [
        {
          "execution_count": 7,
          "output_type": "execute_result",
          "data": {
            "text/plain": "8.8"
          },
          "metadata": {}
        }
      ]
    },
    {
      "cell_type": "code",
      "source": "s.product()",
      "metadata": {
        "collapsed": false,
        "jupyter": {
          "outputs_hidden": false
        },
        "trusted": true
      },
      "execution_count": 8,
      "outputs": [
        {
          "execution_count": 8,
          "output_type": "execute_result",
          "data": {
            "text/plain": "18.095480000000006"
          },
          "metadata": {}
        }
      ]
    },
    {
      "cell_type": "code",
      "source": "s.mean()",
      "metadata": {
        "collapsed": false,
        "jupyter": {
          "outputs_hidden": false
        },
        "trusted": true
      },
      "execution_count": 9,
      "outputs": [
        {
          "execution_count": 9,
          "output_type": "execute_result",
          "data": {
            "text/plain": "2.9333333333333336"
          },
          "metadata": {}
        }
      ]
    },
    {
      "cell_type": "code",
      "source": "s.median()",
      "metadata": {
        "trusted": true
      },
      "execution_count": 12,
      "outputs": [
        {
          "execution_count": 12,
          "output_type": "execute_result",
          "data": {
            "text/plain": "2.99"
          },
          "metadata": {}
        }
      ]
    },
    {
      "cell_type": "markdown",
      "source": "## Parameters and Arguments",
      "metadata": {}
    },
    {
      "cell_type": "code",
      "source": "# Difficulty - Easy, Medium, Hard\n# Volume - 1 through 10\n# Subtitles - True / False",
      "metadata": {
        "tags": [],
        "trusted": true
      },
      "execution_count": 24,
      "outputs": []
    },
    {
      "cell_type": "code",
      "source": "fruits = [\"Apple\", \"Orange\", \"Plum\", \"Grape\", \"Blueberry\"]\nweekdays = [\"Monday\", \"Tuesday\", \"Wednesday\", \"Thursday\", \"Friday\"]\n\npd.Series(fruits, weekdays)\npd.Series(data = fruits, index = weekdays)\npd.Series(fruits, index = weekdays)",
      "metadata": {
        "collapsed": false,
        "jupyter": {
          "outputs_hidden": false
        },
        "trusted": true
      },
      "execution_count": 25,
      "outputs": [
        {
          "execution_count": 25,
          "output_type": "execute_result",
          "data": {
            "text/plain": "Monday           Apple\nTuesday         Orange\nWednesday         Plum\nThursday         Grape\nFriday       Blueberry\ndtype: object"
          },
          "metadata": {}
        }
      ]
    },
    {
      "cell_type": "code",
      "source": "pd.Series(data = fruits, index = weekdays)",
      "metadata": {
        "trusted": true
      },
      "execution_count": 28,
      "outputs": [
        {
          "execution_count": 28,
          "output_type": "execute_result",
          "data": {
            "text/plain": "Monday           Apple\nTuesday         Orange\nWednesday         Plum\nThursday         Grape\nFriday       Blueberry\ndtype: object"
          },
          "metadata": {}
        }
      ]
    },
    {
      "cell_type": "code",
      "source": "fruits = [\"Apple\", \"Orange\", \"Plum\", \"Grape\", \"Blueberry\", \"Watermelon\"]\nweekdays = [\"Monday\", \"Tuesday\", \"Wednesday\", \"Thursday\", \"Friday\", \"Monday\"]\n\npd.Series(data = fruits, index = weekdays)",
      "metadata": {
        "collapsed": false,
        "jupyter": {
          "outputs_hidden": false
        }
      },
      "execution_count": 22,
      "outputs": [
        {
          "execution_count": 22,
          "output_type": "execute_result",
          "data": {
            "text/plain": [
              "Monday            Apple\n",
              "Tuesday          Orange\n",
              "Wednesday          Plum\n",
              "Thursday          Grape\n",
              "Friday        Blueberry\n",
              "Monday       Watermelon\n",
              "dtype: object"
            ]
          },
          "metadata": {}
        }
      ]
    },
    {
      "cell_type": "markdown",
      "source": "## Import `Series` with the `read_csv` Method",
      "metadata": {}
    },
    {
      "cell_type": "code",
      "source": "pokemon = pd.read_csv(\"pokemon.csv\", usecols = [\"Pokemon\"])\npokemon",
      "metadata": {
        "collapsed": false,
        "jupyter": {
          "outputs_hidden": false
        },
        "trusted": true
      },
      "execution_count": 30,
      "outputs": [
        {
          "execution_count": 30,
          "output_type": "execute_result",
          "data": {
            "text/plain": "        Pokemon\n0     Bulbasaur\n1       Ivysaur\n2      Venusaur\n3    Charmander\n4    Charmeleon\n..          ...\n716     Yveltal\n717     Zygarde\n718     Diancie\n719       Hoopa\n720   Volcanion\n\n[721 rows x 1 columns]",
            "text/html": "<div>\n<style scoped>\n    .dataframe tbody tr th:only-of-type {\n        vertical-align: middle;\n    }\n\n    .dataframe tbody tr th {\n        vertical-align: top;\n    }\n\n    .dataframe thead th {\n        text-align: right;\n    }\n</style>\n<table border=\"1\" class=\"dataframe\">\n  <thead>\n    <tr style=\"text-align: right;\">\n      <th></th>\n      <th>Pokemon</th>\n    </tr>\n  </thead>\n  <tbody>\n    <tr>\n      <th>0</th>\n      <td>Bulbasaur</td>\n    </tr>\n    <tr>\n      <th>1</th>\n      <td>Ivysaur</td>\n    </tr>\n    <tr>\n      <th>2</th>\n      <td>Venusaur</td>\n    </tr>\n    <tr>\n      <th>3</th>\n      <td>Charmander</td>\n    </tr>\n    <tr>\n      <th>4</th>\n      <td>Charmeleon</td>\n    </tr>\n    <tr>\n      <th>...</th>\n      <td>...</td>\n    </tr>\n    <tr>\n      <th>716</th>\n      <td>Yveltal</td>\n    </tr>\n    <tr>\n      <th>717</th>\n      <td>Zygarde</td>\n    </tr>\n    <tr>\n      <th>718</th>\n      <td>Diancie</td>\n    </tr>\n    <tr>\n      <th>719</th>\n      <td>Hoopa</td>\n    </tr>\n    <tr>\n      <th>720</th>\n      <td>Volcanion</td>\n    </tr>\n  </tbody>\n</table>\n<p>721 rows × 1 columns</p>\n</div>"
          },
          "metadata": {}
        }
      ]
    },
    {
      "cell_type": "code",
      "source": "pokemon.head()",
      "metadata": {
        "trusted": true
      },
      "execution_count": 32,
      "outputs": [
        {
          "execution_count": 32,
          "output_type": "execute_result",
          "data": {
            "text/plain": "      Pokemon\n0   Bulbasaur\n1     Ivysaur\n2    Venusaur\n3  Charmander\n4  Charmeleon",
            "text/html": "<div>\n<style scoped>\n    .dataframe tbody tr th:only-of-type {\n        vertical-align: middle;\n    }\n\n    .dataframe tbody tr th {\n        vertical-align: top;\n    }\n\n    .dataframe thead th {\n        text-align: right;\n    }\n</style>\n<table border=\"1\" class=\"dataframe\">\n  <thead>\n    <tr style=\"text-align: right;\">\n      <th></th>\n      <th>Pokemon</th>\n    </tr>\n  </thead>\n  <tbody>\n    <tr>\n      <th>0</th>\n      <td>Bulbasaur</td>\n    </tr>\n    <tr>\n      <th>1</th>\n      <td>Ivysaur</td>\n    </tr>\n    <tr>\n      <th>2</th>\n      <td>Venusaur</td>\n    </tr>\n    <tr>\n      <th>3</th>\n      <td>Charmander</td>\n    </tr>\n    <tr>\n      <th>4</th>\n      <td>Charmeleon</td>\n    </tr>\n  </tbody>\n</table>\n</div>"
          },
          "metadata": {}
        }
      ]
    },
    {
      "cell_type": "code",
      "source": "google = pd.read_csv(\"google_stock_price.csv\")\ngoogle",
      "metadata": {
        "collapsed": false,
        "jupyter": {
          "outputs_hidden": false
        },
        "trusted": true
      },
      "execution_count": 34,
      "outputs": [
        {
          "execution_count": 34,
          "output_type": "execute_result",
          "data": {
            "text/plain": "      Stock Price\n0           50.12\n1           54.10\n2           54.65\n3           52.38\n4           52.95\n...           ...\n3007       772.88\n3008       771.07\n3009       773.18\n3010       771.61\n3011       782.22\n\n[3012 rows x 1 columns]",
            "text/html": "<div>\n<style scoped>\n    .dataframe tbody tr th:only-of-type {\n        vertical-align: middle;\n    }\n\n    .dataframe tbody tr th {\n        vertical-align: top;\n    }\n\n    .dataframe thead th {\n        text-align: right;\n    }\n</style>\n<table border=\"1\" class=\"dataframe\">\n  <thead>\n    <tr style=\"text-align: right;\">\n      <th></th>\n      <th>Stock Price</th>\n    </tr>\n  </thead>\n  <tbody>\n    <tr>\n      <th>0</th>\n      <td>50.12</td>\n    </tr>\n    <tr>\n      <th>1</th>\n      <td>54.10</td>\n    </tr>\n    <tr>\n      <th>2</th>\n      <td>54.65</td>\n    </tr>\n    <tr>\n      <th>3</th>\n      <td>52.38</td>\n    </tr>\n    <tr>\n      <th>4</th>\n      <td>52.95</td>\n    </tr>\n    <tr>\n      <th>...</th>\n      <td>...</td>\n    </tr>\n    <tr>\n      <th>3007</th>\n      <td>772.88</td>\n    </tr>\n    <tr>\n      <th>3008</th>\n      <td>771.07</td>\n    </tr>\n    <tr>\n      <th>3009</th>\n      <td>773.18</td>\n    </tr>\n    <tr>\n      <th>3010</th>\n      <td>771.61</td>\n    </tr>\n    <tr>\n      <th>3011</th>\n      <td>782.22</td>\n    </tr>\n  </tbody>\n</table>\n<p>3012 rows × 1 columns</p>\n</div>"
          },
          "metadata": {}
        }
      ]
    },
    {
      "cell_type": "markdown",
      "source": "## The `.head()` and `.tail()` Methods",
      "metadata": {}
    },
    {
      "cell_type": "code",
      "source": "pokemon = pd.read_csv(\"pokemon.csv\", usecols = [\"Pokemon\"])\ngoogle = pd.read_csv(\"google_stock_price.csv\")",
      "metadata": {
        "tags": [],
        "trusted": true
      },
      "execution_count": 36,
      "outputs": []
    },
    {
      "cell_type": "code",
      "source": "pokemon.head(1)",
      "metadata": {
        "collapsed": false,
        "jupyter": {
          "outputs_hidden": false
        }
      },
      "execution_count": 36,
      "outputs": [
        {
          "execution_count": 36,
          "output_type": "execute_result",
          "data": {
            "text/plain": [
              "0    Bulbasaur\n",
              "Name: Pokemon, dtype: object"
            ]
          },
          "metadata": {}
        }
      ]
    },
    {
      "cell_type": "code",
      "source": "google.tail(1)",
      "metadata": {
        "collapsed": false,
        "jupyter": {
          "outputs_hidden": false
        }
      },
      "execution_count": 40,
      "outputs": [
        {
          "execution_count": 40,
          "output_type": "execute_result",
          "data": {
            "text/plain": [
              "3011    782.22\n",
              "Name: Stock Price, dtype: float64"
            ]
          },
          "metadata": {}
        }
      ]
    },
    {
      "cell_type": "markdown",
      "source": "## Python Built-In Functions",
      "metadata": {}
    },
    {
      "cell_type": "code",
      "source": "pokemon = pd.read_csv(\"pokemon.csv\", usecols = [\"Pokemon\"])\ngoogle = pd.read_csv(\"google_stock_price.csv\")",
      "metadata": {
        "tags": [],
        "trusted": true
      },
      "execution_count": 37,
      "outputs": []
    },
    {
      "cell_type": "code",
      "source": "len(pokemon)\nlen(google)",
      "metadata": {
        "collapsed": false,
        "jupyter": {
          "outputs_hidden": false
        },
        "trusted": true
      },
      "execution_count": 38,
      "outputs": [
        {
          "execution_count": 38,
          "output_type": "execute_result",
          "data": {
            "text/plain": "3012"
          },
          "metadata": {}
        }
      ]
    },
    {
      "cell_type": "code",
      "source": "type(pokemon)",
      "metadata": {
        "collapsed": false,
        "jupyter": {
          "outputs_hidden": false
        },
        "trusted": true
      },
      "execution_count": 39,
      "outputs": [
        {
          "execution_count": 39,
          "output_type": "execute_result",
          "data": {
            "text/plain": "pandas.core.frame.DataFrame"
          },
          "metadata": {}
        }
      ]
    },
    {
      "cell_type": "code",
      "source": "dir(pokemon)",
      "metadata": {},
      "execution_count": null,
      "outputs": []
    },
    {
      "cell_type": "code",
      "source": "sorted(pokemon)\nsorted(google)",
      "metadata": {
        "tags": [],
        "trusted": true
      },
      "execution_count": 41,
      "outputs": [
        {
          "execution_count": 41,
          "output_type": "execute_result",
          "data": {
            "text/plain": "['Stock Price']"
          },
          "metadata": {}
        }
      ]
    },
    {
      "cell_type": "code",
      "source": "list(pokemon)",
      "metadata": {
        "tags": [],
        "trusted": true
      },
      "execution_count": 42,
      "outputs": [
        {
          "execution_count": 42,
          "output_type": "execute_result",
          "data": {
            "text/plain": "['Pokemon']"
          },
          "metadata": {}
        }
      ]
    },
    {
      "cell_type": "code",
      "source": "dict(google)",
      "metadata": {
        "tags": [],
        "trusted": true
      },
      "execution_count": 43,
      "outputs": [
        {
          "execution_count": 43,
          "output_type": "execute_result",
          "data": {
            "text/plain": "{'Stock Price': 0        50.12\n 1        54.10\n 2        54.65\n 3        52.38\n 4        52.95\n          ...  \n 3007    772.88\n 3008    771.07\n 3009    773.18\n 3010    771.61\n 3011    782.22\n Name: Stock Price, Length: 3012, dtype: float64}"
          },
          "metadata": {}
        }
      ]
    },
    {
      "cell_type": "code",
      "source": "max(pokemon)\nmin(pokemon)",
      "metadata": {
        "collapsed": false,
        "jupyter": {
          "outputs_hidden": false
        }
      },
      "execution_count": 64,
      "outputs": [
        {
          "execution_count": 64,
          "output_type": "execute_result",
          "data": {
            "text/plain": [
              "'Abomasnow'"
            ]
          },
          "metadata": {}
        }
      ]
    },
    {
      "cell_type": "code",
      "source": "max(google)",
      "metadata": {
        "collapsed": false,
        "jupyter": {
          "outputs_hidden": false
        }
      },
      "execution_count": 65,
      "outputs": [
        {
          "execution_count": 65,
          "output_type": "execute_result",
          "data": {
            "text/plain": [
              "782.22000000000003"
            ]
          },
          "metadata": {}
        }
      ]
    },
    {
      "cell_type": "code",
      "source": "min(google)",
      "metadata": {
        "collapsed": false,
        "jupyter": {
          "outputs_hidden": false
        }
      },
      "execution_count": 66,
      "outputs": [
        {
          "execution_count": 66,
          "output_type": "execute_result",
          "data": {
            "text/plain": [
              "49.950000000000003"
            ]
          },
          "metadata": {}
        }
      ]
    },
    {
      "cell_type": "markdown",
      "source": "## More `Series` Attributes",
      "metadata": {}
    },
    {
      "cell_type": "code",
      "source": "pokemon = pd.read_csv(\"pokemon.csv\", usecols = [\"Pokemon\"])\ngoogle = pd.read_csv(\"google_stock_price.csv\")",
      "metadata": {
        "collapsed": true,
        "jupyter": {
          "outputs_hidden": true
        }
      },
      "execution_count": 75,
      "outputs": []
    },
    {
      "cell_type": "code",
      "source": "pokemon.values\ngoogle.values",
      "metadata": {
        "collapsed": false,
        "jupyter": {
          "outputs_hidden": false
        },
        "trusted": true
      },
      "execution_count": 44,
      "outputs": [
        {
          "execution_count": 44,
          "output_type": "execute_result",
          "data": {
            "text/plain": "array([[ 50.12],\n       [ 54.1 ],\n       [ 54.65],\n       ...,\n       [773.18],\n       [771.61],\n       [782.22]])"
          },
          "metadata": {}
        }
      ]
    },
    {
      "cell_type": "code",
      "source": "pokemon.index\ngoogle.index",
      "metadata": {
        "collapsed": false,
        "jupyter": {
          "outputs_hidden": false
        }
      },
      "execution_count": 79,
      "outputs": [
        {
          "execution_count": 79,
          "output_type": "execute_result",
          "data": {
            "text/plain": [
              "RangeIndex(start=0, stop=3012, step=1)"
            ]
          },
          "metadata": {}
        }
      ]
    },
    {
      "cell_type": "code",
      "source": "pokemon.dtypes\ngoogle.dtypes",
      "metadata": {
        "collapsed": false,
        "jupyter": {
          "outputs_hidden": false
        },
        "trusted": true
      },
      "execution_count": 47,
      "outputs": [
        {
          "execution_count": 47,
          "output_type": "execute_result",
          "data": {
            "text/plain": "Stock Price    float64\ndtype: object"
          },
          "metadata": {}
        }
      ]
    },
    {
      "cell_type": "code",
      "source": "pokemon.ndim\ngoogle.ndim",
      "metadata": {
        "collapsed": false,
        "jupyter": {
          "outputs_hidden": false
        }
      },
      "execution_count": 85,
      "outputs": [
        {
          "execution_count": 85,
          "output_type": "execute_result",
          "data": {
            "text/plain": [
              "1"
            ]
          },
          "metadata": {}
        }
      ]
    },
    {
      "cell_type": "code",
      "source": "pokemon.shape\ngoogle.shape",
      "metadata": {
        "collapsed": false,
        "jupyter": {
          "outputs_hidden": false
        }
      },
      "execution_count": 87,
      "outputs": [
        {
          "execution_count": 87,
          "output_type": "execute_result",
          "data": {
            "text/plain": [
              "(3012,)"
            ]
          },
          "metadata": {}
        }
      ]
    },
    {
      "cell_type": "code",
      "source": "pokemon.size\ngoogle.size",
      "metadata": {
        "collapsed": false,
        "jupyter": {
          "outputs_hidden": false
        }
      },
      "execution_count": 89,
      "outputs": [
        {
          "execution_count": 89,
          "output_type": "execute_result",
          "data": {
            "text/plain": [
              "3012"
            ]
          },
          "metadata": {}
        }
      ]
    },
    {
      "cell_type": "code",
      "source": "pokemon.name = \"Pocket Monsters\"",
      "metadata": {
        "collapsed": false,
        "jupyter": {
          "outputs_hidden": false
        }
      },
      "execution_count": 93,
      "outputs": []
    },
    {
      "cell_type": "code",
      "source": "pokemon.head()",
      "metadata": {
        "collapsed": false,
        "jupyter": {
          "outputs_hidden": false
        }
      },
      "execution_count": 94,
      "outputs": [
        {
          "execution_count": 94,
          "output_type": "execute_result",
          "data": {
            "text/plain": [
              "0     Bulbasaur\n",
              "1       Ivysaur\n",
              "2      Venusaur\n",
              "3    Charmander\n",
              "4    Charmeleon\n",
              "Name: Pocket Monsters, dtype: object"
            ]
          },
          "metadata": {}
        }
      ]
    },
    {
      "cell_type": "markdown",
      "source": "## The `.sort_values()` Method",
      "metadata": {}
    },
    {
      "cell_type": "code",
      "source": "pokemon = pd.read_csv(\"pokemon.csv\", usecols = [\"Pokemon\"])\ngoogle = pd.read_csv(\"google_stock_price.csv\")",
      "metadata": {
        "collapsed": true,
        "jupyter": {
          "outputs_hidden": true
        }
      },
      "execution_count": 95,
      "outputs": []
    },
    {
      "cell_type": "code",
      "source": "pokemon.sort_values().head()",
      "metadata": {
        "collapsed": false,
        "jupyter": {
          "outputs_hidden": false
        }
      },
      "execution_count": 97,
      "outputs": [
        {
          "execution_count": 97,
          "output_type": "execute_result",
          "data": {
            "text/plain": [
              "459    Abomasnow\n",
              "62          Abra\n",
              "358        Absol\n",
              "616     Accelgor\n",
              "680    Aegislash\n",
              "Name: Pokemon, dtype: object"
            ]
          },
          "metadata": {}
        }
      ]
    },
    {
      "cell_type": "code",
      "source": "pokemon.tail()",
      "metadata": {
        "collapsed": false,
        "jupyter": {
          "outputs_hidden": false
        },
        "trusted": true
      },
      "execution_count": 51,
      "outputs": [
        {
          "execution_count": 51,
          "output_type": "execute_result",
          "data": {
            "text/plain": "       Pokemon\n716    Yveltal\n717    Zygarde\n718    Diancie\n719      Hoopa\n720  Volcanion",
            "text/html": "<div>\n<style scoped>\n    .dataframe tbody tr th:only-of-type {\n        vertical-align: middle;\n    }\n\n    .dataframe tbody tr th {\n        vertical-align: top;\n    }\n\n    .dataframe thead th {\n        text-align: right;\n    }\n</style>\n<table border=\"1\" class=\"dataframe\">\n  <thead>\n    <tr style=\"text-align: right;\">\n      <th></th>\n      <th>Pokemon</th>\n    </tr>\n  </thead>\n  <tbody>\n    <tr>\n      <th>716</th>\n      <td>Yveltal</td>\n    </tr>\n    <tr>\n      <th>717</th>\n      <td>Zygarde</td>\n    </tr>\n    <tr>\n      <th>718</th>\n      <td>Diancie</td>\n    </tr>\n    <tr>\n      <th>719</th>\n      <td>Hoopa</td>\n    </tr>\n    <tr>\n      <th>720</th>\n      <td>Volcanion</td>\n    </tr>\n  </tbody>\n</table>\n</div>"
          },
          "metadata": {}
        }
      ]
    },
    {
      "cell_type": "code",
      "source": "pokemon.sort_values(by=['Pokemon']).tail(10)",
      "metadata": {
        "trusted": true
      },
      "execution_count": 53,
      "outputs": [
        {
          "execution_count": 53,
          "output_type": "execute_result",
          "data": {
            "text/plain": "       Pokemon\n334   Zangoose\n144     Zapdos\n522  Zebstrika\n643     Zekrom\n262  Zigzagoon\n570    Zoroark\n569      Zorua\n40       Zubat\n633   Zweilous\n717    Zygarde",
            "text/html": "<div>\n<style scoped>\n    .dataframe tbody tr th:only-of-type {\n        vertical-align: middle;\n    }\n\n    .dataframe tbody tr th {\n        vertical-align: top;\n    }\n\n    .dataframe thead th {\n        text-align: right;\n    }\n</style>\n<table border=\"1\" class=\"dataframe\">\n  <thead>\n    <tr style=\"text-align: right;\">\n      <th></th>\n      <th>Pokemon</th>\n    </tr>\n  </thead>\n  <tbody>\n    <tr>\n      <th>334</th>\n      <td>Zangoose</td>\n    </tr>\n    <tr>\n      <th>144</th>\n      <td>Zapdos</td>\n    </tr>\n    <tr>\n      <th>522</th>\n      <td>Zebstrika</td>\n    </tr>\n    <tr>\n      <th>643</th>\n      <td>Zekrom</td>\n    </tr>\n    <tr>\n      <th>262</th>\n      <td>Zigzagoon</td>\n    </tr>\n    <tr>\n      <th>570</th>\n      <td>Zoroark</td>\n    </tr>\n    <tr>\n      <th>569</th>\n      <td>Zorua</td>\n    </tr>\n    <tr>\n      <th>40</th>\n      <td>Zubat</td>\n    </tr>\n    <tr>\n      <th>633</th>\n      <td>Zweilous</td>\n    </tr>\n    <tr>\n      <th>717</th>\n      <td>Zygarde</td>\n    </tr>\n  </tbody>\n</table>\n</div>"
          },
          "metadata": {}
        }
      ]
    },
    {
      "cell_type": "code",
      "source": "google.head(5)",
      "metadata": {
        "trusted": true
      },
      "execution_count": 55,
      "outputs": [
        {
          "execution_count": 55,
          "output_type": "execute_result",
          "data": {
            "text/plain": "   Stock Price\n0        50.12\n1        54.10\n2        54.65\n3        52.38\n4        52.95",
            "text/html": "<div>\n<style scoped>\n    .dataframe tbody tr th:only-of-type {\n        vertical-align: middle;\n    }\n\n    .dataframe tbody tr th {\n        vertical-align: top;\n    }\n\n    .dataframe thead th {\n        text-align: right;\n    }\n</style>\n<table border=\"1\" class=\"dataframe\">\n  <thead>\n    <tr style=\"text-align: right;\">\n      <th></th>\n      <th>Stock Price</th>\n    </tr>\n  </thead>\n  <tbody>\n    <tr>\n      <th>0</th>\n      <td>50.12</td>\n    </tr>\n    <tr>\n      <th>1</th>\n      <td>54.10</td>\n    </tr>\n    <tr>\n      <th>2</th>\n      <td>54.65</td>\n    </tr>\n    <tr>\n      <th>3</th>\n      <td>52.38</td>\n    </tr>\n    <tr>\n      <th>4</th>\n      <td>52.95</td>\n    </tr>\n  </tbody>\n</table>\n</div>"
          },
          "metadata": {}
        }
      ]
    },
    {
      "cell_type": "code",
      "source": "google.sort_values(by=['Stock Price']).head(5)",
      "metadata": {
        "collapsed": false,
        "jupyter": {
          "outputs_hidden": false
        },
        "trusted": true
      },
      "execution_count": 56,
      "outputs": [
        {
          "execution_count": 56,
          "output_type": "execute_result",
          "data": {
            "text/plain": "    Stock Price\n11        49.95\n9         50.07\n0         50.12\n10        50.70\n12        50.74",
            "text/html": "<div>\n<style scoped>\n    .dataframe tbody tr th:only-of-type {\n        vertical-align: middle;\n    }\n\n    .dataframe tbody tr th {\n        vertical-align: top;\n    }\n\n    .dataframe thead th {\n        text-align: right;\n    }\n</style>\n<table border=\"1\" class=\"dataframe\">\n  <thead>\n    <tr style=\"text-align: right;\">\n      <th></th>\n      <th>Stock Price</th>\n    </tr>\n  </thead>\n  <tbody>\n    <tr>\n      <th>11</th>\n      <td>49.95</td>\n    </tr>\n    <tr>\n      <th>9</th>\n      <td>50.07</td>\n    </tr>\n    <tr>\n      <th>0</th>\n      <td>50.12</td>\n    </tr>\n    <tr>\n      <th>10</th>\n      <td>50.70</td>\n    </tr>\n    <tr>\n      <th>12</th>\n      <td>50.74</td>\n    </tr>\n  </tbody>\n</table>\n</div>"
          },
          "metadata": {}
        }
      ]
    },
    {
      "cell_type": "code",
      "source": "google",
      "metadata": {
        "collapsed": false,
        "jupyter": {
          "outputs_hidden": false
        },
        "trusted": true
      },
      "execution_count": 57,
      "outputs": [
        {
          "execution_count": 57,
          "output_type": "execute_result",
          "data": {
            "text/plain": "      Stock Price\n0           50.12\n1           54.10\n2           54.65\n3           52.38\n4           52.95\n...           ...\n3007       772.88\n3008       771.07\n3009       773.18\n3010       771.61\n3011       782.22\n\n[3012 rows x 1 columns]",
            "text/html": "<div>\n<style scoped>\n    .dataframe tbody tr th:only-of-type {\n        vertical-align: middle;\n    }\n\n    .dataframe tbody tr th {\n        vertical-align: top;\n    }\n\n    .dataframe thead th {\n        text-align: right;\n    }\n</style>\n<table border=\"1\" class=\"dataframe\">\n  <thead>\n    <tr style=\"text-align: right;\">\n      <th></th>\n      <th>Stock Price</th>\n    </tr>\n  </thead>\n  <tbody>\n    <tr>\n      <th>0</th>\n      <td>50.12</td>\n    </tr>\n    <tr>\n      <th>1</th>\n      <td>54.10</td>\n    </tr>\n    <tr>\n      <th>2</th>\n      <td>54.65</td>\n    </tr>\n    <tr>\n      <th>3</th>\n      <td>52.38</td>\n    </tr>\n    <tr>\n      <th>4</th>\n      <td>52.95</td>\n    </tr>\n    <tr>\n      <th>...</th>\n      <td>...</td>\n    </tr>\n    <tr>\n      <th>3007</th>\n      <td>772.88</td>\n    </tr>\n    <tr>\n      <th>3008</th>\n      <td>771.07</td>\n    </tr>\n    <tr>\n      <th>3009</th>\n      <td>773.18</td>\n    </tr>\n    <tr>\n      <th>3010</th>\n      <td>771.61</td>\n    </tr>\n    <tr>\n      <th>3011</th>\n      <td>782.22</td>\n    </tr>\n  </tbody>\n</table>\n<p>3012 rows × 1 columns</p>\n</div>"
          },
          "metadata": {}
        }
      ]
    },
    {
      "cell_type": "markdown",
      "source": "## The `inplace` Parameter",
      "metadata": {}
    },
    {
      "cell_type": "code",
      "source": "pokemon = pd.read_csv(\"pokemon.csv\", usecols = [\"Pokemon\"])\ngoogle = pd.read_csv(\"google_stock_price.csv\")",
      "metadata": {
        "collapsed": true,
        "jupyter": {
          "outputs_hidden": true
        }
      },
      "execution_count": 112,
      "outputs": []
    },
    {
      "cell_type": "code",
      "source": "google.head(3)",
      "metadata": {
        "collapsed": false,
        "jupyter": {
          "outputs_hidden": false
        },
        "trusted": true
      },
      "execution_count": 59,
      "outputs": [
        {
          "execution_count": 59,
          "output_type": "execute_result",
          "data": {
            "text/plain": "   Stock Price\n0        50.12\n1        54.10\n2        54.65",
            "text/html": "<div>\n<style scoped>\n    .dataframe tbody tr th:only-of-type {\n        vertical-align: middle;\n    }\n\n    .dataframe tbody tr th {\n        vertical-align: top;\n    }\n\n    .dataframe thead th {\n        text-align: right;\n    }\n</style>\n<table border=\"1\" class=\"dataframe\">\n  <thead>\n    <tr style=\"text-align: right;\">\n      <th></th>\n      <th>Stock Price</th>\n    </tr>\n  </thead>\n  <tbody>\n    <tr>\n      <th>0</th>\n      <td>50.12</td>\n    </tr>\n    <tr>\n      <th>1</th>\n      <td>54.10</td>\n    </tr>\n    <tr>\n      <th>2</th>\n      <td>54.65</td>\n    </tr>\n  </tbody>\n</table>\n</div>"
          },
          "metadata": {}
        }
      ]
    },
    {
      "cell_type": "code",
      "source": "google = google.sort_values()",
      "metadata": {
        "collapsed": false,
        "jupyter": {
          "outputs_hidden": false
        }
      },
      "execution_count": 115,
      "outputs": []
    },
    {
      "cell_type": "code",
      "source": "google.head(3)",
      "metadata": {
        "collapsed": false,
        "jupyter": {
          "outputs_hidden": false
        }
      },
      "execution_count": 118,
      "outputs": [
        {
          "execution_count": 118,
          "output_type": "execute_result",
          "data": {
            "text/plain": [
              "11    49.95\n",
              "9     50.07\n",
              "0     50.12\n",
              "Name: Stock Price, dtype: float64"
            ]
          },
          "metadata": {}
        }
      ]
    },
    {
      "cell_type": "code",
      "source": "google.sort_values(by=['Stock Price']).head(5)",
      "metadata": {
        "collapsed": false,
        "jupyter": {
          "outputs_hidden": false
        },
        "trusted": true
      },
      "execution_count": 60,
      "outputs": [
        {
          "execution_count": 60,
          "output_type": "execute_result",
          "data": {
            "text/plain": "    Stock Price\n11        49.95\n9         50.07\n0         50.12\n10        50.70\n12        50.74",
            "text/html": "<div>\n<style scoped>\n    .dataframe tbody tr th:only-of-type {\n        vertical-align: middle;\n    }\n\n    .dataframe tbody tr th {\n        vertical-align: top;\n    }\n\n    .dataframe thead th {\n        text-align: right;\n    }\n</style>\n<table border=\"1\" class=\"dataframe\">\n  <thead>\n    <tr style=\"text-align: right;\">\n      <th></th>\n      <th>Stock Price</th>\n    </tr>\n  </thead>\n  <tbody>\n    <tr>\n      <th>11</th>\n      <td>49.95</td>\n    </tr>\n    <tr>\n      <th>9</th>\n      <td>50.07</td>\n    </tr>\n    <tr>\n      <th>0</th>\n      <td>50.12</td>\n    </tr>\n    <tr>\n      <th>10</th>\n      <td>50.70</td>\n    </tr>\n    <tr>\n      <th>12</th>\n      <td>50.74</td>\n    </tr>\n  </tbody>\n</table>\n</div>"
          },
          "metadata": {}
        }
      ]
    },
    {
      "cell_type": "code",
      "source": "google.head(3)",
      "metadata": {
        "collapsed": false,
        "jupyter": {
          "outputs_hidden": false
        }
      },
      "execution_count": 120,
      "outputs": [
        {
          "execution_count": 120,
          "output_type": "execute_result",
          "data": {
            "text/plain": [
              "3011    782.22\n",
              "2859    776.60\n",
              "3009    773.18\n",
              "Name: Stock Price, dtype: float64"
            ]
          },
          "metadata": {}
        }
      ]
    },
    {
      "cell_type": "markdown",
      "source": "## The `.sort_index()` Method",
      "metadata": {}
    },
    {
      "cell_type": "code",
      "source": "pokemon = pd.read_csv(\"pokemon.csv\", usecols = [\"Pokemon\"])\ngoogle = pd.read_csv(\"google_stock_price.csv\")",
      "metadata": {
        "tags": [],
        "trusted": true
      },
      "execution_count": 61,
      "outputs": []
    },
    {
      "cell_type": "code",
      "source": "pokemon.sort_values(by=['Pokemon'], inplace = True)",
      "metadata": {
        "collapsed": false,
        "jupyter": {
          "outputs_hidden": false
        },
        "trusted": true
      },
      "execution_count": 65,
      "outputs": []
    },
    {
      "cell_type": "code",
      "source": "pokemon.head(5)",
      "metadata": {
        "collapsed": false,
        "jupyter": {
          "outputs_hidden": false
        },
        "trusted": true
      },
      "execution_count": 67,
      "outputs": [
        {
          "execution_count": 67,
          "output_type": "execute_result",
          "data": {
            "text/plain": "       Pokemon\n459  Abomasnow\n62        Abra\n358      Absol\n616   Accelgor\n680  Aegislash",
            "text/html": "<div>\n<style scoped>\n    .dataframe tbody tr th:only-of-type {\n        vertical-align: middle;\n    }\n\n    .dataframe tbody tr th {\n        vertical-align: top;\n    }\n\n    .dataframe thead th {\n        text-align: right;\n    }\n</style>\n<table border=\"1\" class=\"dataframe\">\n  <thead>\n    <tr style=\"text-align: right;\">\n      <th></th>\n      <th>Pokemon</th>\n    </tr>\n  </thead>\n  <tbody>\n    <tr>\n      <th>459</th>\n      <td>Abomasnow</td>\n    </tr>\n    <tr>\n      <th>62</th>\n      <td>Abra</td>\n    </tr>\n    <tr>\n      <th>358</th>\n      <td>Absol</td>\n    </tr>\n    <tr>\n      <th>616</th>\n      <td>Accelgor</td>\n    </tr>\n    <tr>\n      <th>680</th>\n      <td>Aegislash</td>\n    </tr>\n  </tbody>\n</table>\n</div>"
          },
          "metadata": {}
        }
      ]
    },
    {
      "cell_type": "code",
      "source": "pokemon.sort_index(ascending = True, inplace = True)",
      "metadata": {
        "collapsed": false,
        "jupyter": {
          "outputs_hidden": false
        }
      },
      "execution_count": 138,
      "outputs": []
    },
    {
      "cell_type": "markdown",
      "source": "## Python's `in` Keyword",
      "metadata": {}
    },
    {
      "cell_type": "code",
      "source": "pokemon = pd.read_csv(\"pokemon.csv\", usecols = [\"Pokemon\"])\ngoogle = pd.read_csv(\"google_stock_price.csv\")",
      "metadata": {
        "collapsed": true,
        "jupyter": {
          "outputs_hidden": true
        }
      },
      "execution_count": 149,
      "outputs": []
    },
    {
      "cell_type": "code",
      "source": "100 in [1, 2, 3, 4, 5]",
      "metadata": {
        "collapsed": false,
        "jupyter": {
          "outputs_hidden": false
        }
      },
      "execution_count": 151,
      "outputs": [
        {
          "execution_count": 151,
          "output_type": "execute_result",
          "data": {
            "text/plain": [
              "False"
            ]
          },
          "metadata": {}
        }
      ]
    },
    {
      "cell_type": "code",
      "source": "pokemon.head(3)",
      "metadata": {
        "collapsed": false,
        "jupyter": {
          "outputs_hidden": false
        }
      },
      "execution_count": 152,
      "outputs": [
        {
          "execution_count": 152,
          "output_type": "execute_result",
          "data": {
            "text/plain": [
              "0    Bulbasaur\n",
              "1      Ivysaur\n",
              "2     Venusaur\n",
              "Name: Pokemon, dtype: object"
            ]
          },
          "metadata": {}
        }
      ]
    },
    {
      "cell_type": "code",
      "source": "100 in pokemon\n100 in pokemon.index",
      "metadata": {
        "collapsed": false,
        "jupyter": {
          "outputs_hidden": false
        },
        "trusted": true
      },
      "execution_count": 68,
      "outputs": [
        {
          "execution_count": 68,
          "output_type": "execute_result",
          "data": {
            "text/plain": "True"
          },
          "metadata": {}
        }
      ]
    },
    {
      "cell_type": "code",
      "source": "pokemon.index",
      "metadata": {
        "collapsed": false,
        "jupyter": {
          "outputs_hidden": false
        }
      },
      "execution_count": 156,
      "outputs": [
        {
          "execution_count": 156,
          "output_type": "execute_result",
          "data": {
            "text/plain": [
              "RangeIndex(start=0, stop=721, step=1)"
            ]
          },
          "metadata": {}
        }
      ]
    },
    {
      "cell_type": "code",
      "source": "\"Digimon\" in pokemon.values",
      "metadata": {
        "collapsed": false,
        "jupyter": {
          "outputs_hidden": false
        }
      },
      "execution_count": 161,
      "outputs": [
        {
          "execution_count": 161,
          "output_type": "execute_result",
          "data": {
            "text/plain": [
              "False"
            ]
          },
          "metadata": {}
        }
      ]
    },
    {
      "cell_type": "code",
      "source": "",
      "metadata": {},
      "execution_count": null,
      "outputs": []
    },
    {
      "cell_type": "code",
      "source": "",
      "metadata": {},
      "execution_count": null,
      "outputs": []
    },
    {
      "cell_type": "code",
      "source": "",
      "metadata": {},
      "execution_count": null,
      "outputs": []
    },
    {
      "cell_type": "code",
      "source": "",
      "metadata": {},
      "execution_count": null,
      "outputs": []
    },
    {
      "cell_type": "markdown",
      "source": "## Extract Values by Index Position",
      "metadata": {}
    },
    {
      "cell_type": "code",
      "source": "pokemon = pd.read_csv(\"pokemon.csv\", usecols = [\"Pokemon\"])\ngoogle = pd.read_csv(\"google_stock_price.csv\")",
      "metadata": {
        "tags": [],
        "trusted": true
      },
      "execution_count": 70,
      "outputs": []
    },
    {
      "cell_type": "code",
      "source": "pokemon.head(3)",
      "metadata": {
        "collapsed": false,
        "jupyter": {
          "outputs_hidden": false
        },
        "trusted": true
      },
      "execution_count": 71,
      "outputs": [
        {
          "execution_count": 71,
          "output_type": "execute_result",
          "data": {
            "text/plain": "     Pokemon\n0  Bulbasaur\n1    Ivysaur\n2   Venusaur",
            "text/html": "<div>\n<style scoped>\n    .dataframe tbody tr th:only-of-type {\n        vertical-align: middle;\n    }\n\n    .dataframe tbody tr th {\n        vertical-align: top;\n    }\n\n    .dataframe thead th {\n        text-align: right;\n    }\n</style>\n<table border=\"1\" class=\"dataframe\">\n  <thead>\n    <tr style=\"text-align: right;\">\n      <th></th>\n      <th>Pokemon</th>\n    </tr>\n  </thead>\n  <tbody>\n    <tr>\n      <th>0</th>\n      <td>Bulbasaur</td>\n    </tr>\n    <tr>\n      <th>1</th>\n      <td>Ivysaur</td>\n    </tr>\n    <tr>\n      <th>2</th>\n      <td>Venusaur</td>\n    </tr>\n  </tbody>\n</table>\n</div>"
          },
          "metadata": {}
        }
      ]
    },
    {
      "cell_type": "code",
      "source": "pokemon.head(4)\n\n\n# pokemon[[100, 200, 300]]\n\n# pokemon[50:101]\n\n# pokemon[:50]\n\n# pokemon[-30:]\n\n# pokemon[-30 : -10]",
      "metadata": {
        "tags": [],
        "trusted": true
      },
      "execution_count": 150,
      "outputs": [
        {
          "execution_count": 150,
          "output_type": "execute_result",
          "data": {
            "text/plain": "             Type\nPokemon          \nBulbasaur   Grass\nIvysaur     Grass\nVenusaur    Grass\nCharmander   Fire",
            "text/html": "<div>\n<style scoped>\n    .dataframe tbody tr th:only-of-type {\n        vertical-align: middle;\n    }\n\n    .dataframe tbody tr th {\n        vertical-align: top;\n    }\n\n    .dataframe thead th {\n        text-align: right;\n    }\n</style>\n<table border=\"1\" class=\"dataframe\">\n  <thead>\n    <tr style=\"text-align: right;\">\n      <th></th>\n      <th>Type</th>\n    </tr>\n    <tr>\n      <th>Pokemon</th>\n      <th></th>\n    </tr>\n  </thead>\n  <tbody>\n    <tr>\n      <th>Bulbasaur</th>\n      <td>Grass</td>\n    </tr>\n    <tr>\n      <th>Ivysaur</th>\n      <td>Grass</td>\n    </tr>\n    <tr>\n      <th>Venusaur</th>\n      <td>Grass</td>\n    </tr>\n    <tr>\n      <th>Charmander</th>\n      <td>Fire</td>\n    </tr>\n  </tbody>\n</table>\n</div>"
          },
          "metadata": {}
        }
      ]
    },
    {
      "cell_type": "code",
      "source": "pokemon",
      "metadata": {
        "trusted": true
      },
      "execution_count": 94,
      "outputs": [
        {
          "execution_count": 94,
          "output_type": "execute_result",
          "data": {
            "text/plain": "        Pokemon\n0     Bulbasaur\n1       Ivysaur\n2      Venusaur\n3    Charmander\n4    Charmeleon\n..          ...\n716     Yveltal\n717     Zygarde\n718     Diancie\n719       Hoopa\n720   Volcanion\n\n[721 rows x 1 columns]",
            "text/html": "<div>\n<style scoped>\n    .dataframe tbody tr th:only-of-type {\n        vertical-align: middle;\n    }\n\n    .dataframe tbody tr th {\n        vertical-align: top;\n    }\n\n    .dataframe thead th {\n        text-align: right;\n    }\n</style>\n<table border=\"1\" class=\"dataframe\">\n  <thead>\n    <tr style=\"text-align: right;\">\n      <th></th>\n      <th>Pokemon</th>\n    </tr>\n  </thead>\n  <tbody>\n    <tr>\n      <th>0</th>\n      <td>Bulbasaur</td>\n    </tr>\n    <tr>\n      <th>1</th>\n      <td>Ivysaur</td>\n    </tr>\n    <tr>\n      <th>2</th>\n      <td>Venusaur</td>\n    </tr>\n    <tr>\n      <th>3</th>\n      <td>Charmander</td>\n    </tr>\n    <tr>\n      <th>4</th>\n      <td>Charmeleon</td>\n    </tr>\n    <tr>\n      <th>...</th>\n      <td>...</td>\n    </tr>\n    <tr>\n      <th>716</th>\n      <td>Yveltal</td>\n    </tr>\n    <tr>\n      <th>717</th>\n      <td>Zygarde</td>\n    </tr>\n    <tr>\n      <th>718</th>\n      <td>Diancie</td>\n    </tr>\n    <tr>\n      <th>719</th>\n      <td>Hoopa</td>\n    </tr>\n    <tr>\n      <th>720</th>\n      <td>Volcanion</td>\n    </tr>\n  </tbody>\n</table>\n<p>721 rows × 1 columns</p>\n</div>"
          },
          "metadata": {}
        }
      ]
    },
    {
      "cell_type": "code",
      "source": "guitars_dict = {\n    \"Fender Telecaster\": \"Baby Blue\",\n    \"Gibson Les Paul\": \"Sunburst\",\n    \"ESP Eclipse\": \"Dark Green\"\n}",
      "metadata": {
        "trusted": true
      },
      "execution_count": 88,
      "outputs": []
    },
    {
      "cell_type": "code",
      "source": "guitars = pd.Series(guitars_dict)\n \n# Access the value for the index position of 0 within the \"guitars\" Series.\n# Assign the value to a \"fender_color\" variable.\nfender_color = guitars[0]",
      "metadata": {
        "trusted": true
      },
      "execution_count": 90,
      "outputs": []
    },
    {
      "cell_type": "code",
      "source": "fender_color",
      "metadata": {
        "trusted": true
      },
      "execution_count": 91,
      "outputs": [
        {
          "execution_count": 91,
          "output_type": "execute_result",
          "data": {
            "text/plain": "'Baby Blue'"
          },
          "metadata": {}
        }
      ]
    },
    {
      "cell_type": "code",
      "source": "guitars",
      "metadata": {
        "trusted": true
      },
      "execution_count": 93,
      "outputs": [
        {
          "execution_count": 93,
          "output_type": "execute_result",
          "data": {
            "text/plain": "Fender Telecaster     Baby Blue\nGibson Les Paul        Sunburst\nESP Eclipse          Dark Green\ndtype: object"
          },
          "metadata": {}
        }
      ]
    },
    {
      "cell_type": "code",
      "source": "",
      "metadata": {},
      "execution_count": null,
      "outputs": []
    },
    {
      "cell_type": "markdown",
      "source": "## Extract Values by Index Label",
      "metadata": {}
    },
    {
      "cell_type": "code",
      "source": "pokemon = pd.read_csv(\"pokemon.csv\", index_col = \"Pokemon\")\npokemon.head(3)",
      "metadata": {
        "collapsed": false,
        "jupyter": {
          "outputs_hidden": false
        }
      },
      "execution_count": 176,
      "outputs": [
        {
          "execution_count": 176,
          "output_type": "execute_result",
          "data": {
            "text/plain": [
              "Pokemon\n",
              "Bulbasaur    Grass\n",
              "Ivysaur      Grass\n",
              "Venusaur     Grass\n",
              "Name: Type, dtype: object"
            ]
          },
          "metadata": {}
        }
      ]
    },
    {
      "cell_type": "code",
      "source": "pokemon[[100, 134]]",
      "metadata": {
        "collapsed": false,
        "jupyter": {
          "outputs_hidden": false
        }
      },
      "execution_count": 178,
      "outputs": [
        {
          "execution_count": 178,
          "output_type": "execute_result",
          "data": {
            "text/plain": [
              "Pokemon\n",
              "Electrode    Electric\n",
              "Jolteon      Electric\n",
              "Name: Type, dtype: object"
            ]
          },
          "metadata": {}
        }
      ]
    },
    {
      "cell_type": "code",
      "source": "pokemon[\"Bulbasaur\"]\npokemon[\"Ditto\"]\npokemon[[\"Charizard\", \"Jolteon\"]]\npokemon[[\"Blastoise\", \"Venusaur\", \"Meowth\"]]\n\npokemon[[\"Pikachu\", \"Digimon\"]]\n\npokemon[\"Bulbasaur\" : \"Pikachu\"]",
      "metadata": {
        "collapsed": false,
        "jupyter": {
          "outputs_hidden": false
        }
      },
      "execution_count": 185,
      "outputs": [
        {
          "execution_count": 185,
          "output_type": "execute_result",
          "data": {
            "text/plain": [
              "Pokemon\n",
              "Bulbasaur        Grass\n",
              "Ivysaur          Grass\n",
              "Venusaur         Grass\n",
              "Charmander        Fire\n",
              "Charmeleon        Fire\n",
              "Charizard         Fire\n",
              "Squirtle         Water\n",
              "Wartortle        Water\n",
              "Blastoise        Water\n",
              "Caterpie           Bug\n",
              "Metapod            Bug\n",
              "Butterfree         Bug\n",
              "Weedle             Bug\n",
              "Kakuna             Bug\n",
              "Beedrill           Bug\n",
              "Pidgey          Normal\n",
              "Pidgeotto       Normal\n",
              "Pidgeot         Normal\n",
              "Rattata         Normal\n",
              "Raticate        Normal\n",
              "Spearow         Normal\n",
              "Fearow          Normal\n",
              "Ekans           Poison\n",
              "Arbok           Poison\n",
              "Pikachu       Electric\n",
              "Name: Type, dtype: object"
            ]
          },
          "metadata": {}
        }
      ]
    },
    {
      "cell_type": "markdown",
      "source": "## The `.get()` Method on a `Series`",
      "metadata": {}
    },
    {
      "cell_type": "code",
      "source": "pokemon = pd.read_csv(\"pokemon.csv\", index_col = \"Pokemon\")\npokemon.sort_index(inplace = True)\npokemon.head(3)",
      "metadata": {
        "collapsed": false,
        "jupyter": {
          "outputs_hidden": false
        },
        "trusted": true
      },
      "execution_count": 115,
      "outputs": [
        {
          "execution_count": 115,
          "output_type": "execute_result",
          "data": {
            "text/plain": "              Type\nPokemon           \nAbomasnow    Grass\nAbra       Psychic\nAbsol         Dark",
            "text/html": "<div>\n<style scoped>\n    .dataframe tbody tr th:only-of-type {\n        vertical-align: middle;\n    }\n\n    .dataframe tbody tr th {\n        vertical-align: top;\n    }\n\n    .dataframe thead th {\n        text-align: right;\n    }\n</style>\n<table border=\"1\" class=\"dataframe\">\n  <thead>\n    <tr style=\"text-align: right;\">\n      <th></th>\n      <th>Type</th>\n    </tr>\n    <tr>\n      <th>Pokemon</th>\n      <th></th>\n    </tr>\n  </thead>\n  <tbody>\n    <tr>\n      <th>Abomasnow</th>\n      <td>Grass</td>\n    </tr>\n    <tr>\n      <th>Abra</th>\n      <td>Psychic</td>\n    </tr>\n    <tr>\n      <th>Absol</th>\n      <td>Dark</td>\n    </tr>\n  </tbody>\n</table>\n</div>"
          },
          "metadata": {}
        }
      ]
    },
    {
      "cell_type": "code",
      "source": "a = pokemon.get(\"Abomasnow\")",
      "metadata": {
        "trusted": true
      },
      "execution_count": 110,
      "outputs": []
    },
    {
      "cell_type": "code",
      "source": "print(a)",
      "metadata": {
        "trusted": true
      },
      "execution_count": 111,
      "outputs": [
        {
          "name": "stdout",
          "text": "None\n",
          "output_type": "stream"
        }
      ]
    },
    {
      "cell_type": "code",
      "source": "print(pokemon.get(0))",
      "metadata": {
        "tags": [],
        "trusted": true
      },
      "execution_count": 123,
      "outputs": [
        {
          "name": "stdout",
          "text": "None\n",
          "output_type": "stream"
        }
      ]
    },
    {
      "cell_type": "code",
      "source": "",
      "metadata": {},
      "execution_count": null,
      "outputs": []
    },
    {
      "cell_type": "code",
      "source": "",
      "metadata": {},
      "execution_count": null,
      "outputs": []
    },
    {
      "cell_type": "code",
      "source": "",
      "metadata": {},
      "execution_count": null,
      "outputs": []
    },
    {
      "cell_type": "code",
      "source": "pokemon.head(5)",
      "metadata": {
        "trusted": true
      },
      "execution_count": 124,
      "outputs": [
        {
          "execution_count": 124,
          "output_type": "execute_result",
          "data": {
            "text/plain": "              Type\nPokemon           \nAbomasnow    Grass\nAbra       Psychic\nAbsol         Dark\nAccelgor       Bug\nAegislash    Steel",
            "text/html": "<div>\n<style scoped>\n    .dataframe tbody tr th:only-of-type {\n        vertical-align: middle;\n    }\n\n    .dataframe tbody tr th {\n        vertical-align: top;\n    }\n\n    .dataframe thead th {\n        text-align: right;\n    }\n</style>\n<table border=\"1\" class=\"dataframe\">\n  <thead>\n    <tr style=\"text-align: right;\">\n      <th></th>\n      <th>Type</th>\n    </tr>\n    <tr>\n      <th>Pokemon</th>\n      <th></th>\n    </tr>\n  </thead>\n  <tbody>\n    <tr>\n      <th>Abomasnow</th>\n      <td>Grass</td>\n    </tr>\n    <tr>\n      <th>Abra</th>\n      <td>Psychic</td>\n    </tr>\n    <tr>\n      <th>Absol</th>\n      <td>Dark</td>\n    </tr>\n    <tr>\n      <th>Accelgor</th>\n      <td>Bug</td>\n    </tr>\n    <tr>\n      <th>Aegislash</th>\n      <td>Steel</td>\n    </tr>\n  </tbody>\n</table>\n</div>"
          },
          "metadata": {}
        }
      ]
    },
    {
      "cell_type": "code",
      "source": "pokemon.get(key = [\"Moltres\", \"Meowth\"])",
      "metadata": {
        "collapsed": false,
        "jupyter": {
          "outputs_hidden": false
        },
        "trusted": true
      },
      "execution_count": 119,
      "outputs": []
    },
    {
      "cell_type": "code",
      "source": "pokemon.get(key = \"Charizard\", default = \"This is not a Pokemon\")",
      "metadata": {
        "collapsed": false,
        "jupyter": {
          "outputs_hidden": false
        },
        "trusted": true
      },
      "execution_count": 120,
      "outputs": [
        {
          "execution_count": 120,
          "output_type": "execute_result",
          "data": {
            "text/plain": "'This is not a Pokemon'"
          },
          "metadata": {}
        }
      ]
    },
    {
      "cell_type": "code",
      "source": "pokemon.get(key = \"jksajk\", default = \"This is not a Pokemon\")",
      "metadata": {
        "collapsed": false,
        "jupyter": {
          "outputs_hidden": false
        },
        "trusted": true
      },
      "execution_count": 121,
      "outputs": [
        {
          "execution_count": 121,
          "output_type": "execute_result",
          "data": {
            "text/plain": "'This is not a Pokemon'"
          },
          "metadata": {}
        }
      ]
    },
    {
      "cell_type": "code",
      "source": "pokemon.get(key = \"Grass\", default = \"This is not a Pokemon\")",
      "metadata": {
        "trusted": true
      },
      "execution_count": 101,
      "outputs": [
        {
          "execution_count": 101,
          "output_type": "execute_result",
          "data": {
            "text/plain": "'This is not a Pokemon'"
          },
          "metadata": {}
        }
      ]
    },
    {
      "cell_type": "code",
      "source": "",
      "metadata": {},
      "execution_count": null,
      "outputs": []
    },
    {
      "cell_type": "code",
      "source": "",
      "metadata": {},
      "execution_count": null,
      "outputs": []
    },
    {
      "cell_type": "markdown",
      "source": "## Math Methods on `Series` Objects",
      "metadata": {}
    },
    {
      "cell_type": "code",
      "source": "google = pd.read_csv(\"google_stock_price.csv\")\ngoogle.head(3)",
      "metadata": {
        "collapsed": false,
        "jupyter": {
          "outputs_hidden": false
        }
      },
      "execution_count": 219,
      "outputs": [
        {
          "execution_count": 219,
          "output_type": "execute_result",
          "data": {
            "text/plain": [
              "0    50.12\n",
              "1    54.10\n",
              "2    54.65\n",
              "Name: Stock Price, dtype: float64"
            ]
          },
          "metadata": {}
        }
      ]
    },
    {
      "cell_type": "code",
      "source": "google.count()",
      "metadata": {
        "collapsed": false,
        "jupyter": {
          "outputs_hidden": false
        }
      },
      "execution_count": 220,
      "outputs": [
        {
          "execution_count": 220,
          "output_type": "execute_result",
          "data": {
            "text/plain": [
              "3012"
            ]
          },
          "metadata": {}
        }
      ]
    },
    {
      "cell_type": "code",
      "source": "len(google)",
      "metadata": {
        "collapsed": false,
        "jupyter": {
          "outputs_hidden": false
        }
      },
      "execution_count": 221,
      "outputs": [
        {
          "execution_count": 221,
          "output_type": "execute_result",
          "data": {
            "text/plain": [
              "3012"
            ]
          },
          "metadata": {}
        }
      ]
    },
    {
      "cell_type": "code",
      "source": "google.sum()",
      "metadata": {
        "collapsed": false,
        "jupyter": {
          "outputs_hidden": false
        }
      },
      "execution_count": 222,
      "outputs": [
        {
          "execution_count": 222,
          "output_type": "execute_result",
          "data": {
            "text/plain": [
              "1006942.0000000002"
            ]
          },
          "metadata": {}
        }
      ]
    },
    {
      "cell_type": "code",
      "source": "google.mean()",
      "metadata": {
        "collapsed": false,
        "jupyter": {
          "outputs_hidden": false
        }
      },
      "execution_count": 223,
      "outputs": [
        {
          "execution_count": 223,
          "output_type": "execute_result",
          "data": {
            "text/plain": [
              "334.31009296148744"
            ]
          },
          "metadata": {}
        }
      ]
    },
    {
      "cell_type": "code",
      "source": "google.sum() / google.count()",
      "metadata": {
        "collapsed": false,
        "jupyter": {
          "outputs_hidden": false
        }
      },
      "execution_count": 224,
      "outputs": [
        {
          "execution_count": 224,
          "output_type": "execute_result",
          "data": {
            "text/plain": [
              "334.31009296148744"
            ]
          },
          "metadata": {}
        }
      ]
    },
    {
      "cell_type": "code",
      "source": "google.std()",
      "metadata": {
        "collapsed": false,
        "jupyter": {
          "outputs_hidden": false
        }
      },
      "execution_count": 225,
      "outputs": [
        {
          "execution_count": 225,
          "output_type": "execute_result",
          "data": {
            "text/plain": [
              "173.18720477113106"
            ]
          },
          "metadata": {}
        }
      ]
    },
    {
      "cell_type": "code",
      "source": "google.min()",
      "metadata": {
        "collapsed": false,
        "jupyter": {
          "outputs_hidden": false
        }
      },
      "execution_count": 226,
      "outputs": [
        {
          "execution_count": 226,
          "output_type": "execute_result",
          "data": {
            "text/plain": [
              "49.950000000000003"
            ]
          },
          "metadata": {}
        }
      ]
    },
    {
      "cell_type": "code",
      "source": "google.max()",
      "metadata": {
        "collapsed": false,
        "jupyter": {
          "outputs_hidden": false
        }
      },
      "execution_count": 227,
      "outputs": [
        {
          "execution_count": 227,
          "output_type": "execute_result",
          "data": {
            "text/plain": [
              "782.22000000000003"
            ]
          },
          "metadata": {}
        }
      ]
    },
    {
      "cell_type": "code",
      "source": "google.median()",
      "metadata": {
        "collapsed": false,
        "jupyter": {
          "outputs_hidden": false
        }
      },
      "execution_count": 228,
      "outputs": [
        {
          "execution_count": 228,
          "output_type": "execute_result",
          "data": {
            "text/plain": [
              "283.315"
            ]
          },
          "metadata": {}
        }
      ]
    },
    {
      "cell_type": "code",
      "source": "google.mode()",
      "metadata": {
        "collapsed": false,
        "jupyter": {
          "outputs_hidden": false
        }
      },
      "execution_count": 229,
      "outputs": [
        {
          "execution_count": 229,
          "output_type": "execute_result",
          "data": {
            "text/plain": [
              "0    291.21\n",
              "dtype: float64"
            ]
          },
          "metadata": {}
        }
      ]
    },
    {
      "cell_type": "code",
      "source": "google.describe()",
      "metadata": {
        "collapsed": false,
        "jupyter": {
          "outputs_hidden": false
        }
      },
      "execution_count": 230,
      "outputs": [
        {
          "execution_count": 230,
          "output_type": "execute_result",
          "data": {
            "text/plain": [
              "count    3012.000000\n",
              "mean      334.310093\n",
              "std       173.187205\n",
              "min        49.950000\n",
              "25%       218.045000\n",
              "50%       283.315000\n",
              "75%       443.000000\n",
              "max       782.220000\n",
              "Name: Stock Price, dtype: float64"
            ]
          },
          "metadata": {}
        }
      ]
    },
    {
      "cell_type": "markdown",
      "source": "## The `.idxmax()` and `.idxmin()` Methods",
      "metadata": {}
    },
    {
      "cell_type": "code",
      "source": "google = pd.read_csv(\"google_stock_price.csv\")",
      "metadata": {
        "tags": [],
        "trusted": true
      },
      "execution_count": 125,
      "outputs": []
    },
    {
      "cell_type": "code",
      "source": "google.max()",
      "metadata": {
        "collapsed": false,
        "jupyter": {
          "outputs_hidden": false
        },
        "trusted": true
      },
      "execution_count": 126,
      "outputs": [
        {
          "execution_count": 126,
          "output_type": "execute_result",
          "data": {
            "text/plain": "Stock Price    782.22\ndtype: float64"
          },
          "metadata": {}
        }
      ]
    },
    {
      "cell_type": "code",
      "source": "google.min()",
      "metadata": {
        "collapsed": false,
        "jupyter": {
          "outputs_hidden": false
        },
        "trusted": true
      },
      "execution_count": 127,
      "outputs": [
        {
          "execution_count": 127,
          "output_type": "execute_result",
          "data": {
            "text/plain": "Stock Price    49.95\ndtype: float64"
          },
          "metadata": {}
        }
      ]
    },
    {
      "cell_type": "code",
      "source": "google.idxmax()",
      "metadata": {
        "collapsed": false,
        "jupyter": {
          "outputs_hidden": false
        },
        "trusted": true
      },
      "execution_count": 129,
      "outputs": [
        {
          "execution_count": 129,
          "output_type": "execute_result",
          "data": {
            "text/plain": "Stock Price    3011\ndtype: int64"
          },
          "metadata": {}
        }
      ]
    },
    {
      "cell_type": "code",
      "source": "google[3011]",
      "metadata": {
        "collapsed": false,
        "jupyter": {
          "outputs_hidden": false
        },
        "trusted": true
      },
      "execution_count": 130,
      "outputs": [
        {
          "ename": "<class 'KeyError'>",
          "evalue": "3011",
          "traceback": [
            "\u001b[0;31m---------------------------------------------------------------------------\u001b[0m",
            "\u001b[0;31mKeyError\u001b[0m                                  Traceback (most recent call last)",
            "File \u001b[0;32m/lib/python3.11/site-packages/pandas/core/indexes/base.py:3802\u001b[0m, in \u001b[0;36mIndex.get_loc\u001b[0;34m(self, key, method, tolerance)\u001b[0m\n\u001b[1;32m   3801\u001b[0m \u001b[38;5;28;01mtry\u001b[39;00m:\n\u001b[0;32m-> 3802\u001b[0m     \u001b[38;5;28;01mreturn\u001b[39;00m \u001b[38;5;28;43mself\u001b[39;49m\u001b[38;5;241;43m.\u001b[39;49m\u001b[43m_engine\u001b[49m\u001b[38;5;241;43m.\u001b[39;49m\u001b[43mget_loc\u001b[49m\u001b[43m(\u001b[49m\u001b[43mcasted_key\u001b[49m\u001b[43m)\u001b[49m\n\u001b[1;32m   3803\u001b[0m \u001b[38;5;28;01mexcept\u001b[39;00m \u001b[38;5;167;01mKeyError\u001b[39;00m \u001b[38;5;28;01mas\u001b[39;00m err:\n",
            "File \u001b[0;32m/lib/python3.11/site-packages/pandas/_libs/index.pyx:138\u001b[0m, in \u001b[0;36mpandas._libs.index.IndexEngine.get_loc\u001b[0;34m()\u001b[0m\n",
            "File \u001b[0;32m/lib/python3.11/site-packages/pandas/_libs/index.pyx:165\u001b[0m, in \u001b[0;36mpandas._libs.index.IndexEngine.get_loc\u001b[0;34m()\u001b[0m\n",
            "File \u001b[0;32mpandas/_libs/hashtable_class_helper.pxi:5745\u001b[0m, in \u001b[0;36mpandas._libs.hashtable.PyObjectHashTable.get_item\u001b[0;34m()\u001b[0m\n",
            "File \u001b[0;32mpandas/_libs/hashtable_class_helper.pxi:5753\u001b[0m, in \u001b[0;36mpandas._libs.hashtable.PyObjectHashTable.get_item\u001b[0;34m()\u001b[0m\n",
            "\u001b[0;31mKeyError\u001b[0m: 3011",
            "\nThe above exception was the direct cause of the following exception:\n",
            "\u001b[0;31mKeyError\u001b[0m                                  Traceback (most recent call last)",
            "Cell \u001b[0;32mIn[130], line 1\u001b[0m\n\u001b[0;32m----> 1\u001b[0m \u001b[43mgoogle\u001b[49m\u001b[43m[\u001b[49m\u001b[38;5;241;43m3011\u001b[39;49m\u001b[43m]\u001b[49m\n",
            "File \u001b[0;32m/lib/python3.11/site-packages/pandas/core/frame.py:3807\u001b[0m, in \u001b[0;36mDataFrame.__getitem__\u001b[0;34m(self, key)\u001b[0m\n\u001b[1;32m   3805\u001b[0m \u001b[38;5;28;01mif\u001b[39;00m \u001b[38;5;28mself\u001b[39m\u001b[38;5;241m.\u001b[39mcolumns\u001b[38;5;241m.\u001b[39mnlevels \u001b[38;5;241m>\u001b[39m \u001b[38;5;241m1\u001b[39m:\n\u001b[1;32m   3806\u001b[0m     \u001b[38;5;28;01mreturn\u001b[39;00m \u001b[38;5;28mself\u001b[39m\u001b[38;5;241m.\u001b[39m_getitem_multilevel(key)\n\u001b[0;32m-> 3807\u001b[0m indexer \u001b[38;5;241m=\u001b[39m \u001b[38;5;28;43mself\u001b[39;49m\u001b[38;5;241;43m.\u001b[39;49m\u001b[43mcolumns\u001b[49m\u001b[38;5;241;43m.\u001b[39;49m\u001b[43mget_loc\u001b[49m\u001b[43m(\u001b[49m\u001b[43mkey\u001b[49m\u001b[43m)\u001b[49m\n\u001b[1;32m   3808\u001b[0m \u001b[38;5;28;01mif\u001b[39;00m is_integer(indexer):\n\u001b[1;32m   3809\u001b[0m     indexer \u001b[38;5;241m=\u001b[39m [indexer]\n",
            "File \u001b[0;32m/lib/python3.11/site-packages/pandas/core/indexes/base.py:3804\u001b[0m, in \u001b[0;36mIndex.get_loc\u001b[0;34m(self, key, method, tolerance)\u001b[0m\n\u001b[1;32m   3802\u001b[0m     \u001b[38;5;28;01mreturn\u001b[39;00m \u001b[38;5;28mself\u001b[39m\u001b[38;5;241m.\u001b[39m_engine\u001b[38;5;241m.\u001b[39mget_loc(casted_key)\n\u001b[1;32m   3803\u001b[0m \u001b[38;5;28;01mexcept\u001b[39;00m \u001b[38;5;167;01mKeyError\u001b[39;00m \u001b[38;5;28;01mas\u001b[39;00m err:\n\u001b[0;32m-> 3804\u001b[0m     \u001b[38;5;28;01mraise\u001b[39;00m \u001b[38;5;167;01mKeyError\u001b[39;00m(key) \u001b[38;5;28;01mfrom\u001b[39;00m \u001b[38;5;21;01merr\u001b[39;00m\n\u001b[1;32m   3805\u001b[0m \u001b[38;5;28;01mexcept\u001b[39;00m \u001b[38;5;167;01mTypeError\u001b[39;00m:\n\u001b[1;32m   3806\u001b[0m     \u001b[38;5;66;03m# If we have a listlike key, _check_indexing_error will raise\u001b[39;00m\n\u001b[1;32m   3807\u001b[0m     \u001b[38;5;66;03m#  InvalidIndexError. Otherwise we fall through and re-raise\u001b[39;00m\n\u001b[1;32m   3808\u001b[0m     \u001b[38;5;66;03m#  the TypeError.\u001b[39;00m\n\u001b[1;32m   3809\u001b[0m     \u001b[38;5;28mself\u001b[39m\u001b[38;5;241m.\u001b[39m_check_indexing_error(key)\n",
            "\u001b[0;31mKeyError\u001b[0m: 3011"
          ],
          "output_type": "error"
        }
      ]
    },
    {
      "cell_type": "code",
      "source": "google.idxmin()",
      "metadata": {
        "collapsed": false,
        "jupyter": {
          "outputs_hidden": false
        },
        "trusted": true
      },
      "execution_count": 131,
      "outputs": [
        {
          "execution_count": 131,
          "output_type": "execute_result",
          "data": {
            "text/plain": "Stock Price    11\ndtype: int64"
          },
          "metadata": {}
        }
      ]
    },
    {
      "cell_type": "code",
      "source": "google[11]",
      "metadata": {
        "collapsed": false,
        "jupyter": {
          "outputs_hidden": false
        }
      },
      "execution_count": 238,
      "outputs": [
        {
          "execution_count": 238,
          "output_type": "execute_result",
          "data": {
            "text/plain": [
              "49.950000000000003"
            ]
          },
          "metadata": {}
        }
      ]
    },
    {
      "cell_type": "code",
      "source": "google[google.idxmin()]",
      "metadata": {
        "collapsed": false,
        "jupyter": {
          "outputs_hidden": false
        },
        "trusted": true
      },
      "execution_count": 132,
      "outputs": [
        {
          "ename": "<class 'KeyError'>",
          "evalue": "\"None of [Int64Index([11], dtype='int64')] are in the [columns]\"",
          "traceback": [
            "\u001b[0;31m---------------------------------------------------------------------------\u001b[0m",
            "\u001b[0;31mKeyError\u001b[0m                                  Traceback (most recent call last)",
            "Cell \u001b[0;32mIn[132], line 1\u001b[0m\n\u001b[0;32m----> 1\u001b[0m \u001b[43mgoogle\u001b[49m\u001b[43m[\u001b[49m\u001b[43mgoogle\u001b[49m\u001b[38;5;241;43m.\u001b[39;49m\u001b[43midxmin\u001b[49m\u001b[43m(\u001b[49m\u001b[43m)\u001b[49m\u001b[43m]\u001b[49m\n",
            "File \u001b[0;32m/lib/python3.11/site-packages/pandas/core/frame.py:3813\u001b[0m, in \u001b[0;36mDataFrame.__getitem__\u001b[0;34m(self, key)\u001b[0m\n\u001b[1;32m   3811\u001b[0m     \u001b[38;5;28;01mif\u001b[39;00m is_iterator(key):\n\u001b[1;32m   3812\u001b[0m         key \u001b[38;5;241m=\u001b[39m \u001b[38;5;28mlist\u001b[39m(key)\n\u001b[0;32m-> 3813\u001b[0m     indexer \u001b[38;5;241m=\u001b[39m \u001b[38;5;28;43mself\u001b[39;49m\u001b[38;5;241;43m.\u001b[39;49m\u001b[43mcolumns\u001b[49m\u001b[38;5;241;43m.\u001b[39;49m\u001b[43m_get_indexer_strict\u001b[49m\u001b[43m(\u001b[49m\u001b[43mkey\u001b[49m\u001b[43m,\u001b[49m\u001b[43m \u001b[49m\u001b[38;5;124;43m\"\u001b[39;49m\u001b[38;5;124;43mcolumns\u001b[39;49m\u001b[38;5;124;43m\"\u001b[39;49m\u001b[43m)\u001b[49m[\u001b[38;5;241m1\u001b[39m]\n\u001b[1;32m   3815\u001b[0m \u001b[38;5;66;03m# take() does not accept boolean indexers\u001b[39;00m\n\u001b[1;32m   3816\u001b[0m \u001b[38;5;28;01mif\u001b[39;00m \u001b[38;5;28mgetattr\u001b[39m(indexer, \u001b[38;5;124m\"\u001b[39m\u001b[38;5;124mdtype\u001b[39m\u001b[38;5;124m\"\u001b[39m, \u001b[38;5;28;01mNone\u001b[39;00m) \u001b[38;5;241m==\u001b[39m \u001b[38;5;28mbool\u001b[39m:\n",
            "File \u001b[0;32m/lib/python3.11/site-packages/pandas/core/indexes/base.py:6070\u001b[0m, in \u001b[0;36mIndex._get_indexer_strict\u001b[0;34m(self, key, axis_name)\u001b[0m\n\u001b[1;32m   6067\u001b[0m \u001b[38;5;28;01melse\u001b[39;00m:\n\u001b[1;32m   6068\u001b[0m     keyarr, indexer, new_indexer \u001b[38;5;241m=\u001b[39m \u001b[38;5;28mself\u001b[39m\u001b[38;5;241m.\u001b[39m_reindex_non_unique(keyarr)\n\u001b[0;32m-> 6070\u001b[0m \u001b[38;5;28;43mself\u001b[39;49m\u001b[38;5;241;43m.\u001b[39;49m\u001b[43m_raise_if_missing\u001b[49m\u001b[43m(\u001b[49m\u001b[43mkeyarr\u001b[49m\u001b[43m,\u001b[49m\u001b[43m \u001b[49m\u001b[43mindexer\u001b[49m\u001b[43m,\u001b[49m\u001b[43m \u001b[49m\u001b[43maxis_name\u001b[49m\u001b[43m)\u001b[49m\n\u001b[1;32m   6072\u001b[0m keyarr \u001b[38;5;241m=\u001b[39m \u001b[38;5;28mself\u001b[39m\u001b[38;5;241m.\u001b[39mtake(indexer)\n\u001b[1;32m   6073\u001b[0m \u001b[38;5;28;01mif\u001b[39;00m \u001b[38;5;28misinstance\u001b[39m(key, Index):\n\u001b[1;32m   6074\u001b[0m     \u001b[38;5;66;03m# GH 42790 - Preserve name from an Index\u001b[39;00m\n",
            "File \u001b[0;32m/lib/python3.11/site-packages/pandas/core/indexes/base.py:6130\u001b[0m, in \u001b[0;36mIndex._raise_if_missing\u001b[0;34m(self, key, indexer, axis_name)\u001b[0m\n\u001b[1;32m   6128\u001b[0m     \u001b[38;5;28;01mif\u001b[39;00m use_interval_msg:\n\u001b[1;32m   6129\u001b[0m         key \u001b[38;5;241m=\u001b[39m \u001b[38;5;28mlist\u001b[39m(key)\n\u001b[0;32m-> 6130\u001b[0m     \u001b[38;5;28;01mraise\u001b[39;00m \u001b[38;5;167;01mKeyError\u001b[39;00m(\u001b[38;5;124mf\u001b[39m\u001b[38;5;124m\"\u001b[39m\u001b[38;5;124mNone of [\u001b[39m\u001b[38;5;132;01m{\u001b[39;00mkey\u001b[38;5;132;01m}\u001b[39;00m\u001b[38;5;124m] are in the [\u001b[39m\u001b[38;5;132;01m{\u001b[39;00maxis_name\u001b[38;5;132;01m}\u001b[39;00m\u001b[38;5;124m]\u001b[39m\u001b[38;5;124m\"\u001b[39m)\n\u001b[1;32m   6132\u001b[0m not_found \u001b[38;5;241m=\u001b[39m \u001b[38;5;28mlist\u001b[39m(ensure_index(key)[missing_mask\u001b[38;5;241m.\u001b[39mnonzero()[\u001b[38;5;241m0\u001b[39m]]\u001b[38;5;241m.\u001b[39munique())\n\u001b[1;32m   6133\u001b[0m \u001b[38;5;28;01mraise\u001b[39;00m \u001b[38;5;167;01mKeyError\u001b[39;00m(\u001b[38;5;124mf\u001b[39m\u001b[38;5;124m\"\u001b[39m\u001b[38;5;132;01m{\u001b[39;00mnot_found\u001b[38;5;132;01m}\u001b[39;00m\u001b[38;5;124m not in index\u001b[39m\u001b[38;5;124m\"\u001b[39m)\n",
            "\u001b[0;31mKeyError\u001b[0m: \"None of [Int64Index([11], dtype='int64')] are in the [columns]\""
          ],
          "output_type": "error"
        }
      ]
    },
    {
      "cell_type": "markdown",
      "source": "## The `.value_counts()` Method",
      "metadata": {}
    },
    {
      "cell_type": "code",
      "source": "pokemon = pd.read_csv(\"pokemon.csv\", index_col = \"Pokemon\")\npokemon.head(3)",
      "metadata": {
        "collapsed": false,
        "jupyter": {
          "outputs_hidden": false
        },
        "trusted": true
      },
      "execution_count": 133,
      "outputs": [
        {
          "execution_count": 133,
          "output_type": "execute_result",
          "data": {
            "text/plain": "            Type\nPokemon         \nBulbasaur  Grass\nIvysaur    Grass\nVenusaur   Grass",
            "text/html": "<div>\n<style scoped>\n    .dataframe tbody tr th:only-of-type {\n        vertical-align: middle;\n    }\n\n    .dataframe tbody tr th {\n        vertical-align: top;\n    }\n\n    .dataframe thead th {\n        text-align: right;\n    }\n</style>\n<table border=\"1\" class=\"dataframe\">\n  <thead>\n    <tr style=\"text-align: right;\">\n      <th></th>\n      <th>Type</th>\n    </tr>\n    <tr>\n      <th>Pokemon</th>\n      <th></th>\n    </tr>\n  </thead>\n  <tbody>\n    <tr>\n      <th>Bulbasaur</th>\n      <td>Grass</td>\n    </tr>\n    <tr>\n      <th>Ivysaur</th>\n      <td>Grass</td>\n    </tr>\n    <tr>\n      <th>Venusaur</th>\n      <td>Grass</td>\n    </tr>\n  </tbody>\n</table>\n</div>"
          },
          "metadata": {}
        }
      ]
    },
    {
      "cell_type": "code",
      "source": "pokemon.value_counts().sum()",
      "metadata": {
        "tags": [],
        "trusted": true
      },
      "execution_count": 134,
      "outputs": [
        {
          "execution_count": 134,
          "output_type": "execute_result",
          "data": {
            "text/plain": "721"
          },
          "metadata": {}
        }
      ]
    },
    {
      "cell_type": "code",
      "source": "pokemon.describe()",
      "metadata": {
        "trusted": true
      },
      "execution_count": 154,
      "outputs": [
        {
          "execution_count": 154,
          "output_type": "execute_result",
          "data": {
            "text/plain": "         Type\ncount     721\nunique     18\ntop     Water\nfreq      105",
            "text/html": "<div>\n<style scoped>\n    .dataframe tbody tr th:only-of-type {\n        vertical-align: middle;\n    }\n\n    .dataframe tbody tr th {\n        vertical-align: top;\n    }\n\n    .dataframe thead th {\n        text-align: right;\n    }\n</style>\n<table border=\"1\" class=\"dataframe\">\n  <thead>\n    <tr style=\"text-align: right;\">\n      <th></th>\n      <th>Type</th>\n    </tr>\n  </thead>\n  <tbody>\n    <tr>\n      <th>count</th>\n      <td>721</td>\n    </tr>\n    <tr>\n      <th>unique</th>\n      <td>18</td>\n    </tr>\n    <tr>\n      <th>top</th>\n      <td>Water</td>\n    </tr>\n    <tr>\n      <th>freq</th>\n      <td>105</td>\n    </tr>\n  </tbody>\n</table>\n</div>"
          },
          "metadata": {}
        }
      ]
    },
    {
      "cell_type": "code",
      "source": "pokemon.count()",
      "metadata": {
        "collapsed": false,
        "jupyter": {
          "outputs_hidden": false
        },
        "trusted": true
      },
      "execution_count": 151,
      "outputs": [
        {
          "execution_count": 151,
          "output_type": "execute_result",
          "data": {
            "text/plain": "Type    721\ndtype: int64"
          },
          "metadata": {}
        }
      ]
    },
    {
      "cell_type": "code",
      "source": "pokemon.value_counts(ascending = True)",
      "metadata": {
        "collapsed": false,
        "jupyter": {
          "outputs_hidden": false
        },
        "trusted": true
      },
      "execution_count": 152,
      "outputs": [
        {
          "execution_count": 152,
          "output_type": "execute_result",
          "data": {
            "text/plain": "Type    \nFlying        3\nFairy        17\nSteel        22\nGhost        23\nIce          23\nDragon       24\nFighting     25\nDark         28\nPoison       28\nGround       30\nElectric     36\nRock         41\nFire         47\nPsychic      47\nBug          63\nGrass        66\nNormal       93\nWater       105\ndtype: int64"
          },
          "metadata": {}
        }
      ]
    },
    {
      "cell_type": "markdown",
      "source": "## The `.apply()` Method",
      "metadata": {}
    },
    {
      "cell_type": "code",
      "source": "google = pd.read_csv(\"google_stock_price.csv\")\ngoogle.head(6)",
      "metadata": {
        "collapsed": false,
        "jupyter": {
          "outputs_hidden": false
        },
        "trusted": true
      },
      "execution_count": 138,
      "outputs": [
        {
          "execution_count": 138,
          "output_type": "execute_result",
          "data": {
            "text/plain": "   Stock Price\n0        50.12\n1        54.10\n2        54.65\n3        52.38\n4        52.95\n5        53.90",
            "text/html": "<div>\n<style scoped>\n    .dataframe tbody tr th:only-of-type {\n        vertical-align: middle;\n    }\n\n    .dataframe tbody tr th {\n        vertical-align: top;\n    }\n\n    .dataframe thead th {\n        text-align: right;\n    }\n</style>\n<table border=\"1\" class=\"dataframe\">\n  <thead>\n    <tr style=\"text-align: right;\">\n      <th></th>\n      <th>Stock Price</th>\n    </tr>\n  </thead>\n  <tbody>\n    <tr>\n      <th>0</th>\n      <td>50.12</td>\n    </tr>\n    <tr>\n      <th>1</th>\n      <td>54.10</td>\n    </tr>\n    <tr>\n      <th>2</th>\n      <td>54.65</td>\n    </tr>\n    <tr>\n      <th>3</th>\n      <td>52.38</td>\n    </tr>\n    <tr>\n      <th>4</th>\n      <td>52.95</td>\n    </tr>\n    <tr>\n      <th>5</th>\n      <td>53.90</td>\n    </tr>\n  </tbody>\n</table>\n</div>"
          },
          "metadata": {}
        }
      ]
    },
    {
      "cell_type": "code",
      "source": "def classify_performance(number):\n    if number < 300:\n        return \"OK\"\n    elif number >= 300 and number < 650:\n        return \"Satisfactory\"\n    else:\n        return \"Incredible!\"",
      "metadata": {
        "tags": [],
        "trusted": true
      },
      "execution_count": 139,
      "outputs": []
    },
    {
      "cell_type": "code",
      "source": "google.apply(classify_performance).tail()",
      "metadata": {
        "collapsed": false,
        "jupyter": {
          "outputs_hidden": false
        },
        "trusted": true
      },
      "execution_count": 140,
      "outputs": [
        {
          "ename": "<class 'ValueError'>",
          "evalue": "The truth value of a Series is ambiguous. Use a.empty, a.bool(), a.item(), a.any() or a.all().",
          "traceback": [
            "\u001b[0;31m---------------------------------------------------------------------------\u001b[0m",
            "\u001b[0;31mValueError\u001b[0m                                Traceback (most recent call last)",
            "\u001b[0;32m<ipython-input-140-584309716323>\u001b[0m in \u001b[0;36m?\u001b[0;34m()\u001b[0m\n\u001b[0;32m----> 1\u001b[0;31m \u001b[0mgoogle\u001b[0m\u001b[0;34m.\u001b[0m\u001b[0mapply\u001b[0m\u001b[0;34m(\u001b[0m\u001b[0mclassify_performance\u001b[0m\u001b[0;34m)\u001b[0m\u001b[0;34m.\u001b[0m\u001b[0mtail\u001b[0m\u001b[0;34m(\u001b[0m\u001b[0;34m)\u001b[0m\u001b[0;34m\u001b[0m\u001b[0;34m\u001b[0m\u001b[0m\n\u001b[0m",
            "\u001b[0;32m/lib/python3.11/site-packages/pandas/core/frame.py\u001b[0m in \u001b[0;36m?\u001b[0;34m(self, func, axis, raw, result_type, args, **kwargs)\u001b[0m\n\u001b[1;32m   9564\u001b[0m             \u001b[0mresult_type\u001b[0m\u001b[0;34m=\u001b[0m\u001b[0mresult_type\u001b[0m\u001b[0;34m,\u001b[0m\u001b[0;34m\u001b[0m\u001b[0;34m\u001b[0m\u001b[0m\n\u001b[1;32m   9565\u001b[0m             \u001b[0margs\u001b[0m\u001b[0;34m=\u001b[0m\u001b[0margs\u001b[0m\u001b[0;34m,\u001b[0m\u001b[0;34m\u001b[0m\u001b[0;34m\u001b[0m\u001b[0m\n\u001b[1;32m   9566\u001b[0m             \u001b[0mkwargs\u001b[0m\u001b[0;34m=\u001b[0m\u001b[0mkwargs\u001b[0m\u001b[0;34m,\u001b[0m\u001b[0;34m\u001b[0m\u001b[0;34m\u001b[0m\u001b[0m\n\u001b[1;32m   9567\u001b[0m         )\n\u001b[0;32m-> 9568\u001b[0;31m         \u001b[0;32mreturn\u001b[0m \u001b[0mop\u001b[0m\u001b[0;34m.\u001b[0m\u001b[0mapply\u001b[0m\u001b[0;34m(\u001b[0m\u001b[0;34m)\u001b[0m\u001b[0;34m.\u001b[0m\u001b[0m__finalize__\u001b[0m\u001b[0;34m(\u001b[0m\u001b[0mself\u001b[0m\u001b[0;34m,\u001b[0m \u001b[0mmethod\u001b[0m\u001b[0;34m=\u001b[0m\u001b[0;34m\"apply\"\u001b[0m\u001b[0;34m)\u001b[0m\u001b[0;34m\u001b[0m\u001b[0;34m\u001b[0m\u001b[0m\n\u001b[0m",
            "\u001b[0;32m/lib/python3.11/site-packages/pandas/core/apply.py\u001b[0m in \u001b[0;36m?\u001b[0;34m(self)\u001b[0m\n\u001b[1;32m    760\u001b[0m         \u001b[0;31m# raw\u001b[0m\u001b[0;34m\u001b[0m\u001b[0;34m\u001b[0m\u001b[0m\n\u001b[1;32m    761\u001b[0m         \u001b[0;32melif\u001b[0m \u001b[0mself\u001b[0m\u001b[0;34m.\u001b[0m\u001b[0mraw\u001b[0m\u001b[0;34m:\u001b[0m\u001b[0;34m\u001b[0m\u001b[0;34m\u001b[0m\u001b[0m\n\u001b[1;32m    762\u001b[0m             \u001b[0;32mreturn\u001b[0m \u001b[0mself\u001b[0m\u001b[0;34m.\u001b[0m\u001b[0mapply_raw\u001b[0m\u001b[0;34m(\u001b[0m\u001b[0;34m)\u001b[0m\u001b[0;34m\u001b[0m\u001b[0;34m\u001b[0m\u001b[0m\n\u001b[1;32m    763\u001b[0m \u001b[0;34m\u001b[0m\u001b[0m\n\u001b[0;32m--> 764\u001b[0;31m         \u001b[0;32mreturn\u001b[0m \u001b[0mself\u001b[0m\u001b[0;34m.\u001b[0m\u001b[0mapply_standard\u001b[0m\u001b[0;34m(\u001b[0m\u001b[0;34m)\u001b[0m\u001b[0;34m\u001b[0m\u001b[0;34m\u001b[0m\u001b[0m\n\u001b[0m",
            "\u001b[0;32m/lib/python3.11/site-packages/pandas/core/apply.py\u001b[0m in \u001b[0;36m?\u001b[0;34m(self)\u001b[0m\n\u001b[1;32m    890\u001b[0m     \u001b[0;32mdef\u001b[0m \u001b[0mapply_standard\u001b[0m\u001b[0;34m(\u001b[0m\u001b[0mself\u001b[0m\u001b[0;34m)\u001b[0m\u001b[0;34m:\u001b[0m\u001b[0;34m\u001b[0m\u001b[0;34m\u001b[0m\u001b[0m\n\u001b[0;32m--> 891\u001b[0;31m         \u001b[0mresults\u001b[0m\u001b[0;34m,\u001b[0m \u001b[0mres_index\u001b[0m \u001b[0;34m=\u001b[0m \u001b[0mself\u001b[0m\u001b[0;34m.\u001b[0m\u001b[0mapply_series_generator\u001b[0m\u001b[0;34m(\u001b[0m\u001b[0;34m)\u001b[0m\u001b[0;34m\u001b[0m\u001b[0;34m\u001b[0m\u001b[0m\n\u001b[0m\u001b[1;32m    892\u001b[0m \u001b[0;34m\u001b[0m\u001b[0m\n\u001b[1;32m    893\u001b[0m         \u001b[0;31m# wrap results\u001b[0m\u001b[0;34m\u001b[0m\u001b[0;34m\u001b[0m\u001b[0m\n\u001b[1;32m    894\u001b[0m         \u001b[0;32mreturn\u001b[0m \u001b[0mself\u001b[0m\u001b[0;34m.\u001b[0m\u001b[0mwrap_results\u001b[0m\u001b[0;34m(\u001b[0m\u001b[0mresults\u001b[0m\u001b[0;34m,\u001b[0m \u001b[0mres_index\u001b[0m\u001b[0;34m)\u001b[0m\u001b[0;34m\u001b[0m\u001b[0;34m\u001b[0m\u001b[0m\n",
            "\u001b[0;32m/lib/python3.11/site-packages/pandas/core/apply.py\u001b[0m in \u001b[0;36m?\u001b[0;34m(self)\u001b[0m\n\u001b[1;32m    903\u001b[0m \u001b[0;34m\u001b[0m\u001b[0m\n\u001b[1;32m    904\u001b[0m         \u001b[0;32mwith\u001b[0m \u001b[0moption_context\u001b[0m\u001b[0;34m(\u001b[0m\u001b[0;34m\"mode.chained_assignment\"\u001b[0m\u001b[0;34m,\u001b[0m \u001b[0;32mNone\u001b[0m\u001b[0;34m)\u001b[0m\u001b[0;34m:\u001b[0m\u001b[0;34m\u001b[0m\u001b[0;34m\u001b[0m\u001b[0m\n\u001b[1;32m    905\u001b[0m             \u001b[0;32mfor\u001b[0m \u001b[0mi\u001b[0m\u001b[0;34m,\u001b[0m \u001b[0mv\u001b[0m \u001b[0;32min\u001b[0m \u001b[0menumerate\u001b[0m\u001b[0;34m(\u001b[0m\u001b[0mseries_gen\u001b[0m\u001b[0;34m)\u001b[0m\u001b[0;34m:\u001b[0m\u001b[0;34m\u001b[0m\u001b[0;34m\u001b[0m\u001b[0m\n\u001b[1;32m    906\u001b[0m                 \u001b[0;31m# ignore SettingWithCopy here in case the user mutates\u001b[0m\u001b[0;34m\u001b[0m\u001b[0;34m\u001b[0m\u001b[0m\n\u001b[0;32m--> 907\u001b[0;31m                 \u001b[0mresults\u001b[0m\u001b[0;34m[\u001b[0m\u001b[0mi\u001b[0m\u001b[0;34m]\u001b[0m \u001b[0;34m=\u001b[0m \u001b[0mself\u001b[0m\u001b[0;34m.\u001b[0m\u001b[0mf\u001b[0m\u001b[0;34m(\u001b[0m\u001b[0mv\u001b[0m\u001b[0;34m)\u001b[0m\u001b[0;34m\u001b[0m\u001b[0;34m\u001b[0m\u001b[0m\n\u001b[0m\u001b[1;32m    908\u001b[0m                 \u001b[0;32mif\u001b[0m \u001b[0misinstance\u001b[0m\u001b[0;34m(\u001b[0m\u001b[0mresults\u001b[0m\u001b[0;34m[\u001b[0m\u001b[0mi\u001b[0m\u001b[0;34m]\u001b[0m\u001b[0;34m,\u001b[0m \u001b[0mABCSeries\u001b[0m\u001b[0;34m)\u001b[0m\u001b[0;34m:\u001b[0m\u001b[0;34m\u001b[0m\u001b[0;34m\u001b[0m\u001b[0m\n\u001b[1;32m    909\u001b[0m                     \u001b[0;31m# If we have a view on v, we need to make a copy because\u001b[0m\u001b[0;34m\u001b[0m\u001b[0;34m\u001b[0m\u001b[0m\n\u001b[1;32m    910\u001b[0m                     \u001b[0;31m#  series_generator will swap out the underlying data\u001b[0m\u001b[0;34m\u001b[0m\u001b[0;34m\u001b[0m\u001b[0m\n",
            "\u001b[0;32m<ipython-input-139-e1dc05e05bd7>\u001b[0m in \u001b[0;36m?\u001b[0;34m(number)\u001b[0m\n\u001b[1;32m      1\u001b[0m \u001b[0;32mdef\u001b[0m \u001b[0mclassify_performance\u001b[0m\u001b[0;34m(\u001b[0m\u001b[0mnumber\u001b[0m\u001b[0;34m)\u001b[0m\u001b[0;34m:\u001b[0m\u001b[0;34m\u001b[0m\u001b[0;34m\u001b[0m\u001b[0m\n\u001b[0;32m----> 2\u001b[0;31m     \u001b[0;32mif\u001b[0m \u001b[0mnumber\u001b[0m \u001b[0;34m<\u001b[0m \u001b[0;36m300\u001b[0m\u001b[0;34m:\u001b[0m\u001b[0;34m\u001b[0m\u001b[0;34m\u001b[0m\u001b[0m\n\u001b[0m\u001b[1;32m      3\u001b[0m         \u001b[0;32mreturn\u001b[0m \u001b[0;34m\"OK\"\u001b[0m\u001b[0;34m\u001b[0m\u001b[0;34m\u001b[0m\u001b[0m\n\u001b[1;32m      4\u001b[0m     \u001b[0;32melif\u001b[0m \u001b[0mnumber\u001b[0m \u001b[0;34m>=\u001b[0m \u001b[0;36m300\u001b[0m \u001b[0;32mand\u001b[0m \u001b[0mnumber\u001b[0m \u001b[0;34m<\u001b[0m \u001b[0;36m650\u001b[0m\u001b[0;34m:\u001b[0m\u001b[0;34m\u001b[0m\u001b[0;34m\u001b[0m\u001b[0m\n\u001b[1;32m      5\u001b[0m         \u001b[0;32mreturn\u001b[0m \u001b[0;34m\"Satisfactory\"\u001b[0m\u001b[0;34m\u001b[0m\u001b[0;34m\u001b[0m\u001b[0m\n",
            "\u001b[0;32m/lib/python3.11/site-packages/pandas/core/generic.py\u001b[0m in \u001b[0;36m?\u001b[0;34m(self)\u001b[0m\n\u001b[1;32m   1525\u001b[0m     \u001b[0;34m@\u001b[0m\u001b[0mfinal\u001b[0m\u001b[0;34m\u001b[0m\u001b[0;34m\u001b[0m\u001b[0m\n\u001b[1;32m   1526\u001b[0m     \u001b[0;32mdef\u001b[0m \u001b[0m__nonzero__\u001b[0m\u001b[0;34m(\u001b[0m\u001b[0mself\u001b[0m\u001b[0;34m)\u001b[0m \u001b[0;34m->\u001b[0m \u001b[0mNoReturn\u001b[0m\u001b[0;34m:\u001b[0m\u001b[0;34m\u001b[0m\u001b[0;34m\u001b[0m\u001b[0m\n\u001b[0;32m-> 1527\u001b[0;31m         raise ValueError(\n\u001b[0m\u001b[1;32m   1528\u001b[0m             \u001b[0;34mf\"The truth value of a {type(self).__name__} is ambiguous. \"\u001b[0m\u001b[0;34m\u001b[0m\u001b[0;34m\u001b[0m\u001b[0m\n\u001b[1;32m   1529\u001b[0m             \u001b[0;34m\"Use a.empty, a.bool(), a.item(), a.any() or a.all().\"\u001b[0m\u001b[0;34m\u001b[0m\u001b[0;34m\u001b[0m\u001b[0m\n\u001b[1;32m   1530\u001b[0m         )\n",
            "\u001b[0;31mValueError\u001b[0m: The truth value of a Series is ambiguous. Use a.empty, a.bool(), a.item(), a.any() or a.all()."
          ],
          "output_type": "error"
        }
      ]
    },
    {
      "cell_type": "code",
      "source": "google.head(6)",
      "metadata": {
        "collapsed": false,
        "jupyter": {
          "outputs_hidden": false
        },
        "trusted": true
      },
      "execution_count": 141,
      "outputs": [
        {
          "execution_count": 141,
          "output_type": "execute_result",
          "data": {
            "text/plain": "   Stock Price\n0        50.12\n1        54.10\n2        54.65\n3        52.38\n4        52.95\n5        53.90",
            "text/html": "<div>\n<style scoped>\n    .dataframe tbody tr th:only-of-type {\n        vertical-align: middle;\n    }\n\n    .dataframe tbody tr th {\n        vertical-align: top;\n    }\n\n    .dataframe thead th {\n        text-align: right;\n    }\n</style>\n<table border=\"1\" class=\"dataframe\">\n  <thead>\n    <tr style=\"text-align: right;\">\n      <th></th>\n      <th>Stock Price</th>\n    </tr>\n  </thead>\n  <tbody>\n    <tr>\n      <th>0</th>\n      <td>50.12</td>\n    </tr>\n    <tr>\n      <th>1</th>\n      <td>54.10</td>\n    </tr>\n    <tr>\n      <th>2</th>\n      <td>54.65</td>\n    </tr>\n    <tr>\n      <th>3</th>\n      <td>52.38</td>\n    </tr>\n    <tr>\n      <th>4</th>\n      <td>52.95</td>\n    </tr>\n    <tr>\n      <th>5</th>\n      <td>53.90</td>\n    </tr>\n  </tbody>\n</table>\n</div>"
          },
          "metadata": {}
        }
      ]
    },
    {
      "cell_type": "code",
      "source": "google.apply(lambda stock_price : stock_price + 1)",
      "metadata": {
        "collapsed": false,
        "jupyter": {
          "outputs_hidden": false
        },
        "trusted": true
      },
      "execution_count": 142,
      "outputs": [
        {
          "execution_count": 142,
          "output_type": "execute_result",
          "data": {
            "text/plain": "      Stock Price\n0           51.12\n1           55.10\n2           55.65\n3           53.38\n4           53.95\n...           ...\n3007       773.88\n3008       772.07\n3009       774.18\n3010       772.61\n3011       783.22\n\n[3012 rows x 1 columns]",
            "text/html": "<div>\n<style scoped>\n    .dataframe tbody tr th:only-of-type {\n        vertical-align: middle;\n    }\n\n    .dataframe tbody tr th {\n        vertical-align: top;\n    }\n\n    .dataframe thead th {\n        text-align: right;\n    }\n</style>\n<table border=\"1\" class=\"dataframe\">\n  <thead>\n    <tr style=\"text-align: right;\">\n      <th></th>\n      <th>Stock Price</th>\n    </tr>\n  </thead>\n  <tbody>\n    <tr>\n      <th>0</th>\n      <td>51.12</td>\n    </tr>\n    <tr>\n      <th>1</th>\n      <td>55.10</td>\n    </tr>\n    <tr>\n      <th>2</th>\n      <td>55.65</td>\n    </tr>\n    <tr>\n      <th>3</th>\n      <td>53.38</td>\n    </tr>\n    <tr>\n      <th>4</th>\n      <td>53.95</td>\n    </tr>\n    <tr>\n      <th>...</th>\n      <td>...</td>\n    </tr>\n    <tr>\n      <th>3007</th>\n      <td>773.88</td>\n    </tr>\n    <tr>\n      <th>3008</th>\n      <td>772.07</td>\n    </tr>\n    <tr>\n      <th>3009</th>\n      <td>774.18</td>\n    </tr>\n    <tr>\n      <th>3010</th>\n      <td>772.61</td>\n    </tr>\n    <tr>\n      <th>3011</th>\n      <td>783.22</td>\n    </tr>\n  </tbody>\n</table>\n<p>3012 rows × 1 columns</p>\n</div>"
          },
          "metadata": {}
        }
      ]
    },
    {
      "cell_type": "markdown",
      "source": "## The `.map()` Method",
      "metadata": {}
    },
    {
      "cell_type": "code",
      "source": "pokemon_names = pd.read_csv(\"pokemon.csv\", usecols = [\"Pokemon\"])\npokemon_names.head(3)",
      "metadata": {
        "collapsed": false,
        "jupyter": {
          "outputs_hidden": false
        },
        "trusted": true
      },
      "execution_count": 143,
      "outputs": [
        {
          "execution_count": 143,
          "output_type": "execute_result",
          "data": {
            "text/plain": "     Pokemon\n0  Bulbasaur\n1    Ivysaur\n2   Venusaur",
            "text/html": "<div>\n<style scoped>\n    .dataframe tbody tr th:only-of-type {\n        vertical-align: middle;\n    }\n\n    .dataframe tbody tr th {\n        vertical-align: top;\n    }\n\n    .dataframe thead th {\n        text-align: right;\n    }\n</style>\n<table border=\"1\" class=\"dataframe\">\n  <thead>\n    <tr style=\"text-align: right;\">\n      <th></th>\n      <th>Pokemon</th>\n    </tr>\n  </thead>\n  <tbody>\n    <tr>\n      <th>0</th>\n      <td>Bulbasaur</td>\n    </tr>\n    <tr>\n      <th>1</th>\n      <td>Ivysaur</td>\n    </tr>\n    <tr>\n      <th>2</th>\n      <td>Venusaur</td>\n    </tr>\n  </tbody>\n</table>\n</div>"
          },
          "metadata": {}
        }
      ]
    },
    {
      "cell_type": "code",
      "source": "pokemon_types = pd.read_csv(\"pokemon.csv\", index_col = \"Pokemon\")\npokemon_types.head(3)",
      "metadata": {
        "collapsed": false,
        "jupyter": {
          "outputs_hidden": false
        },
        "trusted": true
      },
      "execution_count": 144,
      "outputs": [
        {
          "execution_count": 144,
          "output_type": "execute_result",
          "data": {
            "text/plain": "            Type\nPokemon         \nBulbasaur  Grass\nIvysaur    Grass\nVenusaur   Grass",
            "text/html": "<div>\n<style scoped>\n    .dataframe tbody tr th:only-of-type {\n        vertical-align: middle;\n    }\n\n    .dataframe tbody tr th {\n        vertical-align: top;\n    }\n\n    .dataframe thead th {\n        text-align: right;\n    }\n</style>\n<table border=\"1\" class=\"dataframe\">\n  <thead>\n    <tr style=\"text-align: right;\">\n      <th></th>\n      <th>Type</th>\n    </tr>\n    <tr>\n      <th>Pokemon</th>\n      <th></th>\n    </tr>\n  </thead>\n  <tbody>\n    <tr>\n      <th>Bulbasaur</th>\n      <td>Grass</td>\n    </tr>\n    <tr>\n      <th>Ivysaur</th>\n      <td>Grass</td>\n    </tr>\n    <tr>\n      <th>Venusaur</th>\n      <td>Grass</td>\n    </tr>\n  </tbody>\n</table>\n</div>"
          },
          "metadata": {}
        }
      ]
    },
    {
      "cell_type": "code",
      "source": "pokemon_names.Map(pokemon_types)",
      "metadata": {
        "tags": [],
        "trusted": true
      },
      "execution_count": 146,
      "outputs": [
        {
          "ename": "<class 'AttributeError'>",
          "evalue": "'DataFrame' object has no attribute 'Map'",
          "traceback": [
            "\u001b[0;31m---------------------------------------------------------------------------\u001b[0m",
            "\u001b[0;31mAttributeError\u001b[0m                            Traceback (most recent call last)",
            "\u001b[0;32m<ipython-input-146-4be7ae66ca25>\u001b[0m in \u001b[0;36m?\u001b[0;34m()\u001b[0m\n\u001b[0;32m----> 1\u001b[0;31m \u001b[0mpokemon_names\u001b[0m\u001b[0;34m.\u001b[0m\u001b[0mMap\u001b[0m\u001b[0;34m(\u001b[0m\u001b[0mpokemon_types\u001b[0m\u001b[0;34m)\u001b[0m\u001b[0;34m\u001b[0m\u001b[0;34m\u001b[0m\u001b[0m\n\u001b[0m",
            "\u001b[0;32m/lib/python3.11/site-packages/pandas/core/generic.py\u001b[0m in \u001b[0;36m?\u001b[0;34m(self, name)\u001b[0m\n\u001b[1;32m   5898\u001b[0m             \u001b[0;32mand\u001b[0m \u001b[0mname\u001b[0m \u001b[0;32mnot\u001b[0m \u001b[0;32min\u001b[0m \u001b[0mself\u001b[0m\u001b[0;34m.\u001b[0m\u001b[0m_accessors\u001b[0m\u001b[0;34m\u001b[0m\u001b[0;34m\u001b[0m\u001b[0m\n\u001b[1;32m   5899\u001b[0m             \u001b[0;32mand\u001b[0m \u001b[0mself\u001b[0m\u001b[0;34m.\u001b[0m\u001b[0m_info_axis\u001b[0m\u001b[0;34m.\u001b[0m\u001b[0m_can_hold_identifiers_and_holds_name\u001b[0m\u001b[0;34m(\u001b[0m\u001b[0mname\u001b[0m\u001b[0;34m)\u001b[0m\u001b[0;34m\u001b[0m\u001b[0;34m\u001b[0m\u001b[0m\n\u001b[1;32m   5900\u001b[0m         ):\n\u001b[1;32m   5901\u001b[0m             \u001b[0;32mreturn\u001b[0m \u001b[0mself\u001b[0m\u001b[0;34m[\u001b[0m\u001b[0mname\u001b[0m\u001b[0;34m]\u001b[0m\u001b[0;34m\u001b[0m\u001b[0;34m\u001b[0m\u001b[0m\n\u001b[0;32m-> 5902\u001b[0;31m         \u001b[0;32mreturn\u001b[0m \u001b[0mobject\u001b[0m\u001b[0;34m.\u001b[0m\u001b[0m__getattribute__\u001b[0m\u001b[0;34m(\u001b[0m\u001b[0mself\u001b[0m\u001b[0;34m,\u001b[0m \u001b[0mname\u001b[0m\u001b[0;34m)\u001b[0m\u001b[0;34m\u001b[0m\u001b[0;34m\u001b[0m\u001b[0m\n\u001b[0m",
            "\u001b[0;31mAttributeError\u001b[0m: 'DataFrame' object has no attribute 'Map'"
          ],
          "output_type": "error"
        }
      ]
    },
    {
      "cell_type": "code",
      "source": "pokemon_names = pd.read_csv(\"pokemon.csv\", usecols = [\"Pokemon\"])\npokemon_types = pd.read_csv(\"pokemon.csv\", index_col = \"Pokemon\").to_dict()",
      "metadata": {
        "tags": [],
        "trusted": true
      },
      "execution_count": 147,
      "outputs": []
    },
    {
      "cell_type": "code",
      "source": "pokemon_names.head()",
      "metadata": {
        "collapsed": false,
        "jupyter": {
          "outputs_hidden": false
        },
        "trusted": true
      },
      "execution_count": 148,
      "outputs": [
        {
          "execution_count": 148,
          "output_type": "execute_result",
          "data": {
            "text/plain": "      Pokemon\n0   Bulbasaur\n1     Ivysaur\n2    Venusaur\n3  Charmander\n4  Charmeleon",
            "text/html": "<div>\n<style scoped>\n    .dataframe tbody tr th:only-of-type {\n        vertical-align: middle;\n    }\n\n    .dataframe tbody tr th {\n        vertical-align: top;\n    }\n\n    .dataframe thead th {\n        text-align: right;\n    }\n</style>\n<table border=\"1\" class=\"dataframe\">\n  <thead>\n    <tr style=\"text-align: right;\">\n      <th></th>\n      <th>Pokemon</th>\n    </tr>\n  </thead>\n  <tbody>\n    <tr>\n      <th>0</th>\n      <td>Bulbasaur</td>\n    </tr>\n    <tr>\n      <th>1</th>\n      <td>Ivysaur</td>\n    </tr>\n    <tr>\n      <th>2</th>\n      <td>Venusaur</td>\n    </tr>\n    <tr>\n      <th>3</th>\n      <td>Charmander</td>\n    </tr>\n    <tr>\n      <th>4</th>\n      <td>Charmeleon</td>\n    </tr>\n  </tbody>\n</table>\n</div>"
          },
          "metadata": {}
        }
      ]
    },
    {
      "cell_type": "code",
      "source": "pokemon_types",
      "metadata": {
        "tags": [],
        "trusted": true
      },
      "execution_count": 149,
      "outputs": [
        {
          "execution_count": 149,
          "output_type": "execute_result",
          "data": {
            "text/plain": "{'Type': {'Bulbasaur': 'Grass',\n  'Ivysaur': 'Grass',\n  'Venusaur': 'Grass',\n  'Charmander': 'Fire',\n  'Charmeleon': 'Fire',\n  'Charizard': 'Fire',\n  'Squirtle': 'Water',\n  'Wartortle': 'Water',\n  'Blastoise': 'Water',\n  'Caterpie': 'Bug',\n  'Metapod': 'Bug',\n  'Butterfree': 'Bug',\n  'Weedle': 'Bug',\n  'Kakuna': 'Bug',\n  'Beedrill': 'Bug',\n  'Pidgey': 'Normal',\n  'Pidgeotto': 'Normal',\n  'Pidgeot': 'Normal',\n  'Rattata': 'Normal',\n  'Raticate': 'Normal',\n  'Spearow': 'Normal',\n  'Fearow': 'Normal',\n  'Ekans': 'Poison',\n  'Arbok': 'Poison',\n  'Pikachu': 'Electric',\n  'Raichu': 'Electric',\n  'Sandshrew': 'Ground',\n  'Sandslash': 'Ground',\n  'Nidoran': 'Poison',\n  'Nidorina': 'Poison',\n  'Nidoqueen': 'Poison',\n  'Nidoran♂': 'Poison',\n  'Nidorino': 'Poison',\n  'Nidoking': 'Poison',\n  'Clefairy': 'Fairy',\n  'Clefable': 'Fairy',\n  'Vulpix': 'Fire',\n  'Ninetales': 'Fire',\n  'Jigglypuff': 'Normal',\n  'Wigglytuff': 'Normal',\n  'Zubat': 'Poison',\n  'Golbat': 'Poison',\n  'Oddish': 'Grass',\n  'Gloom': 'Grass',\n  'Vileplume': 'Grass',\n  'Paras': 'Bug',\n  'Parasect': 'Bug',\n  'Venonat': 'Bug',\n  'Venomoth': 'Bug',\n  'Diglett': 'Ground',\n  'Dugtrio': 'Ground',\n  'Meowth': 'Normal',\n  'Persian': 'Normal',\n  'Psyduck': 'Water',\n  'Golduck': 'Water',\n  'Mankey': 'Fighting',\n  'Primeape': 'Fighting',\n  'Growlithe': 'Fire',\n  'Arcanine': 'Fire',\n  'Poliwag': 'Water',\n  'Poliwhirl': 'Water',\n  'Poliwrath': 'Water',\n  'Abra': 'Psychic',\n  'Kadabra': 'Psychic',\n  'Alakazam': 'Psychic',\n  'Machop': 'Fighting',\n  'Machoke': 'Fighting',\n  'Machamp': 'Fighting',\n  'Bellsprout': 'Grass',\n  'Weepinbell': 'Grass',\n  'Victreebel': 'Grass',\n  'Tentacool': 'Water',\n  'Tentacruel': 'Water',\n  'Geodude': 'Rock',\n  'Graveler': 'Rock',\n  'Golem': 'Rock',\n  'Ponyta': 'Fire',\n  'Rapidash': 'Fire',\n  'Slowpoke': 'Water',\n  'Slowbro': 'Water',\n  'Magnemite': 'Electric',\n  'Magneton': 'Electric',\n  \"Farfetch'd\": 'Normal',\n  'Doduo': 'Normal',\n  'Dodrio': 'Normal',\n  'Seel': 'Water',\n  'Dewgong': 'Water',\n  'Grimer': 'Poison',\n  'Muk': 'Poison',\n  'Shellder': 'Water',\n  'Cloyster': 'Water',\n  'Gastly': 'Ghost',\n  'Haunter': 'Ghost',\n  'Gengar': 'Ghost',\n  'Onix': 'Rock',\n  'Drowzee': 'Psychic',\n  'Hypno': 'Psychic',\n  'Krabby': 'Water',\n  'Kingler': 'Water',\n  'Voltorb': 'Electric',\n  'Electrode': 'Electric',\n  'Exeggcute': 'Grass',\n  'Exeggutor': 'Grass',\n  'Cubone': 'Ground',\n  'Marowak': 'Ground',\n  'Hitmonlee': 'Fighting',\n  'Hitmonchan': 'Fighting',\n  'Lickitung': 'Normal',\n  'Koffing': 'Poison',\n  'Weezing': 'Poison',\n  'Rhyhorn': 'Ground',\n  'Rhydon': 'Ground',\n  'Chansey': 'Normal',\n  'Tangela': 'Grass',\n  'Kangaskhan': 'Normal',\n  'Horsea': 'Water',\n  'Seadra': 'Water',\n  'Goldeen': 'Water',\n  'Seaking': 'Water',\n  'Staryu': 'Water',\n  'Starmie': 'Water',\n  'Mr. Mime': 'Psychic',\n  'Scyther': 'Bug',\n  'Jynx': 'Ice',\n  'Electabuzz': 'Electric',\n  'Magmar': 'Fire',\n  'Pinsir': 'Bug',\n  'Tauros': 'Normal',\n  'Magikarp': 'Water',\n  'Gyarados': 'Water',\n  'Lapras': 'Water',\n  'Ditto': 'Normal',\n  'Eevee': 'Normal',\n  'Vaporeon': 'Water',\n  'Jolteon': 'Electric',\n  'Flareon': 'Fire',\n  'Porygon': 'Normal',\n  'Omanyte': 'Rock',\n  'Omastar': 'Rock',\n  'Kabuto': 'Rock',\n  'Kabutops': 'Rock',\n  'Aerodactyl': 'Rock',\n  'Snorlax': 'Normal',\n  'Articuno': 'Ice',\n  'Zapdos': 'Electric',\n  'Moltres': 'Fire',\n  'Dratini': 'Dragon',\n  'Dragonair': 'Dragon',\n  'Dragonite': 'Dragon',\n  'Mewtwo': 'Psychic',\n  'Mew': 'Psychic',\n  'Chikorita': 'Grass',\n  'Bayleef': 'Grass',\n  'Meganium': 'Grass',\n  'Cyndaquil': 'Fire',\n  'Quilava': 'Fire',\n  'Typhlosion': 'Fire',\n  'Totodile': 'Water',\n  'Croconaw': 'Water',\n  'Feraligatr': 'Water',\n  'Sentret': 'Normal',\n  'Furret': 'Normal',\n  'Hoothoot': 'Normal',\n  'Noctowl': 'Normal',\n  'Ledyba': 'Bug',\n  'Ledian': 'Bug',\n  'Spinarak': 'Bug',\n  'Ariados': 'Bug',\n  'Crobat': 'Poison',\n  'Chinchou': 'Water',\n  'Lanturn': 'Water',\n  'Pichu': 'Electric',\n  'Cleffa': 'Fairy',\n  'Igglybuff': 'Normal',\n  'Togepi': 'Fairy',\n  'Togetic': 'Fairy',\n  'Natu': 'Psychic',\n  'Xatu': 'Psychic',\n  'Mareep': 'Electric',\n  'Flaaffy': 'Electric',\n  'Ampharos': 'Electric',\n  'Bellossom': 'Grass',\n  'Marill': 'Water',\n  'Azumarill': 'Water',\n  'Sudowoodo': 'Rock',\n  'Politoed': 'Water',\n  'Hoppip': 'Grass',\n  'Skiploom': 'Grass',\n  'Jumpluff': 'Grass',\n  'Aipom': 'Normal',\n  'Sunkern': 'Grass',\n  'Sunflora': 'Grass',\n  'Yanma': 'Bug',\n  'Wooper': 'Water',\n  'Quagsire': 'Water',\n  'Espeon': 'Psychic',\n  'Umbreon': 'Dark',\n  'Murkrow': 'Dark',\n  'Slowking': 'Water',\n  'Misdreavus': 'Ghost',\n  'Unown': 'Psychic',\n  'Wobbuffet': 'Psychic',\n  'Girafarig': 'Normal',\n  'Pineco': 'Bug',\n  'Forretress': 'Bug',\n  'Dunsparce': 'Normal',\n  'Gligar': 'Ground',\n  'Steelix': 'Steel',\n  'Snubbull': 'Fairy',\n  'Granbull': 'Fairy',\n  'Qwilfish': 'Water',\n  'Scizor': 'Bug',\n  'Shuckle': 'Bug',\n  'Heracross': 'Bug',\n  'Sneasel': 'Dark',\n  'Teddiursa': 'Normal',\n  'Ursaring': 'Normal',\n  'Slugma': 'Fire',\n  'Magcargo': 'Fire',\n  'Swinub': 'Ice',\n  'Piloswine': 'Ice',\n  'Corsola': 'Water',\n  'Remoraid': 'Water',\n  'Octillery': 'Water',\n  'Delibird': 'Ice',\n  'Mantine': 'Water',\n  'Skarmory': 'Steel',\n  'Houndour': 'Dark',\n  'Houndoom': 'Dark',\n  'Kingdra': 'Water',\n  'Phanpy': 'Ground',\n  'Donphan': 'Ground',\n  'Porygon2': 'Normal',\n  'Stantler': 'Normal',\n  'Smeargle': 'Normal',\n  'Tyrogue': 'Fighting',\n  'Hitmontop': 'Fighting',\n  'Smoochum': 'Ice',\n  'Elekid': 'Electric',\n  'Magby': 'Fire',\n  'Miltank': 'Normal',\n  'Blissey': 'Normal',\n  'Raikou': 'Electric',\n  'Entei': 'Fire',\n  'Suicune': 'Water',\n  'Larvitar': 'Rock',\n  'Pupitar': 'Rock',\n  'Tyranitar': 'Rock',\n  'Lugia': 'Psychic',\n  'Ho-oh': 'Fire',\n  'Celebi': 'Psychic',\n  'Treecko': 'Grass',\n  'Grovyle': 'Grass',\n  'Sceptile': 'Grass',\n  'Torchic': 'Fire',\n  'Combusken': 'Fire',\n  'Blaziken': 'Fire',\n  'Mudkip': 'Water',\n  'Marshtomp': 'Water',\n  'Swampert': 'Water',\n  'Poochyena': 'Dark',\n  'Mightyena': 'Dark',\n  'Zigzagoon': 'Normal',\n  'Linoone': 'Normal',\n  'Wurmple': 'Bug',\n  'Silcoon': 'Bug',\n  'Beautifly': 'Bug',\n  'Cascoon': 'Bug',\n  'Dustox': 'Bug',\n  'Lotad': 'Water',\n  'Lombre': 'Water',\n  'Ludicolo': 'Water',\n  'Seedot': 'Grass',\n  'Nuzleaf': 'Grass',\n  'Shiftry': 'Grass',\n  'Taillow': 'Normal',\n  'Swellow': 'Normal',\n  'Wingull': 'Water',\n  'Pelipper': 'Water',\n  'Ralts': 'Psychic',\n  'Kirlia': 'Psychic',\n  'Gardevoir': 'Psychic',\n  'Surskit': 'Bug',\n  'Masquerain': 'Bug',\n  'Shroomish': 'Grass',\n  'Breloom': 'Grass',\n  'Slakoth': 'Normal',\n  'Vigoroth': 'Normal',\n  'Slaking': 'Normal',\n  'Nincada': 'Bug',\n  'Ninjask': 'Bug',\n  'Shedinja': 'Bug',\n  'Whismur': 'Normal',\n  'Loudred': 'Normal',\n  'Exploud': 'Normal',\n  'Makuhita': 'Fighting',\n  'Hariyama': 'Fighting',\n  'Azurill': 'Normal',\n  'Nosepass': 'Rock',\n  'Skitty': 'Normal',\n  'Delcatty': 'Normal',\n  'Sableye': 'Dark',\n  'Mawile': 'Steel',\n  'Aron': 'Steel',\n  'Lairon': 'Steel',\n  'Aggron': 'Steel',\n  'Meditite': 'Fighting',\n  'Medicham': 'Fighting',\n  'Electrike': 'Electric',\n  'Manectric': 'Electric',\n  'Plusle': 'Electric',\n  'Minun': 'Electric',\n  'Volbeat': 'Bug',\n  'Illumise': 'Bug',\n  'Roselia': 'Grass',\n  'Gulpin': 'Poison',\n  'Swalot': 'Poison',\n  'Carvanha': 'Water',\n  'Sharpedo': 'Water',\n  'Wailmer': 'Water',\n  'Wailord': 'Water',\n  'Numel': 'Fire',\n  'Camerupt': 'Fire',\n  'Torkoal': 'Fire',\n  'Spoink': 'Psychic',\n  'Grumpig': 'Psychic',\n  'Spinda': 'Normal',\n  'Trapinch': 'Ground',\n  'Vibrava': 'Ground',\n  'Flygon': 'Ground',\n  'Cacnea': 'Grass',\n  'Cacturne': 'Grass',\n  'Swablu': 'Normal',\n  'Altaria': 'Dragon',\n  'Zangoose': 'Normal',\n  'Seviper': 'Poison',\n  'Lunatone': 'Rock',\n  'Solrock': 'Rock',\n  'Barboach': 'Water',\n  'Whiscash': 'Water',\n  'Corphish': 'Water',\n  'Crawdaunt': 'Water',\n  'Baltoy': 'Ground',\n  'Claydol': 'Ground',\n  'Lileep': 'Rock',\n  'Cradily': 'Rock',\n  'Anorith': 'Rock',\n  'Armaldo': 'Rock',\n  'Feebas': 'Water',\n  'Milotic': 'Water',\n  'Castform': 'Normal',\n  'Kecleon': 'Normal',\n  'Shuppet': 'Ghost',\n  'Banette': 'Ghost',\n  'Duskull': 'Ghost',\n  'Dusclops': 'Ghost',\n  'Tropius': 'Grass',\n  'Chimecho': 'Psychic',\n  'Absol': 'Dark',\n  'Wynaut': 'Psychic',\n  'Snorunt': 'Ice',\n  'Glalie': 'Ice',\n  'Spheal': 'Ice',\n  'Sealeo': 'Ice',\n  'Walrein': 'Ice',\n  'Clamperl': 'Water',\n  'Huntail': 'Water',\n  'Gorebyss': 'Water',\n  'Relicanth': 'Water',\n  'Luvdisc': 'Water',\n  'Bagon': 'Dragon',\n  'Shelgon': 'Dragon',\n  'Salamence': 'Dragon',\n  'Beldum': 'Steel',\n  'Metang': 'Steel',\n  'Metagross': 'Steel',\n  'Regirock': 'Rock',\n  'Regice': 'Ice',\n  'Registeel': 'Steel',\n  'Latias': 'Dragon',\n  'Latios': 'Dragon',\n  'Kyogre': 'Water',\n  'Groudon': 'Ground',\n  'Rayquaza': 'Dragon',\n  'Jirachi': 'Steel',\n  'Deoxys': 'Psychic',\n  'Turtwig': 'Grass',\n  'Grotle': 'Grass',\n  'Torterra': 'Grass',\n  'Chimchar': 'Fire',\n  'Monferno': 'Fire',\n  'Infernape': 'Fire',\n  'Piplup': 'Water',\n  'Prinplup': 'Water',\n  'Empoleon': 'Water',\n  'Starly': 'Normal',\n  'Staravia': 'Normal',\n  'Staraptor': 'Normal',\n  'Bidoof': 'Normal',\n  'Bibarel': 'Normal',\n  'Kricketot': 'Bug',\n  'Kricketune': 'Bug',\n  'Shinx': 'Electric',\n  'Luxio': 'Electric',\n  'Luxray': 'Electric',\n  'Budew': 'Grass',\n  'Roserade': 'Grass',\n  'Cranidos': 'Rock',\n  'Rampardos': 'Rock',\n  'Shieldon': 'Rock',\n  'Bastiodon': 'Rock',\n  'Burmy': 'Bug',\n  'Wormadam': 'Bug',\n  'Mothim': 'Bug',\n  'Combee': 'Bug',\n  'Vespiquen': 'Bug',\n  'Pachirisu': 'Electric',\n  'Buizel': 'Water',\n  'Floatzel': 'Water',\n  'Cherubi': 'Grass',\n  'Cherrim': 'Grass',\n  'Shellos': 'Water',\n  'Gastrodon': 'Water',\n  'Ambipom': 'Normal',\n  'Drifloon': 'Ghost',\n  'Drifblim': 'Ghost',\n  'Buneary': 'Normal',\n  'Lopunny': 'Normal',\n  'Mismagius': 'Ghost',\n  'Honchkrow': 'Dark',\n  'Glameow': 'Normal',\n  'Purugly': 'Normal',\n  'Chingling': 'Psychic',\n  'Stunky': 'Poison',\n  'Skuntank': 'Poison',\n  'Bronzor': 'Steel',\n  'Bronzong': 'Steel',\n  'Bonsly': 'Rock',\n  'Mime Jr.': 'Psychic',\n  'Happiny': 'Normal',\n  'Chatot': 'Normal',\n  'Spiritomb': 'Ghost',\n  'Gible': 'Dragon',\n  'Gabite': 'Dragon',\n  'Garchomp': 'Dragon',\n  'Munchlax': 'Normal',\n  'Riolu': 'Fighting',\n  'Lucario': 'Fighting',\n  'Hippopotas': 'Ground',\n  'Hippowdon': 'Ground',\n  'Skorupi': 'Poison',\n  'Drapion': 'Poison',\n  'Croagunk': 'Poison',\n  'Toxicroak': 'Poison',\n  'Carnivine': 'Grass',\n  'Finneon': 'Water',\n  'Lumineon': 'Water',\n  'Mantyke': 'Water',\n  'Snover': 'Grass',\n  'Abomasnow': 'Grass',\n  'Weavile': 'Dark',\n  'Magnezone': 'Electric',\n  'Lickilicky': 'Normal',\n  'Rhyperior': 'Ground',\n  'Tangrowth': 'Grass',\n  'Electivire': 'Electric',\n  'Magmortar': 'Fire',\n  'Togekiss': 'Fairy',\n  'Yanmega': 'Bug',\n  'Leafeon': 'Grass',\n  'Glaceon': 'Ice',\n  'Gliscor': 'Ground',\n  'Mamoswine': 'Ice',\n  'Porygon-Z': 'Normal',\n  'Gallade': 'Psychic',\n  'Probopass': 'Rock',\n  'Dusknoir': 'Ghost',\n  'Froslass': 'Ice',\n  'Rotom': 'Electric',\n  'Uxie': 'Psychic',\n  'Mesprit': 'Psychic',\n  'Azelf': 'Psychic',\n  'Dialga': 'Steel',\n  'Palkia': 'Water',\n  'Heatran': 'Fire',\n  'Regigigas': 'Normal',\n  'Giratina': 'Ghost',\n  'Cresselia': 'Psychic',\n  'Phione': 'Water',\n  'Manaphy': 'Water',\n  'Darkrai': 'Dark',\n  'Shaymin': 'Grass',\n  'Arceus': 'Normal',\n  'Victini': 'Psychic',\n  'Snivy': 'Grass',\n  'Servine': 'Grass',\n  'Serperior': 'Grass',\n  'Tepig': 'Fire',\n  'Pignite': 'Fire',\n  'Emboar': 'Fire',\n  'Oshawott': 'Water',\n  'Dewott': 'Water',\n  'Samurott': 'Water',\n  'Patrat': 'Normal',\n  'Watchog': 'Normal',\n  'Lillipup': 'Normal',\n  'Herdier': 'Normal',\n  'Stoutland': 'Normal',\n  'Purrloin': 'Dark',\n  'Liepard': 'Dark',\n  'Pansage': 'Grass',\n  'Simisage': 'Grass',\n  'Pansear': 'Fire',\n  'Simisear': 'Fire',\n  'Panpour': 'Water',\n  'Simipour': 'Water',\n  'Munna': 'Psychic',\n  'Musharna': 'Psychic',\n  'Pidove': 'Normal',\n  'Tranquill': 'Normal',\n  'Unfezant': 'Normal',\n  'Blitzle': 'Electric',\n  'Zebstrika': 'Electric',\n  'Roggenrola': 'Rock',\n  'Boldore': 'Rock',\n  'Gigalith': 'Rock',\n  'Woobat': 'Psychic',\n  'Swoobat': 'Psychic',\n  'Drilbur': 'Ground',\n  'Excadrill': 'Ground',\n  'Audino': 'Normal',\n  'Timburr': 'Fighting',\n  'Gurdurr': 'Fighting',\n  'Conkeldurr': 'Fighting',\n  'Tympole': 'Water',\n  'Palpitoad': 'Water',\n  'Seismitoad': 'Water',\n  'Throh': 'Fighting',\n  'Sawk': 'Fighting',\n  'Sewaddle': 'Bug',\n  'Swadloon': 'Bug',\n  'Leavanny': 'Bug',\n  'Venipede': 'Bug',\n  'Whirlipede': 'Bug',\n  'Scolipede': 'Bug',\n  'Cottonee': 'Grass',\n  'Whimsicott': 'Grass',\n  'Petilil': 'Grass',\n  'Lilligant': 'Grass',\n  'Basculin': 'Water',\n  'Sandile': 'Ground',\n  'Krokorok': 'Ground',\n  'Krookodile': 'Ground',\n  'Darumaka': 'Fire',\n  'Darmanitan': 'Fire',\n  'Maractus': 'Grass',\n  'Dwebble': 'Bug',\n  'Crustle': 'Bug',\n  'Scraggy': 'Dark',\n  'Scrafty': 'Dark',\n  'Sigilyph': 'Psychic',\n  'Yamask': 'Ghost',\n  'Cofagrigus': 'Ghost',\n  'Tirtouga': 'Water',\n  'Carracosta': 'Water',\n  'Archen': 'Rock',\n  'Archeops': 'Rock',\n  'Trubbish': 'Poison',\n  'Garbodor': 'Poison',\n  'Zorua': 'Dark',\n  'Zoroark': 'Dark',\n  'Minccino': 'Normal',\n  'Cinccino': 'Normal',\n  'Gothita': 'Psychic',\n  'Gothorita': 'Psychic',\n  'Gothitelle': 'Psychic',\n  'Solosis': 'Psychic',\n  'Duosion': 'Psychic',\n  'Reuniclus': 'Psychic',\n  'Ducklett': 'Water',\n  'Swanna': 'Water',\n  'Vanillite': 'Ice',\n  'Vanillish': 'Ice',\n  'Vanilluxe': 'Ice',\n  'Deerling': 'Normal',\n  'Sawsbuck': 'Normal',\n  'Emolga': 'Electric',\n  'Karrablast': 'Bug',\n  'Escavalier': 'Bug',\n  'Foongus': 'Grass',\n  'Amoonguss': 'Grass',\n  'Frillish': 'Water',\n  'Jellicent': 'Water',\n  'Alomomola': 'Water',\n  'Joltik': 'Bug',\n  'Galvantula': 'Bug',\n  'Ferroseed': 'Grass',\n  'Ferrothorn': 'Grass',\n  'Klink': 'Steel',\n  'Klang': 'Steel',\n  'Klinklang': 'Steel',\n  'Tynamo': 'Electric',\n  'Eelektrik': 'Electric',\n  'Eelektross': 'Electric',\n  'Elgyem': 'Psychic',\n  'Beheeyem': 'Psychic',\n  'Litwick': 'Ghost',\n  'Lampent': 'Ghost',\n  'Chandelure': 'Ghost',\n  'Axew': 'Dragon',\n  'Fraxure': 'Dragon',\n  'Haxorus': 'Dragon',\n  'Cubchoo': 'Ice',\n  'Beartic': 'Ice',\n  'Cryogonal': 'Ice',\n  'Shelmet': 'Bug',\n  'Accelgor': 'Bug',\n  'Stunfisk': 'Ground',\n  'Mienfoo': 'Fighting',\n  'Mienshao': 'Fighting',\n  'Druddigon': 'Dragon',\n  'Golett': 'Ground',\n  'Golurk': 'Ground',\n  'Pawniard': 'Dark',\n  'Bisharp': 'Dark',\n  'Bouffalant': 'Normal',\n  'Rufflet': 'Normal',\n  'Braviary': 'Normal',\n  'Vullaby': 'Dark',\n  'Mandibuzz': 'Dark',\n  'Heatmor': 'Fire',\n  'Durant': 'Bug',\n  'Deino': 'Dark',\n  'Zweilous': 'Dark',\n  'Hydreigon': 'Dark',\n  'Larvesta': 'Bug',\n  'Volcarona': 'Bug',\n  'Cobalion': 'Steel',\n  'Terrakion': 'Rock',\n  'Virizion': 'Grass',\n  'Tornadus': 'Flying',\n  'Thundurus': 'Electric',\n  'Reshiram': 'Dragon',\n  'Zekrom': 'Dragon',\n  'Landorus': 'Ground',\n  'Kyurem': 'Dragon',\n  'Keldeo': 'Water',\n  'Meloetta': 'Normal',\n  'Genesect': 'Bug',\n  'Chespin': 'Grass',\n  'Quilladin': 'Grass',\n  'Chesnaught': 'Grass',\n  'Fennekin': 'Fire',\n  'Braixen': 'Fire',\n  'Delphox': 'Fire',\n  'Froakie': 'Water',\n  'Frogadier': 'Water',\n  'Greninja': 'Water',\n  'Bunnelby': 'Normal',\n  'Diggersby': 'Normal',\n  'Fletchling': 'Normal',\n  'Fletchinder': 'Fire',\n  'Talonflame': 'Fire',\n  'Scatterbug': 'Bug',\n  'Spewpa': 'Bug',\n  'Vivillon': 'Bug',\n  'Litleo': 'Fire',\n  'Pyroar': 'Fire',\n  'Flabébé': 'Fairy',\n  'Floette': 'Fairy',\n  'Florges': 'Fairy',\n  'Skiddo': 'Grass',\n  'Gogoat': 'Grass',\n  'Pancham': 'Fighting',\n  'Pangoro': 'Fighting',\n  'Furfrou': 'Normal',\n  'Espurr': 'Psychic',\n  'Meowstic': 'Psychic',\n  'Honedge': 'Steel',\n  'Doublade': 'Steel',\n  'Aegislash': 'Steel',\n  'Spritzee': 'Fairy',\n  'Aromatisse': 'Fairy',\n  'Swirlix': 'Fairy',\n  'Slurpuff': 'Fairy',\n  'Inkay': 'Dark',\n  'Malamar': 'Dark',\n  'Binacle': 'Rock',\n  'Barbaracle': 'Rock',\n  'Skrelp': 'Poison',\n  'Dragalge': 'Poison',\n  'Clauncher': 'Water',\n  'Clawitzer': 'Water',\n  'Helioptile': 'Electric',\n  'Heliolisk': 'Electric',\n  'Tyrunt': 'Rock',\n  'Tyrantrum': 'Rock',\n  'Amaura': 'Rock',\n  'Aurorus': 'Rock',\n  'Sylveon': 'Fairy',\n  'Hawlucha': 'Fighting',\n  'Dedenne': 'Electric',\n  'Carbink': 'Rock',\n  'Goomy': 'Dragon',\n  'Sliggoo': 'Dragon',\n  'Goodra': 'Dragon',\n  'Klefki': 'Steel',\n  'Phantump': 'Ghost',\n  'Trevenant': 'Ghost',\n  'Pumpkaboo': 'Ghost',\n  'Gourgeist': 'Ghost',\n  'Bergmite': 'Ice',\n  'Avalugg': 'Ice',\n  'Noibat': 'Flying',\n  'Noivern': 'Flying',\n  'Xerneas': 'Fairy',\n  'Yveltal': 'Dark',\n  'Zygarde': 'Dragon',\n  'Diancie': 'Rock',\n  'Hoopa': 'Psychic',\n  'Volcanion': 'Fire'}}"
          },
          "metadata": {}
        }
      ]
    },
    {
      "cell_type": "code",
      "source": "pokemon_names.map(pokemon_types)",
      "metadata": {
        "collapsed": false,
        "jupyter": {
          "outputs_hidden": false
        }
      },
      "execution_count": 267,
      "outputs": [
        {
          "execution_count": 267,
          "output_type": "execute_result",
          "data": {
            "text/plain": [
              "0         Grass\n",
              "1         Grass\n",
              "2         Grass\n",
              "3          Fire\n",
              "4          Fire\n",
              "5          Fire\n",
              "6         Water\n",
              "7         Water\n",
              "8         Water\n",
              "9           Bug\n",
              "10          Bug\n",
              "11          Bug\n",
              "12          Bug\n",
              "13          Bug\n",
              "14          Bug\n",
              "15       Normal\n",
              "16       Normal\n",
              "17       Normal\n",
              "18       Normal\n",
              "19       Normal\n",
              "20       Normal\n",
              "21       Normal\n",
              "22       Poison\n",
              "23       Poison\n",
              "24     Electric\n",
              "25     Electric\n",
              "26       Ground\n",
              "27       Ground\n",
              "28       Poison\n",
              "29       Poison\n",
              "         ...   \n",
              "691       Water\n",
              "692       Water\n",
              "693    Electric\n",
              "694    Electric\n",
              "695        Rock\n",
              "696        Rock\n",
              "697        Rock\n",
              "698        Rock\n",
              "699       Fairy\n",
              "700    Fighting\n",
              "701    Electric\n",
              "702        Rock\n",
              "703      Dragon\n",
              "704      Dragon\n",
              "705      Dragon\n",
              "706       Steel\n",
              "707       Ghost\n",
              "708       Ghost\n",
              "709       Ghost\n",
              "710       Ghost\n",
              "711         Ice\n",
              "712         Ice\n",
              "713      Flying\n",
              "714      Flying\n",
              "715       Fairy\n",
              "716        Dark\n",
              "717      Dragon\n",
              "718        Rock\n",
              "719     Psychic\n",
              "720        Fire\n",
              "Name: Pokemon, dtype: object"
            ]
          },
          "metadata": {}
        }
      ]
    },
    {
      "cell_type": "code",
      "source": "",
      "metadata": {
        "tags": []
      },
      "execution_count": null,
      "outputs": []
    },
    {
      "cell_type": "code",
      "source": "",
      "metadata": {
        "tags": []
      },
      "execution_count": null,
      "outputs": []
    },
    {
      "cell_type": "code",
      "source": "",
      "metadata": {
        "tags": []
      },
      "execution_count": null,
      "outputs": []
    },
    {
      "cell_type": "code",
      "source": "",
      "metadata": {
        "tags": []
      },
      "execution_count": null,
      "outputs": []
    },
    {
      "cell_type": "code",
      "source": "",
      "metadata": {
        "tags": []
      },
      "execution_count": null,
      "outputs": []
    },
    {
      "cell_type": "code",
      "source": "",
      "metadata": {
        "tags": []
      },
      "execution_count": null,
      "outputs": []
    },
    {
      "cell_type": "code",
      "source": "",
      "metadata": {
        "tags": []
      },
      "execution_count": null,
      "outputs": []
    },
    {
      "cell_type": "code",
      "source": "",
      "metadata": {
        "tags": []
      },
      "execution_count": null,
      "outputs": []
    },
    {
      "cell_type": "code",
      "source": "",
      "metadata": {
        "tags": []
      },
      "execution_count": null,
      "outputs": []
    },
    {
      "cell_type": "code",
      "source": "",
      "metadata": {
        "tags": []
      },
      "execution_count": null,
      "outputs": []
    }
  ]
}