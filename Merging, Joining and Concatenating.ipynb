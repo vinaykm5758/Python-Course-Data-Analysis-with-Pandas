{
  "metadata": {
    "anaconda-cloud": {},
    "kernelspec": {
      "name": "python",
      "display_name": "Python (Pyodide)",
      "language": "python"
    },
    "language_info": {
      "codemirror_mode": {
        "name": "python",
        "version": 3
      },
      "file_extension": ".py",
      "mimetype": "text/x-python",
      "name": "python",
      "nbconvert_exporter": "python",
      "pygments_lexer": "ipython3",
      "version": "3.8"
    }
  },
  "nbformat_minor": 4,
  "nbformat": 4,
  "cells": [
    {
      "cell_type": "code",
      "source": "import pandas as pd",
      "metadata": {
        "tags": [],
        "trusted": true
      },
      "execution_count": 42,
      "outputs": []
    },
    {
      "cell_type": "code",
      "source": "week1 = pd.read_csv(\"Restaurant - Week 1 Sales.csv\")\nweek2 = pd.read_csv(\"Restaurant - Week 2 Sales.csv\")\ncustomers = pd.read_csv(\"Restaurant - Customers.csv\")\nfoods = pd.read_csv(\"Restaurant - Foods.csv\")",
      "metadata": {
        "tags": [],
        "trusted": true
      },
      "execution_count": 43,
      "outputs": []
    },
    {
      "cell_type": "markdown",
      "source": "## The `pd.concat()` Method, Part 1",
      "metadata": {}
    },
    {
      "cell_type": "code",
      "source": "week1 = pd.read_csv(\"Restaurant - Week 1 Sales.csv\")\nweek2 = pd.read_csv(\"Restaurant - Week 2 Sales.csv\")\ncustomers = pd.read_csv(\"Restaurant - Customers.csv\")\nfoods = pd.read_csv(\"Restaurant - Foods.csv\")",
      "metadata": {
        "collapsed": false,
        "jupyter": {
          "outputs_hidden": false
        },
        "trusted": true
      },
      "execution_count": 44,
      "outputs": []
    },
    {
      "cell_type": "code",
      "source": "",
      "metadata": {},
      "execution_count": null,
      "outputs": []
    },
    {
      "cell_type": "code",
      "source": "",
      "metadata": {},
      "execution_count": null,
      "outputs": []
    },
    {
      "cell_type": "code",
      "source": "len(week1)",
      "metadata": {
        "collapsed": false,
        "jupyter": {
          "outputs_hidden": false
        },
        "trusted": true
      },
      "execution_count": 45,
      "outputs": [
        {
          "execution_count": 45,
          "output_type": "execute_result",
          "data": {
            "text/plain": "250"
          },
          "metadata": {}
        }
      ]
    },
    {
      "cell_type": "code",
      "source": "len(week2)",
      "metadata": {
        "collapsed": false,
        "jupyter": {
          "outputs_hidden": false
        },
        "trusted": true
      },
      "execution_count": 4,
      "outputs": [
        {
          "execution_count": 4,
          "output_type": "execute_result",
          "data": {
            "text/plain": "250"
          },
          "metadata": {}
        }
      ]
    },
    {
      "cell_type": "code",
      "source": "len(pd.concat([week1, week2]))",
      "metadata": {
        "collapsed": false,
        "jupyter": {
          "outputs_hidden": false
        },
        "trusted": true
      },
      "execution_count": 12,
      "outputs": [
        {
          "execution_count": 12,
          "output_type": "execute_result",
          "data": {
            "text/plain": "500"
          },
          "metadata": {}
        }
      ]
    },
    {
      "cell_type": "markdown",
      "source": "## The `pd.concat()` Method, Part 2",
      "metadata": {}
    },
    {
      "cell_type": "code",
      "source": "week1 = pd.read_csv(\"Restaurant - Week 1 Sales.csv\")\nweek2 = pd.read_csv(\"Restaurant - Week 2 Sales.csv\")\ncustomers = pd.read_csv(\"Restaurant - Customers.csv\")\nfoods = pd.read_csv(\"Restaurant - Foods.csv\")",
      "metadata": {
        "collapsed": false,
        "jupyter": {
          "outputs_hidden": false
        }
      },
      "execution_count": 6,
      "outputs": []
    },
    {
      "cell_type": "code",
      "source": "sales = pd.concat([week1, week2], keys = [\"A\", \"B\"])",
      "metadata": {
        "collapsed": false,
        "jupyter": {
          "outputs_hidden": false
        },
        "trusted": true
      },
      "execution_count": 13,
      "outputs": []
    },
    {
      "cell_type": "code",
      "source": "sales.ix[(\"B\", 240), \"Customer ID\"]",
      "metadata": {
        "collapsed": false,
        "jupyter": {
          "outputs_hidden": false
        },
        "trusted": true
      },
      "execution_count": 14,
      "outputs": [
        {
          "ename": "<class 'AttributeError'>",
          "evalue": "'DataFrame' object has no attribute 'ix'",
          "traceback": [
            "\u001b[0;31m---------------------------------------------------------------------------\u001b[0m",
            "\u001b[0;31mAttributeError\u001b[0m                            Traceback (most recent call last)",
            "\u001b[0;32m<ipython-input-14-54f14c703741>\u001b[0m in \u001b[0;36m?\u001b[0;34m()\u001b[0m\n\u001b[0;32m----> 1\u001b[0;31m \u001b[0msales\u001b[0m\u001b[0;34m.\u001b[0m\u001b[0mix\u001b[0m\u001b[0;34m[\u001b[0m\u001b[0;34m(\u001b[0m\u001b[0;34m\"B\"\u001b[0m\u001b[0;34m,\u001b[0m \u001b[0;36m240\u001b[0m\u001b[0;34m)\u001b[0m\u001b[0;34m,\u001b[0m \u001b[0;34m\"Customer ID\"\u001b[0m\u001b[0;34m]\u001b[0m\u001b[0;34m\u001b[0m\u001b[0;34m\u001b[0m\u001b[0m\n\u001b[0m",
            "\u001b[0;32m/lib/python3.11/site-packages/pandas/core/generic.py\u001b[0m in \u001b[0;36m?\u001b[0;34m(self, name)\u001b[0m\n\u001b[1;32m   5898\u001b[0m             \u001b[0;32mand\u001b[0m \u001b[0mname\u001b[0m \u001b[0;32mnot\u001b[0m \u001b[0;32min\u001b[0m \u001b[0mself\u001b[0m\u001b[0;34m.\u001b[0m\u001b[0m_accessors\u001b[0m\u001b[0;34m\u001b[0m\u001b[0;34m\u001b[0m\u001b[0m\n\u001b[1;32m   5899\u001b[0m             \u001b[0;32mand\u001b[0m \u001b[0mself\u001b[0m\u001b[0;34m.\u001b[0m\u001b[0m_info_axis\u001b[0m\u001b[0;34m.\u001b[0m\u001b[0m_can_hold_identifiers_and_holds_name\u001b[0m\u001b[0;34m(\u001b[0m\u001b[0mname\u001b[0m\u001b[0;34m)\u001b[0m\u001b[0;34m\u001b[0m\u001b[0;34m\u001b[0m\u001b[0m\n\u001b[1;32m   5900\u001b[0m         ):\n\u001b[1;32m   5901\u001b[0m             \u001b[0;32mreturn\u001b[0m \u001b[0mself\u001b[0m\u001b[0;34m[\u001b[0m\u001b[0mname\u001b[0m\u001b[0;34m]\u001b[0m\u001b[0;34m\u001b[0m\u001b[0;34m\u001b[0m\u001b[0m\n\u001b[0;32m-> 5902\u001b[0;31m         \u001b[0;32mreturn\u001b[0m \u001b[0mobject\u001b[0m\u001b[0;34m.\u001b[0m\u001b[0m__getattribute__\u001b[0m\u001b[0;34m(\u001b[0m\u001b[0mself\u001b[0m\u001b[0;34m,\u001b[0m \u001b[0mname\u001b[0m\u001b[0;34m)\u001b[0m\u001b[0;34m\u001b[0m\u001b[0;34m\u001b[0m\u001b[0m\n\u001b[0m",
            "\u001b[0;31mAttributeError\u001b[0m: 'DataFrame' object has no attribute 'ix'"
          ],
          "output_type": "error"
        }
      ]
    },
    {
      "cell_type": "markdown",
      "source": "## The `.append()` Method",
      "metadata": {}
    },
    {
      "cell_type": "code",
      "source": "week1 = pd.read_csv(\"Restaurant - Week 1 Sales.csv\")\nweek2 = pd.read_csv(\"Restaurant - Week 2 Sales.csv\")\ncustomers = pd.read_csv(\"Restaurant - Customers.csv\")\nfoods = pd.read_csv(\"Restaurant - Foods.csv\")",
      "metadata": {
        "tags": [],
        "trusted": true
      },
      "execution_count": 15,
      "outputs": []
    },
    {
      "cell_type": "code",
      "source": "sales = week2.append(week1, ignore_index = True)",
      "metadata": {
        "collapsed": false,
        "jupyter": {
          "outputs_hidden": false
        },
        "trusted": true
      },
      "execution_count": 16,
      "outputs": [
        {
          "name": "stderr",
          "text": "<ipython-input-16-18f5c778d37c>:1: FutureWarning: The frame.append method is deprecated and will be removed from pandas in a future version. Use pandas.concat instead.\n  sales = week2.append(week1, ignore_index = True)\n",
          "output_type": "stream"
        }
      ]
    },
    {
      "cell_type": "markdown",
      "source": "## Inner Joins, Part 1",
      "metadata": {}
    },
    {
      "cell_type": "code",
      "source": "week1 = pd.read_csv(\"Restaurant - Week 1 Sales.csv\")\nweek2 = pd.read_csv(\"Restaurant - Week 2 Sales.csv\")\ncustomers = pd.read_csv(\"Restaurant - Customers.csv\")\nfoods = pd.read_csv(\"Restaurant - Foods.csv\")",
      "metadata": {
        "collapsed": true,
        "jupyter": {
          "outputs_hidden": true
        }
      },
      "execution_count": 20,
      "outputs": []
    },
    {
      "cell_type": "code",
      "source": "week1.head(2)",
      "metadata": {
        "collapsed": false,
        "jupyter": {
          "outputs_hidden": false
        }
      },
      "execution_count": 21,
      "outputs": [
        {
          "execution_count": 21,
          "output_type": "execute_result",
          "data": {
            "text/html": [
              "<div>\n",
              "<table border=\"1\" class=\"dataframe\">\n",
              "  <thead>\n",
              "    <tr style=\"text-align: right;\">\n",
              "      <th></th>\n",
              "      <th>Customer ID</th>\n",
              "      <th>Food ID</th>\n",
              "    </tr>\n",
              "  </thead>\n",
              "  <tbody>\n",
              "    <tr>\n",
              "      <th>0</th>\n",
              "      <td>537</td>\n",
              "      <td>9</td>\n",
              "    </tr>\n",
              "    <tr>\n",
              "      <th>1</th>\n",
              "      <td>97</td>\n",
              "      <td>4</td>\n",
              "    </tr>\n",
              "  </tbody>\n",
              "</table>\n",
              "</div>"
            ],
            "text/plain": [
              "   Customer ID  Food ID\n",
              "0          537        9\n",
              "1           97        4"
            ]
          },
          "metadata": {}
        }
      ]
    },
    {
      "cell_type": "code",
      "source": "week2.head(2)",
      "metadata": {
        "collapsed": false,
        "jupyter": {
          "outputs_hidden": false
        }
      },
      "execution_count": 22,
      "outputs": [
        {
          "execution_count": 22,
          "output_type": "execute_result",
          "data": {
            "text/html": [
              "<div>\n",
              "<table border=\"1\" class=\"dataframe\">\n",
              "  <thead>\n",
              "    <tr style=\"text-align: right;\">\n",
              "      <th></th>\n",
              "      <th>Customer ID</th>\n",
              "      <th>Food ID</th>\n",
              "    </tr>\n",
              "  </thead>\n",
              "  <tbody>\n",
              "    <tr>\n",
              "      <th>0</th>\n",
              "      <td>688</td>\n",
              "      <td>10</td>\n",
              "    </tr>\n",
              "    <tr>\n",
              "      <th>1</th>\n",
              "      <td>813</td>\n",
              "      <td>7</td>\n",
              "    </tr>\n",
              "  </tbody>\n",
              "</table>\n",
              "</div>"
            ],
            "text/plain": [
              "   Customer ID  Food ID\n",
              "0          688       10\n",
              "1          813        7"
            ]
          },
          "metadata": {}
        }
      ]
    },
    {
      "cell_type": "code",
      "source": "week1.merge(week2, how = \"inner\", on = \"Customer ID\", suffixes = [\" - A\", \" - B\"])",
      "metadata": {
        "collapsed": false,
        "jupyter": {
          "outputs_hidden": false
        },
        "trusted": true
      },
      "execution_count": 17,
      "outputs": [
        {
          "execution_count": 17,
          "output_type": "execute_result",
          "data": {
            "text/plain": "    Customer ID  Food ID - A  Food ID - B\n0           537            9            5\n1           155            9            3\n2           155            1            3\n3           503            5            8\n4           503            5            9\n..          ...          ...          ...\n57          945            5            4\n58          343            3            5\n59          343            3            2\n60          343            3            7\n61          621            9            6\n\n[62 rows x 3 columns]",
            "text/html": "<div>\n<style scoped>\n    .dataframe tbody tr th:only-of-type {\n        vertical-align: middle;\n    }\n\n    .dataframe tbody tr th {\n        vertical-align: top;\n    }\n\n    .dataframe thead th {\n        text-align: right;\n    }\n</style>\n<table border=\"1\" class=\"dataframe\">\n  <thead>\n    <tr style=\"text-align: right;\">\n      <th></th>\n      <th>Customer ID</th>\n      <th>Food ID - A</th>\n      <th>Food ID - B</th>\n    </tr>\n  </thead>\n  <tbody>\n    <tr>\n      <th>0</th>\n      <td>537</td>\n      <td>9</td>\n      <td>5</td>\n    </tr>\n    <tr>\n      <th>1</th>\n      <td>155</td>\n      <td>9</td>\n      <td>3</td>\n    </tr>\n    <tr>\n      <th>2</th>\n      <td>155</td>\n      <td>1</td>\n      <td>3</td>\n    </tr>\n    <tr>\n      <th>3</th>\n      <td>503</td>\n      <td>5</td>\n      <td>8</td>\n    </tr>\n    <tr>\n      <th>4</th>\n      <td>503</td>\n      <td>5</td>\n      <td>9</td>\n    </tr>\n    <tr>\n      <th>...</th>\n      <td>...</td>\n      <td>...</td>\n      <td>...</td>\n    </tr>\n    <tr>\n      <th>57</th>\n      <td>945</td>\n      <td>5</td>\n      <td>4</td>\n    </tr>\n    <tr>\n      <th>58</th>\n      <td>343</td>\n      <td>3</td>\n      <td>5</td>\n    </tr>\n    <tr>\n      <th>59</th>\n      <td>343</td>\n      <td>3</td>\n      <td>2</td>\n    </tr>\n    <tr>\n      <th>60</th>\n      <td>343</td>\n      <td>3</td>\n      <td>7</td>\n    </tr>\n    <tr>\n      <th>61</th>\n      <td>621</td>\n      <td>9</td>\n      <td>6</td>\n    </tr>\n  </tbody>\n</table>\n<p>62 rows × 3 columns</p>\n</div>"
          },
          "metadata": {}
        }
      ]
    },
    {
      "cell_type": "code",
      "source": "week1[week1[\"Customer ID\"] == 155]",
      "metadata": {
        "tags": [],
        "trusted": true
      },
      "execution_count": 18,
      "outputs": [
        {
          "execution_count": 18,
          "output_type": "execute_result",
          "data": {
            "text/plain": "    Customer ID  Food ID\n4           155        9\n17          155        1",
            "text/html": "<div>\n<style scoped>\n    .dataframe tbody tr th:only-of-type {\n        vertical-align: middle;\n    }\n\n    .dataframe tbody tr th {\n        vertical-align: top;\n    }\n\n    .dataframe thead th {\n        text-align: right;\n    }\n</style>\n<table border=\"1\" class=\"dataframe\">\n  <thead>\n    <tr style=\"text-align: right;\">\n      <th></th>\n      <th>Customer ID</th>\n      <th>Food ID</th>\n    </tr>\n  </thead>\n  <tbody>\n    <tr>\n      <th>4</th>\n      <td>155</td>\n      <td>9</td>\n    </tr>\n    <tr>\n      <th>17</th>\n      <td>155</td>\n      <td>1</td>\n    </tr>\n  </tbody>\n</table>\n</div>"
          },
          "metadata": {}
        }
      ]
    },
    {
      "cell_type": "code",
      "source": "week2[week2[\"Customer ID\"] == 155]",
      "metadata": {
        "tags": [],
        "trusted": true
      },
      "execution_count": 19,
      "outputs": [
        {
          "execution_count": 19,
          "output_type": "execute_result",
          "data": {
            "text/plain": "     Customer ID  Food ID\n208          155        3",
            "text/html": "<div>\n<style scoped>\n    .dataframe tbody tr th:only-of-type {\n        vertical-align: middle;\n    }\n\n    .dataframe tbody tr th {\n        vertical-align: top;\n    }\n\n    .dataframe thead th {\n        text-align: right;\n    }\n</style>\n<table border=\"1\" class=\"dataframe\">\n  <thead>\n    <tr style=\"text-align: right;\">\n      <th></th>\n      <th>Customer ID</th>\n      <th>Food ID</th>\n    </tr>\n  </thead>\n  <tbody>\n    <tr>\n      <th>208</th>\n      <td>155</td>\n      <td>3</td>\n    </tr>\n  </tbody>\n</table>\n</div>"
          },
          "metadata": {}
        }
      ]
    },
    {
      "cell_type": "code",
      "source": "",
      "metadata": {
        "collapsed": true,
        "jupyter": {
          "outputs_hidden": true
        }
      },
      "execution_count": null,
      "outputs": []
    },
    {
      "cell_type": "code",
      "source": "",
      "metadata": {
        "collapsed": true,
        "jupyter": {
          "outputs_hidden": true
        }
      },
      "execution_count": null,
      "outputs": []
    },
    {
      "cell_type": "code",
      "source": "",
      "metadata": {
        "collapsed": true,
        "jupyter": {
          "outputs_hidden": true
        }
      },
      "execution_count": null,
      "outputs": []
    },
    {
      "cell_type": "code",
      "source": "",
      "metadata": {
        "collapsed": true,
        "jupyter": {
          "outputs_hidden": true
        }
      },
      "execution_count": null,
      "outputs": []
    },
    {
      "cell_type": "code",
      "source": "",
      "metadata": {
        "collapsed": true,
        "jupyter": {
          "outputs_hidden": true
        }
      },
      "execution_count": null,
      "outputs": []
    },
    {
      "cell_type": "code",
      "source": "",
      "metadata": {
        "collapsed": true,
        "jupyter": {
          "outputs_hidden": true
        }
      },
      "execution_count": null,
      "outputs": []
    },
    {
      "cell_type": "code",
      "source": "",
      "metadata": {
        "collapsed": true,
        "jupyter": {
          "outputs_hidden": true
        }
      },
      "execution_count": null,
      "outputs": []
    },
    {
      "cell_type": "code",
      "source": "",
      "metadata": {
        "collapsed": true,
        "jupyter": {
          "outputs_hidden": true
        }
      },
      "execution_count": null,
      "outputs": []
    },
    {
      "cell_type": "code",
      "source": "",
      "metadata": {
        "collapsed": true,
        "jupyter": {
          "outputs_hidden": true
        }
      },
      "execution_count": null,
      "outputs": []
    },
    {
      "cell_type": "code",
      "source": "",
      "metadata": {
        "collapsed": true,
        "jupyter": {
          "outputs_hidden": true
        }
      },
      "execution_count": null,
      "outputs": []
    },
    {
      "cell_type": "code",
      "source": "",
      "metadata": {
        "collapsed": true,
        "jupyter": {
          "outputs_hidden": true
        }
      },
      "execution_count": null,
      "outputs": []
    },
    {
      "cell_type": "code",
      "source": "",
      "metadata": {
        "collapsed": true,
        "jupyter": {
          "outputs_hidden": true
        }
      },
      "execution_count": null,
      "outputs": []
    },
    {
      "cell_type": "code",
      "source": "",
      "metadata": {
        "collapsed": true,
        "jupyter": {
          "outputs_hidden": true
        }
      },
      "execution_count": null,
      "outputs": []
    },
    {
      "cell_type": "code",
      "source": "",
      "metadata": {
        "collapsed": true,
        "jupyter": {
          "outputs_hidden": true
        }
      },
      "execution_count": null,
      "outputs": []
    },
    {
      "cell_type": "markdown",
      "source": "## Inner Joins, Part 2",
      "metadata": {}
    },
    {
      "cell_type": "code",
      "source": "week1 = pd.read_csv(\"Restaurant - Week 1 Sales.csv\")\nweek2 = pd.read_csv(\"Restaurant - Week 2 Sales.csv\")\ncustomers = pd.read_csv(\"Restaurant - Customers.csv\")\nfoods = pd.read_csv(\"Restaurant - Foods.csv\")",
      "metadata": {
        "tags": [],
        "trusted": true
      },
      "execution_count": 20,
      "outputs": []
    },
    {
      "cell_type": "code",
      "source": "week1.head()",
      "metadata": {
        "collapsed": false,
        "jupyter": {
          "outputs_hidden": false
        },
        "trusted": true
      },
      "execution_count": 21,
      "outputs": [
        {
          "execution_count": 21,
          "output_type": "execute_result",
          "data": {
            "text/plain": "   Customer ID  Food ID\n0          537        9\n1           97        4\n2          658        1\n3          202        2\n4          155        9",
            "text/html": "<div>\n<style scoped>\n    .dataframe tbody tr th:only-of-type {\n        vertical-align: middle;\n    }\n\n    .dataframe tbody tr th {\n        vertical-align: top;\n    }\n\n    .dataframe thead th {\n        text-align: right;\n    }\n</style>\n<table border=\"1\" class=\"dataframe\">\n  <thead>\n    <tr style=\"text-align: right;\">\n      <th></th>\n      <th>Customer ID</th>\n      <th>Food ID</th>\n    </tr>\n  </thead>\n  <tbody>\n    <tr>\n      <th>0</th>\n      <td>537</td>\n      <td>9</td>\n    </tr>\n    <tr>\n      <th>1</th>\n      <td>97</td>\n      <td>4</td>\n    </tr>\n    <tr>\n      <th>2</th>\n      <td>658</td>\n      <td>1</td>\n    </tr>\n    <tr>\n      <th>3</th>\n      <td>202</td>\n      <td>2</td>\n    </tr>\n    <tr>\n      <th>4</th>\n      <td>155</td>\n      <td>9</td>\n    </tr>\n  </tbody>\n</table>\n</div>"
          },
          "metadata": {}
        }
      ]
    },
    {
      "cell_type": "code",
      "source": "week2.head()",
      "metadata": {
        "collapsed": false,
        "jupyter": {
          "outputs_hidden": false
        },
        "trusted": true
      },
      "execution_count": 22,
      "outputs": [
        {
          "execution_count": 22,
          "output_type": "execute_result",
          "data": {
            "text/plain": "   Customer ID  Food ID\n0          688       10\n1          813        7\n2          495       10\n3          189        5\n4          267        3",
            "text/html": "<div>\n<style scoped>\n    .dataframe tbody tr th:only-of-type {\n        vertical-align: middle;\n    }\n\n    .dataframe tbody tr th {\n        vertical-align: top;\n    }\n\n    .dataframe thead th {\n        text-align: right;\n    }\n</style>\n<table border=\"1\" class=\"dataframe\">\n  <thead>\n    <tr style=\"text-align: right;\">\n      <th></th>\n      <th>Customer ID</th>\n      <th>Food ID</th>\n    </tr>\n  </thead>\n  <tbody>\n    <tr>\n      <th>0</th>\n      <td>688</td>\n      <td>10</td>\n    </tr>\n    <tr>\n      <th>1</th>\n      <td>813</td>\n      <td>7</td>\n    </tr>\n    <tr>\n      <th>2</th>\n      <td>495</td>\n      <td>10</td>\n    </tr>\n    <tr>\n      <th>3</th>\n      <td>189</td>\n      <td>5</td>\n    </tr>\n    <tr>\n      <th>4</th>\n      <td>267</td>\n      <td>3</td>\n    </tr>\n  </tbody>\n</table>\n</div>"
          },
          "metadata": {}
        }
      ]
    },
    {
      "cell_type": "code",
      "source": "week1.merge(week2, how = \"inner\", on = [\"Customer ID\", \"Food ID\"])",
      "metadata": {
        "tags": [],
        "trusted": true
      },
      "execution_count": 23,
      "outputs": [
        {
          "execution_count": 23,
          "output_type": "execute_result",
          "data": {
            "text/plain": "   Customer ID  Food ID\n0          304        3\n1          540        3\n2          937       10\n3          233        3\n4           21        4\n5           21        4\n6          922        1\n7          578        5\n8          578        5",
            "text/html": "<div>\n<style scoped>\n    .dataframe tbody tr th:only-of-type {\n        vertical-align: middle;\n    }\n\n    .dataframe tbody tr th {\n        vertical-align: top;\n    }\n\n    .dataframe thead th {\n        text-align: right;\n    }\n</style>\n<table border=\"1\" class=\"dataframe\">\n  <thead>\n    <tr style=\"text-align: right;\">\n      <th></th>\n      <th>Customer ID</th>\n      <th>Food ID</th>\n    </tr>\n  </thead>\n  <tbody>\n    <tr>\n      <th>0</th>\n      <td>304</td>\n      <td>3</td>\n    </tr>\n    <tr>\n      <th>1</th>\n      <td>540</td>\n      <td>3</td>\n    </tr>\n    <tr>\n      <th>2</th>\n      <td>937</td>\n      <td>10</td>\n    </tr>\n    <tr>\n      <th>3</th>\n      <td>233</td>\n      <td>3</td>\n    </tr>\n    <tr>\n      <th>4</th>\n      <td>21</td>\n      <td>4</td>\n    </tr>\n    <tr>\n      <th>5</th>\n      <td>21</td>\n      <td>4</td>\n    </tr>\n    <tr>\n      <th>6</th>\n      <td>922</td>\n      <td>1</td>\n    </tr>\n    <tr>\n      <th>7</th>\n      <td>578</td>\n      <td>5</td>\n    </tr>\n    <tr>\n      <th>8</th>\n      <td>578</td>\n      <td>5</td>\n    </tr>\n  </tbody>\n</table>\n</div>"
          },
          "metadata": {}
        }
      ]
    },
    {
      "cell_type": "code",
      "source": "week1[week1[\"Customer ID\"] == 578]",
      "metadata": {
        "collapsed": false,
        "jupyter": {
          "outputs_hidden": false
        },
        "trusted": true
      },
      "execution_count": 24,
      "outputs": [
        {
          "execution_count": 24,
          "output_type": "execute_result",
          "data": {
            "text/plain": "     Customer ID  Food ID\n224          578        5",
            "text/html": "<div>\n<style scoped>\n    .dataframe tbody tr th:only-of-type {\n        vertical-align: middle;\n    }\n\n    .dataframe tbody tr th {\n        vertical-align: top;\n    }\n\n    .dataframe thead th {\n        text-align: right;\n    }\n</style>\n<table border=\"1\" class=\"dataframe\">\n  <thead>\n    <tr style=\"text-align: right;\">\n      <th></th>\n      <th>Customer ID</th>\n      <th>Food ID</th>\n    </tr>\n  </thead>\n  <tbody>\n    <tr>\n      <th>224</th>\n      <td>578</td>\n      <td>5</td>\n    </tr>\n  </tbody>\n</table>\n</div>"
          },
          "metadata": {}
        }
      ]
    },
    {
      "cell_type": "code",
      "source": "week2[week2[\"Customer ID\"] == 578]",
      "metadata": {
        "collapsed": false,
        "jupyter": {
          "outputs_hidden": false
        }
      },
      "execution_count": 72,
      "outputs": [
        {
          "execution_count": 72,
          "output_type": "execute_result",
          "data": {
            "text/html": [
              "<div>\n",
              "<table border=\"1\" class=\"dataframe\">\n",
              "  <thead>\n",
              "    <tr style=\"text-align: right;\">\n",
              "      <th></th>\n",
              "      <th>Customer ID</th>\n",
              "      <th>Food ID</th>\n",
              "    </tr>\n",
              "  </thead>\n",
              "  <tbody>\n",
              "    <tr>\n",
              "      <th>29</th>\n",
              "      <td>578</td>\n",
              "      <td>5</td>\n",
              "    </tr>\n",
              "    <tr>\n",
              "      <th>189</th>\n",
              "      <td>578</td>\n",
              "      <td>5</td>\n",
              "    </tr>\n",
              "  </tbody>\n",
              "</table>\n",
              "</div>"
            ],
            "text/plain": [
              "     Customer ID  Food ID\n",
              "29           578        5\n",
              "189          578        5"
            ]
          },
          "metadata": {}
        }
      ]
    },
    {
      "cell_type": "markdown",
      "source": "## Outer Joins",
      "metadata": {}
    },
    {
      "cell_type": "code",
      "source": "week1 = pd.read_csv(\"Restaurant - Week 1 Sales.csv\")\nweek2 = pd.read_csv(\"Restaurant - Week 2 Sales.csv\")\ncustomers = pd.read_csv(\"Restaurant - Customers.csv\")\nfoods = pd.read_csv(\"Restaurant - Foods.csv\")",
      "metadata": {
        "tags": [],
        "trusted": true
      },
      "execution_count": 25,
      "outputs": []
    },
    {
      "cell_type": "code",
      "source": "week1.head(2)",
      "metadata": {
        "collapsed": false,
        "jupyter": {
          "outputs_hidden": false
        }
      },
      "execution_count": 78,
      "outputs": [
        {
          "execution_count": 78,
          "output_type": "execute_result",
          "data": {
            "text/html": [
              "<div>\n",
              "<table border=\"1\" class=\"dataframe\">\n",
              "  <thead>\n",
              "    <tr style=\"text-align: right;\">\n",
              "      <th></th>\n",
              "      <th>Customer ID</th>\n",
              "      <th>Food ID</th>\n",
              "    </tr>\n",
              "  </thead>\n",
              "  <tbody>\n",
              "    <tr>\n",
              "      <th>0</th>\n",
              "      <td>537</td>\n",
              "      <td>9</td>\n",
              "    </tr>\n",
              "    <tr>\n",
              "      <th>1</th>\n",
              "      <td>97</td>\n",
              "      <td>4</td>\n",
              "    </tr>\n",
              "  </tbody>\n",
              "</table>\n",
              "</div>"
            ],
            "text/plain": [
              "   Customer ID  Food ID\n",
              "0          537        9\n",
              "1           97        4"
            ]
          },
          "metadata": {}
        }
      ]
    },
    {
      "cell_type": "code",
      "source": "week2.head(2)",
      "metadata": {
        "collapsed": false,
        "jupyter": {
          "outputs_hidden": false
        }
      },
      "execution_count": 79,
      "outputs": [
        {
          "execution_count": 79,
          "output_type": "execute_result",
          "data": {
            "text/html": [
              "<div>\n",
              "<table border=\"1\" class=\"dataframe\">\n",
              "  <thead>\n",
              "    <tr style=\"text-align: right;\">\n",
              "      <th></th>\n",
              "      <th>Customer ID</th>\n",
              "      <th>Food ID</th>\n",
              "    </tr>\n",
              "  </thead>\n",
              "  <tbody>\n",
              "    <tr>\n",
              "      <th>0</th>\n",
              "      <td>688</td>\n",
              "      <td>10</td>\n",
              "    </tr>\n",
              "    <tr>\n",
              "      <th>1</th>\n",
              "      <td>813</td>\n",
              "      <td>7</td>\n",
              "    </tr>\n",
              "  </tbody>\n",
              "</table>\n",
              "</div>"
            ],
            "text/plain": [
              "   Customer ID  Food ID\n",
              "0          688       10\n",
              "1          813        7"
            ]
          },
          "metadata": {}
        }
      ]
    },
    {
      "cell_type": "code",
      "source": "merged = week1.merge(week2, how = \"outer\", on = \"Customer ID\", suffixes = [\" - Week 1\", \" - Week 2\"],\n            indicator = True)",
      "metadata": {
        "collapsed": false,
        "jupyter": {
          "outputs_hidden": false
        },
        "trusted": true
      },
      "execution_count": 26,
      "outputs": []
    },
    {
      "cell_type": "code",
      "source": "merged[\"_merge\"].value_counts()",
      "metadata": {
        "collapsed": false,
        "jupyter": {
          "outputs_hidden": false
        },
        "trusted": true
      },
      "execution_count": 27,
      "outputs": [
        {
          "execution_count": 27,
          "output_type": "execute_result",
          "data": {
            "text/plain": "right_only    197\nleft_only     195\nboth           62\nName: _merge, dtype: int64"
          },
          "metadata": {}
        }
      ]
    },
    {
      "cell_type": "code",
      "source": "mask = merged[\"_merge\"].isin([\"left_only\", \"right_only\"])\nmerged[mask]",
      "metadata": {
        "collapsed": false,
        "scrolled": true,
        "jupyter": {
          "outputs_hidden": false
        },
        "trusted": true
      },
      "execution_count": 28,
      "outputs": [
        {
          "execution_count": 28,
          "output_type": "execute_result",
          "data": {
            "text/plain": "     Customer ID  Food ID - Week 1  Food ID - Week 2      _merge\n1             97               4.0               NaN   left_only\n2            658               1.0               NaN   left_only\n3            202               2.0               NaN   left_only\n6            213               8.0               NaN   left_only\n7            600               1.0               NaN   left_only\n..           ...               ...               ...         ...\n449          855               NaN               4.0  right_only\n450          559               NaN              10.0  right_only\n451          276               NaN               4.0  right_only\n452          556               NaN              10.0  right_only\n453          252               NaN               9.0  right_only\n\n[392 rows x 4 columns]",
            "text/html": "<div>\n<style scoped>\n    .dataframe tbody tr th:only-of-type {\n        vertical-align: middle;\n    }\n\n    .dataframe tbody tr th {\n        vertical-align: top;\n    }\n\n    .dataframe thead th {\n        text-align: right;\n    }\n</style>\n<table border=\"1\" class=\"dataframe\">\n  <thead>\n    <tr style=\"text-align: right;\">\n      <th></th>\n      <th>Customer ID</th>\n      <th>Food ID - Week 1</th>\n      <th>Food ID - Week 2</th>\n      <th>_merge</th>\n    </tr>\n  </thead>\n  <tbody>\n    <tr>\n      <th>1</th>\n      <td>97</td>\n      <td>4.0</td>\n      <td>NaN</td>\n      <td>left_only</td>\n    </tr>\n    <tr>\n      <th>2</th>\n      <td>658</td>\n      <td>1.0</td>\n      <td>NaN</td>\n      <td>left_only</td>\n    </tr>\n    <tr>\n      <th>3</th>\n      <td>202</td>\n      <td>2.0</td>\n      <td>NaN</td>\n      <td>left_only</td>\n    </tr>\n    <tr>\n      <th>6</th>\n      <td>213</td>\n      <td>8.0</td>\n      <td>NaN</td>\n      <td>left_only</td>\n    </tr>\n    <tr>\n      <th>7</th>\n      <td>600</td>\n      <td>1.0</td>\n      <td>NaN</td>\n      <td>left_only</td>\n    </tr>\n    <tr>\n      <th>...</th>\n      <td>...</td>\n      <td>...</td>\n      <td>...</td>\n      <td>...</td>\n    </tr>\n    <tr>\n      <th>449</th>\n      <td>855</td>\n      <td>NaN</td>\n      <td>4.0</td>\n      <td>right_only</td>\n    </tr>\n    <tr>\n      <th>450</th>\n      <td>559</td>\n      <td>NaN</td>\n      <td>10.0</td>\n      <td>right_only</td>\n    </tr>\n    <tr>\n      <th>451</th>\n      <td>276</td>\n      <td>NaN</td>\n      <td>4.0</td>\n      <td>right_only</td>\n    </tr>\n    <tr>\n      <th>452</th>\n      <td>556</td>\n      <td>NaN</td>\n      <td>10.0</td>\n      <td>right_only</td>\n    </tr>\n    <tr>\n      <th>453</th>\n      <td>252</td>\n      <td>NaN</td>\n      <td>9.0</td>\n      <td>right_only</td>\n    </tr>\n  </tbody>\n</table>\n<p>392 rows × 4 columns</p>\n</div>"
          },
          "metadata": {}
        }
      ]
    },
    {
      "cell_type": "markdown",
      "source": "## Left Joins",
      "metadata": {}
    },
    {
      "cell_type": "code",
      "source": "week1 = pd.read_csv(\"Restaurant - Week 1 Sales.csv\")\nweek2 = pd.read_csv(\"Restaurant - Week 2 Sales.csv\")\ncustomers = pd.read_csv(\"Restaurant - Customers.csv\")\nfoods = pd.read_csv(\"Restaurant - Foods.csv\")",
      "metadata": {
        "tags": [],
        "trusted": true
      },
      "execution_count": 29,
      "outputs": []
    },
    {
      "cell_type": "code",
      "source": "week1.head(3)",
      "metadata": {
        "collapsed": false,
        "jupyter": {
          "outputs_hidden": false
        },
        "trusted": true
      },
      "execution_count": 30,
      "outputs": [
        {
          "execution_count": 30,
          "output_type": "execute_result",
          "data": {
            "text/plain": "   Customer ID  Food ID\n0          537        9\n1           97        4\n2          658        1",
            "text/html": "<div>\n<style scoped>\n    .dataframe tbody tr th:only-of-type {\n        vertical-align: middle;\n    }\n\n    .dataframe tbody tr th {\n        vertical-align: top;\n    }\n\n    .dataframe thead th {\n        text-align: right;\n    }\n</style>\n<table border=\"1\" class=\"dataframe\">\n  <thead>\n    <tr style=\"text-align: right;\">\n      <th></th>\n      <th>Customer ID</th>\n      <th>Food ID</th>\n    </tr>\n  </thead>\n  <tbody>\n    <tr>\n      <th>0</th>\n      <td>537</td>\n      <td>9</td>\n    </tr>\n    <tr>\n      <th>1</th>\n      <td>97</td>\n      <td>4</td>\n    </tr>\n    <tr>\n      <th>2</th>\n      <td>658</td>\n      <td>1</td>\n    </tr>\n  </tbody>\n</table>\n</div>"
          },
          "metadata": {}
        }
      ]
    },
    {
      "cell_type": "code",
      "source": "foods.head(3)",
      "metadata": {
        "collapsed": false,
        "jupyter": {
          "outputs_hidden": false
        }
      },
      "execution_count": 100,
      "outputs": [
        {
          "execution_count": 100,
          "output_type": "execute_result",
          "data": {
            "text/html": [
              "<div>\n",
              "<table border=\"1\" class=\"dataframe\">\n",
              "  <thead>\n",
              "    <tr style=\"text-align: right;\">\n",
              "      <th></th>\n",
              "      <th>Food ID</th>\n",
              "      <th>Food Item</th>\n",
              "      <th>Price</th>\n",
              "    </tr>\n",
              "  </thead>\n",
              "  <tbody>\n",
              "    <tr>\n",
              "      <th>0</th>\n",
              "      <td>1</td>\n",
              "      <td>Sushi</td>\n",
              "      <td>3.99</td>\n",
              "    </tr>\n",
              "    <tr>\n",
              "      <th>1</th>\n",
              "      <td>2</td>\n",
              "      <td>Burrito</td>\n",
              "      <td>9.99</td>\n",
              "    </tr>\n",
              "    <tr>\n",
              "      <th>2</th>\n",
              "      <td>3</td>\n",
              "      <td>Taco</td>\n",
              "      <td>2.99</td>\n",
              "    </tr>\n",
              "  </tbody>\n",
              "</table>\n",
              "</div>"
            ],
            "text/plain": [
              "   Food ID Food Item  Price\n",
              "0        1     Sushi   3.99\n",
              "1        2   Burrito   9.99\n",
              "2        3      Taco   2.99"
            ]
          },
          "metadata": {}
        }
      ]
    },
    {
      "cell_type": "code",
      "source": "week1 = week1.merge(foods, how = \"left\", on = \"Food ID\", sort = True)",
      "metadata": {
        "collapsed": false,
        "jupyter": {
          "outputs_hidden": false
        },
        "trusted": true
      },
      "execution_count": 31,
      "outputs": []
    },
    {
      "cell_type": "code",
      "source": "week1.head()",
      "metadata": {
        "collapsed": false,
        "jupyter": {
          "outputs_hidden": false
        },
        "trusted": true
      },
      "execution_count": 32,
      "outputs": [
        {
          "execution_count": 32,
          "output_type": "execute_result",
          "data": {
            "text/plain": "   Customer ID  Food ID Food Item  Price\n0          658        1     Sushi   3.99\n1          600        1     Sushi   3.99\n2          155        1     Sushi   3.99\n3          341        1     Sushi   3.99\n4           20        1     Sushi   3.99",
            "text/html": "<div>\n<style scoped>\n    .dataframe tbody tr th:only-of-type {\n        vertical-align: middle;\n    }\n\n    .dataframe tbody tr th {\n        vertical-align: top;\n    }\n\n    .dataframe thead th {\n        text-align: right;\n    }\n</style>\n<table border=\"1\" class=\"dataframe\">\n  <thead>\n    <tr style=\"text-align: right;\">\n      <th></th>\n      <th>Customer ID</th>\n      <th>Food ID</th>\n      <th>Food Item</th>\n      <th>Price</th>\n    </tr>\n  </thead>\n  <tbody>\n    <tr>\n      <th>0</th>\n      <td>658</td>\n      <td>1</td>\n      <td>Sushi</td>\n      <td>3.99</td>\n    </tr>\n    <tr>\n      <th>1</th>\n      <td>600</td>\n      <td>1</td>\n      <td>Sushi</td>\n      <td>3.99</td>\n    </tr>\n    <tr>\n      <th>2</th>\n      <td>155</td>\n      <td>1</td>\n      <td>Sushi</td>\n      <td>3.99</td>\n    </tr>\n    <tr>\n      <th>3</th>\n      <td>341</td>\n      <td>1</td>\n      <td>Sushi</td>\n      <td>3.99</td>\n    </tr>\n    <tr>\n      <th>4</th>\n      <td>20</td>\n      <td>1</td>\n      <td>Sushi</td>\n      <td>3.99</td>\n    </tr>\n  </tbody>\n</table>\n</div>"
          },
          "metadata": {}
        }
      ]
    },
    {
      "cell_type": "markdown",
      "source": "## The `left_on` and `right_on` Parameters",
      "metadata": {}
    },
    {
      "cell_type": "code",
      "source": "week1 = pd.read_csv(\"Restaurant - Week 1 Sales.csv\")\nweek2 = pd.read_csv(\"Restaurant - Week 2 Sales.csv\")\ncustomers = pd.read_csv(\"Restaurant - Customers.csv\")\nfoods = pd.read_csv(\"Restaurant - Foods.csv\")",
      "metadata": {
        "collapsed": true,
        "jupyter": {
          "outputs_hidden": true
        }
      },
      "execution_count": 105,
      "outputs": []
    },
    {
      "cell_type": "code",
      "source": "week2.head(3)",
      "metadata": {
        "collapsed": false,
        "jupyter": {
          "outputs_hidden": false
        }
      },
      "execution_count": 106,
      "outputs": [
        {
          "execution_count": 106,
          "output_type": "execute_result",
          "data": {
            "text/html": [
              "<div>\n",
              "<table border=\"1\" class=\"dataframe\">\n",
              "  <thead>\n",
              "    <tr style=\"text-align: right;\">\n",
              "      <th></th>\n",
              "      <th>Customer ID</th>\n",
              "      <th>Food ID</th>\n",
              "    </tr>\n",
              "  </thead>\n",
              "  <tbody>\n",
              "    <tr>\n",
              "      <th>0</th>\n",
              "      <td>688</td>\n",
              "      <td>10</td>\n",
              "    </tr>\n",
              "    <tr>\n",
              "      <th>1</th>\n",
              "      <td>813</td>\n",
              "      <td>7</td>\n",
              "    </tr>\n",
              "    <tr>\n",
              "      <th>2</th>\n",
              "      <td>495</td>\n",
              "      <td>10</td>\n",
              "    </tr>\n",
              "  </tbody>\n",
              "</table>\n",
              "</div>"
            ],
            "text/plain": [
              "   Customer ID  Food ID\n",
              "0          688       10\n",
              "1          813        7\n",
              "2          495       10"
            ]
          },
          "metadata": {}
        }
      ]
    },
    {
      "cell_type": "code",
      "source": "customers.head(3)",
      "metadata": {
        "collapsed": false,
        "jupyter": {
          "outputs_hidden": false
        }
      },
      "execution_count": 107,
      "outputs": [
        {
          "execution_count": 107,
          "output_type": "execute_result",
          "data": {
            "text/html": [
              "<div>\n",
              "<table border=\"1\" class=\"dataframe\">\n",
              "  <thead>\n",
              "    <tr style=\"text-align: right;\">\n",
              "      <th></th>\n",
              "      <th>ID</th>\n",
              "      <th>First Name</th>\n",
              "      <th>Last Name</th>\n",
              "      <th>Gender</th>\n",
              "      <th>Company</th>\n",
              "      <th>Occupation</th>\n",
              "    </tr>\n",
              "  </thead>\n",
              "  <tbody>\n",
              "    <tr>\n",
              "      <th>0</th>\n",
              "      <td>1</td>\n",
              "      <td>Joseph</td>\n",
              "      <td>Perkins</td>\n",
              "      <td>Male</td>\n",
              "      <td>Dynazzy</td>\n",
              "      <td>Community Outreach Specialist</td>\n",
              "    </tr>\n",
              "    <tr>\n",
              "      <th>1</th>\n",
              "      <td>2</td>\n",
              "      <td>Jennifer</td>\n",
              "      <td>Alvarez</td>\n",
              "      <td>Female</td>\n",
              "      <td>DabZ</td>\n",
              "      <td>Senior Quality Engineer</td>\n",
              "    </tr>\n",
              "    <tr>\n",
              "      <th>2</th>\n",
              "      <td>3</td>\n",
              "      <td>Roger</td>\n",
              "      <td>Black</td>\n",
              "      <td>Male</td>\n",
              "      <td>Tagfeed</td>\n",
              "      <td>Account Executive</td>\n",
              "    </tr>\n",
              "  </tbody>\n",
              "</table>\n",
              "</div>"
            ],
            "text/plain": [
              "   ID First Name Last Name  Gender  Company                     Occupation\n",
              "0   1     Joseph   Perkins    Male  Dynazzy  Community Outreach Specialist\n",
              "1   2   Jennifer   Alvarez  Female     DabZ        Senior Quality Engineer\n",
              "2   3      Roger     Black    Male  Tagfeed              Account Executive"
            ]
          },
          "metadata": {}
        }
      ]
    },
    {
      "cell_type": "code",
      "source": "week2 = week2.merge(customers, how = \"left\", left_on = \"Customer ID\", right_on = \"ID\", sort = True).drop(\"ID\", axis = \"columns\")",
      "metadata": {
        "collapsed": false,
        "jupyter": {
          "outputs_hidden": false
        },
        "trusted": true
      },
      "execution_count": 33,
      "outputs": []
    },
    {
      "cell_type": "code",
      "source": "week2.head()",
      "metadata": {
        "collapsed": false,
        "jupyter": {
          "outputs_hidden": false
        }
      },
      "execution_count": 112,
      "outputs": [
        {
          "execution_count": 112,
          "output_type": "execute_result",
          "data": {
            "text/html": [
              "<div>\n",
              "<table border=\"1\" class=\"dataframe\">\n",
              "  <thead>\n",
              "    <tr style=\"text-align: right;\">\n",
              "      <th></th>\n",
              "      <th>Customer ID</th>\n",
              "      <th>Food ID</th>\n",
              "      <th>First Name</th>\n",
              "      <th>Last Name</th>\n",
              "      <th>Gender</th>\n",
              "      <th>Company</th>\n",
              "      <th>Occupation</th>\n",
              "    </tr>\n",
              "  </thead>\n",
              "  <tbody>\n",
              "    <tr>\n",
              "      <th>0</th>\n",
              "      <td>8</td>\n",
              "      <td>6</td>\n",
              "      <td>Frances</td>\n",
              "      <td>Adams</td>\n",
              "      <td>Female</td>\n",
              "      <td>Dabshots</td>\n",
              "      <td>Developer III</td>\n",
              "    </tr>\n",
              "    <tr>\n",
              "      <th>1</th>\n",
              "      <td>13</td>\n",
              "      <td>2</td>\n",
              "      <td>Ruth</td>\n",
              "      <td>Alvarez</td>\n",
              "      <td>Female</td>\n",
              "      <td>Twitterlist</td>\n",
              "      <td>Mechanical Systems Engineer</td>\n",
              "    </tr>\n",
              "    <tr>\n",
              "      <th>2</th>\n",
              "      <td>21</td>\n",
              "      <td>4</td>\n",
              "      <td>Albert</td>\n",
              "      <td>Burns</td>\n",
              "      <td>Male</td>\n",
              "      <td>Rhynoodle</td>\n",
              "      <td>Junior Executive</td>\n",
              "    </tr>\n",
              "    <tr>\n",
              "      <th>3</th>\n",
              "      <td>24</td>\n",
              "      <td>8</td>\n",
              "      <td>Donna</td>\n",
              "      <td>Thomas</td>\n",
              "      <td>Female</td>\n",
              "      <td>Jaxbean</td>\n",
              "      <td>Chief Design Engineer</td>\n",
              "    </tr>\n",
              "    <tr>\n",
              "      <th>4</th>\n",
              "      <td>27</td>\n",
              "      <td>4</td>\n",
              "      <td>Jessica</td>\n",
              "      <td>Bennett</td>\n",
              "      <td>Female</td>\n",
              "      <td>Twitternation</td>\n",
              "      <td>Account Executive</td>\n",
              "    </tr>\n",
              "  </tbody>\n",
              "</table>\n",
              "</div>"
            ],
            "text/plain": [
              "   Customer ID  Food ID First Name Last Name  Gender        Company  \\\n",
              "0            8        6    Frances     Adams  Female       Dabshots   \n",
              "1           13        2       Ruth   Alvarez  Female    Twitterlist   \n",
              "2           21        4     Albert     Burns    Male      Rhynoodle   \n",
              "3           24        8      Donna    Thomas  Female        Jaxbean   \n",
              "4           27        4    Jessica   Bennett  Female  Twitternation   \n",
              "\n",
              "                    Occupation  \n",
              "0                Developer III  \n",
              "1  Mechanical Systems Engineer  \n",
              "2             Junior Executive  \n",
              "3        Chief Design Engineer  \n",
              "4            Account Executive  "
            ]
          },
          "metadata": {}
        }
      ]
    },
    {
      "cell_type": "markdown",
      "source": "## Merging by Indexes with the `left_index` and `right_index` Parameters",
      "metadata": {}
    },
    {
      "cell_type": "code",
      "source": "week1 = pd.read_csv(\"Restaurant - Week 1 Sales.csv\")\nweek2 = pd.read_csv(\"Restaurant - Week 2 Sales.csv\")\ncustomers = pd.read_csv(\"Restaurant - Customers.csv\", index_col = \"ID\")\nfoods = pd.read_csv(\"Restaurant - Foods.csv\", index_col = \"Food ID\")",
      "metadata": {
        "tags": [],
        "trusted": true
      },
      "execution_count": 34,
      "outputs": []
    },
    {
      "cell_type": "code",
      "source": "foods.head(3)",
      "metadata": {
        "collapsed": false,
        "jupyter": {
          "outputs_hidden": false
        },
        "trusted": true
      },
      "execution_count": 35,
      "outputs": [
        {
          "execution_count": 35,
          "output_type": "execute_result",
          "data": {
            "text/plain": "        Food Item  Price\nFood ID                 \n1           Sushi   3.99\n2         Burrito   9.99\n3            Taco   2.99",
            "text/html": "<div>\n<style scoped>\n    .dataframe tbody tr th:only-of-type {\n        vertical-align: middle;\n    }\n\n    .dataframe tbody tr th {\n        vertical-align: top;\n    }\n\n    .dataframe thead th {\n        text-align: right;\n    }\n</style>\n<table border=\"1\" class=\"dataframe\">\n  <thead>\n    <tr style=\"text-align: right;\">\n      <th></th>\n      <th>Food Item</th>\n      <th>Price</th>\n    </tr>\n    <tr>\n      <th>Food ID</th>\n      <th></th>\n      <th></th>\n    </tr>\n  </thead>\n  <tbody>\n    <tr>\n      <th>1</th>\n      <td>Sushi</td>\n      <td>3.99</td>\n    </tr>\n    <tr>\n      <th>2</th>\n      <td>Burrito</td>\n      <td>9.99</td>\n    </tr>\n    <tr>\n      <th>3</th>\n      <td>Taco</td>\n      <td>2.99</td>\n    </tr>\n  </tbody>\n</table>\n</div>"
          },
          "metadata": {}
        }
      ]
    },
    {
      "cell_type": "code",
      "source": "sales = week1.merge(customers, how = \"left\", left_on = \"Customer ID\", right_index = True)\nsales = sales.merge(foods, how = \"left\", left_on = \"Food ID\", right_index = True)\nsales.head(3)",
      "metadata": {
        "collapsed": false,
        "jupyter": {
          "outputs_hidden": false
        }
      },
      "execution_count": 125,
      "outputs": [
        {
          "execution_count": 125,
          "output_type": "execute_result",
          "data": {
            "text/html": [
              "<div>\n",
              "<table border=\"1\" class=\"dataframe\">\n",
              "  <thead>\n",
              "    <tr style=\"text-align: right;\">\n",
              "      <th></th>\n",
              "      <th>Customer ID</th>\n",
              "      <th>Food ID</th>\n",
              "      <th>First Name</th>\n",
              "      <th>Last Name</th>\n",
              "      <th>Gender</th>\n",
              "      <th>Company</th>\n",
              "      <th>Occupation</th>\n",
              "      <th>Food Item</th>\n",
              "      <th>Price</th>\n",
              "    </tr>\n",
              "  </thead>\n",
              "  <tbody>\n",
              "    <tr>\n",
              "      <th>0</th>\n",
              "      <td>537</td>\n",
              "      <td>9</td>\n",
              "      <td>Cheryl</td>\n",
              "      <td>Carroll</td>\n",
              "      <td>Female</td>\n",
              "      <td>Zoombeat</td>\n",
              "      <td>Registered Nurse</td>\n",
              "      <td>Donut</td>\n",
              "      <td>0.99</td>\n",
              "    </tr>\n",
              "    <tr>\n",
              "      <th>1</th>\n",
              "      <td>97</td>\n",
              "      <td>4</td>\n",
              "      <td>Amanda</td>\n",
              "      <td>Watkins</td>\n",
              "      <td>Female</td>\n",
              "      <td>Ozu</td>\n",
              "      <td>Account Coordinator</td>\n",
              "      <td>Quesadilla</td>\n",
              "      <td>4.25</td>\n",
              "    </tr>\n",
              "    <tr>\n",
              "      <th>2</th>\n",
              "      <td>658</td>\n",
              "      <td>1</td>\n",
              "      <td>Patrick</td>\n",
              "      <td>Webb</td>\n",
              "      <td>Male</td>\n",
              "      <td>Browsebug</td>\n",
              "      <td>Community Outreach Specialist</td>\n",
              "      <td>Sushi</td>\n",
              "      <td>3.99</td>\n",
              "    </tr>\n",
              "  </tbody>\n",
              "</table>\n",
              "</div>"
            ],
            "text/plain": [
              "   Customer ID  Food ID First Name Last Name  Gender    Company  \\\n",
              "0          537        9     Cheryl   Carroll  Female   Zoombeat   \n",
              "1           97        4     Amanda   Watkins  Female        Ozu   \n",
              "2          658        1    Patrick      Webb    Male  Browsebug   \n",
              "\n",
              "                      Occupation   Food Item  Price  \n",
              "0               Registered Nurse       Donut   0.99  \n",
              "1            Account Coordinator  Quesadilla   4.25  \n",
              "2  Community Outreach Specialist       Sushi   3.99  "
            ]
          },
          "metadata": {}
        }
      ]
    },
    {
      "cell_type": "code",
      "source": "week1.head(3)",
      "metadata": {
        "collapsed": false,
        "jupyter": {
          "outputs_hidden": false
        },
        "trusted": true
      },
      "execution_count": 36,
      "outputs": [
        {
          "execution_count": 36,
          "output_type": "execute_result",
          "data": {
            "text/plain": "   Customer ID  Food ID\n0          537        9\n1           97        4\n2          658        1",
            "text/html": "<div>\n<style scoped>\n    .dataframe tbody tr th:only-of-type {\n        vertical-align: middle;\n    }\n\n    .dataframe tbody tr th {\n        vertical-align: top;\n    }\n\n    .dataframe thead th {\n        text-align: right;\n    }\n</style>\n<table border=\"1\" class=\"dataframe\">\n  <thead>\n    <tr style=\"text-align: right;\">\n      <th></th>\n      <th>Customer ID</th>\n      <th>Food ID</th>\n    </tr>\n  </thead>\n  <tbody>\n    <tr>\n      <th>0</th>\n      <td>537</td>\n      <td>9</td>\n    </tr>\n    <tr>\n      <th>1</th>\n      <td>97</td>\n      <td>4</td>\n    </tr>\n    <tr>\n      <th>2</th>\n      <td>658</td>\n      <td>1</td>\n    </tr>\n  </tbody>\n</table>\n</div>"
          },
          "metadata": {}
        }
      ]
    },
    {
      "cell_type": "code",
      "source": "week2.head(3)",
      "metadata": {
        "collapsed": false,
        "jupyter": {
          "outputs_hidden": false
        }
      },
      "execution_count": 127,
      "outputs": [
        {
          "execution_count": 127,
          "output_type": "execute_result",
          "data": {
            "text/html": [
              "<div>\n",
              "<table border=\"1\" class=\"dataframe\">\n",
              "  <thead>\n",
              "    <tr style=\"text-align: right;\">\n",
              "      <th></th>\n",
              "      <th>Customer ID</th>\n",
              "      <th>Food ID</th>\n",
              "    </tr>\n",
              "  </thead>\n",
              "  <tbody>\n",
              "    <tr>\n",
              "      <th>0</th>\n",
              "      <td>688</td>\n",
              "      <td>10</td>\n",
              "    </tr>\n",
              "    <tr>\n",
              "      <th>1</th>\n",
              "      <td>813</td>\n",
              "      <td>7</td>\n",
              "    </tr>\n",
              "    <tr>\n",
              "      <th>2</th>\n",
              "      <td>495</td>\n",
              "      <td>10</td>\n",
              "    </tr>\n",
              "  </tbody>\n",
              "</table>\n",
              "</div>"
            ],
            "text/plain": [
              "   Customer ID  Food ID\n",
              "0          688       10\n",
              "1          813        7\n",
              "2          495       10"
            ]
          },
          "metadata": {}
        }
      ]
    },
    {
      "cell_type": "code",
      "source": "week1.merge(week2, how = \"left\", left_index = True, right_index = True, suffixes = [\" - Week 1\", \" - Week 2\"])",
      "metadata": {
        "collapsed": false,
        "jupyter": {
          "outputs_hidden": false
        },
        "trusted": true
      },
      "execution_count": 37,
      "outputs": [
        {
          "execution_count": 37,
          "output_type": "execute_result",
          "data": {
            "text/plain": "     Customer ID - Week 1  Food ID - Week 1  Customer ID - Week 2  \\\n0                     537                 9                   688   \n1                      97                 4                   813   \n2                     658                 1                   495   \n3                     202                 2                   189   \n4                     155                 9                   267   \n..                    ...               ...                   ...   \n245                   413                 9                   783   \n246                   926                 6                   556   \n247                   134                 3                   547   \n248                   396                 6                   252   \n249                   535                10                   249   \n\n     Food ID - Week 2  \n0                  10  \n1                   7  \n2                  10  \n3                   5  \n4                   3  \n..                ...  \n245                10  \n246                10  \n247                 9  \n248                 9  \n249                 6  \n\n[250 rows x 4 columns]",
            "text/html": "<div>\n<style scoped>\n    .dataframe tbody tr th:only-of-type {\n        vertical-align: middle;\n    }\n\n    .dataframe tbody tr th {\n        vertical-align: top;\n    }\n\n    .dataframe thead th {\n        text-align: right;\n    }\n</style>\n<table border=\"1\" class=\"dataframe\">\n  <thead>\n    <tr style=\"text-align: right;\">\n      <th></th>\n      <th>Customer ID - Week 1</th>\n      <th>Food ID - Week 1</th>\n      <th>Customer ID - Week 2</th>\n      <th>Food ID - Week 2</th>\n    </tr>\n  </thead>\n  <tbody>\n    <tr>\n      <th>0</th>\n      <td>537</td>\n      <td>9</td>\n      <td>688</td>\n      <td>10</td>\n    </tr>\n    <tr>\n      <th>1</th>\n      <td>97</td>\n      <td>4</td>\n      <td>813</td>\n      <td>7</td>\n    </tr>\n    <tr>\n      <th>2</th>\n      <td>658</td>\n      <td>1</td>\n      <td>495</td>\n      <td>10</td>\n    </tr>\n    <tr>\n      <th>3</th>\n      <td>202</td>\n      <td>2</td>\n      <td>189</td>\n      <td>5</td>\n    </tr>\n    <tr>\n      <th>4</th>\n      <td>155</td>\n      <td>9</td>\n      <td>267</td>\n      <td>3</td>\n    </tr>\n    <tr>\n      <th>...</th>\n      <td>...</td>\n      <td>...</td>\n      <td>...</td>\n      <td>...</td>\n    </tr>\n    <tr>\n      <th>245</th>\n      <td>413</td>\n      <td>9</td>\n      <td>783</td>\n      <td>10</td>\n    </tr>\n    <tr>\n      <th>246</th>\n      <td>926</td>\n      <td>6</td>\n      <td>556</td>\n      <td>10</td>\n    </tr>\n    <tr>\n      <th>247</th>\n      <td>134</td>\n      <td>3</td>\n      <td>547</td>\n      <td>9</td>\n    </tr>\n    <tr>\n      <th>248</th>\n      <td>396</td>\n      <td>6</td>\n      <td>252</td>\n      <td>9</td>\n    </tr>\n    <tr>\n      <th>249</th>\n      <td>535</td>\n      <td>10</td>\n      <td>249</td>\n      <td>6</td>\n    </tr>\n  </tbody>\n</table>\n<p>250 rows × 4 columns</p>\n</div>"
          },
          "metadata": {}
        }
      ]
    },
    {
      "cell_type": "markdown",
      "source": "## The `.join()` Method",
      "metadata": {}
    },
    {
      "cell_type": "code",
      "source": "week1 = pd.read_csv(\"Restaurant - Week 1 Sales.csv\")\nweek2 = pd.read_csv(\"Restaurant - Week 2 Sales.csv\")\ncustomers = pd.read_csv(\"Restaurant - Customers.csv\")\nfoods = pd.read_csv(\"Restaurant - Foods.csv\")\nsatisfaction = pd.read_csv(\"Restaurant - Week 1 Satisfaction.csv\")",
      "metadata": {
        "collapsed": false,
        "jupyter": {
          "outputs_hidden": false
        },
        "trusted": true
      },
      "execution_count": 38,
      "outputs": []
    },
    {
      "cell_type": "code",
      "source": "week1.head(3)",
      "metadata": {
        "collapsed": false,
        "jupyter": {
          "outputs_hidden": false
        }
      },
      "execution_count": 4,
      "outputs": [
        {
          "execution_count": 4,
          "output_type": "execute_result",
          "data": {
            "text/html": [
              "<div>\n",
              "<table border=\"1\" class=\"dataframe\">\n",
              "  <thead>\n",
              "    <tr style=\"text-align: right;\">\n",
              "      <th></th>\n",
              "      <th>Customer ID</th>\n",
              "      <th>Food ID</th>\n",
              "    </tr>\n",
              "  </thead>\n",
              "  <tbody>\n",
              "    <tr>\n",
              "      <th>0</th>\n",
              "      <td>537</td>\n",
              "      <td>9</td>\n",
              "    </tr>\n",
              "    <tr>\n",
              "      <th>1</th>\n",
              "      <td>97</td>\n",
              "      <td>4</td>\n",
              "    </tr>\n",
              "    <tr>\n",
              "      <th>2</th>\n",
              "      <td>658</td>\n",
              "      <td>1</td>\n",
              "    </tr>\n",
              "  </tbody>\n",
              "</table>\n",
              "</div>"
            ],
            "text/plain": [
              "   Customer ID  Food ID\n",
              "0          537        9\n",
              "1           97        4\n",
              "2          658        1"
            ]
          },
          "metadata": {}
        }
      ]
    },
    {
      "cell_type": "code",
      "source": "satisfaction.head(3)",
      "metadata": {
        "collapsed": false,
        "jupyter": {
          "outputs_hidden": false
        }
      },
      "execution_count": 5,
      "outputs": [
        {
          "execution_count": 5,
          "output_type": "execute_result",
          "data": {
            "text/html": [
              "<div>\n",
              "<table border=\"1\" class=\"dataframe\">\n",
              "  <thead>\n",
              "    <tr style=\"text-align: right;\">\n",
              "      <th></th>\n",
              "      <th>Satisfaction Rating</th>\n",
              "    </tr>\n",
              "  </thead>\n",
              "  <tbody>\n",
              "    <tr>\n",
              "      <th>0</th>\n",
              "      <td>2</td>\n",
              "    </tr>\n",
              "    <tr>\n",
              "      <th>1</th>\n",
              "      <td>7</td>\n",
              "    </tr>\n",
              "    <tr>\n",
              "      <th>2</th>\n",
              "      <td>3</td>\n",
              "    </tr>\n",
              "  </tbody>\n",
              "</table>\n",
              "</div>"
            ],
            "text/plain": [
              "   Satisfaction Rating\n",
              "0                    2\n",
              "1                    7\n",
              "2                    3"
            ]
          },
          "metadata": {}
        }
      ]
    },
    {
      "cell_type": "code",
      "source": "week1.merge(satisfaction, how = \"left\", left_index = True, right_index = True).head()",
      "metadata": {
        "collapsed": false,
        "jupyter": {
          "outputs_hidden": false
        },
        "trusted": true
      },
      "execution_count": 39,
      "outputs": [
        {
          "execution_count": 39,
          "output_type": "execute_result",
          "data": {
            "text/plain": "   Customer ID  Food ID  Satisfaction Rating\n0          537        9                    2\n1           97        4                    7\n2          658        1                    3\n3          202        2                    7\n4          155        9                   10",
            "text/html": "<div>\n<style scoped>\n    .dataframe tbody tr th:only-of-type {\n        vertical-align: middle;\n    }\n\n    .dataframe tbody tr th {\n        vertical-align: top;\n    }\n\n    .dataframe thead th {\n        text-align: right;\n    }\n</style>\n<table border=\"1\" class=\"dataframe\">\n  <thead>\n    <tr style=\"text-align: right;\">\n      <th></th>\n      <th>Customer ID</th>\n      <th>Food ID</th>\n      <th>Satisfaction Rating</th>\n    </tr>\n  </thead>\n  <tbody>\n    <tr>\n      <th>0</th>\n      <td>537</td>\n      <td>9</td>\n      <td>2</td>\n    </tr>\n    <tr>\n      <th>1</th>\n      <td>97</td>\n      <td>4</td>\n      <td>7</td>\n    </tr>\n    <tr>\n      <th>2</th>\n      <td>658</td>\n      <td>1</td>\n      <td>3</td>\n    </tr>\n    <tr>\n      <th>3</th>\n      <td>202</td>\n      <td>2</td>\n      <td>7</td>\n    </tr>\n    <tr>\n      <th>4</th>\n      <td>155</td>\n      <td>9</td>\n      <td>10</td>\n    </tr>\n  </tbody>\n</table>\n</div>"
          },
          "metadata": {}
        }
      ]
    },
    {
      "cell_type": "code",
      "source": "week1.join(satisfaction).head()",
      "metadata": {
        "collapsed": false,
        "jupyter": {
          "outputs_hidden": false
        },
        "trusted": true
      },
      "execution_count": 40,
      "outputs": [
        {
          "execution_count": 40,
          "output_type": "execute_result",
          "data": {
            "text/plain": "   Customer ID  Food ID  Satisfaction Rating\n0          537        9                    2\n1           97        4                    7\n2          658        1                    3\n3          202        2                    7\n4          155        9                   10",
            "text/html": "<div>\n<style scoped>\n    .dataframe tbody tr th:only-of-type {\n        vertical-align: middle;\n    }\n\n    .dataframe tbody tr th {\n        vertical-align: top;\n    }\n\n    .dataframe thead th {\n        text-align: right;\n    }\n</style>\n<table border=\"1\" class=\"dataframe\">\n  <thead>\n    <tr style=\"text-align: right;\">\n      <th></th>\n      <th>Customer ID</th>\n      <th>Food ID</th>\n      <th>Satisfaction Rating</th>\n    </tr>\n  </thead>\n  <tbody>\n    <tr>\n      <th>0</th>\n      <td>537</td>\n      <td>9</td>\n      <td>2</td>\n    </tr>\n    <tr>\n      <th>1</th>\n      <td>97</td>\n      <td>4</td>\n      <td>7</td>\n    </tr>\n    <tr>\n      <th>2</th>\n      <td>658</td>\n      <td>1</td>\n      <td>3</td>\n    </tr>\n    <tr>\n      <th>3</th>\n      <td>202</td>\n      <td>2</td>\n      <td>7</td>\n    </tr>\n    <tr>\n      <th>4</th>\n      <td>155</td>\n      <td>9</td>\n      <td>10</td>\n    </tr>\n  </tbody>\n</table>\n</div>"
          },
          "metadata": {}
        }
      ]
    },
    {
      "cell_type": "markdown",
      "source": "## The `pd.merge()` Method",
      "metadata": {}
    },
    {
      "cell_type": "code",
      "source": "week1 = pd.read_csv(\"Restaurant - Week 1 Sales.csv\")\nweek2 = pd.read_csv(\"Restaurant - Week 2 Sales.csv\")\ncustomers = pd.read_csv(\"Restaurant - Customers.csv\")\nfoods = pd.read_csv(\"Restaurant - Foods.csv\")\nsatisfaction = pd.read_csv(\"Restaurant - Week 1 Satisfaction.csv\")",
      "metadata": {
        "tags": [],
        "trusted": true
      },
      "execution_count": 41,
      "outputs": []
    },
    {
      "cell_type": "code",
      "source": "week1.head(3)",
      "metadata": {
        "collapsed": false,
        "jupyter": {
          "outputs_hidden": false
        }
      },
      "execution_count": 11,
      "outputs": [
        {
          "execution_count": 11,
          "output_type": "execute_result",
          "data": {
            "text/html": [
              "<div>\n",
              "<table border=\"1\" class=\"dataframe\">\n",
              "  <thead>\n",
              "    <tr style=\"text-align: right;\">\n",
              "      <th></th>\n",
              "      <th>Customer ID</th>\n",
              "      <th>Food ID</th>\n",
              "    </tr>\n",
              "  </thead>\n",
              "  <tbody>\n",
              "    <tr>\n",
              "      <th>0</th>\n",
              "      <td>537</td>\n",
              "      <td>9</td>\n",
              "    </tr>\n",
              "    <tr>\n",
              "      <th>1</th>\n",
              "      <td>97</td>\n",
              "      <td>4</td>\n",
              "    </tr>\n",
              "    <tr>\n",
              "      <th>2</th>\n",
              "      <td>658</td>\n",
              "      <td>1</td>\n",
              "    </tr>\n",
              "  </tbody>\n",
              "</table>\n",
              "</div>"
            ],
            "text/plain": [
              "   Customer ID  Food ID\n",
              "0          537        9\n",
              "1           97        4\n",
              "2          658        1"
            ]
          },
          "metadata": {}
        }
      ]
    },
    {
      "cell_type": "code",
      "source": "customers.head(3)",
      "metadata": {
        "collapsed": false,
        "jupyter": {
          "outputs_hidden": false
        }
      },
      "execution_count": 12,
      "outputs": [
        {
          "execution_count": 12,
          "output_type": "execute_result",
          "data": {
            "text/html": [
              "<div>\n",
              "<table border=\"1\" class=\"dataframe\">\n",
              "  <thead>\n",
              "    <tr style=\"text-align: right;\">\n",
              "      <th></th>\n",
              "      <th>ID</th>\n",
              "      <th>First Name</th>\n",
              "      <th>Last Name</th>\n",
              "      <th>Gender</th>\n",
              "      <th>Company</th>\n",
              "      <th>Occupation</th>\n",
              "    </tr>\n",
              "  </thead>\n",
              "  <tbody>\n",
              "    <tr>\n",
              "      <th>0</th>\n",
              "      <td>1</td>\n",
              "      <td>Joseph</td>\n",
              "      <td>Perkins</td>\n",
              "      <td>Male</td>\n",
              "      <td>Dynazzy</td>\n",
              "      <td>Community Outreach Specialist</td>\n",
              "    </tr>\n",
              "    <tr>\n",
              "      <th>1</th>\n",
              "      <td>2</td>\n",
              "      <td>Jennifer</td>\n",
              "      <td>Alvarez</td>\n",
              "      <td>Female</td>\n",
              "      <td>DabZ</td>\n",
              "      <td>Senior Quality Engineer</td>\n",
              "    </tr>\n",
              "    <tr>\n",
              "      <th>2</th>\n",
              "      <td>3</td>\n",
              "      <td>Roger</td>\n",
              "      <td>Black</td>\n",
              "      <td>Male</td>\n",
              "      <td>Tagfeed</td>\n",
              "      <td>Account Executive</td>\n",
              "    </tr>\n",
              "  </tbody>\n",
              "</table>\n",
              "</div>"
            ],
            "text/plain": [
              "   ID First Name Last Name  Gender  Company                     Occupation\n",
              "0   1     Joseph   Perkins    Male  Dynazzy  Community Outreach Specialist\n",
              "1   2   Jennifer   Alvarez  Female     DabZ        Senior Quality Engineer\n",
              "2   3      Roger     Black    Male  Tagfeed              Account Executive"
            ]
          },
          "metadata": {}
        }
      ]
    },
    {
      "cell_type": "code",
      "source": "pd.merge(week1, customers, how = \"left\", left_on = \"Customer ID\", right_on = \"ID\")",
      "metadata": {
        "collapsed": false,
        "jupyter": {
          "outputs_hidden": false
        }
      },
      "execution_count": 13,
      "outputs": [
        {
          "execution_count": 13,
          "output_type": "execute_result",
          "data": {
            "text/html": [
              "<div>\n",
              "<table border=\"1\" class=\"dataframe\">\n",
              "  <thead>\n",
              "    <tr style=\"text-align: right;\">\n",
              "      <th></th>\n",
              "      <th>Customer ID</th>\n",
              "      <th>Food ID</th>\n",
              "      <th>ID</th>\n",
              "      <th>First Name</th>\n",
              "      <th>Last Name</th>\n",
              "      <th>Gender</th>\n",
              "      <th>Company</th>\n",
              "      <th>Occupation</th>\n",
              "    </tr>\n",
              "  </thead>\n",
              "  <tbody>\n",
              "    <tr>\n",
              "      <th>0</th>\n",
              "      <td>537</td>\n",
              "      <td>9</td>\n",
              "      <td>537</td>\n",
              "      <td>Cheryl</td>\n",
              "      <td>Carroll</td>\n",
              "      <td>Female</td>\n",
              "      <td>Zoombeat</td>\n",
              "      <td>Registered Nurse</td>\n",
              "    </tr>\n",
              "    <tr>\n",
              "      <th>1</th>\n",
              "      <td>97</td>\n",
              "      <td>4</td>\n",
              "      <td>97</td>\n",
              "      <td>Amanda</td>\n",
              "      <td>Watkins</td>\n",
              "      <td>Female</td>\n",
              "      <td>Ozu</td>\n",
              "      <td>Account Coordinator</td>\n",
              "    </tr>\n",
              "    <tr>\n",
              "      <th>2</th>\n",
              "      <td>658</td>\n",
              "      <td>1</td>\n",
              "      <td>658</td>\n",
              "      <td>Patrick</td>\n",
              "      <td>Webb</td>\n",
              "      <td>Male</td>\n",
              "      <td>Browsebug</td>\n",
              "      <td>Community Outreach Specialist</td>\n",
              "    </tr>\n",
              "    <tr>\n",
              "      <th>3</th>\n",
              "      <td>202</td>\n",
              "      <td>2</td>\n",
              "      <td>202</td>\n",
              "      <td>Louis</td>\n",
              "      <td>Campbell</td>\n",
              "      <td>Male</td>\n",
              "      <td>Rhynoodle</td>\n",
              "      <td>Account Representative III</td>\n",
              "    </tr>\n",
              "    <tr>\n",
              "      <th>4</th>\n",
              "      <td>155</td>\n",
              "      <td>9</td>\n",
              "      <td>155</td>\n",
              "      <td>Carolyn</td>\n",
              "      <td>Diaz</td>\n",
              "      <td>Female</td>\n",
              "      <td>Gigazoom</td>\n",
              "      <td>Database Administrator III</td>\n",
              "    </tr>\n",
              "    <tr>\n",
              "      <th>5</th>\n",
              "      <td>213</td>\n",
              "      <td>8</td>\n",
              "      <td>213</td>\n",
              "      <td>Keith</td>\n",
              "      <td>Foster</td>\n",
              "      <td>Male</td>\n",
              "      <td>Gigashots</td>\n",
              "      <td>VP Quality Control</td>\n",
              "    </tr>\n",
              "    <tr>\n",
              "      <th>6</th>\n",
              "      <td>600</td>\n",
              "      <td>1</td>\n",
              "      <td>600</td>\n",
              "      <td>Sandra</td>\n",
              "      <td>Bailey</td>\n",
              "      <td>Female</td>\n",
              "      <td>Jaxnation</td>\n",
              "      <td>Sales Associate</td>\n",
              "    </tr>\n",
              "    <tr>\n",
              "      <th>7</th>\n",
              "      <td>503</td>\n",
              "      <td>5</td>\n",
              "      <td>503</td>\n",
              "      <td>Justin</td>\n",
              "      <td>Daniels</td>\n",
              "      <td>Male</td>\n",
              "      <td>Oloo</td>\n",
              "      <td>Environmental Tech</td>\n",
              "    </tr>\n",
              "    <tr>\n",
              "      <th>8</th>\n",
              "      <td>71</td>\n",
              "      <td>3</td>\n",
              "      <td>71</td>\n",
              "      <td>Carolyn</td>\n",
              "      <td>Reyes</td>\n",
              "      <td>Female</td>\n",
              "      <td>Twimbo</td>\n",
              "      <td>Safety Technician IV</td>\n",
              "    </tr>\n",
              "    <tr>\n",
              "      <th>9</th>\n",
              "      <td>174</td>\n",
              "      <td>3</td>\n",
              "      <td>174</td>\n",
              "      <td>Anna</td>\n",
              "      <td>Miller</td>\n",
              "      <td>Female</td>\n",
              "      <td>Innojam</td>\n",
              "      <td>Developer I</td>\n",
              "    </tr>\n",
              "    <tr>\n",
              "      <th>10</th>\n",
              "      <td>961</td>\n",
              "      <td>9</td>\n",
              "      <td>961</td>\n",
              "      <td>Ralph</td>\n",
              "      <td>Richards</td>\n",
              "      <td>Male</td>\n",
              "      <td>Thoughtstorm</td>\n",
              "      <td>Accountant I</td>\n",
              "    </tr>\n",
              "    <tr>\n",
              "      <th>11</th>\n",
              "      <td>966</td>\n",
              "      <td>5</td>\n",
              "      <td>966</td>\n",
              "      <td>Robert</td>\n",
              "      <td>Ford</td>\n",
              "      <td>Male</td>\n",
              "      <td>Jabbertype</td>\n",
              "      <td>Account Representative IV</td>\n",
              "    </tr>\n",
              "    <tr>\n",
              "      <th>12</th>\n",
              "      <td>641</td>\n",
              "      <td>4</td>\n",
              "      <td>641</td>\n",
              "      <td>Donna</td>\n",
              "      <td>Gutierrez</td>\n",
              "      <td>Female</td>\n",
              "      <td>Dabtype</td>\n",
              "      <td>Assistant Professor</td>\n",
              "    </tr>\n",
              "    <tr>\n",
              "      <th>13</th>\n",
              "      <td>288</td>\n",
              "      <td>2</td>\n",
              "      <td>288</td>\n",
              "      <td>Kenneth</td>\n",
              "      <td>Jackson</td>\n",
              "      <td>Male</td>\n",
              "      <td>Voomm</td>\n",
              "      <td>Associate Professor</td>\n",
              "    </tr>\n",
              "    <tr>\n",
              "      <th>14</th>\n",
              "      <td>149</td>\n",
              "      <td>4</td>\n",
              "      <td>149</td>\n",
              "      <td>Jennifer</td>\n",
              "      <td>Oliver</td>\n",
              "      <td>Female</td>\n",
              "      <td>Topiclounge</td>\n",
              "      <td>Database Administrator III</td>\n",
              "    </tr>\n",
              "    <tr>\n",
              "      <th>15</th>\n",
              "      <td>954</td>\n",
              "      <td>2</td>\n",
              "      <td>954</td>\n",
              "      <td>Thomas</td>\n",
              "      <td>Perkins</td>\n",
              "      <td>Male</td>\n",
              "      <td>Roodel</td>\n",
              "      <td>Account Executive</td>\n",
              "    </tr>\n",
              "    <tr>\n",
              "      <th>16</th>\n",
              "      <td>147</td>\n",
              "      <td>9</td>\n",
              "      <td>147</td>\n",
              "      <td>Theresa</td>\n",
              "      <td>Morales</td>\n",
              "      <td>Female</td>\n",
              "      <td>Abata</td>\n",
              "      <td>Occupational Therapist</td>\n",
              "    </tr>\n",
              "    <tr>\n",
              "      <th>17</th>\n",
              "      <td>155</td>\n",
              "      <td>1</td>\n",
              "      <td>155</td>\n",
              "      <td>Carolyn</td>\n",
              "      <td>Diaz</td>\n",
              "      <td>Female</td>\n",
              "      <td>Gigazoom</td>\n",
              "      <td>Database Administrator III</td>\n",
              "    </tr>\n",
              "    <tr>\n",
              "      <th>18</th>\n",
              "      <td>550</td>\n",
              "      <td>6</td>\n",
              "      <td>550</td>\n",
              "      <td>Walter</td>\n",
              "      <td>Miller</td>\n",
              "      <td>Male</td>\n",
              "      <td>Yata</td>\n",
              "      <td>Payment Adjustment Coordinator</td>\n",
              "    </tr>\n",
              "    <tr>\n",
              "      <th>19</th>\n",
              "      <td>101</td>\n",
              "      <td>7</td>\n",
              "      <td>101</td>\n",
              "      <td>Jeremy</td>\n",
              "      <td>Nelson</td>\n",
              "      <td>Male</td>\n",
              "      <td>Brainlounge</td>\n",
              "      <td>Web Developer IV</td>\n",
              "    </tr>\n",
              "    <tr>\n",
              "      <th>20</th>\n",
              "      <td>549</td>\n",
              "      <td>6</td>\n",
              "      <td>549</td>\n",
              "      <td>Harold</td>\n",
              "      <td>Rivera</td>\n",
              "      <td>Male</td>\n",
              "      <td>Topdrive</td>\n",
              "      <td>Cost Accountant</td>\n",
              "    </tr>\n",
              "    <tr>\n",
              "      <th>21</th>\n",
              "      <td>75</td>\n",
              "      <td>6</td>\n",
              "      <td>75</td>\n",
              "      <td>Catherine</td>\n",
              "      <td>Carpenter</td>\n",
              "      <td>Female</td>\n",
              "      <td>Zoozzy</td>\n",
              "      <td>Marketing Manager</td>\n",
              "    </tr>\n",
              "    <tr>\n",
              "      <th>22</th>\n",
              "      <td>78</td>\n",
              "      <td>7</td>\n",
              "      <td>78</td>\n",
              "      <td>Robert</td>\n",
              "      <td>Kennedy</td>\n",
              "      <td>Male</td>\n",
              "      <td>Edgewire</td>\n",
              "      <td>Chemical Engineer</td>\n",
              "    </tr>\n",
              "    <tr>\n",
              "      <th>23</th>\n",
              "      <td>514</td>\n",
              "      <td>5</td>\n",
              "      <td>514</td>\n",
              "      <td>Jack</td>\n",
              "      <td>Hill</td>\n",
              "      <td>Male</td>\n",
              "      <td>Blogtags</td>\n",
              "      <td>Assistant Professor</td>\n",
              "    </tr>\n",
              "    <tr>\n",
              "      <th>24</th>\n",
              "      <td>833</td>\n",
              "      <td>7</td>\n",
              "      <td>833</td>\n",
              "      <td>Carolyn</td>\n",
              "      <td>Dunn</td>\n",
              "      <td>Female</td>\n",
              "      <td>Yadel</td>\n",
              "      <td>Recruiter</td>\n",
              "    </tr>\n",
              "    <tr>\n",
              "      <th>25</th>\n",
              "      <td>329</td>\n",
              "      <td>8</td>\n",
              "      <td>329</td>\n",
              "      <td>Amanda</td>\n",
              "      <td>Nguyen</td>\n",
              "      <td>Female</td>\n",
              "      <td>Meezzy</td>\n",
              "      <td>Associate Professor</td>\n",
              "    </tr>\n",
              "    <tr>\n",
              "      <th>26</th>\n",
              "      <td>586</td>\n",
              "      <td>10</td>\n",
              "      <td>586</td>\n",
              "      <td>Doris</td>\n",
              "      <td>Mcdonald</td>\n",
              "      <td>Female</td>\n",
              "      <td>Youfeed</td>\n",
              "      <td>Marketing Assistant</td>\n",
              "    </tr>\n",
              "    <tr>\n",
              "      <th>27</th>\n",
              "      <td>341</td>\n",
              "      <td>1</td>\n",
              "      <td>341</td>\n",
              "      <td>Rachel</td>\n",
              "      <td>Robinson</td>\n",
              "      <td>Female</td>\n",
              "      <td>Twinder</td>\n",
              "      <td>Safety Technician IV</td>\n",
              "    </tr>\n",
              "    <tr>\n",
              "      <th>28</th>\n",
              "      <td>519</td>\n",
              "      <td>10</td>\n",
              "      <td>519</td>\n",
              "      <td>Lillian</td>\n",
              "      <td>Rogers</td>\n",
              "      <td>Female</td>\n",
              "      <td>Eazzy</td>\n",
              "      <td>Paralegal</td>\n",
              "    </tr>\n",
              "    <tr>\n",
              "      <th>29</th>\n",
              "      <td>680</td>\n",
              "      <td>9</td>\n",
              "      <td>680</td>\n",
              "      <td>Irene</td>\n",
              "      <td>Gordon</td>\n",
              "      <td>Female</td>\n",
              "      <td>Voolith</td>\n",
              "      <td>Database Administrator II</td>\n",
              "    </tr>\n",
              "    <tr>\n",
              "      <th>...</th>\n",
              "      <td>...</td>\n",
              "      <td>...</td>\n",
              "      <td>...</td>\n",
              "      <td>...</td>\n",
              "      <td>...</td>\n",
              "      <td>...</td>\n",
              "      <td>...</td>\n",
              "      <td>...</td>\n",
              "    </tr>\n",
              "    <tr>\n",
              "      <th>220</th>\n",
              "      <td>147</td>\n",
              "      <td>8</td>\n",
              "      <td>147</td>\n",
              "      <td>Theresa</td>\n",
              "      <td>Morales</td>\n",
              "      <td>Female</td>\n",
              "      <td>Abata</td>\n",
              "      <td>Occupational Therapist</td>\n",
              "    </tr>\n",
              "    <tr>\n",
              "      <th>221</th>\n",
              "      <td>745</td>\n",
              "      <td>4</td>\n",
              "      <td>745</td>\n",
              "      <td>Nicole</td>\n",
              "      <td>Garza</td>\n",
              "      <td>Female</td>\n",
              "      <td>Topiczoom</td>\n",
              "      <td>General Manager</td>\n",
              "    </tr>\n",
              "    <tr>\n",
              "      <th>222</th>\n",
              "      <td>184</td>\n",
              "      <td>3</td>\n",
              "      <td>184</td>\n",
              "      <td>Jesse</td>\n",
              "      <td>Edwards</td>\n",
              "      <td>Male</td>\n",
              "      <td>Zoombeat</td>\n",
              "      <td>Administrative Officer</td>\n",
              "    </tr>\n",
              "    <tr>\n",
              "      <th>223</th>\n",
              "      <td>828</td>\n",
              "      <td>8</td>\n",
              "      <td>828</td>\n",
              "      <td>Mary</td>\n",
              "      <td>Payne</td>\n",
              "      <td>Female</td>\n",
              "      <td>Oyonder</td>\n",
              "      <td>Assistant Media Planner</td>\n",
              "    </tr>\n",
              "    <tr>\n",
              "      <th>224</th>\n",
              "      <td>578</td>\n",
              "      <td>5</td>\n",
              "      <td>578</td>\n",
              "      <td>Donald</td>\n",
              "      <td>Matthews</td>\n",
              "      <td>Male</td>\n",
              "      <td>Fiveclub</td>\n",
              "      <td>Physical Therapy Assistant</td>\n",
              "    </tr>\n",
              "    <tr>\n",
              "      <th>225</th>\n",
              "      <td>491</td>\n",
              "      <td>4</td>\n",
              "      <td>491</td>\n",
              "      <td>Anna</td>\n",
              "      <td>Perkins</td>\n",
              "      <td>Female</td>\n",
              "      <td>Zazio</td>\n",
              "      <td>Quality Engineer</td>\n",
              "    </tr>\n",
              "    <tr>\n",
              "      <th>226</th>\n",
              "      <td>62</td>\n",
              "      <td>4</td>\n",
              "      <td>62</td>\n",
              "      <td>Andrew</td>\n",
              "      <td>Tucker</td>\n",
              "      <td>Male</td>\n",
              "      <td>Leenti</td>\n",
              "      <td>Structural Analysis Engineer</td>\n",
              "    </tr>\n",
              "    <tr>\n",
              "      <th>227</th>\n",
              "      <td>77</td>\n",
              "      <td>9</td>\n",
              "      <td>77</td>\n",
              "      <td>Lori</td>\n",
              "      <td>Edwards</td>\n",
              "      <td>Female</td>\n",
              "      <td>Dabvine</td>\n",
              "      <td>Sales Representative</td>\n",
              "    </tr>\n",
              "    <tr>\n",
              "      <th>228</th>\n",
              "      <td>506</td>\n",
              "      <td>9</td>\n",
              "      <td>506</td>\n",
              "      <td>Mildred</td>\n",
              "      <td>Mendoza</td>\n",
              "      <td>Female</td>\n",
              "      <td>Vitz</td>\n",
              "      <td>Environmental Tech</td>\n",
              "    </tr>\n",
              "    <tr>\n",
              "      <th>229</th>\n",
              "      <td>271</td>\n",
              "      <td>9</td>\n",
              "      <td>271</td>\n",
              "      <td>Beverly</td>\n",
              "      <td>Ward</td>\n",
              "      <td>Female</td>\n",
              "      <td>Brainbox</td>\n",
              "      <td>Automation Specialist II</td>\n",
              "    </tr>\n",
              "    <tr>\n",
              "      <th>230</th>\n",
              "      <td>584</td>\n",
              "      <td>10</td>\n",
              "      <td>584</td>\n",
              "      <td>Jeffrey</td>\n",
              "      <td>Simmons</td>\n",
              "      <td>Male</td>\n",
              "      <td>Flipstorm</td>\n",
              "      <td>Chemical Engineer</td>\n",
              "    </tr>\n",
              "    <tr>\n",
              "      <th>231</th>\n",
              "      <td>148</td>\n",
              "      <td>5</td>\n",
              "      <td>148</td>\n",
              "      <td>Patricia</td>\n",
              "      <td>Reid</td>\n",
              "      <td>Female</td>\n",
              "      <td>Shuffledrive</td>\n",
              "      <td>Analog Circuit Design manager</td>\n",
              "    </tr>\n",
              "    <tr>\n",
              "      <th>232</th>\n",
              "      <td>595</td>\n",
              "      <td>3</td>\n",
              "      <td>595</td>\n",
              "      <td>Bruce</td>\n",
              "      <td>Kennedy</td>\n",
              "      <td>Male</td>\n",
              "      <td>Mydo</td>\n",
              "      <td>Recruiter</td>\n",
              "    </tr>\n",
              "    <tr>\n",
              "      <th>233</th>\n",
              "      <td>274</td>\n",
              "      <td>10</td>\n",
              "      <td>274</td>\n",
              "      <td>Gary</td>\n",
              "      <td>Reid</td>\n",
              "      <td>Male</td>\n",
              "      <td>Fivespan</td>\n",
              "      <td>Executive Secretary</td>\n",
              "    </tr>\n",
              "    <tr>\n",
              "      <th>234</th>\n",
              "      <td>646</td>\n",
              "      <td>1</td>\n",
              "      <td>646</td>\n",
              "      <td>Wanda</td>\n",
              "      <td>Lane</td>\n",
              "      <td>Female</td>\n",
              "      <td>Twiyo</td>\n",
              "      <td>Help Desk Technician</td>\n",
              "    </tr>\n",
              "    <tr>\n",
              "      <th>235</th>\n",
              "      <td>520</td>\n",
              "      <td>8</td>\n",
              "      <td>520</td>\n",
              "      <td>Melissa</td>\n",
              "      <td>Wallace</td>\n",
              "      <td>Female</td>\n",
              "      <td>Skyvu</td>\n",
              "      <td>Administrative Officer</td>\n",
              "    </tr>\n",
              "    <tr>\n",
              "      <th>236</th>\n",
              "      <td>644</td>\n",
              "      <td>8</td>\n",
              "      <td>644</td>\n",
              "      <td>Louis</td>\n",
              "      <td>Brooks</td>\n",
              "      <td>Male</td>\n",
              "      <td>Nlounge</td>\n",
              "      <td>VP Quality Control</td>\n",
              "    </tr>\n",
              "    <tr>\n",
              "      <th>237</th>\n",
              "      <td>725</td>\n",
              "      <td>8</td>\n",
              "      <td>725</td>\n",
              "      <td>Carol</td>\n",
              "      <td>Russell</td>\n",
              "      <td>Female</td>\n",
              "      <td>BlogXS</td>\n",
              "      <td>Pharmacist</td>\n",
              "    </tr>\n",
              "    <tr>\n",
              "      <th>238</th>\n",
              "      <td>934</td>\n",
              "      <td>4</td>\n",
              "      <td>934</td>\n",
              "      <td>Joseph</td>\n",
              "      <td>Burton</td>\n",
              "      <td>Male</td>\n",
              "      <td>Leexo</td>\n",
              "      <td>Compensation Analyst</td>\n",
              "    </tr>\n",
              "    <tr>\n",
              "      <th>239</th>\n",
              "      <td>151</td>\n",
              "      <td>10</td>\n",
              "      <td>151</td>\n",
              "      <td>Brandon</td>\n",
              "      <td>Oliver</td>\n",
              "      <td>Male</td>\n",
              "      <td>Voomm</td>\n",
              "      <td>Internal Auditor</td>\n",
              "    </tr>\n",
              "    <tr>\n",
              "      <th>240</th>\n",
              "      <td>945</td>\n",
              "      <td>5</td>\n",
              "      <td>945</td>\n",
              "      <td>Anne</td>\n",
              "      <td>Reed</td>\n",
              "      <td>Female</td>\n",
              "      <td>Twitterworks</td>\n",
              "      <td>Director of Sales</td>\n",
              "    </tr>\n",
              "    <tr>\n",
              "      <th>241</th>\n",
              "      <td>343</td>\n",
              "      <td>3</td>\n",
              "      <td>343</td>\n",
              "      <td>Joe</td>\n",
              "      <td>Price</td>\n",
              "      <td>Male</td>\n",
              "      <td>Fanoodle</td>\n",
              "      <td>Marketing Manager</td>\n",
              "    </tr>\n",
              "    <tr>\n",
              "      <th>242</th>\n",
              "      <td>380</td>\n",
              "      <td>9</td>\n",
              "      <td>380</td>\n",
              "      <td>Martha</td>\n",
              "      <td>Payne</td>\n",
              "      <td>Female</td>\n",
              "      <td>Quinu</td>\n",
              "      <td>Assistant Media Planner</td>\n",
              "    </tr>\n",
              "    <tr>\n",
              "      <th>243</th>\n",
              "      <td>911</td>\n",
              "      <td>4</td>\n",
              "      <td>911</td>\n",
              "      <td>Patrick</td>\n",
              "      <td>Reed</td>\n",
              "      <td>Male</td>\n",
              "      <td>Jabberstorm</td>\n",
              "      <td>Senior Quality Engineer</td>\n",
              "    </tr>\n",
              "    <tr>\n",
              "      <th>244</th>\n",
              "      <td>621</td>\n",
              "      <td>9</td>\n",
              "      <td>621</td>\n",
              "      <td>Amy</td>\n",
              "      <td>Long</td>\n",
              "      <td>Female</td>\n",
              "      <td>Skidoo</td>\n",
              "      <td>Research Associate</td>\n",
              "    </tr>\n",
              "    <tr>\n",
              "      <th>245</th>\n",
              "      <td>413</td>\n",
              "      <td>9</td>\n",
              "      <td>413</td>\n",
              "      <td>Diane</td>\n",
              "      <td>Bailey</td>\n",
              "      <td>Female</td>\n",
              "      <td>Wikibox</td>\n",
              "      <td>Technical Writer</td>\n",
              "    </tr>\n",
              "    <tr>\n",
              "      <th>246</th>\n",
              "      <td>926</td>\n",
              "      <td>6</td>\n",
              "      <td>926</td>\n",
              "      <td>Anne</td>\n",
              "      <td>Wagner</td>\n",
              "      <td>Female</td>\n",
              "      <td>Skyba</td>\n",
              "      <td>Legal Assistant</td>\n",
              "    </tr>\n",
              "    <tr>\n",
              "      <th>247</th>\n",
              "      <td>134</td>\n",
              "      <td>3</td>\n",
              "      <td>134</td>\n",
              "      <td>Diana</td>\n",
              "      <td>Hall</td>\n",
              "      <td>Female</td>\n",
              "      <td>Quinu</td>\n",
              "      <td>Financial Advisor</td>\n",
              "    </tr>\n",
              "    <tr>\n",
              "      <th>248</th>\n",
              "      <td>396</td>\n",
              "      <td>6</td>\n",
              "      <td>396</td>\n",
              "      <td>Juan</td>\n",
              "      <td>Romero</td>\n",
              "      <td>Male</td>\n",
              "      <td>Zoonder</td>\n",
              "      <td>Analyst Programmer</td>\n",
              "    </tr>\n",
              "    <tr>\n",
              "      <th>249</th>\n",
              "      <td>535</td>\n",
              "      <td>10</td>\n",
              "      <td>535</td>\n",
              "      <td>Nancy</td>\n",
              "      <td>Cox</td>\n",
              "      <td>Female</td>\n",
              "      <td>Trudeo</td>\n",
              "      <td>Research Associate</td>\n",
              "    </tr>\n",
              "  </tbody>\n",
              "</table>\n",
              "<p>250 rows × 8 columns</p>\n",
              "</div>"
            ],
            "text/plain": [
              "     Customer ID  Food ID   ID First Name  Last Name  Gender       Company  \\\n",
              "0            537        9  537     Cheryl    Carroll  Female      Zoombeat   \n",
              "1             97        4   97     Amanda    Watkins  Female           Ozu   \n",
              "2            658        1  658    Patrick       Webb    Male     Browsebug   \n",
              "3            202        2  202      Louis   Campbell    Male     Rhynoodle   \n",
              "4            155        9  155    Carolyn       Diaz  Female      Gigazoom   \n",
              "5            213        8  213      Keith     Foster    Male     Gigashots   \n",
              "6            600        1  600     Sandra     Bailey  Female     Jaxnation   \n",
              "7            503        5  503     Justin    Daniels    Male          Oloo   \n",
              "8             71        3   71    Carolyn      Reyes  Female        Twimbo   \n",
              "9            174        3  174       Anna     Miller  Female       Innojam   \n",
              "10           961        9  961      Ralph   Richards    Male  Thoughtstorm   \n",
              "11           966        5  966     Robert       Ford    Male    Jabbertype   \n",
              "12           641        4  641      Donna  Gutierrez  Female       Dabtype   \n",
              "13           288        2  288    Kenneth    Jackson    Male         Voomm   \n",
              "14           149        4  149   Jennifer     Oliver  Female   Topiclounge   \n",
              "15           954        2  954     Thomas    Perkins    Male        Roodel   \n",
              "16           147        9  147    Theresa    Morales  Female         Abata   \n",
              "17           155        1  155    Carolyn       Diaz  Female      Gigazoom   \n",
              "18           550        6  550     Walter     Miller    Male          Yata   \n",
              "19           101        7  101     Jeremy     Nelson    Male   Brainlounge   \n",
              "20           549        6  549     Harold     Rivera    Male      Topdrive   \n",
              "21            75        6   75  Catherine  Carpenter  Female        Zoozzy   \n",
              "22            78        7   78     Robert    Kennedy    Male      Edgewire   \n",
              "23           514        5  514       Jack       Hill    Male      Blogtags   \n",
              "24           833        7  833    Carolyn       Dunn  Female         Yadel   \n",
              "25           329        8  329     Amanda     Nguyen  Female        Meezzy   \n",
              "26           586       10  586      Doris   Mcdonald  Female       Youfeed   \n",
              "27           341        1  341     Rachel   Robinson  Female       Twinder   \n",
              "28           519       10  519    Lillian     Rogers  Female         Eazzy   \n",
              "29           680        9  680      Irene     Gordon  Female       Voolith   \n",
              "..           ...      ...  ...        ...        ...     ...           ...   \n",
              "220          147        8  147    Theresa    Morales  Female         Abata   \n",
              "221          745        4  745     Nicole      Garza  Female     Topiczoom   \n",
              "222          184        3  184      Jesse    Edwards    Male      Zoombeat   \n",
              "223          828        8  828       Mary      Payne  Female       Oyonder   \n",
              "224          578        5  578     Donald   Matthews    Male      Fiveclub   \n",
              "225          491        4  491       Anna    Perkins  Female         Zazio   \n",
              "226           62        4   62     Andrew     Tucker    Male        Leenti   \n",
              "227           77        9   77       Lori    Edwards  Female       Dabvine   \n",
              "228          506        9  506    Mildred    Mendoza  Female          Vitz   \n",
              "229          271        9  271    Beverly       Ward  Female      Brainbox   \n",
              "230          584       10  584    Jeffrey    Simmons    Male     Flipstorm   \n",
              "231          148        5  148   Patricia       Reid  Female  Shuffledrive   \n",
              "232          595        3  595      Bruce    Kennedy    Male          Mydo   \n",
              "233          274       10  274       Gary       Reid    Male      Fivespan   \n",
              "234          646        1  646      Wanda       Lane  Female         Twiyo   \n",
              "235          520        8  520    Melissa    Wallace  Female         Skyvu   \n",
              "236          644        8  644      Louis     Brooks    Male       Nlounge   \n",
              "237          725        8  725      Carol    Russell  Female        BlogXS   \n",
              "238          934        4  934     Joseph     Burton    Male         Leexo   \n",
              "239          151       10  151    Brandon     Oliver    Male         Voomm   \n",
              "240          945        5  945       Anne       Reed  Female  Twitterworks   \n",
              "241          343        3  343        Joe      Price    Male      Fanoodle   \n",
              "242          380        9  380     Martha      Payne  Female         Quinu   \n",
              "243          911        4  911    Patrick       Reed    Male   Jabberstorm   \n",
              "244          621        9  621        Amy       Long  Female        Skidoo   \n",
              "245          413        9  413      Diane     Bailey  Female       Wikibox   \n",
              "246          926        6  926       Anne     Wagner  Female         Skyba   \n",
              "247          134        3  134      Diana       Hall  Female         Quinu   \n",
              "248          396        6  396       Juan     Romero    Male       Zoonder   \n",
              "249          535       10  535      Nancy        Cox  Female        Trudeo   \n",
              "\n",
              "                         Occupation  \n",
              "0                  Registered Nurse  \n",
              "1               Account Coordinator  \n",
              "2     Community Outreach Specialist  \n",
              "3        Account Representative III  \n",
              "4        Database Administrator III  \n",
              "5                VP Quality Control  \n",
              "6                   Sales Associate  \n",
              "7                Environmental Tech  \n",
              "8              Safety Technician IV  \n",
              "9                       Developer I  \n",
              "10                     Accountant I  \n",
              "11        Account Representative IV  \n",
              "12              Assistant Professor  \n",
              "13              Associate Professor  \n",
              "14       Database Administrator III  \n",
              "15                Account Executive  \n",
              "16           Occupational Therapist  \n",
              "17       Database Administrator III  \n",
              "18   Payment Adjustment Coordinator  \n",
              "19                 Web Developer IV  \n",
              "20                  Cost Accountant  \n",
              "21                Marketing Manager  \n",
              "22                Chemical Engineer  \n",
              "23              Assistant Professor  \n",
              "24                        Recruiter  \n",
              "25              Associate Professor  \n",
              "26              Marketing Assistant  \n",
              "27             Safety Technician IV  \n",
              "28                        Paralegal  \n",
              "29        Database Administrator II  \n",
              "..                              ...  \n",
              "220          Occupational Therapist  \n",
              "221                 General Manager  \n",
              "222          Administrative Officer  \n",
              "223         Assistant Media Planner  \n",
              "224      Physical Therapy Assistant  \n",
              "225                Quality Engineer  \n",
              "226    Structural Analysis Engineer  \n",
              "227            Sales Representative  \n",
              "228              Environmental Tech  \n",
              "229        Automation Specialist II  \n",
              "230               Chemical Engineer  \n",
              "231   Analog Circuit Design manager  \n",
              "232                       Recruiter  \n",
              "233             Executive Secretary  \n",
              "234            Help Desk Technician  \n",
              "235          Administrative Officer  \n",
              "236              VP Quality Control  \n",
              "237                      Pharmacist  \n",
              "238            Compensation Analyst  \n",
              "239                Internal Auditor  \n",
              "240               Director of Sales  \n",
              "241               Marketing Manager  \n",
              "242         Assistant Media Planner  \n",
              "243         Senior Quality Engineer  \n",
              "244              Research Associate  \n",
              "245                Technical Writer  \n",
              "246                 Legal Assistant  \n",
              "247               Financial Advisor  \n",
              "248              Analyst Programmer  \n",
              "249              Research Associate  \n",
              "\n",
              "[250 rows x 8 columns]"
            ]
          },
          "metadata": {}
        }
      ]
    },
    {
      "cell_type": "code",
      "source": "",
      "metadata": {
        "collapsed": true,
        "jupyter": {
          "outputs_hidden": true
        }
      },
      "execution_count": null,
      "outputs": []
    },
    {
      "cell_type": "code",
      "source": "",
      "metadata": {
        "collapsed": true,
        "jupyter": {
          "outputs_hidden": true
        }
      },
      "execution_count": null,
      "outputs": []
    },
    {
      "cell_type": "code",
      "source": "",
      "metadata": {
        "collapsed": true,
        "jupyter": {
          "outputs_hidden": true
        }
      },
      "execution_count": null,
      "outputs": []
    },
    {
      "cell_type": "code",
      "source": "",
      "metadata": {
        "collapsed": true,
        "jupyter": {
          "outputs_hidden": true
        }
      },
      "execution_count": null,
      "outputs": []
    },
    {
      "cell_type": "code",
      "source": "",
      "metadata": {
        "collapsed": true,
        "jupyter": {
          "outputs_hidden": true
        }
      },
      "execution_count": null,
      "outputs": []
    },
    {
      "cell_type": "code",
      "source": "",
      "metadata": {
        "collapsed": true,
        "jupyter": {
          "outputs_hidden": true
        }
      },
      "execution_count": null,
      "outputs": []
    },
    {
      "cell_type": "code",
      "source": "",
      "metadata": {
        "collapsed": true,
        "jupyter": {
          "outputs_hidden": true
        }
      },
      "execution_count": null,
      "outputs": []
    },
    {
      "cell_type": "code",
      "source": "",
      "metadata": {
        "collapsed": true,
        "jupyter": {
          "outputs_hidden": true
        }
      },
      "execution_count": null,
      "outputs": []
    },
    {
      "cell_type": "code",
      "source": "",
      "metadata": {
        "collapsed": true,
        "jupyter": {
          "outputs_hidden": true
        }
      },
      "execution_count": null,
      "outputs": []
    },
    {
      "cell_type": "code",
      "source": "",
      "metadata": {
        "collapsed": true,
        "jupyter": {
          "outputs_hidden": true
        }
      },
      "execution_count": null,
      "outputs": []
    },
    {
      "cell_type": "code",
      "source": "",
      "metadata": {
        "collapsed": true,
        "jupyter": {
          "outputs_hidden": true
        }
      },
      "execution_count": null,
      "outputs": []
    },
    {
      "cell_type": "code",
      "source": "",
      "metadata": {
        "collapsed": true,
        "jupyter": {
          "outputs_hidden": true
        }
      },
      "execution_count": null,
      "outputs": []
    },
    {
      "cell_type": "code",
      "source": "",
      "metadata": {
        "collapsed": true,
        "jupyter": {
          "outputs_hidden": true
        }
      },
      "execution_count": null,
      "outputs": []
    },
    {
      "cell_type": "code",
      "source": "",
      "metadata": {
        "collapsed": true,
        "jupyter": {
          "outputs_hidden": true
        }
      },
      "execution_count": null,
      "outputs": []
    },
    {
      "cell_type": "code",
      "source": "",
      "metadata": {
        "collapsed": true,
        "jupyter": {
          "outputs_hidden": true
        }
      },
      "execution_count": null,
      "outputs": []
    },
    {
      "cell_type": "code",
      "source": "",
      "metadata": {
        "collapsed": true,
        "jupyter": {
          "outputs_hidden": true
        }
      },
      "execution_count": null,
      "outputs": []
    },
    {
      "cell_type": "code",
      "source": "",
      "metadata": {
        "collapsed": true,
        "jupyter": {
          "outputs_hidden": true
        }
      },
      "execution_count": null,
      "outputs": []
    },
    {
      "cell_type": "code",
      "source": "",
      "metadata": {
        "collapsed": true,
        "jupyter": {
          "outputs_hidden": true
        }
      },
      "execution_count": null,
      "outputs": []
    },
    {
      "cell_type": "code",
      "source": "",
      "metadata": {
        "collapsed": true,
        "jupyter": {
          "outputs_hidden": true
        }
      },
      "execution_count": null,
      "outputs": []
    },
    {
      "cell_type": "code",
      "source": "",
      "metadata": {
        "collapsed": true,
        "jupyter": {
          "outputs_hidden": true
        }
      },
      "execution_count": null,
      "outputs": []
    },
    {
      "cell_type": "code",
      "source": "",
      "metadata": {
        "collapsed": true,
        "jupyter": {
          "outputs_hidden": true
        }
      },
      "execution_count": null,
      "outputs": []
    }
  ]
}