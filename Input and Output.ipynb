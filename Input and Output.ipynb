{
  "metadata": {
    "anaconda-cloud": {},
    "kernelspec": {
      "name": "python",
      "display_name": "Python (Pyodide)",
      "language": "python"
    },
    "language_info": {
      "codemirror_mode": {
        "name": "python",
        "version": 3
      },
      "file_extension": ".py",
      "mimetype": "text/x-python",
      "name": "python",
      "nbconvert_exporter": "python",
      "pygments_lexer": "ipython3",
      "version": "3.8"
    }
  },
  "nbformat_minor": 4,
  "nbformat": 4,
  "cells": [
    {
      "cell_type": "code",
      "source": "import pandas as pd",
      "metadata": {
        "collapsed": true,
        "jupyter": {
          "outputs_hidden": true
        }
      },
      "execution_count": 2,
      "outputs": []
    },
    {
      "cell_type": "code",
      "source": "",
      "metadata": {},
      "execution_count": null,
      "outputs": []
    },
    {
      "cell_type": "code",
      "source": "#testing",
      "metadata": {},
      "execution_count": null,
      "outputs": []
    },
    {
      "cell_type": "code",
      "source": "",
      "metadata": {},
      "execution_count": null,
      "outputs": []
    },
    {
      "cell_type": "markdown",
      "source": "## Quick Object Conversions",
      "metadata": {}
    },
    {
      "cell_type": "code",
      "source": "baby_names = pd.read_csv(\"https://data.illinois.gov/api/views/9ean-aer9/rows.csv\")\nbaby_names.head(3)",
      "metadata": {
        "collapsed": false,
        "jupyter": {
          "outputs_hidden": false
        }
      },
      "execution_count": 45,
      "outputs": [
        {
          "execution_count": 45,
          "output_type": "execute_result",
          "data": {
            "text/html": [
              "<div>\n",
              "<table border=\"1\" class=\"dataframe\">\n",
              "  <thead>\n",
              "    <tr style=\"text-align: right;\">\n",
              "      <th></th>\n",
              "      <th>Rank</th>\n",
              "      <th>Year</th>\n",
              "      <th>Name</th>\n",
              "      <th>Frequency</th>\n",
              "    </tr>\n",
              "  </thead>\n",
              "  <tbody>\n",
              "    <tr>\n",
              "      <th>0</th>\n",
              "      <td>1</td>\n",
              "      <td>1980</td>\n",
              "      <td>Michael</td>\n",
              "      <td>3886</td>\n",
              "    </tr>\n",
              "    <tr>\n",
              "      <th>1</th>\n",
              "      <td>2</td>\n",
              "      <td>1980</td>\n",
              "      <td>Jason</td>\n",
              "      <td>2389</td>\n",
              "    </tr>\n",
              "    <tr>\n",
              "      <th>2</th>\n",
              "      <td>3</td>\n",
              "      <td>1980</td>\n",
              "      <td>Christopher</td>\n",
              "      <td>2273</td>\n",
              "    </tr>\n",
              "  </tbody>\n",
              "</table>\n",
              "</div>"
            ],
            "text/plain": [
              "   Rank  Year         Name  Frequency\n",
              "0     1  1980      Michael       3886\n",
              "1     2  1980        Jason       2389\n",
              "2     3  1980  Christopher       2273"
            ]
          },
          "metadata": {}
        }
      ]
    },
    {
      "cell_type": "markdown",
      "source": "## Export `DataFrame` to CSV File with the `.to_csv()` Method",
      "metadata": {}
    },
    {
      "cell_type": "code",
      "source": "baby_names = pd.read_csv(\"https://data.illinois.gov/api/views/9ean-aer9/rows.csv\")\nbaby_names.head(3)",
      "metadata": {
        "collapsed": false,
        "jupyter": {
          "outputs_hidden": false
        }
      },
      "execution_count": 60,
      "outputs": [
        {
          "execution_count": 60,
          "output_type": "execute_result",
          "data": {
            "text/html": [
              "<div>\n",
              "<table border=\"1\" class=\"dataframe\">\n",
              "  <thead>\n",
              "    <tr style=\"text-align: right;\">\n",
              "      <th></th>\n",
              "      <th>Rank</th>\n",
              "      <th>Year</th>\n",
              "      <th>Name</th>\n",
              "      <th>Frequency</th>\n",
              "    </tr>\n",
              "  </thead>\n",
              "  <tbody>\n",
              "    <tr>\n",
              "      <th>0</th>\n",
              "      <td>1</td>\n",
              "      <td>1980</td>\n",
              "      <td>Michael</td>\n",
              "      <td>3886</td>\n",
              "    </tr>\n",
              "    <tr>\n",
              "      <th>1</th>\n",
              "      <td>2</td>\n",
              "      <td>1980</td>\n",
              "      <td>Jason</td>\n",
              "      <td>2389</td>\n",
              "    </tr>\n",
              "    <tr>\n",
              "      <th>2</th>\n",
              "      <td>3</td>\n",
              "      <td>1980</td>\n",
              "      <td>Christopher</td>\n",
              "      <td>2273</td>\n",
              "    </tr>\n",
              "  </tbody>\n",
              "</table>\n",
              "</div>"
            ],
            "text/plain": [
              "   Rank  Year         Name  Frequency\n",
              "0     1  1980      Michael       3886\n",
              "1     2  1980        Jason       2389\n",
              "2     3  1980  Christopher       2273"
            ]
          },
          "metadata": {}
        }
      ]
    },
    {
      "cell_type": "code",
      "source": "baby_names.to_csv(\"Baby Names.csv\", index = False, columns = [\"Name\", \"Frequency\"], encoding = \"utf-8\")",
      "metadata": {
        "collapsed": true,
        "jupyter": {
          "outputs_hidden": true
        }
      },
      "execution_count": 63,
      "outputs": []
    },
    {
      "cell_type": "markdown",
      "source": "## Import Excel File",
      "metadata": {}
    },
    {
      "cell_type": "code",
      "source": "df = pd.read_excel(\"Data - Single Worksheet.xlsx\")\ndf",
      "metadata": {
        "collapsed": false,
        "jupyter": {
          "outputs_hidden": false
        }
      },
      "execution_count": 65,
      "outputs": [
        {
          "execution_count": 65,
          "output_type": "execute_result",
          "data": {
            "text/html": [
              "<div>\n",
              "<table border=\"1\" class=\"dataframe\">\n",
              "  <thead>\n",
              "    <tr style=\"text-align: right;\">\n",
              "      <th></th>\n",
              "      <th>First Name</th>\n",
              "      <th>Last Name</th>\n",
              "      <th>City</th>\n",
              "      <th>Gender</th>\n",
              "    </tr>\n",
              "  </thead>\n",
              "  <tbody>\n",
              "    <tr>\n",
              "      <th>0</th>\n",
              "      <td>Brandon</td>\n",
              "      <td>James</td>\n",
              "      <td>Miami</td>\n",
              "      <td>M</td>\n",
              "    </tr>\n",
              "    <tr>\n",
              "      <th>1</th>\n",
              "      <td>Sean</td>\n",
              "      <td>Hawkins</td>\n",
              "      <td>Denver</td>\n",
              "      <td>M</td>\n",
              "    </tr>\n",
              "    <tr>\n",
              "      <th>2</th>\n",
              "      <td>Judy</td>\n",
              "      <td>Day</td>\n",
              "      <td>Los Angeles</td>\n",
              "      <td>F</td>\n",
              "    </tr>\n",
              "    <tr>\n",
              "      <th>3</th>\n",
              "      <td>Ashley</td>\n",
              "      <td>Ruiz</td>\n",
              "      <td>San Francisco</td>\n",
              "      <td>F</td>\n",
              "    </tr>\n",
              "    <tr>\n",
              "      <th>4</th>\n",
              "      <td>Stephanie</td>\n",
              "      <td>Gomez</td>\n",
              "      <td>Portland</td>\n",
              "      <td>F</td>\n",
              "    </tr>\n",
              "  </tbody>\n",
              "</table>\n",
              "</div>"
            ],
            "text/plain": [
              "  First Name Last Name           City Gender\n",
              "0    Brandon     James          Miami      M\n",
              "1       Sean   Hawkins         Denver      M\n",
              "2       Judy       Day    Los Angeles      F\n",
              "3     Ashley      Ruiz  San Francisco      F\n",
              "4  Stephanie     Gomez       Portland      F"
            ]
          },
          "metadata": {}
        }
      ]
    },
    {
      "cell_type": "code",
      "source": "data = pd.read_excel(\"Data - Multiple Worksheets.xlsx\", sheetname = None)",
      "metadata": {
        "collapsed": false,
        "jupyter": {
          "outputs_hidden": false
        }
      },
      "execution_count": 84,
      "outputs": []
    },
    {
      "cell_type": "code",
      "source": "type(data)",
      "metadata": {
        "collapsed": false,
        "jupyter": {
          "outputs_hidden": false
        }
      },
      "execution_count": 85,
      "outputs": [
        {
          "execution_count": 85,
          "output_type": "execute_result",
          "data": {
            "text/plain": [
              "dict"
            ]
          },
          "metadata": {}
        }
      ]
    },
    {
      "cell_type": "code",
      "source": "data",
      "metadata": {
        "collapsed": false,
        "jupyter": {
          "outputs_hidden": false
        }
      },
      "execution_count": 86,
      "outputs": [
        {
          "execution_count": 86,
          "output_type": "execute_result",
          "data": {
            "text/plain": [
              "{'Data 1':   First Name Last Name           City Gender\n",
              " 0    Brandon     James          Miami      M\n",
              " 1       Sean   Hawkins         Denver      M\n",
              " 2       Judy       Day    Los Angeles      F\n",
              " 3     Ashley      Ruiz  San Francisco      F\n",
              " 4  Stephanie     Gomez       Portland      F,\n",
              " 'Data 2':   First Name Last Name           City Gender\n",
              " 0     Parker     Power        Raleigh      F\n",
              " 1    Preston  Prescott   Philadelphia      F\n",
              " 2    Ronaldo   Donaldo         Bangor      M\n",
              " 3      Megan   Stiller  San Francisco      M\n",
              " 4     Bustin    Jieber         Austin      F}"
            ]
          },
          "metadata": {}
        }
      ]
    },
    {
      "cell_type": "markdown",
      "source": "## Export Excel File",
      "metadata": {}
    },
    {
      "cell_type": "code",
      "source": "baby_names = pd.read_csv(\"https://data.illinois.gov/api/views/9ean-aer9/rows.csv\")\nbaby_names.head(3)",
      "metadata": {
        "collapsed": false,
        "jupyter": {
          "outputs_hidden": false
        }
      },
      "execution_count": 124,
      "outputs": [
        {
          "execution_count": 124,
          "output_type": "execute_result",
          "data": {
            "text/html": [
              "<div>\n",
              "<table border=\"1\" class=\"dataframe\">\n",
              "  <thead>\n",
              "    <tr style=\"text-align: right;\">\n",
              "      <th></th>\n",
              "      <th>Rank</th>\n",
              "      <th>Year</th>\n",
              "      <th>Name</th>\n",
              "      <th>Frequency</th>\n",
              "    </tr>\n",
              "  </thead>\n",
              "  <tbody>\n",
              "    <tr>\n",
              "      <th>0</th>\n",
              "      <td>1</td>\n",
              "      <td>1980</td>\n",
              "      <td>Michael</td>\n",
              "      <td>3886</td>\n",
              "    </tr>\n",
              "    <tr>\n",
              "      <th>1</th>\n",
              "      <td>2</td>\n",
              "      <td>1980</td>\n",
              "      <td>Jason</td>\n",
              "      <td>2389</td>\n",
              "    </tr>\n",
              "    <tr>\n",
              "      <th>2</th>\n",
              "      <td>3</td>\n",
              "      <td>1980</td>\n",
              "      <td>Christopher</td>\n",
              "      <td>2273</td>\n",
              "    </tr>\n",
              "  </tbody>\n",
              "</table>\n",
              "</div>"
            ],
            "text/plain": [
              "   Rank  Year         Name  Frequency\n",
              "0     1  1980      Michael       3886\n",
              "1     2  1980        Jason       2389\n",
              "2     3  1980  Christopher       2273"
            ]
          },
          "metadata": {}
        }
      ]
    },
    {
      "cell_type": "code",
      "source": "popular = baby_names[baby_names[\"Frequency\"] >= 2000]\nunpopular = baby_names[baby_names[\"Frequency\"] < 2000]",
      "metadata": {
        "collapsed": false,
        "jupyter": {
          "outputs_hidden": false
        }
      },
      "execution_count": 131,
      "outputs": []
    },
    {
      "cell_type": "code",
      "source": "excel_file = pd.ExcelWriter(\"Baby Name Frequencies.xlsx\")",
      "metadata": {
        "collapsed": false,
        "jupyter": {
          "outputs_hidden": false
        }
      },
      "execution_count": 136,
      "outputs": []
    },
    {
      "cell_type": "code",
      "source": "popular.to_excel(excel_file, sheet_name = \"Popular Names\", index = False)\nunpopular.to_excel(excel_file, sheet_name = \"Unpopular Names\", index = False, columns = [\"Name\", \"Frequency\"])",
      "metadata": {
        "collapsed": true,
        "jupyter": {
          "outputs_hidden": true
        }
      },
      "execution_count": 137,
      "outputs": []
    },
    {
      "cell_type": "code",
      "source": "excel_file.save()",
      "metadata": {
        "collapsed": true,
        "jupyter": {
          "outputs_hidden": true
        }
      },
      "execution_count": 138,
      "outputs": []
    },
    {
      "cell_type": "markdown",
      "source": "## Export Excel File",
      "metadata": {}
    },
    {
      "cell_type": "code",
      "source": "URL = \"https://data.cityofnewyork.us/api/views/25th-nujf/rows.csv\"\nbaby_names = pd.read_csv(URL)\nbaby_names.head(3)",
      "metadata": {
        "collapsed": false,
        "jupyter": {
          "outputs_hidden": false
        }
      },
      "execution_count": 5,
      "outputs": [
        {
          "execution_count": 5,
          "output_type": "execute_result",
          "data": {
            "text/html": [
              "<div>\n",
              "<table border=\"1\" class=\"dataframe\">\n",
              "  <thead>\n",
              "    <tr style=\"text-align: right;\">\n",
              "      <th></th>\n",
              "      <th>BRTH_YR</th>\n",
              "      <th>GNDR</th>\n",
              "      <th>ETHCTY</th>\n",
              "      <th>NM</th>\n",
              "      <th>CNT</th>\n",
              "      <th>RNK</th>\n",
              "    </tr>\n",
              "  </thead>\n",
              "  <tbody>\n",
              "    <tr>\n",
              "      <th>0</th>\n",
              "      <td>2011</td>\n",
              "      <td>FEMALE</td>\n",
              "      <td>HISPANIC</td>\n",
              "      <td>GERALDINE</td>\n",
              "      <td>13</td>\n",
              "      <td>75</td>\n",
              "    </tr>\n",
              "    <tr>\n",
              "      <th>1</th>\n",
              "      <td>2011</td>\n",
              "      <td>FEMALE</td>\n",
              "      <td>HISPANIC</td>\n",
              "      <td>GIA</td>\n",
              "      <td>21</td>\n",
              "      <td>67</td>\n",
              "    </tr>\n",
              "    <tr>\n",
              "      <th>2</th>\n",
              "      <td>2011</td>\n",
              "      <td>FEMALE</td>\n",
              "      <td>HISPANIC</td>\n",
              "      <td>GIANNA</td>\n",
              "      <td>49</td>\n",
              "      <td>42</td>\n",
              "    </tr>\n",
              "  </tbody>\n",
              "</table>\n",
              "</div>"
            ],
            "text/plain": [
              "   BRTH_YR    GNDR    ETHCTY         NM  CNT  RNK\n",
              "0     2011  FEMALE  HISPANIC  GERALDINE   13   75\n",
              "1     2011  FEMALE  HISPANIC        GIA   21   67\n",
              "2     2011  FEMALE  HISPANIC     GIANNA   49   42"
            ]
          },
          "metadata": {}
        }
      ]
    },
    {
      "cell_type": "code",
      "source": "girls = baby_names[baby_names[\"GNDR\"] == \"FEMALE\"]\nboys = baby_names[baby_names[\"GNDR\"] == \"MALE\"]",
      "metadata": {
        "collapsed": false,
        "jupyter": {
          "outputs_hidden": false
        }
      },
      "execution_count": 9,
      "outputs": []
    },
    {
      "cell_type": "code",
      "source": "excel_file = pd.ExcelWriter(\"Baby Names.xlsx\")",
      "metadata": {
        "collapsed": false,
        "jupyter": {
          "outputs_hidden": false
        }
      },
      "execution_count": 11,
      "outputs": []
    },
    {
      "cell_type": "code",
      "source": "girls.to_excel(excel_file, sheet_name = \"Girls\", index = False)\nboys.to_excel(excel_file, sheet_name = \"Boys\", index = False, columns = [\"GNDR\", \"NM\", \"CNT\"])",
      "metadata": {
        "collapsed": true,
        "jupyter": {
          "outputs_hidden": true
        }
      },
      "execution_count": 12,
      "outputs": []
    },
    {
      "cell_type": "code",
      "source": "excel_file.save()",
      "metadata": {
        "collapsed": true,
        "jupyter": {
          "outputs_hidden": true
        }
      },
      "execution_count": 13,
      "outputs": []
    },
    {
      "cell_type": "code",
      "source": "",
      "metadata": {
        "collapsed": true,
        "jupyter": {
          "outputs_hidden": true
        }
      },
      "execution_count": null,
      "outputs": []
    },
    {
      "cell_type": "code",
      "source": "",
      "metadata": {
        "collapsed": true,
        "jupyter": {
          "outputs_hidden": true
        }
      },
      "execution_count": null,
      "outputs": []
    },
    {
      "cell_type": "code",
      "source": "",
      "metadata": {
        "collapsed": true,
        "jupyter": {
          "outputs_hidden": true
        }
      },
      "execution_count": null,
      "outputs": []
    },
    {
      "cell_type": "code",
      "source": "",
      "metadata": {
        "collapsed": true,
        "jupyter": {
          "outputs_hidden": true
        }
      },
      "execution_count": null,
      "outputs": []
    },
    {
      "cell_type": "code",
      "source": "",
      "metadata": {
        "collapsed": true,
        "jupyter": {
          "outputs_hidden": true
        }
      },
      "execution_count": null,
      "outputs": []
    },
    {
      "cell_type": "code",
      "source": "",
      "metadata": {
        "collapsed": true,
        "jupyter": {
          "outputs_hidden": true
        }
      },
      "execution_count": null,
      "outputs": []
    },
    {
      "cell_type": "code",
      "source": "",
      "metadata": {
        "collapsed": true,
        "jupyter": {
          "outputs_hidden": true
        }
      },
      "execution_count": null,
      "outputs": []
    },
    {
      "cell_type": "code",
      "source": "",
      "metadata": {
        "collapsed": true,
        "jupyter": {
          "outputs_hidden": true
        }
      },
      "execution_count": null,
      "outputs": []
    },
    {
      "cell_type": "code",
      "source": "",
      "metadata": {
        "collapsed": true,
        "jupyter": {
          "outputs_hidden": true
        }
      },
      "execution_count": null,
      "outputs": []
    }
  ]
}