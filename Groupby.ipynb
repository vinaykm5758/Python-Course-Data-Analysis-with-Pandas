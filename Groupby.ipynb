{
  "metadata": {
    "anaconda-cloud": {},
    "kernelspec": {
      "name": "python",
      "display_name": "Python (Pyodide)",
      "language": "python"
    },
    "language_info": {
      "codemirror_mode": {
        "name": "python",
        "version": 3
      },
      "file_extension": ".py",
      "mimetype": "text/x-python",
      "name": "python",
      "nbconvert_exporter": "python",
      "pygments_lexer": "ipython3",
      "version": "3.8"
    }
  },
  "nbformat_minor": 4,
  "nbformat": 4,
  "cells": [
    {
      "cell_type": "code",
      "source": "import pandas as pd",
      "metadata": {
        "tags": [],
        "trusted": true
      },
      "execution_count": 1,
      "outputs": []
    },
    {
      "cell_type": "code",
      "source": "fortune = pd.read_csv(\"fortune1000.csv\", index_col = \"Rank\")\nsectors = fortune.groupby(\"Sector\")\nfortune.head()",
      "metadata": {
        "collapsed": false,
        "jupyter": {
          "outputs_hidden": false
        },
        "trusted": true
      },
      "execution_count": 36,
      "outputs": [
        {
          "execution_count": 36,
          "output_type": "execute_result",
          "data": {
            "text/plain": "                 Company       Sector  \\\nRank                                    \n1                Walmart    Retailing   \n2            Exxon Mobil       Energy   \n3                  Apple   Technology   \n4     Berkshire Hathaway   Financials   \n5               McKesson  Health Care   \n\n                                      Industry           Location  Revenue  \\\nRank                                                                         \n1                        General Merchandisers    Bentonville, AR   482130   \n2                           Petroleum Refining         Irving, TX   246204   \n3                  Computers, Office Equipment      Cupertino, CA   233715   \n4     Insurance: Property and Casualty (Stock)          Omaha, NE   210821   \n5                     Wholesalers: Health Care  San Francisco, CA   181241   \n\n      Profits  Employees  \nRank                      \n1       14694    2300000  \n2       16150      75600  \n3       53394     110000  \n4       24083     331000  \n5        1476      70400  ",
            "text/html": "<div>\n<style scoped>\n    .dataframe tbody tr th:only-of-type {\n        vertical-align: middle;\n    }\n\n    .dataframe tbody tr th {\n        vertical-align: top;\n    }\n\n    .dataframe thead th {\n        text-align: right;\n    }\n</style>\n<table border=\"1\" class=\"dataframe\">\n  <thead>\n    <tr style=\"text-align: right;\">\n      <th></th>\n      <th>Company</th>\n      <th>Sector</th>\n      <th>Industry</th>\n      <th>Location</th>\n      <th>Revenue</th>\n      <th>Profits</th>\n      <th>Employees</th>\n    </tr>\n    <tr>\n      <th>Rank</th>\n      <th></th>\n      <th></th>\n      <th></th>\n      <th></th>\n      <th></th>\n      <th></th>\n      <th></th>\n    </tr>\n  </thead>\n  <tbody>\n    <tr>\n      <th>1</th>\n      <td>Walmart</td>\n      <td>Retailing</td>\n      <td>General Merchandisers</td>\n      <td>Bentonville, AR</td>\n      <td>482130</td>\n      <td>14694</td>\n      <td>2300000</td>\n    </tr>\n    <tr>\n      <th>2</th>\n      <td>Exxon Mobil</td>\n      <td>Energy</td>\n      <td>Petroleum Refining</td>\n      <td>Irving, TX</td>\n      <td>246204</td>\n      <td>16150</td>\n      <td>75600</td>\n    </tr>\n    <tr>\n      <th>3</th>\n      <td>Apple</td>\n      <td>Technology</td>\n      <td>Computers, Office Equipment</td>\n      <td>Cupertino, CA</td>\n      <td>233715</td>\n      <td>53394</td>\n      <td>110000</td>\n    </tr>\n    <tr>\n      <th>4</th>\n      <td>Berkshire Hathaway</td>\n      <td>Financials</td>\n      <td>Insurance: Property and Casualty (Stock)</td>\n      <td>Omaha, NE</td>\n      <td>210821</td>\n      <td>24083</td>\n      <td>331000</td>\n    </tr>\n    <tr>\n      <th>5</th>\n      <td>McKesson</td>\n      <td>Health Care</td>\n      <td>Wholesalers: Health Care</td>\n      <td>San Francisco, CA</td>\n      <td>181241</td>\n      <td>1476</td>\n      <td>70400</td>\n    </tr>\n  </tbody>\n</table>\n</div>"
          },
          "metadata": {}
        }
      ]
    },
    {
      "cell_type": "code",
      "source": "type(sectors)",
      "metadata": {
        "collapsed": false,
        "jupyter": {
          "outputs_hidden": false
        },
        "trusted": true
      },
      "execution_count": 37,
      "outputs": [
        {
          "execution_count": 37,
          "output_type": "execute_result",
          "data": {
            "text/plain": "pandas.core.groupby.generic.DataFrameGroupBy"
          },
          "metadata": {}
        }
      ]
    },
    {
      "cell_type": "markdown",
      "source": "## The `.groupby()` Method",
      "metadata": {}
    },
    {
      "cell_type": "code",
      "source": "sectors.groups",
      "metadata": {
        "trusted": true
      },
      "execution_count": 41,
      "outputs": [
        {
          "execution_count": 41,
          "output_type": "execute_result",
          "data": {
            "text/plain": "{'Aerospace & Defense': [24, 45, 60, 88, 118, 120, 209, 245, 282, 378, 389, 490, 560, 605, 785, 788, 836, 903, 958, 987], 'Apparel': [91, 231, 340, 354, 448, 547, 575, 597, 683, 695, 726, 794, 877, 882, 917], 'Business Services': [144, 186, 199, 204, 221, 248, 249, 294, 307, 312, 355, 392, 404, 440, 467, 468, 481, 485, 492, 503, 545, 626, 635, 652, 677, 694, 714, 729, 734, 735, 737, 744, 767, 776, 777, 783, 791, 792, 796, 801, 803, 816, 819, 820, 869, 870, 886, 939, 951, 952, 993], 'Chemicals': [56, 101, 182, 189, 206, 253, 262, 277, 288, 296, 316, 538, 549, 555, 566, 580, 613, 624, 654, 668, 717, 720, 724, 758, 761, 829, 865, 898, 934, 949], 'Energy': [2, 14, 30, 32, 42, 65, 90, 95, 98, 104, 115, 117, 121, 162, 163, 165, 166, 175, 178, 188, 190, 192, 193, 198, 214, 216, 217, 223, 225, 229, 243, 246, 247, 257, 272, 274, 279, 289, 319, 322, 324, 343, 348, 349, 350, 363, 364, 384, 387, 388, 394, 402, 403, 410, 425, 437, 438, 445, 458, 475, 483, 493, 507, 522, 541, 548, 556, 558, 569, 571, 579, 598, 600, 606, 633, 650, 656, 662, 679, 692, 696, 703, 703, 706, 711, 715, 732, 742, 743, 745, 754, 772, 784, 798, 802, 810, 817, 826, 843, 850, ...], 'Engineering & Construction': [155, 156, 235, 260, 301, 314, 352, 381, 433, 478, 498, 501, 516, 572, 576, 640, 719, 738, 822, 863, 874, 892, 929, 963, 985, 994], 'Financials': [4, 16, 23, 26, 27, 29, 35, 40, 43, 49, 50, 61, 69, 73, 74, 76, 78, 81, 82, 83, 85, 100, 105, 112, 114, 131, 135, 137, 152, 171, 179, 184, 205, 210, 222, 226, 227, 232, 236, 250, 252, 259, 264, 265, 271, 273, 275, 283, 298, 306, 311, 318, 326, 329, 332, 344, 347, 367, 368, 376, 382, 398, 401, 411, 421, 436, 442, 449, 453, 453, 471, 472, 472, 476, 479, 482, 486, 488, 494, 497, 499, 506, 509, 510, 520, 529, 531, 536, 540, 551, 561, 568, 573, 590, 603, 609, 611, 646, 651, 663, ...], 'Food and Drug Stores': [7, 17, 19, 87, 107, 160, 181, 595, 614, 631, 669, 756, 809, 849, 928], 'Food, Beverages & Tobacco': [41, 44, 62, 66, 84, 94, 106, 149, 153, 161, 176, 207, 215, 242, 266, 304, 336, 337, 362, 397, 413, 429, 452, 456, 460, 535, 542, 567, 574, 587, 608, 615, 636, 664, 686, 702, 770, 787, 795, 804, 889, 902, 954], 'Health Care': [5, 6, 12, 21, 22, 33, 39, 46, 52, 55, 63, 72, 79, 86, 123, 124, 125, 130, 138, 140, 141, 168, 172, 200, 201, 202, 263, 268, 278, 286, 287, 290, 291, 305, 325, 358, 359, 372, 420, 430, 431, 447, 457, 465, 469, 515, 527, 537, 553, 559, 583, 618, 629, 661, 684, 693, 697, 708, 746, 749, 766, 775, 790, 799, 815, 818, 845, 868, 881, 883, 935, 960, 965, 977, 978], 'Hotels, Resturants & Leisure': [109, 146, 195, 218, 241, 254, 309, 371, 444, 466, 534, 546, 557, 562, 585, 731, 763, 764, 779, 797, 895, 915, 918, 941, 999], 'Household Products': [34, 151, 174, 256, 261, 328, 338, 345, 370, 434, 441, 450, 455, 533, 550, 554, 601, 665, 699, 716, 856, 890, 900, 907, 932, 950, 967, 992], 'Industrials': [11, 59, 75, 93, 97, 128, 134, 148, 211, 224, 360, 377, 396, 412, 419, 539, 544, 596, 622, 623, 630, 645, 655, 658, 666, 674, 690, 757, 782, 789, 806, 813, 823, 831, 832, 835, 841, 847, 866, 867, 873, 887, 942, 947, 964, 1000], 'Materials': [126, 127, 170, 244, 251, 303, 321, 341, 356, 373, 375, 383, 417, 418, 426, 435, 446, 480, 489, 514, 518, 577, 586, 616, 617, 620, 625, 628, 637, 639, 641, 660, 667, 687, 691, 751, 774, 793, 857, 885, 911, 982, 986], 'Media': [53, 96, 99, 203, 213, 255, 327, 366, 406, 414, 525, 530, 681, 705, 707, 722, 741, 752, 759, 762, 821, 913, 968, 969, 989], 'Motor Vehicles & Parts': [8, 9, 70, 147, 154, 169, 281, 310, 334, 339, 424, 428, 470, 588, 591, 604, 647, 670, 718, 739, 811, 957, 961, 979], 'Retailing': [1, 15, 28, 38, 47, 71, 89, 103, 111, 132, 136, 139, 143, 145, 177, 180, 191, 196, 197, 228, 234, 237, 238, 240, 258, 267, 269, 280, 293, 297, 299, 302, 330, 342, 346, 361, 365, 374, 379, 380, 393, 415, 427, 439, 495, 500, 502, 511, 512, 517, 523, 582, 592, 602, 607, 610, 621, 643, 644, 648, 657, 675, 689, 721, 748, 771, 773, 807, 812, 824, 825, 827, 840, 876, 894, 899, 922, 937, 940, 973], 'Technology': [3, 18, 20, 25, 31, 36, 51, 54, 77, 110, 113, 133, 150, 157, 158, 164, 173, 194, 219, 220, 230, 233, 284, 295, 300, 308, 313, 331, 385, 386, 400, 408, 409, 422, 451, 462, 464, 487, 491, 504, 505, 508, 513, 519, 524, 532, 543, 552, 563, 565, 584, 589, 593, 594, 612, 632, 634, 638, 649, 659, 673, 676, 678, 682, 688, 700, 725, 733, 736, 753, 760, 769, 778, 805, 830, 834, 842, 854, 864, 871, 888, 891, 893, 896, 904, 905, 906, 909, 912, 914, 919, 927, 931, 943, 944, 946, 956, 970, 971, 975, ...], 'Telecommunications': [10, 13, 37, 116, 159, 187, 292, 333, 399, 443, 461, 496, 526, 619, 786], 'Transportation': [48, 58, 67, 68, 80, 129, 142, 208, 239, 270, 353, 390, 395, 405, 407, 416, 432, 459, 521, 528, 570, 578, 642, 672, 709, 713, 740, 800, 814, 858, 884, 930, 933, 945, 972, 974], 'Wholesalers': [57, 64, 92, 102, 108, 119, 122, 167, 183, 185, 212, 276, 285, 315, 317, 320, 323, 335, 351, 357, 369, 391, 423, 463, 474, 477, 484, 564, 581, 599, 627, 653, 685, 727, 747, 780, 808, 837, 875, 991]}"
          },
          "metadata": {}
        }
      ]
    },
    {
      "cell_type": "code",
      "source": "",
      "metadata": {},
      "execution_count": null,
      "outputs": []
    },
    {
      "cell_type": "code",
      "source": "",
      "metadata": {},
      "execution_count": null,
      "outputs": []
    },
    {
      "cell_type": "code",
      "source": "",
      "metadata": {},
      "execution_count": null,
      "outputs": []
    },
    {
      "cell_type": "code",
      "source": "",
      "metadata": {},
      "execution_count": null,
      "outputs": []
    },
    {
      "cell_type": "code",
      "source": "",
      "metadata": {},
      "execution_count": null,
      "outputs": []
    },
    {
      "cell_type": "code",
      "source": "",
      "metadata": {},
      "execution_count": null,
      "outputs": []
    },
    {
      "cell_type": "code",
      "source": "",
      "metadata": {},
      "execution_count": null,
      "outputs": []
    },
    {
      "cell_type": "code",
      "source": "",
      "metadata": {},
      "execution_count": null,
      "outputs": []
    },
    {
      "cell_type": "code",
      "source": "",
      "metadata": {},
      "execution_count": null,
      "outputs": []
    },
    {
      "cell_type": "code",
      "source": "",
      "metadata": {},
      "execution_count": null,
      "outputs": []
    },
    {
      "cell_type": "code",
      "source": "",
      "metadata": {},
      "execution_count": null,
      "outputs": []
    },
    {
      "cell_type": "code",
      "source": "",
      "metadata": {},
      "execution_count": null,
      "outputs": []
    },
    {
      "cell_type": "code",
      "source": "fortune = pd.read_csv(\"fortune1000.csv\", index_col = \"Rank\")\nsectors = fortune.groupby(\"Sector\")\nfortune.head(3)",
      "metadata": {
        "collapsed": false,
        "jupyter": {
          "outputs_hidden": false
        },
        "trusted": true
      },
      "execution_count": 38,
      "outputs": [
        {
          "execution_count": 38,
          "output_type": "execute_result",
          "data": {
            "text/plain": "          Company      Sector                     Industry         Location  \\\nRank                                                                          \n1         Walmart   Retailing        General Merchandisers  Bentonville, AR   \n2     Exxon Mobil      Energy           Petroleum Refining       Irving, TX   \n3           Apple  Technology  Computers, Office Equipment    Cupertino, CA   \n\n      Revenue  Profits  Employees  \nRank                               \n1      482130    14694    2300000  \n2      246204    16150      75600  \n3      233715    53394     110000  ",
            "text/html": "<div>\n<style scoped>\n    .dataframe tbody tr th:only-of-type {\n        vertical-align: middle;\n    }\n\n    .dataframe tbody tr th {\n        vertical-align: top;\n    }\n\n    .dataframe thead th {\n        text-align: right;\n    }\n</style>\n<table border=\"1\" class=\"dataframe\">\n  <thead>\n    <tr style=\"text-align: right;\">\n      <th></th>\n      <th>Company</th>\n      <th>Sector</th>\n      <th>Industry</th>\n      <th>Location</th>\n      <th>Revenue</th>\n      <th>Profits</th>\n      <th>Employees</th>\n    </tr>\n    <tr>\n      <th>Rank</th>\n      <th></th>\n      <th></th>\n      <th></th>\n      <th></th>\n      <th></th>\n      <th></th>\n      <th></th>\n    </tr>\n  </thead>\n  <tbody>\n    <tr>\n      <th>1</th>\n      <td>Walmart</td>\n      <td>Retailing</td>\n      <td>General Merchandisers</td>\n      <td>Bentonville, AR</td>\n      <td>482130</td>\n      <td>14694</td>\n      <td>2300000</td>\n    </tr>\n    <tr>\n      <th>2</th>\n      <td>Exxon Mobil</td>\n      <td>Energy</td>\n      <td>Petroleum Refining</td>\n      <td>Irving, TX</td>\n      <td>246204</td>\n      <td>16150</td>\n      <td>75600</td>\n    </tr>\n    <tr>\n      <th>3</th>\n      <td>Apple</td>\n      <td>Technology</td>\n      <td>Computers, Office Equipment</td>\n      <td>Cupertino, CA</td>\n      <td>233715</td>\n      <td>53394</td>\n      <td>110000</td>\n    </tr>\n  </tbody>\n</table>\n</div>"
          },
          "metadata": {}
        }
      ]
    },
    {
      "cell_type": "markdown",
      "source": "## Retrieve A Group with the `.get_group()` Method",
      "metadata": {
        "tags": []
      }
    },
    {
      "cell_type": "code",
      "source": "fortune = pd.read_csv(\"fortune1000.csv\", index_col = \"Rank\")\nsectors = fortune.groupby(\"Sector\")\nfortune.head(3)",
      "metadata": {
        "collapsed": false,
        "jupyter": {
          "outputs_hidden": false
        },
        "trusted": true
      },
      "execution_count": 42,
      "outputs": [
        {
          "execution_count": 42,
          "output_type": "execute_result",
          "data": {
            "text/plain": "          Company      Sector                     Industry         Location  \\\nRank                                                                          \n1         Walmart   Retailing        General Merchandisers  Bentonville, AR   \n2     Exxon Mobil      Energy           Petroleum Refining       Irving, TX   \n3           Apple  Technology  Computers, Office Equipment    Cupertino, CA   \n\n      Revenue  Profits  Employees  \nRank                               \n1      482130    14694    2300000  \n2      246204    16150      75600  \n3      233715    53394     110000  ",
            "text/html": "<div>\n<style scoped>\n    .dataframe tbody tr th:only-of-type {\n        vertical-align: middle;\n    }\n\n    .dataframe tbody tr th {\n        vertical-align: top;\n    }\n\n    .dataframe thead th {\n        text-align: right;\n    }\n</style>\n<table border=\"1\" class=\"dataframe\">\n  <thead>\n    <tr style=\"text-align: right;\">\n      <th></th>\n      <th>Company</th>\n      <th>Sector</th>\n      <th>Industry</th>\n      <th>Location</th>\n      <th>Revenue</th>\n      <th>Profits</th>\n      <th>Employees</th>\n    </tr>\n    <tr>\n      <th>Rank</th>\n      <th></th>\n      <th></th>\n      <th></th>\n      <th></th>\n      <th></th>\n      <th></th>\n      <th></th>\n    </tr>\n  </thead>\n  <tbody>\n    <tr>\n      <th>1</th>\n      <td>Walmart</td>\n      <td>Retailing</td>\n      <td>General Merchandisers</td>\n      <td>Bentonville, AR</td>\n      <td>482130</td>\n      <td>14694</td>\n      <td>2300000</td>\n    </tr>\n    <tr>\n      <th>2</th>\n      <td>Exxon Mobil</td>\n      <td>Energy</td>\n      <td>Petroleum Refining</td>\n      <td>Irving, TX</td>\n      <td>246204</td>\n      <td>16150</td>\n      <td>75600</td>\n    </tr>\n    <tr>\n      <th>3</th>\n      <td>Apple</td>\n      <td>Technology</td>\n      <td>Computers, Office Equipment</td>\n      <td>Cupertino, CA</td>\n      <td>233715</td>\n      <td>53394</td>\n      <td>110000</td>\n    </tr>\n  </tbody>\n</table>\n</div>"
          },
          "metadata": {}
        }
      ]
    },
    {
      "cell_type": "code",
      "source": "",
      "metadata": {},
      "execution_count": null,
      "outputs": []
    },
    {
      "cell_type": "code",
      "source": "",
      "metadata": {},
      "execution_count": null,
      "outputs": []
    },
    {
      "cell_type": "code",
      "source": "",
      "metadata": {},
      "execution_count": null,
      "outputs": []
    },
    {
      "cell_type": "code",
      "source": "",
      "metadata": {},
      "execution_count": null,
      "outputs": []
    },
    {
      "cell_type": "code",
      "source": "",
      "metadata": {},
      "execution_count": null,
      "outputs": []
    },
    {
      "cell_type": "code",
      "source": "",
      "metadata": {},
      "execution_count": null,
      "outputs": []
    },
    {
      "cell_type": "markdown",
      "source": "## Methods on the Groupby Object and `DataFrame` Columns",
      "metadata": {}
    },
    {
      "cell_type": "code",
      "source": "fortune = pd.read_csv(\"fortune1000.csv\", index_col = \"Rank\")\nsectors = fortune.groupby(\"Sector\")\nfortune.head(3)",
      "metadata": {
        "collapsed": false,
        "jupyter": {
          "outputs_hidden": false
        },
        "trusted": true
      },
      "execution_count": 35,
      "outputs": [
        {
          "execution_count": 35,
          "output_type": "execute_result",
          "data": {
            "text/plain": "          Company      Sector                     Industry         Location  \\\nRank                                                                          \n1         Walmart   Retailing        General Merchandisers  Bentonville, AR   \n2     Exxon Mobil      Energy           Petroleum Refining       Irving, TX   \n3           Apple  Technology  Computers, Office Equipment    Cupertino, CA   \n\n      Revenue  Profits  Employees  \nRank                               \n1      482130    14694    2300000  \n2      246204    16150      75600  \n3      233715    53394     110000  ",
            "text/html": "<div>\n<style scoped>\n    .dataframe tbody tr th:only-of-type {\n        vertical-align: middle;\n    }\n\n    .dataframe tbody tr th {\n        vertical-align: top;\n    }\n\n    .dataframe thead th {\n        text-align: right;\n    }\n</style>\n<table border=\"1\" class=\"dataframe\">\n  <thead>\n    <tr style=\"text-align: right;\">\n      <th></th>\n      <th>Company</th>\n      <th>Sector</th>\n      <th>Industry</th>\n      <th>Location</th>\n      <th>Revenue</th>\n      <th>Profits</th>\n      <th>Employees</th>\n    </tr>\n    <tr>\n      <th>Rank</th>\n      <th></th>\n      <th></th>\n      <th></th>\n      <th></th>\n      <th></th>\n      <th></th>\n      <th></th>\n    </tr>\n  </thead>\n  <tbody>\n    <tr>\n      <th>1</th>\n      <td>Walmart</td>\n      <td>Retailing</td>\n      <td>General Merchandisers</td>\n      <td>Bentonville, AR</td>\n      <td>482130</td>\n      <td>14694</td>\n      <td>2300000</td>\n    </tr>\n    <tr>\n      <th>2</th>\n      <td>Exxon Mobil</td>\n      <td>Energy</td>\n      <td>Petroleum Refining</td>\n      <td>Irving, TX</td>\n      <td>246204</td>\n      <td>16150</td>\n      <td>75600</td>\n    </tr>\n    <tr>\n      <th>3</th>\n      <td>Apple</td>\n      <td>Technology</td>\n      <td>Computers, Office Equipment</td>\n      <td>Cupertino, CA</td>\n      <td>233715</td>\n      <td>53394</td>\n      <td>110000</td>\n    </tr>\n  </tbody>\n</table>\n</div>"
          },
          "metadata": {}
        }
      ]
    },
    {
      "cell_type": "code",
      "source": "sectors.get_group(\"Apparel\")[\"Profits\"].sum()",
      "metadata": {
        "collapsed": false,
        "jupyter": {
          "outputs_hidden": false
        },
        "trusted": true
      },
      "execution_count": 44,
      "outputs": [
        {
          "execution_count": 44,
          "output_type": "execute_result",
          "data": {
            "text/plain": "8236"
          },
          "metadata": {}
        }
      ]
    },
    {
      "cell_type": "code",
      "source": "sectors.max()\nsectors.min()\nsectors.sum()\nsectors.mean()",
      "metadata": {
        "tags": [],
        "trusted": true
      },
      "execution_count": 45,
      "outputs": [
        {
          "name": "stderr",
          "text": "<ipython-input-45-cef7135fdcf1>:3: FutureWarning: The default value of numeric_only in DataFrameGroupBy.sum is deprecated. In a future version, numeric_only will default to False. Either specify numeric_only or select only columns which should be valid for the function.\n  sectors.sum()\n<ipython-input-45-cef7135fdcf1>:4: FutureWarning: The default value of numeric_only in DataFrameGroupBy.mean is deprecated. In a future version, numeric_only will default to False. Either specify numeric_only or select only columns which should be valid for the function.\n  sectors.mean()\n",
          "output_type": "stream"
        },
        {
          "execution_count": 45,
          "output_type": "execute_result",
          "data": {
            "text/plain": "                                   Revenue      Profits     Employees\nSector                                                               \nAerospace & Defense           17897.000000  1437.100000  48402.850000\nApparel                        6397.866667   549.066667  23093.133333\nBusiness Services              5337.156863   553.470588  26687.254902\nChemicals                      8129.900000   754.266667  15455.033333\nEnergy                        12441.057377  -602.024590   9745.303279\nEngineering & Construction     5922.423077   204.000000  15642.615385\nFinancials                    15950.784173  1872.007194  24172.287770\nFood and Drug Stores          32251.266667  1117.266667  93026.533333\nFood, Beverages & Tobacco     12929.465116  1195.744186  28177.488372\nHealth Care                   21529.426667  1414.853333  35710.520000\nHotels, Resturants & Leisure   6781.840000   827.880000  99369.800000\nHousehold Products             8383.464286   515.285714  23072.785714\nIndustrials                   10816.978261   451.391304  33591.934783\nMaterials                      6026.627907   102.976744  14840.069767\nMedia                          8830.560000   973.880000  22012.560000\nMotor Vehicles & Parts        20105.833333  1079.083333  45106.666667\nRetailing                     18313.450000   597.875000  77845.362500\nTechnology                    13505.882353  1769.343137  35087.735294\nTelecommunications            30788.933333  3242.466667  55497.866667\nTransportation                11347.444444  1226.916667  42688.694444\nWholesalers                   11120.000000   205.825000  13139.925000",
            "text/html": "<div>\n<style scoped>\n    .dataframe tbody tr th:only-of-type {\n        vertical-align: middle;\n    }\n\n    .dataframe tbody tr th {\n        vertical-align: top;\n    }\n\n    .dataframe thead th {\n        text-align: right;\n    }\n</style>\n<table border=\"1\" class=\"dataframe\">\n  <thead>\n    <tr style=\"text-align: right;\">\n      <th></th>\n      <th>Revenue</th>\n      <th>Profits</th>\n      <th>Employees</th>\n    </tr>\n    <tr>\n      <th>Sector</th>\n      <th></th>\n      <th></th>\n      <th></th>\n    </tr>\n  </thead>\n  <tbody>\n    <tr>\n      <th>Aerospace &amp; Defense</th>\n      <td>17897.000000</td>\n      <td>1437.100000</td>\n      <td>48402.850000</td>\n    </tr>\n    <tr>\n      <th>Apparel</th>\n      <td>6397.866667</td>\n      <td>549.066667</td>\n      <td>23093.133333</td>\n    </tr>\n    <tr>\n      <th>Business Services</th>\n      <td>5337.156863</td>\n      <td>553.470588</td>\n      <td>26687.254902</td>\n    </tr>\n    <tr>\n      <th>Chemicals</th>\n      <td>8129.900000</td>\n      <td>754.266667</td>\n      <td>15455.033333</td>\n    </tr>\n    <tr>\n      <th>Energy</th>\n      <td>12441.057377</td>\n      <td>-602.024590</td>\n      <td>9745.303279</td>\n    </tr>\n    <tr>\n      <th>Engineering &amp; Construction</th>\n      <td>5922.423077</td>\n      <td>204.000000</td>\n      <td>15642.615385</td>\n    </tr>\n    <tr>\n      <th>Financials</th>\n      <td>15950.784173</td>\n      <td>1872.007194</td>\n      <td>24172.287770</td>\n    </tr>\n    <tr>\n      <th>Food and Drug Stores</th>\n      <td>32251.266667</td>\n      <td>1117.266667</td>\n      <td>93026.533333</td>\n    </tr>\n    <tr>\n      <th>Food, Beverages &amp; Tobacco</th>\n      <td>12929.465116</td>\n      <td>1195.744186</td>\n      <td>28177.488372</td>\n    </tr>\n    <tr>\n      <th>Health Care</th>\n      <td>21529.426667</td>\n      <td>1414.853333</td>\n      <td>35710.520000</td>\n    </tr>\n    <tr>\n      <th>Hotels, Resturants &amp; Leisure</th>\n      <td>6781.840000</td>\n      <td>827.880000</td>\n      <td>99369.800000</td>\n    </tr>\n    <tr>\n      <th>Household Products</th>\n      <td>8383.464286</td>\n      <td>515.285714</td>\n      <td>23072.785714</td>\n    </tr>\n    <tr>\n      <th>Industrials</th>\n      <td>10816.978261</td>\n      <td>451.391304</td>\n      <td>33591.934783</td>\n    </tr>\n    <tr>\n      <th>Materials</th>\n      <td>6026.627907</td>\n      <td>102.976744</td>\n      <td>14840.069767</td>\n    </tr>\n    <tr>\n      <th>Media</th>\n      <td>8830.560000</td>\n      <td>973.880000</td>\n      <td>22012.560000</td>\n    </tr>\n    <tr>\n      <th>Motor Vehicles &amp; Parts</th>\n      <td>20105.833333</td>\n      <td>1079.083333</td>\n      <td>45106.666667</td>\n    </tr>\n    <tr>\n      <th>Retailing</th>\n      <td>18313.450000</td>\n      <td>597.875000</td>\n      <td>77845.362500</td>\n    </tr>\n    <tr>\n      <th>Technology</th>\n      <td>13505.882353</td>\n      <td>1769.343137</td>\n      <td>35087.735294</td>\n    </tr>\n    <tr>\n      <th>Telecommunications</th>\n      <td>30788.933333</td>\n      <td>3242.466667</td>\n      <td>55497.866667</td>\n    </tr>\n    <tr>\n      <th>Transportation</th>\n      <td>11347.444444</td>\n      <td>1226.916667</td>\n      <td>42688.694444</td>\n    </tr>\n    <tr>\n      <th>Wholesalers</th>\n      <td>11120.000000</td>\n      <td>205.825000</td>\n      <td>13139.925000</td>\n    </tr>\n  </tbody>\n</table>\n</div>"
          },
          "metadata": {}
        }
      ]
    },
    {
      "cell_type": "code",
      "source": "sectors[\"Revenue\"].sum()\nsectors[\"Employees\"].sum()\nsectors[\"Profits\"].max()\nsectors[\"Profits\"].min()\nsectors[\"Employees\"].mean()\n\nsectors[[\"Revenue\", \"Profits\"]].sum()",
      "metadata": {
        "collapsed": true,
        "jupyter": {
          "outputs_hidden": true
        }
      },
      "execution_count": 67,
      "outputs": [
        {
          "execution_count": 67,
          "output_type": "execute_result",
          "data": {
            "text/html": [
              "<div>\n",
              "<table border=\"1\" class=\"dataframe\">\n",
              "  <thead>\n",
              "    <tr style=\"text-align: right;\">\n",
              "      <th></th>\n",
              "      <th>Revenue</th>\n",
              "      <th>Profits</th>\n",
              "    </tr>\n",
              "    <tr>\n",
              "      <th>Sector</th>\n",
              "      <th></th>\n",
              "      <th></th>\n",
              "    </tr>\n",
              "  </thead>\n",
              "  <tbody>\n",
              "    <tr>\n",
              "      <th>Aerospace &amp; Defense</th>\n",
              "      <td>357940</td>\n",
              "      <td>28742</td>\n",
              "    </tr>\n",
              "    <tr>\n",
              "      <th>Apparel</th>\n",
              "      <td>95968</td>\n",
              "      <td>8236</td>\n",
              "    </tr>\n",
              "    <tr>\n",
              "      <th>Business Services</th>\n",
              "      <td>272195</td>\n",
              "      <td>28227</td>\n",
              "    </tr>\n",
              "    <tr>\n",
              "      <th>Chemicals</th>\n",
              "      <td>243897</td>\n",
              "      <td>22628</td>\n",
              "    </tr>\n",
              "    <tr>\n",
              "      <th>Energy</th>\n",
              "      <td>1517809</td>\n",
              "      <td>-73447</td>\n",
              "    </tr>\n",
              "    <tr>\n",
              "      <th>Engineering &amp; Construction</th>\n",
              "      <td>153983</td>\n",
              "      <td>5304</td>\n",
              "    </tr>\n",
              "    <tr>\n",
              "      <th>Financials</th>\n",
              "      <td>2217159</td>\n",
              "      <td>260209</td>\n",
              "    </tr>\n",
              "    <tr>\n",
              "      <th>Food and Drug Stores</th>\n",
              "      <td>483769</td>\n",
              "      <td>16759</td>\n",
              "    </tr>\n",
              "    <tr>\n",
              "      <th>Food, Beverages &amp; Tobacco</th>\n",
              "      <td>555967</td>\n",
              "      <td>51417</td>\n",
              "    </tr>\n",
              "    <tr>\n",
              "      <th>Health Care</th>\n",
              "      <td>1614707</td>\n",
              "      <td>106114</td>\n",
              "    </tr>\n",
              "    <tr>\n",
              "      <th>Hotels, Resturants &amp; Leisure</th>\n",
              "      <td>169546</td>\n",
              "      <td>20697</td>\n",
              "    </tr>\n",
              "    <tr>\n",
              "      <th>Household Products</th>\n",
              "      <td>234737</td>\n",
              "      <td>14428</td>\n",
              "    </tr>\n",
              "    <tr>\n",
              "      <th>Industrials</th>\n",
              "      <td>497581</td>\n",
              "      <td>20764</td>\n",
              "    </tr>\n",
              "    <tr>\n",
              "      <th>Materials</th>\n",
              "      <td>259145</td>\n",
              "      <td>4428</td>\n",
              "    </tr>\n",
              "    <tr>\n",
              "      <th>Media</th>\n",
              "      <td>220764</td>\n",
              "      <td>24347</td>\n",
              "    </tr>\n",
              "    <tr>\n",
              "      <th>Motor Vehicles &amp; Parts</th>\n",
              "      <td>482540</td>\n",
              "      <td>25898</td>\n",
              "    </tr>\n",
              "    <tr>\n",
              "      <th>Retailing</th>\n",
              "      <td>1465076</td>\n",
              "      <td>47830</td>\n",
              "    </tr>\n",
              "    <tr>\n",
              "      <th>Technology</th>\n",
              "      <td>1377600</td>\n",
              "      <td>180473</td>\n",
              "    </tr>\n",
              "    <tr>\n",
              "      <th>Telecommunications</th>\n",
              "      <td>461834</td>\n",
              "      <td>48637</td>\n",
              "    </tr>\n",
              "    <tr>\n",
              "      <th>Transportation</th>\n",
              "      <td>408508</td>\n",
              "      <td>44169</td>\n",
              "    </tr>\n",
              "    <tr>\n",
              "      <th>Wholesalers</th>\n",
              "      <td>444800</td>\n",
              "      <td>8233</td>\n",
              "    </tr>\n",
              "  </tbody>\n",
              "</table>\n",
              "</div>"
            ],
            "text/plain": [
              "                              Revenue  Profits\n",
              "Sector                                        \n",
              "Aerospace & Defense            357940    28742\n",
              "Apparel                         95968     8236\n",
              "Business Services              272195    28227\n",
              "Chemicals                      243897    22628\n",
              "Energy                        1517809   -73447\n",
              "Engineering & Construction     153983     5304\n",
              "Financials                    2217159   260209\n",
              "Food and Drug Stores           483769    16759\n",
              "Food, Beverages & Tobacco      555967    51417\n",
              "Health Care                   1614707   106114\n",
              "Hotels, Resturants & Leisure   169546    20697\n",
              "Household Products             234737    14428\n",
              "Industrials                    497581    20764\n",
              "Materials                      259145     4428\n",
              "Media                          220764    24347\n",
              "Motor Vehicles & Parts         482540    25898\n",
              "Retailing                     1465076    47830\n",
              "Technology                    1377600   180473\n",
              "Telecommunications             461834    48637\n",
              "Transportation                 408508    44169\n",
              "Wholesalers                    444800     8233"
            ]
          },
          "metadata": {}
        }
      ]
    },
    {
      "cell_type": "markdown",
      "source": "## Grouping by Multiple Columns",
      "metadata": {}
    },
    {
      "cell_type": "code",
      "source": "fortune = pd.read_csv(\"fortune1000.csv\", index_col = \"Rank\")\nsectors = fortune.groupby([\"Sector\", \"Industry\"])\nfortune.head(3)",
      "metadata": {
        "collapsed": false,
        "jupyter": {
          "outputs_hidden": false
        },
        "trusted": true
      },
      "execution_count": 9,
      "outputs": [
        {
          "execution_count": 9,
          "output_type": "execute_result",
          "data": {
            "text/plain": "          Company      Sector                     Industry         Location  \\\nRank                                                                          \n1         Walmart   Retailing        General Merchandisers  Bentonville, AR   \n2     Exxon Mobil      Energy           Petroleum Refining       Irving, TX   \n3           Apple  Technology  Computers, Office Equipment    Cupertino, CA   \n\n      Revenue  Profits  Employees  \nRank                               \n1      482130    14694    2300000  \n2      246204    16150      75600  \n3      233715    53394     110000  ",
            "text/html": "<div>\n<style scoped>\n    .dataframe tbody tr th:only-of-type {\n        vertical-align: middle;\n    }\n\n    .dataframe tbody tr th {\n        vertical-align: top;\n    }\n\n    .dataframe thead th {\n        text-align: right;\n    }\n</style>\n<table border=\"1\" class=\"dataframe\">\n  <thead>\n    <tr style=\"text-align: right;\">\n      <th></th>\n      <th>Company</th>\n      <th>Sector</th>\n      <th>Industry</th>\n      <th>Location</th>\n      <th>Revenue</th>\n      <th>Profits</th>\n      <th>Employees</th>\n    </tr>\n    <tr>\n      <th>Rank</th>\n      <th></th>\n      <th></th>\n      <th></th>\n      <th></th>\n      <th></th>\n      <th></th>\n      <th></th>\n    </tr>\n  </thead>\n  <tbody>\n    <tr>\n      <th>1</th>\n      <td>Walmart</td>\n      <td>Retailing</td>\n      <td>General Merchandisers</td>\n      <td>Bentonville, AR</td>\n      <td>482130</td>\n      <td>14694</td>\n      <td>2300000</td>\n    </tr>\n    <tr>\n      <th>2</th>\n      <td>Exxon Mobil</td>\n      <td>Energy</td>\n      <td>Petroleum Refining</td>\n      <td>Irving, TX</td>\n      <td>246204</td>\n      <td>16150</td>\n      <td>75600</td>\n    </tr>\n    <tr>\n      <th>3</th>\n      <td>Apple</td>\n      <td>Technology</td>\n      <td>Computers, Office Equipment</td>\n      <td>Cupertino, CA</td>\n      <td>233715</td>\n      <td>53394</td>\n      <td>110000</td>\n    </tr>\n  </tbody>\n</table>\n</div>"
          },
          "metadata": {}
        }
      ]
    },
    {
      "cell_type": "code",
      "source": "sectors.size()\nsectors.sum()\nsectors[\"Revenue\"].sum()\nsectors[\"Employees\"].mean()",
      "metadata": {
        "tags": [],
        "trusted": true
      },
      "execution_count": 10,
      "outputs": [
        {
          "name": "stderr",
          "text": "<ipython-input-10-34e7acf5eaa4>:2: FutureWarning: The default value of numeric_only in DataFrameGroupBy.sum is deprecated. In a future version, numeric_only will default to False. Either specify numeric_only or select only columns which should be valid for the function.\n  sectors.sum()\n",
          "output_type": "stream"
        },
        {
          "execution_count": 10,
          "output_type": "execute_result",
          "data": {
            "text/plain": "Sector               Industry                                     \nAerospace & Defense  Aerospace and Defense                            48402.850000\nApparel              Apparel                                          23093.133333\nBusiness Services    Advertising, marketing                           62050.000000\n                     Diversified Outsourcing Services                 50595.000000\n                     Education                                        15585.000000\n                                                                          ...     \nTransportation       Trucking, Truck Leasing                          18939.555556\nWholesalers          Miscellaneous                                     9200.000000\n                     Wholesalers: Diversified                          9353.240000\n                     Wholesalers: Electronics and Office Equipment    20832.625000\n                     Wholesalers: Food and Grocery                    19317.500000\nName: Employees, Length: 79, dtype: float64"
          },
          "metadata": {}
        }
      ]
    },
    {
      "cell_type": "markdown",
      "source": "## The `.agg()` Method",
      "metadata": {}
    },
    {
      "cell_type": "code",
      "source": "fortune = pd.read_csv(\"fortune1000.csv\", index_col = \"Rank\")\nsectors = fortune.groupby(\"Sector\")\nfortune.head(3)",
      "metadata": {
        "collapsed": false,
        "jupyter": {
          "outputs_hidden": false
        },
        "trusted": true
      },
      "execution_count": 21,
      "outputs": [
        {
          "execution_count": 21,
          "output_type": "execute_result",
          "data": {
            "text/plain": "          Company      Sector                     Industry         Location  \\\nRank                                                                          \n1         Walmart   Retailing        General Merchandisers  Bentonville, AR   \n2     Exxon Mobil      Energy           Petroleum Refining       Irving, TX   \n3           Apple  Technology  Computers, Office Equipment    Cupertino, CA   \n\n      Revenue  Profits  Employees  \nRank                               \n1      482130    14694    2300000  \n2      246204    16150      75600  \n3      233715    53394     110000  ",
            "text/html": "<div>\n<style scoped>\n    .dataframe tbody tr th:only-of-type {\n        vertical-align: middle;\n    }\n\n    .dataframe tbody tr th {\n        vertical-align: top;\n    }\n\n    .dataframe thead th {\n        text-align: right;\n    }\n</style>\n<table border=\"1\" class=\"dataframe\">\n  <thead>\n    <tr style=\"text-align: right;\">\n      <th></th>\n      <th>Company</th>\n      <th>Sector</th>\n      <th>Industry</th>\n      <th>Location</th>\n      <th>Revenue</th>\n      <th>Profits</th>\n      <th>Employees</th>\n    </tr>\n    <tr>\n      <th>Rank</th>\n      <th></th>\n      <th></th>\n      <th></th>\n      <th></th>\n      <th></th>\n      <th></th>\n      <th></th>\n    </tr>\n  </thead>\n  <tbody>\n    <tr>\n      <th>1</th>\n      <td>Walmart</td>\n      <td>Retailing</td>\n      <td>General Merchandisers</td>\n      <td>Bentonville, AR</td>\n      <td>482130</td>\n      <td>14694</td>\n      <td>2300000</td>\n    </tr>\n    <tr>\n      <th>2</th>\n      <td>Exxon Mobil</td>\n      <td>Energy</td>\n      <td>Petroleum Refining</td>\n      <td>Irving, TX</td>\n      <td>246204</td>\n      <td>16150</td>\n      <td>75600</td>\n    </tr>\n    <tr>\n      <th>3</th>\n      <td>Apple</td>\n      <td>Technology</td>\n      <td>Computers, Office Equipment</td>\n      <td>Cupertino, CA</td>\n      <td>233715</td>\n      <td>53394</td>\n      <td>110000</td>\n    </tr>\n  </tbody>\n</table>\n</div>"
          },
          "metadata": {}
        }
      ]
    },
    {
      "cell_type": "code",
      "source": "sectors[\"Employees\"].mean()",
      "metadata": {
        "tags": [],
        "trusted": true
      },
      "execution_count": 12,
      "outputs": [
        {
          "execution_count": 12,
          "output_type": "execute_result",
          "data": {
            "text/plain": "Sector\nAerospace & Defense             48402.850000\nApparel                         23093.133333\nBusiness Services               26687.254902\nChemicals                       15455.033333\nEnergy                           9745.303279\nEngineering & Construction      15642.615385\nFinancials                      24172.287770\nFood and Drug Stores            93026.533333\nFood, Beverages & Tobacco       28177.488372\nHealth Care                     35710.520000\nHotels, Resturants & Leisure    99369.800000\nHousehold Products              23072.785714\nIndustrials                     33591.934783\nMaterials                       14840.069767\nMedia                           22012.560000\nMotor Vehicles & Parts          45106.666667\nRetailing                       77845.362500\nTechnology                      35087.735294\nTelecommunications              55497.866667\nTransportation                  42688.694444\nWholesalers                     13139.925000\nName: Employees, dtype: float64"
          },
          "metadata": {}
        }
      ]
    },
    {
      "cell_type": "code",
      "source": "sectors.agg({\"Revenue\" : [\"sum\", \"mean\"],\n             \"Profits\" : \"sum\",\n              \"Employees\" : \"mean\"})",
      "metadata": {
        "tags": [],
        "trusted": true
      },
      "execution_count": 22,
      "outputs": [
        {
          "execution_count": 22,
          "output_type": "execute_result",
          "data": {
            "text/plain": "                              Revenue               Profits     Employees\n                                  sum          mean     sum          mean\nSector                                                                   \nAerospace & Defense            357940  17897.000000   28742  48402.850000\nApparel                         95968   6397.866667    8236  23093.133333\nBusiness Services              272195   5337.156863   28227  26687.254902\nChemicals                      243897   8129.900000   22628  15455.033333\nEnergy                        1517809  12441.057377  -73447   9745.303279\nEngineering & Construction     153983   5922.423077    5304  15642.615385\nFinancials                    2217159  15950.784173  260209  24172.287770\nFood and Drug Stores           483769  32251.266667   16759  93026.533333\nFood, Beverages & Tobacco      555967  12929.465116   51417  28177.488372\nHealth Care                   1614707  21529.426667  106114  35710.520000\nHotels, Resturants & Leisure   169546   6781.840000   20697  99369.800000\nHousehold Products             234737   8383.464286   14428  23072.785714\nIndustrials                    497581  10816.978261   20764  33591.934783\nMaterials                      259145   6026.627907    4428  14840.069767\nMedia                          220764   8830.560000   24347  22012.560000\nMotor Vehicles & Parts         482540  20105.833333   25898  45106.666667\nRetailing                     1465076  18313.450000   47830  77845.362500\nTechnology                    1377600  13505.882353  180473  35087.735294\nTelecommunications             461834  30788.933333   48637  55497.866667\nTransportation                 408508  11347.444444   44169  42688.694444\nWholesalers                    444800  11120.000000    8233  13139.925000",
            "text/html": "<div>\n<style scoped>\n    .dataframe tbody tr th:only-of-type {\n        vertical-align: middle;\n    }\n\n    .dataframe tbody tr th {\n        vertical-align: top;\n    }\n\n    .dataframe thead tr th {\n        text-align: left;\n    }\n\n    .dataframe thead tr:last-of-type th {\n        text-align: right;\n    }\n</style>\n<table border=\"1\" class=\"dataframe\">\n  <thead>\n    <tr>\n      <th></th>\n      <th colspan=\"2\" halign=\"left\">Revenue</th>\n      <th>Profits</th>\n      <th>Employees</th>\n    </tr>\n    <tr>\n      <th></th>\n      <th>sum</th>\n      <th>mean</th>\n      <th>sum</th>\n      <th>mean</th>\n    </tr>\n    <tr>\n      <th>Sector</th>\n      <th></th>\n      <th></th>\n      <th></th>\n      <th></th>\n    </tr>\n  </thead>\n  <tbody>\n    <tr>\n      <th>Aerospace &amp; Defense</th>\n      <td>357940</td>\n      <td>17897.000000</td>\n      <td>28742</td>\n      <td>48402.850000</td>\n    </tr>\n    <tr>\n      <th>Apparel</th>\n      <td>95968</td>\n      <td>6397.866667</td>\n      <td>8236</td>\n      <td>23093.133333</td>\n    </tr>\n    <tr>\n      <th>Business Services</th>\n      <td>272195</td>\n      <td>5337.156863</td>\n      <td>28227</td>\n      <td>26687.254902</td>\n    </tr>\n    <tr>\n      <th>Chemicals</th>\n      <td>243897</td>\n      <td>8129.900000</td>\n      <td>22628</td>\n      <td>15455.033333</td>\n    </tr>\n    <tr>\n      <th>Energy</th>\n      <td>1517809</td>\n      <td>12441.057377</td>\n      <td>-73447</td>\n      <td>9745.303279</td>\n    </tr>\n    <tr>\n      <th>Engineering &amp; Construction</th>\n      <td>153983</td>\n      <td>5922.423077</td>\n      <td>5304</td>\n      <td>15642.615385</td>\n    </tr>\n    <tr>\n      <th>Financials</th>\n      <td>2217159</td>\n      <td>15950.784173</td>\n      <td>260209</td>\n      <td>24172.287770</td>\n    </tr>\n    <tr>\n      <th>Food and Drug Stores</th>\n      <td>483769</td>\n      <td>32251.266667</td>\n      <td>16759</td>\n      <td>93026.533333</td>\n    </tr>\n    <tr>\n      <th>Food, Beverages &amp; Tobacco</th>\n      <td>555967</td>\n      <td>12929.465116</td>\n      <td>51417</td>\n      <td>28177.488372</td>\n    </tr>\n    <tr>\n      <th>Health Care</th>\n      <td>1614707</td>\n      <td>21529.426667</td>\n      <td>106114</td>\n      <td>35710.520000</td>\n    </tr>\n    <tr>\n      <th>Hotels, Resturants &amp; Leisure</th>\n      <td>169546</td>\n      <td>6781.840000</td>\n      <td>20697</td>\n      <td>99369.800000</td>\n    </tr>\n    <tr>\n      <th>Household Products</th>\n      <td>234737</td>\n      <td>8383.464286</td>\n      <td>14428</td>\n      <td>23072.785714</td>\n    </tr>\n    <tr>\n      <th>Industrials</th>\n      <td>497581</td>\n      <td>10816.978261</td>\n      <td>20764</td>\n      <td>33591.934783</td>\n    </tr>\n    <tr>\n      <th>Materials</th>\n      <td>259145</td>\n      <td>6026.627907</td>\n      <td>4428</td>\n      <td>14840.069767</td>\n    </tr>\n    <tr>\n      <th>Media</th>\n      <td>220764</td>\n      <td>8830.560000</td>\n      <td>24347</td>\n      <td>22012.560000</td>\n    </tr>\n    <tr>\n      <th>Motor Vehicles &amp; Parts</th>\n      <td>482540</td>\n      <td>20105.833333</td>\n      <td>25898</td>\n      <td>45106.666667</td>\n    </tr>\n    <tr>\n      <th>Retailing</th>\n      <td>1465076</td>\n      <td>18313.450000</td>\n      <td>47830</td>\n      <td>77845.362500</td>\n    </tr>\n    <tr>\n      <th>Technology</th>\n      <td>1377600</td>\n      <td>13505.882353</td>\n      <td>180473</td>\n      <td>35087.735294</td>\n    </tr>\n    <tr>\n      <th>Telecommunications</th>\n      <td>461834</td>\n      <td>30788.933333</td>\n      <td>48637</td>\n      <td>55497.866667</td>\n    </tr>\n    <tr>\n      <th>Transportation</th>\n      <td>408508</td>\n      <td>11347.444444</td>\n      <td>44169</td>\n      <td>42688.694444</td>\n    </tr>\n    <tr>\n      <th>Wholesalers</th>\n      <td>444800</td>\n      <td>11120.000000</td>\n      <td>8233</td>\n      <td>13139.925000</td>\n    </tr>\n  </tbody>\n</table>\n</div>"
          },
          "metadata": {}
        }
      ]
    },
    {
      "cell_type": "code",
      "source": "sectors.agg([\"size\", \"sum\", \"mean\"])",
      "metadata": {
        "collapsed": false,
        "scrolled": true,
        "jupyter": {
          "outputs_hidden": false
        },
        "trusted": true
      },
      "execution_count": 23,
      "outputs": [
        {
          "name": "stderr",
          "text": "<ipython-input-23-b96b8280e273>:1: FutureWarning: ['Company', 'Industry', 'Location'] did not aggregate successfully. If any error is raised this will raise in a future version of pandas. Drop these columns/ops to avoid this warning.\n  sectors.agg([\"size\", \"sum\", \"mean\"])\n",
          "output_type": "stream"
        },
        {
          "execution_count": 23,
          "output_type": "execute_result",
          "data": {
            "text/plain": "                             Revenue                        Profits          \\\n                                size      sum          mean    size     sum   \nSector                                                                        \nAerospace & Defense               20   357940  17897.000000      20   28742   \nApparel                           15    95968   6397.866667      15    8236   \nBusiness Services                 51   272195   5337.156863      51   28227   \nChemicals                         30   243897   8129.900000      30   22628   \nEnergy                           122  1517809  12441.057377     122  -73447   \nEngineering & Construction        26   153983   5922.423077      26    5304   \nFinancials                       139  2217159  15950.784173     139  260209   \nFood and Drug Stores              15   483769  32251.266667      15   16759   \nFood, Beverages & Tobacco         43   555967  12929.465116      43   51417   \nHealth Care                       75  1614707  21529.426667      75  106114   \nHotels, Resturants & Leisure      25   169546   6781.840000      25   20697   \nHousehold Products                28   234737   8383.464286      28   14428   \nIndustrials                       46   497581  10816.978261      46   20764   \nMaterials                         43   259145   6026.627907      43    4428   \nMedia                             25   220764   8830.560000      25   24347   \nMotor Vehicles & Parts            24   482540  20105.833333      24   25898   \nRetailing                         80  1465076  18313.450000      80   47830   \nTechnology                       102  1377600  13505.882353     102  180473   \nTelecommunications                15   461834  30788.933333      15   48637   \nTransportation                    36   408508  11347.444444      36   44169   \nWholesalers                       40   444800  11120.000000      40    8233   \n\n                                          Employees                         \n                                     mean      size      sum          mean  \nSector                                                                      \nAerospace & Defense           1437.100000        20   968057  48402.850000  \nApparel                        549.066667        15   346397  23093.133333  \nBusiness Services              553.470588        51  1361050  26687.254902  \nChemicals                      754.266667        30   463651  15455.033333  \nEnergy                        -602.024590       122  1188927   9745.303279  \nEngineering & Construction     204.000000        26   406708  15642.615385  \nFinancials                    1872.007194       139  3359948  24172.287770  \nFood and Drug Stores          1117.266667        15  1395398  93026.533333  \nFood, Beverages & Tobacco     1195.744186        43  1211632  28177.488372  \nHealth Care                   1414.853333        75  2678289  35710.520000  \nHotels, Resturants & Leisure   827.880000        25  2484245  99369.800000  \nHousehold Products             515.285714        28   646038  23072.785714  \nIndustrials                    451.391304        46  1545229  33591.934783  \nMaterials                      102.976744        43   638123  14840.069767  \nMedia                          973.880000        25   550314  22012.560000  \nMotor Vehicles & Parts        1079.083333        24  1082560  45106.666667  \nRetailing                      597.875000        80  6227629  77845.362500  \nTechnology                    1769.343137       102  3578949  35087.735294  \nTelecommunications            3242.466667        15   832468  55497.866667  \nTransportation                1226.916667        36  1536793  42688.694444  \nWholesalers                    205.825000        40   525597  13139.925000  ",
            "text/html": "<div>\n<style scoped>\n    .dataframe tbody tr th:only-of-type {\n        vertical-align: middle;\n    }\n\n    .dataframe tbody tr th {\n        vertical-align: top;\n    }\n\n    .dataframe thead tr th {\n        text-align: left;\n    }\n\n    .dataframe thead tr:last-of-type th {\n        text-align: right;\n    }\n</style>\n<table border=\"1\" class=\"dataframe\">\n  <thead>\n    <tr>\n      <th></th>\n      <th colspan=\"3\" halign=\"left\">Revenue</th>\n      <th colspan=\"3\" halign=\"left\">Profits</th>\n      <th colspan=\"3\" halign=\"left\">Employees</th>\n    </tr>\n    <tr>\n      <th></th>\n      <th>size</th>\n      <th>sum</th>\n      <th>mean</th>\n      <th>size</th>\n      <th>sum</th>\n      <th>mean</th>\n      <th>size</th>\n      <th>sum</th>\n      <th>mean</th>\n    </tr>\n    <tr>\n      <th>Sector</th>\n      <th></th>\n      <th></th>\n      <th></th>\n      <th></th>\n      <th></th>\n      <th></th>\n      <th></th>\n      <th></th>\n      <th></th>\n    </tr>\n  </thead>\n  <tbody>\n    <tr>\n      <th>Aerospace &amp; Defense</th>\n      <td>20</td>\n      <td>357940</td>\n      <td>17897.000000</td>\n      <td>20</td>\n      <td>28742</td>\n      <td>1437.100000</td>\n      <td>20</td>\n      <td>968057</td>\n      <td>48402.850000</td>\n    </tr>\n    <tr>\n      <th>Apparel</th>\n      <td>15</td>\n      <td>95968</td>\n      <td>6397.866667</td>\n      <td>15</td>\n      <td>8236</td>\n      <td>549.066667</td>\n      <td>15</td>\n      <td>346397</td>\n      <td>23093.133333</td>\n    </tr>\n    <tr>\n      <th>Business Services</th>\n      <td>51</td>\n      <td>272195</td>\n      <td>5337.156863</td>\n      <td>51</td>\n      <td>28227</td>\n      <td>553.470588</td>\n      <td>51</td>\n      <td>1361050</td>\n      <td>26687.254902</td>\n    </tr>\n    <tr>\n      <th>Chemicals</th>\n      <td>30</td>\n      <td>243897</td>\n      <td>8129.900000</td>\n      <td>30</td>\n      <td>22628</td>\n      <td>754.266667</td>\n      <td>30</td>\n      <td>463651</td>\n      <td>15455.033333</td>\n    </tr>\n    <tr>\n      <th>Energy</th>\n      <td>122</td>\n      <td>1517809</td>\n      <td>12441.057377</td>\n      <td>122</td>\n      <td>-73447</td>\n      <td>-602.024590</td>\n      <td>122</td>\n      <td>1188927</td>\n      <td>9745.303279</td>\n    </tr>\n    <tr>\n      <th>Engineering &amp; Construction</th>\n      <td>26</td>\n      <td>153983</td>\n      <td>5922.423077</td>\n      <td>26</td>\n      <td>5304</td>\n      <td>204.000000</td>\n      <td>26</td>\n      <td>406708</td>\n      <td>15642.615385</td>\n    </tr>\n    <tr>\n      <th>Financials</th>\n      <td>139</td>\n      <td>2217159</td>\n      <td>15950.784173</td>\n      <td>139</td>\n      <td>260209</td>\n      <td>1872.007194</td>\n      <td>139</td>\n      <td>3359948</td>\n      <td>24172.287770</td>\n    </tr>\n    <tr>\n      <th>Food and Drug Stores</th>\n      <td>15</td>\n      <td>483769</td>\n      <td>32251.266667</td>\n      <td>15</td>\n      <td>16759</td>\n      <td>1117.266667</td>\n      <td>15</td>\n      <td>1395398</td>\n      <td>93026.533333</td>\n    </tr>\n    <tr>\n      <th>Food, Beverages &amp; Tobacco</th>\n      <td>43</td>\n      <td>555967</td>\n      <td>12929.465116</td>\n      <td>43</td>\n      <td>51417</td>\n      <td>1195.744186</td>\n      <td>43</td>\n      <td>1211632</td>\n      <td>28177.488372</td>\n    </tr>\n    <tr>\n      <th>Health Care</th>\n      <td>75</td>\n      <td>1614707</td>\n      <td>21529.426667</td>\n      <td>75</td>\n      <td>106114</td>\n      <td>1414.853333</td>\n      <td>75</td>\n      <td>2678289</td>\n      <td>35710.520000</td>\n    </tr>\n    <tr>\n      <th>Hotels, Resturants &amp; Leisure</th>\n      <td>25</td>\n      <td>169546</td>\n      <td>6781.840000</td>\n      <td>25</td>\n      <td>20697</td>\n      <td>827.880000</td>\n      <td>25</td>\n      <td>2484245</td>\n      <td>99369.800000</td>\n    </tr>\n    <tr>\n      <th>Household Products</th>\n      <td>28</td>\n      <td>234737</td>\n      <td>8383.464286</td>\n      <td>28</td>\n      <td>14428</td>\n      <td>515.285714</td>\n      <td>28</td>\n      <td>646038</td>\n      <td>23072.785714</td>\n    </tr>\n    <tr>\n      <th>Industrials</th>\n      <td>46</td>\n      <td>497581</td>\n      <td>10816.978261</td>\n      <td>46</td>\n      <td>20764</td>\n      <td>451.391304</td>\n      <td>46</td>\n      <td>1545229</td>\n      <td>33591.934783</td>\n    </tr>\n    <tr>\n      <th>Materials</th>\n      <td>43</td>\n      <td>259145</td>\n      <td>6026.627907</td>\n      <td>43</td>\n      <td>4428</td>\n      <td>102.976744</td>\n      <td>43</td>\n      <td>638123</td>\n      <td>14840.069767</td>\n    </tr>\n    <tr>\n      <th>Media</th>\n      <td>25</td>\n      <td>220764</td>\n      <td>8830.560000</td>\n      <td>25</td>\n      <td>24347</td>\n      <td>973.880000</td>\n      <td>25</td>\n      <td>550314</td>\n      <td>22012.560000</td>\n    </tr>\n    <tr>\n      <th>Motor Vehicles &amp; Parts</th>\n      <td>24</td>\n      <td>482540</td>\n      <td>20105.833333</td>\n      <td>24</td>\n      <td>25898</td>\n      <td>1079.083333</td>\n      <td>24</td>\n      <td>1082560</td>\n      <td>45106.666667</td>\n    </tr>\n    <tr>\n      <th>Retailing</th>\n      <td>80</td>\n      <td>1465076</td>\n      <td>18313.450000</td>\n      <td>80</td>\n      <td>47830</td>\n      <td>597.875000</td>\n      <td>80</td>\n      <td>6227629</td>\n      <td>77845.362500</td>\n    </tr>\n    <tr>\n      <th>Technology</th>\n      <td>102</td>\n      <td>1377600</td>\n      <td>13505.882353</td>\n      <td>102</td>\n      <td>180473</td>\n      <td>1769.343137</td>\n      <td>102</td>\n      <td>3578949</td>\n      <td>35087.735294</td>\n    </tr>\n    <tr>\n      <th>Telecommunications</th>\n      <td>15</td>\n      <td>461834</td>\n      <td>30788.933333</td>\n      <td>15</td>\n      <td>48637</td>\n      <td>3242.466667</td>\n      <td>15</td>\n      <td>832468</td>\n      <td>55497.866667</td>\n    </tr>\n    <tr>\n      <th>Transportation</th>\n      <td>36</td>\n      <td>408508</td>\n      <td>11347.444444</td>\n      <td>36</td>\n      <td>44169</td>\n      <td>1226.916667</td>\n      <td>36</td>\n      <td>1536793</td>\n      <td>42688.694444</td>\n    </tr>\n    <tr>\n      <th>Wholesalers</th>\n      <td>40</td>\n      <td>444800</td>\n      <td>11120.000000</td>\n      <td>40</td>\n      <td>8233</td>\n      <td>205.825000</td>\n      <td>40</td>\n      <td>525597</td>\n      <td>13139.925000</td>\n    </tr>\n  </tbody>\n</table>\n</div>"
          },
          "metadata": {}
        }
      ]
    },
    {
      "cell_type": "markdown",
      "source": "## Iterating through Groups",
      "metadata": {}
    },
    {
      "cell_type": "code",
      "source": "fortune = pd.read_csv(\"fortune1000.csv\", index_col = \"Rank\")\nsectors = fortune.groupby(\"Sector\")\nfortune.head(3)",
      "metadata": {
        "collapsed": false,
        "jupyter": {
          "outputs_hidden": false
        },
        "trusted": true
      },
      "execution_count": 24,
      "outputs": [
        {
          "execution_count": 24,
          "output_type": "execute_result",
          "data": {
            "text/plain": "          Company      Sector                     Industry         Location  \\\nRank                                                                          \n1         Walmart   Retailing        General Merchandisers  Bentonville, AR   \n2     Exxon Mobil      Energy           Petroleum Refining       Irving, TX   \n3           Apple  Technology  Computers, Office Equipment    Cupertino, CA   \n\n      Revenue  Profits  Employees  \nRank                               \n1      482130    14694    2300000  \n2      246204    16150      75600  \n3      233715    53394     110000  ",
            "text/html": "<div>\n<style scoped>\n    .dataframe tbody tr th:only-of-type {\n        vertical-align: middle;\n    }\n\n    .dataframe tbody tr th {\n        vertical-align: top;\n    }\n\n    .dataframe thead th {\n        text-align: right;\n    }\n</style>\n<table border=\"1\" class=\"dataframe\">\n  <thead>\n    <tr style=\"text-align: right;\">\n      <th></th>\n      <th>Company</th>\n      <th>Sector</th>\n      <th>Industry</th>\n      <th>Location</th>\n      <th>Revenue</th>\n      <th>Profits</th>\n      <th>Employees</th>\n    </tr>\n    <tr>\n      <th>Rank</th>\n      <th></th>\n      <th></th>\n      <th></th>\n      <th></th>\n      <th></th>\n      <th></th>\n      <th></th>\n    </tr>\n  </thead>\n  <tbody>\n    <tr>\n      <th>1</th>\n      <td>Walmart</td>\n      <td>Retailing</td>\n      <td>General Merchandisers</td>\n      <td>Bentonville, AR</td>\n      <td>482130</td>\n      <td>14694</td>\n      <td>2300000</td>\n    </tr>\n    <tr>\n      <th>2</th>\n      <td>Exxon Mobil</td>\n      <td>Energy</td>\n      <td>Petroleum Refining</td>\n      <td>Irving, TX</td>\n      <td>246204</td>\n      <td>16150</td>\n      <td>75600</td>\n    </tr>\n    <tr>\n      <th>3</th>\n      <td>Apple</td>\n      <td>Technology</td>\n      <td>Computers, Office Equipment</td>\n      <td>Cupertino, CA</td>\n      <td>233715</td>\n      <td>53394</td>\n      <td>110000</td>\n    </tr>\n  </tbody>\n</table>\n</div>"
          },
          "metadata": {}
        }
      ]
    },
    {
      "cell_type": "code",
      "source": "df = pd.DataFrame(columns = fortune.columns)\ndf",
      "metadata": {
        "collapsed": false,
        "jupyter": {
          "outputs_hidden": false
        },
        "trusted": true
      },
      "execution_count": 25,
      "outputs": [
        {
          "execution_count": 25,
          "output_type": "execute_result",
          "data": {
            "text/plain": "Empty DataFrame\nColumns: [Company, Sector, Industry, Location, Revenue, Profits, Employees]\nIndex: []",
            "text/html": "<div>\n<style scoped>\n    .dataframe tbody tr th:only-of-type {\n        vertical-align: middle;\n    }\n\n    .dataframe tbody tr th {\n        vertical-align: top;\n    }\n\n    .dataframe thead th {\n        text-align: right;\n    }\n</style>\n<table border=\"1\" class=\"dataframe\">\n  <thead>\n    <tr style=\"text-align: right;\">\n      <th></th>\n      <th>Company</th>\n      <th>Sector</th>\n      <th>Industry</th>\n      <th>Location</th>\n      <th>Revenue</th>\n      <th>Profits</th>\n      <th>Employees</th>\n    </tr>\n  </thead>\n  <tbody>\n  </tbody>\n</table>\n</div>"
          },
          "metadata": {}
        }
      ]
    },
    {
      "cell_type": "code",
      "source": "for sector, data in sectors:\n    highest_revenue_company_in_group = data.nlargest(1, \"Revenue\")\n    df = df.append(highest_revenue_company_in_group)",
      "metadata": {
        "tags": [],
        "trusted": true
      },
      "execution_count": 31,
      "outputs": [
        {
          "name": "stderr",
          "text": "<ipython-input-31-2e70bc651767>:3: FutureWarning: The frame.append method is deprecated and will be removed from pandas in a future version. Use pandas.concat instead.\n  df = df.append(highest_revenue_company_in_group)\n<ipython-input-31-2e70bc651767>:3: FutureWarning: The frame.append method is deprecated and will be removed from pandas in a future version. Use pandas.concat instead.\n  df = df.append(highest_revenue_company_in_group)\n<ipython-input-31-2e70bc651767>:3: FutureWarning: The frame.append method is deprecated and will be removed from pandas in a future version. Use pandas.concat instead.\n  df = df.append(highest_revenue_company_in_group)\n<ipython-input-31-2e70bc651767>:3: FutureWarning: The frame.append method is deprecated and will be removed from pandas in a future version. Use pandas.concat instead.\n  df = df.append(highest_revenue_company_in_group)\n<ipython-input-31-2e70bc651767>:3: FutureWarning: The frame.append method is deprecated and will be removed from pandas in a future version. Use pandas.concat instead.\n  df = df.append(highest_revenue_company_in_group)\n<ipython-input-31-2e70bc651767>:3: FutureWarning: The frame.append method is deprecated and will be removed from pandas in a future version. Use pandas.concat instead.\n  df = df.append(highest_revenue_company_in_group)\n<ipython-input-31-2e70bc651767>:3: FutureWarning: The frame.append method is deprecated and will be removed from pandas in a future version. Use pandas.concat instead.\n  df = df.append(highest_revenue_company_in_group)\n<ipython-input-31-2e70bc651767>:3: FutureWarning: The frame.append method is deprecated and will be removed from pandas in a future version. Use pandas.concat instead.\n  df = df.append(highest_revenue_company_in_group)\n<ipython-input-31-2e70bc651767>:3: FutureWarning: The frame.append method is deprecated and will be removed from pandas in a future version. Use pandas.concat instead.\n  df = df.append(highest_revenue_company_in_group)\n<ipython-input-31-2e70bc651767>:3: FutureWarning: The frame.append method is deprecated and will be removed from pandas in a future version. Use pandas.concat instead.\n  df = df.append(highest_revenue_company_in_group)\n<ipython-input-31-2e70bc651767>:3: FutureWarning: The frame.append method is deprecated and will be removed from pandas in a future version. Use pandas.concat instead.\n  df = df.append(highest_revenue_company_in_group)\n<ipython-input-31-2e70bc651767>:3: FutureWarning: The frame.append method is deprecated and will be removed from pandas in a future version. Use pandas.concat instead.\n  df = df.append(highest_revenue_company_in_group)\n<ipython-input-31-2e70bc651767>:3: FutureWarning: The frame.append method is deprecated and will be removed from pandas in a future version. Use pandas.concat instead.\n  df = df.append(highest_revenue_company_in_group)\n<ipython-input-31-2e70bc651767>:3: FutureWarning: The frame.append method is deprecated and will be removed from pandas in a future version. Use pandas.concat instead.\n  df = df.append(highest_revenue_company_in_group)\n<ipython-input-31-2e70bc651767>:3: FutureWarning: The frame.append method is deprecated and will be removed from pandas in a future version. Use pandas.concat instead.\n  df = df.append(highest_revenue_company_in_group)\n<ipython-input-31-2e70bc651767>:3: FutureWarning: The frame.append method is deprecated and will be removed from pandas in a future version. Use pandas.concat instead.\n  df = df.append(highest_revenue_company_in_group)\n<ipython-input-31-2e70bc651767>:3: FutureWarning: The frame.append method is deprecated and will be removed from pandas in a future version. Use pandas.concat instead.\n  df = df.append(highest_revenue_company_in_group)\n<ipython-input-31-2e70bc651767>:3: FutureWarning: The frame.append method is deprecated and will be removed from pandas in a future version. Use pandas.concat instead.\n  df = df.append(highest_revenue_company_in_group)\n<ipython-input-31-2e70bc651767>:3: FutureWarning: The frame.append method is deprecated and will be removed from pandas in a future version. Use pandas.concat instead.\n  df = df.append(highest_revenue_company_in_group)\n<ipython-input-31-2e70bc651767>:3: FutureWarning: The frame.append method is deprecated and will be removed from pandas in a future version. Use pandas.concat instead.\n  df = df.append(highest_revenue_company_in_group)\n<ipython-input-31-2e70bc651767>:3: FutureWarning: The frame.append method is deprecated and will be removed from pandas in a future version. Use pandas.concat instead.\n  df = df.append(highest_revenue_company_in_group)\n",
          "output_type": "stream"
        }
      ]
    },
    {
      "cell_type": "code",
      "source": "df",
      "metadata": {
        "tags": [],
        "trusted": true
      },
      "execution_count": 32,
      "outputs": [
        {
          "execution_count": 32,
          "output_type": "execute_result",
          "data": {
            "text/plain": "           Company               Sector                             Industry  \\\n24          Boeing  Aerospace & Defense                Aerospace and Defense   \n91            Nike              Apparel                              Apparel   \n144  ManpowerGroup    Business Services                       Temporary Help   \n56    Dow Chemical            Chemicals                            Chemicals   \n2      Exxon Mobil               Energy                   Petroleum Refining   \n..             ...                  ...                                  ...   \n1          Walmart            Retailing                General Merchandisers   \n3            Apple           Technology          Computers, Office Equipment   \n10            AT&T   Telecommunications                   Telecommunications   \n48             UPS       Transportation  Mail, Package, and Freight Delivery   \n57           Sysco          Wholesalers        Wholesalers: Food and Grocery   \n\n            Location Revenue Profits Employees  \n24       Chicago, IL   96114    5176    161400  \n91     Beaverton, OR   30601    3273     62600  \n144    Milwaukee, WI   19330     419     27000  \n56       Midland, MI   48778    7685     49495  \n2         Irving, TX  246204   16150     75600  \n..               ...     ...     ...       ...  \n1    Bentonville, AR  482130   14694   2300000  \n3      Cupertino, CA  233715   53394    110000  \n10        Dallas, TX  146801   13345    281450  \n48       Atlanta, GA   58363    4844    341240  \n57       Houston, TX   48681     687     51700  \n\n[63 rows x 7 columns]",
            "text/html": "<div>\n<style scoped>\n    .dataframe tbody tr th:only-of-type {\n        vertical-align: middle;\n    }\n\n    .dataframe tbody tr th {\n        vertical-align: top;\n    }\n\n    .dataframe thead th {\n        text-align: right;\n    }\n</style>\n<table border=\"1\" class=\"dataframe\">\n  <thead>\n    <tr style=\"text-align: right;\">\n      <th></th>\n      <th>Company</th>\n      <th>Sector</th>\n      <th>Industry</th>\n      <th>Location</th>\n      <th>Revenue</th>\n      <th>Profits</th>\n      <th>Employees</th>\n    </tr>\n  </thead>\n  <tbody>\n    <tr>\n      <th>24</th>\n      <td>Boeing</td>\n      <td>Aerospace &amp; Defense</td>\n      <td>Aerospace and Defense</td>\n      <td>Chicago, IL</td>\n      <td>96114</td>\n      <td>5176</td>\n      <td>161400</td>\n    </tr>\n    <tr>\n      <th>91</th>\n      <td>Nike</td>\n      <td>Apparel</td>\n      <td>Apparel</td>\n      <td>Beaverton, OR</td>\n      <td>30601</td>\n      <td>3273</td>\n      <td>62600</td>\n    </tr>\n    <tr>\n      <th>144</th>\n      <td>ManpowerGroup</td>\n      <td>Business Services</td>\n      <td>Temporary Help</td>\n      <td>Milwaukee, WI</td>\n      <td>19330</td>\n      <td>419</td>\n      <td>27000</td>\n    </tr>\n    <tr>\n      <th>56</th>\n      <td>Dow Chemical</td>\n      <td>Chemicals</td>\n      <td>Chemicals</td>\n      <td>Midland, MI</td>\n      <td>48778</td>\n      <td>7685</td>\n      <td>49495</td>\n    </tr>\n    <tr>\n      <th>2</th>\n      <td>Exxon Mobil</td>\n      <td>Energy</td>\n      <td>Petroleum Refining</td>\n      <td>Irving, TX</td>\n      <td>246204</td>\n      <td>16150</td>\n      <td>75600</td>\n    </tr>\n    <tr>\n      <th>...</th>\n      <td>...</td>\n      <td>...</td>\n      <td>...</td>\n      <td>...</td>\n      <td>...</td>\n      <td>...</td>\n      <td>...</td>\n    </tr>\n    <tr>\n      <th>1</th>\n      <td>Walmart</td>\n      <td>Retailing</td>\n      <td>General Merchandisers</td>\n      <td>Bentonville, AR</td>\n      <td>482130</td>\n      <td>14694</td>\n      <td>2300000</td>\n    </tr>\n    <tr>\n      <th>3</th>\n      <td>Apple</td>\n      <td>Technology</td>\n      <td>Computers, Office Equipment</td>\n      <td>Cupertino, CA</td>\n      <td>233715</td>\n      <td>53394</td>\n      <td>110000</td>\n    </tr>\n    <tr>\n      <th>10</th>\n      <td>AT&amp;T</td>\n      <td>Telecommunications</td>\n      <td>Telecommunications</td>\n      <td>Dallas, TX</td>\n      <td>146801</td>\n      <td>13345</td>\n      <td>281450</td>\n    </tr>\n    <tr>\n      <th>48</th>\n      <td>UPS</td>\n      <td>Transportation</td>\n      <td>Mail, Package, and Freight Delivery</td>\n      <td>Atlanta, GA</td>\n      <td>58363</td>\n      <td>4844</td>\n      <td>341240</td>\n    </tr>\n    <tr>\n      <th>57</th>\n      <td>Sysco</td>\n      <td>Wholesalers</td>\n      <td>Wholesalers: Food and Grocery</td>\n      <td>Houston, TX</td>\n      <td>48681</td>\n      <td>687</td>\n      <td>51700</td>\n    </tr>\n  </tbody>\n</table>\n<p>63 rows × 7 columns</p>\n</div>"
          },
          "metadata": {}
        }
      ]
    },
    {
      "cell_type": "code",
      "source": "cities = fortune.groupby(\"Location\")\ndf = pd.DataFrame(columns = fortune.columns)\ndf",
      "metadata": {
        "collapsed": false,
        "jupyter": {
          "outputs_hidden": false
        },
        "trusted": true
      },
      "execution_count": 18,
      "outputs": [
        {
          "execution_count": 18,
          "output_type": "execute_result",
          "data": {
            "text/plain": "Empty DataFrame\nColumns: [Company, Sector, Industry, Location, Revenue, Profits, Employees]\nIndex: []",
            "text/html": "<div>\n<style scoped>\n    .dataframe tbody tr th:only-of-type {\n        vertical-align: middle;\n    }\n\n    .dataframe tbody tr th {\n        vertical-align: top;\n    }\n\n    .dataframe thead th {\n        text-align: right;\n    }\n</style>\n<table border=\"1\" class=\"dataframe\">\n  <thead>\n    <tr style=\"text-align: right;\">\n      <th></th>\n      <th>Company</th>\n      <th>Sector</th>\n      <th>Industry</th>\n      <th>Location</th>\n      <th>Revenue</th>\n      <th>Profits</th>\n      <th>Employees</th>\n    </tr>\n  </thead>\n  <tbody>\n  </tbody>\n</table>\n</div>"
          },
          "metadata": {}
        }
      ]
    },
    {
      "cell_type": "code",
      "source": "for city, data in cities:\n    highest_revenue_in_city = data.nlargest(1, \"Revenue\")\n    df = df.append(highest_revenue_in_city)",
      "metadata": {
        "tags": [],
        "collapsed": true,
        "jupyter": {
          "outputs_hidden": true
        },
        "trusted": true
      },
      "execution_count": 19,
      "outputs": [
        {
          "name": "stderr",
          "text": "<ipython-input-19-3dbf9a062322>:3: FutureWarning: The frame.append method is deprecated and will be removed from pandas in a future version. Use pandas.concat instead.\n  df = df.append(highest_revenue_in_city)\n<ipython-input-19-3dbf9a062322>:3: FutureWarning: The frame.append method is deprecated and will be removed from pandas in a future version. Use pandas.concat instead.\n  df = df.append(highest_revenue_in_city)\n<ipython-input-19-3dbf9a062322>:3: FutureWarning: The frame.append method is deprecated and will be removed from pandas in a future version. Use pandas.concat instead.\n  df = df.append(highest_revenue_in_city)\n<ipython-input-19-3dbf9a062322>:3: FutureWarning: The frame.append method is deprecated and will be removed from pandas in a future version. Use pandas.concat instead.\n  df = df.append(highest_revenue_in_city)\n<ipython-input-19-3dbf9a062322>:3: FutureWarning: The frame.append method is deprecated and will be removed from pandas in a future version. Use pandas.concat instead.\n  df = df.append(highest_revenue_in_city)\n<ipython-input-19-3dbf9a062322>:3: FutureWarning: The frame.append method is deprecated and will be removed from pandas in a future version. Use pandas.concat instead.\n  df = df.append(highest_revenue_in_city)\n<ipython-input-19-3dbf9a062322>:3: FutureWarning: The frame.append method is deprecated and will be removed from pandas in a future version. Use pandas.concat instead.\n  df = df.append(highest_revenue_in_city)\n<ipython-input-19-3dbf9a062322>:3: FutureWarning: The frame.append method is deprecated and will be removed from pandas in a future version. Use pandas.concat instead.\n  df = df.append(highest_revenue_in_city)\n<ipython-input-19-3dbf9a062322>:3: FutureWarning: The frame.append method is deprecated and will be removed from pandas in a future version. Use pandas.concat instead.\n  df = df.append(highest_revenue_in_city)\n<ipython-input-19-3dbf9a062322>:3: FutureWarning: The frame.append method is deprecated and will be removed from pandas in a future version. Use pandas.concat instead.\n  df = df.append(highest_revenue_in_city)\n<ipython-input-19-3dbf9a062322>:3: FutureWarning: The frame.append method is deprecated and will be removed from pandas in a future version. Use pandas.concat instead.\n  df = df.append(highest_revenue_in_city)\n<ipython-input-19-3dbf9a062322>:3: FutureWarning: The frame.append method is deprecated and will be removed from pandas in a future version. Use pandas.concat instead.\n  df = df.append(highest_revenue_in_city)\n<ipython-input-19-3dbf9a062322>:3: FutureWarning: The frame.append method is deprecated and will be removed from pandas in a future version. Use pandas.concat instead.\n  df = df.append(highest_revenue_in_city)\n<ipython-input-19-3dbf9a062322>:3: FutureWarning: The frame.append method is deprecated and will be removed from pandas in a future version. Use pandas.concat instead.\n  df = df.append(highest_revenue_in_city)\n<ipython-input-19-3dbf9a062322>:3: FutureWarning: The frame.append method is deprecated and will be removed from pandas in a future version. Use pandas.concat instead.\n  df = df.append(highest_revenue_in_city)\n<ipython-input-19-3dbf9a062322>:3: FutureWarning: The frame.append method is deprecated and will be removed from pandas in a future version. Use pandas.concat instead.\n  df = df.append(highest_revenue_in_city)\n<ipython-input-19-3dbf9a062322>:3: FutureWarning: The frame.append method is deprecated and will be removed from pandas in a future version. Use pandas.concat instead.\n  df = df.append(highest_revenue_in_city)\n<ipython-input-19-3dbf9a062322>:3: FutureWarning: The frame.append method is deprecated and will be removed from pandas in a future version. Use pandas.concat instead.\n  df = df.append(highest_revenue_in_city)\n<ipython-input-19-3dbf9a062322>:3: FutureWarning: The frame.append method is deprecated and will be removed from pandas in a future version. Use pandas.concat instead.\n  df = df.append(highest_revenue_in_city)\n<ipython-input-19-3dbf9a062322>:3: FutureWarning: The frame.append method is deprecated and will be removed from pandas in a future version. Use pandas.concat instead.\n  df = df.append(highest_revenue_in_city)\n<ipython-input-19-3dbf9a062322>:3: FutureWarning: The frame.append method is deprecated and will be removed from pandas in a future version. Use pandas.concat instead.\n  df = df.append(highest_revenue_in_city)\n<ipython-input-19-3dbf9a062322>:3: FutureWarning: The frame.append method is deprecated and will be removed from pandas in a future version. Use pandas.concat instead.\n  df = df.append(highest_revenue_in_city)\n<ipython-input-19-3dbf9a062322>:3: FutureWarning: The frame.append method is deprecated and will be removed from pandas in a future version. Use pandas.concat instead.\n  df = df.append(highest_revenue_in_city)\n<ipython-input-19-3dbf9a062322>:3: FutureWarning: The frame.append method is deprecated and will be removed from pandas in a future version. Use pandas.concat instead.\n  df = df.append(highest_revenue_in_city)\n<ipython-input-19-3dbf9a062322>:3: FutureWarning: The frame.append method is deprecated and will be removed from pandas in a future version. Use pandas.concat instead.\n  df = df.append(highest_revenue_in_city)\n<ipython-input-19-3dbf9a062322>:3: FutureWarning: The frame.append method is deprecated and will be removed from pandas in a future version. Use pandas.concat instead.\n  df = df.append(highest_revenue_in_city)\n<ipython-input-19-3dbf9a062322>:3: FutureWarning: The frame.append method is deprecated and will be removed from pandas in a future version. Use pandas.concat instead.\n  df = df.append(highest_revenue_in_city)\n<ipython-input-19-3dbf9a062322>:3: FutureWarning: The frame.append method is deprecated and will be removed from pandas in a future version. Use pandas.concat instead.\n  df = df.append(highest_revenue_in_city)\n<ipython-input-19-3dbf9a062322>:3: FutureWarning: The frame.append method is deprecated and will be removed from pandas in a future version. Use pandas.concat instead.\n  df = df.append(highest_revenue_in_city)\n<ipython-input-19-3dbf9a062322>:3: FutureWarning: The frame.append method is deprecated and will be removed from pandas in a future version. Use pandas.concat instead.\n  df = df.append(highest_revenue_in_city)\n<ipython-input-19-3dbf9a062322>:3: FutureWarning: The frame.append method is deprecated and will be removed from pandas in a future version. Use pandas.concat instead.\n  df = df.append(highest_revenue_in_city)\n<ipython-input-19-3dbf9a062322>:3: FutureWarning: The frame.append method is deprecated and will be removed from pandas in a future version. Use pandas.concat instead.\n  df = df.append(highest_revenue_in_city)\n<ipython-input-19-3dbf9a062322>:3: FutureWarning: The frame.append method is deprecated and will be removed from pandas in a future version. Use pandas.concat instead.\n  df = df.append(highest_revenue_in_city)\n<ipython-input-19-3dbf9a062322>:3: FutureWarning: The frame.append method is deprecated and will be removed from pandas in a future version. Use pandas.concat instead.\n  df = df.append(highest_revenue_in_city)\n<ipython-input-19-3dbf9a062322>:3: FutureWarning: The frame.append method is deprecated and will be removed from pandas in a future version. Use pandas.concat instead.\n  df = df.append(highest_revenue_in_city)\n<ipython-input-19-3dbf9a062322>:3: FutureWarning: The frame.append method is deprecated and will be removed from pandas in a future version. Use pandas.concat instead.\n  df = df.append(highest_revenue_in_city)\n<ipython-input-19-3dbf9a062322>:3: FutureWarning: The frame.append method is deprecated and will be removed from pandas in a future version. Use pandas.concat instead.\n  df = df.append(highest_revenue_in_city)\n<ipython-input-19-3dbf9a062322>:3: FutureWarning: The frame.append method is deprecated and will be removed from pandas in a future version. Use pandas.concat instead.\n  df = df.append(highest_revenue_in_city)\n<ipython-input-19-3dbf9a062322>:3: FutureWarning: The frame.append method is deprecated and will be removed from pandas in a future version. Use pandas.concat instead.\n  df = df.append(highest_revenue_in_city)\n<ipython-input-19-3dbf9a062322>:3: FutureWarning: The frame.append method is deprecated and will be removed from pandas in a future version. Use pandas.concat instead.\n  df = df.append(highest_revenue_in_city)\n<ipython-input-19-3dbf9a062322>:3: FutureWarning: The frame.append method is deprecated and will be removed from pandas in a future version. Use pandas.concat instead.\n  df = df.append(highest_revenue_in_city)\n<ipython-input-19-3dbf9a062322>:3: FutureWarning: The frame.append method is deprecated and will be removed from pandas in a future version. Use pandas.concat instead.\n  df = df.append(highest_revenue_in_city)\n<ipython-input-19-3dbf9a062322>:3: FutureWarning: The frame.append method is deprecated and will be removed from pandas in a future version. Use pandas.concat instead.\n  df = df.append(highest_revenue_in_city)\n<ipython-input-19-3dbf9a062322>:3: FutureWarning: The frame.append method is deprecated and will be removed from pandas in a future version. Use pandas.concat instead.\n  df = df.append(highest_revenue_in_city)\n<ipython-input-19-3dbf9a062322>:3: FutureWarning: The frame.append method is deprecated and will be removed from pandas in a future version. Use pandas.concat instead.\n  df = df.append(highest_revenue_in_city)\n<ipython-input-19-3dbf9a062322>:3: FutureWarning: The frame.append method is deprecated and will be removed from pandas in a future version. Use pandas.concat instead.\n  df = df.append(highest_revenue_in_city)\n<ipython-input-19-3dbf9a062322>:3: FutureWarning: The frame.append method is deprecated and will be removed from pandas in a future version. Use pandas.concat instead.\n  df = df.append(highest_revenue_in_city)\n<ipython-input-19-3dbf9a062322>:3: FutureWarning: The frame.append method is deprecated and will be removed from pandas in a future version. Use pandas.concat instead.\n  df = df.append(highest_revenue_in_city)\n<ipython-input-19-3dbf9a062322>:3: FutureWarning: The frame.append method is deprecated and will be removed from pandas in a future version. Use pandas.concat instead.\n  df = df.append(highest_revenue_in_city)\n<ipython-input-19-3dbf9a062322>:3: FutureWarning: The frame.append method is deprecated and will be removed from pandas in a future version. Use pandas.concat instead.\n  df = df.append(highest_revenue_in_city)\n<ipython-input-19-3dbf9a062322>:3: FutureWarning: The frame.append method is deprecated and will be removed from pandas in a future version. Use pandas.concat instead.\n  df = df.append(highest_revenue_in_city)\n<ipython-input-19-3dbf9a062322>:3: FutureWarning: The frame.append method is deprecated and will be removed from pandas in a future version. Use pandas.concat instead.\n  df = df.append(highest_revenue_in_city)\n<ipython-input-19-3dbf9a062322>:3: FutureWarning: The frame.append method is deprecated and will be removed from pandas in a future version. Use pandas.concat instead.\n  df = df.append(highest_revenue_in_city)\n<ipython-input-19-3dbf9a062322>:3: FutureWarning: The frame.append method is deprecated and will be removed from pandas in a future version. Use pandas.concat instead.\n  df = df.append(highest_revenue_in_city)\n<ipython-input-19-3dbf9a062322>:3: FutureWarning: The frame.append method is deprecated and will be removed from pandas in a future version. Use pandas.concat instead.\n  df = df.append(highest_revenue_in_city)\n<ipython-input-19-3dbf9a062322>:3: FutureWarning: The frame.append method is deprecated and will be removed from pandas in a future version. Use pandas.concat instead.\n  df = df.append(highest_revenue_in_city)\n<ipython-input-19-3dbf9a062322>:3: FutureWarning: The frame.append method is deprecated and will be removed from pandas in a future version. Use pandas.concat instead.\n  df = df.append(highest_revenue_in_city)\n<ipython-input-19-3dbf9a062322>:3: FutureWarning: The frame.append method is deprecated and will be removed from pandas in a future version. Use pandas.concat instead.\n  df = df.append(highest_revenue_in_city)\n<ipython-input-19-3dbf9a062322>:3: FutureWarning: The frame.append method is deprecated and will be removed from pandas in a future version. Use pandas.concat instead.\n  df = df.append(highest_revenue_in_city)\n<ipython-input-19-3dbf9a062322>:3: FutureWarning: The frame.append method is deprecated and will be removed from pandas in a future version. Use pandas.concat instead.\n  df = df.append(highest_revenue_in_city)\n<ipython-input-19-3dbf9a062322>:3: FutureWarning: The frame.append method is deprecated and will be removed from pandas in a future version. Use pandas.concat instead.\n  df = df.append(highest_revenue_in_city)\n<ipython-input-19-3dbf9a062322>:3: FutureWarning: The frame.append method is deprecated and will be removed from pandas in a future version. Use pandas.concat instead.\n  df = df.append(highest_revenue_in_city)\n<ipython-input-19-3dbf9a062322>:3: FutureWarning: The frame.append method is deprecated and will be removed from pandas in a future version. Use pandas.concat instead.\n  df = df.append(highest_revenue_in_city)\n<ipython-input-19-3dbf9a062322>:3: FutureWarning: The frame.append method is deprecated and will be removed from pandas in a future version. Use pandas.concat instead.\n  df = df.append(highest_revenue_in_city)\n<ipython-input-19-3dbf9a062322>:3: FutureWarning: The frame.append method is deprecated and will be removed from pandas in a future version. Use pandas.concat instead.\n  df = df.append(highest_revenue_in_city)\n<ipython-input-19-3dbf9a062322>:3: FutureWarning: The frame.append method is deprecated and will be removed from pandas in a future version. Use pandas.concat instead.\n  df = df.append(highest_revenue_in_city)\n<ipython-input-19-3dbf9a062322>:3: FutureWarning: The frame.append method is deprecated and will be removed from pandas in a future version. Use pandas.concat instead.\n  df = df.append(highest_revenue_in_city)\n<ipython-input-19-3dbf9a062322>:3: FutureWarning: The frame.append method is deprecated and will be removed from pandas in a future version. Use pandas.concat instead.\n  df = df.append(highest_revenue_in_city)\n<ipython-input-19-3dbf9a062322>:3: FutureWarning: The frame.append method is deprecated and will be removed from pandas in a future version. Use pandas.concat instead.\n  df = df.append(highest_revenue_in_city)\n<ipython-input-19-3dbf9a062322>:3: FutureWarning: The frame.append method is deprecated and will be removed from pandas in a future version. Use pandas.concat instead.\n  df = df.append(highest_revenue_in_city)\n<ipython-input-19-3dbf9a062322>:3: FutureWarning: The frame.append method is deprecated and will be removed from pandas in a future version. Use pandas.concat instead.\n  df = df.append(highest_revenue_in_city)\n<ipython-input-19-3dbf9a062322>:3: FutureWarning: The frame.append method is deprecated and will be removed from pandas in a future version. Use pandas.concat instead.\n  df = df.append(highest_revenue_in_city)\n<ipython-input-19-3dbf9a062322>:3: FutureWarning: The frame.append method is deprecated and will be removed from pandas in a future version. Use pandas.concat instead.\n  df = df.append(highest_revenue_in_city)\n<ipython-input-19-3dbf9a062322>:3: FutureWarning: The frame.append method is deprecated and will be removed from pandas in a future version. Use pandas.concat instead.\n  df = df.append(highest_revenue_in_city)\n<ipython-input-19-3dbf9a062322>:3: FutureWarning: The frame.append method is deprecated and will be removed from pandas in a future version. Use pandas.concat instead.\n  df = df.append(highest_revenue_in_city)\n<ipython-input-19-3dbf9a062322>:3: FutureWarning: The frame.append method is deprecated and will be removed from pandas in a future version. Use pandas.concat instead.\n  df = df.append(highest_revenue_in_city)\n<ipython-input-19-3dbf9a062322>:3: FutureWarning: The frame.append method is deprecated and will be removed from pandas in a future version. Use pandas.concat instead.\n  df = df.append(highest_revenue_in_city)\n<ipython-input-19-3dbf9a062322>:3: FutureWarning: The frame.append method is deprecated and will be removed from pandas in a future version. Use pandas.concat instead.\n  df = df.append(highest_revenue_in_city)\n<ipython-input-19-3dbf9a062322>:3: FutureWarning: The frame.append method is deprecated and will be removed from pandas in a future version. Use pandas.concat instead.\n  df = df.append(highest_revenue_in_city)\n<ipython-input-19-3dbf9a062322>:3: FutureWarning: The frame.append method is deprecated and will be removed from pandas in a future version. Use pandas.concat instead.\n  df = df.append(highest_revenue_in_city)\n<ipython-input-19-3dbf9a062322>:3: FutureWarning: The frame.append method is deprecated and will be removed from pandas in a future version. Use pandas.concat instead.\n  df = df.append(highest_revenue_in_city)\n<ipython-input-19-3dbf9a062322>:3: FutureWarning: The frame.append method is deprecated and will be removed from pandas in a future version. Use pandas.concat instead.\n  df = df.append(highest_revenue_in_city)\n<ipython-input-19-3dbf9a062322>:3: FutureWarning: The frame.append method is deprecated and will be removed from pandas in a future version. Use pandas.concat instead.\n  df = df.append(highest_revenue_in_city)\n<ipython-input-19-3dbf9a062322>:3: FutureWarning: The frame.append method is deprecated and will be removed from pandas in a future version. Use pandas.concat instead.\n  df = df.append(highest_revenue_in_city)\n<ipython-input-19-3dbf9a062322>:3: FutureWarning: The frame.append method is deprecated and will be removed from pandas in a future version. Use pandas.concat instead.\n  df = df.append(highest_revenue_in_city)\n<ipython-input-19-3dbf9a062322>:3: FutureWarning: The frame.append method is deprecated and will be removed from pandas in a future version. Use pandas.concat instead.\n  df = df.append(highest_revenue_in_city)\n<ipython-input-19-3dbf9a062322>:3: FutureWarning: The frame.append method is deprecated and will be removed from pandas in a future version. Use pandas.concat instead.\n  df = df.append(highest_revenue_in_city)\n<ipython-input-19-3dbf9a062322>:3: FutureWarning: The frame.append method is deprecated and will be removed from pandas in a future version. Use pandas.concat instead.\n  df = df.append(highest_revenue_in_city)\n<ipython-input-19-3dbf9a062322>:3: FutureWarning: The frame.append method is deprecated and will be removed from pandas in a future version. Use pandas.concat instead.\n  df = df.append(highest_revenue_in_city)\n<ipython-input-19-3dbf9a062322>:3: FutureWarning: The frame.append method is deprecated and will be removed from pandas in a future version. Use pandas.concat instead.\n  df = df.append(highest_revenue_in_city)\n<ipython-input-19-3dbf9a062322>:3: FutureWarning: The frame.append method is deprecated and will be removed from pandas in a future version. Use pandas.concat instead.\n  df = df.append(highest_revenue_in_city)\n<ipython-input-19-3dbf9a062322>:3: FutureWarning: The frame.append method is deprecated and will be removed from pandas in a future version. Use pandas.concat instead.\n  df = df.append(highest_revenue_in_city)\n<ipython-input-19-3dbf9a062322>:3: FutureWarning: The frame.append method is deprecated and will be removed from pandas in a future version. Use pandas.concat instead.\n  df = df.append(highest_revenue_in_city)\n<ipython-input-19-3dbf9a062322>:3: FutureWarning: The frame.append method is deprecated and will be removed from pandas in a future version. Use pandas.concat instead.\n  df = df.append(highest_revenue_in_city)\n<ipython-input-19-3dbf9a062322>:3: FutureWarning: The frame.append method is deprecated and will be removed from pandas in a future version. Use pandas.concat instead.\n  df = df.append(highest_revenue_in_city)\n<ipython-input-19-3dbf9a062322>:3: FutureWarning: The frame.append method is deprecated and will be removed from pandas in a future version. Use pandas.concat instead.\n  df = df.append(highest_revenue_in_city)\n<ipython-input-19-3dbf9a062322>:3: FutureWarning: The frame.append method is deprecated and will be removed from pandas in a future version. Use pandas.concat instead.\n  df = df.append(highest_revenue_in_city)\n<ipython-input-19-3dbf9a062322>:3: FutureWarning: The frame.append method is deprecated and will be removed from pandas in a future version. Use pandas.concat instead.\n  df = df.append(highest_revenue_in_city)\n<ipython-input-19-3dbf9a062322>:3: FutureWarning: The frame.append method is deprecated and will be removed from pandas in a future version. Use pandas.concat instead.\n  df = df.append(highest_revenue_in_city)\n<ipython-input-19-3dbf9a062322>:3: FutureWarning: The frame.append method is deprecated and will be removed from pandas in a future version. Use pandas.concat instead.\n  df = df.append(highest_revenue_in_city)\n<ipython-input-19-3dbf9a062322>:3: FutureWarning: The frame.append method is deprecated and will be removed from pandas in a future version. Use pandas.concat instead.\n  df = df.append(highest_revenue_in_city)\n<ipython-input-19-3dbf9a062322>:3: FutureWarning: The frame.append method is deprecated and will be removed from pandas in a future version. Use pandas.concat instead.\n  df = df.append(highest_revenue_in_city)\n<ipython-input-19-3dbf9a062322>:3: FutureWarning: The frame.append method is deprecated and will be removed from pandas in a future version. Use pandas.concat instead.\n  df = df.append(highest_revenue_in_city)\n<ipython-input-19-3dbf9a062322>:3: FutureWarning: The frame.append method is deprecated and will be removed from pandas in a future version. Use pandas.concat instead.\n  df = df.append(highest_revenue_in_city)\n<ipython-input-19-3dbf9a062322>:3: FutureWarning: The frame.append method is deprecated and will be removed from pandas in a future version. Use pandas.concat instead.\n  df = df.append(highest_revenue_in_city)\n<ipython-input-19-3dbf9a062322>:3: FutureWarning: The frame.append method is deprecated and will be removed from pandas in a future version. Use pandas.concat instead.\n  df = df.append(highest_revenue_in_city)\n<ipython-input-19-3dbf9a062322>:3: FutureWarning: The frame.append method is deprecated and will be removed from pandas in a future version. Use pandas.concat instead.\n  df = df.append(highest_revenue_in_city)\n<ipython-input-19-3dbf9a062322>:3: FutureWarning: The frame.append method is deprecated and will be removed from pandas in a future version. Use pandas.concat instead.\n  df = df.append(highest_revenue_in_city)\n<ipython-input-19-3dbf9a062322>:3: FutureWarning: The frame.append method is deprecated and will be removed from pandas in a future version. Use pandas.concat instead.\n  df = df.append(highest_revenue_in_city)\n<ipython-input-19-3dbf9a062322>:3: FutureWarning: The frame.append method is deprecated and will be removed from pandas in a future version. Use pandas.concat instead.\n  df = df.append(highest_revenue_in_city)\n<ipython-input-19-3dbf9a062322>:3: FutureWarning: The frame.append method is deprecated and will be removed from pandas in a future version. Use pandas.concat instead.\n  df = df.append(highest_revenue_in_city)\n<ipython-input-19-3dbf9a062322>:3: FutureWarning: The frame.append method is deprecated and will be removed from pandas in a future version. Use pandas.concat instead.\n  df = df.append(highest_revenue_in_city)\n<ipython-input-19-3dbf9a062322>:3: FutureWarning: The frame.append method is deprecated and will be removed from pandas in a future version. Use pandas.concat instead.\n  df = df.append(highest_revenue_in_city)\n<ipython-input-19-3dbf9a062322>:3: FutureWarning: The frame.append method is deprecated and will be removed from pandas in a future version. Use pandas.concat instead.\n  df = df.append(highest_revenue_in_city)\n<ipython-input-19-3dbf9a062322>:3: FutureWarning: The frame.append method is deprecated and will be removed from pandas in a future version. Use pandas.concat instead.\n  df = df.append(highest_revenue_in_city)\n<ipython-input-19-3dbf9a062322>:3: FutureWarning: The frame.append method is deprecated and will be removed from pandas in a future version. Use pandas.concat instead.\n  df = df.append(highest_revenue_in_city)\n<ipython-input-19-3dbf9a062322>:3: FutureWarning: The frame.append method is deprecated and will be removed from pandas in a future version. Use pandas.concat instead.\n  df = df.append(highest_revenue_in_city)\n<ipython-input-19-3dbf9a062322>:3: FutureWarning: The frame.append method is deprecated and will be removed from pandas in a future version. Use pandas.concat instead.\n  df = df.append(highest_revenue_in_city)\n<ipython-input-19-3dbf9a062322>:3: FutureWarning: The frame.append method is deprecated and will be removed from pandas in a future version. Use pandas.concat instead.\n  df = df.append(highest_revenue_in_city)\n<ipython-input-19-3dbf9a062322>:3: FutureWarning: The frame.append method is deprecated and will be removed from pandas in a future version. Use pandas.concat instead.\n  df = df.append(highest_revenue_in_city)\n<ipython-input-19-3dbf9a062322>:3: FutureWarning: The frame.append method is deprecated and will be removed from pandas in a future version. Use pandas.concat instead.\n  df = df.append(highest_revenue_in_city)\n<ipython-input-19-3dbf9a062322>:3: FutureWarning: The frame.append method is deprecated and will be removed from pandas in a future version. Use pandas.concat instead.\n  df = df.append(highest_revenue_in_city)\n<ipython-input-19-3dbf9a062322>:3: FutureWarning: The frame.append method is deprecated and will be removed from pandas in a future version. Use pandas.concat instead.\n  df = df.append(highest_revenue_in_city)\n<ipython-input-19-3dbf9a062322>:3: FutureWarning: The frame.append method is deprecated and will be removed from pandas in a future version. Use pandas.concat instead.\n  df = df.append(highest_revenue_in_city)\n<ipython-input-19-3dbf9a062322>:3: FutureWarning: The frame.append method is deprecated and will be removed from pandas in a future version. Use pandas.concat instead.\n  df = df.append(highest_revenue_in_city)\n<ipython-input-19-3dbf9a062322>:3: FutureWarning: The frame.append method is deprecated and will be removed from pandas in a future version. Use pandas.concat instead.\n  df = df.append(highest_revenue_in_city)\n<ipython-input-19-3dbf9a062322>:3: FutureWarning: The frame.append method is deprecated and will be removed from pandas in a future version. Use pandas.concat instead.\n  df = df.append(highest_revenue_in_city)\n<ipython-input-19-3dbf9a062322>:3: FutureWarning: The frame.append method is deprecated and will be removed from pandas in a future version. Use pandas.concat instead.\n  df = df.append(highest_revenue_in_city)\n<ipython-input-19-3dbf9a062322>:3: FutureWarning: The frame.append method is deprecated and will be removed from pandas in a future version. Use pandas.concat instead.\n  df = df.append(highest_revenue_in_city)\n<ipython-input-19-3dbf9a062322>:3: FutureWarning: The frame.append method is deprecated and will be removed from pandas in a future version. Use pandas.concat instead.\n  df = df.append(highest_revenue_in_city)\n<ipython-input-19-3dbf9a062322>:3: FutureWarning: The frame.append method is deprecated and will be removed from pandas in a future version. Use pandas.concat instead.\n  df = df.append(highest_revenue_in_city)\n<ipython-input-19-3dbf9a062322>:3: FutureWarning: The frame.append method is deprecated and will be removed from pandas in a future version. Use pandas.concat instead.\n  df = df.append(highest_revenue_in_city)\n<ipython-input-19-3dbf9a062322>:3: FutureWarning: The frame.append method is deprecated and will be removed from pandas in a future version. Use pandas.concat instead.\n  df = df.append(highest_revenue_in_city)\n<ipython-input-19-3dbf9a062322>:3: FutureWarning: The frame.append method is deprecated and will be removed from pandas in a future version. Use pandas.concat instead.\n  df = df.append(highest_revenue_in_city)\n<ipython-input-19-3dbf9a062322>:3: FutureWarning: The frame.append method is deprecated and will be removed from pandas in a future version. Use pandas.concat instead.\n  df = df.append(highest_revenue_in_city)\n<ipython-input-19-3dbf9a062322>:3: FutureWarning: The frame.append method is deprecated and will be removed from pandas in a future version. Use pandas.concat instead.\n  df = df.append(highest_revenue_in_city)\n<ipython-input-19-3dbf9a062322>:3: FutureWarning: The frame.append method is deprecated and will be removed from pandas in a future version. Use pandas.concat instead.\n  df = df.append(highest_revenue_in_city)\n<ipython-input-19-3dbf9a062322>:3: FutureWarning: The frame.append method is deprecated and will be removed from pandas in a future version. Use pandas.concat instead.\n  df = df.append(highest_revenue_in_city)\n<ipython-input-19-3dbf9a062322>:3: FutureWarning: The frame.append method is deprecated and will be removed from pandas in a future version. Use pandas.concat instead.\n  df = df.append(highest_revenue_in_city)\n<ipython-input-19-3dbf9a062322>:3: FutureWarning: The frame.append method is deprecated and will be removed from pandas in a future version. Use pandas.concat instead.\n  df = df.append(highest_revenue_in_city)\n<ipython-input-19-3dbf9a062322>:3: FutureWarning: The frame.append method is deprecated and will be removed from pandas in a future version. Use pandas.concat instead.\n  df = df.append(highest_revenue_in_city)\n<ipython-input-19-3dbf9a062322>:3: FutureWarning: The frame.append method is deprecated and will be removed from pandas in a future version. Use pandas.concat instead.\n  df = df.append(highest_revenue_in_city)\n<ipython-input-19-3dbf9a062322>:3: FutureWarning: The frame.append method is deprecated and will be removed from pandas in a future version. Use pandas.concat instead.\n  df = df.append(highest_revenue_in_city)\n<ipython-input-19-3dbf9a062322>:3: FutureWarning: The frame.append method is deprecated and will be removed from pandas in a future version. Use pandas.concat instead.\n  df = df.append(highest_revenue_in_city)\n<ipython-input-19-3dbf9a062322>:3: FutureWarning: The frame.append method is deprecated and will be removed from pandas in a future version. Use pandas.concat instead.\n  df = df.append(highest_revenue_in_city)\n<ipython-input-19-3dbf9a062322>:3: FutureWarning: The frame.append method is deprecated and will be removed from pandas in a future version. Use pandas.concat instead.\n  df = df.append(highest_revenue_in_city)\n<ipython-input-19-3dbf9a062322>:3: FutureWarning: The frame.append method is deprecated and will be removed from pandas in a future version. Use pandas.concat instead.\n  df = df.append(highest_revenue_in_city)\n<ipython-input-19-3dbf9a062322>:3: FutureWarning: The frame.append method is deprecated and will be removed from pandas in a future version. Use pandas.concat instead.\n  df = df.append(highest_revenue_in_city)\n<ipython-input-19-3dbf9a062322>:3: FutureWarning: The frame.append method is deprecated and will be removed from pandas in a future version. Use pandas.concat instead.\n  df = df.append(highest_revenue_in_city)\n<ipython-input-19-3dbf9a062322>:3: FutureWarning: The frame.append method is deprecated and will be removed from pandas in a future version. Use pandas.concat instead.\n  df = df.append(highest_revenue_in_city)\n<ipython-input-19-3dbf9a062322>:3: FutureWarning: The frame.append method is deprecated and will be removed from pandas in a future version. Use pandas.concat instead.\n  df = df.append(highest_revenue_in_city)\n<ipython-input-19-3dbf9a062322>:3: FutureWarning: The frame.append method is deprecated and will be removed from pandas in a future version. Use pandas.concat instead.\n  df = df.append(highest_revenue_in_city)\n<ipython-input-19-3dbf9a062322>:3: FutureWarning: The frame.append method is deprecated and will be removed from pandas in a future version. Use pandas.concat instead.\n  df = df.append(highest_revenue_in_city)\n<ipython-input-19-3dbf9a062322>:3: FutureWarning: The frame.append method is deprecated and will be removed from pandas in a future version. Use pandas.concat instead.\n  df = df.append(highest_revenue_in_city)\n<ipython-input-19-3dbf9a062322>:3: FutureWarning: The frame.append method is deprecated and will be removed from pandas in a future version. Use pandas.concat instead.\n  df = df.append(highest_revenue_in_city)\n<ipython-input-19-3dbf9a062322>:3: FutureWarning: The frame.append method is deprecated and will be removed from pandas in a future version. Use pandas.concat instead.\n  df = df.append(highest_revenue_in_city)\n<ipython-input-19-3dbf9a062322>:3: FutureWarning: The frame.append method is deprecated and will be removed from pandas in a future version. Use pandas.concat instead.\n  df = df.append(highest_revenue_in_city)\n<ipython-input-19-3dbf9a062322>:3: FutureWarning: The frame.append method is deprecated and will be removed from pandas in a future version. Use pandas.concat instead.\n  df = df.append(highest_revenue_in_city)\n<ipython-input-19-3dbf9a062322>:3: FutureWarning: The frame.append method is deprecated and will be removed from pandas in a future version. Use pandas.concat instead.\n  df = df.append(highest_revenue_in_city)\n<ipython-input-19-3dbf9a062322>:3: FutureWarning: The frame.append method is deprecated and will be removed from pandas in a future version. Use pandas.concat instead.\n  df = df.append(highest_revenue_in_city)\n<ipython-input-19-3dbf9a062322>:3: FutureWarning: The frame.append method is deprecated and will be removed from pandas in a future version. Use pandas.concat instead.\n  df = df.append(highest_revenue_in_city)\n<ipython-input-19-3dbf9a062322>:3: FutureWarning: The frame.append method is deprecated and will be removed from pandas in a future version. Use pandas.concat instead.\n  df = df.append(highest_revenue_in_city)\n<ipython-input-19-3dbf9a062322>:3: FutureWarning: The frame.append method is deprecated and will be removed from pandas in a future version. Use pandas.concat instead.\n  df = df.append(highest_revenue_in_city)\n<ipython-input-19-3dbf9a062322>:3: FutureWarning: The frame.append method is deprecated and will be removed from pandas in a future version. Use pandas.concat instead.\n  df = df.append(highest_revenue_in_city)\n<ipython-input-19-3dbf9a062322>:3: FutureWarning: The frame.append method is deprecated and will be removed from pandas in a future version. Use pandas.concat instead.\n  df = df.append(highest_revenue_in_city)\n<ipython-input-19-3dbf9a062322>:3: FutureWarning: The frame.append method is deprecated and will be removed from pandas in a future version. Use pandas.concat instead.\n  df = df.append(highest_revenue_in_city)\n<ipython-input-19-3dbf9a062322>:3: FutureWarning: The frame.append method is deprecated and will be removed from pandas in a future version. Use pandas.concat instead.\n  df = df.append(highest_revenue_in_city)\n<ipython-input-19-3dbf9a062322>:3: FutureWarning: The frame.append method is deprecated and will be removed from pandas in a future version. Use pandas.concat instead.\n  df = df.append(highest_revenue_in_city)\n<ipython-input-19-3dbf9a062322>:3: FutureWarning: The frame.append method is deprecated and will be removed from pandas in a future version. Use pandas.concat instead.\n  df = df.append(highest_revenue_in_city)\n<ipython-input-19-3dbf9a062322>:3: FutureWarning: The frame.append method is deprecated and will be removed from pandas in a future version. Use pandas.concat instead.\n  df = df.append(highest_revenue_in_city)\n<ipython-input-19-3dbf9a062322>:3: FutureWarning: The frame.append method is deprecated and will be removed from pandas in a future version. Use pandas.concat instead.\n  df = df.append(highest_revenue_in_city)\n<ipython-input-19-3dbf9a062322>:3: FutureWarning: The frame.append method is deprecated and will be removed from pandas in a future version. Use pandas.concat instead.\n  df = df.append(highest_revenue_in_city)\n<ipython-input-19-3dbf9a062322>:3: FutureWarning: The frame.append method is deprecated and will be removed from pandas in a future version. Use pandas.concat instead.\n  df = df.append(highest_revenue_in_city)\n<ipython-input-19-3dbf9a062322>:3: FutureWarning: The frame.append method is deprecated and will be removed from pandas in a future version. Use pandas.concat instead.\n  df = df.append(highest_revenue_in_city)\n<ipython-input-19-3dbf9a062322>:3: FutureWarning: The frame.append method is deprecated and will be removed from pandas in a future version. Use pandas.concat instead.\n  df = df.append(highest_revenue_in_city)\n<ipython-input-19-3dbf9a062322>:3: FutureWarning: The frame.append method is deprecated and will be removed from pandas in a future version. Use pandas.concat instead.\n  df = df.append(highest_revenue_in_city)\n<ipython-input-19-3dbf9a062322>:3: FutureWarning: The frame.append method is deprecated and will be removed from pandas in a future version. Use pandas.concat instead.\n  df = df.append(highest_revenue_in_city)\n<ipython-input-19-3dbf9a062322>:3: FutureWarning: The frame.append method is deprecated and will be removed from pandas in a future version. Use pandas.concat instead.\n  df = df.append(highest_revenue_in_city)\n<ipython-input-19-3dbf9a062322>:3: FutureWarning: The frame.append method is deprecated and will be removed from pandas in a future version. Use pandas.concat instead.\n  df = df.append(highest_revenue_in_city)\n<ipython-input-19-3dbf9a062322>:3: FutureWarning: The frame.append method is deprecated and will be removed from pandas in a future version. Use pandas.concat instead.\n  df = df.append(highest_revenue_in_city)\n<ipython-input-19-3dbf9a062322>:3: FutureWarning: The frame.append method is deprecated and will be removed from pandas in a future version. Use pandas.concat instead.\n  df = df.append(highest_revenue_in_city)\n<ipython-input-19-3dbf9a062322>:3: FutureWarning: The frame.append method is deprecated and will be removed from pandas in a future version. Use pandas.concat instead.\n  df = df.append(highest_revenue_in_city)\n<ipython-input-19-3dbf9a062322>:3: FutureWarning: The frame.append method is deprecated and will be removed from pandas in a future version. Use pandas.concat instead.\n  df = df.append(highest_revenue_in_city)\n<ipython-input-19-3dbf9a062322>:3: FutureWarning: The frame.append method is deprecated and will be removed from pandas in a future version. Use pandas.concat instead.\n  df = df.append(highest_revenue_in_city)\n<ipython-input-19-3dbf9a062322>:3: FutureWarning: The frame.append method is deprecated and will be removed from pandas in a future version. Use pandas.concat instead.\n  df = df.append(highest_revenue_in_city)\n<ipython-input-19-3dbf9a062322>:3: FutureWarning: The frame.append method is deprecated and will be removed from pandas in a future version. Use pandas.concat instead.\n  df = df.append(highest_revenue_in_city)\n<ipython-input-19-3dbf9a062322>:3: FutureWarning: The frame.append method is deprecated and will be removed from pandas in a future version. Use pandas.concat instead.\n  df = df.append(highest_revenue_in_city)\n<ipython-input-19-3dbf9a062322>:3: FutureWarning: The frame.append method is deprecated and will be removed from pandas in a future version. Use pandas.concat instead.\n  df = df.append(highest_revenue_in_city)\n<ipython-input-19-3dbf9a062322>:3: FutureWarning: The frame.append method is deprecated and will be removed from pandas in a future version. Use pandas.concat instead.\n  df = df.append(highest_revenue_in_city)\n<ipython-input-19-3dbf9a062322>:3: FutureWarning: The frame.append method is deprecated and will be removed from pandas in a future version. Use pandas.concat instead.\n  df = df.append(highest_revenue_in_city)\n<ipython-input-19-3dbf9a062322>:3: FutureWarning: The frame.append method is deprecated and will be removed from pandas in a future version. Use pandas.concat instead.\n  df = df.append(highest_revenue_in_city)\n<ipython-input-19-3dbf9a062322>:3: FutureWarning: The frame.append method is deprecated and will be removed from pandas in a future version. Use pandas.concat instead.\n  df = df.append(highest_revenue_in_city)\n<ipython-input-19-3dbf9a062322>:3: FutureWarning: The frame.append method is deprecated and will be removed from pandas in a future version. Use pandas.concat instead.\n  df = df.append(highest_revenue_in_city)\n<ipython-input-19-3dbf9a062322>:3: FutureWarning: The frame.append method is deprecated and will be removed from pandas in a future version. Use pandas.concat instead.\n  df = df.append(highest_revenue_in_city)\n<ipython-input-19-3dbf9a062322>:3: FutureWarning: The frame.append method is deprecated and will be removed from pandas in a future version. Use pandas.concat instead.\n  df = df.append(highest_revenue_in_city)\n<ipython-input-19-3dbf9a062322>:3: FutureWarning: The frame.append method is deprecated and will be removed from pandas in a future version. Use pandas.concat instead.\n  df = df.append(highest_revenue_in_city)\n<ipython-input-19-3dbf9a062322>:3: FutureWarning: The frame.append method is deprecated and will be removed from pandas in a future version. Use pandas.concat instead.\n  df = df.append(highest_revenue_in_city)\n<ipython-input-19-3dbf9a062322>:3: FutureWarning: The frame.append method is deprecated and will be removed from pandas in a future version. Use pandas.concat instead.\n  df = df.append(highest_revenue_in_city)\n<ipython-input-19-3dbf9a062322>:3: FutureWarning: The frame.append method is deprecated and will be removed from pandas in a future version. Use pandas.concat instead.\n  df = df.append(highest_revenue_in_city)\n<ipython-input-19-3dbf9a062322>:3: FutureWarning: The frame.append method is deprecated and will be removed from pandas in a future version. Use pandas.concat instead.\n  df = df.append(highest_revenue_in_city)\n<ipython-input-19-3dbf9a062322>:3: FutureWarning: The frame.append method is deprecated and will be removed from pandas in a future version. Use pandas.concat instead.\n  df = df.append(highest_revenue_in_city)\n<ipython-input-19-3dbf9a062322>:3: FutureWarning: The frame.append method is deprecated and will be removed from pandas in a future version. Use pandas.concat instead.\n  df = df.append(highest_revenue_in_city)\n<ipython-input-19-3dbf9a062322>:3: FutureWarning: The frame.append method is deprecated and will be removed from pandas in a future version. Use pandas.concat instead.\n  df = df.append(highest_revenue_in_city)\n<ipython-input-19-3dbf9a062322>:3: FutureWarning: The frame.append method is deprecated and will be removed from pandas in a future version. Use pandas.concat instead.\n  df = df.append(highest_revenue_in_city)\n<ipython-input-19-3dbf9a062322>:3: FutureWarning: The frame.append method is deprecated and will be removed from pandas in a future version. Use pandas.concat instead.\n  df = df.append(highest_revenue_in_city)\n<ipython-input-19-3dbf9a062322>:3: FutureWarning: The frame.append method is deprecated and will be removed from pandas in a future version. Use pandas.concat instead.\n  df = df.append(highest_revenue_in_city)\n<ipython-input-19-3dbf9a062322>:3: FutureWarning: The frame.append method is deprecated and will be removed from pandas in a future version. Use pandas.concat instead.\n  df = df.append(highest_revenue_in_city)\n<ipython-input-19-3dbf9a062322>:3: FutureWarning: The frame.append method is deprecated and will be removed from pandas in a future version. Use pandas.concat instead.\n  df = df.append(highest_revenue_in_city)\n<ipython-input-19-3dbf9a062322>:3: FutureWarning: The frame.append method is deprecated and will be removed from pandas in a future version. Use pandas.concat instead.\n  df = df.append(highest_revenue_in_city)\n<ipython-input-19-3dbf9a062322>:3: FutureWarning: The frame.append method is deprecated and will be removed from pandas in a future version. Use pandas.concat instead.\n  df = df.append(highest_revenue_in_city)\n<ipython-input-19-3dbf9a062322>:3: FutureWarning: The frame.append method is deprecated and will be removed from pandas in a future version. Use pandas.concat instead.\n  df = df.append(highest_revenue_in_city)\n<ipython-input-19-3dbf9a062322>:3: FutureWarning: The frame.append method is deprecated and will be removed from pandas in a future version. Use pandas.concat instead.\n  df = df.append(highest_revenue_in_city)\n<ipython-input-19-3dbf9a062322>:3: FutureWarning: The frame.append method is deprecated and will be removed from pandas in a future version. Use pandas.concat instead.\n  df = df.append(highest_revenue_in_city)\n<ipython-input-19-3dbf9a062322>:3: FutureWarning: The frame.append method is deprecated and will be removed from pandas in a future version. Use pandas.concat instead.\n  df = df.append(highest_revenue_in_city)\n<ipython-input-19-3dbf9a062322>:3: FutureWarning: The frame.append method is deprecated and will be removed from pandas in a future version. Use pandas.concat instead.\n  df = df.append(highest_revenue_in_city)\n<ipython-input-19-3dbf9a062322>:3: FutureWarning: The frame.append method is deprecated and will be removed from pandas in a future version. Use pandas.concat instead.\n  df = df.append(highest_revenue_in_city)\n<ipython-input-19-3dbf9a062322>:3: FutureWarning: The frame.append method is deprecated and will be removed from pandas in a future version. Use pandas.concat instead.\n  df = df.append(highest_revenue_in_city)\n<ipython-input-19-3dbf9a062322>:3: FutureWarning: The frame.append method is deprecated and will be removed from pandas in a future version. Use pandas.concat instead.\n  df = df.append(highest_revenue_in_city)\n<ipython-input-19-3dbf9a062322>:3: FutureWarning: The frame.append method is deprecated and will be removed from pandas in a future version. Use pandas.concat instead.\n  df = df.append(highest_revenue_in_city)\n<ipython-input-19-3dbf9a062322>:3: FutureWarning: The frame.append method is deprecated and will be removed from pandas in a future version. Use pandas.concat instead.\n  df = df.append(highest_revenue_in_city)\n<ipython-input-19-3dbf9a062322>:3: FutureWarning: The frame.append method is deprecated and will be removed from pandas in a future version. Use pandas.concat instead.\n  df = df.append(highest_revenue_in_city)\n<ipython-input-19-3dbf9a062322>:3: FutureWarning: The frame.append method is deprecated and will be removed from pandas in a future version. Use pandas.concat instead.\n  df = df.append(highest_revenue_in_city)\n<ipython-input-19-3dbf9a062322>:3: FutureWarning: The frame.append method is deprecated and will be removed from pandas in a future version. Use pandas.concat instead.\n  df = df.append(highest_revenue_in_city)\n<ipython-input-19-3dbf9a062322>:3: FutureWarning: The frame.append method is deprecated and will be removed from pandas in a future version. Use pandas.concat instead.\n  df = df.append(highest_revenue_in_city)\n<ipython-input-19-3dbf9a062322>:3: FutureWarning: The frame.append method is deprecated and will be removed from pandas in a future version. Use pandas.concat instead.\n  df = df.append(highest_revenue_in_city)\n<ipython-input-19-3dbf9a062322>:3: FutureWarning: The frame.append method is deprecated and will be removed from pandas in a future version. Use pandas.concat instead.\n  df = df.append(highest_revenue_in_city)\n<ipython-input-19-3dbf9a062322>:3: FutureWarning: The frame.append method is deprecated and will be removed from pandas in a future version. Use pandas.concat instead.\n  df = df.append(highest_revenue_in_city)\n<ipython-input-19-3dbf9a062322>:3: FutureWarning: The frame.append method is deprecated and will be removed from pandas in a future version. Use pandas.concat instead.\n  df = df.append(highest_revenue_in_city)\n<ipython-input-19-3dbf9a062322>:3: FutureWarning: The frame.append method is deprecated and will be removed from pandas in a future version. Use pandas.concat instead.\n  df = df.append(highest_revenue_in_city)\n<ipython-input-19-3dbf9a062322>:3: FutureWarning: The frame.append method is deprecated and will be removed from pandas in a future version. Use pandas.concat instead.\n  df = df.append(highest_revenue_in_city)\n<ipython-input-19-3dbf9a062322>:3: FutureWarning: The frame.append method is deprecated and will be removed from pandas in a future version. Use pandas.concat instead.\n  df = df.append(highest_revenue_in_city)\n<ipython-input-19-3dbf9a062322>:3: FutureWarning: The frame.append method is deprecated and will be removed from pandas in a future version. Use pandas.concat instead.\n  df = df.append(highest_revenue_in_city)\n<ipython-input-19-3dbf9a062322>:3: FutureWarning: The frame.append method is deprecated and will be removed from pandas in a future version. Use pandas.concat instead.\n  df = df.append(highest_revenue_in_city)\n<ipython-input-19-3dbf9a062322>:3: FutureWarning: The frame.append method is deprecated and will be removed from pandas in a future version. Use pandas.concat instead.\n  df = df.append(highest_revenue_in_city)\n<ipython-input-19-3dbf9a062322>:3: FutureWarning: The frame.append method is deprecated and will be removed from pandas in a future version. Use pandas.concat instead.\n  df = df.append(highest_revenue_in_city)\n<ipython-input-19-3dbf9a062322>:3: FutureWarning: The frame.append method is deprecated and will be removed from pandas in a future version. Use pandas.concat instead.\n  df = df.append(highest_revenue_in_city)\n<ipython-input-19-3dbf9a062322>:3: FutureWarning: The frame.append method is deprecated and will be removed from pandas in a future version. Use pandas.concat instead.\n  df = df.append(highest_revenue_in_city)\n<ipython-input-19-3dbf9a062322>:3: FutureWarning: The frame.append method is deprecated and will be removed from pandas in a future version. Use pandas.concat instead.\n  df = df.append(highest_revenue_in_city)\n<ipython-input-19-3dbf9a062322>:3: FutureWarning: The frame.append method is deprecated and will be removed from pandas in a future version. Use pandas.concat instead.\n  df = df.append(highest_revenue_in_city)\n<ipython-input-19-3dbf9a062322>:3: FutureWarning: The frame.append method is deprecated and will be removed from pandas in a future version. Use pandas.concat instead.\n  df = df.append(highest_revenue_in_city)\n<ipython-input-19-3dbf9a062322>:3: FutureWarning: The frame.append method is deprecated and will be removed from pandas in a future version. Use pandas.concat instead.\n  df = df.append(highest_revenue_in_city)\n<ipython-input-19-3dbf9a062322>:3: FutureWarning: The frame.append method is deprecated and will be removed from pandas in a future version. Use pandas.concat instead.\n  df = df.append(highest_revenue_in_city)\n<ipython-input-19-3dbf9a062322>:3: FutureWarning: The frame.append method is deprecated and will be removed from pandas in a future version. Use pandas.concat instead.\n  df = df.append(highest_revenue_in_city)\n<ipython-input-19-3dbf9a062322>:3: FutureWarning: The frame.append method is deprecated and will be removed from pandas in a future version. Use pandas.concat instead.\n  df = df.append(highest_revenue_in_city)\n<ipython-input-19-3dbf9a062322>:3: FutureWarning: The frame.append method is deprecated and will be removed from pandas in a future version. Use pandas.concat instead.\n  df = df.append(highest_revenue_in_city)\n<ipython-input-19-3dbf9a062322>:3: FutureWarning: The frame.append method is deprecated and will be removed from pandas in a future version. Use pandas.concat instead.\n  df = df.append(highest_revenue_in_city)\n<ipython-input-19-3dbf9a062322>:3: FutureWarning: The frame.append method is deprecated and will be removed from pandas in a future version. Use pandas.concat instead.\n  df = df.append(highest_revenue_in_city)\n<ipython-input-19-3dbf9a062322>:3: FutureWarning: The frame.append method is deprecated and will be removed from pandas in a future version. Use pandas.concat instead.\n  df = df.append(highest_revenue_in_city)\n<ipython-input-19-3dbf9a062322>:3: FutureWarning: The frame.append method is deprecated and will be removed from pandas in a future version. Use pandas.concat instead.\n  df = df.append(highest_revenue_in_city)\n<ipython-input-19-3dbf9a062322>:3: FutureWarning: The frame.append method is deprecated and will be removed from pandas in a future version. Use pandas.concat instead.\n  df = df.append(highest_revenue_in_city)\n<ipython-input-19-3dbf9a062322>:3: FutureWarning: The frame.append method is deprecated and will be removed from pandas in a future version. Use pandas.concat instead.\n  df = df.append(highest_revenue_in_city)\n<ipython-input-19-3dbf9a062322>:3: FutureWarning: The frame.append method is deprecated and will be removed from pandas in a future version. Use pandas.concat instead.\n  df = df.append(highest_revenue_in_city)\n<ipython-input-19-3dbf9a062322>:3: FutureWarning: The frame.append method is deprecated and will be removed from pandas in a future version. Use pandas.concat instead.\n  df = df.append(highest_revenue_in_city)\n<ipython-input-19-3dbf9a062322>:3: FutureWarning: The frame.append method is deprecated and will be removed from pandas in a future version. Use pandas.concat instead.\n  df = df.append(highest_revenue_in_city)\n<ipython-input-19-3dbf9a062322>:3: FutureWarning: The frame.append method is deprecated and will be removed from pandas in a future version. Use pandas.concat instead.\n  df = df.append(highest_revenue_in_city)\n<ipython-input-19-3dbf9a062322>:3: FutureWarning: The frame.append method is deprecated and will be removed from pandas in a future version. Use pandas.concat instead.\n  df = df.append(highest_revenue_in_city)\n<ipython-input-19-3dbf9a062322>:3: FutureWarning: The frame.append method is deprecated and will be removed from pandas in a future version. Use pandas.concat instead.\n  df = df.append(highest_revenue_in_city)\n<ipython-input-19-3dbf9a062322>:3: FutureWarning: The frame.append method is deprecated and will be removed from pandas in a future version. Use pandas.concat instead.\n  df = df.append(highest_revenue_in_city)\n<ipython-input-19-3dbf9a062322>:3: FutureWarning: The frame.append method is deprecated and will be removed from pandas in a future version. Use pandas.concat instead.\n  df = df.append(highest_revenue_in_city)\n<ipython-input-19-3dbf9a062322>:3: FutureWarning: The frame.append method is deprecated and will be removed from pandas in a future version. Use pandas.concat instead.\n  df = df.append(highest_revenue_in_city)\n<ipython-input-19-3dbf9a062322>:3: FutureWarning: The frame.append method is deprecated and will be removed from pandas in a future version. Use pandas.concat instead.\n  df = df.append(highest_revenue_in_city)\n<ipython-input-19-3dbf9a062322>:3: FutureWarning: The frame.append method is deprecated and will be removed from pandas in a future version. Use pandas.concat instead.\n  df = df.append(highest_revenue_in_city)\n<ipython-input-19-3dbf9a062322>:3: FutureWarning: The frame.append method is deprecated and will be removed from pandas in a future version. Use pandas.concat instead.\n  df = df.append(highest_revenue_in_city)\n<ipython-input-19-3dbf9a062322>:3: FutureWarning: The frame.append method is deprecated and will be removed from pandas in a future version. Use pandas.concat instead.\n  df = df.append(highest_revenue_in_city)\n<ipython-input-19-3dbf9a062322>:3: FutureWarning: The frame.append method is deprecated and will be removed from pandas in a future version. Use pandas.concat instead.\n  df = df.append(highest_revenue_in_city)\n<ipython-input-19-3dbf9a062322>:3: FutureWarning: The frame.append method is deprecated and will be removed from pandas in a future version. Use pandas.concat instead.\n  df = df.append(highest_revenue_in_city)\n<ipython-input-19-3dbf9a062322>:3: FutureWarning: The frame.append method is deprecated and will be removed from pandas in a future version. Use pandas.concat instead.\n  df = df.append(highest_revenue_in_city)\n<ipython-input-19-3dbf9a062322>:3: FutureWarning: The frame.append method is deprecated and will be removed from pandas in a future version. Use pandas.concat instead.\n  df = df.append(highest_revenue_in_city)\n<ipython-input-19-3dbf9a062322>:3: FutureWarning: The frame.append method is deprecated and will be removed from pandas in a future version. Use pandas.concat instead.\n  df = df.append(highest_revenue_in_city)\n<ipython-input-19-3dbf9a062322>:3: FutureWarning: The frame.append method is deprecated and will be removed from pandas in a future version. Use pandas.concat instead.\n  df = df.append(highest_revenue_in_city)\n<ipython-input-19-3dbf9a062322>:3: FutureWarning: The frame.append method is deprecated and will be removed from pandas in a future version. Use pandas.concat instead.\n  df = df.append(highest_revenue_in_city)\n<ipython-input-19-3dbf9a062322>:3: FutureWarning: The frame.append method is deprecated and will be removed from pandas in a future version. Use pandas.concat instead.\n  df = df.append(highest_revenue_in_city)\n<ipython-input-19-3dbf9a062322>:3: FutureWarning: The frame.append method is deprecated and will be removed from pandas in a future version. Use pandas.concat instead.\n  df = df.append(highest_revenue_in_city)\n<ipython-input-19-3dbf9a062322>:3: FutureWarning: The frame.append method is deprecated and will be removed from pandas in a future version. Use pandas.concat instead.\n  df = df.append(highest_revenue_in_city)\n<ipython-input-19-3dbf9a062322>:3: FutureWarning: The frame.append method is deprecated and will be removed from pandas in a future version. Use pandas.concat instead.\n  df = df.append(highest_revenue_in_city)\n<ipython-input-19-3dbf9a062322>:3: FutureWarning: The frame.append method is deprecated and will be removed from pandas in a future version. Use pandas.concat instead.\n  df = df.append(highest_revenue_in_city)\n<ipython-input-19-3dbf9a062322>:3: FutureWarning: The frame.append method is deprecated and will be removed from pandas in a future version. Use pandas.concat instead.\n  df = df.append(highest_revenue_in_city)\n<ipython-input-19-3dbf9a062322>:3: FutureWarning: The frame.append method is deprecated and will be removed from pandas in a future version. Use pandas.concat instead.\n  df = df.append(highest_revenue_in_city)\n<ipython-input-19-3dbf9a062322>:3: FutureWarning: The frame.append method is deprecated and will be removed from pandas in a future version. Use pandas.concat instead.\n  df = df.append(highest_revenue_in_city)\n<ipython-input-19-3dbf9a062322>:3: FutureWarning: The frame.append method is deprecated and will be removed from pandas in a future version. Use pandas.concat instead.\n  df = df.append(highest_revenue_in_city)\n<ipython-input-19-3dbf9a062322>:3: FutureWarning: The frame.append method is deprecated and will be removed from pandas in a future version. Use pandas.concat instead.\n  df = df.append(highest_revenue_in_city)\n<ipython-input-19-3dbf9a062322>:3: FutureWarning: The frame.append method is deprecated and will be removed from pandas in a future version. Use pandas.concat instead.\n  df = df.append(highest_revenue_in_city)\n<ipython-input-19-3dbf9a062322>:3: FutureWarning: The frame.append method is deprecated and will be removed from pandas in a future version. Use pandas.concat instead.\n  df = df.append(highest_revenue_in_city)\n<ipython-input-19-3dbf9a062322>:3: FutureWarning: The frame.append method is deprecated and will be removed from pandas in a future version. Use pandas.concat instead.\n  df = df.append(highest_revenue_in_city)\n<ipython-input-19-3dbf9a062322>:3: FutureWarning: The frame.append method is deprecated and will be removed from pandas in a future version. Use pandas.concat instead.\n  df = df.append(highest_revenue_in_city)\n<ipython-input-19-3dbf9a062322>:3: FutureWarning: The frame.append method is deprecated and will be removed from pandas in a future version. Use pandas.concat instead.\n  df = df.append(highest_revenue_in_city)\n<ipython-input-19-3dbf9a062322>:3: FutureWarning: The frame.append method is deprecated and will be removed from pandas in a future version. Use pandas.concat instead.\n  df = df.append(highest_revenue_in_city)\n<ipython-input-19-3dbf9a062322>:3: FutureWarning: The frame.append method is deprecated and will be removed from pandas in a future version. Use pandas.concat instead.\n  df = df.append(highest_revenue_in_city)\n<ipython-input-19-3dbf9a062322>:3: FutureWarning: The frame.append method is deprecated and will be removed from pandas in a future version. Use pandas.concat instead.\n  df = df.append(highest_revenue_in_city)\n<ipython-input-19-3dbf9a062322>:3: FutureWarning: The frame.append method is deprecated and will be removed from pandas in a future version. Use pandas.concat instead.\n  df = df.append(highest_revenue_in_city)\n<ipython-input-19-3dbf9a062322>:3: FutureWarning: The frame.append method is deprecated and will be removed from pandas in a future version. Use pandas.concat instead.\n  df = df.append(highest_revenue_in_city)\n<ipython-input-19-3dbf9a062322>:3: FutureWarning: The frame.append method is deprecated and will be removed from pandas in a future version. Use pandas.concat instead.\n  df = df.append(highest_revenue_in_city)\n<ipython-input-19-3dbf9a062322>:3: FutureWarning: The frame.append method is deprecated and will be removed from pandas in a future version. Use pandas.concat instead.\n  df = df.append(highest_revenue_in_city)\n<ipython-input-19-3dbf9a062322>:3: FutureWarning: The frame.append method is deprecated and will be removed from pandas in a future version. Use pandas.concat instead.\n  df = df.append(highest_revenue_in_city)\n<ipython-input-19-3dbf9a062322>:3: FutureWarning: The frame.append method is deprecated and will be removed from pandas in a future version. Use pandas.concat instead.\n  df = df.append(highest_revenue_in_city)\n<ipython-input-19-3dbf9a062322>:3: FutureWarning: The frame.append method is deprecated and will be removed from pandas in a future version. Use pandas.concat instead.\n  df = df.append(highest_revenue_in_city)\n<ipython-input-19-3dbf9a062322>:3: FutureWarning: The frame.append method is deprecated and will be removed from pandas in a future version. Use pandas.concat instead.\n  df = df.append(highest_revenue_in_city)\n<ipython-input-19-3dbf9a062322>:3: FutureWarning: The frame.append method is deprecated and will be removed from pandas in a future version. Use pandas.concat instead.\n  df = df.append(highest_revenue_in_city)\n<ipython-input-19-3dbf9a062322>:3: FutureWarning: The frame.append method is deprecated and will be removed from pandas in a future version. Use pandas.concat instead.\n  df = df.append(highest_revenue_in_city)\n<ipython-input-19-3dbf9a062322>:3: FutureWarning: The frame.append method is deprecated and will be removed from pandas in a future version. Use pandas.concat instead.\n  df = df.append(highest_revenue_in_city)\n<ipython-input-19-3dbf9a062322>:3: FutureWarning: The frame.append method is deprecated and will be removed from pandas in a future version. Use pandas.concat instead.\n  df = df.append(highest_revenue_in_city)\n<ipython-input-19-3dbf9a062322>:3: FutureWarning: The frame.append method is deprecated and will be removed from pandas in a future version. Use pandas.concat instead.\n  df = df.append(highest_revenue_in_city)\n<ipython-input-19-3dbf9a062322>:3: FutureWarning: The frame.append method is deprecated and will be removed from pandas in a future version. Use pandas.concat instead.\n  df = df.append(highest_revenue_in_city)\n<ipython-input-19-3dbf9a062322>:3: FutureWarning: The frame.append method is deprecated and will be removed from pandas in a future version. Use pandas.concat instead.\n  df = df.append(highest_revenue_in_city)\n<ipython-input-19-3dbf9a062322>:3: FutureWarning: The frame.append method is deprecated and will be removed from pandas in a future version. Use pandas.concat instead.\n  df = df.append(highest_revenue_in_city)\n<ipython-input-19-3dbf9a062322>:3: FutureWarning: The frame.append method is deprecated and will be removed from pandas in a future version. Use pandas.concat instead.\n  df = df.append(highest_revenue_in_city)\n<ipython-input-19-3dbf9a062322>:3: FutureWarning: The frame.append method is deprecated and will be removed from pandas in a future version. Use pandas.concat instead.\n  df = df.append(highest_revenue_in_city)\n<ipython-input-19-3dbf9a062322>:3: FutureWarning: The frame.append method is deprecated and will be removed from pandas in a future version. Use pandas.concat instead.\n  df = df.append(highest_revenue_in_city)\n<ipython-input-19-3dbf9a062322>:3: FutureWarning: The frame.append method is deprecated and will be removed from pandas in a future version. Use pandas.concat instead.\n  df = df.append(highest_revenue_in_city)\n<ipython-input-19-3dbf9a062322>:3: FutureWarning: The frame.append method is deprecated and will be removed from pandas in a future version. Use pandas.concat instead.\n  df = df.append(highest_revenue_in_city)\n<ipython-input-19-3dbf9a062322>:3: FutureWarning: The frame.append method is deprecated and will be removed from pandas in a future version. Use pandas.concat instead.\n  df = df.append(highest_revenue_in_city)\n<ipython-input-19-3dbf9a062322>:3: FutureWarning: The frame.append method is deprecated and will be removed from pandas in a future version. Use pandas.concat instead.\n  df = df.append(highest_revenue_in_city)\n<ipython-input-19-3dbf9a062322>:3: FutureWarning: The frame.append method is deprecated and will be removed from pandas in a future version. Use pandas.concat instead.\n  df = df.append(highest_revenue_in_city)\n<ipython-input-19-3dbf9a062322>:3: FutureWarning: The frame.append method is deprecated and will be removed from pandas in a future version. Use pandas.concat instead.\n  df = df.append(highest_revenue_in_city)\n<ipython-input-19-3dbf9a062322>:3: FutureWarning: The frame.append method is deprecated and will be removed from pandas in a future version. Use pandas.concat instead.\n  df = df.append(highest_revenue_in_city)\n<ipython-input-19-3dbf9a062322>:3: FutureWarning: The frame.append method is deprecated and will be removed from pandas in a future version. Use pandas.concat instead.\n  df = df.append(highest_revenue_in_city)\n<ipython-input-19-3dbf9a062322>:3: FutureWarning: The frame.append method is deprecated and will be removed from pandas in a future version. Use pandas.concat instead.\n  df = df.append(highest_revenue_in_city)\n<ipython-input-19-3dbf9a062322>:3: FutureWarning: The frame.append method is deprecated and will be removed from pandas in a future version. Use pandas.concat instead.\n  df = df.append(highest_revenue_in_city)\n<ipython-input-19-3dbf9a062322>:3: FutureWarning: The frame.append method is deprecated and will be removed from pandas in a future version. Use pandas.concat instead.\n  df = df.append(highest_revenue_in_city)\n<ipython-input-19-3dbf9a062322>:3: FutureWarning: The frame.append method is deprecated and will be removed from pandas in a future version. Use pandas.concat instead.\n  df = df.append(highest_revenue_in_city)\n<ipython-input-19-3dbf9a062322>:3: FutureWarning: The frame.append method is deprecated and will be removed from pandas in a future version. Use pandas.concat instead.\n  df = df.append(highest_revenue_in_city)\n<ipython-input-19-3dbf9a062322>:3: FutureWarning: The frame.append method is deprecated and will be removed from pandas in a future version. Use pandas.concat instead.\n  df = df.append(highest_revenue_in_city)\n<ipython-input-19-3dbf9a062322>:3: FutureWarning: The frame.append method is deprecated and will be removed from pandas in a future version. Use pandas.concat instead.\n  df = df.append(highest_revenue_in_city)\n<ipython-input-19-3dbf9a062322>:3: FutureWarning: The frame.append method is deprecated and will be removed from pandas in a future version. Use pandas.concat instead.\n  df = df.append(highest_revenue_in_city)\n<ipython-input-19-3dbf9a062322>:3: FutureWarning: The frame.append method is deprecated and will be removed from pandas in a future version. Use pandas.concat instead.\n  df = df.append(highest_revenue_in_city)\n<ipython-input-19-3dbf9a062322>:3: FutureWarning: The frame.append method is deprecated and will be removed from pandas in a future version. Use pandas.concat instead.\n  df = df.append(highest_revenue_in_city)\n<ipython-input-19-3dbf9a062322>:3: FutureWarning: The frame.append method is deprecated and will be removed from pandas in a future version. Use pandas.concat instead.\n  df = df.append(highest_revenue_in_city)\n<ipython-input-19-3dbf9a062322>:3: FutureWarning: The frame.append method is deprecated and will be removed from pandas in a future version. Use pandas.concat instead.\n  df = df.append(highest_revenue_in_city)\n<ipython-input-19-3dbf9a062322>:3: FutureWarning: The frame.append method is deprecated and will be removed from pandas in a future version. Use pandas.concat instead.\n  df = df.append(highest_revenue_in_city)\n<ipython-input-19-3dbf9a062322>:3: FutureWarning: The frame.append method is deprecated and will be removed from pandas in a future version. Use pandas.concat instead.\n  df = df.append(highest_revenue_in_city)\n<ipython-input-19-3dbf9a062322>:3: FutureWarning: The frame.append method is deprecated and will be removed from pandas in a future version. Use pandas.concat instead.\n  df = df.append(highest_revenue_in_city)\n<ipython-input-19-3dbf9a062322>:3: FutureWarning: The frame.append method is deprecated and will be removed from pandas in a future version. Use pandas.concat instead.\n  df = df.append(highest_revenue_in_city)\n<ipython-input-19-3dbf9a062322>:3: FutureWarning: The frame.append method is deprecated and will be removed from pandas in a future version. Use pandas.concat instead.\n  df = df.append(highest_revenue_in_city)\n<ipython-input-19-3dbf9a062322>:3: FutureWarning: The frame.append method is deprecated and will be removed from pandas in a future version. Use pandas.concat instead.\n  df = df.append(highest_revenue_in_city)\n<ipython-input-19-3dbf9a062322>:3: FutureWarning: The frame.append method is deprecated and will be removed from pandas in a future version. Use pandas.concat instead.\n  df = df.append(highest_revenue_in_city)\n<ipython-input-19-3dbf9a062322>:3: FutureWarning: The frame.append method is deprecated and will be removed from pandas in a future version. Use pandas.concat instead.\n  df = df.append(highest_revenue_in_city)\n<ipython-input-19-3dbf9a062322>:3: FutureWarning: The frame.append method is deprecated and will be removed from pandas in a future version. Use pandas.concat instead.\n  df = df.append(highest_revenue_in_city)\n<ipython-input-19-3dbf9a062322>:3: FutureWarning: The frame.append method is deprecated and will be removed from pandas in a future version. Use pandas.concat instead.\n  df = df.append(highest_revenue_in_city)\n<ipython-input-19-3dbf9a062322>:3: FutureWarning: The frame.append method is deprecated and will be removed from pandas in a future version. Use pandas.concat instead.\n  df = df.append(highest_revenue_in_city)\n<ipython-input-19-3dbf9a062322>:3: FutureWarning: The frame.append method is deprecated and will be removed from pandas in a future version. Use pandas.concat instead.\n  df = df.append(highest_revenue_in_city)\n<ipython-input-19-3dbf9a062322>:3: FutureWarning: The frame.append method is deprecated and will be removed from pandas in a future version. Use pandas.concat instead.\n  df = df.append(highest_revenue_in_city)\n<ipython-input-19-3dbf9a062322>:3: FutureWarning: The frame.append method is deprecated and will be removed from pandas in a future version. Use pandas.concat instead.\n  df = df.append(highest_revenue_in_city)\n<ipython-input-19-3dbf9a062322>:3: FutureWarning: The frame.append method is deprecated and will be removed from pandas in a future version. Use pandas.concat instead.\n  df = df.append(highest_revenue_in_city)\n<ipython-input-19-3dbf9a062322>:3: FutureWarning: The frame.append method is deprecated and will be removed from pandas in a future version. Use pandas.concat instead.\n  df = df.append(highest_revenue_in_city)\n<ipython-input-19-3dbf9a062322>:3: FutureWarning: The frame.append method is deprecated and will be removed from pandas in a future version. Use pandas.concat instead.\n  df = df.append(highest_revenue_in_city)\n<ipython-input-19-3dbf9a062322>:3: FutureWarning: The frame.append method is deprecated and will be removed from pandas in a future version. Use pandas.concat instead.\n  df = df.append(highest_revenue_in_city)\n<ipython-input-19-3dbf9a062322>:3: FutureWarning: The frame.append method is deprecated and will be removed from pandas in a future version. Use pandas.concat instead.\n  df = df.append(highest_revenue_in_city)\n<ipython-input-19-3dbf9a062322>:3: FutureWarning: The frame.append method is deprecated and will be removed from pandas in a future version. Use pandas.concat instead.\n  df = df.append(highest_revenue_in_city)\n<ipython-input-19-3dbf9a062322>:3: FutureWarning: The frame.append method is deprecated and will be removed from pandas in a future version. Use pandas.concat instead.\n  df = df.append(highest_revenue_in_city)\n<ipython-input-19-3dbf9a062322>:3: FutureWarning: The frame.append method is deprecated and will be removed from pandas in a future version. Use pandas.concat instead.\n  df = df.append(highest_revenue_in_city)\n<ipython-input-19-3dbf9a062322>:3: FutureWarning: The frame.append method is deprecated and will be removed from pandas in a future version. Use pandas.concat instead.\n  df = df.append(highest_revenue_in_city)\n<ipython-input-19-3dbf9a062322>:3: FutureWarning: The frame.append method is deprecated and will be removed from pandas in a future version. Use pandas.concat instead.\n  df = df.append(highest_revenue_in_city)\n<ipython-input-19-3dbf9a062322>:3: FutureWarning: The frame.append method is deprecated and will be removed from pandas in a future version. Use pandas.concat instead.\n  df = df.append(highest_revenue_in_city)\n<ipython-input-19-3dbf9a062322>:3: FutureWarning: The frame.append method is deprecated and will be removed from pandas in a future version. Use pandas.concat instead.\n  df = df.append(highest_revenue_in_city)\n<ipython-input-19-3dbf9a062322>:3: FutureWarning: The frame.append method is deprecated and will be removed from pandas in a future version. Use pandas.concat instead.\n  df = df.append(highest_revenue_in_city)\n<ipython-input-19-3dbf9a062322>:3: FutureWarning: The frame.append method is deprecated and will be removed from pandas in a future version. Use pandas.concat instead.\n  df = df.append(highest_revenue_in_city)\n<ipython-input-19-3dbf9a062322>:3: FutureWarning: The frame.append method is deprecated and will be removed from pandas in a future version. Use pandas.concat instead.\n  df = df.append(highest_revenue_in_city)\n<ipython-input-19-3dbf9a062322>:3: FutureWarning: The frame.append method is deprecated and will be removed from pandas in a future version. Use pandas.concat instead.\n  df = df.append(highest_revenue_in_city)\n<ipython-input-19-3dbf9a062322>:3: FutureWarning: The frame.append method is deprecated and will be removed from pandas in a future version. Use pandas.concat instead.\n  df = df.append(highest_revenue_in_city)\n<ipython-input-19-3dbf9a062322>:3: FutureWarning: The frame.append method is deprecated and will be removed from pandas in a future version. Use pandas.concat instead.\n  df = df.append(highest_revenue_in_city)\n<ipython-input-19-3dbf9a062322>:3: FutureWarning: The frame.append method is deprecated and will be removed from pandas in a future version. Use pandas.concat instead.\n  df = df.append(highest_revenue_in_city)\n<ipython-input-19-3dbf9a062322>:3: FutureWarning: The frame.append method is deprecated and will be removed from pandas in a future version. Use pandas.concat instead.\n  df = df.append(highest_revenue_in_city)\n<ipython-input-19-3dbf9a062322>:3: FutureWarning: The frame.append method is deprecated and will be removed from pandas in a future version. Use pandas.concat instead.\n  df = df.append(highest_revenue_in_city)\n<ipython-input-19-3dbf9a062322>:3: FutureWarning: The frame.append method is deprecated and will be removed from pandas in a future version. Use pandas.concat instead.\n  df = df.append(highest_revenue_in_city)\n<ipython-input-19-3dbf9a062322>:3: FutureWarning: The frame.append method is deprecated and will be removed from pandas in a future version. Use pandas.concat instead.\n  df = df.append(highest_revenue_in_city)\n<ipython-input-19-3dbf9a062322>:3: FutureWarning: The frame.append method is deprecated and will be removed from pandas in a future version. Use pandas.concat instead.\n  df = df.append(highest_revenue_in_city)\n<ipython-input-19-3dbf9a062322>:3: FutureWarning: The frame.append method is deprecated and will be removed from pandas in a future version. Use pandas.concat instead.\n  df = df.append(highest_revenue_in_city)\n<ipython-input-19-3dbf9a062322>:3: FutureWarning: The frame.append method is deprecated and will be removed from pandas in a future version. Use pandas.concat instead.\n  df = df.append(highest_revenue_in_city)\n<ipython-input-19-3dbf9a062322>:3: FutureWarning: The frame.append method is deprecated and will be removed from pandas in a future version. Use pandas.concat instead.\n  df = df.append(highest_revenue_in_city)\n<ipython-input-19-3dbf9a062322>:3: FutureWarning: The frame.append method is deprecated and will be removed from pandas in a future version. Use pandas.concat instead.\n  df = df.append(highest_revenue_in_city)\n<ipython-input-19-3dbf9a062322>:3: FutureWarning: The frame.append method is deprecated and will be removed from pandas in a future version. Use pandas.concat instead.\n  df = df.append(highest_revenue_in_city)\n<ipython-input-19-3dbf9a062322>:3: FutureWarning: The frame.append method is deprecated and will be removed from pandas in a future version. Use pandas.concat instead.\n  df = df.append(highest_revenue_in_city)\n<ipython-input-19-3dbf9a062322>:3: FutureWarning: The frame.append method is deprecated and will be removed from pandas in a future version. Use pandas.concat instead.\n  df = df.append(highest_revenue_in_city)\n<ipython-input-19-3dbf9a062322>:3: FutureWarning: The frame.append method is deprecated and will be removed from pandas in a future version. Use pandas.concat instead.\n  df = df.append(highest_revenue_in_city)\n<ipython-input-19-3dbf9a062322>:3: FutureWarning: The frame.append method is deprecated and will be removed from pandas in a future version. Use pandas.concat instead.\n  df = df.append(highest_revenue_in_city)\n<ipython-input-19-3dbf9a062322>:3: FutureWarning: The frame.append method is deprecated and will be removed from pandas in a future version. Use pandas.concat instead.\n  df = df.append(highest_revenue_in_city)\n<ipython-input-19-3dbf9a062322>:3: FutureWarning: The frame.append method is deprecated and will be removed from pandas in a future version. Use pandas.concat instead.\n  df = df.append(highest_revenue_in_city)\n<ipython-input-19-3dbf9a062322>:3: FutureWarning: The frame.append method is deprecated and will be removed from pandas in a future version. Use pandas.concat instead.\n  df = df.append(highest_revenue_in_city)\n<ipython-input-19-3dbf9a062322>:3: FutureWarning: The frame.append method is deprecated and will be removed from pandas in a future version. Use pandas.concat instead.\n  df = df.append(highest_revenue_in_city)\n<ipython-input-19-3dbf9a062322>:3: FutureWarning: The frame.append method is deprecated and will be removed from pandas in a future version. Use pandas.concat instead.\n  df = df.append(highest_revenue_in_city)\n<ipython-input-19-3dbf9a062322>:3: FutureWarning: The frame.append method is deprecated and will be removed from pandas in a future version. Use pandas.concat instead.\n  df = df.append(highest_revenue_in_city)\n<ipython-input-19-3dbf9a062322>:3: FutureWarning: The frame.append method is deprecated and will be removed from pandas in a future version. Use pandas.concat instead.\n  df = df.append(highest_revenue_in_city)\n<ipython-input-19-3dbf9a062322>:3: FutureWarning: The frame.append method is deprecated and will be removed from pandas in a future version. Use pandas.concat instead.\n  df = df.append(highest_revenue_in_city)\n<ipython-input-19-3dbf9a062322>:3: FutureWarning: The frame.append method is deprecated and will be removed from pandas in a future version. Use pandas.concat instead.\n  df = df.append(highest_revenue_in_city)\n<ipython-input-19-3dbf9a062322>:3: FutureWarning: The frame.append method is deprecated and will be removed from pandas in a future version. Use pandas.concat instead.\n  df = df.append(highest_revenue_in_city)\n<ipython-input-19-3dbf9a062322>:3: FutureWarning: The frame.append method is deprecated and will be removed from pandas in a future version. Use pandas.concat instead.\n  df = df.append(highest_revenue_in_city)\n<ipython-input-19-3dbf9a062322>:3: FutureWarning: The frame.append method is deprecated and will be removed from pandas in a future version. Use pandas.concat instead.\n  df = df.append(highest_revenue_in_city)\n<ipython-input-19-3dbf9a062322>:3: FutureWarning: The frame.append method is deprecated and will be removed from pandas in a future version. Use pandas.concat instead.\n  df = df.append(highest_revenue_in_city)\n<ipython-input-19-3dbf9a062322>:3: FutureWarning: The frame.append method is deprecated and will be removed from pandas in a future version. Use pandas.concat instead.\n  df = df.append(highest_revenue_in_city)\n<ipython-input-19-3dbf9a062322>:3: FutureWarning: The frame.append method is deprecated and will be removed from pandas in a future version. Use pandas.concat instead.\n  df = df.append(highest_revenue_in_city)\n<ipython-input-19-3dbf9a062322>:3: FutureWarning: The frame.append method is deprecated and will be removed from pandas in a future version. Use pandas.concat instead.\n  df = df.append(highest_revenue_in_city)\n<ipython-input-19-3dbf9a062322>:3: FutureWarning: The frame.append method is deprecated and will be removed from pandas in a future version. Use pandas.concat instead.\n  df = df.append(highest_revenue_in_city)\n<ipython-input-19-3dbf9a062322>:3: FutureWarning: The frame.append method is deprecated and will be removed from pandas in a future version. Use pandas.concat instead.\n  df = df.append(highest_revenue_in_city)\n<ipython-input-19-3dbf9a062322>:3: FutureWarning: The frame.append method is deprecated and will be removed from pandas in a future version. Use pandas.concat instead.\n  df = df.append(highest_revenue_in_city)\n<ipython-input-19-3dbf9a062322>:3: FutureWarning: The frame.append method is deprecated and will be removed from pandas in a future version. Use pandas.concat instead.\n  df = df.append(highest_revenue_in_city)\n<ipython-input-19-3dbf9a062322>:3: FutureWarning: The frame.append method is deprecated and will be removed from pandas in a future version. Use pandas.concat instead.\n  df = df.append(highest_revenue_in_city)\n<ipython-input-19-3dbf9a062322>:3: FutureWarning: The frame.append method is deprecated and will be removed from pandas in a future version. Use pandas.concat instead.\n  df = df.append(highest_revenue_in_city)\n<ipython-input-19-3dbf9a062322>:3: FutureWarning: The frame.append method is deprecated and will be removed from pandas in a future version. Use pandas.concat instead.\n  df = df.append(highest_revenue_in_city)\n<ipython-input-19-3dbf9a062322>:3: FutureWarning: The frame.append method is deprecated and will be removed from pandas in a future version. Use pandas.concat instead.\n  df = df.append(highest_revenue_in_city)\n<ipython-input-19-3dbf9a062322>:3: FutureWarning: The frame.append method is deprecated and will be removed from pandas in a future version. Use pandas.concat instead.\n  df = df.append(highest_revenue_in_city)\n<ipython-input-19-3dbf9a062322>:3: FutureWarning: The frame.append method is deprecated and will be removed from pandas in a future version. Use pandas.concat instead.\n  df = df.append(highest_revenue_in_city)\n<ipython-input-19-3dbf9a062322>:3: FutureWarning: The frame.append method is deprecated and will be removed from pandas in a future version. Use pandas.concat instead.\n  df = df.append(highest_revenue_in_city)\n<ipython-input-19-3dbf9a062322>:3: FutureWarning: The frame.append method is deprecated and will be removed from pandas in a future version. Use pandas.concat instead.\n  df = df.append(highest_revenue_in_city)\n<ipython-input-19-3dbf9a062322>:3: FutureWarning: The frame.append method is deprecated and will be removed from pandas in a future version. Use pandas.concat instead.\n  df = df.append(highest_revenue_in_city)\n<ipython-input-19-3dbf9a062322>:3: FutureWarning: The frame.append method is deprecated and will be removed from pandas in a future version. Use pandas.concat instead.\n  df = df.append(highest_revenue_in_city)\n<ipython-input-19-3dbf9a062322>:3: FutureWarning: The frame.append method is deprecated and will be removed from pandas in a future version. Use pandas.concat instead.\n  df = df.append(highest_revenue_in_city)\n<ipython-input-19-3dbf9a062322>:3: FutureWarning: The frame.append method is deprecated and will be removed from pandas in a future version. Use pandas.concat instead.\n  df = df.append(highest_revenue_in_city)\n<ipython-input-19-3dbf9a062322>:3: FutureWarning: The frame.append method is deprecated and will be removed from pandas in a future version. Use pandas.concat instead.\n  df = df.append(highest_revenue_in_city)\n<ipython-input-19-3dbf9a062322>:3: FutureWarning: The frame.append method is deprecated and will be removed from pandas in a future version. Use pandas.concat instead.\n  df = df.append(highest_revenue_in_city)\n<ipython-input-19-3dbf9a062322>:3: FutureWarning: The frame.append method is deprecated and will be removed from pandas in a future version. Use pandas.concat instead.\n  df = df.append(highest_revenue_in_city)\n<ipython-input-19-3dbf9a062322>:3: FutureWarning: The frame.append method is deprecated and will be removed from pandas in a future version. Use pandas.concat instead.\n  df = df.append(highest_revenue_in_city)\n<ipython-input-19-3dbf9a062322>:3: FutureWarning: The frame.append method is deprecated and will be removed from pandas in a future version. Use pandas.concat instead.\n  df = df.append(highest_revenue_in_city)\n<ipython-input-19-3dbf9a062322>:3: FutureWarning: The frame.append method is deprecated and will be removed from pandas in a future version. Use pandas.concat instead.\n  df = df.append(highest_revenue_in_city)\n<ipython-input-19-3dbf9a062322>:3: FutureWarning: The frame.append method is deprecated and will be removed from pandas in a future version. Use pandas.concat instead.\n  df = df.append(highest_revenue_in_city)\n<ipython-input-19-3dbf9a062322>:3: FutureWarning: The frame.append method is deprecated and will be removed from pandas in a future version. Use pandas.concat instead.\n  df = df.append(highest_revenue_in_city)\n<ipython-input-19-3dbf9a062322>:3: FutureWarning: The frame.append method is deprecated and will be removed from pandas in a future version. Use pandas.concat instead.\n  df = df.append(highest_revenue_in_city)\n",
          "output_type": "stream"
        }
      ]
    },
    {
      "cell_type": "code",
      "source": "df",
      "metadata": {
        "collapsed": true,
        "jupyter": {
          "outputs_hidden": true
        },
        "tags": []
      },
      "execution_count": 91,
      "outputs": [
        {
          "execution_count": 91,
          "output_type": "execute_result",
          "data": {
            "text/html": [
              "<div>\n",
              "<table border=\"1\" class=\"dataframe\">\n",
              "  <thead>\n",
              "    <tr style=\"text-align: right;\">\n",
              "      <th></th>\n",
              "      <th>Company</th>\n",
              "      <th>Sector</th>\n",
              "      <th>Industry</th>\n",
              "      <th>Location</th>\n",
              "      <th>Revenue</th>\n",
              "      <th>Profits</th>\n",
              "      <th>Employees</th>\n",
              "    </tr>\n",
              "  </thead>\n",
              "  <tbody>\n",
              "    <tr>\n",
              "      <th>138</th>\n",
              "      <td>Abbott Laboratories</td>\n",
              "      <td>Health Care</td>\n",
              "      <td>Medical Products and Equipment</td>\n",
              "      <td>Abbott Park, IL</td>\n",
              "      <td>20661.0</td>\n",
              "      <td>4423.0</td>\n",
              "      <td>74000.0</td>\n",
              "    </tr>\n",
              "    <tr>\n",
              "      <th>169</th>\n",
              "      <td>Goodyear Tire &amp; Rubber</td>\n",
              "      <td>Motor Vehicles &amp; Parts</td>\n",
              "      <td>Motor Vehicles and Parts</td>\n",
              "      <td>Akron, OH</td>\n",
              "      <td>16443.0</td>\n",
              "      <td>307.0</td>\n",
              "      <td>66000.0</td>\n",
              "    </tr>\n",
              "    <tr>\n",
              "      <th>288</th>\n",
              "      <td>Air Products &amp; Chemicals</td>\n",
              "      <td>Chemicals</td>\n",
              "      <td>Chemicals</td>\n",
              "      <td>Allentown, PA</td>\n",
              "      <td>9895.0</td>\n",
              "      <td>1278.0</td>\n",
              "      <td>19550.0</td>\n",
              "    </tr>\n",
              "    <tr>\n",
              "      <th>830</th>\n",
              "      <td>Benchmark Electronics</td>\n",
              "      <td>Technology</td>\n",
              "      <td>Semiconductors and Other Electronic Components</td>\n",
              "      <td>Angleton, TX</td>\n",
              "      <td>2541.0</td>\n",
              "      <td>95.0</td>\n",
              "      <td>10500.0</td>\n",
              "    </tr>\n",
              "    <tr>\n",
              "      <th>374</th>\n",
              "      <td>Casey’s General Stores</td>\n",
              "      <td>Retailing</td>\n",
              "      <td>Specialty Retailers: Other</td>\n",
              "      <td>Ankeny, IA</td>\n",
              "      <td>7052.0</td>\n",
              "      <td>181.0</td>\n",
              "      <td>22408.0</td>\n",
              "    </tr>\n",
              "    <tr>\n",
              "      <th>915</th>\n",
              "      <td>Domino’s Pizza</td>\n",
              "      <td>Hotels, Resturants &amp; Leisure</td>\n",
              "      <td>Food Services</td>\n",
              "      <td>Ann Arbor, MI</td>\n",
              "      <td>2217.0</td>\n",
              "      <td>193.0</td>\n",
              "      <td>11900.0</td>\n",
              "    </tr>\n",
              "    <tr>\n",
              "      <th>596</th>\n",
              "      <td>Colfax</td>\n",
              "      <td>Industrials</td>\n",
              "      <td>Industrial Machinery</td>\n",
              "      <td>Annapolis Junction, MD</td>\n",
              "      <td>3967.0</td>\n",
              "      <td>168.0</td>\n",
              "      <td>17087.0</td>\n",
              "    </tr>\n",
              "    <tr>\n",
              "      <th>215</th>\n",
              "      <td>Land O’Lakes</td>\n",
              "      <td>Food, Beverages &amp; Tobacco</td>\n",
              "      <td>Food Consumer Products</td>\n",
              "      <td>Arden Hills, MN</td>\n",
              "      <td>13161.0</td>\n",
              "      <td>308.0</td>\n",
              "      <td>10000.0</td>\n",
              "    </tr>\n",
              "    <tr>\n",
              "      <th>190</th>\n",
              "      <td>AES</td>\n",
              "      <td>Energy</td>\n",
              "      <td>Utilities: Gas and Electric</td>\n",
              "      <td>Arlington, VA</td>\n",
              "      <td>14963.0</td>\n",
              "      <td>306.0</td>\n",
              "      <td>21000.0</td>\n",
              "    </tr>\n",
              "    <tr>\n",
              "      <th>31</th>\n",
              "      <td>IBM</td>\n",
              "      <td>Technology</td>\n",
              "      <td>Information Technology Services</td>\n",
              "      <td>Armonk, NY</td>\n",
              "      <td>82461.0</td>\n",
              "      <td>13190.0</td>\n",
              "      <td>411798.0</td>\n",
              "    </tr>\n",
              "    <tr>\n",
              "      <th>28</th>\n",
              "      <td>Home Depot</td>\n",
              "      <td>Retailing</td>\n",
              "      <td>Specialty Retailers: Other</td>\n",
              "      <td>Atlanta, GA</td>\n",
              "      <td>88519.0</td>\n",
              "      <td>7009.0</td>\n",
              "      <td>385000.0</td>\n",
              "    </tr>\n",
              "    <tr>\n",
              "      <th>310</th>\n",
              "      <td>Autoliv</td>\n",
              "      <td>Motor Vehicles &amp; Parts</td>\n",
              "      <td>Motor Vehicles and Parts</td>\n",
              "      <td>Auburn Hills, MI</td>\n",
              "      <td>9170.0</td>\n",
              "      <td>457.0</td>\n",
              "      <td>59350.0</td>\n",
              "    </tr>\n",
              "    <tr>\n",
              "      <th>304</th>\n",
              "      <td>Hormel Foods</td>\n",
              "      <td>Food, Beverages &amp; Tobacco</td>\n",
              "      <td>Food Consumer Products</td>\n",
              "      <td>Austin, MN</td>\n",
              "      <td>9264.0</td>\n",
              "      <td>686.0</td>\n",
              "      <td>20700.0</td>\n",
              "    </tr>\n",
              "    <tr>\n",
              "      <th>181</th>\n",
              "      <td>Whole Foods Market</td>\n",
              "      <td>Food and Drug Stores</td>\n",
              "      <td>Food and Drug Stores</td>\n",
              "      <td>Austin, TX</td>\n",
              "      <td>15389.0</td>\n",
              "      <td>536.0</td>\n",
              "      <td>76300.0</td>\n",
              "    </tr>\n",
              "    <tr>\n",
              "      <th>668</th>\n",
              "      <td>PolyOne</td>\n",
              "      <td>Chemicals</td>\n",
              "      <td>Chemicals</td>\n",
              "      <td>Avon Lake, OH</td>\n",
              "      <td>3378.0</td>\n",
              "      <td>145.0</td>\n",
              "      <td>6900.0</td>\n",
              "    </tr>\n",
              "    <tr>\n",
              "      <th>573</th>\n",
              "      <td>T. Rowe Price</td>\n",
              "      <td>Financials</td>\n",
              "      <td>Securities</td>\n",
              "      <td>Baltimore, MD</td>\n",
              "      <td>4201.0</td>\n",
              "      <td>1223.0</td>\n",
              "      <td>5999.0</td>\n",
              "    </tr>\n",
              "    <tr>\n",
              "      <th>420</th>\n",
              "      <td>Baxalta</td>\n",
              "      <td>Health Care</td>\n",
              "      <td>Pharmaceuticals</td>\n",
              "      <td>Bannockburn, IL</td>\n",
              "      <td>6149.0</td>\n",
              "      <td>956.0</td>\n",
              "      <td>17000.0</td>\n",
              "    </tr>\n",
              "    <tr>\n",
              "      <th>624</th>\n",
              "      <td>Albemarle</td>\n",
              "      <td>Chemicals</td>\n",
              "      <td>Chemicals</td>\n",
              "      <td>Baton Rouge, LA</td>\n",
              "      <td>3651.0</td>\n",
              "      <td>335.0</td>\n",
              "      <td>6963.0</td>\n",
              "    </tr>\n",
              "    <tr>\n",
              "      <th>207</th>\n",
              "      <td>Kellogg</td>\n",
              "      <td>Food, Beverages &amp; Tobacco</td>\n",
              "      <td>Food Consumer Products</td>\n",
              "      <td>Battle Creek, MI</td>\n",
              "      <td>13525.0</td>\n",
              "      <td>614.0</td>\n",
              "      <td>33577.0</td>\n",
              "    </tr>\n",
              "    <tr>\n",
              "      <th>91</th>\n",
              "      <td>Nike</td>\n",
              "      <td>Apparel</td>\n",
              "      <td>Apparel</td>\n",
              "      <td>Beaverton, OR</td>\n",
              "      <td>30601.0</td>\n",
              "      <td>3273.0</td>\n",
              "      <td>62600.0</td>\n",
              "    </tr>\n",
              "    <tr>\n",
              "      <th>147</th>\n",
              "      <td>Paccar</td>\n",
              "      <td>Motor Vehicles &amp; Parts</td>\n",
              "      <td>Motor Vehicles and Parts</td>\n",
              "      <td>Bellevue, WA</td>\n",
              "      <td>19115.0</td>\n",
              "      <td>1604.0</td>\n",
              "      <td>23000.0</td>\n",
              "    </tr>\n",
              "    <tr>\n",
              "      <th>645</th>\n",
              "      <td>Regal Beloit</td>\n",
              "      <td>Industrials</td>\n",
              "      <td>Electronics, Electrical Equip.</td>\n",
              "      <td>Beloit, WI</td>\n",
              "      <td>3510.0</td>\n",
              "      <td>143.0</td>\n",
              "      <td>26200.0</td>\n",
              "    </tr>\n",
              "    <tr>\n",
              "      <th>134</th>\n",
              "      <td>Whirlpool</td>\n",
              "      <td>Industrials</td>\n",
              "      <td>Electronics, Electrical Equip.</td>\n",
              "      <td>Benton Harbor, MI</td>\n",
              "      <td>20891.0</td>\n",
              "      <td>783.0</td>\n",
              "      <td>97000.0</td>\n",
              "    </tr>\n",
              "    <tr>\n",
              "      <th>1</th>\n",
              "      <td>Walmart</td>\n",
              "      <td>Retailing</td>\n",
              "      <td>General Merchandisers</td>\n",
              "      <td>Bentonville, AR</td>\n",
              "      <td>482130.0</td>\n",
              "      <td>14694.0</td>\n",
              "      <td>2300000.0</td>\n",
              "    </tr>\n",
              "    <tr>\n",
              "      <th>594</th>\n",
              "      <td>Ametek</td>\n",
              "      <td>Technology</td>\n",
              "      <td>Scientific,Photographic and Control Equipment</td>\n",
              "      <td>Berwyn, PA</td>\n",
              "      <td>3974.0</td>\n",
              "      <td>591.0</td>\n",
              "      <td>15400.0</td>\n",
              "    </tr>\n",
              "    <tr>\n",
              "      <th>60</th>\n",
              "      <td>Lockheed Martin</td>\n",
              "      <td>Aerospace &amp; Defense</td>\n",
              "      <td>Aerospace and Defense</td>\n",
              "      <td>Bethesda, MD</td>\n",
              "      <td>46132.0</td>\n",
              "      <td>3605.0</td>\n",
              "      <td>126000.0</td>\n",
              "    </tr>\n",
              "    <tr>\n",
              "      <th>399</th>\n",
              "      <td>Cablevision Systems</td>\n",
              "      <td>Telecommunications</td>\n",
              "      <td>Telecommunications</td>\n",
              "      <td>Bethpage, NY</td>\n",
              "      <td>6510.0</td>\n",
              "      <td>175.0</td>\n",
              "      <td>13549.0</td>\n",
              "    </tr>\n",
              "    <tr>\n",
              "      <th>366</th>\n",
              "      <td>Live Nation Entertainment</td>\n",
              "      <td>Media</td>\n",
              "      <td>Entertainment</td>\n",
              "      <td>Beverly Hills, CA</td>\n",
              "      <td>7246.0</td>\n",
              "      <td>-33.0</td>\n",
              "      <td>12200.0</td>\n",
              "    </tr>\n",
              "    <tr>\n",
              "      <th>453</th>\n",
              "      <td>Regions Financial</td>\n",
              "      <td>Financials</td>\n",
              "      <td>Commercial Banks</td>\n",
              "      <td>Birmingham, AL</td>\n",
              "      <td>5674.0</td>\n",
              "      <td>1062.0</td>\n",
              "      <td>23916.0</td>\n",
              "    </tr>\n",
              "    <tr>\n",
              "      <th>453</th>\n",
              "      <td>Regions Financial</td>\n",
              "      <td>Financials</td>\n",
              "      <td>Commercial Banks</td>\n",
              "      <td>Birmingham, AL</td>\n",
              "      <td>5674.0</td>\n",
              "      <td>1062.0</td>\n",
              "      <td>23916.0</td>\n",
              "    </tr>\n",
              "    <tr>\n",
              "      <th>...</th>\n",
              "      <td>...</td>\n",
              "      <td>...</td>\n",
              "      <td>...</td>\n",
              "      <td>...</td>\n",
              "      <td>...</td>\n",
              "      <td>...</td>\n",
              "      <td>...</td>\n",
              "    </tr>\n",
              "    <tr>\n",
              "      <th>120</th>\n",
              "      <td>Raytheon</td>\n",
              "      <td>Aerospace &amp; Defense</td>\n",
              "      <td>Aerospace and Defense</td>\n",
              "      <td>Waltham, MA</td>\n",
              "      <td>23247.0</td>\n",
              "      <td>2074.0</td>\n",
              "      <td>61000.0</td>\n",
              "    </tr>\n",
              "    <tr>\n",
              "      <th>850</th>\n",
              "      <td>United Refining</td>\n",
              "      <td>Energy</td>\n",
              "      <td>Petroleum Refining</td>\n",
              "      <td>Warren, PA</td>\n",
              "      <td>2470.0</td>\n",
              "      <td>82.0</td>\n",
              "      <td>2997.0</td>\n",
              "    </tr>\n",
              "    <tr>\n",
              "      <th>431</th>\n",
              "      <td>Zimmer Biomet Holdings</td>\n",
              "      <td>Health Care</td>\n",
              "      <td>Medical Products and Equipment</td>\n",
              "      <td>Warsaw, IN</td>\n",
              "      <td>5998.0</td>\n",
              "      <td>147.0</td>\n",
              "      <td>17500.0</td>\n",
              "    </tr>\n",
              "    <tr>\n",
              "      <th>16</th>\n",
              "      <td>Fannie Mae</td>\n",
              "      <td>Financials</td>\n",
              "      <td>Diversified Financials</td>\n",
              "      <td>Washington, DC</td>\n",
              "      <td>110359.0</td>\n",
              "      <td>10954.0</td>\n",
              "      <td>7300.0</td>\n",
              "    </tr>\n",
              "    <tr>\n",
              "      <th>542</th>\n",
              "      <td>Keurig Green Mountain</td>\n",
              "      <td>Food, Beverages &amp; Tobacco</td>\n",
              "      <td>Beverages</td>\n",
              "      <td>Waterbury, VT</td>\n",
              "      <td>4520.0</td>\n",
              "      <td>498.0</td>\n",
              "      <td>6000.0</td>\n",
              "    </tr>\n",
              "    <tr>\n",
              "      <th>898</th>\n",
              "      <td>MPM Holdings</td>\n",
              "      <td>Chemicals</td>\n",
              "      <td>Chemicals</td>\n",
              "      <td>Waterford, NY</td>\n",
              "      <td>2289.0</td>\n",
              "      <td>-83.0</td>\n",
              "      <td>5000.0</td>\n",
              "    </tr>\n",
              "    <tr>\n",
              "      <th>874</th>\n",
              "      <td>Granite Construction</td>\n",
              "      <td>Engineering &amp; Construction</td>\n",
              "      <td>Engineering, Construction</td>\n",
              "      <td>Watsonville, CA</td>\n",
              "      <td>2371.0</td>\n",
              "      <td>61.0</td>\n",
              "      <td>3200.0</td>\n",
              "    </tr>\n",
              "    <tr>\n",
              "      <th>1000</th>\n",
              "      <td>Briggs &amp; Stratton</td>\n",
              "      <td>Industrials</td>\n",
              "      <td>Industrial Machinery</td>\n",
              "      <td>Wauwatosa, WI</td>\n",
              "      <td>1895.0</td>\n",
              "      <td>46.0</td>\n",
              "      <td>5480.0</td>\n",
              "    </tr>\n",
              "    <tr>\n",
              "      <th>240</th>\n",
              "      <td>Toys “R” Us</td>\n",
              "      <td>Retailing</td>\n",
              "      <td>Specialty Retailers: Other</td>\n",
              "      <td>Wayne, NJ</td>\n",
              "      <td>11802.0</td>\n",
              "      <td>-130.0</td>\n",
              "      <td>62000.0</td>\n",
              "    </tr>\n",
              "    <tr>\n",
              "      <th>785</th>\n",
              "      <td>B/E Aerospace</td>\n",
              "      <td>Aerospace &amp; Defense</td>\n",
              "      <td>Aerospace and Defense</td>\n",
              "      <td>Wellington, FL</td>\n",
              "      <td>2730.0</td>\n",
              "      <td>286.0</td>\n",
              "      <td>10057.0</td>\n",
              "    </tr>\n",
              "    <tr>\n",
              "      <th>383</th>\n",
              "      <td>AK Steel Holding</td>\n",
              "      <td>Materials</td>\n",
              "      <td>Metals</td>\n",
              "      <td>West Chester, OH</td>\n",
              "      <td>6693.0</td>\n",
              "      <td>-509.0</td>\n",
              "      <td>8500.0</td>\n",
              "    </tr>\n",
              "    <tr>\n",
              "      <th>829</th>\n",
              "      <td>Platform Specialty Products</td>\n",
              "      <td>Chemicals</td>\n",
              "      <td>Chemicals</td>\n",
              "      <td>West Palm Beach, FL</td>\n",
              "      <td>2542.0</td>\n",
              "      <td>-309.0</td>\n",
              "      <td>8200.0</td>\n",
              "    </tr>\n",
              "    <tr>\n",
              "      <th>996</th>\n",
              "      <td>New York Community Bancorp</td>\n",
              "      <td>Financials</td>\n",
              "      <td>Commercial Banks</td>\n",
              "      <td>Westbury, NY</td>\n",
              "      <td>1902.0</td>\n",
              "      <td>-47.0</td>\n",
              "      <td>3448.0</td>\n",
              "    </tr>\n",
              "    <tr>\n",
              "      <th>456</th>\n",
              "      <td>Ingredion</td>\n",
              "      <td>Food, Beverages &amp; Tobacco</td>\n",
              "      <td>Food Production</td>\n",
              "      <td>Westchester, IL</td>\n",
              "      <td>5621.0</td>\n",
              "      <td>402.0</td>\n",
              "      <td>11500.0</td>\n",
              "    </tr>\n",
              "    <tr>\n",
              "      <th>439</th>\n",
              "      <td>TravelCenters of America</td>\n",
              "      <td>Retailing</td>\n",
              "      <td>Specialty Retailers: Other</td>\n",
              "      <td>Westlake, OH</td>\n",
              "      <td>5851.0</td>\n",
              "      <td>28.0</td>\n",
              "      <td>18450.0</td>\n",
              "    </tr>\n",
              "    <tr>\n",
              "      <th>396</th>\n",
              "      <td>Terex</td>\n",
              "      <td>Industrials</td>\n",
              "      <td>Construction and Farm Machinery</td>\n",
              "      <td>Westport, CT</td>\n",
              "      <td>6543.0</td>\n",
              "      <td>146.0</td>\n",
              "      <td>20400.0</td>\n",
              "    </tr>\n",
              "    <tr>\n",
              "      <th>847</th>\n",
              "      <td>ITT</td>\n",
              "      <td>Industrials</td>\n",
              "      <td>Industrial Machinery</td>\n",
              "      <td>White Plains, NY</td>\n",
              "      <td>2486.0</td>\n",
              "      <td>352.0</td>\n",
              "      <td>9700.0</td>\n",
              "    </tr>\n",
              "    <tr>\n",
              "      <th>389</th>\n",
              "      <td>Spirit AeroSystems Holdings</td>\n",
              "      <td>Aerospace &amp; Defense</td>\n",
              "      <td>Aerospace and Defense</td>\n",
              "      <td>Wichita, KS</td>\n",
              "      <td>6644.0</td>\n",
              "      <td>789.0</td>\n",
              "      <td>15200.0</td>\n",
              "    </tr>\n",
              "    <tr>\n",
              "      <th>849</th>\n",
              "      <td>Tops Holding</td>\n",
              "      <td>Food and Drug Stores</td>\n",
              "      <td>Food and Drug Stores</td>\n",
              "      <td>Williamsville, NY</td>\n",
              "      <td>2472.0</td>\n",
              "      <td>-62.0</td>\n",
              "      <td>14800.0</td>\n",
              "    </tr>\n",
              "    <tr>\n",
              "      <th>674</th>\n",
              "      <td>Westinghouse Air Brake Technologies</td>\n",
              "      <td>Industrials</td>\n",
              "      <td>Industrial Machinery</td>\n",
              "      <td>Wilmerding, PA</td>\n",
              "      <td>3308.0</td>\n",
              "      <td>399.0</td>\n",
              "      <td>13000.0</td>\n",
              "    </tr>\n",
              "    <tr>\n",
              "      <th>101</th>\n",
              "      <td>DuPont</td>\n",
              "      <td>Chemicals</td>\n",
              "      <td>Chemicals</td>\n",
              "      <td>Wilmington, DE</td>\n",
              "      <td>27940.0</td>\n",
              "      <td>1953.0</td>\n",
              "      <td>52000.0</td>\n",
              "    </tr>\n",
              "    <tr>\n",
              "      <th>607</th>\n",
              "      <td>Fastenal</td>\n",
              "      <td>Retailing</td>\n",
              "      <td>Specialty Retailers: Other</td>\n",
              "      <td>Winona, MN</td>\n",
              "      <td>3869.0</td>\n",
              "      <td>516.0</td>\n",
              "      <td>20746.0</td>\n",
              "    </tr>\n",
              "    <tr>\n",
              "      <th>266</th>\n",
              "      <td>Reynolds American</td>\n",
              "      <td>Food, Beverages &amp; Tobacco</td>\n",
              "      <td>Tobacco</td>\n",
              "      <td>Winston-Salem, NC</td>\n",
              "      <td>10675.0</td>\n",
              "      <td>3253.0</td>\n",
              "      <td>5650.0</td>\n",
              "    </tr>\n",
              "    <tr>\n",
              "      <th>678</th>\n",
              "      <td>Skyworks Solutions</td>\n",
              "      <td>Technology</td>\n",
              "      <td>Semiconductors and Other Electronic Components</td>\n",
              "      <td>Woburn, MA</td>\n",
              "      <td>3258.0</td>\n",
              "      <td>798.0</td>\n",
              "      <td>6700.0</td>\n",
              "    </tr>\n",
              "    <tr>\n",
              "      <th>172</th>\n",
              "      <td>Health Net</td>\n",
              "      <td>Health Care</td>\n",
              "      <td>Health Care: Insurance and Managed Care</td>\n",
              "      <td>Woodland Hills, CA</td>\n",
              "      <td>16244.0</td>\n",
              "      <td>186.0</td>\n",
              "      <td>8584.0</td>\n",
              "    </tr>\n",
              "    <tr>\n",
              "      <th>7</th>\n",
              "      <td>CVS Health</td>\n",
              "      <td>Food and Drug Stores</td>\n",
              "      <td>Food and Drug Stores</td>\n",
              "      <td>Woonsocket, RI</td>\n",
              "      <td>153290.0</td>\n",
              "      <td>5237.0</td>\n",
              "      <td>199000.0</td>\n",
              "    </tr>\n",
              "    <tr>\n",
              "      <th>506</th>\n",
              "      <td>Hanover Insurance Group</td>\n",
              "      <td>Financials</td>\n",
              "      <td>Insurance: Property and Casualty (Stock)</td>\n",
              "      <td>Worcester, MA</td>\n",
              "      <td>5034.0</td>\n",
              "      <td>332.0</td>\n",
              "      <td>4800.0</td>\n",
              "    </tr>\n",
              "    <tr>\n",
              "      <th>764</th>\n",
              "      <td>Penn National Gaming</td>\n",
              "      <td>Hotels, Resturants &amp; Leisure</td>\n",
              "      <td>Hotels, Casinos, Resorts</td>\n",
              "      <td>Wyomissing, PA</td>\n",
              "      <td>2838.0</td>\n",
              "      <td>1.0</td>\n",
              "      <td>18204.0</td>\n",
              "    </tr>\n",
              "    <tr>\n",
              "      <th>773</th>\n",
              "      <td>Bon-Ton Stores</td>\n",
              "      <td>Retailing</td>\n",
              "      <td>General Merchandisers</td>\n",
              "      <td>York, PA</td>\n",
              "      <td>2790.0</td>\n",
              "      <td>-57.0</td>\n",
              "      <td>24100.0</td>\n",
              "    </tr>\n",
              "    <tr>\n",
              "      <th>932</th>\n",
              "      <td>Herman Miller</td>\n",
              "      <td>Household Products</td>\n",
              "      <td>Home Equipment, Furnishings</td>\n",
              "      <td>Zeeland, MI</td>\n",
              "      <td>2142.0</td>\n",
              "      <td>98.0</td>\n",
              "      <td>7510.0</td>\n",
              "    </tr>\n",
              "  </tbody>\n",
              "</table>\n",
              "<p>417 rows × 7 columns</p>\n",
              "</div>"
            ],
            "text/plain": [
              "                                  Company                        Sector  \\\n",
              "138                   Abbott Laboratories                   Health Care   \n",
              "169                Goodyear Tire & Rubber        Motor Vehicles & Parts   \n",
              "288              Air Products & Chemicals                     Chemicals   \n",
              "830                 Benchmark Electronics                    Technology   \n",
              "374                Casey’s General Stores                     Retailing   \n",
              "915                        Domino’s Pizza  Hotels, Resturants & Leisure   \n",
              "596                                Colfax                   Industrials   \n",
              "215                          Land O’Lakes     Food, Beverages & Tobacco   \n",
              "190                                   AES                        Energy   \n",
              "31                                    IBM                    Technology   \n",
              "28                             Home Depot                     Retailing   \n",
              "310                               Autoliv        Motor Vehicles & Parts   \n",
              "304                          Hormel Foods     Food, Beverages & Tobacco   \n",
              "181                    Whole Foods Market          Food and Drug Stores   \n",
              "668                               PolyOne                     Chemicals   \n",
              "573                         T. Rowe Price                    Financials   \n",
              "420                               Baxalta                   Health Care   \n",
              "624                             Albemarle                     Chemicals   \n",
              "207                               Kellogg     Food, Beverages & Tobacco   \n",
              "91                                   Nike                       Apparel   \n",
              "147                                Paccar        Motor Vehicles & Parts   \n",
              "645                          Regal Beloit                   Industrials   \n",
              "134                             Whirlpool                   Industrials   \n",
              "1                                 Walmart                     Retailing   \n",
              "594                                Ametek                    Technology   \n",
              "60                        Lockheed Martin           Aerospace & Defense   \n",
              "399                   Cablevision Systems            Telecommunications   \n",
              "366             Live Nation Entertainment                         Media   \n",
              "453                     Regions Financial                    Financials   \n",
              "453                     Regions Financial                    Financials   \n",
              "...                                   ...                           ...   \n",
              "120                              Raytheon           Aerospace & Defense   \n",
              "850                       United Refining                        Energy   \n",
              "431                Zimmer Biomet Holdings                   Health Care   \n",
              "16                             Fannie Mae                    Financials   \n",
              "542                 Keurig Green Mountain     Food, Beverages & Tobacco   \n",
              "898                          MPM Holdings                     Chemicals   \n",
              "874                  Granite Construction    Engineering & Construction   \n",
              "1000                    Briggs & Stratton                   Industrials   \n",
              "240                           Toys “R” Us                     Retailing   \n",
              "785                         B/E Aerospace           Aerospace & Defense   \n",
              "383                      AK Steel Holding                     Materials   \n",
              "829           Platform Specialty Products                     Chemicals   \n",
              "996            New York Community Bancorp                    Financials   \n",
              "456                             Ingredion     Food, Beverages & Tobacco   \n",
              "439              TravelCenters of America                     Retailing   \n",
              "396                                 Terex                   Industrials   \n",
              "847                                   ITT                   Industrials   \n",
              "389           Spirit AeroSystems Holdings           Aerospace & Defense   \n",
              "849                          Tops Holding          Food and Drug Stores   \n",
              "674   Westinghouse Air Brake Technologies                   Industrials   \n",
              "101                                DuPont                     Chemicals   \n",
              "607                              Fastenal                     Retailing   \n",
              "266                     Reynolds American     Food, Beverages & Tobacco   \n",
              "678                    Skyworks Solutions                    Technology   \n",
              "172                            Health Net                   Health Care   \n",
              "7                              CVS Health          Food and Drug Stores   \n",
              "506               Hanover Insurance Group                    Financials   \n",
              "764                  Penn National Gaming  Hotels, Resturants & Leisure   \n",
              "773                        Bon-Ton Stores                     Retailing   \n",
              "932                         Herman Miller            Household Products   \n",
              "\n",
              "                                            Industry                Location  \\\n",
              "138                   Medical Products and Equipment         Abbott Park, IL   \n",
              "169                         Motor Vehicles and Parts               Akron, OH   \n",
              "288                                        Chemicals           Allentown, PA   \n",
              "830   Semiconductors and Other Electronic Components            Angleton, TX   \n",
              "374                       Specialty Retailers: Other              Ankeny, IA   \n",
              "915                                    Food Services           Ann Arbor, MI   \n",
              "596                             Industrial Machinery  Annapolis Junction, MD   \n",
              "215                           Food Consumer Products         Arden Hills, MN   \n",
              "190                      Utilities: Gas and Electric           Arlington, VA   \n",
              "31                   Information Technology Services              Armonk, NY   \n",
              "28                        Specialty Retailers: Other             Atlanta, GA   \n",
              "310                         Motor Vehicles and Parts        Auburn Hills, MI   \n",
              "304                           Food Consumer Products              Austin, MN   \n",
              "181                             Food and Drug Stores              Austin, TX   \n",
              "668                                        Chemicals           Avon Lake, OH   \n",
              "573                                       Securities           Baltimore, MD   \n",
              "420                                  Pharmaceuticals         Bannockburn, IL   \n",
              "624                                        Chemicals         Baton Rouge, LA   \n",
              "207                           Food Consumer Products        Battle Creek, MI   \n",
              "91                                           Apparel           Beaverton, OR   \n",
              "147                         Motor Vehicles and Parts            Bellevue, WA   \n",
              "645                   Electronics, Electrical Equip.              Beloit, WI   \n",
              "134                   Electronics, Electrical Equip.       Benton Harbor, MI   \n",
              "1                              General Merchandisers         Bentonville, AR   \n",
              "594    Scientific,Photographic and Control Equipment              Berwyn, PA   \n",
              "60                             Aerospace and Defense            Bethesda, MD   \n",
              "399                               Telecommunications            Bethpage, NY   \n",
              "366                                    Entertainment       Beverly Hills, CA   \n",
              "453                                 Commercial Banks          Birmingham, AL   \n",
              "453                                 Commercial Banks          Birmingham, AL   \n",
              "...                                              ...                     ...   \n",
              "120                            Aerospace and Defense             Waltham, MA   \n",
              "850                               Petroleum Refining              Warren, PA   \n",
              "431                   Medical Products and Equipment              Warsaw, IN   \n",
              "16                            Diversified Financials          Washington, DC   \n",
              "542                                        Beverages           Waterbury, VT   \n",
              "898                                        Chemicals           Waterford, NY   \n",
              "874                        Engineering, Construction         Watsonville, CA   \n",
              "1000                            Industrial Machinery           Wauwatosa, WI   \n",
              "240                       Specialty Retailers: Other               Wayne, NJ   \n",
              "785                            Aerospace and Defense          Wellington, FL   \n",
              "383                                           Metals        West Chester, OH   \n",
              "829                                        Chemicals     West Palm Beach, FL   \n",
              "996                                 Commercial Banks            Westbury, NY   \n",
              "456                                  Food Production         Westchester, IL   \n",
              "439                       Specialty Retailers: Other            Westlake, OH   \n",
              "396                  Construction and Farm Machinery            Westport, CT   \n",
              "847                             Industrial Machinery        White Plains, NY   \n",
              "389                            Aerospace and Defense             Wichita, KS   \n",
              "849                             Food and Drug Stores       Williamsville, NY   \n",
              "674                             Industrial Machinery          Wilmerding, PA   \n",
              "101                                        Chemicals          Wilmington, DE   \n",
              "607                       Specialty Retailers: Other              Winona, MN   \n",
              "266                                          Tobacco       Winston-Salem, NC   \n",
              "678   Semiconductors and Other Electronic Components              Woburn, MA   \n",
              "172          Health Care: Insurance and Managed Care      Woodland Hills, CA   \n",
              "7                               Food and Drug Stores          Woonsocket, RI   \n",
              "506         Insurance: Property and Casualty (Stock)           Worcester, MA   \n",
              "764                         Hotels, Casinos, Resorts          Wyomissing, PA   \n",
              "773                            General Merchandisers                York, PA   \n",
              "932                      Home Equipment, Furnishings             Zeeland, MI   \n",
              "\n",
              "       Revenue  Profits  Employees  \n",
              "138    20661.0   4423.0    74000.0  \n",
              "169    16443.0    307.0    66000.0  \n",
              "288     9895.0   1278.0    19550.0  \n",
              "830     2541.0     95.0    10500.0  \n",
              "374     7052.0    181.0    22408.0  \n",
              "915     2217.0    193.0    11900.0  \n",
              "596     3967.0    168.0    17087.0  \n",
              "215    13161.0    308.0    10000.0  \n",
              "190    14963.0    306.0    21000.0  \n",
              "31     82461.0  13190.0   411798.0  \n",
              "28     88519.0   7009.0   385000.0  \n",
              "310     9170.0    457.0    59350.0  \n",
              "304     9264.0    686.0    20700.0  \n",
              "181    15389.0    536.0    76300.0  \n",
              "668     3378.0    145.0     6900.0  \n",
              "573     4201.0   1223.0     5999.0  \n",
              "420     6149.0    956.0    17000.0  \n",
              "624     3651.0    335.0     6963.0  \n",
              "207    13525.0    614.0    33577.0  \n",
              "91     30601.0   3273.0    62600.0  \n",
              "147    19115.0   1604.0    23000.0  \n",
              "645     3510.0    143.0    26200.0  \n",
              "134    20891.0    783.0    97000.0  \n",
              "1     482130.0  14694.0  2300000.0  \n",
              "594     3974.0    591.0    15400.0  \n",
              "60     46132.0   3605.0   126000.0  \n",
              "399     6510.0    175.0    13549.0  \n",
              "366     7246.0    -33.0    12200.0  \n",
              "453     5674.0   1062.0    23916.0  \n",
              "453     5674.0   1062.0    23916.0  \n",
              "...        ...      ...        ...  \n",
              "120    23247.0   2074.0    61000.0  \n",
              "850     2470.0     82.0     2997.0  \n",
              "431     5998.0    147.0    17500.0  \n",
              "16    110359.0  10954.0     7300.0  \n",
              "542     4520.0    498.0     6000.0  \n",
              "898     2289.0    -83.0     5000.0  \n",
              "874     2371.0     61.0     3200.0  \n",
              "1000    1895.0     46.0     5480.0  \n",
              "240    11802.0   -130.0    62000.0  \n",
              "785     2730.0    286.0    10057.0  \n",
              "383     6693.0   -509.0     8500.0  \n",
              "829     2542.0   -309.0     8200.0  \n",
              "996     1902.0    -47.0     3448.0  \n",
              "456     5621.0    402.0    11500.0  \n",
              "439     5851.0     28.0    18450.0  \n",
              "396     6543.0    146.0    20400.0  \n",
              "847     2486.0    352.0     9700.0  \n",
              "389     6644.0    789.0    15200.0  \n",
              "849     2472.0    -62.0    14800.0  \n",
              "674     3308.0    399.0    13000.0  \n",
              "101    27940.0   1953.0    52000.0  \n",
              "607     3869.0    516.0    20746.0  \n",
              "266    10675.0   3253.0     5650.0  \n",
              "678     3258.0    798.0     6700.0  \n",
              "172    16244.0    186.0     8584.0  \n",
              "7     153290.0   5237.0   199000.0  \n",
              "506     5034.0    332.0     4800.0  \n",
              "764     2838.0      1.0    18204.0  \n",
              "773     2790.0    -57.0    24100.0  \n",
              "932     2142.0     98.0     7510.0  \n",
              "\n",
              "[417 rows x 7 columns]"
            ]
          },
          "metadata": {}
        }
      ]
    },
    {
      "cell_type": "code",
      "source": "",
      "metadata": {
        "collapsed": true,
        "jupyter": {
          "outputs_hidden": true
        }
      },
      "execution_count": null,
      "outputs": []
    },
    {
      "cell_type": "code",
      "source": "",
      "metadata": {
        "collapsed": true,
        "jupyter": {
          "outputs_hidden": true
        }
      },
      "execution_count": null,
      "outputs": []
    },
    {
      "cell_type": "code",
      "source": "",
      "metadata": {
        "collapsed": true,
        "jupyter": {
          "outputs_hidden": true
        }
      },
      "execution_count": null,
      "outputs": []
    },
    {
      "cell_type": "code",
      "source": "",
      "metadata": {
        "collapsed": true,
        "jupyter": {
          "outputs_hidden": true
        }
      },
      "execution_count": null,
      "outputs": []
    },
    {
      "cell_type": "code",
      "source": "",
      "metadata": {
        "collapsed": true,
        "jupyter": {
          "outputs_hidden": true
        }
      },
      "execution_count": null,
      "outputs": []
    },
    {
      "cell_type": "code",
      "source": "",
      "metadata": {
        "collapsed": true,
        "jupyter": {
          "outputs_hidden": true
        }
      },
      "execution_count": null,
      "outputs": []
    },
    {
      "cell_type": "code",
      "source": "",
      "metadata": {
        "collapsed": true,
        "jupyter": {
          "outputs_hidden": true
        }
      },
      "execution_count": null,
      "outputs": []
    },
    {
      "cell_type": "code",
      "source": "",
      "metadata": {
        "collapsed": true,
        "jupyter": {
          "outputs_hidden": true
        }
      },
      "execution_count": null,
      "outputs": []
    },
    {
      "cell_type": "code",
      "source": "",
      "metadata": {
        "collapsed": true,
        "jupyter": {
          "outputs_hidden": true
        }
      },
      "execution_count": null,
      "outputs": []
    },
    {
      "cell_type": "code",
      "source": "",
      "metadata": {
        "collapsed": true,
        "jupyter": {
          "outputs_hidden": true
        }
      },
      "execution_count": null,
      "outputs": []
    },
    {
      "cell_type": "code",
      "source": "",
      "metadata": {
        "collapsed": true,
        "jupyter": {
          "outputs_hidden": true
        }
      },
      "execution_count": null,
      "outputs": []
    },
    {
      "cell_type": "code",
      "source": "",
      "metadata": {
        "collapsed": true,
        "jupyter": {
          "outputs_hidden": true
        }
      },
      "execution_count": null,
      "outputs": []
    },
    {
      "cell_type": "code",
      "source": "",
      "metadata": {
        "collapsed": true,
        "jupyter": {
          "outputs_hidden": true
        }
      },
      "execution_count": null,
      "outputs": []
    },
    {
      "cell_type": "code",
      "source": "",
      "metadata": {
        "collapsed": true,
        "jupyter": {
          "outputs_hidden": true
        }
      },
      "execution_count": null,
      "outputs": []
    },
    {
      "cell_type": "code",
      "source": "",
      "metadata": {
        "collapsed": true,
        "jupyter": {
          "outputs_hidden": true
        }
      },
      "execution_count": null,
      "outputs": []
    },
    {
      "cell_type": "code",
      "source": "",
      "metadata": {
        "collapsed": true,
        "jupyter": {
          "outputs_hidden": true
        }
      },
      "execution_count": null,
      "outputs": []
    },
    {
      "cell_type": "code",
      "source": "",
      "metadata": {
        "collapsed": true,
        "jupyter": {
          "outputs_hidden": true
        }
      },
      "execution_count": null,
      "outputs": []
    },
    {
      "cell_type": "code",
      "source": "",
      "metadata": {
        "collapsed": true,
        "jupyter": {
          "outputs_hidden": true
        }
      },
      "execution_count": null,
      "outputs": []
    },
    {
      "cell_type": "code",
      "source": "",
      "metadata": {
        "collapsed": true,
        "jupyter": {
          "outputs_hidden": true
        }
      },
      "execution_count": null,
      "outputs": []
    },
    {
      "cell_type": "code",
      "source": "",
      "metadata": {
        "collapsed": true,
        "jupyter": {
          "outputs_hidden": true
        }
      },
      "execution_count": null,
      "outputs": []
    },
    {
      "cell_type": "code",
      "source": "",
      "metadata": {
        "collapsed": true,
        "jupyter": {
          "outputs_hidden": true
        }
      },
      "execution_count": null,
      "outputs": []
    },
    {
      "cell_type": "code",
      "source": "",
      "metadata": {
        "collapsed": true,
        "jupyter": {
          "outputs_hidden": true
        }
      },
      "execution_count": null,
      "outputs": []
    }
  ]
}