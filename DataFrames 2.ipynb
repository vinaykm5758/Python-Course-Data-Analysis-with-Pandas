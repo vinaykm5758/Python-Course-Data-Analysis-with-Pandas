{
  "metadata": {
    "anaconda-cloud": {},
    "kernelspec": {
      "name": "python",
      "display_name": "Python (Pyodide)",
      "language": "python"
    },
    "language_info": {
      "codemirror_mode": {
        "name": "python",
        "version": 3
      },
      "file_extension": ".py",
      "mimetype": "text/x-python",
      "name": "python",
      "nbconvert_exporter": "python",
      "pygments_lexer": "ipython3",
      "version": "3.8"
    }
  },
  "nbformat_minor": 4,
  "nbformat": 4,
  "cells": [
    {
      "cell_type": "code",
      "source": "import pandas as pd",
      "metadata": {
        "tags": [],
        "trusted": true
      },
      "execution_count": 1,
      "outputs": []
    },
    {
      "cell_type": "code",
      "source": "df = pd.read_csv(\"employees.csv\", parse_dates = [\"Start Date\", \"Last Login Time\"])\n\ndf1 = pd.read_csv(\"employees.csv\")",
      "metadata": {
        "collapsed": false,
        "jupyter": {
          "outputs_hidden": false
        },
        "trusted": true
      },
      "execution_count": 46,
      "outputs": []
    },
    {
      "cell_type": "code",
      "source": "df1.head()",
      "metadata": {
        "trusted": true
      },
      "execution_count": 17,
      "outputs": [
        {
          "execution_count": 17,
          "output_type": "execute_result",
          "data": {
            "text/plain": "  First Name  Gender Start Date Last Login Time  Salary  Bonus %  \\\n0    Douglas    Male   8/6/1993        12:42 PM   97308    6.945   \n1     Thomas    Male  3/31/1996         6:53 AM   61933    4.170   \n2      Maria  Female  4/23/1993        11:17 AM  130590   11.858   \n3      Jerry    Male   3/4/2005         1:00 PM  138705    9.340   \n4      Larry    Male  1/24/1998         4:47 PM  101004    1.389   \n\n  Senior Management             Team  \n0              True        Marketing  \n1              True              NaN  \n2             False          Finance  \n3              True          Finance  \n4              True  Client Services  ",
            "text/html": "<div>\n<style scoped>\n    .dataframe tbody tr th:only-of-type {\n        vertical-align: middle;\n    }\n\n    .dataframe tbody tr th {\n        vertical-align: top;\n    }\n\n    .dataframe thead th {\n        text-align: right;\n    }\n</style>\n<table border=\"1\" class=\"dataframe\">\n  <thead>\n    <tr style=\"text-align: right;\">\n      <th></th>\n      <th>First Name</th>\n      <th>Gender</th>\n      <th>Start Date</th>\n      <th>Last Login Time</th>\n      <th>Salary</th>\n      <th>Bonus %</th>\n      <th>Senior Management</th>\n      <th>Team</th>\n    </tr>\n  </thead>\n  <tbody>\n    <tr>\n      <th>0</th>\n      <td>Douglas</td>\n      <td>Male</td>\n      <td>8/6/1993</td>\n      <td>12:42 PM</td>\n      <td>97308</td>\n      <td>6.945</td>\n      <td>True</td>\n      <td>Marketing</td>\n    </tr>\n    <tr>\n      <th>1</th>\n      <td>Thomas</td>\n      <td>Male</td>\n      <td>3/31/1996</td>\n      <td>6:53 AM</td>\n      <td>61933</td>\n      <td>4.170</td>\n      <td>True</td>\n      <td>NaN</td>\n    </tr>\n    <tr>\n      <th>2</th>\n      <td>Maria</td>\n      <td>Female</td>\n      <td>4/23/1993</td>\n      <td>11:17 AM</td>\n      <td>130590</td>\n      <td>11.858</td>\n      <td>False</td>\n      <td>Finance</td>\n    </tr>\n    <tr>\n      <th>3</th>\n      <td>Jerry</td>\n      <td>Male</td>\n      <td>3/4/2005</td>\n      <td>1:00 PM</td>\n      <td>138705</td>\n      <td>9.340</td>\n      <td>True</td>\n      <td>Finance</td>\n    </tr>\n    <tr>\n      <th>4</th>\n      <td>Larry</td>\n      <td>Male</td>\n      <td>1/24/1998</td>\n      <td>4:47 PM</td>\n      <td>101004</td>\n      <td>1.389</td>\n      <td>True</td>\n      <td>Client Services</td>\n    </tr>\n  </tbody>\n</table>\n</div>"
          },
          "metadata": {}
        }
      ]
    },
    {
      "cell_type": "code",
      "source": "",
      "metadata": {},
      "execution_count": null,
      "outputs": []
    },
    {
      "cell_type": "code",
      "source": "df.head()",
      "metadata": {
        "trusted": true
      },
      "execution_count": 6,
      "outputs": [
        {
          "execution_count": 6,
          "output_type": "execute_result",
          "data": {
            "text/plain": "  First Name  Gender Start Date     Last Login Time  Salary  Bonus %  \\\n0    Douglas    Male 1993-08-06 2023-07-17 12:42:00   97308    6.945   \n1     Thomas    Male 1996-03-31 2023-07-17 06:53:00   61933    4.170   \n2      Maria  Female 1993-04-23 2023-07-17 11:17:00  130590   11.858   \n3      Jerry    Male 2005-03-04 2023-07-17 13:00:00  138705    9.340   \n4      Larry    Male 1998-01-24 2023-07-17 16:47:00  101004    1.389   \n\n  Senior Management             Team  \n0              True        Marketing  \n1              True              NaN  \n2             False          Finance  \n3              True          Finance  \n4              True  Client Services  ",
            "text/html": "<div>\n<style scoped>\n    .dataframe tbody tr th:only-of-type {\n        vertical-align: middle;\n    }\n\n    .dataframe tbody tr th {\n        vertical-align: top;\n    }\n\n    .dataframe thead th {\n        text-align: right;\n    }\n</style>\n<table border=\"1\" class=\"dataframe\">\n  <thead>\n    <tr style=\"text-align: right;\">\n      <th></th>\n      <th>First Name</th>\n      <th>Gender</th>\n      <th>Start Date</th>\n      <th>Last Login Time</th>\n      <th>Salary</th>\n      <th>Bonus %</th>\n      <th>Senior Management</th>\n      <th>Team</th>\n    </tr>\n  </thead>\n  <tbody>\n    <tr>\n      <th>0</th>\n      <td>Douglas</td>\n      <td>Male</td>\n      <td>1993-08-06</td>\n      <td>2023-07-17 12:42:00</td>\n      <td>97308</td>\n      <td>6.945</td>\n      <td>True</td>\n      <td>Marketing</td>\n    </tr>\n    <tr>\n      <th>1</th>\n      <td>Thomas</td>\n      <td>Male</td>\n      <td>1996-03-31</td>\n      <td>2023-07-17 06:53:00</td>\n      <td>61933</td>\n      <td>4.170</td>\n      <td>True</td>\n      <td>NaN</td>\n    </tr>\n    <tr>\n      <th>2</th>\n      <td>Maria</td>\n      <td>Female</td>\n      <td>1993-04-23</td>\n      <td>2023-07-17 11:17:00</td>\n      <td>130590</td>\n      <td>11.858</td>\n      <td>False</td>\n      <td>Finance</td>\n    </tr>\n    <tr>\n      <th>3</th>\n      <td>Jerry</td>\n      <td>Male</td>\n      <td>2005-03-04</td>\n      <td>2023-07-17 13:00:00</td>\n      <td>138705</td>\n      <td>9.340</td>\n      <td>True</td>\n      <td>Finance</td>\n    </tr>\n    <tr>\n      <th>4</th>\n      <td>Larry</td>\n      <td>Male</td>\n      <td>1998-01-24</td>\n      <td>2023-07-17 16:47:00</td>\n      <td>101004</td>\n      <td>1.389</td>\n      <td>True</td>\n      <td>Client Services</td>\n    </tr>\n  </tbody>\n</table>\n</div>"
          },
          "metadata": {}
        }
      ]
    },
    {
      "cell_type": "code",
      "source": "df[\"Start Date\"]=pd.to_datetime(df[\"Start Date\"])\ndf.head()",
      "metadata": {
        "trusted": true
      },
      "execution_count": 47,
      "outputs": [
        {
          "execution_count": 47,
          "output_type": "execute_result",
          "data": {
            "text/plain": "  First Name  Gender Start Date     Last Login Time  Salary  Bonus %  \\\n0    Douglas    Male 1993-08-06 2023-07-17 12:42:00   97308    6.945   \n1     Thomas    Male 1996-03-31 2023-07-17 06:53:00   61933    4.170   \n2      Maria  Female 1993-04-23 2023-07-17 11:17:00  130590   11.858   \n3      Jerry    Male 2005-03-04 2023-07-17 13:00:00  138705    9.340   \n4      Larry    Male 1998-01-24 2023-07-17 16:47:00  101004    1.389   \n\n  Senior Management             Team  \n0              True        Marketing  \n1              True              NaN  \n2             False          Finance  \n3              True          Finance  \n4              True  Client Services  ",
            "text/html": "<div>\n<style scoped>\n    .dataframe tbody tr th:only-of-type {\n        vertical-align: middle;\n    }\n\n    .dataframe tbody tr th {\n        vertical-align: top;\n    }\n\n    .dataframe thead th {\n        text-align: right;\n    }\n</style>\n<table border=\"1\" class=\"dataframe\">\n  <thead>\n    <tr style=\"text-align: right;\">\n      <th></th>\n      <th>First Name</th>\n      <th>Gender</th>\n      <th>Start Date</th>\n      <th>Last Login Time</th>\n      <th>Salary</th>\n      <th>Bonus %</th>\n      <th>Senior Management</th>\n      <th>Team</th>\n    </tr>\n  </thead>\n  <tbody>\n    <tr>\n      <th>0</th>\n      <td>Douglas</td>\n      <td>Male</td>\n      <td>1993-08-06</td>\n      <td>2023-07-17 12:42:00</td>\n      <td>97308</td>\n      <td>6.945</td>\n      <td>True</td>\n      <td>Marketing</td>\n    </tr>\n    <tr>\n      <th>1</th>\n      <td>Thomas</td>\n      <td>Male</td>\n      <td>1996-03-31</td>\n      <td>2023-07-17 06:53:00</td>\n      <td>61933</td>\n      <td>4.170</td>\n      <td>True</td>\n      <td>NaN</td>\n    </tr>\n    <tr>\n      <th>2</th>\n      <td>Maria</td>\n      <td>Female</td>\n      <td>1993-04-23</td>\n      <td>2023-07-17 11:17:00</td>\n      <td>130590</td>\n      <td>11.858</td>\n      <td>False</td>\n      <td>Finance</td>\n    </tr>\n    <tr>\n      <th>3</th>\n      <td>Jerry</td>\n      <td>Male</td>\n      <td>2005-03-04</td>\n      <td>2023-07-17 13:00:00</td>\n      <td>138705</td>\n      <td>9.340</td>\n      <td>True</td>\n      <td>Finance</td>\n    </tr>\n    <tr>\n      <th>4</th>\n      <td>Larry</td>\n      <td>Male</td>\n      <td>1998-01-24</td>\n      <td>2023-07-17 16:47:00</td>\n      <td>101004</td>\n      <td>1.389</td>\n      <td>True</td>\n      <td>Client Services</td>\n    </tr>\n  </tbody>\n</table>\n</div>"
          },
          "metadata": {}
        }
      ]
    },
    {
      "cell_type": "code",
      "source": "df.info()",
      "metadata": {
        "trusted": true
      },
      "execution_count": 48,
      "outputs": [
        {
          "name": "stdout",
          "text": "<class 'pandas.core.frame.DataFrame'>\nRangeIndex: 1000 entries, 0 to 999\nData columns (total 8 columns):\n #   Column             Non-Null Count  Dtype         \n---  ------             --------------  -----         \n 0   First Name         933 non-null    object        \n 1   Gender             855 non-null    object        \n 2   Start Date         1000 non-null   datetime64[ns]\n 3   Last Login Time    1000 non-null   datetime64[ns]\n 4   Salary             1000 non-null   int64         \n 5   Bonus %            1000 non-null   float64       \n 6   Senior Management  933 non-null    object        \n 7   Team               957 non-null    object        \ndtypes: datetime64[ns](2), float64(1), int64(1), object(4)\nmemory usage: 46.9+ KB\n",
          "output_type": "stream"
        }
      ]
    },
    {
      "cell_type": "code",
      "source": "df[\"Last Login Time\"]=pd.to_datetime(df[\"Last Login Time\"])\ndf.head()",
      "metadata": {
        "trusted": true
      },
      "execution_count": 49,
      "outputs": [
        {
          "execution_count": 49,
          "output_type": "execute_result",
          "data": {
            "text/plain": "  First Name  Gender Start Date     Last Login Time  Salary  Bonus %  \\\n0    Douglas    Male 1993-08-06 2023-07-17 12:42:00   97308    6.945   \n1     Thomas    Male 1996-03-31 2023-07-17 06:53:00   61933    4.170   \n2      Maria  Female 1993-04-23 2023-07-17 11:17:00  130590   11.858   \n3      Jerry    Male 2005-03-04 2023-07-17 13:00:00  138705    9.340   \n4      Larry    Male 1998-01-24 2023-07-17 16:47:00  101004    1.389   \n\n  Senior Management             Team  \n0              True        Marketing  \n1              True              NaN  \n2             False          Finance  \n3              True          Finance  \n4              True  Client Services  ",
            "text/html": "<div>\n<style scoped>\n    .dataframe tbody tr th:only-of-type {\n        vertical-align: middle;\n    }\n\n    .dataframe tbody tr th {\n        vertical-align: top;\n    }\n\n    .dataframe thead th {\n        text-align: right;\n    }\n</style>\n<table border=\"1\" class=\"dataframe\">\n  <thead>\n    <tr style=\"text-align: right;\">\n      <th></th>\n      <th>First Name</th>\n      <th>Gender</th>\n      <th>Start Date</th>\n      <th>Last Login Time</th>\n      <th>Salary</th>\n      <th>Bonus %</th>\n      <th>Senior Management</th>\n      <th>Team</th>\n    </tr>\n  </thead>\n  <tbody>\n    <tr>\n      <th>0</th>\n      <td>Douglas</td>\n      <td>Male</td>\n      <td>1993-08-06</td>\n      <td>2023-07-17 12:42:00</td>\n      <td>97308</td>\n      <td>6.945</td>\n      <td>True</td>\n      <td>Marketing</td>\n    </tr>\n    <tr>\n      <th>1</th>\n      <td>Thomas</td>\n      <td>Male</td>\n      <td>1996-03-31</td>\n      <td>2023-07-17 06:53:00</td>\n      <td>61933</td>\n      <td>4.170</td>\n      <td>True</td>\n      <td>NaN</td>\n    </tr>\n    <tr>\n      <th>2</th>\n      <td>Maria</td>\n      <td>Female</td>\n      <td>1993-04-23</td>\n      <td>2023-07-17 11:17:00</td>\n      <td>130590</td>\n      <td>11.858</td>\n      <td>False</td>\n      <td>Finance</td>\n    </tr>\n    <tr>\n      <th>3</th>\n      <td>Jerry</td>\n      <td>Male</td>\n      <td>2005-03-04</td>\n      <td>2023-07-17 13:00:00</td>\n      <td>138705</td>\n      <td>9.340</td>\n      <td>True</td>\n      <td>Finance</td>\n    </tr>\n    <tr>\n      <th>4</th>\n      <td>Larry</td>\n      <td>Male</td>\n      <td>1998-01-24</td>\n      <td>2023-07-17 16:47:00</td>\n      <td>101004</td>\n      <td>1.389</td>\n      <td>True</td>\n      <td>Client Services</td>\n    </tr>\n  </tbody>\n</table>\n</div>"
          },
          "metadata": {}
        }
      ]
    },
    {
      "cell_type": "code",
      "source": "df[\"Senior Management\"] = df[\"Senior Management\"].astype(bool)",
      "metadata": {
        "trusted": true
      },
      "execution_count": 50,
      "outputs": []
    },
    {
      "cell_type": "code",
      "source": "df.info()",
      "metadata": {
        "trusted": true
      },
      "execution_count": 51,
      "outputs": [
        {
          "name": "stdout",
          "text": "<class 'pandas.core.frame.DataFrame'>\nRangeIndex: 1000 entries, 0 to 999\nData columns (total 8 columns):\n #   Column             Non-Null Count  Dtype         \n---  ------             --------------  -----         \n 0   First Name         933 non-null    object        \n 1   Gender             855 non-null    object        \n 2   Start Date         1000 non-null   datetime64[ns]\n 3   Last Login Time    1000 non-null   datetime64[ns]\n 4   Salary             1000 non-null   int64         \n 5   Bonus %            1000 non-null   float64       \n 6   Senior Management  1000 non-null   bool          \n 7   Team               957 non-null    object        \ndtypes: bool(1), datetime64[ns](2), float64(1), int64(1), object(3)\nmemory usage: 44.0+ KB\n",
          "output_type": "stream"
        }
      ]
    },
    {
      "cell_type": "code",
      "source": "df.Gender.unique()",
      "metadata": {
        "trusted": true
      },
      "execution_count": 24,
      "outputs": [
        {
          "execution_count": 24,
          "output_type": "execute_result",
          "data": {
            "text/plain": "array(['Male', 'Female', nan], dtype=object)"
          },
          "metadata": {}
        }
      ]
    },
    {
      "cell_type": "code",
      "source": "df.info()",
      "metadata": {
        "trusted": true
      },
      "execution_count": 52,
      "outputs": [
        {
          "name": "stdout",
          "text": "<class 'pandas.core.frame.DataFrame'>\nRangeIndex: 1000 entries, 0 to 999\nData columns (total 8 columns):\n #   Column             Non-Null Count  Dtype         \n---  ------             --------------  -----         \n 0   First Name         933 non-null    object        \n 1   Gender             855 non-null    object        \n 2   Start Date         1000 non-null   datetime64[ns]\n 3   Last Login Time    1000 non-null   datetime64[ns]\n 4   Salary             1000 non-null   int64         \n 5   Bonus %            1000 non-null   float64       \n 6   Senior Management  1000 non-null   bool          \n 7   Team               957 non-null    object        \ndtypes: bool(1), datetime64[ns](2), float64(1), int64(1), object(3)\nmemory usage: 44.0+ KB\n",
          "output_type": "stream"
        }
      ]
    },
    {
      "cell_type": "code",
      "source": "",
      "metadata": {},
      "execution_count": null,
      "outputs": []
    },
    {
      "cell_type": "code",
      "source": "df[\"First Name\"] = df[\"First Name\"].astype('str')",
      "metadata": {
        "trusted": true
      },
      "execution_count": 43,
      "outputs": []
    },
    {
      "cell_type": "code",
      "source": "df.dtypes",
      "metadata": {
        "trusted": true
      },
      "execution_count": 44,
      "outputs": [
        {
          "execution_count": 44,
          "output_type": "execute_result",
          "data": {
            "text/plain": "First Name                   object\nGender                     category\nStart Date           datetime64[ns]\nLast Login Time      datetime64[ns]\nSalary                        int64\nBonus %                     float64\nSenior Management              bool\nTeam                         object\ndtype: object"
          },
          "metadata": {}
        }
      ]
    },
    {
      "cell_type": "code",
      "source": "df.head()",
      "metadata": {
        "trusted": true
      },
      "execution_count": 45,
      "outputs": [
        {
          "execution_count": 45,
          "output_type": "execute_result",
          "data": {
            "text/plain": "   First Name  Gender Start Date     Last Login Time  Salary  Bonus %  \\\n0  b'Douglas'    Male 1993-08-06 2023-07-17 12:42:00   97308    6.945   \n1   b'Thomas'    Male 1996-03-31 2023-07-17 06:53:00   61933    4.170   \n2    b'Maria'  Female 1993-04-23 2023-07-17 11:17:00  130590   11.858   \n3    b'Jerry'    Male 2005-03-04 2023-07-17 13:00:00  138705    9.340   \n4    b'Larry'    Male 1998-01-24 2023-07-17 16:47:00  101004    1.389   \n\n   Senior Management             Team  \n0               True        Marketing  \n1               True              NaN  \n2              False          Finance  \n3               True          Finance  \n4               True  Client Services  ",
            "text/html": "<div>\n<style scoped>\n    .dataframe tbody tr th:only-of-type {\n        vertical-align: middle;\n    }\n\n    .dataframe tbody tr th {\n        vertical-align: top;\n    }\n\n    .dataframe thead th {\n        text-align: right;\n    }\n</style>\n<table border=\"1\" class=\"dataframe\">\n  <thead>\n    <tr style=\"text-align: right;\">\n      <th></th>\n      <th>First Name</th>\n      <th>Gender</th>\n      <th>Start Date</th>\n      <th>Last Login Time</th>\n      <th>Salary</th>\n      <th>Bonus %</th>\n      <th>Senior Management</th>\n      <th>Team</th>\n    </tr>\n  </thead>\n  <tbody>\n    <tr>\n      <th>0</th>\n      <td>b'Douglas'</td>\n      <td>Male</td>\n      <td>1993-08-06</td>\n      <td>2023-07-17 12:42:00</td>\n      <td>97308</td>\n      <td>6.945</td>\n      <td>True</td>\n      <td>Marketing</td>\n    </tr>\n    <tr>\n      <th>1</th>\n      <td>b'Thomas'</td>\n      <td>Male</td>\n      <td>1996-03-31</td>\n      <td>2023-07-17 06:53:00</td>\n      <td>61933</td>\n      <td>4.170</td>\n      <td>True</td>\n      <td>NaN</td>\n    </tr>\n    <tr>\n      <th>2</th>\n      <td>b'Maria'</td>\n      <td>Female</td>\n      <td>1993-04-23</td>\n      <td>2023-07-17 11:17:00</td>\n      <td>130590</td>\n      <td>11.858</td>\n      <td>False</td>\n      <td>Finance</td>\n    </tr>\n    <tr>\n      <th>3</th>\n      <td>b'Jerry'</td>\n      <td>Male</td>\n      <td>2005-03-04</td>\n      <td>2023-07-17 13:00:00</td>\n      <td>138705</td>\n      <td>9.340</td>\n      <td>True</td>\n      <td>Finance</td>\n    </tr>\n    <tr>\n      <th>4</th>\n      <td>b'Larry'</td>\n      <td>Male</td>\n      <td>1998-01-24</td>\n      <td>2023-07-17 16:47:00</td>\n      <td>101004</td>\n      <td>1.389</td>\n      <td>True</td>\n      <td>Client Services</td>\n    </tr>\n  </tbody>\n</table>\n</div>"
          },
          "metadata": {}
        }
      ]
    },
    {
      "cell_type": "code",
      "source": "",
      "metadata": {},
      "execution_count": null,
      "outputs": []
    },
    {
      "cell_type": "code",
      "source": "df[\"Gender\"] = df[\"Gender\"].astype(\"category\")",
      "metadata": {
        "trusted": true
      },
      "execution_count": 53,
      "outputs": []
    },
    {
      "cell_type": "code",
      "source": "df.info()",
      "metadata": {
        "trusted": true
      },
      "execution_count": 54,
      "outputs": [
        {
          "name": "stdout",
          "text": "<class 'pandas.core.frame.DataFrame'>\nRangeIndex: 1000 entries, 0 to 999\nData columns (total 8 columns):\n #   Column             Non-Null Count  Dtype         \n---  ------             --------------  -----         \n 0   First Name         933 non-null    object        \n 1   Gender             855 non-null    category      \n 2   Start Date         1000 non-null   datetime64[ns]\n 3   Last Login Time    1000 non-null   datetime64[ns]\n 4   Salary             1000 non-null   int64         \n 5   Bonus %            1000 non-null   float64       \n 6   Senior Management  1000 non-null   bool          \n 7   Team               957 non-null    object        \ndtypes: bool(1), category(1), datetime64[ns](2), float64(1), int64(1), object(2)\nmemory usage: 41.2+ KB\n",
          "output_type": "stream"
        }
      ]
    },
    {
      "cell_type": "code",
      "source": "",
      "metadata": {},
      "execution_count": null,
      "outputs": []
    },
    {
      "cell_type": "code",
      "source": "",
      "metadata": {},
      "execution_count": null,
      "outputs": []
    },
    {
      "cell_type": "code",
      "source": "df.dtypes",
      "metadata": {
        "trusted": true
      },
      "execution_count": 55,
      "outputs": [
        {
          "execution_count": 55,
          "output_type": "execute_result",
          "data": {
            "text/plain": "First Name                   object\nGender                     category\nStart Date           datetime64[ns]\nLast Login Time      datetime64[ns]\nSalary                        int64\nBonus %                     float64\nSenior Management              bool\nTeam                         object\ndtype: object"
          },
          "metadata": {}
        }
      ]
    },
    {
      "cell_type": "code",
      "source": "df.info()",
      "metadata": {
        "trusted": true
      },
      "execution_count": 8,
      "outputs": [
        {
          "name": "stdout",
          "text": "<class 'pandas.core.frame.DataFrame'>\nRangeIndex: 1000 entries, 0 to 999\nData columns (total 8 columns):\n #   Column             Non-Null Count  Dtype         \n---  ------             --------------  -----         \n 0   First Name         933 non-null    object        \n 1   Gender             855 non-null    object        \n 2   Start Date         1000 non-null   datetime64[ns]\n 3   Last Login Time    1000 non-null   datetime64[ns]\n 4   Salary             1000 non-null   int64         \n 5   Bonus %            1000 non-null   float64       \n 6   Senior Management  933 non-null    object        \n 7   Team               957 non-null    object        \ndtypes: datetime64[ns](2), float64(1), int64(1), object(4)\nmemory usage: 46.9+ KB\n",
          "output_type": "stream"
        }
      ]
    },
    {
      "cell_type": "code",
      "source": "df[\"Senior Management\"] = df[\"Senior Management\"].astype(\"bool\")\n",
      "metadata": {
        "trusted": true
      },
      "execution_count": 56,
      "outputs": []
    },
    {
      "cell_type": "code",
      "source": "df.info()",
      "metadata": {
        "trusted": true
      },
      "execution_count": 57,
      "outputs": [
        {
          "name": "stdout",
          "text": "<class 'pandas.core.frame.DataFrame'>\nRangeIndex: 1000 entries, 0 to 999\nData columns (total 8 columns):\n #   Column             Non-Null Count  Dtype         \n---  ------             --------------  -----         \n 0   First Name         933 non-null    object        \n 1   Gender             855 non-null    category      \n 2   Start Date         1000 non-null   datetime64[ns]\n 3   Last Login Time    1000 non-null   datetime64[ns]\n 4   Salary             1000 non-null   int64         \n 5   Bonus %            1000 non-null   float64       \n 6   Senior Management  1000 non-null   bool          \n 7   Team               957 non-null    object        \ndtypes: bool(1), category(1), datetime64[ns](2), float64(1), int64(1), object(2)\nmemory usage: 41.2+ KB\n",
          "output_type": "stream"
        }
      ]
    },
    {
      "cell_type": "code",
      "source": "",
      "metadata": {},
      "execution_count": null,
      "outputs": []
    },
    {
      "cell_type": "code",
      "source": "df[\"Gender\"] = df[\"Gender\"].astype(\"category\")",
      "metadata": {
        "trusted": true
      },
      "execution_count": 11,
      "outputs": []
    },
    {
      "cell_type": "code",
      "source": "df.info()",
      "metadata": {
        "trusted": true
      },
      "execution_count": 12,
      "outputs": [
        {
          "name": "stdout",
          "text": "<class 'pandas.core.frame.DataFrame'>\nRangeIndex: 1000 entries, 0 to 999\nData columns (total 8 columns):\n #   Column             Non-Null Count  Dtype         \n---  ------             --------------  -----         \n 0   First Name         933 non-null    object        \n 1   Gender             855 non-null    category      \n 2   Start Date         1000 non-null   datetime64[ns]\n 3   Last Login Time    1000 non-null   datetime64[ns]\n 4   Salary             1000 non-null   int64         \n 5   Bonus %            1000 non-null   float64       \n 6   Senior Management  1000 non-null   bool          \n 7   Team               957 non-null    object        \ndtypes: bool(1), category(1), datetime64[ns](2), float64(1), int64(1), object(2)\nmemory usage: 41.2+ KB\n",
          "output_type": "stream"
        }
      ]
    },
    {
      "cell_type": "code",
      "source": "",
      "metadata": {},
      "execution_count": null,
      "outputs": []
    },
    {
      "cell_type": "code",
      "source": "",
      "metadata": {},
      "execution_count": null,
      "outputs": []
    },
    {
      "cell_type": "markdown",
      "source": "## Filter A `DataFrame` Based On A Condition",
      "metadata": {}
    },
    {
      "cell_type": "code",
      "source": "df = pd.read_csv(\"employees.csv\", parse_dates = [\"Start Date\", \"Last Login Time\"])\ndf[\"Senior Management\"] = df[\"Senior Management\"].astype(\"bool\")\ndf[\"Gender\"] = df[\"Gender\"].astype(\"category\")\ndf.head(3)",
      "metadata": {
        "collapsed": false,
        "jupyter": {
          "outputs_hidden": false
        }
      },
      "execution_count": 25,
      "outputs": [
        {
          "execution_count": 25,
          "output_type": "execute_result",
          "data": {
            "text/html": [
              "<div>\n",
              "<table border=\"1\" class=\"dataframe\">\n",
              "  <thead>\n",
              "    <tr style=\"text-align: right;\">\n",
              "      <th></th>\n",
              "      <th>First Name</th>\n",
              "      <th>Gender</th>\n",
              "      <th>Start Date</th>\n",
              "      <th>Last Login Time</th>\n",
              "      <th>Salary</th>\n",
              "      <th>Bonus %</th>\n",
              "      <th>Senior Management</th>\n",
              "      <th>Team</th>\n",
              "    </tr>\n",
              "  </thead>\n",
              "  <tbody>\n",
              "    <tr>\n",
              "      <th>0</th>\n",
              "      <td>Douglas</td>\n",
              "      <td>Male</td>\n",
              "      <td>1993-08-06</td>\n",
              "      <td>2016-09-04 12:42:00</td>\n",
              "      <td>97308</td>\n",
              "      <td>6.945</td>\n",
              "      <td>True</td>\n",
              "      <td>Marketing</td>\n",
              "    </tr>\n",
              "    <tr>\n",
              "      <th>1</th>\n",
              "      <td>Thomas</td>\n",
              "      <td>Male</td>\n",
              "      <td>1996-03-31</td>\n",
              "      <td>2016-09-04 06:53:00</td>\n",
              "      <td>61933</td>\n",
              "      <td>4.170</td>\n",
              "      <td>True</td>\n",
              "      <td>NaN</td>\n",
              "    </tr>\n",
              "    <tr>\n",
              "      <th>2</th>\n",
              "      <td>Maria</td>\n",
              "      <td>Female</td>\n",
              "      <td>1993-04-23</td>\n",
              "      <td>2016-09-04 11:17:00</td>\n",
              "      <td>130590</td>\n",
              "      <td>11.858</td>\n",
              "      <td>False</td>\n",
              "      <td>Finance</td>\n",
              "    </tr>\n",
              "  </tbody>\n",
              "</table>\n",
              "</div>"
            ],
            "text/plain": [
              "  First Name  Gender Start Date     Last Login Time  Salary  Bonus %  \\\n",
              "0    Douglas    Male 1993-08-06 2016-09-04 12:42:00   97308    6.945   \n",
              "1     Thomas    Male 1996-03-31 2016-09-04 06:53:00   61933    4.170   \n",
              "2      Maria  Female 1993-04-23 2016-09-04 11:17:00  130590   11.858   \n",
              "\n",
              "  Senior Management       Team  \n",
              "0              True  Marketing  \n",
              "1              True        NaN  \n",
              "2             False    Finance  "
            ]
          },
          "metadata": {}
        }
      ]
    },
    {
      "cell_type": "markdown",
      "source": "## Filter with More than One Condition (AND)",
      "metadata": {}
    },
    {
      "cell_type": "code",
      "source": "df = pd.read_csv(\"employees.csv\", parse_dates = [\"Start Date\", \"Last Login Time\"])\ndf[\"Senior Management\"] = df[\"Senior Management\"].astype(\"bool\")\ndf[\"Gender\"] = df[\"Gender\"].astype(\"category\")\ndf.head(3)",
      "metadata": {
        "collapsed": false,
        "jupyter": {
          "outputs_hidden": false
        },
        "trusted": true
      },
      "execution_count": 58,
      "outputs": [
        {
          "execution_count": 58,
          "output_type": "execute_result",
          "data": {
            "text/plain": "  First Name  Gender Start Date     Last Login Time  Salary  Bonus %  \\\n0    Douglas    Male 1993-08-06 2023-07-17 12:42:00   97308    6.945   \n1     Thomas    Male 1996-03-31 2023-07-17 06:53:00   61933    4.170   \n2      Maria  Female 1993-04-23 2023-07-17 11:17:00  130590   11.858   \n\n   Senior Management       Team  \n0               True  Marketing  \n1               True        NaN  \n2              False    Finance  ",
            "text/html": "<div>\n<style scoped>\n    .dataframe tbody tr th:only-of-type {\n        vertical-align: middle;\n    }\n\n    .dataframe tbody tr th {\n        vertical-align: top;\n    }\n\n    .dataframe thead th {\n        text-align: right;\n    }\n</style>\n<table border=\"1\" class=\"dataframe\">\n  <thead>\n    <tr style=\"text-align: right;\">\n      <th></th>\n      <th>First Name</th>\n      <th>Gender</th>\n      <th>Start Date</th>\n      <th>Last Login Time</th>\n      <th>Salary</th>\n      <th>Bonus %</th>\n      <th>Senior Management</th>\n      <th>Team</th>\n    </tr>\n  </thead>\n  <tbody>\n    <tr>\n      <th>0</th>\n      <td>Douglas</td>\n      <td>Male</td>\n      <td>1993-08-06</td>\n      <td>2023-07-17 12:42:00</td>\n      <td>97308</td>\n      <td>6.945</td>\n      <td>True</td>\n      <td>Marketing</td>\n    </tr>\n    <tr>\n      <th>1</th>\n      <td>Thomas</td>\n      <td>Male</td>\n      <td>1996-03-31</td>\n      <td>2023-07-17 06:53:00</td>\n      <td>61933</td>\n      <td>4.170</td>\n      <td>True</td>\n      <td>NaN</td>\n    </tr>\n    <tr>\n      <th>2</th>\n      <td>Maria</td>\n      <td>Female</td>\n      <td>1993-04-23</td>\n      <td>2023-07-17 11:17:00</td>\n      <td>130590</td>\n      <td>11.858</td>\n      <td>False</td>\n      <td>Finance</td>\n    </tr>\n  </tbody>\n</table>\n</div>"
          },
          "metadata": {}
        }
      ]
    },
    {
      "cell_type": "code",
      "source": "df[\"Team\"]==\"Finance\"",
      "metadata": {
        "trusted": true
      },
      "execution_count": 60,
      "outputs": [
        {
          "execution_count": 60,
          "output_type": "execute_result",
          "data": {
            "text/plain": "0      False\n1      False\n2       True\n3       True\n4      False\n       ...  \n995    False\n996     True\n997    False\n998    False\n999    False\nName: Team, Length: 1000, dtype: bool"
          },
          "metadata": {}
        }
      ]
    },
    {
      "cell_type": "code",
      "source": "mak1= df[\"Team\"]==\"Finance\"\ntype(mak1)",
      "metadata": {
        "trusted": true
      },
      "execution_count": 63,
      "outputs": [
        {
          "execution_count": 63,
          "output_type": "execute_result",
          "data": {
            "text/plain": "pandas.core.series.Series"
          },
          "metadata": {}
        }
      ]
    },
    {
      "cell_type": "code",
      "source": "",
      "metadata": {},
      "execution_count": null,
      "outputs": []
    },
    {
      "cell_type": "code",
      "source": "df.Salary.max()",
      "metadata": {
        "trusted": true
      },
      "execution_count": 65,
      "outputs": [
        {
          "execution_count": 65,
          "output_type": "execute_result",
          "data": {
            "text/plain": "149908"
          },
          "metadata": {}
        }
      ]
    },
    {
      "cell_type": "code",
      "source": "sal1=df[\"Salary\"]==149908",
      "metadata": {
        "trusted": true
      },
      "execution_count": 66,
      "outputs": []
    },
    {
      "cell_type": "code",
      "source": "df[sal1]",
      "metadata": {
        "trusted": true
      },
      "execution_count": 67,
      "outputs": [
        {
          "execution_count": 67,
          "output_type": "execute_result",
          "data": {
            "text/plain": "    First Name  Gender Start Date     Last Login Time  Salary  Bonus %  \\\n644  Katherine  Female 1996-08-13 2023-07-17 00:21:00  149908   18.912   \n\n     Senior Management     Team  \n644              False  Finance  ",
            "text/html": "<div>\n<style scoped>\n    .dataframe tbody tr th:only-of-type {\n        vertical-align: middle;\n    }\n\n    .dataframe tbody tr th {\n        vertical-align: top;\n    }\n\n    .dataframe thead th {\n        text-align: right;\n    }\n</style>\n<table border=\"1\" class=\"dataframe\">\n  <thead>\n    <tr style=\"text-align: right;\">\n      <th></th>\n      <th>First Name</th>\n      <th>Gender</th>\n      <th>Start Date</th>\n      <th>Last Login Time</th>\n      <th>Salary</th>\n      <th>Bonus %</th>\n      <th>Senior Management</th>\n      <th>Team</th>\n    </tr>\n  </thead>\n  <tbody>\n    <tr>\n      <th>644</th>\n      <td>Katherine</td>\n      <td>Female</td>\n      <td>1996-08-13</td>\n      <td>2023-07-17 00:21:00</td>\n      <td>149908</td>\n      <td>18.912</td>\n      <td>False</td>\n      <td>Finance</td>\n    </tr>\n  </tbody>\n</table>\n</div>"
          },
          "metadata": {}
        }
      ]
    },
    {
      "cell_type": "code",
      "source": "df.head()",
      "metadata": {
        "trusted": true
      },
      "execution_count": 68,
      "outputs": [
        {
          "execution_count": 68,
          "output_type": "execute_result",
          "data": {
            "text/plain": "  First Name  Gender Start Date     Last Login Time  Salary  Bonus %  \\\n0    Douglas    Male 1993-08-06 2023-07-17 12:42:00   97308    6.945   \n1     Thomas    Male 1996-03-31 2023-07-17 06:53:00   61933    4.170   \n2      Maria  Female 1993-04-23 2023-07-17 11:17:00  130590   11.858   \n3      Jerry    Male 2005-03-04 2023-07-17 13:00:00  138705    9.340   \n4      Larry    Male 1998-01-24 2023-07-17 16:47:00  101004    1.389   \n\n   Senior Management             Team  \n0               True        Marketing  \n1               True              NaN  \n2              False          Finance  \n3               True          Finance  \n4               True  Client Services  ",
            "text/html": "<div>\n<style scoped>\n    .dataframe tbody tr th:only-of-type {\n        vertical-align: middle;\n    }\n\n    .dataframe tbody tr th {\n        vertical-align: top;\n    }\n\n    .dataframe thead th {\n        text-align: right;\n    }\n</style>\n<table border=\"1\" class=\"dataframe\">\n  <thead>\n    <tr style=\"text-align: right;\">\n      <th></th>\n      <th>First Name</th>\n      <th>Gender</th>\n      <th>Start Date</th>\n      <th>Last Login Time</th>\n      <th>Salary</th>\n      <th>Bonus %</th>\n      <th>Senior Management</th>\n      <th>Team</th>\n    </tr>\n  </thead>\n  <tbody>\n    <tr>\n      <th>0</th>\n      <td>Douglas</td>\n      <td>Male</td>\n      <td>1993-08-06</td>\n      <td>2023-07-17 12:42:00</td>\n      <td>97308</td>\n      <td>6.945</td>\n      <td>True</td>\n      <td>Marketing</td>\n    </tr>\n    <tr>\n      <th>1</th>\n      <td>Thomas</td>\n      <td>Male</td>\n      <td>1996-03-31</td>\n      <td>2023-07-17 06:53:00</td>\n      <td>61933</td>\n      <td>4.170</td>\n      <td>True</td>\n      <td>NaN</td>\n    </tr>\n    <tr>\n      <th>2</th>\n      <td>Maria</td>\n      <td>Female</td>\n      <td>1993-04-23</td>\n      <td>2023-07-17 11:17:00</td>\n      <td>130590</td>\n      <td>11.858</td>\n      <td>False</td>\n      <td>Finance</td>\n    </tr>\n    <tr>\n      <th>3</th>\n      <td>Jerry</td>\n      <td>Male</td>\n      <td>2005-03-04</td>\n      <td>2023-07-17 13:00:00</td>\n      <td>138705</td>\n      <td>9.340</td>\n      <td>True</td>\n      <td>Finance</td>\n    </tr>\n    <tr>\n      <th>4</th>\n      <td>Larry</td>\n      <td>Male</td>\n      <td>1998-01-24</td>\n      <td>2023-07-17 16:47:00</td>\n      <td>101004</td>\n      <td>1.389</td>\n      <td>True</td>\n      <td>Client Services</td>\n    </tr>\n  </tbody>\n</table>\n</div>"
          },
          "metadata": {}
        }
      ]
    },
    {
      "cell_type": "code",
      "source": "df11 = df.loc[df['Team'].eq('Finance') & df['First Name'].eq('Katherine')]\ndf11.head()",
      "metadata": {
        "trusted": true
      },
      "execution_count": 89,
      "outputs": [
        {
          "execution_count": 89,
          "output_type": "execute_result",
          "data": {
            "text/plain": "    First Name  Gender Start Date     Last Login Time  Salary  Bonus %  \\\n644  Katherine  Female 1996-08-13 2023-07-17 00:21:00  149908   18.912   \n\n     Senior Management     Team  \n644              False  Finance  ",
            "text/html": "<div>\n<style scoped>\n    .dataframe tbody tr th:only-of-type {\n        vertical-align: middle;\n    }\n\n    .dataframe tbody tr th {\n        vertical-align: top;\n    }\n\n    .dataframe thead th {\n        text-align: right;\n    }\n</style>\n<table border=\"1\" class=\"dataframe\">\n  <thead>\n    <tr style=\"text-align: right;\">\n      <th></th>\n      <th>First Name</th>\n      <th>Gender</th>\n      <th>Start Date</th>\n      <th>Last Login Time</th>\n      <th>Salary</th>\n      <th>Bonus %</th>\n      <th>Senior Management</th>\n      <th>Team</th>\n    </tr>\n  </thead>\n  <tbody>\n    <tr>\n      <th>644</th>\n      <td>Katherine</td>\n      <td>Female</td>\n      <td>1996-08-13</td>\n      <td>2023-07-17 00:21:00</td>\n      <td>149908</td>\n      <td>18.912</td>\n      <td>False</td>\n      <td>Finance</td>\n    </tr>\n  </tbody>\n</table>\n</div>"
          },
          "metadata": {}
        }
      ]
    },
    {
      "cell_type": "code",
      "source": "sal11",
      "metadata": {
        "trusted": true
      },
      "execution_count": 78,
      "outputs": [
        {
          "execution_count": 78,
          "output_type": "execute_result",
          "data": {
            "text/plain": "0      False\n1      False\n2      False\n3      False\n4      False\n       ...  \n995    False\n996    False\n997    False\n998    False\n999    False\nLength: 1000, dtype: bool"
          },
          "metadata": {}
        }
      ]
    },
    {
      "cell_type": "code",
      "source": "",
      "metadata": {},
      "execution_count": null,
      "outputs": []
    },
    {
      "cell_type": "code",
      "source": "",
      "metadata": {},
      "execution_count": null,
      "outputs": []
    },
    {
      "cell_type": "code",
      "source": "",
      "metadata": {},
      "execution_count": null,
      "outputs": []
    },
    {
      "cell_type": "code",
      "source": "",
      "metadata": {},
      "execution_count": null,
      "outputs": []
    },
    {
      "cell_type": "code",
      "source": "df[mak1]",
      "metadata": {
        "trusted": true
      },
      "execution_count": 64,
      "outputs": [
        {
          "execution_count": 64,
          "output_type": "execute_result",
          "data": {
            "text/plain": "    First Name  Gender Start Date     Last Login Time  Salary  Bonus %  \\\n2        Maria  Female 1993-04-23 2023-07-17 11:17:00  130590   11.858   \n3        Jerry    Male 2005-03-04 2023-07-17 13:00:00  138705    9.340   \n7          NaN  Female 2015-07-20 2023-07-17 10:43:00   45906   11.598   \n14    Kimberly  Female 1999-01-14 2023-07-17 07:13:00   41426   14.543   \n46       Bruce    Male 2009-11-28 2023-07-17 22:47:00  114796    6.796   \n..         ...     ...        ...                 ...     ...      ...   \n907  Elizabeth  Female 1998-07-27 2023-07-17 11:12:00  137144   10.081   \n954        Joe    Male 1980-01-19 2023-07-17 16:06:00  119667    1.148   \n987     Gloria  Female 2014-12-08 2023-07-17 05:08:00  136709   10.331   \n992    Anthony    Male 2011-10-16 2023-07-17 08:35:00  112769   11.625   \n996    Phillip    Male 1984-01-31 2023-07-17 06:30:00   42392   19.675   \n\n     Senior Management     Team  \n2                False  Finance  \n3                 True  Finance  \n7                 True  Finance  \n14                True  Finance  \n46               False  Finance  \n..                 ...      ...  \n907              False  Finance  \n954               True  Finance  \n987               True  Finance  \n992               True  Finance  \n996              False  Finance  \n\n[102 rows x 8 columns]",
            "text/html": "<div>\n<style scoped>\n    .dataframe tbody tr th:only-of-type {\n        vertical-align: middle;\n    }\n\n    .dataframe tbody tr th {\n        vertical-align: top;\n    }\n\n    .dataframe thead th {\n        text-align: right;\n    }\n</style>\n<table border=\"1\" class=\"dataframe\">\n  <thead>\n    <tr style=\"text-align: right;\">\n      <th></th>\n      <th>First Name</th>\n      <th>Gender</th>\n      <th>Start Date</th>\n      <th>Last Login Time</th>\n      <th>Salary</th>\n      <th>Bonus %</th>\n      <th>Senior Management</th>\n      <th>Team</th>\n    </tr>\n  </thead>\n  <tbody>\n    <tr>\n      <th>2</th>\n      <td>Maria</td>\n      <td>Female</td>\n      <td>1993-04-23</td>\n      <td>2023-07-17 11:17:00</td>\n      <td>130590</td>\n      <td>11.858</td>\n      <td>False</td>\n      <td>Finance</td>\n    </tr>\n    <tr>\n      <th>3</th>\n      <td>Jerry</td>\n      <td>Male</td>\n      <td>2005-03-04</td>\n      <td>2023-07-17 13:00:00</td>\n      <td>138705</td>\n      <td>9.340</td>\n      <td>True</td>\n      <td>Finance</td>\n    </tr>\n    <tr>\n      <th>7</th>\n      <td>NaN</td>\n      <td>Female</td>\n      <td>2015-07-20</td>\n      <td>2023-07-17 10:43:00</td>\n      <td>45906</td>\n      <td>11.598</td>\n      <td>True</td>\n      <td>Finance</td>\n    </tr>\n    <tr>\n      <th>14</th>\n      <td>Kimberly</td>\n      <td>Female</td>\n      <td>1999-01-14</td>\n      <td>2023-07-17 07:13:00</td>\n      <td>41426</td>\n      <td>14.543</td>\n      <td>True</td>\n      <td>Finance</td>\n    </tr>\n    <tr>\n      <th>46</th>\n      <td>Bruce</td>\n      <td>Male</td>\n      <td>2009-11-28</td>\n      <td>2023-07-17 22:47:00</td>\n      <td>114796</td>\n      <td>6.796</td>\n      <td>False</td>\n      <td>Finance</td>\n    </tr>\n    <tr>\n      <th>...</th>\n      <td>...</td>\n      <td>...</td>\n      <td>...</td>\n      <td>...</td>\n      <td>...</td>\n      <td>...</td>\n      <td>...</td>\n      <td>...</td>\n    </tr>\n    <tr>\n      <th>907</th>\n      <td>Elizabeth</td>\n      <td>Female</td>\n      <td>1998-07-27</td>\n      <td>2023-07-17 11:12:00</td>\n      <td>137144</td>\n      <td>10.081</td>\n      <td>False</td>\n      <td>Finance</td>\n    </tr>\n    <tr>\n      <th>954</th>\n      <td>Joe</td>\n      <td>Male</td>\n      <td>1980-01-19</td>\n      <td>2023-07-17 16:06:00</td>\n      <td>119667</td>\n      <td>1.148</td>\n      <td>True</td>\n      <td>Finance</td>\n    </tr>\n    <tr>\n      <th>987</th>\n      <td>Gloria</td>\n      <td>Female</td>\n      <td>2014-12-08</td>\n      <td>2023-07-17 05:08:00</td>\n      <td>136709</td>\n      <td>10.331</td>\n      <td>True</td>\n      <td>Finance</td>\n    </tr>\n    <tr>\n      <th>992</th>\n      <td>Anthony</td>\n      <td>Male</td>\n      <td>2011-10-16</td>\n      <td>2023-07-17 08:35:00</td>\n      <td>112769</td>\n      <td>11.625</td>\n      <td>True</td>\n      <td>Finance</td>\n    </tr>\n    <tr>\n      <th>996</th>\n      <td>Phillip</td>\n      <td>Male</td>\n      <td>1984-01-31</td>\n      <td>2023-07-17 06:30:00</td>\n      <td>42392</td>\n      <td>19.675</td>\n      <td>False</td>\n      <td>Finance</td>\n    </tr>\n  </tbody>\n</table>\n<p>102 rows × 8 columns</p>\n</div>"
          },
          "metadata": {}
        }
      ]
    },
    {
      "cell_type": "code",
      "source": "",
      "metadata": {},
      "execution_count": null,
      "outputs": []
    },
    {
      "cell_type": "code",
      "source": "mask1 = df[\"Gender\"] == \"Male\"\nmask2 = df[\"Team\"] == \"Marketing\"\n\ndf[mask1 & mask2]",
      "metadata": {
        "tags": [],
        "trusted": true
      },
      "execution_count": 59,
      "outputs": [
        {
          "execution_count": 59,
          "output_type": "execute_result",
          "data": {
            "text/plain": "    First Name Gender Start Date     Last Login Time  Salary  Bonus %  \\\n0      Douglas   Male 1993-08-06 2023-07-17 12:42:00   97308    6.945   \n21     Matthew   Male 1995-09-05 2023-07-17 02:12:00  100612   13.645   \n26       Craig   Male 2000-02-27 2023-07-17 07:45:00   37598    7.757   \n74      Thomas   Male 1995-06-04 2023-07-17 14:24:00   62096   17.029   \n77     Charles   Male 2004-09-14 2023-07-17 20:13:00  107391    1.260   \n101      Aaron   Male 2012-02-17 2023-07-17 10:20:00   61602   11.849   \n104       John   Male 1989-12-23 2023-07-17 07:01:00   80740   19.305   \n112     Willie   Male 2003-11-27 2023-07-17 06:21:00   64363    4.023   \n119       Paul   Male 2008-06-03 2023-07-17 15:05:00   41054   12.299   \n150       Sean   Male 1996-05-04 2023-07-17 20:59:00  135490   19.934   \n187      Roger   Male 2004-11-19 2023-07-17 15:55:00   51430    6.460   \n204     Willie   Male 2006-06-06 2023-07-17 09:45:00   55281    4.935   \n216    Matthew   Male 2013-07-31 2023-07-17 08:04:00  142373    2.462   \n252      Ralph   Male 2004-11-11 2023-07-17 01:35:00   71896    4.232   \n274     Howard   Male 1982-10-05 2023-07-17 07:22:00   97490    5.460   \n293      Jesse   Male 1999-10-25 2023-07-17 15:35:00  118733    9.653   \n309   Benjamin   Male 1984-09-11 2023-07-17 06:37:00   84810   15.794   \n327      Aaron   Male 1994-01-29 2023-07-17 18:48:00   58755    5.097   \n353        NaN   Male 1997-04-22 2023-07-17 21:36:00   65078    3.095   \n403      Craig   Male 1984-02-08 2023-07-17 04:45:00  113506   19.642   \n413     Johnny   Male 1992-09-14 2023-07-17 08:21:00  115194    5.861   \n452      Scott   Male 2012-11-17 2023-07-17 14:47:00  146812    1.965   \n454        NaN   Male 1995-02-21 2023-07-17 00:26:00  136602   10.429   \n461     Jeremy   Male 2001-08-09 2023-07-17 03:56:00   43354   13.946   \n464   Lawrence   Male 2005-05-13 2023-07-17 01:25:00   74640   18.641   \n484        Joe   Male 2000-04-14 2023-07-17 15:14:00   50645   11.119   \n496     Johnny   Male 2016-02-26 2023-07-17 19:39:00   76394    5.437   \n503      Roger   Male 2015-08-03 2023-07-17 16:56:00  125033    4.887   \n544      Roger   Male 2010-07-03 2023-07-17 17:11:00  105689   13.320   \n550    Gregory   Male 1984-06-18 2023-07-17 03:46:00   82726   16.304   \n556     Arthur   Male 2014-12-16 2023-07-17 16:56:00   66819    6.639   \n571   Jonathan   Male 1995-04-06 2023-07-17 22:38:00   56993   18.623   \n581     Ernest   Male 1990-01-28 2023-07-17 00:08:00   81919   15.118   \n696     Samuel   Male 2012-05-25 2023-07-17 16:40:00   85550   11.593   \n722     Joshua   Male 1997-06-27 2023-07-17 15:23:00   95003    5.197   \n798   Lawrence   Male 1984-10-01 2023-07-17 14:06:00  102589   17.952   \n860    Phillip   Male 1984-10-07 2023-07-17 11:05:00   36837   14.660   \n867       Earl   Male 2013-06-15 2023-07-17 03:00:00   48046    7.737   \n899     Walter   Male 1992-05-21 2023-07-17 00:39:00  144701   16.323   \n947        NaN   Male 2012-07-30 2023-07-17 15:07:00  107351    5.329   \n994     George   Male 2013-06-21 2023-07-17 17:47:00   98874    4.479   \n\n     Senior Management       Team  \n0                 True  Marketing  \n21               False  Marketing  \n26                True  Marketing  \n74               False  Marketing  \n77                True  Marketing  \n101               True  Marketing  \n104              False  Marketing  \n112              False  Marketing  \n119              False  Marketing  \n150              False  Marketing  \n187              False  Marketing  \n204               True  Marketing  \n216              False  Marketing  \n252               True  Marketing  \n274               True  Marketing  \n293              False  Marketing  \n309              False  Marketing  \n327               True  Marketing  \n353               True  Marketing  \n403              False  Marketing  \n413               True  Marketing  \n452               True  Marketing  \n454               True  Marketing  \n461              False  Marketing  \n464              False  Marketing  \n484              False  Marketing  \n496               True  Marketing  \n503               True  Marketing  \n544               True  Marketing  \n550               True  Marketing  \n556               True  Marketing  \n571              False  Marketing  \n581              False  Marketing  \n696               True  Marketing  \n722               True  Marketing  \n798               True  Marketing  \n860              False  Marketing  \n867              False  Marketing  \n899               True  Marketing  \n947               True  Marketing  \n994               True  Marketing  ",
            "text/html": "<div>\n<style scoped>\n    .dataframe tbody tr th:only-of-type {\n        vertical-align: middle;\n    }\n\n    .dataframe tbody tr th {\n        vertical-align: top;\n    }\n\n    .dataframe thead th {\n        text-align: right;\n    }\n</style>\n<table border=\"1\" class=\"dataframe\">\n  <thead>\n    <tr style=\"text-align: right;\">\n      <th></th>\n      <th>First Name</th>\n      <th>Gender</th>\n      <th>Start Date</th>\n      <th>Last Login Time</th>\n      <th>Salary</th>\n      <th>Bonus %</th>\n      <th>Senior Management</th>\n      <th>Team</th>\n    </tr>\n  </thead>\n  <tbody>\n    <tr>\n      <th>0</th>\n      <td>Douglas</td>\n      <td>Male</td>\n      <td>1993-08-06</td>\n      <td>2023-07-17 12:42:00</td>\n      <td>97308</td>\n      <td>6.945</td>\n      <td>True</td>\n      <td>Marketing</td>\n    </tr>\n    <tr>\n      <th>21</th>\n      <td>Matthew</td>\n      <td>Male</td>\n      <td>1995-09-05</td>\n      <td>2023-07-17 02:12:00</td>\n      <td>100612</td>\n      <td>13.645</td>\n      <td>False</td>\n      <td>Marketing</td>\n    </tr>\n    <tr>\n      <th>26</th>\n      <td>Craig</td>\n      <td>Male</td>\n      <td>2000-02-27</td>\n      <td>2023-07-17 07:45:00</td>\n      <td>37598</td>\n      <td>7.757</td>\n      <td>True</td>\n      <td>Marketing</td>\n    </tr>\n    <tr>\n      <th>74</th>\n      <td>Thomas</td>\n      <td>Male</td>\n      <td>1995-06-04</td>\n      <td>2023-07-17 14:24:00</td>\n      <td>62096</td>\n      <td>17.029</td>\n      <td>False</td>\n      <td>Marketing</td>\n    </tr>\n    <tr>\n      <th>77</th>\n      <td>Charles</td>\n      <td>Male</td>\n      <td>2004-09-14</td>\n      <td>2023-07-17 20:13:00</td>\n      <td>107391</td>\n      <td>1.260</td>\n      <td>True</td>\n      <td>Marketing</td>\n    </tr>\n    <tr>\n      <th>101</th>\n      <td>Aaron</td>\n      <td>Male</td>\n      <td>2012-02-17</td>\n      <td>2023-07-17 10:20:00</td>\n      <td>61602</td>\n      <td>11.849</td>\n      <td>True</td>\n      <td>Marketing</td>\n    </tr>\n    <tr>\n      <th>104</th>\n      <td>John</td>\n      <td>Male</td>\n      <td>1989-12-23</td>\n      <td>2023-07-17 07:01:00</td>\n      <td>80740</td>\n      <td>19.305</td>\n      <td>False</td>\n      <td>Marketing</td>\n    </tr>\n    <tr>\n      <th>112</th>\n      <td>Willie</td>\n      <td>Male</td>\n      <td>2003-11-27</td>\n      <td>2023-07-17 06:21:00</td>\n      <td>64363</td>\n      <td>4.023</td>\n      <td>False</td>\n      <td>Marketing</td>\n    </tr>\n    <tr>\n      <th>119</th>\n      <td>Paul</td>\n      <td>Male</td>\n      <td>2008-06-03</td>\n      <td>2023-07-17 15:05:00</td>\n      <td>41054</td>\n      <td>12.299</td>\n      <td>False</td>\n      <td>Marketing</td>\n    </tr>\n    <tr>\n      <th>150</th>\n      <td>Sean</td>\n      <td>Male</td>\n      <td>1996-05-04</td>\n      <td>2023-07-17 20:59:00</td>\n      <td>135490</td>\n      <td>19.934</td>\n      <td>False</td>\n      <td>Marketing</td>\n    </tr>\n    <tr>\n      <th>187</th>\n      <td>Roger</td>\n      <td>Male</td>\n      <td>2004-11-19</td>\n      <td>2023-07-17 15:55:00</td>\n      <td>51430</td>\n      <td>6.460</td>\n      <td>False</td>\n      <td>Marketing</td>\n    </tr>\n    <tr>\n      <th>204</th>\n      <td>Willie</td>\n      <td>Male</td>\n      <td>2006-06-06</td>\n      <td>2023-07-17 09:45:00</td>\n      <td>55281</td>\n      <td>4.935</td>\n      <td>True</td>\n      <td>Marketing</td>\n    </tr>\n    <tr>\n      <th>216</th>\n      <td>Matthew</td>\n      <td>Male</td>\n      <td>2013-07-31</td>\n      <td>2023-07-17 08:04:00</td>\n      <td>142373</td>\n      <td>2.462</td>\n      <td>False</td>\n      <td>Marketing</td>\n    </tr>\n    <tr>\n      <th>252</th>\n      <td>Ralph</td>\n      <td>Male</td>\n      <td>2004-11-11</td>\n      <td>2023-07-17 01:35:00</td>\n      <td>71896</td>\n      <td>4.232</td>\n      <td>True</td>\n      <td>Marketing</td>\n    </tr>\n    <tr>\n      <th>274</th>\n      <td>Howard</td>\n      <td>Male</td>\n      <td>1982-10-05</td>\n      <td>2023-07-17 07:22:00</td>\n      <td>97490</td>\n      <td>5.460</td>\n      <td>True</td>\n      <td>Marketing</td>\n    </tr>\n    <tr>\n      <th>293</th>\n      <td>Jesse</td>\n      <td>Male</td>\n      <td>1999-10-25</td>\n      <td>2023-07-17 15:35:00</td>\n      <td>118733</td>\n      <td>9.653</td>\n      <td>False</td>\n      <td>Marketing</td>\n    </tr>\n    <tr>\n      <th>309</th>\n      <td>Benjamin</td>\n      <td>Male</td>\n      <td>1984-09-11</td>\n      <td>2023-07-17 06:37:00</td>\n      <td>84810</td>\n      <td>15.794</td>\n      <td>False</td>\n      <td>Marketing</td>\n    </tr>\n    <tr>\n      <th>327</th>\n      <td>Aaron</td>\n      <td>Male</td>\n      <td>1994-01-29</td>\n      <td>2023-07-17 18:48:00</td>\n      <td>58755</td>\n      <td>5.097</td>\n      <td>True</td>\n      <td>Marketing</td>\n    </tr>\n    <tr>\n      <th>353</th>\n      <td>NaN</td>\n      <td>Male</td>\n      <td>1997-04-22</td>\n      <td>2023-07-17 21:36:00</td>\n      <td>65078</td>\n      <td>3.095</td>\n      <td>True</td>\n      <td>Marketing</td>\n    </tr>\n    <tr>\n      <th>403</th>\n      <td>Craig</td>\n      <td>Male</td>\n      <td>1984-02-08</td>\n      <td>2023-07-17 04:45:00</td>\n      <td>113506</td>\n      <td>19.642</td>\n      <td>False</td>\n      <td>Marketing</td>\n    </tr>\n    <tr>\n      <th>413</th>\n      <td>Johnny</td>\n      <td>Male</td>\n      <td>1992-09-14</td>\n      <td>2023-07-17 08:21:00</td>\n      <td>115194</td>\n      <td>5.861</td>\n      <td>True</td>\n      <td>Marketing</td>\n    </tr>\n    <tr>\n      <th>452</th>\n      <td>Scott</td>\n      <td>Male</td>\n      <td>2012-11-17</td>\n      <td>2023-07-17 14:47:00</td>\n      <td>146812</td>\n      <td>1.965</td>\n      <td>True</td>\n      <td>Marketing</td>\n    </tr>\n    <tr>\n      <th>454</th>\n      <td>NaN</td>\n      <td>Male</td>\n      <td>1995-02-21</td>\n      <td>2023-07-17 00:26:00</td>\n      <td>136602</td>\n      <td>10.429</td>\n      <td>True</td>\n      <td>Marketing</td>\n    </tr>\n    <tr>\n      <th>461</th>\n      <td>Jeremy</td>\n      <td>Male</td>\n      <td>2001-08-09</td>\n      <td>2023-07-17 03:56:00</td>\n      <td>43354</td>\n      <td>13.946</td>\n      <td>False</td>\n      <td>Marketing</td>\n    </tr>\n    <tr>\n      <th>464</th>\n      <td>Lawrence</td>\n      <td>Male</td>\n      <td>2005-05-13</td>\n      <td>2023-07-17 01:25:00</td>\n      <td>74640</td>\n      <td>18.641</td>\n      <td>False</td>\n      <td>Marketing</td>\n    </tr>\n    <tr>\n      <th>484</th>\n      <td>Joe</td>\n      <td>Male</td>\n      <td>2000-04-14</td>\n      <td>2023-07-17 15:14:00</td>\n      <td>50645</td>\n      <td>11.119</td>\n      <td>False</td>\n      <td>Marketing</td>\n    </tr>\n    <tr>\n      <th>496</th>\n      <td>Johnny</td>\n      <td>Male</td>\n      <td>2016-02-26</td>\n      <td>2023-07-17 19:39:00</td>\n      <td>76394</td>\n      <td>5.437</td>\n      <td>True</td>\n      <td>Marketing</td>\n    </tr>\n    <tr>\n      <th>503</th>\n      <td>Roger</td>\n      <td>Male</td>\n      <td>2015-08-03</td>\n      <td>2023-07-17 16:56:00</td>\n      <td>125033</td>\n      <td>4.887</td>\n      <td>True</td>\n      <td>Marketing</td>\n    </tr>\n    <tr>\n      <th>544</th>\n      <td>Roger</td>\n      <td>Male</td>\n      <td>2010-07-03</td>\n      <td>2023-07-17 17:11:00</td>\n      <td>105689</td>\n      <td>13.320</td>\n      <td>True</td>\n      <td>Marketing</td>\n    </tr>\n    <tr>\n      <th>550</th>\n      <td>Gregory</td>\n      <td>Male</td>\n      <td>1984-06-18</td>\n      <td>2023-07-17 03:46:00</td>\n      <td>82726</td>\n      <td>16.304</td>\n      <td>True</td>\n      <td>Marketing</td>\n    </tr>\n    <tr>\n      <th>556</th>\n      <td>Arthur</td>\n      <td>Male</td>\n      <td>2014-12-16</td>\n      <td>2023-07-17 16:56:00</td>\n      <td>66819</td>\n      <td>6.639</td>\n      <td>True</td>\n      <td>Marketing</td>\n    </tr>\n    <tr>\n      <th>571</th>\n      <td>Jonathan</td>\n      <td>Male</td>\n      <td>1995-04-06</td>\n      <td>2023-07-17 22:38:00</td>\n      <td>56993</td>\n      <td>18.623</td>\n      <td>False</td>\n      <td>Marketing</td>\n    </tr>\n    <tr>\n      <th>581</th>\n      <td>Ernest</td>\n      <td>Male</td>\n      <td>1990-01-28</td>\n      <td>2023-07-17 00:08:00</td>\n      <td>81919</td>\n      <td>15.118</td>\n      <td>False</td>\n      <td>Marketing</td>\n    </tr>\n    <tr>\n      <th>696</th>\n      <td>Samuel</td>\n      <td>Male</td>\n      <td>2012-05-25</td>\n      <td>2023-07-17 16:40:00</td>\n      <td>85550</td>\n      <td>11.593</td>\n      <td>True</td>\n      <td>Marketing</td>\n    </tr>\n    <tr>\n      <th>722</th>\n      <td>Joshua</td>\n      <td>Male</td>\n      <td>1997-06-27</td>\n      <td>2023-07-17 15:23:00</td>\n      <td>95003</td>\n      <td>5.197</td>\n      <td>True</td>\n      <td>Marketing</td>\n    </tr>\n    <tr>\n      <th>798</th>\n      <td>Lawrence</td>\n      <td>Male</td>\n      <td>1984-10-01</td>\n      <td>2023-07-17 14:06:00</td>\n      <td>102589</td>\n      <td>17.952</td>\n      <td>True</td>\n      <td>Marketing</td>\n    </tr>\n    <tr>\n      <th>860</th>\n      <td>Phillip</td>\n      <td>Male</td>\n      <td>1984-10-07</td>\n      <td>2023-07-17 11:05:00</td>\n      <td>36837</td>\n      <td>14.660</td>\n      <td>False</td>\n      <td>Marketing</td>\n    </tr>\n    <tr>\n      <th>867</th>\n      <td>Earl</td>\n      <td>Male</td>\n      <td>2013-06-15</td>\n      <td>2023-07-17 03:00:00</td>\n      <td>48046</td>\n      <td>7.737</td>\n      <td>False</td>\n      <td>Marketing</td>\n    </tr>\n    <tr>\n      <th>899</th>\n      <td>Walter</td>\n      <td>Male</td>\n      <td>1992-05-21</td>\n      <td>2023-07-17 00:39:00</td>\n      <td>144701</td>\n      <td>16.323</td>\n      <td>True</td>\n      <td>Marketing</td>\n    </tr>\n    <tr>\n      <th>947</th>\n      <td>NaN</td>\n      <td>Male</td>\n      <td>2012-07-30</td>\n      <td>2023-07-17 15:07:00</td>\n      <td>107351</td>\n      <td>5.329</td>\n      <td>True</td>\n      <td>Marketing</td>\n    </tr>\n    <tr>\n      <th>994</th>\n      <td>George</td>\n      <td>Male</td>\n      <td>2013-06-21</td>\n      <td>2023-07-17 17:47:00</td>\n      <td>98874</td>\n      <td>4.479</td>\n      <td>True</td>\n      <td>Marketing</td>\n    </tr>\n  </tbody>\n</table>\n</div>"
          },
          "metadata": {}
        }
      ]
    },
    {
      "cell_type": "markdown",
      "source": "## Filter with More than One Condition (OR)",
      "metadata": {}
    },
    {
      "cell_type": "code",
      "source": "df = pd.read_csv(\"employees.csv\", parse_dates = [\"Start Date\", \"Last Login Time\"])\ndf[\"Senior Management\"] = df[\"Senior Management\"].astype(\"bool\")\ndf[\"Gender\"] = df[\"Gender\"].astype(\"category\")\ndf.head(3)",
      "metadata": {
        "collapsed": false,
        "jupyter": {
          "outputs_hidden": false
        }
      },
      "execution_count": 82,
      "outputs": [
        {
          "execution_count": 82,
          "output_type": "execute_result",
          "data": {
            "text/html": [
              "<div>\n",
              "<table border=\"1\" class=\"dataframe\">\n",
              "  <thead>\n",
              "    <tr style=\"text-align: right;\">\n",
              "      <th></th>\n",
              "      <th>First Name</th>\n",
              "      <th>Gender</th>\n",
              "      <th>Start Date</th>\n",
              "      <th>Last Login Time</th>\n",
              "      <th>Salary</th>\n",
              "      <th>Bonus %</th>\n",
              "      <th>Senior Management</th>\n",
              "      <th>Team</th>\n",
              "    </tr>\n",
              "  </thead>\n",
              "  <tbody>\n",
              "    <tr>\n",
              "      <th>0</th>\n",
              "      <td>Douglas</td>\n",
              "      <td>Male</td>\n",
              "      <td>1993-08-06</td>\n",
              "      <td>2016-09-04 12:42:00</td>\n",
              "      <td>97308</td>\n",
              "      <td>6.945</td>\n",
              "      <td>True</td>\n",
              "      <td>Marketing</td>\n",
              "    </tr>\n",
              "    <tr>\n",
              "      <th>1</th>\n",
              "      <td>Thomas</td>\n",
              "      <td>Male</td>\n",
              "      <td>1996-03-31</td>\n",
              "      <td>2016-09-04 06:53:00</td>\n",
              "      <td>61933</td>\n",
              "      <td>4.170</td>\n",
              "      <td>True</td>\n",
              "      <td>NaN</td>\n",
              "    </tr>\n",
              "    <tr>\n",
              "      <th>2</th>\n",
              "      <td>Maria</td>\n",
              "      <td>Female</td>\n",
              "      <td>1993-04-23</td>\n",
              "      <td>2016-09-04 11:17:00</td>\n",
              "      <td>130590</td>\n",
              "      <td>11.858</td>\n",
              "      <td>False</td>\n",
              "      <td>Finance</td>\n",
              "    </tr>\n",
              "  </tbody>\n",
              "</table>\n",
              "</div>"
            ],
            "text/plain": [
              "  First Name  Gender Start Date     Last Login Time  Salary  Bonus %  \\\n",
              "0    Douglas    Male 1993-08-06 2016-09-04 12:42:00   97308    6.945   \n",
              "1     Thomas    Male 1996-03-31 2016-09-04 06:53:00   61933    4.170   \n",
              "2      Maria  Female 1993-04-23 2016-09-04 11:17:00  130590   11.858   \n",
              "\n",
              "  Senior Management       Team  \n",
              "0              True  Marketing  \n",
              "1              True        NaN  \n",
              "2             False    Finance  "
            ]
          },
          "metadata": {}
        }
      ]
    },
    {
      "cell_type": "code",
      "source": "mask1 = df[\"Senior Management\"]\nmask2 = df[\"Start Date\"] < \"1990-01-01\"\n\ndf[mask1 | mask2]",
      "metadata": {
        "tags": [],
        "trusted": true
      },
      "execution_count": 90,
      "outputs": [
        {
          "execution_count": 90,
          "output_type": "execute_result",
          "data": {
            "text/plain": "    First Name  Gender Start Date     Last Login Time  Salary  Bonus %  \\\n0      Douglas    Male 1993-08-06 2023-07-17 12:42:00   97308    6.945   \n1       Thomas    Male 1996-03-31 2023-07-17 06:53:00   61933    4.170   \n3        Jerry    Male 2005-03-04 2023-07-17 13:00:00  138705    9.340   \n4        Larry    Male 1998-01-24 2023-07-17 16:47:00  101004    1.389   \n5       Dennis    Male 1987-04-18 2023-07-17 01:35:00  115163   10.125   \n..         ...     ...        ...                 ...     ...      ...   \n992    Anthony    Male 2011-10-16 2023-07-17 08:35:00  112769   11.625   \n993       Tina  Female 1997-05-15 2023-07-17 15:53:00   56450   19.040   \n994     George    Male 2013-06-21 2023-07-17 17:47:00   98874    4.479   \n996    Phillip    Male 1984-01-31 2023-07-17 06:30:00   42392   19.675   \n999     Albert    Male 2012-05-15 2023-07-17 18:24:00  129949   10.169   \n\n     Senior Management             Team  \n0                 True        Marketing  \n1                 True              NaN  \n3                 True          Finance  \n4                 True  Client Services  \n5                False            Legal  \n..                 ...              ...  \n992               True          Finance  \n993               True      Engineering  \n994               True        Marketing  \n996              False          Finance  \n999               True            Sales  \n\n[653 rows x 8 columns]",
            "text/html": "<div>\n<style scoped>\n    .dataframe tbody tr th:only-of-type {\n        vertical-align: middle;\n    }\n\n    .dataframe tbody tr th {\n        vertical-align: top;\n    }\n\n    .dataframe thead th {\n        text-align: right;\n    }\n</style>\n<table border=\"1\" class=\"dataframe\">\n  <thead>\n    <tr style=\"text-align: right;\">\n      <th></th>\n      <th>First Name</th>\n      <th>Gender</th>\n      <th>Start Date</th>\n      <th>Last Login Time</th>\n      <th>Salary</th>\n      <th>Bonus %</th>\n      <th>Senior Management</th>\n      <th>Team</th>\n    </tr>\n  </thead>\n  <tbody>\n    <tr>\n      <th>0</th>\n      <td>Douglas</td>\n      <td>Male</td>\n      <td>1993-08-06</td>\n      <td>2023-07-17 12:42:00</td>\n      <td>97308</td>\n      <td>6.945</td>\n      <td>True</td>\n      <td>Marketing</td>\n    </tr>\n    <tr>\n      <th>1</th>\n      <td>Thomas</td>\n      <td>Male</td>\n      <td>1996-03-31</td>\n      <td>2023-07-17 06:53:00</td>\n      <td>61933</td>\n      <td>4.170</td>\n      <td>True</td>\n      <td>NaN</td>\n    </tr>\n    <tr>\n      <th>3</th>\n      <td>Jerry</td>\n      <td>Male</td>\n      <td>2005-03-04</td>\n      <td>2023-07-17 13:00:00</td>\n      <td>138705</td>\n      <td>9.340</td>\n      <td>True</td>\n      <td>Finance</td>\n    </tr>\n    <tr>\n      <th>4</th>\n      <td>Larry</td>\n      <td>Male</td>\n      <td>1998-01-24</td>\n      <td>2023-07-17 16:47:00</td>\n      <td>101004</td>\n      <td>1.389</td>\n      <td>True</td>\n      <td>Client Services</td>\n    </tr>\n    <tr>\n      <th>5</th>\n      <td>Dennis</td>\n      <td>Male</td>\n      <td>1987-04-18</td>\n      <td>2023-07-17 01:35:00</td>\n      <td>115163</td>\n      <td>10.125</td>\n      <td>False</td>\n      <td>Legal</td>\n    </tr>\n    <tr>\n      <th>...</th>\n      <td>...</td>\n      <td>...</td>\n      <td>...</td>\n      <td>...</td>\n      <td>...</td>\n      <td>...</td>\n      <td>...</td>\n      <td>...</td>\n    </tr>\n    <tr>\n      <th>992</th>\n      <td>Anthony</td>\n      <td>Male</td>\n      <td>2011-10-16</td>\n      <td>2023-07-17 08:35:00</td>\n      <td>112769</td>\n      <td>11.625</td>\n      <td>True</td>\n      <td>Finance</td>\n    </tr>\n    <tr>\n      <th>993</th>\n      <td>Tina</td>\n      <td>Female</td>\n      <td>1997-05-15</td>\n      <td>2023-07-17 15:53:00</td>\n      <td>56450</td>\n      <td>19.040</td>\n      <td>True</td>\n      <td>Engineering</td>\n    </tr>\n    <tr>\n      <th>994</th>\n      <td>George</td>\n      <td>Male</td>\n      <td>2013-06-21</td>\n      <td>2023-07-17 17:47:00</td>\n      <td>98874</td>\n      <td>4.479</td>\n      <td>True</td>\n      <td>Marketing</td>\n    </tr>\n    <tr>\n      <th>996</th>\n      <td>Phillip</td>\n      <td>Male</td>\n      <td>1984-01-31</td>\n      <td>2023-07-17 06:30:00</td>\n      <td>42392</td>\n      <td>19.675</td>\n      <td>False</td>\n      <td>Finance</td>\n    </tr>\n    <tr>\n      <th>999</th>\n      <td>Albert</td>\n      <td>Male</td>\n      <td>2012-05-15</td>\n      <td>2023-07-17 18:24:00</td>\n      <td>129949</td>\n      <td>10.169</td>\n      <td>True</td>\n      <td>Sales</td>\n    </tr>\n  </tbody>\n</table>\n<p>653 rows × 8 columns</p>\n</div>"
          },
          "metadata": {}
        }
      ]
    },
    {
      "cell_type": "code",
      "source": "mask1 = df[\"First Name\"] == \"Robert\"\nmask2 = df[\"Team\"] == \"Client Services\"\nmask3 = df[\"Start Date\"] > \"2016-06-01\"\n\ndf[(mask1 & mask2) | mask3]",
      "metadata": {
        "collapsed": false,
        "jupyter": {
          "outputs_hidden": false
        },
        "trusted": true
      },
      "execution_count": 91,
      "outputs": [
        {
          "execution_count": 91,
          "output_type": "execute_result",
          "data": {
            "text/plain": "    First Name  Gender Start Date     Last Login Time  Salary  Bonus %  \\\n15     Lillian  Female 2016-06-05 2023-07-17 06:09:00   59414    1.256   \n98        Tina  Female 2016-06-16 2023-07-17 19:47:00  100705   16.961   \n387     Robert    Male 1994-10-29 2023-07-17 04:26:00  123294   19.894   \n451      Terry     NaN 2016-07-15 2023-07-17 00:29:00  140002   19.490   \n\n     Senior Management             Team  \n15               False          Product  \n98                True        Marketing  \n387              False  Client Services  \n451               True        Marketing  ",
            "text/html": "<div>\n<style scoped>\n    .dataframe tbody tr th:only-of-type {\n        vertical-align: middle;\n    }\n\n    .dataframe tbody tr th {\n        vertical-align: top;\n    }\n\n    .dataframe thead th {\n        text-align: right;\n    }\n</style>\n<table border=\"1\" class=\"dataframe\">\n  <thead>\n    <tr style=\"text-align: right;\">\n      <th></th>\n      <th>First Name</th>\n      <th>Gender</th>\n      <th>Start Date</th>\n      <th>Last Login Time</th>\n      <th>Salary</th>\n      <th>Bonus %</th>\n      <th>Senior Management</th>\n      <th>Team</th>\n    </tr>\n  </thead>\n  <tbody>\n    <tr>\n      <th>15</th>\n      <td>Lillian</td>\n      <td>Female</td>\n      <td>2016-06-05</td>\n      <td>2023-07-17 06:09:00</td>\n      <td>59414</td>\n      <td>1.256</td>\n      <td>False</td>\n      <td>Product</td>\n    </tr>\n    <tr>\n      <th>98</th>\n      <td>Tina</td>\n      <td>Female</td>\n      <td>2016-06-16</td>\n      <td>2023-07-17 19:47:00</td>\n      <td>100705</td>\n      <td>16.961</td>\n      <td>True</td>\n      <td>Marketing</td>\n    </tr>\n    <tr>\n      <th>387</th>\n      <td>Robert</td>\n      <td>Male</td>\n      <td>1994-10-29</td>\n      <td>2023-07-17 04:26:00</td>\n      <td>123294</td>\n      <td>19.894</td>\n      <td>False</td>\n      <td>Client Services</td>\n    </tr>\n    <tr>\n      <th>451</th>\n      <td>Terry</td>\n      <td>NaN</td>\n      <td>2016-07-15</td>\n      <td>2023-07-17 00:29:00</td>\n      <td>140002</td>\n      <td>19.490</td>\n      <td>True</td>\n      <td>Marketing</td>\n    </tr>\n  </tbody>\n</table>\n</div>"
          },
          "metadata": {}
        }
      ]
    },
    {
      "cell_type": "markdown",
      "source": "## The `.isin()` Method",
      "metadata": {}
    },
    {
      "cell_type": "code",
      "source": "df = pd.read_csv(\"employees.csv\", parse_dates = [\"Start Date\", \"Last Login Time\"])\ndf[\"Senior Management\"] = df[\"Senior Management\"].astype(\"bool\")\ndf[\"Gender\"] = df[\"Gender\"].astype(\"category\")\ndf.head(3)",
      "metadata": {
        "collapsed": false,
        "jupyter": {
          "outputs_hidden": false
        },
        "trusted": true
      },
      "execution_count": 92,
      "outputs": [
        {
          "execution_count": 92,
          "output_type": "execute_result",
          "data": {
            "text/plain": "  First Name  Gender Start Date     Last Login Time  Salary  Bonus %  \\\n0    Douglas    Male 1993-08-06 2023-07-17 12:42:00   97308    6.945   \n1     Thomas    Male 1996-03-31 2023-07-17 06:53:00   61933    4.170   \n2      Maria  Female 1993-04-23 2023-07-17 11:17:00  130590   11.858   \n\n   Senior Management       Team  \n0               True  Marketing  \n1               True        NaN  \n2              False    Finance  ",
            "text/html": "<div>\n<style scoped>\n    .dataframe tbody tr th:only-of-type {\n        vertical-align: middle;\n    }\n\n    .dataframe tbody tr th {\n        vertical-align: top;\n    }\n\n    .dataframe thead th {\n        text-align: right;\n    }\n</style>\n<table border=\"1\" class=\"dataframe\">\n  <thead>\n    <tr style=\"text-align: right;\">\n      <th></th>\n      <th>First Name</th>\n      <th>Gender</th>\n      <th>Start Date</th>\n      <th>Last Login Time</th>\n      <th>Salary</th>\n      <th>Bonus %</th>\n      <th>Senior Management</th>\n      <th>Team</th>\n    </tr>\n  </thead>\n  <tbody>\n    <tr>\n      <th>0</th>\n      <td>Douglas</td>\n      <td>Male</td>\n      <td>1993-08-06</td>\n      <td>2023-07-17 12:42:00</td>\n      <td>97308</td>\n      <td>6.945</td>\n      <td>True</td>\n      <td>Marketing</td>\n    </tr>\n    <tr>\n      <th>1</th>\n      <td>Thomas</td>\n      <td>Male</td>\n      <td>1996-03-31</td>\n      <td>2023-07-17 06:53:00</td>\n      <td>61933</td>\n      <td>4.170</td>\n      <td>True</td>\n      <td>NaN</td>\n    </tr>\n    <tr>\n      <th>2</th>\n      <td>Maria</td>\n      <td>Female</td>\n      <td>1993-04-23</td>\n      <td>2023-07-17 11:17:00</td>\n      <td>130590</td>\n      <td>11.858</td>\n      <td>False</td>\n      <td>Finance</td>\n    </tr>\n  </tbody>\n</table>\n</div>"
          },
          "metadata": {}
        }
      ]
    },
    {
      "cell_type": "code",
      "source": "mask1 = df[\"Team\"] == \"Legal\"\nmask2 = df[\"Team\"] == \"Sales\"\nmask3 = df[\"Team\"] == \"Product\"\n\ndf[mask1 | mask2 | mask3]",
      "metadata": {
        "tags": [],
        "trusted": true
      },
      "execution_count": 93,
      "outputs": [
        {
          "execution_count": 93,
          "output_type": "execute_result",
          "data": {
            "text/plain": "    First Name  Gender Start Date     Last Login Time  Salary  Bonus %  \\\n5       Dennis    Male 1987-04-18 2023-07-17 01:35:00  115163   10.125   \n6         Ruby  Female 1987-08-17 2023-07-17 16:20:00   65476   10.012   \n11       Julie  Female 1997-10-26 2023-07-17 15:19:00  102508   12.637   \n13        Gary    Male 2008-01-27 2023-07-17 23:40:00  109831    5.831   \n15     Lillian  Female 2016-06-05 2023-07-17 06:09:00   59414    1.256   \n..         ...     ...        ...                 ...     ...      ...   \n981      James    Male 1993-01-15 2023-07-17 17:19:00  148985   19.280   \n985    Stephen     NaN 1983-07-10 2023-07-17 20:10:00   85668    1.909   \n989     Justin     NaN 1991-02-10 2023-07-17 16:58:00   38344    3.794   \n997    Russell    Male 2013-05-20 2023-07-17 12:39:00   96914    1.421   \n999     Albert    Male 2012-05-15 2023-07-17 18:24:00  129949   10.169   \n\n     Senior Management     Team  \n5                False    Legal  \n6                 True  Product  \n11                True    Legal  \n13               False    Sales  \n15               False  Product  \n..                 ...      ...  \n981              False    Legal  \n985              False    Legal  \n989              False    Legal  \n997              False  Product  \n999               True    Sales  \n\n[277 rows x 8 columns]",
            "text/html": "<div>\n<style scoped>\n    .dataframe tbody tr th:only-of-type {\n        vertical-align: middle;\n    }\n\n    .dataframe tbody tr th {\n        vertical-align: top;\n    }\n\n    .dataframe thead th {\n        text-align: right;\n    }\n</style>\n<table border=\"1\" class=\"dataframe\">\n  <thead>\n    <tr style=\"text-align: right;\">\n      <th></th>\n      <th>First Name</th>\n      <th>Gender</th>\n      <th>Start Date</th>\n      <th>Last Login Time</th>\n      <th>Salary</th>\n      <th>Bonus %</th>\n      <th>Senior Management</th>\n      <th>Team</th>\n    </tr>\n  </thead>\n  <tbody>\n    <tr>\n      <th>5</th>\n      <td>Dennis</td>\n      <td>Male</td>\n      <td>1987-04-18</td>\n      <td>2023-07-17 01:35:00</td>\n      <td>115163</td>\n      <td>10.125</td>\n      <td>False</td>\n      <td>Legal</td>\n    </tr>\n    <tr>\n      <th>6</th>\n      <td>Ruby</td>\n      <td>Female</td>\n      <td>1987-08-17</td>\n      <td>2023-07-17 16:20:00</td>\n      <td>65476</td>\n      <td>10.012</td>\n      <td>True</td>\n      <td>Product</td>\n    </tr>\n    <tr>\n      <th>11</th>\n      <td>Julie</td>\n      <td>Female</td>\n      <td>1997-10-26</td>\n      <td>2023-07-17 15:19:00</td>\n      <td>102508</td>\n      <td>12.637</td>\n      <td>True</td>\n      <td>Legal</td>\n    </tr>\n    <tr>\n      <th>13</th>\n      <td>Gary</td>\n      <td>Male</td>\n      <td>2008-01-27</td>\n      <td>2023-07-17 23:40:00</td>\n      <td>109831</td>\n      <td>5.831</td>\n      <td>False</td>\n      <td>Sales</td>\n    </tr>\n    <tr>\n      <th>15</th>\n      <td>Lillian</td>\n      <td>Female</td>\n      <td>2016-06-05</td>\n      <td>2023-07-17 06:09:00</td>\n      <td>59414</td>\n      <td>1.256</td>\n      <td>False</td>\n      <td>Product</td>\n    </tr>\n    <tr>\n      <th>...</th>\n      <td>...</td>\n      <td>...</td>\n      <td>...</td>\n      <td>...</td>\n      <td>...</td>\n      <td>...</td>\n      <td>...</td>\n      <td>...</td>\n    </tr>\n    <tr>\n      <th>981</th>\n      <td>James</td>\n      <td>Male</td>\n      <td>1993-01-15</td>\n      <td>2023-07-17 17:19:00</td>\n      <td>148985</td>\n      <td>19.280</td>\n      <td>False</td>\n      <td>Legal</td>\n    </tr>\n    <tr>\n      <th>985</th>\n      <td>Stephen</td>\n      <td>NaN</td>\n      <td>1983-07-10</td>\n      <td>2023-07-17 20:10:00</td>\n      <td>85668</td>\n      <td>1.909</td>\n      <td>False</td>\n      <td>Legal</td>\n    </tr>\n    <tr>\n      <th>989</th>\n      <td>Justin</td>\n      <td>NaN</td>\n      <td>1991-02-10</td>\n      <td>2023-07-17 16:58:00</td>\n      <td>38344</td>\n      <td>3.794</td>\n      <td>False</td>\n      <td>Legal</td>\n    </tr>\n    <tr>\n      <th>997</th>\n      <td>Russell</td>\n      <td>Male</td>\n      <td>2013-05-20</td>\n      <td>2023-07-17 12:39:00</td>\n      <td>96914</td>\n      <td>1.421</td>\n      <td>False</td>\n      <td>Product</td>\n    </tr>\n    <tr>\n      <th>999</th>\n      <td>Albert</td>\n      <td>Male</td>\n      <td>2012-05-15</td>\n      <td>2023-07-17 18:24:00</td>\n      <td>129949</td>\n      <td>10.169</td>\n      <td>True</td>\n      <td>Sales</td>\n    </tr>\n  </tbody>\n</table>\n<p>277 rows × 8 columns</p>\n</div>"
          },
          "metadata": {}
        }
      ]
    },
    {
      "cell_type": "code",
      "source": "raw =df[\"Team\"].isin([\"Legal\",\"Sales\",\"Product\"]) & df[\"First Name\"]",
      "metadata": {
        "trusted": true
      },
      "execution_count": 104,
      "outputs": []
    },
    {
      "cell_type": "code",
      "source": "df[raw]",
      "metadata": {
        "trusted": true
      },
      "execution_count": 105,
      "outputs": [
        {
          "execution_count": 105,
          "output_type": "execute_result",
          "data": {
            "text/plain": "    First Name  Gender Start Date     Last Login Time  Salary  Bonus %  \\\n5       Dennis    Male 1987-04-18 2023-07-17 01:35:00  115163   10.125   \n6         Ruby  Female 1987-08-17 2023-07-17 16:20:00   65476   10.012   \n11       Julie  Female 1997-10-26 2023-07-17 15:19:00  102508   12.637   \n13        Gary    Male 2008-01-27 2023-07-17 23:40:00  109831    5.831   \n15     Lillian  Female 2016-06-05 2023-07-17 06:09:00   59414    1.256   \n..         ...     ...        ...                 ...     ...      ...   \n981      James    Male 1993-01-15 2023-07-17 17:19:00  148985   19.280   \n985    Stephen     NaN 1983-07-10 2023-07-17 20:10:00   85668    1.909   \n989     Justin     NaN 1991-02-10 2023-07-17 16:58:00   38344    3.794   \n997    Russell    Male 2013-05-20 2023-07-17 12:39:00   96914    1.421   \n999     Albert    Male 2012-05-15 2023-07-17 18:24:00  129949   10.169   \n\n     Senior Management     Team  \n5                False    Legal  \n6                 True  Product  \n11                True    Legal  \n13               False    Sales  \n15               False  Product  \n..                 ...      ...  \n981              False    Legal  \n985              False    Legal  \n989              False    Legal  \n997              False  Product  \n999               True    Sales  \n\n[264 rows x 8 columns]",
            "text/html": "<div>\n<style scoped>\n    .dataframe tbody tr th:only-of-type {\n        vertical-align: middle;\n    }\n\n    .dataframe tbody tr th {\n        vertical-align: top;\n    }\n\n    .dataframe thead th {\n        text-align: right;\n    }\n</style>\n<table border=\"1\" class=\"dataframe\">\n  <thead>\n    <tr style=\"text-align: right;\">\n      <th></th>\n      <th>First Name</th>\n      <th>Gender</th>\n      <th>Start Date</th>\n      <th>Last Login Time</th>\n      <th>Salary</th>\n      <th>Bonus %</th>\n      <th>Senior Management</th>\n      <th>Team</th>\n    </tr>\n  </thead>\n  <tbody>\n    <tr>\n      <th>5</th>\n      <td>Dennis</td>\n      <td>Male</td>\n      <td>1987-04-18</td>\n      <td>2023-07-17 01:35:00</td>\n      <td>115163</td>\n      <td>10.125</td>\n      <td>False</td>\n      <td>Legal</td>\n    </tr>\n    <tr>\n      <th>6</th>\n      <td>Ruby</td>\n      <td>Female</td>\n      <td>1987-08-17</td>\n      <td>2023-07-17 16:20:00</td>\n      <td>65476</td>\n      <td>10.012</td>\n      <td>True</td>\n      <td>Product</td>\n    </tr>\n    <tr>\n      <th>11</th>\n      <td>Julie</td>\n      <td>Female</td>\n      <td>1997-10-26</td>\n      <td>2023-07-17 15:19:00</td>\n      <td>102508</td>\n      <td>12.637</td>\n      <td>True</td>\n      <td>Legal</td>\n    </tr>\n    <tr>\n      <th>13</th>\n      <td>Gary</td>\n      <td>Male</td>\n      <td>2008-01-27</td>\n      <td>2023-07-17 23:40:00</td>\n      <td>109831</td>\n      <td>5.831</td>\n      <td>False</td>\n      <td>Sales</td>\n    </tr>\n    <tr>\n      <th>15</th>\n      <td>Lillian</td>\n      <td>Female</td>\n      <td>2016-06-05</td>\n      <td>2023-07-17 06:09:00</td>\n      <td>59414</td>\n      <td>1.256</td>\n      <td>False</td>\n      <td>Product</td>\n    </tr>\n    <tr>\n      <th>...</th>\n      <td>...</td>\n      <td>...</td>\n      <td>...</td>\n      <td>...</td>\n      <td>...</td>\n      <td>...</td>\n      <td>...</td>\n      <td>...</td>\n    </tr>\n    <tr>\n      <th>981</th>\n      <td>James</td>\n      <td>Male</td>\n      <td>1993-01-15</td>\n      <td>2023-07-17 17:19:00</td>\n      <td>148985</td>\n      <td>19.280</td>\n      <td>False</td>\n      <td>Legal</td>\n    </tr>\n    <tr>\n      <th>985</th>\n      <td>Stephen</td>\n      <td>NaN</td>\n      <td>1983-07-10</td>\n      <td>2023-07-17 20:10:00</td>\n      <td>85668</td>\n      <td>1.909</td>\n      <td>False</td>\n      <td>Legal</td>\n    </tr>\n    <tr>\n      <th>989</th>\n      <td>Justin</td>\n      <td>NaN</td>\n      <td>1991-02-10</td>\n      <td>2023-07-17 16:58:00</td>\n      <td>38344</td>\n      <td>3.794</td>\n      <td>False</td>\n      <td>Legal</td>\n    </tr>\n    <tr>\n      <th>997</th>\n      <td>Russell</td>\n      <td>Male</td>\n      <td>2013-05-20</td>\n      <td>2023-07-17 12:39:00</td>\n      <td>96914</td>\n      <td>1.421</td>\n      <td>False</td>\n      <td>Product</td>\n    </tr>\n    <tr>\n      <th>999</th>\n      <td>Albert</td>\n      <td>Male</td>\n      <td>2012-05-15</td>\n      <td>2023-07-17 18:24:00</td>\n      <td>129949</td>\n      <td>10.169</td>\n      <td>True</td>\n      <td>Sales</td>\n    </tr>\n  </tbody>\n</table>\n<p>264 rows × 8 columns</p>\n</div>"
          },
          "metadata": {}
        }
      ]
    },
    {
      "cell_type": "code",
      "source": "",
      "metadata": {},
      "execution_count": null,
      "outputs": []
    },
    {
      "cell_type": "code",
      "source": "raw =df[\"Team\"].isin([\"Legal\",\"Sales\",\"Product\"]) & df[\"First Name\"].isin([\"Dennis\",\"Stephen\",\"Justin\"])",
      "metadata": {
        "trusted": true
      },
      "execution_count": 106,
      "outputs": []
    },
    {
      "cell_type": "code",
      "source": "df[raw]",
      "metadata": {
        "trusted": true
      },
      "execution_count": 107,
      "outputs": [
        {
          "execution_count": 107,
          "output_type": "execute_result",
          "data": {
            "text/plain": "    First Name Gender Start Date     Last Login Time  Salary  Bonus %  \\\n5       Dennis   Male 1987-04-18 2023-07-17 01:35:00  115163   10.125   \n469    Stephen   Male 2015-05-09 2023-07-17 19:07:00  141958    9.078   \n539     Justin   Male 1999-09-06 2023-07-17 10:30:00   62454    3.459   \n592     Justin   Male 1981-05-24 2023-07-17 23:15:00   78351   15.221   \n985    Stephen    NaN 1983-07-10 2023-07-17 20:10:00   85668    1.909   \n989     Justin    NaN 1991-02-10 2023-07-17 16:58:00   38344    3.794   \n\n     Senior Management   Team  \n5                False  Legal  \n469               True  Legal  \n539               True  Sales  \n592              False  Sales  \n985              False  Legal  \n989              False  Legal  ",
            "text/html": "<div>\n<style scoped>\n    .dataframe tbody tr th:only-of-type {\n        vertical-align: middle;\n    }\n\n    .dataframe tbody tr th {\n        vertical-align: top;\n    }\n\n    .dataframe thead th {\n        text-align: right;\n    }\n</style>\n<table border=\"1\" class=\"dataframe\">\n  <thead>\n    <tr style=\"text-align: right;\">\n      <th></th>\n      <th>First Name</th>\n      <th>Gender</th>\n      <th>Start Date</th>\n      <th>Last Login Time</th>\n      <th>Salary</th>\n      <th>Bonus %</th>\n      <th>Senior Management</th>\n      <th>Team</th>\n    </tr>\n  </thead>\n  <tbody>\n    <tr>\n      <th>5</th>\n      <td>Dennis</td>\n      <td>Male</td>\n      <td>1987-04-18</td>\n      <td>2023-07-17 01:35:00</td>\n      <td>115163</td>\n      <td>10.125</td>\n      <td>False</td>\n      <td>Legal</td>\n    </tr>\n    <tr>\n      <th>469</th>\n      <td>Stephen</td>\n      <td>Male</td>\n      <td>2015-05-09</td>\n      <td>2023-07-17 19:07:00</td>\n      <td>141958</td>\n      <td>9.078</td>\n      <td>True</td>\n      <td>Legal</td>\n    </tr>\n    <tr>\n      <th>539</th>\n      <td>Justin</td>\n      <td>Male</td>\n      <td>1999-09-06</td>\n      <td>2023-07-17 10:30:00</td>\n      <td>62454</td>\n      <td>3.459</td>\n      <td>True</td>\n      <td>Sales</td>\n    </tr>\n    <tr>\n      <th>592</th>\n      <td>Justin</td>\n      <td>Male</td>\n      <td>1981-05-24</td>\n      <td>2023-07-17 23:15:00</td>\n      <td>78351</td>\n      <td>15.221</td>\n      <td>False</td>\n      <td>Sales</td>\n    </tr>\n    <tr>\n      <th>985</th>\n      <td>Stephen</td>\n      <td>NaN</td>\n      <td>1983-07-10</td>\n      <td>2023-07-17 20:10:00</td>\n      <td>85668</td>\n      <td>1.909</td>\n      <td>False</td>\n      <td>Legal</td>\n    </tr>\n    <tr>\n      <th>989</th>\n      <td>Justin</td>\n      <td>NaN</td>\n      <td>1991-02-10</td>\n      <td>2023-07-17 16:58:00</td>\n      <td>38344</td>\n      <td>3.794</td>\n      <td>False</td>\n      <td>Legal</td>\n    </tr>\n  </tbody>\n</table>\n</div>"
          },
          "metadata": {}
        }
      ]
    },
    {
      "cell_type": "code",
      "source": "",
      "metadata": {},
      "execution_count": null,
      "outputs": []
    },
    {
      "cell_type": "code",
      "source": "",
      "metadata": {},
      "execution_count": null,
      "outputs": []
    },
    {
      "cell_type": "code",
      "source": "",
      "metadata": {},
      "execution_count": null,
      "outputs": []
    },
    {
      "cell_type": "code",
      "source": "",
      "metadata": {},
      "execution_count": null,
      "outputs": []
    },
    {
      "cell_type": "code",
      "source": "",
      "metadata": {},
      "execution_count": null,
      "outputs": []
    },
    {
      "cell_type": "code",
      "source": "",
      "metadata": {},
      "execution_count": null,
      "outputs": []
    },
    {
      "cell_type": "code",
      "source": "",
      "metadata": {},
      "execution_count": null,
      "outputs": []
    },
    {
      "cell_type": "markdown",
      "source": "## The `.isnull()` and `.notnull()` Methods",
      "metadata": {}
    },
    {
      "cell_type": "code",
      "source": "df = pd.read_csv(\"employees.csv\", parse_dates = [\"Start Date\", \"Last Login Time\"])\ndf[\"Senior Management\"] = df[\"Senior Management\"].astype(\"bool\")\ndf[\"Gender\"] = df[\"Gender\"].astype(\"category\")\ndf.head(3)",
      "metadata": {
        "collapsed": false,
        "jupyter": {
          "outputs_hidden": false
        },
        "trusted": true
      },
      "execution_count": 108,
      "outputs": [
        {
          "execution_count": 108,
          "output_type": "execute_result",
          "data": {
            "text/plain": "  First Name  Gender Start Date     Last Login Time  Salary  Bonus %  \\\n0    Douglas    Male 1993-08-06 2023-07-17 12:42:00   97308    6.945   \n1     Thomas    Male 1996-03-31 2023-07-17 06:53:00   61933    4.170   \n2      Maria  Female 1993-04-23 2023-07-17 11:17:00  130590   11.858   \n\n   Senior Management       Team  \n0               True  Marketing  \n1               True        NaN  \n2              False    Finance  ",
            "text/html": "<div>\n<style scoped>\n    .dataframe tbody tr th:only-of-type {\n        vertical-align: middle;\n    }\n\n    .dataframe tbody tr th {\n        vertical-align: top;\n    }\n\n    .dataframe thead th {\n        text-align: right;\n    }\n</style>\n<table border=\"1\" class=\"dataframe\">\n  <thead>\n    <tr style=\"text-align: right;\">\n      <th></th>\n      <th>First Name</th>\n      <th>Gender</th>\n      <th>Start Date</th>\n      <th>Last Login Time</th>\n      <th>Salary</th>\n      <th>Bonus %</th>\n      <th>Senior Management</th>\n      <th>Team</th>\n    </tr>\n  </thead>\n  <tbody>\n    <tr>\n      <th>0</th>\n      <td>Douglas</td>\n      <td>Male</td>\n      <td>1993-08-06</td>\n      <td>2023-07-17 12:42:00</td>\n      <td>97308</td>\n      <td>6.945</td>\n      <td>True</td>\n      <td>Marketing</td>\n    </tr>\n    <tr>\n      <th>1</th>\n      <td>Thomas</td>\n      <td>Male</td>\n      <td>1996-03-31</td>\n      <td>2023-07-17 06:53:00</td>\n      <td>61933</td>\n      <td>4.170</td>\n      <td>True</td>\n      <td>NaN</td>\n    </tr>\n    <tr>\n      <th>2</th>\n      <td>Maria</td>\n      <td>Female</td>\n      <td>1993-04-23</td>\n      <td>2023-07-17 11:17:00</td>\n      <td>130590</td>\n      <td>11.858</td>\n      <td>False</td>\n      <td>Finance</td>\n    </tr>\n  </tbody>\n</table>\n</div>"
          },
          "metadata": {}
        }
      ]
    },
    {
      "cell_type": "code",
      "source": "mask = df[\"Team\"].isnull()\n\ndf[mask]",
      "metadata": {
        "tags": [],
        "trusted": true
      },
      "execution_count": 109,
      "outputs": [
        {
          "execution_count": 109,
          "output_type": "execute_result",
          "data": {
            "text/plain": "      First Name  Gender Start Date     Last Login Time  Salary  Bonus %  \\\n1         Thomas    Male 1996-03-31 2023-07-17 06:53:00   61933    4.170   \n10        Louise  Female 1980-08-12 2023-07-17 09:01:00   63241   15.132   \n23           NaN    Male 2012-06-14 2023-07-17 16:19:00  125792    5.042   \n32           NaN    Male 1998-08-21 2023-07-17 14:27:00  122340    6.417   \n91         James     NaN 2005-01-26 2023-07-17 23:00:00  128771    8.309   \n109  Christopher    Male 2000-04-22 2023-07-17 10:15:00   37919   11.449   \n139          NaN  Female 1990-10-03 2023-07-17 01:08:00  132373   10.527   \n199     Jonathan    Male 2009-07-17 2023-07-17 08:15:00  130581   16.736   \n258      Michael    Male 2002-01-24 2023-07-17 03:04:00   43586   12.659   \n290       Jeremy    Male 1988-06-14 2023-07-17 18:20:00  129460   13.657   \n314        Bobby    Male 1996-03-31 2023-07-17 17:40:00  112117    6.338   \n367       Edward    Male 1989-08-04 2023-07-17 06:06:00   66067   10.957   \n382          NaN  Female 1996-04-18 2023-07-17 15:57:00  107024   12.182   \n434        Joyce  Female 1995-02-07 2023-07-17 07:38:00   50701   14.227   \n438        Jason    Male 1998-11-20 2023-07-17 14:54:00   69244    6.220   \n445        Chris    Male 2006-12-12 2023-07-17 01:57:00   71642    1.496   \n479      Richard    Male 1997-07-04 2023-07-17 11:47:00   47647   18.787   \n512        Wanda  Female 1993-04-06 2023-07-17 03:11:00   78883   19.695   \n513        Jimmy    Male 2013-11-19 2023-07-17 19:29:00   63549   19.624   \n520        Peter    Male 2003-02-22 2023-07-17 09:09:00   56580    8.411   \n567          NaN  Female 1980-04-01 2023-07-17 20:04:00   48141   12.605   \n573     Kimberly  Female 1981-12-30 2023-07-17 04:51:00   81800    5.435   \n580        Harry    Male 1985-01-27 2023-07-17 20:18:00   65482   18.089   \n626          NaN  Female 1997-04-13 2023-07-17 08:03:00  131755    2.930   \n634         Carl    Male 1987-03-30 2023-07-17 17:59:00   75598   19.289   \n635        Randy    Male 2000-09-27 2023-07-17 03:04:00   89831   13.047   \n647       Donald    Male 1988-04-06 2023-07-17 10:00:00  122920    5.320   \n669       Joseph     NaN 1982-03-28 2023-07-17 13:05:00   86564   11.879   \n684        Alice  Female 2016-01-21 2023-07-17 17:07:00  117787   10.485   \n706         Todd    Male 1993-07-04 2023-07-17 18:53:00  128175   18.473   \n726       Daniel    Male 2016-02-29 2023-07-17 04:04:00   77287   13.000   \n753      Antonio    Male 1999-06-06 2023-07-17 22:54:00   41928    5.478   \n774          NaN  Female 2000-06-18 2023-07-17 07:36:00  106428   10.867   \n781     Lawrence    Male 1995-07-03 2023-07-17 22:55:00   46378    9.127   \n794       Nicole  Female 2004-03-01 2023-07-17 17:17:00   44021   10.286   \n826          NaN     NaN 1988-08-01 2023-07-17 01:35:00   87103    5.665   \n850      Charles    Male 1997-09-03 2023-07-17 10:04:00  148291    6.002   \n851        Bobby    Male 1996-08-19 2023-07-17 01:16:00  147842   16.158   \n853      Mildred  Female 2007-04-06 2023-07-17 22:06:00  139284   11.390   \n855      Phillip     NaN 2003-10-20 2023-07-17 11:09:00   89700    2.277   \n864         Ryan    Male 2012-11-16 2023-07-17 13:47:00   57292    6.010   \n912          Joe    Male 1998-12-08 2023-07-17 10:28:00  126120    1.020   \n951          NaN  Female 2010-09-14 2023-07-17 05:19:00  143638    9.662   \n\n     Senior Management Team  \n1                 True  NaN  \n10                True  NaN  \n23                True  NaN  \n32                True  NaN  \n91               False  NaN  \n109              False  NaN  \n139               True  NaN  \n199               True  NaN  \n258              False  NaN  \n290               True  NaN  \n314              False  NaN  \n367               True  NaN  \n382               True  NaN  \n434               True  NaN  \n438               True  NaN  \n445              False  NaN  \n479               True  NaN  \n512              False  NaN  \n513              False  NaN  \n520               True  NaN  \n567               True  NaN  \n573               True  NaN  \n580              False  NaN  \n626               True  NaN  \n634              False  NaN  \n635               True  NaN  \n647              False  NaN  \n669               True  NaN  \n684              False  NaN  \n706               True  NaN  \n726               True  NaN  \n753               True  NaN  \n774               True  NaN  \n781              False  NaN  \n794              False  NaN  \n826               True  NaN  \n850              False  NaN  \n851               True  NaN  \n853               True  NaN  \n855               True  NaN  \n864              False  NaN  \n912              False  NaN  \n951               True  NaN  ",
            "text/html": "<div>\n<style scoped>\n    .dataframe tbody tr th:only-of-type {\n        vertical-align: middle;\n    }\n\n    .dataframe tbody tr th {\n        vertical-align: top;\n    }\n\n    .dataframe thead th {\n        text-align: right;\n    }\n</style>\n<table border=\"1\" class=\"dataframe\">\n  <thead>\n    <tr style=\"text-align: right;\">\n      <th></th>\n      <th>First Name</th>\n      <th>Gender</th>\n      <th>Start Date</th>\n      <th>Last Login Time</th>\n      <th>Salary</th>\n      <th>Bonus %</th>\n      <th>Senior Management</th>\n      <th>Team</th>\n    </tr>\n  </thead>\n  <tbody>\n    <tr>\n      <th>1</th>\n      <td>Thomas</td>\n      <td>Male</td>\n      <td>1996-03-31</td>\n      <td>2023-07-17 06:53:00</td>\n      <td>61933</td>\n      <td>4.170</td>\n      <td>True</td>\n      <td>NaN</td>\n    </tr>\n    <tr>\n      <th>10</th>\n      <td>Louise</td>\n      <td>Female</td>\n      <td>1980-08-12</td>\n      <td>2023-07-17 09:01:00</td>\n      <td>63241</td>\n      <td>15.132</td>\n      <td>True</td>\n      <td>NaN</td>\n    </tr>\n    <tr>\n      <th>23</th>\n      <td>NaN</td>\n      <td>Male</td>\n      <td>2012-06-14</td>\n      <td>2023-07-17 16:19:00</td>\n      <td>125792</td>\n      <td>5.042</td>\n      <td>True</td>\n      <td>NaN</td>\n    </tr>\n    <tr>\n      <th>32</th>\n      <td>NaN</td>\n      <td>Male</td>\n      <td>1998-08-21</td>\n      <td>2023-07-17 14:27:00</td>\n      <td>122340</td>\n      <td>6.417</td>\n      <td>True</td>\n      <td>NaN</td>\n    </tr>\n    <tr>\n      <th>91</th>\n      <td>James</td>\n      <td>NaN</td>\n      <td>2005-01-26</td>\n      <td>2023-07-17 23:00:00</td>\n      <td>128771</td>\n      <td>8.309</td>\n      <td>False</td>\n      <td>NaN</td>\n    </tr>\n    <tr>\n      <th>109</th>\n      <td>Christopher</td>\n      <td>Male</td>\n      <td>2000-04-22</td>\n      <td>2023-07-17 10:15:00</td>\n      <td>37919</td>\n      <td>11.449</td>\n      <td>False</td>\n      <td>NaN</td>\n    </tr>\n    <tr>\n      <th>139</th>\n      <td>NaN</td>\n      <td>Female</td>\n      <td>1990-10-03</td>\n      <td>2023-07-17 01:08:00</td>\n      <td>132373</td>\n      <td>10.527</td>\n      <td>True</td>\n      <td>NaN</td>\n    </tr>\n    <tr>\n      <th>199</th>\n      <td>Jonathan</td>\n      <td>Male</td>\n      <td>2009-07-17</td>\n      <td>2023-07-17 08:15:00</td>\n      <td>130581</td>\n      <td>16.736</td>\n      <td>True</td>\n      <td>NaN</td>\n    </tr>\n    <tr>\n      <th>258</th>\n      <td>Michael</td>\n      <td>Male</td>\n      <td>2002-01-24</td>\n      <td>2023-07-17 03:04:00</td>\n      <td>43586</td>\n      <td>12.659</td>\n      <td>False</td>\n      <td>NaN</td>\n    </tr>\n    <tr>\n      <th>290</th>\n      <td>Jeremy</td>\n      <td>Male</td>\n      <td>1988-06-14</td>\n      <td>2023-07-17 18:20:00</td>\n      <td>129460</td>\n      <td>13.657</td>\n      <td>True</td>\n      <td>NaN</td>\n    </tr>\n    <tr>\n      <th>314</th>\n      <td>Bobby</td>\n      <td>Male</td>\n      <td>1996-03-31</td>\n      <td>2023-07-17 17:40:00</td>\n      <td>112117</td>\n      <td>6.338</td>\n      <td>False</td>\n      <td>NaN</td>\n    </tr>\n    <tr>\n      <th>367</th>\n      <td>Edward</td>\n      <td>Male</td>\n      <td>1989-08-04</td>\n      <td>2023-07-17 06:06:00</td>\n      <td>66067</td>\n      <td>10.957</td>\n      <td>True</td>\n      <td>NaN</td>\n    </tr>\n    <tr>\n      <th>382</th>\n      <td>NaN</td>\n      <td>Female</td>\n      <td>1996-04-18</td>\n      <td>2023-07-17 15:57:00</td>\n      <td>107024</td>\n      <td>12.182</td>\n      <td>True</td>\n      <td>NaN</td>\n    </tr>\n    <tr>\n      <th>434</th>\n      <td>Joyce</td>\n      <td>Female</td>\n      <td>1995-02-07</td>\n      <td>2023-07-17 07:38:00</td>\n      <td>50701</td>\n      <td>14.227</td>\n      <td>True</td>\n      <td>NaN</td>\n    </tr>\n    <tr>\n      <th>438</th>\n      <td>Jason</td>\n      <td>Male</td>\n      <td>1998-11-20</td>\n      <td>2023-07-17 14:54:00</td>\n      <td>69244</td>\n      <td>6.220</td>\n      <td>True</td>\n      <td>NaN</td>\n    </tr>\n    <tr>\n      <th>445</th>\n      <td>Chris</td>\n      <td>Male</td>\n      <td>2006-12-12</td>\n      <td>2023-07-17 01:57:00</td>\n      <td>71642</td>\n      <td>1.496</td>\n      <td>False</td>\n      <td>NaN</td>\n    </tr>\n    <tr>\n      <th>479</th>\n      <td>Richard</td>\n      <td>Male</td>\n      <td>1997-07-04</td>\n      <td>2023-07-17 11:47:00</td>\n      <td>47647</td>\n      <td>18.787</td>\n      <td>True</td>\n      <td>NaN</td>\n    </tr>\n    <tr>\n      <th>512</th>\n      <td>Wanda</td>\n      <td>Female</td>\n      <td>1993-04-06</td>\n      <td>2023-07-17 03:11:00</td>\n      <td>78883</td>\n      <td>19.695</td>\n      <td>False</td>\n      <td>NaN</td>\n    </tr>\n    <tr>\n      <th>513</th>\n      <td>Jimmy</td>\n      <td>Male</td>\n      <td>2013-11-19</td>\n      <td>2023-07-17 19:29:00</td>\n      <td>63549</td>\n      <td>19.624</td>\n      <td>False</td>\n      <td>NaN</td>\n    </tr>\n    <tr>\n      <th>520</th>\n      <td>Peter</td>\n      <td>Male</td>\n      <td>2003-02-22</td>\n      <td>2023-07-17 09:09:00</td>\n      <td>56580</td>\n      <td>8.411</td>\n      <td>True</td>\n      <td>NaN</td>\n    </tr>\n    <tr>\n      <th>567</th>\n      <td>NaN</td>\n      <td>Female</td>\n      <td>1980-04-01</td>\n      <td>2023-07-17 20:04:00</td>\n      <td>48141</td>\n      <td>12.605</td>\n      <td>True</td>\n      <td>NaN</td>\n    </tr>\n    <tr>\n      <th>573</th>\n      <td>Kimberly</td>\n      <td>Female</td>\n      <td>1981-12-30</td>\n      <td>2023-07-17 04:51:00</td>\n      <td>81800</td>\n      <td>5.435</td>\n      <td>True</td>\n      <td>NaN</td>\n    </tr>\n    <tr>\n      <th>580</th>\n      <td>Harry</td>\n      <td>Male</td>\n      <td>1985-01-27</td>\n      <td>2023-07-17 20:18:00</td>\n      <td>65482</td>\n      <td>18.089</td>\n      <td>False</td>\n      <td>NaN</td>\n    </tr>\n    <tr>\n      <th>626</th>\n      <td>NaN</td>\n      <td>Female</td>\n      <td>1997-04-13</td>\n      <td>2023-07-17 08:03:00</td>\n      <td>131755</td>\n      <td>2.930</td>\n      <td>True</td>\n      <td>NaN</td>\n    </tr>\n    <tr>\n      <th>634</th>\n      <td>Carl</td>\n      <td>Male</td>\n      <td>1987-03-30</td>\n      <td>2023-07-17 17:59:00</td>\n      <td>75598</td>\n      <td>19.289</td>\n      <td>False</td>\n      <td>NaN</td>\n    </tr>\n    <tr>\n      <th>635</th>\n      <td>Randy</td>\n      <td>Male</td>\n      <td>2000-09-27</td>\n      <td>2023-07-17 03:04:00</td>\n      <td>89831</td>\n      <td>13.047</td>\n      <td>True</td>\n      <td>NaN</td>\n    </tr>\n    <tr>\n      <th>647</th>\n      <td>Donald</td>\n      <td>Male</td>\n      <td>1988-04-06</td>\n      <td>2023-07-17 10:00:00</td>\n      <td>122920</td>\n      <td>5.320</td>\n      <td>False</td>\n      <td>NaN</td>\n    </tr>\n    <tr>\n      <th>669</th>\n      <td>Joseph</td>\n      <td>NaN</td>\n      <td>1982-03-28</td>\n      <td>2023-07-17 13:05:00</td>\n      <td>86564</td>\n      <td>11.879</td>\n      <td>True</td>\n      <td>NaN</td>\n    </tr>\n    <tr>\n      <th>684</th>\n      <td>Alice</td>\n      <td>Female</td>\n      <td>2016-01-21</td>\n      <td>2023-07-17 17:07:00</td>\n      <td>117787</td>\n      <td>10.485</td>\n      <td>False</td>\n      <td>NaN</td>\n    </tr>\n    <tr>\n      <th>706</th>\n      <td>Todd</td>\n      <td>Male</td>\n      <td>1993-07-04</td>\n      <td>2023-07-17 18:53:00</td>\n      <td>128175</td>\n      <td>18.473</td>\n      <td>True</td>\n      <td>NaN</td>\n    </tr>\n    <tr>\n      <th>726</th>\n      <td>Daniel</td>\n      <td>Male</td>\n      <td>2016-02-29</td>\n      <td>2023-07-17 04:04:00</td>\n      <td>77287</td>\n      <td>13.000</td>\n      <td>True</td>\n      <td>NaN</td>\n    </tr>\n    <tr>\n      <th>753</th>\n      <td>Antonio</td>\n      <td>Male</td>\n      <td>1999-06-06</td>\n      <td>2023-07-17 22:54:00</td>\n      <td>41928</td>\n      <td>5.478</td>\n      <td>True</td>\n      <td>NaN</td>\n    </tr>\n    <tr>\n      <th>774</th>\n      <td>NaN</td>\n      <td>Female</td>\n      <td>2000-06-18</td>\n      <td>2023-07-17 07:36:00</td>\n      <td>106428</td>\n      <td>10.867</td>\n      <td>True</td>\n      <td>NaN</td>\n    </tr>\n    <tr>\n      <th>781</th>\n      <td>Lawrence</td>\n      <td>Male</td>\n      <td>1995-07-03</td>\n      <td>2023-07-17 22:55:00</td>\n      <td>46378</td>\n      <td>9.127</td>\n      <td>False</td>\n      <td>NaN</td>\n    </tr>\n    <tr>\n      <th>794</th>\n      <td>Nicole</td>\n      <td>Female</td>\n      <td>2004-03-01</td>\n      <td>2023-07-17 17:17:00</td>\n      <td>44021</td>\n      <td>10.286</td>\n      <td>False</td>\n      <td>NaN</td>\n    </tr>\n    <tr>\n      <th>826</th>\n      <td>NaN</td>\n      <td>NaN</td>\n      <td>1988-08-01</td>\n      <td>2023-07-17 01:35:00</td>\n      <td>87103</td>\n      <td>5.665</td>\n      <td>True</td>\n      <td>NaN</td>\n    </tr>\n    <tr>\n      <th>850</th>\n      <td>Charles</td>\n      <td>Male</td>\n      <td>1997-09-03</td>\n      <td>2023-07-17 10:04:00</td>\n      <td>148291</td>\n      <td>6.002</td>\n      <td>False</td>\n      <td>NaN</td>\n    </tr>\n    <tr>\n      <th>851</th>\n      <td>Bobby</td>\n      <td>Male</td>\n      <td>1996-08-19</td>\n      <td>2023-07-17 01:16:00</td>\n      <td>147842</td>\n      <td>16.158</td>\n      <td>True</td>\n      <td>NaN</td>\n    </tr>\n    <tr>\n      <th>853</th>\n      <td>Mildred</td>\n      <td>Female</td>\n      <td>2007-04-06</td>\n      <td>2023-07-17 22:06:00</td>\n      <td>139284</td>\n      <td>11.390</td>\n      <td>True</td>\n      <td>NaN</td>\n    </tr>\n    <tr>\n      <th>855</th>\n      <td>Phillip</td>\n      <td>NaN</td>\n      <td>2003-10-20</td>\n      <td>2023-07-17 11:09:00</td>\n      <td>89700</td>\n      <td>2.277</td>\n      <td>True</td>\n      <td>NaN</td>\n    </tr>\n    <tr>\n      <th>864</th>\n      <td>Ryan</td>\n      <td>Male</td>\n      <td>2012-11-16</td>\n      <td>2023-07-17 13:47:00</td>\n      <td>57292</td>\n      <td>6.010</td>\n      <td>False</td>\n      <td>NaN</td>\n    </tr>\n    <tr>\n      <th>912</th>\n      <td>Joe</td>\n      <td>Male</td>\n      <td>1998-12-08</td>\n      <td>2023-07-17 10:28:00</td>\n      <td>126120</td>\n      <td>1.020</td>\n      <td>False</td>\n      <td>NaN</td>\n    </tr>\n    <tr>\n      <th>951</th>\n      <td>NaN</td>\n      <td>Female</td>\n      <td>2010-09-14</td>\n      <td>2023-07-17 05:19:00</td>\n      <td>143638</td>\n      <td>9.662</td>\n      <td>True</td>\n      <td>NaN</td>\n    </tr>\n  </tbody>\n</table>\n</div>"
          },
          "metadata": {}
        }
      ]
    },
    {
      "cell_type": "code",
      "source": "",
      "metadata": {},
      "execution_count": null,
      "outputs": []
    },
    {
      "cell_type": "code",
      "source": "r1=df[\"Gender\"].isnull()",
      "metadata": {
        "trusted": true
      },
      "execution_count": 111,
      "outputs": []
    },
    {
      "cell_type": "code",
      "source": "",
      "metadata": {},
      "execution_count": null,
      "outputs": []
    },
    {
      "cell_type": "code",
      "source": "",
      "metadata": {},
      "execution_count": null,
      "outputs": []
    },
    {
      "cell_type": "code",
      "source": "",
      "metadata": {},
      "execution_count": null,
      "outputs": []
    },
    {
      "cell_type": "code",
      "source": "df[r1]",
      "metadata": {
        "trusted": true
      },
      "execution_count": 112,
      "outputs": [
        {
          "execution_count": 112,
          "output_type": "execute_result",
          "data": {
            "text/plain": "    First Name Gender Start Date     Last Login Time  Salary  Bonus %  \\\n20        Lois    NaN 1995-04-22 2023-07-17 19:18:00   64714    4.934   \n22      Joshua    NaN 2012-03-08 2023-07-17 01:58:00   90816   18.816   \n27       Scott    NaN 1991-07-11 2023-07-17 18:58:00  122367    5.218   \n31       Joyce    NaN 2005-02-20 2023-07-17 14:40:00   88657   12.752   \n41   Christine    NaN 2015-06-28 2023-07-17 01:08:00   66582   11.308   \n..         ...    ...        ...                 ...     ...      ...   \n961    Antonio    NaN 1989-06-18 2023-07-17 21:37:00  103050    3.050   \n972     Victor    NaN 2006-07-28 2023-07-17 14:49:00   76381   11.159   \n985    Stephen    NaN 1983-07-10 2023-07-17 20:10:00   85668    1.909   \n989     Justin    NaN 1991-02-10 2023-07-17 16:58:00   38344    3.794   \n995      Henry    NaN 2014-11-23 2023-07-17 06:09:00  132483   16.655   \n\n     Senior Management                  Team  \n20                True                 Legal  \n22                True       Client Services  \n27               False                 Legal  \n31               False               Product  \n41                True  Business Development  \n..                 ...                   ...  \n961              False                 Legal  \n972               True                 Sales  \n985              False                 Legal  \n989              False                 Legal  \n995              False          Distribution  \n\n[145 rows x 8 columns]",
            "text/html": "<div>\n<style scoped>\n    .dataframe tbody tr th:only-of-type {\n        vertical-align: middle;\n    }\n\n    .dataframe tbody tr th {\n        vertical-align: top;\n    }\n\n    .dataframe thead th {\n        text-align: right;\n    }\n</style>\n<table border=\"1\" class=\"dataframe\">\n  <thead>\n    <tr style=\"text-align: right;\">\n      <th></th>\n      <th>First Name</th>\n      <th>Gender</th>\n      <th>Start Date</th>\n      <th>Last Login Time</th>\n      <th>Salary</th>\n      <th>Bonus %</th>\n      <th>Senior Management</th>\n      <th>Team</th>\n    </tr>\n  </thead>\n  <tbody>\n    <tr>\n      <th>20</th>\n      <td>Lois</td>\n      <td>NaN</td>\n      <td>1995-04-22</td>\n      <td>2023-07-17 19:18:00</td>\n      <td>64714</td>\n      <td>4.934</td>\n      <td>True</td>\n      <td>Legal</td>\n    </tr>\n    <tr>\n      <th>22</th>\n      <td>Joshua</td>\n      <td>NaN</td>\n      <td>2012-03-08</td>\n      <td>2023-07-17 01:58:00</td>\n      <td>90816</td>\n      <td>18.816</td>\n      <td>True</td>\n      <td>Client Services</td>\n    </tr>\n    <tr>\n      <th>27</th>\n      <td>Scott</td>\n      <td>NaN</td>\n      <td>1991-07-11</td>\n      <td>2023-07-17 18:58:00</td>\n      <td>122367</td>\n      <td>5.218</td>\n      <td>False</td>\n      <td>Legal</td>\n    </tr>\n    <tr>\n      <th>31</th>\n      <td>Joyce</td>\n      <td>NaN</td>\n      <td>2005-02-20</td>\n      <td>2023-07-17 14:40:00</td>\n      <td>88657</td>\n      <td>12.752</td>\n      <td>False</td>\n      <td>Product</td>\n    </tr>\n    <tr>\n      <th>41</th>\n      <td>Christine</td>\n      <td>NaN</td>\n      <td>2015-06-28</td>\n      <td>2023-07-17 01:08:00</td>\n      <td>66582</td>\n      <td>11.308</td>\n      <td>True</td>\n      <td>Business Development</td>\n    </tr>\n    <tr>\n      <th>...</th>\n      <td>...</td>\n      <td>...</td>\n      <td>...</td>\n      <td>...</td>\n      <td>...</td>\n      <td>...</td>\n      <td>...</td>\n      <td>...</td>\n    </tr>\n    <tr>\n      <th>961</th>\n      <td>Antonio</td>\n      <td>NaN</td>\n      <td>1989-06-18</td>\n      <td>2023-07-17 21:37:00</td>\n      <td>103050</td>\n      <td>3.050</td>\n      <td>False</td>\n      <td>Legal</td>\n    </tr>\n    <tr>\n      <th>972</th>\n      <td>Victor</td>\n      <td>NaN</td>\n      <td>2006-07-28</td>\n      <td>2023-07-17 14:49:00</td>\n      <td>76381</td>\n      <td>11.159</td>\n      <td>True</td>\n      <td>Sales</td>\n    </tr>\n    <tr>\n      <th>985</th>\n      <td>Stephen</td>\n      <td>NaN</td>\n      <td>1983-07-10</td>\n      <td>2023-07-17 20:10:00</td>\n      <td>85668</td>\n      <td>1.909</td>\n      <td>False</td>\n      <td>Legal</td>\n    </tr>\n    <tr>\n      <th>989</th>\n      <td>Justin</td>\n      <td>NaN</td>\n      <td>1991-02-10</td>\n      <td>2023-07-17 16:58:00</td>\n      <td>38344</td>\n      <td>3.794</td>\n      <td>False</td>\n      <td>Legal</td>\n    </tr>\n    <tr>\n      <th>995</th>\n      <td>Henry</td>\n      <td>NaN</td>\n      <td>2014-11-23</td>\n      <td>2023-07-17 06:09:00</td>\n      <td>132483</td>\n      <td>16.655</td>\n      <td>False</td>\n      <td>Distribution</td>\n    </tr>\n  </tbody>\n</table>\n<p>145 rows × 8 columns</p>\n</div>"
          },
          "metadata": {}
        }
      ]
    },
    {
      "cell_type": "code",
      "source": "",
      "metadata": {},
      "execution_count": null,
      "outputs": []
    },
    {
      "cell_type": "code",
      "source": "",
      "metadata": {},
      "execution_count": null,
      "outputs": []
    },
    {
      "cell_type": "code",
      "source": "condition = df[\"Gender\"].notnull()\n\ndf[condition]",
      "metadata": {
        "tags": [],
        "trusted": true
      },
      "execution_count": 110,
      "outputs": [
        {
          "execution_count": 110,
          "output_type": "execute_result",
          "data": {
            "text/plain": "    First Name  Gender Start Date     Last Login Time  Salary  Bonus %  \\\n0      Douglas    Male 1993-08-06 2023-07-17 12:42:00   97308    6.945   \n1       Thomas    Male 1996-03-31 2023-07-17 06:53:00   61933    4.170   \n2        Maria  Female 1993-04-23 2023-07-17 11:17:00  130590   11.858   \n3        Jerry    Male 2005-03-04 2023-07-17 13:00:00  138705    9.340   \n4        Larry    Male 1998-01-24 2023-07-17 16:47:00  101004    1.389   \n..         ...     ...        ...                 ...     ...      ...   \n994     George    Male 2013-06-21 2023-07-17 17:47:00   98874    4.479   \n996    Phillip    Male 1984-01-31 2023-07-17 06:30:00   42392   19.675   \n997    Russell    Male 2013-05-20 2023-07-17 12:39:00   96914    1.421   \n998      Larry    Male 2013-04-20 2023-07-17 16:45:00   60500   11.985   \n999     Albert    Male 2012-05-15 2023-07-17 18:24:00  129949   10.169   \n\n     Senior Management                  Team  \n0                 True             Marketing  \n1                 True                   NaN  \n2                False               Finance  \n3                 True               Finance  \n4                 True       Client Services  \n..                 ...                   ...  \n994               True             Marketing  \n996              False               Finance  \n997              False               Product  \n998              False  Business Development  \n999               True                 Sales  \n\n[855 rows x 8 columns]",
            "text/html": "<div>\n<style scoped>\n    .dataframe tbody tr th:only-of-type {\n        vertical-align: middle;\n    }\n\n    .dataframe tbody tr th {\n        vertical-align: top;\n    }\n\n    .dataframe thead th {\n        text-align: right;\n    }\n</style>\n<table border=\"1\" class=\"dataframe\">\n  <thead>\n    <tr style=\"text-align: right;\">\n      <th></th>\n      <th>First Name</th>\n      <th>Gender</th>\n      <th>Start Date</th>\n      <th>Last Login Time</th>\n      <th>Salary</th>\n      <th>Bonus %</th>\n      <th>Senior Management</th>\n      <th>Team</th>\n    </tr>\n  </thead>\n  <tbody>\n    <tr>\n      <th>0</th>\n      <td>Douglas</td>\n      <td>Male</td>\n      <td>1993-08-06</td>\n      <td>2023-07-17 12:42:00</td>\n      <td>97308</td>\n      <td>6.945</td>\n      <td>True</td>\n      <td>Marketing</td>\n    </tr>\n    <tr>\n      <th>1</th>\n      <td>Thomas</td>\n      <td>Male</td>\n      <td>1996-03-31</td>\n      <td>2023-07-17 06:53:00</td>\n      <td>61933</td>\n      <td>4.170</td>\n      <td>True</td>\n      <td>NaN</td>\n    </tr>\n    <tr>\n      <th>2</th>\n      <td>Maria</td>\n      <td>Female</td>\n      <td>1993-04-23</td>\n      <td>2023-07-17 11:17:00</td>\n      <td>130590</td>\n      <td>11.858</td>\n      <td>False</td>\n      <td>Finance</td>\n    </tr>\n    <tr>\n      <th>3</th>\n      <td>Jerry</td>\n      <td>Male</td>\n      <td>2005-03-04</td>\n      <td>2023-07-17 13:00:00</td>\n      <td>138705</td>\n      <td>9.340</td>\n      <td>True</td>\n      <td>Finance</td>\n    </tr>\n    <tr>\n      <th>4</th>\n      <td>Larry</td>\n      <td>Male</td>\n      <td>1998-01-24</td>\n      <td>2023-07-17 16:47:00</td>\n      <td>101004</td>\n      <td>1.389</td>\n      <td>True</td>\n      <td>Client Services</td>\n    </tr>\n    <tr>\n      <th>...</th>\n      <td>...</td>\n      <td>...</td>\n      <td>...</td>\n      <td>...</td>\n      <td>...</td>\n      <td>...</td>\n      <td>...</td>\n      <td>...</td>\n    </tr>\n    <tr>\n      <th>994</th>\n      <td>George</td>\n      <td>Male</td>\n      <td>2013-06-21</td>\n      <td>2023-07-17 17:47:00</td>\n      <td>98874</td>\n      <td>4.479</td>\n      <td>True</td>\n      <td>Marketing</td>\n    </tr>\n    <tr>\n      <th>996</th>\n      <td>Phillip</td>\n      <td>Male</td>\n      <td>1984-01-31</td>\n      <td>2023-07-17 06:30:00</td>\n      <td>42392</td>\n      <td>19.675</td>\n      <td>False</td>\n      <td>Finance</td>\n    </tr>\n    <tr>\n      <th>997</th>\n      <td>Russell</td>\n      <td>Male</td>\n      <td>2013-05-20</td>\n      <td>2023-07-17 12:39:00</td>\n      <td>96914</td>\n      <td>1.421</td>\n      <td>False</td>\n      <td>Product</td>\n    </tr>\n    <tr>\n      <th>998</th>\n      <td>Larry</td>\n      <td>Male</td>\n      <td>2013-04-20</td>\n      <td>2023-07-17 16:45:00</td>\n      <td>60500</td>\n      <td>11.985</td>\n      <td>False</td>\n      <td>Business Development</td>\n    </tr>\n    <tr>\n      <th>999</th>\n      <td>Albert</td>\n      <td>Male</td>\n      <td>2012-05-15</td>\n      <td>2023-07-17 18:24:00</td>\n      <td>129949</td>\n      <td>10.169</td>\n      <td>True</td>\n      <td>Sales</td>\n    </tr>\n  </tbody>\n</table>\n<p>855 rows × 8 columns</p>\n</div>"
          },
          "metadata": {}
        }
      ]
    },
    {
      "cell_type": "markdown",
      "source": "## The `.between()` Method",
      "metadata": {}
    },
    {
      "cell_type": "code",
      "source": "df = pd.read_csv(\"employees.csv\", parse_dates = [\"Start Date\", \"Last Login Time\"])\ndf[\"Senior Management\"] = df[\"Senior Management\"].astype(\"bool\")\ndf[\"Gender\"] = df[\"Gender\"].astype(\"category\")\ndf.head(3)",
      "metadata": {
        "collapsed": false,
        "jupyter": {
          "outputs_hidden": false
        },
        "trusted": true
      },
      "execution_count": 113,
      "outputs": [
        {
          "execution_count": 113,
          "output_type": "execute_result",
          "data": {
            "text/plain": "  First Name  Gender Start Date     Last Login Time  Salary  Bonus %  \\\n0    Douglas    Male 1993-08-06 2023-07-17 12:42:00   97308    6.945   \n1     Thomas    Male 1996-03-31 2023-07-17 06:53:00   61933    4.170   \n2      Maria  Female 1993-04-23 2023-07-17 11:17:00  130590   11.858   \n\n   Senior Management       Team  \n0               True  Marketing  \n1               True        NaN  \n2              False    Finance  ",
            "text/html": "<div>\n<style scoped>\n    .dataframe tbody tr th:only-of-type {\n        vertical-align: middle;\n    }\n\n    .dataframe tbody tr th {\n        vertical-align: top;\n    }\n\n    .dataframe thead th {\n        text-align: right;\n    }\n</style>\n<table border=\"1\" class=\"dataframe\">\n  <thead>\n    <tr style=\"text-align: right;\">\n      <th></th>\n      <th>First Name</th>\n      <th>Gender</th>\n      <th>Start Date</th>\n      <th>Last Login Time</th>\n      <th>Salary</th>\n      <th>Bonus %</th>\n      <th>Senior Management</th>\n      <th>Team</th>\n    </tr>\n  </thead>\n  <tbody>\n    <tr>\n      <th>0</th>\n      <td>Douglas</td>\n      <td>Male</td>\n      <td>1993-08-06</td>\n      <td>2023-07-17 12:42:00</td>\n      <td>97308</td>\n      <td>6.945</td>\n      <td>True</td>\n      <td>Marketing</td>\n    </tr>\n    <tr>\n      <th>1</th>\n      <td>Thomas</td>\n      <td>Male</td>\n      <td>1996-03-31</td>\n      <td>2023-07-17 06:53:00</td>\n      <td>61933</td>\n      <td>4.170</td>\n      <td>True</td>\n      <td>NaN</td>\n    </tr>\n    <tr>\n      <th>2</th>\n      <td>Maria</td>\n      <td>Female</td>\n      <td>1993-04-23</td>\n      <td>2023-07-17 11:17:00</td>\n      <td>130590</td>\n      <td>11.858</td>\n      <td>False</td>\n      <td>Finance</td>\n    </tr>\n  </tbody>\n</table>\n</div>"
          },
          "metadata": {}
        }
      ]
    },
    {
      "cell_type": "code",
      "source": "df[df[\"Salary\"].between(84000, 85000)]",
      "metadata": {
        "tags": [],
        "trusted": true
      },
      "execution_count": 118,
      "outputs": [
        {
          "execution_count": 118,
          "output_type": "execute_result",
          "data": {
            "text/plain": "    First Name  Gender Start Date     Last Login Time  Salary  Bonus %  \\\n68        Jose    Male 2004-10-30 2023-07-17 13:39:00   84834   14.330   \n70        Todd     NaN 2003-06-10 2023-07-17 14:26:00   84692    6.617   \n120      Peter    Male 1994-11-17 2023-07-17 18:15:00   84885   15.402   \n153     Victor     NaN 2011-03-10 2023-07-17 20:40:00   84546   10.489   \n309   Benjamin    Male 1984-09-11 2023-07-17 06:37:00   84810   15.794   \n540        NaN  Female 2009-12-02 2023-07-17 03:30:00   84746    4.820   \n602      Bobby     NaN 2003-07-21 2023-07-17 15:50:00   84232   15.704   \n671      Laura  Female 2000-07-12 2023-07-17 18:07:00   84672    3.960   \n702      Debra  Female 2011-03-17 2023-07-17 13:12:00   84693    6.976   \n\n     Senior Management                  Team  \n68                True               Finance  \n70               False       Client Services  \n120              False  Business Development  \n153               True               Finance  \n309              False             Marketing  \n540               True               Finance  \n602               True           Engineering  \n671              False          Distribution  \n702               True               Finance  ",
            "text/html": "<div>\n<style scoped>\n    .dataframe tbody tr th:only-of-type {\n        vertical-align: middle;\n    }\n\n    .dataframe tbody tr th {\n        vertical-align: top;\n    }\n\n    .dataframe thead th {\n        text-align: right;\n    }\n</style>\n<table border=\"1\" class=\"dataframe\">\n  <thead>\n    <tr style=\"text-align: right;\">\n      <th></th>\n      <th>First Name</th>\n      <th>Gender</th>\n      <th>Start Date</th>\n      <th>Last Login Time</th>\n      <th>Salary</th>\n      <th>Bonus %</th>\n      <th>Senior Management</th>\n      <th>Team</th>\n    </tr>\n  </thead>\n  <tbody>\n    <tr>\n      <th>68</th>\n      <td>Jose</td>\n      <td>Male</td>\n      <td>2004-10-30</td>\n      <td>2023-07-17 13:39:00</td>\n      <td>84834</td>\n      <td>14.330</td>\n      <td>True</td>\n      <td>Finance</td>\n    </tr>\n    <tr>\n      <th>70</th>\n      <td>Todd</td>\n      <td>NaN</td>\n      <td>2003-06-10</td>\n      <td>2023-07-17 14:26:00</td>\n      <td>84692</td>\n      <td>6.617</td>\n      <td>False</td>\n      <td>Client Services</td>\n    </tr>\n    <tr>\n      <th>120</th>\n      <td>Peter</td>\n      <td>Male</td>\n      <td>1994-11-17</td>\n      <td>2023-07-17 18:15:00</td>\n      <td>84885</td>\n      <td>15.402</td>\n      <td>False</td>\n      <td>Business Development</td>\n    </tr>\n    <tr>\n      <th>153</th>\n      <td>Victor</td>\n      <td>NaN</td>\n      <td>2011-03-10</td>\n      <td>2023-07-17 20:40:00</td>\n      <td>84546</td>\n      <td>10.489</td>\n      <td>True</td>\n      <td>Finance</td>\n    </tr>\n    <tr>\n      <th>309</th>\n      <td>Benjamin</td>\n      <td>Male</td>\n      <td>1984-09-11</td>\n      <td>2023-07-17 06:37:00</td>\n      <td>84810</td>\n      <td>15.794</td>\n      <td>False</td>\n      <td>Marketing</td>\n    </tr>\n    <tr>\n      <th>540</th>\n      <td>NaN</td>\n      <td>Female</td>\n      <td>2009-12-02</td>\n      <td>2023-07-17 03:30:00</td>\n      <td>84746</td>\n      <td>4.820</td>\n      <td>True</td>\n      <td>Finance</td>\n    </tr>\n    <tr>\n      <th>602</th>\n      <td>Bobby</td>\n      <td>NaN</td>\n      <td>2003-07-21</td>\n      <td>2023-07-17 15:50:00</td>\n      <td>84232</td>\n      <td>15.704</td>\n      <td>True</td>\n      <td>Engineering</td>\n    </tr>\n    <tr>\n      <th>671</th>\n      <td>Laura</td>\n      <td>Female</td>\n      <td>2000-07-12</td>\n      <td>2023-07-17 18:07:00</td>\n      <td>84672</td>\n      <td>3.960</td>\n      <td>False</td>\n      <td>Distribution</td>\n    </tr>\n    <tr>\n      <th>702</th>\n      <td>Debra</td>\n      <td>Female</td>\n      <td>2011-03-17</td>\n      <td>2023-07-17 13:12:00</td>\n      <td>84693</td>\n      <td>6.976</td>\n      <td>True</td>\n      <td>Finance</td>\n    </tr>\n  </tbody>\n</table>\n</div>"
          },
          "metadata": {}
        }
      ]
    },
    {
      "cell_type": "code",
      "source": "",
      "metadata": {},
      "execution_count": null,
      "outputs": []
    },
    {
      "cell_type": "code",
      "source": "",
      "metadata": {},
      "execution_count": null,
      "outputs": []
    },
    {
      "cell_type": "code",
      "source": "",
      "metadata": {},
      "execution_count": null,
      "outputs": []
    },
    {
      "cell_type": "code",
      "source": "df[df[\"Bonus %\"].between(2.0, 5.0)]",
      "metadata": {
        "tags": [],
        "trusted": true
      },
      "execution_count": 119,
      "outputs": [
        {
          "execution_count": 119,
          "output_type": "execute_result",
          "data": {
            "text/plain": "    First Name  Gender Start Date     Last Login Time  Salary  Bonus %  \\\n1       Thomas    Male 1996-03-31 2023-07-17 06:53:00   61933    4.170   \n20        Lois     NaN 1995-04-22 2023-07-17 19:18:00   64714    4.934   \n40     Michael    Male 2008-10-10 2023-07-17 11:25:00   99283    2.665   \n49       Chris     NaN 1980-01-24 2023-07-17 12:13:00  113590    3.055   \n60       Paula     NaN 2005-11-23 2023-07-17 14:01:00   48866    4.271   \n..         ...     ...        ...                 ...     ...      ...   \n943      Wayne    Male 2006-09-08 2023-07-17 11:09:00   67471    2.728   \n961    Antonio     NaN 1989-06-18 2023-07-17 21:37:00  103050    3.050   \n976     Denise  Female 1992-10-19 2023-07-17 05:42:00  137954    4.195   \n989     Justin     NaN 1991-02-10 2023-07-17 16:58:00   38344    3.794   \n994     George    Male 2013-06-21 2023-07-17 17:47:00   98874    4.479   \n\n     Senior Management          Team  \n1                 True           NaN  \n20                True         Legal  \n40                True  Distribution  \n49               False         Sales  \n60               False  Distribution  \n..                 ...           ...  \n943              False   Engineering  \n961              False         Legal  \n976               True         Legal  \n989              False         Legal  \n994               True     Marketing  \n\n[169 rows x 8 columns]",
            "text/html": "<div>\n<style scoped>\n    .dataframe tbody tr th:only-of-type {\n        vertical-align: middle;\n    }\n\n    .dataframe tbody tr th {\n        vertical-align: top;\n    }\n\n    .dataframe thead th {\n        text-align: right;\n    }\n</style>\n<table border=\"1\" class=\"dataframe\">\n  <thead>\n    <tr style=\"text-align: right;\">\n      <th></th>\n      <th>First Name</th>\n      <th>Gender</th>\n      <th>Start Date</th>\n      <th>Last Login Time</th>\n      <th>Salary</th>\n      <th>Bonus %</th>\n      <th>Senior Management</th>\n      <th>Team</th>\n    </tr>\n  </thead>\n  <tbody>\n    <tr>\n      <th>1</th>\n      <td>Thomas</td>\n      <td>Male</td>\n      <td>1996-03-31</td>\n      <td>2023-07-17 06:53:00</td>\n      <td>61933</td>\n      <td>4.170</td>\n      <td>True</td>\n      <td>NaN</td>\n    </tr>\n    <tr>\n      <th>20</th>\n      <td>Lois</td>\n      <td>NaN</td>\n      <td>1995-04-22</td>\n      <td>2023-07-17 19:18:00</td>\n      <td>64714</td>\n      <td>4.934</td>\n      <td>True</td>\n      <td>Legal</td>\n    </tr>\n    <tr>\n      <th>40</th>\n      <td>Michael</td>\n      <td>Male</td>\n      <td>2008-10-10</td>\n      <td>2023-07-17 11:25:00</td>\n      <td>99283</td>\n      <td>2.665</td>\n      <td>True</td>\n      <td>Distribution</td>\n    </tr>\n    <tr>\n      <th>49</th>\n      <td>Chris</td>\n      <td>NaN</td>\n      <td>1980-01-24</td>\n      <td>2023-07-17 12:13:00</td>\n      <td>113590</td>\n      <td>3.055</td>\n      <td>False</td>\n      <td>Sales</td>\n    </tr>\n    <tr>\n      <th>60</th>\n      <td>Paula</td>\n      <td>NaN</td>\n      <td>2005-11-23</td>\n      <td>2023-07-17 14:01:00</td>\n      <td>48866</td>\n      <td>4.271</td>\n      <td>False</td>\n      <td>Distribution</td>\n    </tr>\n    <tr>\n      <th>...</th>\n      <td>...</td>\n      <td>...</td>\n      <td>...</td>\n      <td>...</td>\n      <td>...</td>\n      <td>...</td>\n      <td>...</td>\n      <td>...</td>\n    </tr>\n    <tr>\n      <th>943</th>\n      <td>Wayne</td>\n      <td>Male</td>\n      <td>2006-09-08</td>\n      <td>2023-07-17 11:09:00</td>\n      <td>67471</td>\n      <td>2.728</td>\n      <td>False</td>\n      <td>Engineering</td>\n    </tr>\n    <tr>\n      <th>961</th>\n      <td>Antonio</td>\n      <td>NaN</td>\n      <td>1989-06-18</td>\n      <td>2023-07-17 21:37:00</td>\n      <td>103050</td>\n      <td>3.050</td>\n      <td>False</td>\n      <td>Legal</td>\n    </tr>\n    <tr>\n      <th>976</th>\n      <td>Denise</td>\n      <td>Female</td>\n      <td>1992-10-19</td>\n      <td>2023-07-17 05:42:00</td>\n      <td>137954</td>\n      <td>4.195</td>\n      <td>True</td>\n      <td>Legal</td>\n    </tr>\n    <tr>\n      <th>989</th>\n      <td>Justin</td>\n      <td>NaN</td>\n      <td>1991-02-10</td>\n      <td>2023-07-17 16:58:00</td>\n      <td>38344</td>\n      <td>3.794</td>\n      <td>False</td>\n      <td>Legal</td>\n    </tr>\n    <tr>\n      <th>994</th>\n      <td>George</td>\n      <td>Male</td>\n      <td>2013-06-21</td>\n      <td>2023-07-17 17:47:00</td>\n      <td>98874</td>\n      <td>4.479</td>\n      <td>True</td>\n      <td>Marketing</td>\n    </tr>\n  </tbody>\n</table>\n<p>169 rows × 8 columns</p>\n</div>"
          },
          "metadata": {}
        }
      ]
    },
    {
      "cell_type": "code",
      "source": "df[df[\"Start Date\"].between(\"1991-01-01\", \"1992-01-01\")]",
      "metadata": {
        "collapsed": true,
        "jupyter": {
          "outputs_hidden": true
        }
      },
      "execution_count": 35,
      "outputs": [
        {
          "execution_count": 35,
          "output_type": "execute_result",
          "data": {
            "text/html": [
              "<div>\n",
              "<table border=\"1\" class=\"dataframe\">\n",
              "  <thead>\n",
              "    <tr style=\"text-align: right;\">\n",
              "      <th></th>\n",
              "      <th>First Name</th>\n",
              "      <th>Gender</th>\n",
              "      <th>Start Date</th>\n",
              "      <th>Last Login Time</th>\n",
              "      <th>Salary</th>\n",
              "      <th>Bonus %</th>\n",
              "      <th>Senior Management</th>\n",
              "      <th>Team</th>\n",
              "    </tr>\n",
              "  </thead>\n",
              "  <tbody>\n",
              "    <tr>\n",
              "      <th>27</th>\n",
              "      <td>Scott</td>\n",
              "      <td>NaN</td>\n",
              "      <td>1991-07-11</td>\n",
              "      <td>2016-09-23 18:58:00</td>\n",
              "      <td>122367</td>\n",
              "      <td>5.218</td>\n",
              "      <td>False</td>\n",
              "      <td>Legal</td>\n",
              "    </tr>\n",
              "    <tr>\n",
              "      <th>75</th>\n",
              "      <td>Bonnie</td>\n",
              "      <td>Female</td>\n",
              "      <td>1991-07-02</td>\n",
              "      <td>2016-09-23 01:27:00</td>\n",
              "      <td>104897</td>\n",
              "      <td>5.118</td>\n",
              "      <td>True</td>\n",
              "      <td>Human Resources</td>\n",
              "    </tr>\n",
              "    <tr>\n",
              "      <th>88</th>\n",
              "      <td>Donna</td>\n",
              "      <td>Female</td>\n",
              "      <td>1991-11-27</td>\n",
              "      <td>2016-09-23 13:59:00</td>\n",
              "      <td>64088</td>\n",
              "      <td>6.155</td>\n",
              "      <td>True</td>\n",
              "      <td>Legal</td>\n",
              "    </tr>\n",
              "    <tr>\n",
              "      <th>116</th>\n",
              "      <td>NaN</td>\n",
              "      <td>Male</td>\n",
              "      <td>1991-06-22</td>\n",
              "      <td>2016-09-23 20:58:00</td>\n",
              "      <td>76189</td>\n",
              "      <td>18.988</td>\n",
              "      <td>True</td>\n",
              "      <td>Legal</td>\n",
              "    </tr>\n",
              "    <tr>\n",
              "      <th>148</th>\n",
              "      <td>Patrick</td>\n",
              "      <td>NaN</td>\n",
              "      <td>1991-07-14</td>\n",
              "      <td>2016-09-23 02:24:00</td>\n",
              "      <td>124488</td>\n",
              "      <td>14.837</td>\n",
              "      <td>True</td>\n",
              "      <td>Sales</td>\n",
              "    </tr>\n",
              "    <tr>\n",
              "      <th>166</th>\n",
              "      <td>NaN</td>\n",
              "      <td>Female</td>\n",
              "      <td>1991-07-09</td>\n",
              "      <td>2016-09-23 18:52:00</td>\n",
              "      <td>42341</td>\n",
              "      <td>7.014</td>\n",
              "      <td>True</td>\n",
              "      <td>Sales</td>\n",
              "    </tr>\n",
              "    <tr>\n",
              "      <th>172</th>\n",
              "      <td>Sara</td>\n",
              "      <td>Female</td>\n",
              "      <td>1991-09-23</td>\n",
              "      <td>2016-09-23 18:17:00</td>\n",
              "      <td>97058</td>\n",
              "      <td>9.402</td>\n",
              "      <td>False</td>\n",
              "      <td>Finance</td>\n",
              "    </tr>\n",
              "    <tr>\n",
              "      <th>220</th>\n",
              "      <td>NaN</td>\n",
              "      <td>Female</td>\n",
              "      <td>1991-06-17</td>\n",
              "      <td>2016-09-23 12:49:00</td>\n",
              "      <td>71945</td>\n",
              "      <td>5.560</td>\n",
              "      <td>True</td>\n",
              "      <td>Marketing</td>\n",
              "    </tr>\n",
              "    <tr>\n",
              "      <th>245</th>\n",
              "      <td>Victor</td>\n",
              "      <td>Male</td>\n",
              "      <td>1991-04-11</td>\n",
              "      <td>2016-09-23 07:44:00</td>\n",
              "      <td>70817</td>\n",
              "      <td>17.138</td>\n",
              "      <td>False</td>\n",
              "      <td>Engineering</td>\n",
              "    </tr>\n",
              "    <tr>\n",
              "      <th>277</th>\n",
              "      <td>Brenda</td>\n",
              "      <td>NaN</td>\n",
              "      <td>1991-05-29</td>\n",
              "      <td>2016-09-23 06:32:00</td>\n",
              "      <td>82439</td>\n",
              "      <td>19.062</td>\n",
              "      <td>False</td>\n",
              "      <td>Sales</td>\n",
              "    </tr>\n",
              "    <tr>\n",
              "      <th>313</th>\n",
              "      <td>Judy</td>\n",
              "      <td>Female</td>\n",
              "      <td>1991-07-01</td>\n",
              "      <td>2016-09-23 02:33:00</td>\n",
              "      <td>109510</td>\n",
              "      <td>13.457</td>\n",
              "      <td>True</td>\n",
              "      <td>Legal</td>\n",
              "    </tr>\n",
              "    <tr>\n",
              "      <th>328</th>\n",
              "      <td>Samuel</td>\n",
              "      <td>Male</td>\n",
              "      <td>1991-12-19</td>\n",
              "      <td>2016-09-23 02:54:00</td>\n",
              "      <td>76076</td>\n",
              "      <td>5.319</td>\n",
              "      <td>True</td>\n",
              "      <td>Finance</td>\n",
              "    </tr>\n",
              "    <tr>\n",
              "      <th>339</th>\n",
              "      <td>Michael</td>\n",
              "      <td>Male</td>\n",
              "      <td>1991-11-22</td>\n",
              "      <td>2016-09-23 12:57:00</td>\n",
              "      <td>98753</td>\n",
              "      <td>16.443</td>\n",
              "      <td>True</td>\n",
              "      <td>Human Resources</td>\n",
              "    </tr>\n",
              "    <tr>\n",
              "      <th>537</th>\n",
              "      <td>Cynthia</td>\n",
              "      <td>Female</td>\n",
              "      <td>1991-09-14</td>\n",
              "      <td>2016-09-23 13:08:00</td>\n",
              "      <td>51633</td>\n",
              "      <td>13.472</td>\n",
              "      <td>True</td>\n",
              "      <td>Business Development</td>\n",
              "    </tr>\n",
              "    <tr>\n",
              "      <th>552</th>\n",
              "      <td>Barbara</td>\n",
              "      <td>Female</td>\n",
              "      <td>1991-09-02</td>\n",
              "      <td>2016-09-23 15:41:00</td>\n",
              "      <td>127297</td>\n",
              "      <td>11.905</td>\n",
              "      <td>True</td>\n",
              "      <td>Product</td>\n",
              "    </tr>\n",
              "    <tr>\n",
              "      <th>603</th>\n",
              "      <td>Carl</td>\n",
              "      <td>NaN</td>\n",
              "      <td>1991-10-26</td>\n",
              "      <td>2016-09-23 08:11:00</td>\n",
              "      <td>100888</td>\n",
              "      <td>12.490</td>\n",
              "      <td>True</td>\n",
              "      <td>Business Development</td>\n",
              "    </tr>\n",
              "    <tr>\n",
              "      <th>639</th>\n",
              "      <td>Amanda</td>\n",
              "      <td>NaN</td>\n",
              "      <td>1991-08-11</td>\n",
              "      <td>2016-09-23 14:15:00</td>\n",
              "      <td>46665</td>\n",
              "      <td>19.391</td>\n",
              "      <td>True</td>\n",
              "      <td>Client Services</td>\n",
              "    </tr>\n",
              "    <tr>\n",
              "      <th>704</th>\n",
              "      <td>Thomas</td>\n",
              "      <td>Male</td>\n",
              "      <td>1991-09-07</td>\n",
              "      <td>2016-09-23 09:51:00</td>\n",
              "      <td>65251</td>\n",
              "      <td>11.211</td>\n",
              "      <td>False</td>\n",
              "      <td>Distribution</td>\n",
              "    </tr>\n",
              "    <tr>\n",
              "      <th>725</th>\n",
              "      <td>Jeremy</td>\n",
              "      <td>Male</td>\n",
              "      <td>1991-05-19</td>\n",
              "      <td>2016-09-23 13:40:00</td>\n",
              "      <td>131513</td>\n",
              "      <td>1.876</td>\n",
              "      <td>True</td>\n",
              "      <td>Finance</td>\n",
              "    </tr>\n",
              "    <tr>\n",
              "      <th>766</th>\n",
              "      <td>Justin</td>\n",
              "      <td>Male</td>\n",
              "      <td>1991-07-25</td>\n",
              "      <td>2016-09-23 00:45:00</td>\n",
              "      <td>112975</td>\n",
              "      <td>9.699</td>\n",
              "      <td>False</td>\n",
              "      <td>Human Resources</td>\n",
              "    </tr>\n",
              "    <tr>\n",
              "      <th>771</th>\n",
              "      <td>Peter</td>\n",
              "      <td>Male</td>\n",
              "      <td>1991-05-22</td>\n",
              "      <td>2016-09-23 01:39:00</td>\n",
              "      <td>102577</td>\n",
              "      <td>12.026</td>\n",
              "      <td>True</td>\n",
              "      <td>Product</td>\n",
              "    </tr>\n",
              "    <tr>\n",
              "      <th>783</th>\n",
              "      <td>NaN</td>\n",
              "      <td>NaN</td>\n",
              "      <td>1991-04-15</td>\n",
              "      <td>2016-09-23 03:39:00</td>\n",
              "      <td>132505</td>\n",
              "      <td>13.592</td>\n",
              "      <td>True</td>\n",
              "      <td>Product</td>\n",
              "    </tr>\n",
              "    <tr>\n",
              "      <th>891</th>\n",
              "      <td>Timothy</td>\n",
              "      <td>Male</td>\n",
              "      <td>1991-08-25</td>\n",
              "      <td>2016-09-23 10:37:00</td>\n",
              "      <td>92587</td>\n",
              "      <td>8.475</td>\n",
              "      <td>False</td>\n",
              "      <td>Finance</td>\n",
              "    </tr>\n",
              "    <tr>\n",
              "      <th>895</th>\n",
              "      <td>Janice</td>\n",
              "      <td>NaN</td>\n",
              "      <td>1991-11-19</td>\n",
              "      <td>2016-09-23 18:02:00</td>\n",
              "      <td>139791</td>\n",
              "      <td>16.968</td>\n",
              "      <td>False</td>\n",
              "      <td>Business Development</td>\n",
              "    </tr>\n",
              "    <tr>\n",
              "      <th>909</th>\n",
              "      <td>Donald</td>\n",
              "      <td>Male</td>\n",
              "      <td>1991-08-01</td>\n",
              "      <td>2016-09-23 02:25:00</td>\n",
              "      <td>61999</td>\n",
              "      <td>6.466</td>\n",
              "      <td>False</td>\n",
              "      <td>Product</td>\n",
              "    </tr>\n",
              "    <tr>\n",
              "      <th>923</th>\n",
              "      <td>Irene</td>\n",
              "      <td>NaN</td>\n",
              "      <td>1991-02-28</td>\n",
              "      <td>2016-09-23 22:23:00</td>\n",
              "      <td>135369</td>\n",
              "      <td>4.380</td>\n",
              "      <td>False</td>\n",
              "      <td>Business Development</td>\n",
              "    </tr>\n",
              "    <tr>\n",
              "      <th>989</th>\n",
              "      <td>Justin</td>\n",
              "      <td>NaN</td>\n",
              "      <td>1991-02-10</td>\n",
              "      <td>2016-09-23 16:58:00</td>\n",
              "      <td>38344</td>\n",
              "      <td>3.794</td>\n",
              "      <td>False</td>\n",
              "      <td>Legal</td>\n",
              "    </tr>\n",
              "  </tbody>\n",
              "</table>\n",
              "</div>"
            ],
            "text/plain": [
              "    First Name  Gender Start Date     Last Login Time  Salary  Bonus %  \\\n",
              "27       Scott     NaN 1991-07-11 2016-09-23 18:58:00  122367    5.218   \n",
              "75      Bonnie  Female 1991-07-02 2016-09-23 01:27:00  104897    5.118   \n",
              "88       Donna  Female 1991-11-27 2016-09-23 13:59:00   64088    6.155   \n",
              "116        NaN    Male 1991-06-22 2016-09-23 20:58:00   76189   18.988   \n",
              "148    Patrick     NaN 1991-07-14 2016-09-23 02:24:00  124488   14.837   \n",
              "166        NaN  Female 1991-07-09 2016-09-23 18:52:00   42341    7.014   \n",
              "172       Sara  Female 1991-09-23 2016-09-23 18:17:00   97058    9.402   \n",
              "220        NaN  Female 1991-06-17 2016-09-23 12:49:00   71945    5.560   \n",
              "245     Victor    Male 1991-04-11 2016-09-23 07:44:00   70817   17.138   \n",
              "277     Brenda     NaN 1991-05-29 2016-09-23 06:32:00   82439   19.062   \n",
              "313       Judy  Female 1991-07-01 2016-09-23 02:33:00  109510   13.457   \n",
              "328     Samuel    Male 1991-12-19 2016-09-23 02:54:00   76076    5.319   \n",
              "339    Michael    Male 1991-11-22 2016-09-23 12:57:00   98753   16.443   \n",
              "537    Cynthia  Female 1991-09-14 2016-09-23 13:08:00   51633   13.472   \n",
              "552    Barbara  Female 1991-09-02 2016-09-23 15:41:00  127297   11.905   \n",
              "603       Carl     NaN 1991-10-26 2016-09-23 08:11:00  100888   12.490   \n",
              "639     Amanda     NaN 1991-08-11 2016-09-23 14:15:00   46665   19.391   \n",
              "704     Thomas    Male 1991-09-07 2016-09-23 09:51:00   65251   11.211   \n",
              "725     Jeremy    Male 1991-05-19 2016-09-23 13:40:00  131513    1.876   \n",
              "766     Justin    Male 1991-07-25 2016-09-23 00:45:00  112975    9.699   \n",
              "771      Peter    Male 1991-05-22 2016-09-23 01:39:00  102577   12.026   \n",
              "783        NaN     NaN 1991-04-15 2016-09-23 03:39:00  132505   13.592   \n",
              "891    Timothy    Male 1991-08-25 2016-09-23 10:37:00   92587    8.475   \n",
              "895     Janice     NaN 1991-11-19 2016-09-23 18:02:00  139791   16.968   \n",
              "909     Donald    Male 1991-08-01 2016-09-23 02:25:00   61999    6.466   \n",
              "923      Irene     NaN 1991-02-28 2016-09-23 22:23:00  135369    4.380   \n",
              "989     Justin     NaN 1991-02-10 2016-09-23 16:58:00   38344    3.794   \n",
              "\n",
              "    Senior Management                  Team  \n",
              "27              False                 Legal  \n",
              "75               True       Human Resources  \n",
              "88               True                 Legal  \n",
              "116              True                 Legal  \n",
              "148              True                 Sales  \n",
              "166              True                 Sales  \n",
              "172             False               Finance  \n",
              "220              True             Marketing  \n",
              "245             False           Engineering  \n",
              "277             False                 Sales  \n",
              "313              True                 Legal  \n",
              "328              True               Finance  \n",
              "339              True       Human Resources  \n",
              "537              True  Business Development  \n",
              "552              True               Product  \n",
              "603              True  Business Development  \n",
              "639              True       Client Services  \n",
              "704             False          Distribution  \n",
              "725              True               Finance  \n",
              "766             False       Human Resources  \n",
              "771              True               Product  \n",
              "783              True               Product  \n",
              "891             False               Finance  \n",
              "895             False  Business Development  \n",
              "909             False               Product  \n",
              "923             False  Business Development  \n",
              "989             False                 Legal  "
            ]
          },
          "metadata": {}
        }
      ]
    },
    {
      "cell_type": "code",
      "source": "df[df[\"Last Login Time\"].between(\"08:30AM\", \"12:00PM\")]",
      "metadata": {
        "collapsed": false,
        "jupyter": {
          "outputs_hidden": false
        }
      },
      "execution_count": 38,
      "outputs": [
        {
          "execution_count": 38,
          "output_type": "execute_result",
          "data": {
            "text/html": [
              "<div>\n",
              "<table border=\"1\" class=\"dataframe\">\n",
              "  <thead>\n",
              "    <tr style=\"text-align: right;\">\n",
              "      <th></th>\n",
              "      <th>First Name</th>\n",
              "      <th>Gender</th>\n",
              "      <th>Start Date</th>\n",
              "      <th>Last Login Time</th>\n",
              "      <th>Salary</th>\n",
              "      <th>Bonus %</th>\n",
              "      <th>Senior Management</th>\n",
              "      <th>Team</th>\n",
              "    </tr>\n",
              "  </thead>\n",
              "  <tbody>\n",
              "    <tr>\n",
              "      <th>2</th>\n",
              "      <td>Maria</td>\n",
              "      <td>Female</td>\n",
              "      <td>1993-04-23</td>\n",
              "      <td>2016-09-23 11:17:00</td>\n",
              "      <td>130590</td>\n",
              "      <td>11.858</td>\n",
              "      <td>False</td>\n",
              "      <td>Finance</td>\n",
              "    </tr>\n",
              "    <tr>\n",
              "      <th>7</th>\n",
              "      <td>NaN</td>\n",
              "      <td>Female</td>\n",
              "      <td>2015-07-20</td>\n",
              "      <td>2016-09-23 10:43:00</td>\n",
              "      <td>45906</td>\n",
              "      <td>11.598</td>\n",
              "      <td>True</td>\n",
              "      <td>Finance</td>\n",
              "    </tr>\n",
              "    <tr>\n",
              "      <th>10</th>\n",
              "      <td>Louise</td>\n",
              "      <td>Female</td>\n",
              "      <td>1980-08-12</td>\n",
              "      <td>2016-09-23 09:01:00</td>\n",
              "      <td>63241</td>\n",
              "      <td>15.132</td>\n",
              "      <td>True</td>\n",
              "      <td>NaN</td>\n",
              "    </tr>\n",
              "    <tr>\n",
              "      <th>18</th>\n",
              "      <td>Diana</td>\n",
              "      <td>Female</td>\n",
              "      <td>1981-10-23</td>\n",
              "      <td>2016-09-23 10:27:00</td>\n",
              "      <td>132940</td>\n",
              "      <td>19.082</td>\n",
              "      <td>False</td>\n",
              "      <td>Client Services</td>\n",
              "    </tr>\n",
              "    <tr>\n",
              "      <th>33</th>\n",
              "      <td>Jean</td>\n",
              "      <td>Female</td>\n",
              "      <td>1993-12-18</td>\n",
              "      <td>2016-09-23 09:07:00</td>\n",
              "      <td>119082</td>\n",
              "      <td>16.180</td>\n",
              "      <td>False</td>\n",
              "      <td>Business Development</td>\n",
              "    </tr>\n",
              "    <tr>\n",
              "      <th>40</th>\n",
              "      <td>Michael</td>\n",
              "      <td>Male</td>\n",
              "      <td>2008-10-10</td>\n",
              "      <td>2016-09-23 11:25:00</td>\n",
              "      <td>99283</td>\n",
              "      <td>2.665</td>\n",
              "      <td>True</td>\n",
              "      <td>Distribution</td>\n",
              "    </tr>\n",
              "    <tr>\n",
              "      <th>45</th>\n",
              "      <td>Roger</td>\n",
              "      <td>Male</td>\n",
              "      <td>1980-04-17</td>\n",
              "      <td>2016-09-23 11:32:00</td>\n",
              "      <td>88010</td>\n",
              "      <td>13.886</td>\n",
              "      <td>True</td>\n",
              "      <td>Sales</td>\n",
              "    </tr>\n",
              "    <tr>\n",
              "      <th>54</th>\n",
              "      <td>Sara</td>\n",
              "      <td>Female</td>\n",
              "      <td>2007-08-15</td>\n",
              "      <td>2016-09-23 09:23:00</td>\n",
              "      <td>83677</td>\n",
              "      <td>8.999</td>\n",
              "      <td>False</td>\n",
              "      <td>Engineering</td>\n",
              "    </tr>\n",
              "    <tr>\n",
              "      <th>59</th>\n",
              "      <td>Irene</td>\n",
              "      <td>Female</td>\n",
              "      <td>1997-05-07</td>\n",
              "      <td>2016-09-23 09:32:00</td>\n",
              "      <td>66851</td>\n",
              "      <td>11.279</td>\n",
              "      <td>False</td>\n",
              "      <td>Engineering</td>\n",
              "    </tr>\n",
              "    <tr>\n",
              "      <th>72</th>\n",
              "      <td>Bobby</td>\n",
              "      <td>Male</td>\n",
              "      <td>2007-05-07</td>\n",
              "      <td>2016-09-23 10:01:00</td>\n",
              "      <td>54043</td>\n",
              "      <td>3.833</td>\n",
              "      <td>False</td>\n",
              "      <td>Product</td>\n",
              "    </tr>\n",
              "    <tr>\n",
              "      <th>81</th>\n",
              "      <td>Christopher</td>\n",
              "      <td>Male</td>\n",
              "      <td>2008-03-30</td>\n",
              "      <td>2016-09-23 10:52:00</td>\n",
              "      <td>47369</td>\n",
              "      <td>14.822</td>\n",
              "      <td>False</td>\n",
              "      <td>Legal</td>\n",
              "    </tr>\n",
              "    <tr>\n",
              "      <th>85</th>\n",
              "      <td>Jeremy</td>\n",
              "      <td>Male</td>\n",
              "      <td>2008-02-01</td>\n",
              "      <td>2016-09-23 08:50:00</td>\n",
              "      <td>100238</td>\n",
              "      <td>3.887</td>\n",
              "      <td>True</td>\n",
              "      <td>Client Services</td>\n",
              "    </tr>\n",
              "    <tr>\n",
              "      <th>96</th>\n",
              "      <td>Cynthia</td>\n",
              "      <td>Female</td>\n",
              "      <td>1994-03-21</td>\n",
              "      <td>2016-09-23 08:34:00</td>\n",
              "      <td>142321</td>\n",
              "      <td>1.737</td>\n",
              "      <td>False</td>\n",
              "      <td>Finance</td>\n",
              "    </tr>\n",
              "    <tr>\n",
              "      <th>101</th>\n",
              "      <td>Aaron</td>\n",
              "      <td>Male</td>\n",
              "      <td>2012-02-17</td>\n",
              "      <td>2016-09-23 10:20:00</td>\n",
              "      <td>61602</td>\n",
              "      <td>11.849</td>\n",
              "      <td>True</td>\n",
              "      <td>Marketing</td>\n",
              "    </tr>\n",
              "    <tr>\n",
              "      <th>109</th>\n",
              "      <td>Christopher</td>\n",
              "      <td>Male</td>\n",
              "      <td>2000-04-22</td>\n",
              "      <td>2016-09-23 10:15:00</td>\n",
              "      <td>37919</td>\n",
              "      <td>11.449</td>\n",
              "      <td>False</td>\n",
              "      <td>NaN</td>\n",
              "    </tr>\n",
              "    <tr>\n",
              "      <th>114</th>\n",
              "      <td>Ashley</td>\n",
              "      <td>Female</td>\n",
              "      <td>2002-08-04</td>\n",
              "      <td>2016-09-23 11:00:00</td>\n",
              "      <td>58698</td>\n",
              "      <td>6.811</td>\n",
              "      <td>True</td>\n",
              "      <td>Business Development</td>\n",
              "    </tr>\n",
              "    <tr>\n",
              "      <th>121</th>\n",
              "      <td>Kathleen</td>\n",
              "      <td>NaN</td>\n",
              "      <td>2016-05-09</td>\n",
              "      <td>2016-09-23 08:55:00</td>\n",
              "      <td>119735</td>\n",
              "      <td>18.740</td>\n",
              "      <td>False</td>\n",
              "      <td>Product</td>\n",
              "    </tr>\n",
              "    <tr>\n",
              "      <th>138</th>\n",
              "      <td>Ashley</td>\n",
              "      <td>Female</td>\n",
              "      <td>2006-05-25</td>\n",
              "      <td>2016-09-23 11:30:00</td>\n",
              "      <td>112238</td>\n",
              "      <td>6.030</td>\n",
              "      <td>True</td>\n",
              "      <td>Engineering</td>\n",
              "    </tr>\n",
              "    <tr>\n",
              "      <th>143</th>\n",
              "      <td>Teresa</td>\n",
              "      <td>NaN</td>\n",
              "      <td>2016-01-28</td>\n",
              "      <td>2016-09-23 10:55:00</td>\n",
              "      <td>140013</td>\n",
              "      <td>8.689</td>\n",
              "      <td>True</td>\n",
              "      <td>Engineering</td>\n",
              "    </tr>\n",
              "    <tr>\n",
              "      <th>157</th>\n",
              "      <td>NaN</td>\n",
              "      <td>Female</td>\n",
              "      <td>2005-07-27</td>\n",
              "      <td>2016-09-23 08:32:00</td>\n",
              "      <td>79536</td>\n",
              "      <td>14.443</td>\n",
              "      <td>True</td>\n",
              "      <td>Product</td>\n",
              "    </tr>\n",
              "    <tr>\n",
              "      <th>161</th>\n",
              "      <td>Marilyn</td>\n",
              "      <td>NaN</td>\n",
              "      <td>1999-08-22</td>\n",
              "      <td>2016-09-23 09:09:00</td>\n",
              "      <td>103386</td>\n",
              "      <td>11.451</td>\n",
              "      <td>False</td>\n",
              "      <td>Distribution</td>\n",
              "    </tr>\n",
              "    <tr>\n",
              "      <th>162</th>\n",
              "      <td>Arthur</td>\n",
              "      <td>Male</td>\n",
              "      <td>1998-04-13</td>\n",
              "      <td>2016-09-23 11:28:00</td>\n",
              "      <td>89786</td>\n",
              "      <td>14.422</td>\n",
              "      <td>True</td>\n",
              "      <td>Legal</td>\n",
              "    </tr>\n",
              "    <tr>\n",
              "      <th>170</th>\n",
              "      <td>Irene</td>\n",
              "      <td>Female</td>\n",
              "      <td>1992-01-29</td>\n",
              "      <td>2016-09-23 11:36:00</td>\n",
              "      <td>133772</td>\n",
              "      <td>19.020</td>\n",
              "      <td>True</td>\n",
              "      <td>Sales</td>\n",
              "    </tr>\n",
              "    <tr>\n",
              "      <th>196</th>\n",
              "      <td>Steven</td>\n",
              "      <td>Male</td>\n",
              "      <td>1985-11-10</td>\n",
              "      <td>2016-09-23 10:53:00</td>\n",
              "      <td>62719</td>\n",
              "      <td>19.127</td>\n",
              "      <td>False</td>\n",
              "      <td>Client Services</td>\n",
              "    </tr>\n",
              "    <tr>\n",
              "      <th>204</th>\n",
              "      <td>Willie</td>\n",
              "      <td>Male</td>\n",
              "      <td>2006-06-06</td>\n",
              "      <td>2016-09-23 09:45:00</td>\n",
              "      <td>55281</td>\n",
              "      <td>4.935</td>\n",
              "      <td>True</td>\n",
              "      <td>Marketing</td>\n",
              "    </tr>\n",
              "    <tr>\n",
              "      <th>209</th>\n",
              "      <td>Emily</td>\n",
              "      <td>Female</td>\n",
              "      <td>2007-09-20</td>\n",
              "      <td>2016-09-23 11:25:00</td>\n",
              "      <td>89434</td>\n",
              "      <td>11.295</td>\n",
              "      <td>False</td>\n",
              "      <td>Engineering</td>\n",
              "    </tr>\n",
              "    <tr>\n",
              "      <th>212</th>\n",
              "      <td>Lisa</td>\n",
              "      <td>Female</td>\n",
              "      <td>2009-11-02</td>\n",
              "      <td>2016-09-23 09:42:00</td>\n",
              "      <td>115387</td>\n",
              "      <td>1.821</td>\n",
              "      <td>False</td>\n",
              "      <td>Client Services</td>\n",
              "    </tr>\n",
              "    <tr>\n",
              "      <th>227</th>\n",
              "      <td>Todd</td>\n",
              "      <td>Male</td>\n",
              "      <td>1999-04-13</td>\n",
              "      <td>2016-09-23 10:31:00</td>\n",
              "      <td>59728</td>\n",
              "      <td>11.226</td>\n",
              "      <td>True</td>\n",
              "      <td>Client Services</td>\n",
              "    </tr>\n",
              "    <tr>\n",
              "      <th>230</th>\n",
              "      <td>George</td>\n",
              "      <td>NaN</td>\n",
              "      <td>1988-02-24</td>\n",
              "      <td>2016-09-23 11:29:00</td>\n",
              "      <td>38375</td>\n",
              "      <td>8.999</td>\n",
              "      <td>False</td>\n",
              "      <td>Legal</td>\n",
              "    </tr>\n",
              "    <tr>\n",
              "      <th>259</th>\n",
              "      <td>Henry</td>\n",
              "      <td>Male</td>\n",
              "      <td>1995-02-06</td>\n",
              "      <td>2016-09-23 08:34:00</td>\n",
              "      <td>89258</td>\n",
              "      <td>15.585</td>\n",
              "      <td>True</td>\n",
              "      <td>Human Resources</td>\n",
              "    </tr>\n",
              "    <tr>\n",
              "      <th>...</th>\n",
              "      <td>...</td>\n",
              "      <td>...</td>\n",
              "      <td>...</td>\n",
              "      <td>...</td>\n",
              "      <td>...</td>\n",
              "      <td>...</td>\n",
              "      <td>...</td>\n",
              "      <td>...</td>\n",
              "    </tr>\n",
              "    <tr>\n",
              "      <th>828</th>\n",
              "      <td>Cynthia</td>\n",
              "      <td>Female</td>\n",
              "      <td>2006-07-12</td>\n",
              "      <td>2016-09-23 08:55:00</td>\n",
              "      <td>149684</td>\n",
              "      <td>7.864</td>\n",
              "      <td>False</td>\n",
              "      <td>Product</td>\n",
              "    </tr>\n",
              "    <tr>\n",
              "      <th>840</th>\n",
              "      <td>Lillian</td>\n",
              "      <td>Female</td>\n",
              "      <td>2002-08-26</td>\n",
              "      <td>2016-09-23 08:53:00</td>\n",
              "      <td>103854</td>\n",
              "      <td>4.924</td>\n",
              "      <td>True</td>\n",
              "      <td>Distribution</td>\n",
              "    </tr>\n",
              "    <tr>\n",
              "      <th>850</th>\n",
              "      <td>Charles</td>\n",
              "      <td>Male</td>\n",
              "      <td>1997-09-03</td>\n",
              "      <td>2016-09-23 10:04:00</td>\n",
              "      <td>148291</td>\n",
              "      <td>6.002</td>\n",
              "      <td>False</td>\n",
              "      <td>NaN</td>\n",
              "    </tr>\n",
              "    <tr>\n",
              "      <th>852</th>\n",
              "      <td>Diana</td>\n",
              "      <td>Female</td>\n",
              "      <td>2004-11-19</td>\n",
              "      <td>2016-09-23 08:47:00</td>\n",
              "      <td>105066</td>\n",
              "      <td>17.343</td>\n",
              "      <td>True</td>\n",
              "      <td>Business Development</td>\n",
              "    </tr>\n",
              "    <tr>\n",
              "      <th>855</th>\n",
              "      <td>Phillip</td>\n",
              "      <td>NaN</td>\n",
              "      <td>2003-10-20</td>\n",
              "      <td>2016-09-23 11:09:00</td>\n",
              "      <td>89700</td>\n",
              "      <td>2.277</td>\n",
              "      <td>True</td>\n",
              "      <td>NaN</td>\n",
              "    </tr>\n",
              "    <tr>\n",
              "      <th>860</th>\n",
              "      <td>Phillip</td>\n",
              "      <td>Male</td>\n",
              "      <td>1984-10-07</td>\n",
              "      <td>2016-09-23 11:05:00</td>\n",
              "      <td>36837</td>\n",
              "      <td>14.660</td>\n",
              "      <td>False</td>\n",
              "      <td>Marketing</td>\n",
              "    </tr>\n",
              "    <tr>\n",
              "      <th>862</th>\n",
              "      <td>Ronald</td>\n",
              "      <td>Male</td>\n",
              "      <td>1983-05-25</td>\n",
              "      <td>2016-09-23 10:05:00</td>\n",
              "      <td>50426</td>\n",
              "      <td>18.536</td>\n",
              "      <td>True</td>\n",
              "      <td>Sales</td>\n",
              "    </tr>\n",
              "    <tr>\n",
              "      <th>871</th>\n",
              "      <td>Gerald</td>\n",
              "      <td>Male</td>\n",
              "      <td>2003-03-29</td>\n",
              "      <td>2016-09-23 10:37:00</td>\n",
              "      <td>96329</td>\n",
              "      <td>2.469</td>\n",
              "      <td>True</td>\n",
              "      <td>Engineering</td>\n",
              "    </tr>\n",
              "    <tr>\n",
              "      <th>885</th>\n",
              "      <td>Juan</td>\n",
              "      <td>Male</td>\n",
              "      <td>1993-10-06</td>\n",
              "      <td>2016-09-23 08:52:00</td>\n",
              "      <td>85871</td>\n",
              "      <td>9.160</td>\n",
              "      <td>False</td>\n",
              "      <td>Product</td>\n",
              "    </tr>\n",
              "    <tr>\n",
              "      <th>887</th>\n",
              "      <td>David</td>\n",
              "      <td>Male</td>\n",
              "      <td>2009-12-05</td>\n",
              "      <td>2016-09-23 08:48:00</td>\n",
              "      <td>92242</td>\n",
              "      <td>15.407</td>\n",
              "      <td>False</td>\n",
              "      <td>Legal</td>\n",
              "    </tr>\n",
              "    <tr>\n",
              "      <th>891</th>\n",
              "      <td>Timothy</td>\n",
              "      <td>Male</td>\n",
              "      <td>1991-08-25</td>\n",
              "      <td>2016-09-23 10:37:00</td>\n",
              "      <td>92587</td>\n",
              "      <td>8.475</td>\n",
              "      <td>False</td>\n",
              "      <td>Finance</td>\n",
              "    </tr>\n",
              "    <tr>\n",
              "      <th>894</th>\n",
              "      <td>Betty</td>\n",
              "      <td>Female</td>\n",
              "      <td>2002-11-19</td>\n",
              "      <td>2016-09-23 10:40:00</td>\n",
              "      <td>37005</td>\n",
              "      <td>7.645</td>\n",
              "      <td>True</td>\n",
              "      <td>Marketing</td>\n",
              "    </tr>\n",
              "    <tr>\n",
              "      <th>897</th>\n",
              "      <td>Kenneth</td>\n",
              "      <td>NaN</td>\n",
              "      <td>1994-02-28</td>\n",
              "      <td>2016-09-23 10:10:00</td>\n",
              "      <td>95296</td>\n",
              "      <td>10.146</td>\n",
              "      <td>False</td>\n",
              "      <td>Finance</td>\n",
              "    </tr>\n",
              "    <tr>\n",
              "      <th>903</th>\n",
              "      <td>Heather</td>\n",
              "      <td>Female</td>\n",
              "      <td>1983-07-29</td>\n",
              "      <td>2016-09-23 10:48:00</td>\n",
              "      <td>47605</td>\n",
              "      <td>14.955</td>\n",
              "      <td>True</td>\n",
              "      <td>Human Resources</td>\n",
              "    </tr>\n",
              "    <tr>\n",
              "      <th>906</th>\n",
              "      <td>Frances</td>\n",
              "      <td>Female</td>\n",
              "      <td>2014-05-16</td>\n",
              "      <td>2016-09-23 08:31:00</td>\n",
              "      <td>35884</td>\n",
              "      <td>17.667</td>\n",
              "      <td>False</td>\n",
              "      <td>Sales</td>\n",
              "    </tr>\n",
              "    <tr>\n",
              "      <th>907</th>\n",
              "      <td>Elizabeth</td>\n",
              "      <td>Female</td>\n",
              "      <td>1998-07-27</td>\n",
              "      <td>2016-09-23 11:12:00</td>\n",
              "      <td>137144</td>\n",
              "      <td>10.081</td>\n",
              "      <td>False</td>\n",
              "      <td>Finance</td>\n",
              "    </tr>\n",
              "    <tr>\n",
              "      <th>912</th>\n",
              "      <td>Joe</td>\n",
              "      <td>Male</td>\n",
              "      <td>1998-12-08</td>\n",
              "      <td>2016-09-23 10:28:00</td>\n",
              "      <td>126120</td>\n",
              "      <td>1.020</td>\n",
              "      <td>False</td>\n",
              "      <td>NaN</td>\n",
              "    </tr>\n",
              "    <tr>\n",
              "      <th>919</th>\n",
              "      <td>Sean</td>\n",
              "      <td>Male</td>\n",
              "      <td>2009-03-21</td>\n",
              "      <td>2016-09-23 11:38:00</td>\n",
              "      <td>131423</td>\n",
              "      <td>8.957</td>\n",
              "      <td>False</td>\n",
              "      <td>Distribution</td>\n",
              "    </tr>\n",
              "    <tr>\n",
              "      <th>922</th>\n",
              "      <td>Arthur</td>\n",
              "      <td>Male</td>\n",
              "      <td>2013-12-05</td>\n",
              "      <td>2016-09-23 08:44:00</td>\n",
              "      <td>86615</td>\n",
              "      <td>3.412</td>\n",
              "      <td>True</td>\n",
              "      <td>Business Development</td>\n",
              "    </tr>\n",
              "    <tr>\n",
              "      <th>927</th>\n",
              "      <td>Philip</td>\n",
              "      <td>Male</td>\n",
              "      <td>2005-03-11</td>\n",
              "      <td>2016-09-23 10:56:00</td>\n",
              "      <td>103557</td>\n",
              "      <td>16.014</td>\n",
              "      <td>True</td>\n",
              "      <td>Business Development</td>\n",
              "    </tr>\n",
              "    <tr>\n",
              "      <th>932</th>\n",
              "      <td>Bonnie</td>\n",
              "      <td>Female</td>\n",
              "      <td>2008-12-23</td>\n",
              "      <td>2016-09-23 09:26:00</td>\n",
              "      <td>90427</td>\n",
              "      <td>2.010</td>\n",
              "      <td>True</td>\n",
              "      <td>Client Services</td>\n",
              "    </tr>\n",
              "    <tr>\n",
              "      <th>940</th>\n",
              "      <td>Andrew</td>\n",
              "      <td>Male</td>\n",
              "      <td>1990-09-28</td>\n",
              "      <td>2016-09-23 09:38:00</td>\n",
              "      <td>137386</td>\n",
              "      <td>8.611</td>\n",
              "      <td>True</td>\n",
              "      <td>Distribution</td>\n",
              "    </tr>\n",
              "    <tr>\n",
              "      <th>941</th>\n",
              "      <td>William</td>\n",
              "      <td>Male</td>\n",
              "      <td>1997-06-26</td>\n",
              "      <td>2016-09-23 08:33:00</td>\n",
              "      <td>104840</td>\n",
              "      <td>15.653</td>\n",
              "      <td>True</td>\n",
              "      <td>Engineering</td>\n",
              "    </tr>\n",
              "    <tr>\n",
              "      <th>943</th>\n",
              "      <td>Wayne</td>\n",
              "      <td>Male</td>\n",
              "      <td>2006-09-08</td>\n",
              "      <td>2016-09-23 11:09:00</td>\n",
              "      <td>67471</td>\n",
              "      <td>2.728</td>\n",
              "      <td>False</td>\n",
              "      <td>Engineering</td>\n",
              "    </tr>\n",
              "    <tr>\n",
              "      <th>950</th>\n",
              "      <td>Paula</td>\n",
              "      <td>Female</td>\n",
              "      <td>1983-05-21</td>\n",
              "      <td>2016-09-23 11:42:00</td>\n",
              "      <td>58423</td>\n",
              "      <td>10.833</td>\n",
              "      <td>False</td>\n",
              "      <td>Business Development</td>\n",
              "    </tr>\n",
              "    <tr>\n",
              "      <th>963</th>\n",
              "      <td>Ann</td>\n",
              "      <td>Female</td>\n",
              "      <td>1994-09-23</td>\n",
              "      <td>2016-09-23 11:15:00</td>\n",
              "      <td>89443</td>\n",
              "      <td>17.940</td>\n",
              "      <td>True</td>\n",
              "      <td>Sales</td>\n",
              "    </tr>\n",
              "    <tr>\n",
              "      <th>977</th>\n",
              "      <td>Sarah</td>\n",
              "      <td>Female</td>\n",
              "      <td>1995-12-04</td>\n",
              "      <td>2016-09-23 09:16:00</td>\n",
              "      <td>124566</td>\n",
              "      <td>5.949</td>\n",
              "      <td>False</td>\n",
              "      <td>Product</td>\n",
              "    </tr>\n",
              "    <tr>\n",
              "      <th>982</th>\n",
              "      <td>Rose</td>\n",
              "      <td>Female</td>\n",
              "      <td>1982-04-06</td>\n",
              "      <td>2016-09-23 10:43:00</td>\n",
              "      <td>91411</td>\n",
              "      <td>8.639</td>\n",
              "      <td>True</td>\n",
              "      <td>Human Resources</td>\n",
              "    </tr>\n",
              "    <tr>\n",
              "      <th>988</th>\n",
              "      <td>Alice</td>\n",
              "      <td>Female</td>\n",
              "      <td>2004-10-05</td>\n",
              "      <td>2016-09-23 09:34:00</td>\n",
              "      <td>47638</td>\n",
              "      <td>11.209</td>\n",
              "      <td>False</td>\n",
              "      <td>Human Resources</td>\n",
              "    </tr>\n",
              "    <tr>\n",
              "      <th>992</th>\n",
              "      <td>Anthony</td>\n",
              "      <td>Male</td>\n",
              "      <td>2011-10-16</td>\n",
              "      <td>2016-09-23 08:35:00</td>\n",
              "      <td>112769</td>\n",
              "      <td>11.625</td>\n",
              "      <td>True</td>\n",
              "      <td>Finance</td>\n",
              "    </tr>\n",
              "  </tbody>\n",
              "</table>\n",
              "<p>136 rows × 8 columns</p>\n",
              "</div>"
            ],
            "text/plain": [
              "      First Name  Gender Start Date     Last Login Time  Salary  Bonus %  \\\n",
              "2          Maria  Female 1993-04-23 2016-09-23 11:17:00  130590   11.858   \n",
              "7            NaN  Female 2015-07-20 2016-09-23 10:43:00   45906   11.598   \n",
              "10        Louise  Female 1980-08-12 2016-09-23 09:01:00   63241   15.132   \n",
              "18         Diana  Female 1981-10-23 2016-09-23 10:27:00  132940   19.082   \n",
              "33          Jean  Female 1993-12-18 2016-09-23 09:07:00  119082   16.180   \n",
              "40       Michael    Male 2008-10-10 2016-09-23 11:25:00   99283    2.665   \n",
              "45         Roger    Male 1980-04-17 2016-09-23 11:32:00   88010   13.886   \n",
              "54          Sara  Female 2007-08-15 2016-09-23 09:23:00   83677    8.999   \n",
              "59         Irene  Female 1997-05-07 2016-09-23 09:32:00   66851   11.279   \n",
              "72         Bobby    Male 2007-05-07 2016-09-23 10:01:00   54043    3.833   \n",
              "81   Christopher    Male 2008-03-30 2016-09-23 10:52:00   47369   14.822   \n",
              "85        Jeremy    Male 2008-02-01 2016-09-23 08:50:00  100238    3.887   \n",
              "96       Cynthia  Female 1994-03-21 2016-09-23 08:34:00  142321    1.737   \n",
              "101        Aaron    Male 2012-02-17 2016-09-23 10:20:00   61602   11.849   \n",
              "109  Christopher    Male 2000-04-22 2016-09-23 10:15:00   37919   11.449   \n",
              "114       Ashley  Female 2002-08-04 2016-09-23 11:00:00   58698    6.811   \n",
              "121     Kathleen     NaN 2016-05-09 2016-09-23 08:55:00  119735   18.740   \n",
              "138       Ashley  Female 2006-05-25 2016-09-23 11:30:00  112238    6.030   \n",
              "143       Teresa     NaN 2016-01-28 2016-09-23 10:55:00  140013    8.689   \n",
              "157          NaN  Female 2005-07-27 2016-09-23 08:32:00   79536   14.443   \n",
              "161      Marilyn     NaN 1999-08-22 2016-09-23 09:09:00  103386   11.451   \n",
              "162       Arthur    Male 1998-04-13 2016-09-23 11:28:00   89786   14.422   \n",
              "170        Irene  Female 1992-01-29 2016-09-23 11:36:00  133772   19.020   \n",
              "196       Steven    Male 1985-11-10 2016-09-23 10:53:00   62719   19.127   \n",
              "204       Willie    Male 2006-06-06 2016-09-23 09:45:00   55281    4.935   \n",
              "209        Emily  Female 2007-09-20 2016-09-23 11:25:00   89434   11.295   \n",
              "212         Lisa  Female 2009-11-02 2016-09-23 09:42:00  115387    1.821   \n",
              "227         Todd    Male 1999-04-13 2016-09-23 10:31:00   59728   11.226   \n",
              "230       George     NaN 1988-02-24 2016-09-23 11:29:00   38375    8.999   \n",
              "259        Henry    Male 1995-02-06 2016-09-23 08:34:00   89258   15.585   \n",
              "..           ...     ...        ...                 ...     ...      ...   \n",
              "828      Cynthia  Female 2006-07-12 2016-09-23 08:55:00  149684    7.864   \n",
              "840      Lillian  Female 2002-08-26 2016-09-23 08:53:00  103854    4.924   \n",
              "850      Charles    Male 1997-09-03 2016-09-23 10:04:00  148291    6.002   \n",
              "852        Diana  Female 2004-11-19 2016-09-23 08:47:00  105066   17.343   \n",
              "855      Phillip     NaN 2003-10-20 2016-09-23 11:09:00   89700    2.277   \n",
              "860      Phillip    Male 1984-10-07 2016-09-23 11:05:00   36837   14.660   \n",
              "862       Ronald    Male 1983-05-25 2016-09-23 10:05:00   50426   18.536   \n",
              "871       Gerald    Male 2003-03-29 2016-09-23 10:37:00   96329    2.469   \n",
              "885         Juan    Male 1993-10-06 2016-09-23 08:52:00   85871    9.160   \n",
              "887        David    Male 2009-12-05 2016-09-23 08:48:00   92242   15.407   \n",
              "891      Timothy    Male 1991-08-25 2016-09-23 10:37:00   92587    8.475   \n",
              "894        Betty  Female 2002-11-19 2016-09-23 10:40:00   37005    7.645   \n",
              "897      Kenneth     NaN 1994-02-28 2016-09-23 10:10:00   95296   10.146   \n",
              "903      Heather  Female 1983-07-29 2016-09-23 10:48:00   47605   14.955   \n",
              "906      Frances  Female 2014-05-16 2016-09-23 08:31:00   35884   17.667   \n",
              "907    Elizabeth  Female 1998-07-27 2016-09-23 11:12:00  137144   10.081   \n",
              "912          Joe    Male 1998-12-08 2016-09-23 10:28:00  126120    1.020   \n",
              "919         Sean    Male 2009-03-21 2016-09-23 11:38:00  131423    8.957   \n",
              "922       Arthur    Male 2013-12-05 2016-09-23 08:44:00   86615    3.412   \n",
              "927       Philip    Male 2005-03-11 2016-09-23 10:56:00  103557   16.014   \n",
              "932       Bonnie  Female 2008-12-23 2016-09-23 09:26:00   90427    2.010   \n",
              "940       Andrew    Male 1990-09-28 2016-09-23 09:38:00  137386    8.611   \n",
              "941      William    Male 1997-06-26 2016-09-23 08:33:00  104840   15.653   \n",
              "943        Wayne    Male 2006-09-08 2016-09-23 11:09:00   67471    2.728   \n",
              "950        Paula  Female 1983-05-21 2016-09-23 11:42:00   58423   10.833   \n",
              "963          Ann  Female 1994-09-23 2016-09-23 11:15:00   89443   17.940   \n",
              "977        Sarah  Female 1995-12-04 2016-09-23 09:16:00  124566    5.949   \n",
              "982         Rose  Female 1982-04-06 2016-09-23 10:43:00   91411    8.639   \n",
              "988        Alice  Female 2004-10-05 2016-09-23 09:34:00   47638   11.209   \n",
              "992      Anthony    Male 2011-10-16 2016-09-23 08:35:00  112769   11.625   \n",
              "\n",
              "    Senior Management                  Team  \n",
              "2               False               Finance  \n",
              "7                True               Finance  \n",
              "10               True                   NaN  \n",
              "18              False       Client Services  \n",
              "33              False  Business Development  \n",
              "40               True          Distribution  \n",
              "45               True                 Sales  \n",
              "54              False           Engineering  \n",
              "59              False           Engineering  \n",
              "72              False               Product  \n",
              "81              False                 Legal  \n",
              "85               True       Client Services  \n",
              "96              False               Finance  \n",
              "101              True             Marketing  \n",
              "109             False                   NaN  \n",
              "114              True  Business Development  \n",
              "121             False               Product  \n",
              "138              True           Engineering  \n",
              "143              True           Engineering  \n",
              "157              True               Product  \n",
              "161             False          Distribution  \n",
              "162              True                 Legal  \n",
              "170              True                 Sales  \n",
              "196             False       Client Services  \n",
              "204              True             Marketing  \n",
              "209             False           Engineering  \n",
              "212             False       Client Services  \n",
              "227              True       Client Services  \n",
              "230             False                 Legal  \n",
              "259              True       Human Resources  \n",
              "..                ...                   ...  \n",
              "828             False               Product  \n",
              "840              True          Distribution  \n",
              "850             False                   NaN  \n",
              "852              True  Business Development  \n",
              "855              True                   NaN  \n",
              "860             False             Marketing  \n",
              "862              True                 Sales  \n",
              "871              True           Engineering  \n",
              "885             False               Product  \n",
              "887             False                 Legal  \n",
              "891             False               Finance  \n",
              "894              True             Marketing  \n",
              "897             False               Finance  \n",
              "903              True       Human Resources  \n",
              "906             False                 Sales  \n",
              "907             False               Finance  \n",
              "912             False                   NaN  \n",
              "919             False          Distribution  \n",
              "922              True  Business Development  \n",
              "927              True  Business Development  \n",
              "932              True       Client Services  \n",
              "940              True          Distribution  \n",
              "941              True           Engineering  \n",
              "943             False           Engineering  \n",
              "950             False  Business Development  \n",
              "963              True                 Sales  \n",
              "977             False               Product  \n",
              "982              True       Human Resources  \n",
              "988             False       Human Resources  \n",
              "992              True               Finance  \n",
              "\n",
              "[136 rows x 8 columns]"
            ]
          },
          "metadata": {}
        }
      ]
    },
    {
      "cell_type": "code",
      "source": "",
      "metadata": {
        "collapsed": true,
        "jupyter": {
          "outputs_hidden": true
        }
      },
      "execution_count": null,
      "outputs": []
    },
    {
      "cell_type": "code",
      "source": "",
      "metadata": {
        "collapsed": true,
        "jupyter": {
          "outputs_hidden": true
        }
      },
      "execution_count": null,
      "outputs": []
    },
    {
      "cell_type": "code",
      "source": "",
      "metadata": {
        "collapsed": true,
        "jupyter": {
          "outputs_hidden": true
        }
      },
      "execution_count": null,
      "outputs": []
    },
    {
      "cell_type": "code",
      "source": "",
      "metadata": {
        "collapsed": true,
        "jupyter": {
          "outputs_hidden": true
        }
      },
      "execution_count": null,
      "outputs": []
    },
    {
      "cell_type": "code",
      "source": "",
      "metadata": {
        "collapsed": true,
        "jupyter": {
          "outputs_hidden": true
        }
      },
      "execution_count": null,
      "outputs": []
    },
    {
      "cell_type": "code",
      "source": "",
      "metadata": {
        "collapsed": true,
        "jupyter": {
          "outputs_hidden": true
        }
      },
      "execution_count": null,
      "outputs": []
    },
    {
      "cell_type": "markdown",
      "source": "## The `.duplicated()` Method",
      "metadata": {}
    },
    {
      "cell_type": "code",
      "source": "df = pd.read_csv(\"employees.csv\", parse_dates = [\"Start Date\", \"Last Login Time\"])\ndf[\"Senior Management\"] = df[\"Senior Management\"].astype(\"bool\")\ndf[\"Gender\"] = df[\"Gender\"].astype(\"category\")\ndf.sort_values(\"First Name\", inplace = True)\ndf.head(3)",
      "metadata": {
        "collapsed": false,
        "jupyter": {
          "outputs_hidden": false
        }
      },
      "execution_count": 15,
      "outputs": [
        {
          "execution_count": 15,
          "output_type": "execute_result",
          "data": {
            "text/html": [
              "<div>\n",
              "<table border=\"1\" class=\"dataframe\">\n",
              "  <thead>\n",
              "    <tr style=\"text-align: right;\">\n",
              "      <th></th>\n",
              "      <th>First Name</th>\n",
              "      <th>Gender</th>\n",
              "      <th>Start Date</th>\n",
              "      <th>Last Login Time</th>\n",
              "      <th>Salary</th>\n",
              "      <th>Bonus %</th>\n",
              "      <th>Senior Management</th>\n",
              "      <th>Team</th>\n",
              "    </tr>\n",
              "  </thead>\n",
              "  <tbody>\n",
              "    <tr>\n",
              "      <th>101</th>\n",
              "      <td>Aaron</td>\n",
              "      <td>Male</td>\n",
              "      <td>2012-02-17</td>\n",
              "      <td>2016-09-05 10:20:00</td>\n",
              "      <td>61602</td>\n",
              "      <td>11.849</td>\n",
              "      <td>True</td>\n",
              "      <td>Marketing</td>\n",
              "    </tr>\n",
              "    <tr>\n",
              "      <th>327</th>\n",
              "      <td>Aaron</td>\n",
              "      <td>Male</td>\n",
              "      <td>1994-01-29</td>\n",
              "      <td>2016-09-05 18:48:00</td>\n",
              "      <td>58755</td>\n",
              "      <td>5.097</td>\n",
              "      <td>True</td>\n",
              "      <td>Marketing</td>\n",
              "    </tr>\n",
              "    <tr>\n",
              "      <th>440</th>\n",
              "      <td>Aaron</td>\n",
              "      <td>Male</td>\n",
              "      <td>1990-07-22</td>\n",
              "      <td>2016-09-05 14:53:00</td>\n",
              "      <td>52119</td>\n",
              "      <td>11.343</td>\n",
              "      <td>True</td>\n",
              "      <td>Client Services</td>\n",
              "    </tr>\n",
              "  </tbody>\n",
              "</table>\n",
              "</div>"
            ],
            "text/plain": [
              "    First Name Gender Start Date     Last Login Time  Salary  Bonus %  \\\n",
              "101      Aaron   Male 2012-02-17 2016-09-05 10:20:00   61602   11.849   \n",
              "327      Aaron   Male 1994-01-29 2016-09-05 18:48:00   58755    5.097   \n",
              "440      Aaron   Male 1990-07-22 2016-09-05 14:53:00   52119   11.343   \n",
              "\n",
              "    Senior Management             Team  \n",
              "101              True        Marketing  \n",
              "327              True        Marketing  \n",
              "440              True  Client Services  "
            ]
          },
          "metadata": {}
        }
      ]
    },
    {
      "cell_type": "code",
      "source": "mask = ~df[\"First Name\"].duplicated(keep = False)\ndf[mask]",
      "metadata": {
        "collapsed": false,
        "jupyter": {
          "outputs_hidden": false
        },
        "trusted": true
      },
      "execution_count": 121,
      "outputs": [
        {
          "execution_count": 121,
          "output_type": "execute_result",
          "data": {
            "text/plain": "    First Name  Gender Start Date     Last Login Time  Salary  Bonus %  \\\n5       Dennis    Male 1987-04-18 2023-07-17 01:35:00  115163   10.125   \n8       Angela  Female 2005-11-22 2023-07-17 06:29:00   95570   18.523   \n33        Jean  Female 1993-12-18 2023-07-17 09:07:00  119082   16.180   \n190      Carol  Female 1996-03-19 2023-07-17 03:39:00   57783    9.129   \n291      Tammy  Female 1984-11-11 2023-07-17 10:30:00  132839   17.463   \n495     Eugene    Male 1984-05-24 2023-07-17 10:54:00   81077    2.117   \n688      Brian    Male 2007-04-07 2023-07-17 22:47:00   93901   17.821   \n832      Keith    Male 2003-02-12 2023-07-17 15:02:00  120672   19.467   \n887      David    Male 2009-12-05 2023-07-17 08:48:00   92242   15.407   \n\n     Senior Management                  Team  \n5                False                 Legal  \n8                 True           Engineering  \n33               False  Business Development  \n190              False               Finance  \n291               True       Client Services  \n495              False                 Sales  \n688               True                 Legal  \n832              False                 Legal  \n887              False                 Legal  ",
            "text/html": "<div>\n<style scoped>\n    .dataframe tbody tr th:only-of-type {\n        vertical-align: middle;\n    }\n\n    .dataframe tbody tr th {\n        vertical-align: top;\n    }\n\n    .dataframe thead th {\n        text-align: right;\n    }\n</style>\n<table border=\"1\" class=\"dataframe\">\n  <thead>\n    <tr style=\"text-align: right;\">\n      <th></th>\n      <th>First Name</th>\n      <th>Gender</th>\n      <th>Start Date</th>\n      <th>Last Login Time</th>\n      <th>Salary</th>\n      <th>Bonus %</th>\n      <th>Senior Management</th>\n      <th>Team</th>\n    </tr>\n  </thead>\n  <tbody>\n    <tr>\n      <th>5</th>\n      <td>Dennis</td>\n      <td>Male</td>\n      <td>1987-04-18</td>\n      <td>2023-07-17 01:35:00</td>\n      <td>115163</td>\n      <td>10.125</td>\n      <td>False</td>\n      <td>Legal</td>\n    </tr>\n    <tr>\n      <th>8</th>\n      <td>Angela</td>\n      <td>Female</td>\n      <td>2005-11-22</td>\n      <td>2023-07-17 06:29:00</td>\n      <td>95570</td>\n      <td>18.523</td>\n      <td>True</td>\n      <td>Engineering</td>\n    </tr>\n    <tr>\n      <th>33</th>\n      <td>Jean</td>\n      <td>Female</td>\n      <td>1993-12-18</td>\n      <td>2023-07-17 09:07:00</td>\n      <td>119082</td>\n      <td>16.180</td>\n      <td>False</td>\n      <td>Business Development</td>\n    </tr>\n    <tr>\n      <th>190</th>\n      <td>Carol</td>\n      <td>Female</td>\n      <td>1996-03-19</td>\n      <td>2023-07-17 03:39:00</td>\n      <td>57783</td>\n      <td>9.129</td>\n      <td>False</td>\n      <td>Finance</td>\n    </tr>\n    <tr>\n      <th>291</th>\n      <td>Tammy</td>\n      <td>Female</td>\n      <td>1984-11-11</td>\n      <td>2023-07-17 10:30:00</td>\n      <td>132839</td>\n      <td>17.463</td>\n      <td>True</td>\n      <td>Client Services</td>\n    </tr>\n    <tr>\n      <th>495</th>\n      <td>Eugene</td>\n      <td>Male</td>\n      <td>1984-05-24</td>\n      <td>2023-07-17 10:54:00</td>\n      <td>81077</td>\n      <td>2.117</td>\n      <td>False</td>\n      <td>Sales</td>\n    </tr>\n    <tr>\n      <th>688</th>\n      <td>Brian</td>\n      <td>Male</td>\n      <td>2007-04-07</td>\n      <td>2023-07-17 22:47:00</td>\n      <td>93901</td>\n      <td>17.821</td>\n      <td>True</td>\n      <td>Legal</td>\n    </tr>\n    <tr>\n      <th>832</th>\n      <td>Keith</td>\n      <td>Male</td>\n      <td>2003-02-12</td>\n      <td>2023-07-17 15:02:00</td>\n      <td>120672</td>\n      <td>19.467</td>\n      <td>False</td>\n      <td>Legal</td>\n    </tr>\n    <tr>\n      <th>887</th>\n      <td>David</td>\n      <td>Male</td>\n      <td>2009-12-05</td>\n      <td>2023-07-17 08:48:00</td>\n      <td>92242</td>\n      <td>15.407</td>\n      <td>False</td>\n      <td>Legal</td>\n    </tr>\n  </tbody>\n</table>\n</div>"
          },
          "metadata": {}
        }
      ]
    },
    {
      "cell_type": "markdown",
      "source": "## The `.drop_duplicates()` Method",
      "metadata": {}
    },
    {
      "cell_type": "code",
      "source": "df = pd.read_csv(\"employees.csv\", parse_dates = [\"Start Date\", \"Last Login Time\"])\ndf[\"Senior Management\"] = df[\"Senior Management\"].astype(\"bool\")\ndf[\"Gender\"] = df[\"Gender\"].astype(\"category\")\ndf.sort_values(\"First Name\", inplace = True)\ndf.head(3)",
      "metadata": {
        "collapsed": false,
        "jupyter": {
          "outputs_hidden": false
        }
      },
      "execution_count": 53,
      "outputs": [
        {
          "execution_count": 53,
          "output_type": "execute_result",
          "data": {
            "text/html": [
              "<div>\n",
              "<table border=\"1\" class=\"dataframe\">\n",
              "  <thead>\n",
              "    <tr style=\"text-align: right;\">\n",
              "      <th></th>\n",
              "      <th>First Name</th>\n",
              "      <th>Gender</th>\n",
              "      <th>Start Date</th>\n",
              "      <th>Last Login Time</th>\n",
              "      <th>Salary</th>\n",
              "      <th>Bonus %</th>\n",
              "      <th>Senior Management</th>\n",
              "      <th>Team</th>\n",
              "    </tr>\n",
              "  </thead>\n",
              "  <tbody>\n",
              "    <tr>\n",
              "      <th>101</th>\n",
              "      <td>Aaron</td>\n",
              "      <td>Male</td>\n",
              "      <td>2012-02-17</td>\n",
              "      <td>2016-09-05 10:20:00</td>\n",
              "      <td>61602</td>\n",
              "      <td>11.849</td>\n",
              "      <td>True</td>\n",
              "      <td>Marketing</td>\n",
              "    </tr>\n",
              "    <tr>\n",
              "      <th>327</th>\n",
              "      <td>Aaron</td>\n",
              "      <td>Male</td>\n",
              "      <td>1994-01-29</td>\n",
              "      <td>2016-09-05 18:48:00</td>\n",
              "      <td>58755</td>\n",
              "      <td>5.097</td>\n",
              "      <td>True</td>\n",
              "      <td>Marketing</td>\n",
              "    </tr>\n",
              "    <tr>\n",
              "      <th>440</th>\n",
              "      <td>Aaron</td>\n",
              "      <td>Male</td>\n",
              "      <td>1990-07-22</td>\n",
              "      <td>2016-09-05 14:53:00</td>\n",
              "      <td>52119</td>\n",
              "      <td>11.343</td>\n",
              "      <td>True</td>\n",
              "      <td>Client Services</td>\n",
              "    </tr>\n",
              "  </tbody>\n",
              "</table>\n",
              "</div>"
            ],
            "text/plain": [
              "    First Name Gender Start Date     Last Login Time  Salary  Bonus %  \\\n",
              "101      Aaron   Male 2012-02-17 2016-09-05 10:20:00   61602   11.849   \n",
              "327      Aaron   Male 1994-01-29 2016-09-05 18:48:00   58755    5.097   \n",
              "440      Aaron   Male 1990-07-22 2016-09-05 14:53:00   52119   11.343   \n",
              "\n",
              "    Senior Management             Team  \n",
              "101              True        Marketing  \n",
              "327              True        Marketing  \n",
              "440              True  Client Services  "
            ]
          },
          "metadata": {}
        }
      ]
    },
    {
      "cell_type": "code",
      "source": "len(df)",
      "metadata": {
        "collapsed": false,
        "jupyter": {
          "outputs_hidden": false
        }
      },
      "execution_count": 54,
      "outputs": [
        {
          "execution_count": 54,
          "output_type": "execute_result",
          "data": {
            "text/plain": [
              "1000"
            ]
          },
          "metadata": {}
        }
      ]
    },
    {
      "cell_type": "code",
      "source": "len(df.drop_duplicates())",
      "metadata": {
        "collapsed": false,
        "jupyter": {
          "outputs_hidden": false
        }
      },
      "execution_count": 56,
      "outputs": [
        {
          "execution_count": 56,
          "output_type": "execute_result",
          "data": {
            "text/plain": [
              "1000"
            ]
          },
          "metadata": {}
        }
      ]
    },
    {
      "cell_type": "code",
      "source": "df.drop_duplicates(subset = [\"First Name\"], keep = False)",
      "metadata": {
        "collapsed": false,
        "jupyter": {
          "outputs_hidden": false
        }
      },
      "execution_count": 59,
      "outputs": [
        {
          "execution_count": 59,
          "output_type": "execute_result",
          "data": {
            "text/html": [
              "<div>\n",
              "<table border=\"1\" class=\"dataframe\">\n",
              "  <thead>\n",
              "    <tr style=\"text-align: right;\">\n",
              "      <th></th>\n",
              "      <th>First Name</th>\n",
              "      <th>Gender</th>\n",
              "      <th>Start Date</th>\n",
              "      <th>Last Login Time</th>\n",
              "      <th>Salary</th>\n",
              "      <th>Bonus %</th>\n",
              "      <th>Senior Management</th>\n",
              "      <th>Team</th>\n",
              "    </tr>\n",
              "  </thead>\n",
              "  <tbody>\n",
              "    <tr>\n",
              "      <th>8</th>\n",
              "      <td>Angela</td>\n",
              "      <td>Female</td>\n",
              "      <td>2005-11-22</td>\n",
              "      <td>2016-09-05 06:29:00</td>\n",
              "      <td>95570</td>\n",
              "      <td>18.523</td>\n",
              "      <td>True</td>\n",
              "      <td>Engineering</td>\n",
              "    </tr>\n",
              "    <tr>\n",
              "      <th>688</th>\n",
              "      <td>Brian</td>\n",
              "      <td>Male</td>\n",
              "      <td>2007-04-07</td>\n",
              "      <td>2016-09-05 22:47:00</td>\n",
              "      <td>93901</td>\n",
              "      <td>17.821</td>\n",
              "      <td>True</td>\n",
              "      <td>Legal</td>\n",
              "    </tr>\n",
              "    <tr>\n",
              "      <th>190</th>\n",
              "      <td>Carol</td>\n",
              "      <td>Female</td>\n",
              "      <td>1996-03-19</td>\n",
              "      <td>2016-09-05 03:39:00</td>\n",
              "      <td>57783</td>\n",
              "      <td>9.129</td>\n",
              "      <td>False</td>\n",
              "      <td>Finance</td>\n",
              "    </tr>\n",
              "    <tr>\n",
              "      <th>887</th>\n",
              "      <td>David</td>\n",
              "      <td>Male</td>\n",
              "      <td>2009-12-05</td>\n",
              "      <td>2016-09-05 08:48:00</td>\n",
              "      <td>92242</td>\n",
              "      <td>15.407</td>\n",
              "      <td>False</td>\n",
              "      <td>Legal</td>\n",
              "    </tr>\n",
              "    <tr>\n",
              "      <th>5</th>\n",
              "      <td>Dennis</td>\n",
              "      <td>Male</td>\n",
              "      <td>1987-04-18</td>\n",
              "      <td>2016-09-05 01:35:00</td>\n",
              "      <td>115163</td>\n",
              "      <td>10.125</td>\n",
              "      <td>False</td>\n",
              "      <td>Legal</td>\n",
              "    </tr>\n",
              "    <tr>\n",
              "      <th>495</th>\n",
              "      <td>Eugene</td>\n",
              "      <td>Male</td>\n",
              "      <td>1984-05-24</td>\n",
              "      <td>2016-09-05 10:54:00</td>\n",
              "      <td>81077</td>\n",
              "      <td>2.117</td>\n",
              "      <td>False</td>\n",
              "      <td>Sales</td>\n",
              "    </tr>\n",
              "    <tr>\n",
              "      <th>33</th>\n",
              "      <td>Jean</td>\n",
              "      <td>Female</td>\n",
              "      <td>1993-12-18</td>\n",
              "      <td>2016-09-05 09:07:00</td>\n",
              "      <td>119082</td>\n",
              "      <td>16.180</td>\n",
              "      <td>False</td>\n",
              "      <td>Business Development</td>\n",
              "    </tr>\n",
              "    <tr>\n",
              "      <th>832</th>\n",
              "      <td>Keith</td>\n",
              "      <td>Male</td>\n",
              "      <td>2003-02-12</td>\n",
              "      <td>2016-09-05 15:02:00</td>\n",
              "      <td>120672</td>\n",
              "      <td>19.467</td>\n",
              "      <td>False</td>\n",
              "      <td>Legal</td>\n",
              "    </tr>\n",
              "    <tr>\n",
              "      <th>291</th>\n",
              "      <td>Tammy</td>\n",
              "      <td>Female</td>\n",
              "      <td>1984-11-11</td>\n",
              "      <td>2016-09-05 10:30:00</td>\n",
              "      <td>132839</td>\n",
              "      <td>17.463</td>\n",
              "      <td>True</td>\n",
              "      <td>Client Services</td>\n",
              "    </tr>\n",
              "  </tbody>\n",
              "</table>\n",
              "</div>"
            ],
            "text/plain": [
              "    First Name  Gender Start Date     Last Login Time  Salary  Bonus %  \\\n",
              "8       Angela  Female 2005-11-22 2016-09-05 06:29:00   95570   18.523   \n",
              "688      Brian    Male 2007-04-07 2016-09-05 22:47:00   93901   17.821   \n",
              "190      Carol  Female 1996-03-19 2016-09-05 03:39:00   57783    9.129   \n",
              "887      David    Male 2009-12-05 2016-09-05 08:48:00   92242   15.407   \n",
              "5       Dennis    Male 1987-04-18 2016-09-05 01:35:00  115163   10.125   \n",
              "495     Eugene    Male 1984-05-24 2016-09-05 10:54:00   81077    2.117   \n",
              "33        Jean  Female 1993-12-18 2016-09-05 09:07:00  119082   16.180   \n",
              "832      Keith    Male 2003-02-12 2016-09-05 15:02:00  120672   19.467   \n",
              "291      Tammy  Female 1984-11-11 2016-09-05 10:30:00  132839   17.463   \n",
              "\n",
              "    Senior Management                  Team  \n",
              "8                True           Engineering  \n",
              "688              True                 Legal  \n",
              "190             False               Finance  \n",
              "887             False                 Legal  \n",
              "5               False                 Legal  \n",
              "495             False                 Sales  \n",
              "33              False  Business Development  \n",
              "832             False                 Legal  \n",
              "291              True       Client Services  "
            ]
          },
          "metadata": {}
        }
      ]
    },
    {
      "cell_type": "code",
      "source": "df.drop_duplicates(subset = [\"First Name\", \"Team\"], inplace = True)",
      "metadata": {
        "collapsed": false,
        "jupyter": {
          "outputs_hidden": false
        }
      },
      "execution_count": 62,
      "outputs": []
    },
    {
      "cell_type": "code",
      "source": "df.head(2)",
      "metadata": {
        "collapsed": false,
        "jupyter": {
          "outputs_hidden": false
        }
      },
      "execution_count": 63,
      "outputs": [
        {
          "execution_count": 63,
          "output_type": "execute_result",
          "data": {
            "text/html": [
              "<div>\n",
              "<table border=\"1\" class=\"dataframe\">\n",
              "  <thead>\n",
              "    <tr style=\"text-align: right;\">\n",
              "      <th></th>\n",
              "      <th>First Name</th>\n",
              "      <th>Gender</th>\n",
              "      <th>Start Date</th>\n",
              "      <th>Last Login Time</th>\n",
              "      <th>Salary</th>\n",
              "      <th>Bonus %</th>\n",
              "      <th>Senior Management</th>\n",
              "      <th>Team</th>\n",
              "    </tr>\n",
              "  </thead>\n",
              "  <tbody>\n",
              "    <tr>\n",
              "      <th>101</th>\n",
              "      <td>Aaron</td>\n",
              "      <td>Male</td>\n",
              "      <td>2012-02-17</td>\n",
              "      <td>2016-09-05 10:20:00</td>\n",
              "      <td>61602</td>\n",
              "      <td>11.849</td>\n",
              "      <td>True</td>\n",
              "      <td>Marketing</td>\n",
              "    </tr>\n",
              "    <tr>\n",
              "      <th>440</th>\n",
              "      <td>Aaron</td>\n",
              "      <td>Male</td>\n",
              "      <td>1990-07-22</td>\n",
              "      <td>2016-09-05 14:53:00</td>\n",
              "      <td>52119</td>\n",
              "      <td>11.343</td>\n",
              "      <td>True</td>\n",
              "      <td>Client Services</td>\n",
              "    </tr>\n",
              "  </tbody>\n",
              "</table>\n",
              "</div>"
            ],
            "text/plain": [
              "    First Name Gender Start Date     Last Login Time  Salary  Bonus %  \\\n",
              "101      Aaron   Male 2012-02-17 2016-09-05 10:20:00   61602   11.849   \n",
              "440      Aaron   Male 1990-07-22 2016-09-05 14:53:00   52119   11.343   \n",
              "\n",
              "    Senior Management             Team  \n",
              "101              True        Marketing  \n",
              "440              True  Client Services  "
            ]
          },
          "metadata": {}
        }
      ]
    },
    {
      "cell_type": "code",
      "source": "len(df)",
      "metadata": {
        "collapsed": false,
        "jupyter": {
          "outputs_hidden": false
        }
      },
      "execution_count": 64,
      "outputs": [
        {
          "execution_count": 64,
          "output_type": "execute_result",
          "data": {
            "text/plain": [
              "769"
            ]
          },
          "metadata": {}
        }
      ]
    },
    {
      "cell_type": "markdown",
      "source": "## The `.unique()` and `.nunique()` Methods",
      "metadata": {}
    },
    {
      "cell_type": "code",
      "source": "df = pd.read_csv(\"employees.csv\", parse_dates = [\"Start Date\", \"Last Login Time\"])\ndf[\"Senior Management\"] = df[\"Senior Management\"].astype(\"bool\")\ndf[\"Gender\"] = df[\"Gender\"].astype(\"category\")\ndf.head(3)",
      "metadata": {
        "collapsed": false,
        "jupyter": {
          "outputs_hidden": false
        }
      },
      "execution_count": 2,
      "outputs": [
        {
          "execution_count": 2,
          "output_type": "execute_result",
          "data": {
            "text/html": [
              "<div>\n",
              "<table border=\"1\" class=\"dataframe\">\n",
              "  <thead>\n",
              "    <tr style=\"text-align: right;\">\n",
              "      <th></th>\n",
              "      <th>First Name</th>\n",
              "      <th>Gender</th>\n",
              "      <th>Start Date</th>\n",
              "      <th>Last Login Time</th>\n",
              "      <th>Salary</th>\n",
              "      <th>Bonus %</th>\n",
              "      <th>Senior Management</th>\n",
              "      <th>Team</th>\n",
              "    </tr>\n",
              "  </thead>\n",
              "  <tbody>\n",
              "    <tr>\n",
              "      <th>0</th>\n",
              "      <td>Douglas</td>\n",
              "      <td>Male</td>\n",
              "      <td>1993-08-06</td>\n",
              "      <td>2016-10-18 12:42:00</td>\n",
              "      <td>97308</td>\n",
              "      <td>6.945</td>\n",
              "      <td>True</td>\n",
              "      <td>Marketing</td>\n",
              "    </tr>\n",
              "    <tr>\n",
              "      <th>1</th>\n",
              "      <td>Thomas</td>\n",
              "      <td>Male</td>\n",
              "      <td>1996-03-31</td>\n",
              "      <td>2016-10-18 06:53:00</td>\n",
              "      <td>61933</td>\n",
              "      <td>4.170</td>\n",
              "      <td>True</td>\n",
              "      <td>NaN</td>\n",
              "    </tr>\n",
              "    <tr>\n",
              "      <th>2</th>\n",
              "      <td>Maria</td>\n",
              "      <td>Female</td>\n",
              "      <td>1993-04-23</td>\n",
              "      <td>2016-10-18 11:17:00</td>\n",
              "      <td>130590</td>\n",
              "      <td>11.858</td>\n",
              "      <td>False</td>\n",
              "      <td>Finance</td>\n",
              "    </tr>\n",
              "  </tbody>\n",
              "</table>\n",
              "</div>"
            ],
            "text/plain": [
              "  First Name  Gender Start Date     Last Login Time  Salary  Bonus %  \\\n",
              "0    Douglas    Male 1993-08-06 2016-10-18 12:42:00   97308    6.945   \n",
              "1     Thomas    Male 1996-03-31 2016-10-18 06:53:00   61933    4.170   \n",
              "2      Maria  Female 1993-04-23 2016-10-18 11:17:00  130590   11.858   \n",
              "\n",
              "  Senior Management       Team  \n",
              "0              True  Marketing  \n",
              "1              True        NaN  \n",
              "2             False    Finance  "
            ]
          },
          "metadata": {}
        }
      ]
    },
    {
      "cell_type": "code",
      "source": "df[\"Gender\"].unique()\n\ndf[\"Team\"].unique()",
      "metadata": {
        "collapsed": false,
        "jupyter": {
          "outputs_hidden": false
        },
        "trusted": true
      },
      "execution_count": 122,
      "outputs": [
        {
          "execution_count": 122,
          "output_type": "execute_result",
          "data": {
            "text/plain": "array(['Marketing', nan, 'Finance', 'Client Services', 'Legal', 'Product',\n       'Engineering', 'Business Development', 'Human Resources', 'Sales',\n       'Distribution'], dtype=object)"
          },
          "metadata": {}
        }
      ]
    },
    {
      "cell_type": "code",
      "source": "len(df[\"Team\"].unique())",
      "metadata": {
        "collapsed": false,
        "jupyter": {
          "outputs_hidden": false
        }
      },
      "execution_count": 7,
      "outputs": [
        {
          "execution_count": 7,
          "output_type": "execute_result",
          "data": {
            "text/plain": [
              "11"
            ]
          },
          "metadata": {}
        }
      ]
    },
    {
      "cell_type": "code",
      "source": "df[\"Team\"].nunique(dropna = False)",
      "metadata": {
        "collapsed": false,
        "jupyter": {
          "outputs_hidden": false
        }
      },
      "execution_count": 11,
      "outputs": [
        {
          "execution_count": 11,
          "output_type": "execute_result",
          "data": {
            "text/plain": [
              "11"
            ]
          },
          "metadata": {}
        }
      ]
    },
    {
      "cell_type": "code",
      "source": "df[\"Gender\"].unique()",
      "metadata": {
        "tags": [],
        "trusted": true
      },
      "execution_count": 123,
      "outputs": [
        {
          "execution_count": 123,
          "output_type": "execute_result",
          "data": {
            "text/plain": "['Male', 'Female', NaN]\nCategories (2, object): ['Female', 'Male']"
          },
          "metadata": {}
        }
      ]
    },
    {
      "cell_type": "code",
      "source": "",
      "metadata": {
        "collapsed": true,
        "jupyter": {
          "outputs_hidden": true
        }
      },
      "execution_count": null,
      "outputs": []
    },
    {
      "cell_type": "code",
      "source": "df[\"Team\"].unique()",
      "metadata": {
        "tags": [],
        "trusted": true
      },
      "execution_count": 124,
      "outputs": [
        {
          "execution_count": 124,
          "output_type": "execute_result",
          "data": {
            "text/plain": "array(['Marketing', nan, 'Finance', 'Client Services', 'Legal', 'Product',\n       'Engineering', 'Business Development', 'Human Resources', 'Sales',\n       'Distribution'], dtype=object)"
          },
          "metadata": {}
        }
      ]
    },
    {
      "cell_type": "code",
      "source": "",
      "metadata": {
        "collapsed": true,
        "jupyter": {
          "outputs_hidden": true
        }
      },
      "execution_count": null,
      "outputs": []
    },
    {
      "cell_type": "code",
      "source": "",
      "metadata": {
        "collapsed": true,
        "jupyter": {
          "outputs_hidden": true
        }
      },
      "execution_count": null,
      "outputs": []
    },
    {
      "cell_type": "code",
      "source": "",
      "metadata": {
        "collapsed": true,
        "jupyter": {
          "outputs_hidden": true
        }
      },
      "execution_count": null,
      "outputs": []
    },
    {
      "cell_type": "code",
      "source": "",
      "metadata": {
        "collapsed": true,
        "jupyter": {
          "outputs_hidden": true
        }
      },
      "execution_count": null,
      "outputs": []
    },
    {
      "cell_type": "code",
      "source": "",
      "metadata": {
        "collapsed": true,
        "jupyter": {
          "outputs_hidden": true
        }
      },
      "execution_count": null,
      "outputs": []
    },
    {
      "cell_type": "code",
      "source": "",
      "metadata": {
        "collapsed": true,
        "jupyter": {
          "outputs_hidden": true
        }
      },
      "execution_count": null,
      "outputs": []
    },
    {
      "cell_type": "code",
      "source": "",
      "metadata": {
        "collapsed": true,
        "jupyter": {
          "outputs_hidden": true
        }
      },
      "execution_count": null,
      "outputs": []
    },
    {
      "cell_type": "code",
      "source": "",
      "metadata": {
        "collapsed": true,
        "jupyter": {
          "outputs_hidden": true
        }
      },
      "execution_count": null,
      "outputs": []
    },
    {
      "cell_type": "code",
      "source": "",
      "metadata": {
        "collapsed": true,
        "jupyter": {
          "outputs_hidden": true
        }
      },
      "execution_count": null,
      "outputs": []
    },
    {
      "cell_type": "code",
      "source": "",
      "metadata": {
        "collapsed": true,
        "jupyter": {
          "outputs_hidden": true
        }
      },
      "execution_count": null,
      "outputs": []
    },
    {
      "cell_type": "code",
      "source": "",
      "metadata": {
        "collapsed": true,
        "jupyter": {
          "outputs_hidden": true
        }
      },
      "execution_count": null,
      "outputs": []
    }
  ]
}