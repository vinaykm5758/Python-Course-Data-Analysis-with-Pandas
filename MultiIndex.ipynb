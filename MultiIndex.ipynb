{
  "metadata": {
    "anaconda-cloud": {},
    "kernelspec": {
      "name": "python",
      "display_name": "Python (Pyodide)",
      "language": "python"
    },
    "language_info": {
      "codemirror_mode": {
        "name": "python",
        "version": 3
      },
      "file_extension": ".py",
      "mimetype": "text/x-python",
      "name": "python",
      "nbconvert_exporter": "python",
      "pygments_lexer": "ipython3",
      "version": "3.8"
    }
  },
  "nbformat_minor": 4,
  "nbformat": 4,
  "cells": [
    {
      "cell_type": "code",
      "source": "import pandas as pd",
      "metadata": {
        "tags": [],
        "trusted": true
      },
      "execution_count": 2,
      "outputs": []
    },
    {
      "cell_type": "code",
      "source": "bigmac = pd.read_csv(\"bigmac.csv\", parse_dates = [\"Date\"])\nbigmac.head()",
      "metadata": {
        "collapsed": false,
        "jupyter": {
          "outputs_hidden": false
        },
        "trusted": true
      },
      "execution_count": 4,
      "outputs": [
        {
          "execution_count": 4,
          "output_type": "execute_result",
          "data": {
            "text/plain": "        Date    Country  Price in US Dollars\n0 2016-01-01  Argentina                 2.39\n1 2016-01-01  Australia                 3.74\n2 2016-01-01     Brazil                 3.35\n3 2016-01-01    Britain                 4.22\n4 2016-01-01     Canada                 4.14",
            "text/html": "<div>\n<style scoped>\n    .dataframe tbody tr th:only-of-type {\n        vertical-align: middle;\n    }\n\n    .dataframe tbody tr th {\n        vertical-align: top;\n    }\n\n    .dataframe thead th {\n        text-align: right;\n    }\n</style>\n<table border=\"1\" class=\"dataframe\">\n  <thead>\n    <tr style=\"text-align: right;\">\n      <th></th>\n      <th>Date</th>\n      <th>Country</th>\n      <th>Price in US Dollars</th>\n    </tr>\n  </thead>\n  <tbody>\n    <tr>\n      <th>0</th>\n      <td>2016-01-01</td>\n      <td>Argentina</td>\n      <td>2.39</td>\n    </tr>\n    <tr>\n      <th>1</th>\n      <td>2016-01-01</td>\n      <td>Australia</td>\n      <td>3.74</td>\n    </tr>\n    <tr>\n      <th>2</th>\n      <td>2016-01-01</td>\n      <td>Brazil</td>\n      <td>3.35</td>\n    </tr>\n    <tr>\n      <th>3</th>\n      <td>2016-01-01</td>\n      <td>Britain</td>\n      <td>4.22</td>\n    </tr>\n    <tr>\n      <th>4</th>\n      <td>2016-01-01</td>\n      <td>Canada</td>\n      <td>4.14</td>\n    </tr>\n  </tbody>\n</table>\n</div>"
          },
          "metadata": {}
        }
      ]
    },
    {
      "cell_type": "code",
      "source": "",
      "metadata": {},
      "execution_count": null,
      "outputs": []
    },
    {
      "cell_type": "code",
      "source": "",
      "metadata": {},
      "execution_count": null,
      "outputs": []
    },
    {
      "cell_type": "markdown",
      "source": "## Create A MultiIndex with the `.set_index()` Method",
      "metadata": {}
    },
    {
      "cell_type": "code",
      "source": "bigmac = pd.read_csv(\"bigmac.csv\", parse_dates = [\"Date\"])\nbigmac.head(3)",
      "metadata": {
        "collapsed": false,
        "jupyter": {
          "outputs_hidden": false
        },
        "trusted": true
      },
      "execution_count": 5,
      "outputs": [
        {
          "execution_count": 5,
          "output_type": "execute_result",
          "data": {
            "text/plain": "        Date    Country  Price in US Dollars\n0 2016-01-01  Argentina                 2.39\n1 2016-01-01  Australia                 3.74\n2 2016-01-01     Brazil                 3.35",
            "text/html": "<div>\n<style scoped>\n    .dataframe tbody tr th:only-of-type {\n        vertical-align: middle;\n    }\n\n    .dataframe tbody tr th {\n        vertical-align: top;\n    }\n\n    .dataframe thead th {\n        text-align: right;\n    }\n</style>\n<table border=\"1\" class=\"dataframe\">\n  <thead>\n    <tr style=\"text-align: right;\">\n      <th></th>\n      <th>Date</th>\n      <th>Country</th>\n      <th>Price in US Dollars</th>\n    </tr>\n  </thead>\n  <tbody>\n    <tr>\n      <th>0</th>\n      <td>2016-01-01</td>\n      <td>Argentina</td>\n      <td>2.39</td>\n    </tr>\n    <tr>\n      <th>1</th>\n      <td>2016-01-01</td>\n      <td>Australia</td>\n      <td>3.74</td>\n    </tr>\n    <tr>\n      <th>2</th>\n      <td>2016-01-01</td>\n      <td>Brazil</td>\n      <td>3.35</td>\n    </tr>\n  </tbody>\n</table>\n</div>"
          },
          "metadata": {}
        }
      ]
    },
    {
      "cell_type": "code",
      "source": "",
      "metadata": {},
      "execution_count": null,
      "outputs": []
    },
    {
      "cell_type": "code",
      "source": "",
      "metadata": {},
      "execution_count": null,
      "outputs": []
    },
    {
      "cell_type": "code",
      "source": "",
      "metadata": {},
      "execution_count": null,
      "outputs": []
    },
    {
      "cell_type": "code",
      "source": "bigmac.set_index(keys = [\"Date\", \"Country\"], inplace = True)\nbigmac.head(3)",
      "metadata": {
        "collapsed": false,
        "jupyter": {
          "outputs_hidden": false
        },
        "trusted": true
      },
      "execution_count": 6,
      "outputs": [
        {
          "execution_count": 6,
          "output_type": "execute_result",
          "data": {
            "text/plain": "                      Price in US Dollars\nDate       Country                       \n2016-01-01 Argentina                 2.39\n           Australia                 3.74\n           Brazil                    3.35",
            "text/html": "<div>\n<style scoped>\n    .dataframe tbody tr th:only-of-type {\n        vertical-align: middle;\n    }\n\n    .dataframe tbody tr th {\n        vertical-align: top;\n    }\n\n    .dataframe thead th {\n        text-align: right;\n    }\n</style>\n<table border=\"1\" class=\"dataframe\">\n  <thead>\n    <tr style=\"text-align: right;\">\n      <th></th>\n      <th></th>\n      <th>Price in US Dollars</th>\n    </tr>\n    <tr>\n      <th>Date</th>\n      <th>Country</th>\n      <th></th>\n    </tr>\n  </thead>\n  <tbody>\n    <tr>\n      <th rowspan=\"3\" valign=\"top\">2016-01-01</th>\n      <th>Argentina</th>\n      <td>2.39</td>\n    </tr>\n    <tr>\n      <th>Australia</th>\n      <td>3.74</td>\n    </tr>\n    <tr>\n      <th>Brazil</th>\n      <td>3.35</td>\n    </tr>\n  </tbody>\n</table>\n</div>"
          },
          "metadata": {}
        }
      ]
    },
    {
      "cell_type": "code",
      "source": "bigmac.sort_index(inplace = True)",
      "metadata": {
        "collapsed": false,
        "jupyter": {
          "outputs_hidden": false
        },
        "trusted": true
      },
      "execution_count": 7,
      "outputs": []
    },
    {
      "cell_type": "code",
      "source": "bigmac.head(3)",
      "metadata": {
        "collapsed": false,
        "jupyter": {
          "outputs_hidden": false
        },
        "trusted": true
      },
      "execution_count": 14,
      "outputs": [
        {
          "execution_count": 14,
          "output_type": "execute_result",
          "data": {
            "text/plain": "                      Price in US Dollars\nDate       Country                       \n2010-01-01 Argentina                 1.84\n           Australia                 3.98\n           Brazil                    4.76",
            "text/html": "<div>\n<style scoped>\n    .dataframe tbody tr th:only-of-type {\n        vertical-align: middle;\n    }\n\n    .dataframe tbody tr th {\n        vertical-align: top;\n    }\n\n    .dataframe thead th {\n        text-align: right;\n    }\n</style>\n<table border=\"1\" class=\"dataframe\">\n  <thead>\n    <tr style=\"text-align: right;\">\n      <th></th>\n      <th></th>\n      <th>Price in US Dollars</th>\n    </tr>\n    <tr>\n      <th>Date</th>\n      <th>Country</th>\n      <th></th>\n    </tr>\n  </thead>\n  <tbody>\n    <tr>\n      <th rowspan=\"3\" valign=\"top\">2010-01-01</th>\n      <th>Argentina</th>\n      <td>1.84</td>\n    </tr>\n    <tr>\n      <th>Australia</th>\n      <td>3.98</td>\n    </tr>\n    <tr>\n      <th>Brazil</th>\n      <td>4.76</td>\n    </tr>\n  </tbody>\n</table>\n</div>"
          },
          "metadata": {}
        }
      ]
    },
    {
      "cell_type": "code",
      "source": "bigmac.index.names",
      "metadata": {
        "collapsed": false,
        "jupyter": {
          "outputs_hidden": false
        },
        "trusted": true
      },
      "execution_count": 9,
      "outputs": [
        {
          "execution_count": 9,
          "output_type": "execute_result",
          "data": {
            "text/plain": "FrozenList(['Date', 'Country'])"
          },
          "metadata": {}
        }
      ]
    },
    {
      "cell_type": "code",
      "source": "type(bigmac.index)",
      "metadata": {
        "collapsed": false,
        "jupyter": {
          "outputs_hidden": false
        },
        "trusted": true
      },
      "execution_count": 10,
      "outputs": [
        {
          "execution_count": 10,
          "output_type": "execute_result",
          "data": {
            "text/plain": "pandas.core.indexes.multi.MultiIndex"
          },
          "metadata": {}
        }
      ]
    },
    {
      "cell_type": "code",
      "source": "bigmac.index[0]",
      "metadata": {
        "collapsed": false,
        "jupyter": {
          "outputs_hidden": false
        },
        "trusted": true
      },
      "execution_count": 11,
      "outputs": [
        {
          "execution_count": 11,
          "output_type": "execute_result",
          "data": {
            "text/plain": "(Timestamp('2010-01-01 00:00:00'), 'Argentina')"
          },
          "metadata": {}
        }
      ]
    },
    {
      "cell_type": "markdown",
      "source": "## The `.get_level_values()` Method",
      "metadata": {}
    },
    {
      "cell_type": "code",
      "source": "bigmac = pd.read_csv(\"bigmac.csv\", parse_dates = [\"Date\"], index_col = [\"Date\", \"Country\"])\nbigmac.sort_index(inplace = True)\nbigmac.head()",
      "metadata": {
        "collapsed": false,
        "jupyter": {
          "outputs_hidden": false
        },
        "trusted": true
      },
      "execution_count": 12,
      "outputs": [
        {
          "execution_count": 12,
          "output_type": "execute_result",
          "data": {
            "text/plain": "                      Price in US Dollars\nDate       Country                       \n2010-01-01 Argentina                 1.84\n           Australia                 3.98\n           Brazil                    4.76\n           Britain                   3.67\n           Canada                    3.97",
            "text/html": "<div>\n<style scoped>\n    .dataframe tbody tr th:only-of-type {\n        vertical-align: middle;\n    }\n\n    .dataframe tbody tr th {\n        vertical-align: top;\n    }\n\n    .dataframe thead th {\n        text-align: right;\n    }\n</style>\n<table border=\"1\" class=\"dataframe\">\n  <thead>\n    <tr style=\"text-align: right;\">\n      <th></th>\n      <th></th>\n      <th>Price in US Dollars</th>\n    </tr>\n    <tr>\n      <th>Date</th>\n      <th>Country</th>\n      <th></th>\n    </tr>\n  </thead>\n  <tbody>\n    <tr>\n      <th rowspan=\"5\" valign=\"top\">2010-01-01</th>\n      <th>Argentina</th>\n      <td>1.84</td>\n    </tr>\n    <tr>\n      <th>Australia</th>\n      <td>3.98</td>\n    </tr>\n    <tr>\n      <th>Brazil</th>\n      <td>4.76</td>\n    </tr>\n    <tr>\n      <th>Britain</th>\n      <td>3.67</td>\n    </tr>\n    <tr>\n      <th>Canada</th>\n      <td>3.97</td>\n    </tr>\n  </tbody>\n</table>\n</div>"
          },
          "metadata": {}
        }
      ]
    },
    {
      "cell_type": "code",
      "source": "bigmac.index.get_level_values(0)\nbigmac.index.get_level_values(\"Date\")",
      "metadata": {
        "collapsed": false,
        "jupyter": {
          "outputs_hidden": false
        },
        "trusted": true
      },
      "execution_count": 13,
      "outputs": [
        {
          "execution_count": 13,
          "output_type": "execute_result",
          "data": {
            "text/plain": "DatetimeIndex(['2010-01-01', '2010-01-01', '2010-01-01', '2010-01-01',\n               '2010-01-01', '2010-01-01', '2010-01-01', '2010-01-01',\n               '2010-01-01', '2010-01-01',\n               ...\n               '2016-01-01', '2016-01-01', '2016-01-01', '2016-01-01',\n               '2016-01-01', '2016-01-01', '2016-01-01', '2016-01-01',\n               '2016-01-01', '2016-01-01'],\n              dtype='datetime64[ns]', name='Date', length=652, freq=None)"
          },
          "metadata": {}
        }
      ]
    },
    {
      "cell_type": "code",
      "source": "#bigmac.index.get_level_values(1)\nbigmac.index.get_level_values(\"Country\")",
      "metadata": {
        "collapsed": false,
        "jupyter": {
          "outputs_hidden": false
        }
      },
      "execution_count": 28,
      "outputs": [
        {
          "execution_count": 28,
          "output_type": "execute_result",
          "data": {
            "text/plain": [
              "Index([u'Argentina', u'Australia', u'Brazil', u'Britain', u'Canada', u'Chile',\n",
              "       u'China', u'Colombia', u'Costa Rica', u'Czech Republic',\n",
              "       ...\n",
              "       u'Switzerland', u'Taiwan', u'Thailand', u'Turkey', u'UAE', u'Ukraine',\n",
              "       u'United States', u'Uruguay', u'Venezuela', u'Vietnam'],\n",
              "      dtype='object', name=u'Country', length=652)"
            ]
          },
          "metadata": {}
        }
      ]
    },
    {
      "cell_type": "code",
      "source": "",
      "metadata": {
        "collapsed": true,
        "jupyter": {
          "outputs_hidden": true
        }
      },
      "execution_count": null,
      "outputs": []
    },
    {
      "cell_type": "code",
      "source": "",
      "metadata": {
        "collapsed": true,
        "jupyter": {
          "outputs_hidden": true
        }
      },
      "execution_count": null,
      "outputs": []
    },
    {
      "cell_type": "code",
      "source": "",
      "metadata": {
        "collapsed": true,
        "jupyter": {
          "outputs_hidden": true
        }
      },
      "execution_count": null,
      "outputs": []
    },
    {
      "cell_type": "code",
      "source": "",
      "metadata": {
        "collapsed": true,
        "jupyter": {
          "outputs_hidden": true
        }
      },
      "execution_count": null,
      "outputs": []
    },
    {
      "cell_type": "code",
      "source": "",
      "metadata": {
        "collapsed": true,
        "jupyter": {
          "outputs_hidden": true
        }
      },
      "execution_count": null,
      "outputs": []
    },
    {
      "cell_type": "code",
      "source": "",
      "metadata": {
        "collapsed": true,
        "jupyter": {
          "outputs_hidden": true
        }
      },
      "execution_count": null,
      "outputs": []
    },
    {
      "cell_type": "code",
      "source": "",
      "metadata": {
        "collapsed": true,
        "jupyter": {
          "outputs_hidden": true
        }
      },
      "execution_count": null,
      "outputs": []
    },
    {
      "cell_type": "code",
      "source": "",
      "metadata": {
        "collapsed": true,
        "jupyter": {
          "outputs_hidden": true
        }
      },
      "execution_count": null,
      "outputs": []
    },
    {
      "cell_type": "code",
      "source": "",
      "metadata": {
        "collapsed": true,
        "jupyter": {
          "outputs_hidden": true
        }
      },
      "execution_count": null,
      "outputs": []
    },
    {
      "cell_type": "code",
      "source": "",
      "metadata": {
        "collapsed": true,
        "jupyter": {
          "outputs_hidden": true
        }
      },
      "execution_count": null,
      "outputs": []
    },
    {
      "cell_type": "code",
      "source": "",
      "metadata": {
        "collapsed": true,
        "jupyter": {
          "outputs_hidden": true
        }
      },
      "execution_count": null,
      "outputs": []
    },
    {
      "cell_type": "code",
      "source": "",
      "metadata": {
        "collapsed": true,
        "jupyter": {
          "outputs_hidden": true
        }
      },
      "execution_count": null,
      "outputs": []
    },
    {
      "cell_type": "markdown",
      "source": "## The `.set_names()` Method on MultiIndex",
      "metadata": {}
    },
    {
      "cell_type": "code",
      "source": "bigmac = pd.read_csv(\"bigmac.csv\", parse_dates = [\"Date\"], index_col = [\"Date\", \"Country\"])\nbigmac.sort_index(inplace = True)\nbigmac.head(3)",
      "metadata": {
        "collapsed": false,
        "jupyter": {
          "outputs_hidden": false
        }
      },
      "execution_count": 15,
      "outputs": [
        {
          "execution_count": 15,
          "output_type": "execute_result",
          "data": {
            "text/html": [
              "<div>\n",
              "<table border=\"1\" class=\"dataframe\">\n",
              "  <thead>\n",
              "    <tr style=\"text-align: right;\">\n",
              "      <th></th>\n",
              "      <th></th>\n",
              "      <th>Price in US Dollars</th>\n",
              "    </tr>\n",
              "    <tr>\n",
              "      <th>Date</th>\n",
              "      <th>Country</th>\n",
              "      <th></th>\n",
              "    </tr>\n",
              "  </thead>\n",
              "  <tbody>\n",
              "    <tr>\n",
              "      <th rowspan=\"3\" valign=\"top\">2010-01-01</th>\n",
              "      <th>Argentina</th>\n",
              "      <td>1.84</td>\n",
              "    </tr>\n",
              "    <tr>\n",
              "      <th>Australia</th>\n",
              "      <td>3.98</td>\n",
              "    </tr>\n",
              "    <tr>\n",
              "      <th>Brazil</th>\n",
              "      <td>4.76</td>\n",
              "    </tr>\n",
              "  </tbody>\n",
              "</table>\n",
              "</div>"
            ],
            "text/plain": [
              "                      Price in US Dollars\n",
              "Date       Country                       \n",
              "2010-01-01 Argentina                 1.84\n",
              "           Australia                 3.98\n",
              "           Brazil                    4.76"
            ]
          },
          "metadata": {}
        }
      ]
    },
    {
      "cell_type": "code",
      "source": "bigmac.index.set_names([\"Date\", \"Location\"], inplace = True)",
      "metadata": {
        "collapsed": false,
        "jupyter": {
          "outputs_hidden": false
        }
      },
      "execution_count": 20,
      "outputs": []
    },
    {
      "cell_type": "code",
      "source": "bigmac.head(3)",
      "metadata": {
        "collapsed": false,
        "jupyter": {
          "outputs_hidden": false
        }
      },
      "execution_count": 21,
      "outputs": [
        {
          "execution_count": 21,
          "output_type": "execute_result",
          "data": {
            "text/html": [
              "<div>\n",
              "<table border=\"1\" class=\"dataframe\">\n",
              "  <thead>\n",
              "    <tr style=\"text-align: right;\">\n",
              "      <th></th>\n",
              "      <th></th>\n",
              "      <th>Price in US Dollars</th>\n",
              "    </tr>\n",
              "    <tr>\n",
              "      <th>Date</th>\n",
              "      <th>Location</th>\n",
              "      <th></th>\n",
              "    </tr>\n",
              "  </thead>\n",
              "  <tbody>\n",
              "    <tr>\n",
              "      <th rowspan=\"3\" valign=\"top\">2010-01-01</th>\n",
              "      <th>Argentina</th>\n",
              "      <td>1.84</td>\n",
              "    </tr>\n",
              "    <tr>\n",
              "      <th>Australia</th>\n",
              "      <td>3.98</td>\n",
              "    </tr>\n",
              "    <tr>\n",
              "      <th>Brazil</th>\n",
              "      <td>4.76</td>\n",
              "    </tr>\n",
              "  </tbody>\n",
              "</table>\n",
              "</div>"
            ],
            "text/plain": [
              "                      Price in US Dollars\n",
              "Date       Location                      \n",
              "2010-01-01 Argentina                 1.84\n",
              "           Australia                 3.98\n",
              "           Brazil                    4.76"
            ]
          },
          "metadata": {}
        }
      ]
    },
    {
      "cell_type": "markdown",
      "source": "## Extract Rows from a `MultiIndex DataFrame`",
      "metadata": {}
    },
    {
      "cell_type": "code",
      "source": "bigmac = pd.read_csv(\"bigmac.csv\", parse_dates = [\"Date\"], index_col = [\"Date\", \"Country\"])\nbigmac.sort_index(inplace = True)\nbigmac.head(3)",
      "metadata": {
        "collapsed": false,
        "jupyter": {
          "outputs_hidden": false
        },
        "trusted": true
      },
      "execution_count": 39,
      "outputs": [
        {
          "execution_count": 39,
          "output_type": "execute_result",
          "data": {
            "text/plain": "                      Price in US Dollars\nDate       Country                       \n2010-01-01 Argentina                 1.84\n           Australia                 3.98\n           Brazil                    4.76",
            "text/html": "<div>\n<style scoped>\n    .dataframe tbody tr th:only-of-type {\n        vertical-align: middle;\n    }\n\n    .dataframe tbody tr th {\n        vertical-align: top;\n    }\n\n    .dataframe thead th {\n        text-align: right;\n    }\n</style>\n<table border=\"1\" class=\"dataframe\">\n  <thead>\n    <tr style=\"text-align: right;\">\n      <th></th>\n      <th></th>\n      <th>Price in US Dollars</th>\n    </tr>\n    <tr>\n      <th>Date</th>\n      <th>Country</th>\n      <th></th>\n    </tr>\n  </thead>\n  <tbody>\n    <tr>\n      <th rowspan=\"3\" valign=\"top\">2010-01-01</th>\n      <th>Argentina</th>\n      <td>1.84</td>\n    </tr>\n    <tr>\n      <th>Australia</th>\n      <td>3.98</td>\n    </tr>\n    <tr>\n      <th>Brazil</th>\n      <td>4.76</td>\n    </tr>\n  </tbody>\n</table>\n</div>"
          },
          "metadata": {}
        }
      ]
    },
    {
      "cell_type": "code",
      "source": "bigmac.loc[(\"2010-01-01\", [\"Brazil\",\"Argentina\"]),[\"Price in US Dollars\", \"Price in US Dollars\"]]",
      "metadata": {
        "collapsed": false,
        "jupyter": {
          "outputs_hidden": false
        },
        "trusted": true
      },
      "execution_count": 43,
      "outputs": [
        {
          "execution_count": 43,
          "output_type": "execute_result",
          "data": {
            "text/plain": "                      Price in US Dollars  Price in US Dollars\nDate       Country                                            \n2010-01-01 Brazil                    4.76                 4.76\n           Argentina                 1.84                 1.84",
            "text/html": "<div>\n<style scoped>\n    .dataframe tbody tr th:only-of-type {\n        vertical-align: middle;\n    }\n\n    .dataframe tbody tr th {\n        vertical-align: top;\n    }\n\n    .dataframe thead th {\n        text-align: right;\n    }\n</style>\n<table border=\"1\" class=\"dataframe\">\n  <thead>\n    <tr style=\"text-align: right;\">\n      <th></th>\n      <th></th>\n      <th>Price in US Dollars</th>\n      <th>Price in US Dollars</th>\n    </tr>\n    <tr>\n      <th>Date</th>\n      <th>Country</th>\n      <th></th>\n      <th></th>\n    </tr>\n  </thead>\n  <tbody>\n    <tr>\n      <th rowspan=\"2\" valign=\"top\">2010-01-01</th>\n      <th>Brazil</th>\n      <td>4.76</td>\n      <td>4.76</td>\n    </tr>\n    <tr>\n      <th>Argentina</th>\n      <td>1.84</td>\n      <td>1.84</td>\n    </tr>\n  </tbody>\n</table>\n</div>"
          },
          "metadata": {}
        }
      ]
    },
    {
      "cell_type": "code",
      "source": "bigmac.loc[(\"2015-07-01\", \"Chile\"), \"Price in US Dollars\"]",
      "metadata": {
        "collapsed": false,
        "jupyter": {
          "outputs_hidden": false
        },
        "trusted": true
      },
      "execution_count": 44,
      "outputs": [
        {
          "execution_count": 44,
          "output_type": "execute_result",
          "data": {
            "text/plain": "3.27"
          },
          "metadata": {}
        }
      ]
    },
    {
      "cell_type": "code",
      "source": "bigmac.ix[(\"2016-01-01\", \"China\"), 0]",
      "metadata": {
        "tags": [],
        "collapsed": true,
        "jupyter": {
          "outputs_hidden": true
        },
        "trusted": true
      },
      "execution_count": 20,
      "outputs": [
        {
          "ename": "<class 'AttributeError'>",
          "evalue": "'DataFrame' object has no attribute 'ix'",
          "traceback": [
            "\u001b[0;31m---------------------------------------------------------------------------\u001b[0m",
            "\u001b[0;31mAttributeError\u001b[0m                            Traceback (most recent call last)",
            "\u001b[0;32m<ipython-input-20-caecb53e3072>\u001b[0m in \u001b[0;36m?\u001b[0;34m()\u001b[0m\n\u001b[0;32m----> 1\u001b[0;31m \u001b[0mbigmac\u001b[0m\u001b[0;34m.\u001b[0m\u001b[0mix\u001b[0m\u001b[0;34m[\u001b[0m\u001b[0;34m(\u001b[0m\u001b[0;34m\"2016-01-01\"\u001b[0m\u001b[0;34m,\u001b[0m \u001b[0;34m\"China\"\u001b[0m\u001b[0;34m)\u001b[0m\u001b[0;34m,\u001b[0m \u001b[0;36m0\u001b[0m\u001b[0;34m]\u001b[0m\u001b[0;34m\u001b[0m\u001b[0;34m\u001b[0m\u001b[0m\n\u001b[0m",
            "\u001b[0;32m/lib/python3.11/site-packages/pandas/core/generic.py\u001b[0m in \u001b[0;36m?\u001b[0;34m(self, name)\u001b[0m\n\u001b[1;32m   5898\u001b[0m             \u001b[0;32mand\u001b[0m \u001b[0mname\u001b[0m \u001b[0;32mnot\u001b[0m \u001b[0;32min\u001b[0m \u001b[0mself\u001b[0m\u001b[0;34m.\u001b[0m\u001b[0m_accessors\u001b[0m\u001b[0;34m\u001b[0m\u001b[0;34m\u001b[0m\u001b[0m\n\u001b[1;32m   5899\u001b[0m             \u001b[0;32mand\u001b[0m \u001b[0mself\u001b[0m\u001b[0;34m.\u001b[0m\u001b[0m_info_axis\u001b[0m\u001b[0;34m.\u001b[0m\u001b[0m_can_hold_identifiers_and_holds_name\u001b[0m\u001b[0;34m(\u001b[0m\u001b[0mname\u001b[0m\u001b[0;34m)\u001b[0m\u001b[0;34m\u001b[0m\u001b[0;34m\u001b[0m\u001b[0m\n\u001b[1;32m   5900\u001b[0m         ):\n\u001b[1;32m   5901\u001b[0m             \u001b[0;32mreturn\u001b[0m \u001b[0mself\u001b[0m\u001b[0;34m[\u001b[0m\u001b[0mname\u001b[0m\u001b[0;34m]\u001b[0m\u001b[0;34m\u001b[0m\u001b[0;34m\u001b[0m\u001b[0m\n\u001b[0;32m-> 5902\u001b[0;31m         \u001b[0;32mreturn\u001b[0m \u001b[0mobject\u001b[0m\u001b[0;34m.\u001b[0m\u001b[0m__getattribute__\u001b[0m\u001b[0;34m(\u001b[0m\u001b[0mself\u001b[0m\u001b[0;34m,\u001b[0m \u001b[0mname\u001b[0m\u001b[0;34m)\u001b[0m\u001b[0;34m\u001b[0m\u001b[0;34m\u001b[0m\u001b[0m\n\u001b[0m",
            "\u001b[0;31mAttributeError\u001b[0m: 'DataFrame' object has no attribute 'ix'"
          ],
          "output_type": "error"
        }
      ]
    },
    {
      "cell_type": "markdown",
      "source": "## The `.transpose()` Method",
      "metadata": {}
    },
    {
      "cell_type": "code",
      "source": "bigmac = pd.read_csv(\"bigmac.csv\", parse_dates = [\"Date\"], index_col = [\"Date\", \"Country\"])\nbigmac.sort_index(inplace = True)\nbigmac.head()",
      "metadata": {
        "collapsed": false,
        "jupyter": {
          "outputs_hidden": false
        },
        "trusted": true
      },
      "execution_count": 22,
      "outputs": [
        {
          "execution_count": 22,
          "output_type": "execute_result",
          "data": {
            "text/plain": "                      Price in US Dollars\nDate       Country                       \n2010-01-01 Argentina                 1.84\n           Australia                 3.98\n           Brazil                    4.76\n           Britain                   3.67\n           Canada                    3.97",
            "text/html": "<div>\n<style scoped>\n    .dataframe tbody tr th:only-of-type {\n        vertical-align: middle;\n    }\n\n    .dataframe tbody tr th {\n        vertical-align: top;\n    }\n\n    .dataframe thead th {\n        text-align: right;\n    }\n</style>\n<table border=\"1\" class=\"dataframe\">\n  <thead>\n    <tr style=\"text-align: right;\">\n      <th></th>\n      <th></th>\n      <th>Price in US Dollars</th>\n    </tr>\n    <tr>\n      <th>Date</th>\n      <th>Country</th>\n      <th></th>\n    </tr>\n  </thead>\n  <tbody>\n    <tr>\n      <th rowspan=\"5\" valign=\"top\">2010-01-01</th>\n      <th>Argentina</th>\n      <td>1.84</td>\n    </tr>\n    <tr>\n      <th>Australia</th>\n      <td>3.98</td>\n    </tr>\n    <tr>\n      <th>Brazil</th>\n      <td>4.76</td>\n    </tr>\n    <tr>\n      <th>Britain</th>\n      <td>3.67</td>\n    </tr>\n    <tr>\n      <th>Canada</th>\n      <td>3.97</td>\n    </tr>\n  </tbody>\n</table>\n</div>"
          },
          "metadata": {}
        }
      ]
    },
    {
      "cell_type": "code",
      "source": "bigmac = bigmac.transpose()\nbigmac.head(1)",
      "metadata": {
        "collapsed": false,
        "jupyter": {
          "outputs_hidden": false
        },
        "trusted": true
      },
      "execution_count": 47,
      "outputs": [
        {
          "execution_count": 47,
          "output_type": "execute_result",
          "data": {
            "text/plain": "Date                2010-01-01                                              \\\nCountry              Argentina Australia Brazil Britain Canada Chile China   \nPrice in US Dollars       1.84      3.98   4.76    3.67   3.97  3.18  1.83   \n\nDate                                                    ...  2016-01-01  \\\nCountry             Colombia Costa Rica Czech Republic  ... Switzerland   \nPrice in US Dollars     3.91       3.52           3.71  ...        6.44   \n\nDate                                                                    \\\nCountry             Taiwan Thailand Turkey   UAE Ukraine United States   \nPrice in US Dollars   2.08     3.09   3.41  3.54    1.54          4.93   \n\nDate                                           \nCountry             Uruguay Venezuela Vietnam  \nPrice in US Dollars    3.74      0.66    2.67  \n\n[1 rows x 652 columns]",
            "text/html": "<div>\n<style scoped>\n    .dataframe tbody tr th:only-of-type {\n        vertical-align: middle;\n    }\n\n    .dataframe tbody tr th {\n        vertical-align: top;\n    }\n\n    .dataframe thead tr th {\n        text-align: left;\n    }\n</style>\n<table border=\"1\" class=\"dataframe\">\n  <thead>\n    <tr>\n      <th>Date</th>\n      <th colspan=\"10\" halign=\"left\">2010-01-01</th>\n      <th>...</th>\n      <th colspan=\"10\" halign=\"left\">2016-01-01</th>\n    </tr>\n    <tr>\n      <th>Country</th>\n      <th>Argentina</th>\n      <th>Australia</th>\n      <th>Brazil</th>\n      <th>Britain</th>\n      <th>Canada</th>\n      <th>Chile</th>\n      <th>China</th>\n      <th>Colombia</th>\n      <th>Costa Rica</th>\n      <th>Czech Republic</th>\n      <th>...</th>\n      <th>Switzerland</th>\n      <th>Taiwan</th>\n      <th>Thailand</th>\n      <th>Turkey</th>\n      <th>UAE</th>\n      <th>Ukraine</th>\n      <th>United States</th>\n      <th>Uruguay</th>\n      <th>Venezuela</th>\n      <th>Vietnam</th>\n    </tr>\n  </thead>\n  <tbody>\n    <tr>\n      <th>Price in US Dollars</th>\n      <td>1.84</td>\n      <td>3.98</td>\n      <td>4.76</td>\n      <td>3.67</td>\n      <td>3.97</td>\n      <td>3.18</td>\n      <td>1.83</td>\n      <td>3.91</td>\n      <td>3.52</td>\n      <td>3.71</td>\n      <td>...</td>\n      <td>6.44</td>\n      <td>2.08</td>\n      <td>3.09</td>\n      <td>3.41</td>\n      <td>3.54</td>\n      <td>1.54</td>\n      <td>4.93</td>\n      <td>3.74</td>\n      <td>0.66</td>\n      <td>2.67</td>\n    </tr>\n  </tbody>\n</table>\n<p>1 rows × 652 columns</p>\n</div>"
          },
          "metadata": {}
        }
      ]
    },
    {
      "cell_type": "code",
      "source": "bigmac.ix[\"Price in US Dollars\", (\"2016-01-01\", \"Denmark\")]",
      "metadata": {
        "collapsed": false,
        "jupyter": {
          "outputs_hidden": false
        }
      },
      "execution_count": 32,
      "outputs": [
        {
          "execution_count": 32,
          "output_type": "execute_result",
          "data": {
            "text/plain": [
              "4.3200000000000003"
            ]
          },
          "metadata": {}
        }
      ]
    },
    {
      "cell_type": "markdown",
      "source": "## The `.swaplevel()` Method",
      "metadata": {}
    },
    {
      "cell_type": "code",
      "source": "bigmac = pd.read_csv(\"bigmac.csv\", parse_dates = [\"Date\"], index_col = [\"Date\", \"Country\"])\nbigmac.sort_index(inplace = True)\nbigmac.head(3)",
      "metadata": {
        "collapsed": false,
        "jupyter": {
          "outputs_hidden": false
        },
        "trusted": true
      },
      "execution_count": 48,
      "outputs": [
        {
          "execution_count": 48,
          "output_type": "execute_result",
          "data": {
            "text/plain": "                      Price in US Dollars\nDate       Country                       \n2010-01-01 Argentina                 1.84\n           Australia                 3.98\n           Brazil                    4.76",
            "text/html": "<div>\n<style scoped>\n    .dataframe tbody tr th:only-of-type {\n        vertical-align: middle;\n    }\n\n    .dataframe tbody tr th {\n        vertical-align: top;\n    }\n\n    .dataframe thead th {\n        text-align: right;\n    }\n</style>\n<table border=\"1\" class=\"dataframe\">\n  <thead>\n    <tr style=\"text-align: right;\">\n      <th></th>\n      <th></th>\n      <th>Price in US Dollars</th>\n    </tr>\n    <tr>\n      <th>Date</th>\n      <th>Country</th>\n      <th></th>\n    </tr>\n  </thead>\n  <tbody>\n    <tr>\n      <th rowspan=\"3\" valign=\"top\">2010-01-01</th>\n      <th>Argentina</th>\n      <td>1.84</td>\n    </tr>\n    <tr>\n      <th>Australia</th>\n      <td>3.98</td>\n    </tr>\n    <tr>\n      <th>Brazil</th>\n      <td>4.76</td>\n    </tr>\n  </tbody>\n</table>\n</div>"
          },
          "metadata": {}
        }
      ]
    },
    {
      "cell_type": "code",
      "source": "bigmac = bigmac.swaplevel()\nbigmac.head()",
      "metadata": {
        "collapsed": false,
        "jupyter": {
          "outputs_hidden": false
        },
        "trusted": true
      },
      "execution_count": 49,
      "outputs": [
        {
          "execution_count": 49,
          "output_type": "execute_result",
          "data": {
            "text/plain": "                      Price in US Dollars\nCountry   Date                           \nArgentina 2010-01-01                 1.84\nAustralia 2010-01-01                 3.98\nBrazil    2010-01-01                 4.76\nBritain   2010-01-01                 3.67\nCanada    2010-01-01                 3.97",
            "text/html": "<div>\n<style scoped>\n    .dataframe tbody tr th:only-of-type {\n        vertical-align: middle;\n    }\n\n    .dataframe tbody tr th {\n        vertical-align: top;\n    }\n\n    .dataframe thead th {\n        text-align: right;\n    }\n</style>\n<table border=\"1\" class=\"dataframe\">\n  <thead>\n    <tr style=\"text-align: right;\">\n      <th></th>\n      <th></th>\n      <th>Price in US Dollars</th>\n    </tr>\n    <tr>\n      <th>Country</th>\n      <th>Date</th>\n      <th></th>\n    </tr>\n  </thead>\n  <tbody>\n    <tr>\n      <th>Argentina</th>\n      <th>2010-01-01</th>\n      <td>1.84</td>\n    </tr>\n    <tr>\n      <th>Australia</th>\n      <th>2010-01-01</th>\n      <td>3.98</td>\n    </tr>\n    <tr>\n      <th>Brazil</th>\n      <th>2010-01-01</th>\n      <td>4.76</td>\n    </tr>\n    <tr>\n      <th>Britain</th>\n      <th>2010-01-01</th>\n      <td>3.67</td>\n    </tr>\n    <tr>\n      <th>Canada</th>\n      <th>2010-01-01</th>\n      <td>3.97</td>\n    </tr>\n  </tbody>\n</table>\n</div>"
          },
          "metadata": {}
        }
      ]
    },
    {
      "cell_type": "markdown",
      "source": "## The `.sort_index()` Method on a MultiIndex `DataFrame`",
      "metadata": {}
    },
    {
      "cell_type": "code",
      "source": "bigmac = pd.read_csv(\"bigmac.csv\", parse_dates = [\"Date\"], index_col = [\"Date\", \"Country\"])\nbigmac.sort_index(inplace = True)\nbigmac.head(3)",
      "metadata": {
        "collapsed": false,
        "jupyter": {
          "outputs_hidden": false
        }
      },
      "execution_count": 24,
      "outputs": [
        {
          "execution_count": 24,
          "output_type": "execute_result",
          "data": {
            "text/html": [
              "<div>\n",
              "<table border=\"1\" class=\"dataframe\">\n",
              "  <thead>\n",
              "    <tr style=\"text-align: right;\">\n",
              "      <th></th>\n",
              "      <th></th>\n",
              "      <th>Price in US Dollars</th>\n",
              "    </tr>\n",
              "    <tr>\n",
              "      <th>Date</th>\n",
              "      <th>Country</th>\n",
              "      <th></th>\n",
              "    </tr>\n",
              "  </thead>\n",
              "  <tbody>\n",
              "    <tr>\n",
              "      <th rowspan=\"3\" valign=\"top\">2010-01-01</th>\n",
              "      <th>Argentina</th>\n",
              "      <td>1.84</td>\n",
              "    </tr>\n",
              "    <tr>\n",
              "      <th>Australia</th>\n",
              "      <td>3.98</td>\n",
              "    </tr>\n",
              "    <tr>\n",
              "      <th>Brazil</th>\n",
              "      <td>4.76</td>\n",
              "    </tr>\n",
              "  </tbody>\n",
              "</table>\n",
              "</div>"
            ],
            "text/plain": [
              "                      Price in US Dollars\n",
              "Date       Country                       \n",
              "2010-01-01 Argentina                 1.84\n",
              "           Australia                 3.98\n",
              "           Brazil                    4.76"
            ]
          },
          "metadata": {}
        }
      ]
    },
    {
      "cell_type": "code",
      "source": "bigmac.sort_index(ascending = [True, False], inplace = True)",
      "metadata": {
        "collapsed": false,
        "jupyter": {
          "outputs_hidden": false
        }
      },
      "execution_count": 28,
      "outputs": []
    },
    {
      "cell_type": "code",
      "source": "bigmac.head(3)",
      "metadata": {
        "collapsed": false,
        "jupyter": {
          "outputs_hidden": false
        }
      },
      "execution_count": 29,
      "outputs": [
        {
          "execution_count": 29,
          "output_type": "execute_result",
          "data": {
            "text/html": [
              "<div>\n",
              "<table border=\"1\" class=\"dataframe\">\n",
              "  <thead>\n",
              "    <tr style=\"text-align: right;\">\n",
              "      <th></th>\n",
              "      <th></th>\n",
              "      <th>Price in US Dollars</th>\n",
              "    </tr>\n",
              "    <tr>\n",
              "      <th>Date</th>\n",
              "      <th>Country</th>\n",
              "      <th></th>\n",
              "    </tr>\n",
              "  </thead>\n",
              "  <tbody>\n",
              "    <tr>\n",
              "      <th rowspan=\"3\" valign=\"top\">2010-01-01</th>\n",
              "      <th>Uruguay</th>\n",
              "      <td>3.32</td>\n",
              "    </tr>\n",
              "    <tr>\n",
              "      <th>United States</th>\n",
              "      <td>3.58</td>\n",
              "    </tr>\n",
              "    <tr>\n",
              "      <th>Ukraine</th>\n",
              "      <td>1.83</td>\n",
              "    </tr>\n",
              "  </tbody>\n",
              "</table>\n",
              "</div>"
            ],
            "text/plain": [
              "                          Price in US Dollars\n",
              "Date       Country                           \n",
              "2010-01-01 Uruguay                       3.32\n",
              "           United States                 3.58\n",
              "           Ukraine                       1.83"
            ]
          },
          "metadata": {}
        }
      ]
    },
    {
      "cell_type": "code",
      "source": "",
      "metadata": {
        "collapsed": true,
        "jupyter": {
          "outputs_hidden": true
        }
      },
      "execution_count": null,
      "outputs": []
    },
    {
      "cell_type": "code",
      "source": "",
      "metadata": {
        "collapsed": true,
        "jupyter": {
          "outputs_hidden": true
        }
      },
      "execution_count": null,
      "outputs": []
    },
    {
      "cell_type": "code",
      "source": "",
      "metadata": {
        "collapsed": true,
        "jupyter": {
          "outputs_hidden": true
        }
      },
      "execution_count": null,
      "outputs": []
    },
    {
      "cell_type": "code",
      "source": "",
      "metadata": {
        "collapsed": true,
        "jupyter": {
          "outputs_hidden": true
        }
      },
      "execution_count": null,
      "outputs": []
    },
    {
      "cell_type": "code",
      "source": "",
      "metadata": {
        "collapsed": true,
        "jupyter": {
          "outputs_hidden": true
        }
      },
      "execution_count": null,
      "outputs": []
    },
    {
      "cell_type": "code",
      "source": "",
      "metadata": {
        "collapsed": true,
        "jupyter": {
          "outputs_hidden": true
        }
      },
      "execution_count": null,
      "outputs": []
    },
    {
      "cell_type": "code",
      "source": "",
      "metadata": {
        "collapsed": true,
        "jupyter": {
          "outputs_hidden": true
        }
      },
      "execution_count": null,
      "outputs": []
    },
    {
      "cell_type": "code",
      "source": "",
      "metadata": {
        "collapsed": true,
        "jupyter": {
          "outputs_hidden": true
        }
      },
      "execution_count": null,
      "outputs": []
    },
    {
      "cell_type": "code",
      "source": "",
      "metadata": {
        "collapsed": true,
        "jupyter": {
          "outputs_hidden": true
        }
      },
      "execution_count": null,
      "outputs": []
    },
    {
      "cell_type": "code",
      "source": "",
      "metadata": {
        "collapsed": true,
        "jupyter": {
          "outputs_hidden": true
        }
      },
      "execution_count": null,
      "outputs": []
    },
    {
      "cell_type": "code",
      "source": "",
      "metadata": {
        "collapsed": true,
        "jupyter": {
          "outputs_hidden": true
        }
      },
      "execution_count": null,
      "outputs": []
    },
    {
      "cell_type": "code",
      "source": "",
      "metadata": {
        "collapsed": true,
        "jupyter": {
          "outputs_hidden": true
        }
      },
      "execution_count": null,
      "outputs": []
    },
    {
      "cell_type": "code",
      "source": "",
      "metadata": {
        "collapsed": true,
        "jupyter": {
          "outputs_hidden": true
        }
      },
      "execution_count": null,
      "outputs": []
    },
    {
      "cell_type": "code",
      "source": "",
      "metadata": {
        "collapsed": true,
        "jupyter": {
          "outputs_hidden": true
        }
      },
      "execution_count": null,
      "outputs": []
    },
    {
      "cell_type": "code",
      "source": "",
      "metadata": {
        "collapsed": true,
        "jupyter": {
          "outputs_hidden": true
        }
      },
      "execution_count": null,
      "outputs": []
    },
    {
      "cell_type": "markdown",
      "source": "## The `pivot` Method",
      "metadata": {}
    },
    {
      "cell_type": "code",
      "source": "sales = pd.read_csv(\"salesmen.csv\", parse_dates = [\"Date\"])\nsales[\"Salesman\"] = sales[\"Salesman\"].astype(\"category\")\nsales.head(3)",
      "metadata": {
        "collapsed": false,
        "jupyter": {
          "outputs_hidden": false
        },
        "trusted": true
      },
      "execution_count": 50,
      "outputs": [
        {
          "execution_count": 50,
          "output_type": "execute_result",
          "data": {
            "text/plain": "        Date Salesman  Revenue\n0 2016-01-01      Bob     7172\n1 2016-01-02      Bob     6362\n2 2016-01-03      Bob     5982",
            "text/html": "<div>\n<style scoped>\n    .dataframe tbody tr th:only-of-type {\n        vertical-align: middle;\n    }\n\n    .dataframe tbody tr th {\n        vertical-align: top;\n    }\n\n    .dataframe thead th {\n        text-align: right;\n    }\n</style>\n<table border=\"1\" class=\"dataframe\">\n  <thead>\n    <tr style=\"text-align: right;\">\n      <th></th>\n      <th>Date</th>\n      <th>Salesman</th>\n      <th>Revenue</th>\n    </tr>\n  </thead>\n  <tbody>\n    <tr>\n      <th>0</th>\n      <td>2016-01-01</td>\n      <td>Bob</td>\n      <td>7172</td>\n    </tr>\n    <tr>\n      <th>1</th>\n      <td>2016-01-02</td>\n      <td>Bob</td>\n      <td>6362</td>\n    </tr>\n    <tr>\n      <th>2</th>\n      <td>2016-01-03</td>\n      <td>Bob</td>\n      <td>5982</td>\n    </tr>\n  </tbody>\n</table>\n</div>"
          },
          "metadata": {}
        }
      ]
    },
    {
      "cell_type": "code",
      "source": "",
      "metadata": {},
      "execution_count": null,
      "outputs": []
    },
    {
      "cell_type": "code",
      "source": "",
      "metadata": {},
      "execution_count": null,
      "outputs": []
    },
    {
      "cell_type": "code",
      "source": "",
      "metadata": {},
      "execution_count": null,
      "outputs": []
    },
    {
      "cell_type": "code",
      "source": "",
      "metadata": {},
      "execution_count": null,
      "outputs": []
    },
    {
      "cell_type": "markdown",
      "source": "## The `.stack()` Method",
      "metadata": {}
    },
    {
      "cell_type": "code",
      "source": "world = pd.read_csv(\"worldstats.csv\", index_col = [\"country\", \"year\"])\nworld.head(3)",
      "metadata": {
        "collapsed": false,
        "jupyter": {
          "outputs_hidden": false
        },
        "trusted": true
      },
      "execution_count": 51,
      "outputs": [
        {
          "execution_count": 51,
          "output_type": "execute_result",
          "data": {
            "text/plain": "                  Population           GDP\ncountry    year                           \nArab World 2015  392022276.0  2.530102e+12\n           2014  384222592.0  2.873600e+12\n           2013  376504253.0  2.846994e+12",
            "text/html": "<div>\n<style scoped>\n    .dataframe tbody tr th:only-of-type {\n        vertical-align: middle;\n    }\n\n    .dataframe tbody tr th {\n        vertical-align: top;\n    }\n\n    .dataframe thead th {\n        text-align: right;\n    }\n</style>\n<table border=\"1\" class=\"dataframe\">\n  <thead>\n    <tr style=\"text-align: right;\">\n      <th></th>\n      <th></th>\n      <th>Population</th>\n      <th>GDP</th>\n    </tr>\n    <tr>\n      <th>country</th>\n      <th>year</th>\n      <th></th>\n      <th></th>\n    </tr>\n  </thead>\n  <tbody>\n    <tr>\n      <th rowspan=\"3\" valign=\"top\">Arab World</th>\n      <th>2015</th>\n      <td>392022276.0</td>\n      <td>2.530102e+12</td>\n    </tr>\n    <tr>\n      <th>2014</th>\n      <td>384222592.0</td>\n      <td>2.873600e+12</td>\n    </tr>\n    <tr>\n      <th>2013</th>\n      <td>376504253.0</td>\n      <td>2.846994e+12</td>\n    </tr>\n  </tbody>\n</table>\n</div>"
          },
          "metadata": {}
        }
      ]
    },
    {
      "cell_type": "code",
      "source": "world.stack().to_frame()",
      "metadata": {
        "tags": [],
        "trusted": true
      },
      "execution_count": 52,
      "outputs": [
        {
          "execution_count": 52,
          "output_type": "execute_result",
          "data": {
            "text/plain": "                                       0\ncountry    year                         \nArab World 2015 Population  3.920223e+08\n                GDP         2.530102e+12\n           2014 Population  3.842226e+08\n                GDP         2.873600e+12\n           2013 Population  3.765043e+08\n...                                  ...\nZimbabwe   1962 GDP         1.117602e+09\n           1961 Population  3.876638e+06\n                GDP         1.096647e+09\n           1960 Population  3.752390e+06\n                GDP         1.052990e+09\n\n[22422 rows x 1 columns]",
            "text/html": "<div>\n<style scoped>\n    .dataframe tbody tr th:only-of-type {\n        vertical-align: middle;\n    }\n\n    .dataframe tbody tr th {\n        vertical-align: top;\n    }\n\n    .dataframe thead th {\n        text-align: right;\n    }\n</style>\n<table border=\"1\" class=\"dataframe\">\n  <thead>\n    <tr style=\"text-align: right;\">\n      <th></th>\n      <th></th>\n      <th></th>\n      <th>0</th>\n    </tr>\n    <tr>\n      <th>country</th>\n      <th>year</th>\n      <th></th>\n      <th></th>\n    </tr>\n  </thead>\n  <tbody>\n    <tr>\n      <th rowspan=\"5\" valign=\"top\">Arab World</th>\n      <th rowspan=\"2\" valign=\"top\">2015</th>\n      <th>Population</th>\n      <td>3.920223e+08</td>\n    </tr>\n    <tr>\n      <th>GDP</th>\n      <td>2.530102e+12</td>\n    </tr>\n    <tr>\n      <th rowspan=\"2\" valign=\"top\">2014</th>\n      <th>Population</th>\n      <td>3.842226e+08</td>\n    </tr>\n    <tr>\n      <th>GDP</th>\n      <td>2.873600e+12</td>\n    </tr>\n    <tr>\n      <th>2013</th>\n      <th>Population</th>\n      <td>3.765043e+08</td>\n    </tr>\n    <tr>\n      <th>...</th>\n      <th>...</th>\n      <th>...</th>\n      <td>...</td>\n    </tr>\n    <tr>\n      <th rowspan=\"5\" valign=\"top\">Zimbabwe</th>\n      <th>1962</th>\n      <th>GDP</th>\n      <td>1.117602e+09</td>\n    </tr>\n    <tr>\n      <th rowspan=\"2\" valign=\"top\">1961</th>\n      <th>Population</th>\n      <td>3.876638e+06</td>\n    </tr>\n    <tr>\n      <th>GDP</th>\n      <td>1.096647e+09</td>\n    </tr>\n    <tr>\n      <th rowspan=\"2\" valign=\"top\">1960</th>\n      <th>Population</th>\n      <td>3.752390e+06</td>\n    </tr>\n    <tr>\n      <th>GDP</th>\n      <td>1.052990e+09</td>\n    </tr>\n  </tbody>\n</table>\n<p>22422 rows × 1 columns</p>\n</div>"
          },
          "metadata": {}
        }
      ]
    },
    {
      "cell_type": "markdown",
      "source": "## The `.unstack()` Method, Part 3",
      "metadata": {}
    },
    {
      "cell_type": "code",
      "source": "world = pd.read_csv(\"worldstats.csv\", index_col = [\"country\", \"year\"])\ns = world.stack()\ns.head(3)",
      "metadata": {
        "collapsed": false,
        "jupyter": {
          "outputs_hidden": false
        },
        "trusted": true
      },
      "execution_count": 53,
      "outputs": [
        {
          "execution_count": 53,
          "output_type": "execute_result",
          "data": {
            "text/plain": "country     year            \nArab World  2015  Population    3.920223e+08\n                  GDP           2.530102e+12\n            2014  Population    3.842226e+08\ndtype: float64"
          },
          "metadata": {}
        }
      ]
    },
    {
      "cell_type": "code",
      "source": "s.unstack(level = [\"year\", \"country\"])",
      "metadata": {
        "collapsed": false,
        "jupyter": {
          "outputs_hidden": false
        },
        "trusted": true
      },
      "execution_count": 54,
      "outputs": [
        {
          "execution_count": 54,
          "output_type": "execute_result",
          "data": {
            "text/plain": "year                2015          2014          2013          2012  \\\ncountry       Arab World    Arab World    Arab World    Arab World   \nPopulation  3.920223e+08  3.842226e+08  3.765043e+08  3.688026e+08   \nGDP         2.530102e+12  2.873600e+12  2.846994e+12  2.773270e+12   \n\nyear                2011          2010          2009          2008  \\\ncountry       Arab World    Arab World    Arab World    Arab World   \nPopulation  3.610318e+08  3.531122e+08  3.450542e+08  3.368865e+08   \nGDP         2.497945e+12  2.103825e+12  1.798878e+12  2.081343e+12   \n\nyear                2007          2006  ...          1969          1968  \\\ncountry       Arab World    Arab World  ...      Zimbabwe      Zimbabwe   \nPopulation  3.287666e+08  3.209067e+08  ...  5.036321e+06  4.874113e+06   \nGDP         1.641666e+12  1.404190e+12  ...  1.747999e+09  1.479600e+09   \n\nyear                1967          1966          1965          1964  \\\ncountry         Zimbabwe      Zimbabwe      Zimbabwe      Zimbabwe   \nPopulation  4.718612e+06  4.568320e+06  4.422132e+06  4.279561e+06   \nGDP         1.397002e+09  1.281750e+09  1.311436e+09  1.217138e+09   \n\nyear                1963          1962          1961          1960  \ncountry         Zimbabwe      Zimbabwe      Zimbabwe      Zimbabwe  \nPopulation  4.140804e+06  4.006262e+06  3.876638e+06  3.752390e+06  \nGDP         1.159512e+09  1.117602e+09  1.096647e+09  1.052990e+09  \n\n[2 rows x 11211 columns]",
            "text/html": "<div>\n<style scoped>\n    .dataframe tbody tr th:only-of-type {\n        vertical-align: middle;\n    }\n\n    .dataframe tbody tr th {\n        vertical-align: top;\n    }\n\n    .dataframe thead tr th {\n        text-align: left;\n    }\n</style>\n<table border=\"1\" class=\"dataframe\">\n  <thead>\n    <tr>\n      <th>year</th>\n      <th>2015</th>\n      <th>2014</th>\n      <th>2013</th>\n      <th>2012</th>\n      <th>2011</th>\n      <th>2010</th>\n      <th>2009</th>\n      <th>2008</th>\n      <th>2007</th>\n      <th>2006</th>\n      <th>...</th>\n      <th>1969</th>\n      <th>1968</th>\n      <th>1967</th>\n      <th>1966</th>\n      <th>1965</th>\n      <th>1964</th>\n      <th>1963</th>\n      <th>1962</th>\n      <th>1961</th>\n      <th>1960</th>\n    </tr>\n    <tr>\n      <th>country</th>\n      <th>Arab World</th>\n      <th>Arab World</th>\n      <th>Arab World</th>\n      <th>Arab World</th>\n      <th>Arab World</th>\n      <th>Arab World</th>\n      <th>Arab World</th>\n      <th>Arab World</th>\n      <th>Arab World</th>\n      <th>Arab World</th>\n      <th>...</th>\n      <th>Zimbabwe</th>\n      <th>Zimbabwe</th>\n      <th>Zimbabwe</th>\n      <th>Zimbabwe</th>\n      <th>Zimbabwe</th>\n      <th>Zimbabwe</th>\n      <th>Zimbabwe</th>\n      <th>Zimbabwe</th>\n      <th>Zimbabwe</th>\n      <th>Zimbabwe</th>\n    </tr>\n  </thead>\n  <tbody>\n    <tr>\n      <th>Population</th>\n      <td>3.920223e+08</td>\n      <td>3.842226e+08</td>\n      <td>3.765043e+08</td>\n      <td>3.688026e+08</td>\n      <td>3.610318e+08</td>\n      <td>3.531122e+08</td>\n      <td>3.450542e+08</td>\n      <td>3.368865e+08</td>\n      <td>3.287666e+08</td>\n      <td>3.209067e+08</td>\n      <td>...</td>\n      <td>5.036321e+06</td>\n      <td>4.874113e+06</td>\n      <td>4.718612e+06</td>\n      <td>4.568320e+06</td>\n      <td>4.422132e+06</td>\n      <td>4.279561e+06</td>\n      <td>4.140804e+06</td>\n      <td>4.006262e+06</td>\n      <td>3.876638e+06</td>\n      <td>3.752390e+06</td>\n    </tr>\n    <tr>\n      <th>GDP</th>\n      <td>2.530102e+12</td>\n      <td>2.873600e+12</td>\n      <td>2.846994e+12</td>\n      <td>2.773270e+12</td>\n      <td>2.497945e+12</td>\n      <td>2.103825e+12</td>\n      <td>1.798878e+12</td>\n      <td>2.081343e+12</td>\n      <td>1.641666e+12</td>\n      <td>1.404190e+12</td>\n      <td>...</td>\n      <td>1.747999e+09</td>\n      <td>1.479600e+09</td>\n      <td>1.397002e+09</td>\n      <td>1.281750e+09</td>\n      <td>1.311436e+09</td>\n      <td>1.217138e+09</td>\n      <td>1.159512e+09</td>\n      <td>1.117602e+09</td>\n      <td>1.096647e+09</td>\n      <td>1.052990e+09</td>\n    </tr>\n  </tbody>\n</table>\n<p>2 rows × 11211 columns</p>\n</div>"
          },
          "metadata": {}
        }
      ]
    },
    {
      "cell_type": "code",
      "source": "s = s.unstack(\"year\", fill_value = 0)",
      "metadata": {
        "collapsed": false,
        "jupyter": {
          "outputs_hidden": false
        },
        "trusted": true
      },
      "execution_count": 55,
      "outputs": []
    },
    {
      "cell_type": "code",
      "source": "s.head()",
      "metadata": {
        "collapsed": false,
        "jupyter": {
          "outputs_hidden": false
        },
        "trusted": true
      },
      "execution_count": 56,
      "outputs": [
        {
          "execution_count": 56,
          "output_type": "execute_result",
          "data": {
            "text/plain": "year                            1960          1961          1962  \\\ncountry                                                            \nAfghanistan Population  8.994793e+06  9.164945e+06  9.343772e+06   \n            GDP         5.377778e+08  5.488889e+08  5.466667e+08   \nAlbania     Population  0.000000e+00  0.000000e+00  0.000000e+00   \n            GDP         0.000000e+00  0.000000e+00  0.000000e+00   \nAlgeria     Population  1.112489e+07  1.140486e+07  1.169015e+07   \n\nyear                            1963          1964          1965  \\\ncountry                                                            \nAfghanistan Population  9.531555e+06  9.728645e+06  9.935358e+06   \n            GDP         7.511112e+08  8.000000e+08  1.006667e+09   \nAlbania     Population  0.000000e+00  0.000000e+00  0.000000e+00   \n            GDP         0.000000e+00  0.000000e+00  0.000000e+00   \nAlgeria     Population  1.198513e+07  1.229597e+07  1.262695e+07   \n\nyear                            1966          1967          1968  \\\ncountry                                                            \nAfghanistan Population  1.014884e+07  1.036860e+07  1.059979e+07   \n            GDP         1.400000e+09  1.673333e+09  1.373333e+09   \nAlbania     Population  0.000000e+00  0.000000e+00  0.000000e+00   \n            GDP         0.000000e+00  0.000000e+00  0.000000e+00   \nAlgeria     Population  1.298027e+07  1.335420e+07  1.374438e+07   \n\nyear                            1969  ...          2006          2007  \\\ncountry                               ...                               \nAfghanistan Population  1.084951e+07  ...  2.518362e+07  2.587754e+07   \n            GDP         1.408889e+09  ...  7.057598e+09  9.843842e+09   \nAlbania     Population  0.000000e+00  ...  2.992547e+06  2.970017e+06   \n            GDP         0.000000e+00  ...  8.992642e+09  1.070101e+10   \nAlgeria     Population  1.414444e+07  ...  3.374933e+07  3.426197e+07   \n\nyear                            2008          2009          2010  \\\ncountry                                                            \nAfghanistan Population  2.652874e+07  2.720729e+07  2.796221e+07   \n            GDP         1.019053e+10  1.248694e+10  1.593680e+10   \nAlbania     Population  2.947314e+06  2.927519e+06  2.913021e+06   \n            GDP         1.288135e+10  1.204421e+10  1.192695e+10   \nAlgeria     Population  3.481106e+07  3.540179e+07  3.603616e+07   \n\nyear                            2011          2012          2013  \\\ncountry                                                            \nAfghanistan Population  2.880917e+07  2.972680e+07  3.068250e+07   \n            GDP         1.793024e+10  2.053654e+10  2.004633e+10   \nAlbania     Population  2.904780e+06  2.900247e+06  2.896652e+06   \n            GDP         1.289087e+10  1.231978e+10  1.278103e+10   \nAlgeria     Population  3.671713e+07  3.743943e+07  3.818614e+07   \n\nyear                            2014          2015  \ncountry                                             \nAfghanistan Population  3.162751e+07  3.252656e+07  \n            GDP         2.005019e+10  1.919944e+10  \nAlbania     Population  2.893654e+06  2.889167e+06  \n            GDP         1.327796e+10  1.145560e+10  \nAlgeria     Population  3.893433e+07  3.966652e+07  \n\n[5 rows x 56 columns]",
            "text/html": "<div>\n<style scoped>\n    .dataframe tbody tr th:only-of-type {\n        vertical-align: middle;\n    }\n\n    .dataframe tbody tr th {\n        vertical-align: top;\n    }\n\n    .dataframe thead th {\n        text-align: right;\n    }\n</style>\n<table border=\"1\" class=\"dataframe\">\n  <thead>\n    <tr style=\"text-align: right;\">\n      <th></th>\n      <th>year</th>\n      <th>1960</th>\n      <th>1961</th>\n      <th>1962</th>\n      <th>1963</th>\n      <th>1964</th>\n      <th>1965</th>\n      <th>1966</th>\n      <th>1967</th>\n      <th>1968</th>\n      <th>1969</th>\n      <th>...</th>\n      <th>2006</th>\n      <th>2007</th>\n      <th>2008</th>\n      <th>2009</th>\n      <th>2010</th>\n      <th>2011</th>\n      <th>2012</th>\n      <th>2013</th>\n      <th>2014</th>\n      <th>2015</th>\n    </tr>\n    <tr>\n      <th>country</th>\n      <th></th>\n      <th></th>\n      <th></th>\n      <th></th>\n      <th></th>\n      <th></th>\n      <th></th>\n      <th></th>\n      <th></th>\n      <th></th>\n      <th></th>\n      <th></th>\n      <th></th>\n      <th></th>\n      <th></th>\n      <th></th>\n      <th></th>\n      <th></th>\n      <th></th>\n      <th></th>\n      <th></th>\n      <th></th>\n    </tr>\n  </thead>\n  <tbody>\n    <tr>\n      <th rowspan=\"2\" valign=\"top\">Afghanistan</th>\n      <th>Population</th>\n      <td>8.994793e+06</td>\n      <td>9.164945e+06</td>\n      <td>9.343772e+06</td>\n      <td>9.531555e+06</td>\n      <td>9.728645e+06</td>\n      <td>9.935358e+06</td>\n      <td>1.014884e+07</td>\n      <td>1.036860e+07</td>\n      <td>1.059979e+07</td>\n      <td>1.084951e+07</td>\n      <td>...</td>\n      <td>2.518362e+07</td>\n      <td>2.587754e+07</td>\n      <td>2.652874e+07</td>\n      <td>2.720729e+07</td>\n      <td>2.796221e+07</td>\n      <td>2.880917e+07</td>\n      <td>2.972680e+07</td>\n      <td>3.068250e+07</td>\n      <td>3.162751e+07</td>\n      <td>3.252656e+07</td>\n    </tr>\n    <tr>\n      <th>GDP</th>\n      <td>5.377778e+08</td>\n      <td>5.488889e+08</td>\n      <td>5.466667e+08</td>\n      <td>7.511112e+08</td>\n      <td>8.000000e+08</td>\n      <td>1.006667e+09</td>\n      <td>1.400000e+09</td>\n      <td>1.673333e+09</td>\n      <td>1.373333e+09</td>\n      <td>1.408889e+09</td>\n      <td>...</td>\n      <td>7.057598e+09</td>\n      <td>9.843842e+09</td>\n      <td>1.019053e+10</td>\n      <td>1.248694e+10</td>\n      <td>1.593680e+10</td>\n      <td>1.793024e+10</td>\n      <td>2.053654e+10</td>\n      <td>2.004633e+10</td>\n      <td>2.005019e+10</td>\n      <td>1.919944e+10</td>\n    </tr>\n    <tr>\n      <th rowspan=\"2\" valign=\"top\">Albania</th>\n      <th>Population</th>\n      <td>0.000000e+00</td>\n      <td>0.000000e+00</td>\n      <td>0.000000e+00</td>\n      <td>0.000000e+00</td>\n      <td>0.000000e+00</td>\n      <td>0.000000e+00</td>\n      <td>0.000000e+00</td>\n      <td>0.000000e+00</td>\n      <td>0.000000e+00</td>\n      <td>0.000000e+00</td>\n      <td>...</td>\n      <td>2.992547e+06</td>\n      <td>2.970017e+06</td>\n      <td>2.947314e+06</td>\n      <td>2.927519e+06</td>\n      <td>2.913021e+06</td>\n      <td>2.904780e+06</td>\n      <td>2.900247e+06</td>\n      <td>2.896652e+06</td>\n      <td>2.893654e+06</td>\n      <td>2.889167e+06</td>\n    </tr>\n    <tr>\n      <th>GDP</th>\n      <td>0.000000e+00</td>\n      <td>0.000000e+00</td>\n      <td>0.000000e+00</td>\n      <td>0.000000e+00</td>\n      <td>0.000000e+00</td>\n      <td>0.000000e+00</td>\n      <td>0.000000e+00</td>\n      <td>0.000000e+00</td>\n      <td>0.000000e+00</td>\n      <td>0.000000e+00</td>\n      <td>...</td>\n      <td>8.992642e+09</td>\n      <td>1.070101e+10</td>\n      <td>1.288135e+10</td>\n      <td>1.204421e+10</td>\n      <td>1.192695e+10</td>\n      <td>1.289087e+10</td>\n      <td>1.231978e+10</td>\n      <td>1.278103e+10</td>\n      <td>1.327796e+10</td>\n      <td>1.145560e+10</td>\n    </tr>\n    <tr>\n      <th>Algeria</th>\n      <th>Population</th>\n      <td>1.112489e+07</td>\n      <td>1.140486e+07</td>\n      <td>1.169015e+07</td>\n      <td>1.198513e+07</td>\n      <td>1.229597e+07</td>\n      <td>1.262695e+07</td>\n      <td>1.298027e+07</td>\n      <td>1.335420e+07</td>\n      <td>1.374438e+07</td>\n      <td>1.414444e+07</td>\n      <td>...</td>\n      <td>3.374933e+07</td>\n      <td>3.426197e+07</td>\n      <td>3.481106e+07</td>\n      <td>3.540179e+07</td>\n      <td>3.603616e+07</td>\n      <td>3.671713e+07</td>\n      <td>3.743943e+07</td>\n      <td>3.818614e+07</td>\n      <td>3.893433e+07</td>\n      <td>3.966652e+07</td>\n    </tr>\n  </tbody>\n</table>\n<p>5 rows × 56 columns</p>\n</div>"
          },
          "metadata": {}
        }
      ]
    },
    {
      "cell_type": "markdown",
      "source": "## The `pivot_table()` Method",
      "metadata": {}
    },
    {
      "cell_type": "code",
      "source": "foods =pd.read_csv(\"foods.csv\")\nfoods.head(3)",
      "metadata": {
        "collapsed": false,
        "jupyter": {
          "outputs_hidden": false
        },
        "trusted": true
      },
      "execution_count": 57,
      "outputs": [
        {
          "execution_count": 57,
          "output_type": "execute_result",
          "data": {
            "text/plain": "  First Name  Gender      City Frequency     Item  Spend\n0      Wanda  Female  Stamford    Weekly   Burger  15.66\n1       Eric    Male  Stamford     Daily  Chalupa  10.56\n2    Charles    Male  New York     Never    Sushi  42.14",
            "text/html": "<div>\n<style scoped>\n    .dataframe tbody tr th:only-of-type {\n        vertical-align: middle;\n    }\n\n    .dataframe tbody tr th {\n        vertical-align: top;\n    }\n\n    .dataframe thead th {\n        text-align: right;\n    }\n</style>\n<table border=\"1\" class=\"dataframe\">\n  <thead>\n    <tr style=\"text-align: right;\">\n      <th></th>\n      <th>First Name</th>\n      <th>Gender</th>\n      <th>City</th>\n      <th>Frequency</th>\n      <th>Item</th>\n      <th>Spend</th>\n    </tr>\n  </thead>\n  <tbody>\n    <tr>\n      <th>0</th>\n      <td>Wanda</td>\n      <td>Female</td>\n      <td>Stamford</td>\n      <td>Weekly</td>\n      <td>Burger</td>\n      <td>15.66</td>\n    </tr>\n    <tr>\n      <th>1</th>\n      <td>Eric</td>\n      <td>Male</td>\n      <td>Stamford</td>\n      <td>Daily</td>\n      <td>Chalupa</td>\n      <td>10.56</td>\n    </tr>\n    <tr>\n      <th>2</th>\n      <td>Charles</td>\n      <td>Male</td>\n      <td>New York</td>\n      <td>Never</td>\n      <td>Sushi</td>\n      <td>42.14</td>\n    </tr>\n  </tbody>\n</table>\n</div>"
          },
          "metadata": {}
        }
      ]
    },
    {
      "cell_type": "code",
      "source": "foods.pivot_table(values = \"Spend\", index = [\"Gender\", \"Item\"], columns = \"City\", aggfunc = \"min\").head(3)",
      "metadata": {
        "collapsed": false,
        "jupyter": {
          "outputs_hidden": false
        },
        "trusted": true
      },
      "execution_count": 58,
      "outputs": [
        {
          "execution_count": 58,
          "output_type": "execute_result",
          "data": {
            "text/plain": "City            New York  Philadelphia  Stamford\nGender Item                                     \nFemale Burger       2.25          1.97      6.24\n       Burrito      1.02          1.04      1.18\n       Chalupa      1.96          9.35      9.09",
            "text/html": "<div>\n<style scoped>\n    .dataframe tbody tr th:only-of-type {\n        vertical-align: middle;\n    }\n\n    .dataframe tbody tr th {\n        vertical-align: top;\n    }\n\n    .dataframe thead th {\n        text-align: right;\n    }\n</style>\n<table border=\"1\" class=\"dataframe\">\n  <thead>\n    <tr style=\"text-align: right;\">\n      <th></th>\n      <th>City</th>\n      <th>New York</th>\n      <th>Philadelphia</th>\n      <th>Stamford</th>\n    </tr>\n    <tr>\n      <th>Gender</th>\n      <th>Item</th>\n      <th></th>\n      <th></th>\n      <th></th>\n    </tr>\n  </thead>\n  <tbody>\n    <tr>\n      <th rowspan=\"3\" valign=\"top\">Female</th>\n      <th>Burger</th>\n      <td>2.25</td>\n      <td>1.97</td>\n      <td>6.24</td>\n    </tr>\n    <tr>\n      <th>Burrito</th>\n      <td>1.02</td>\n      <td>1.04</td>\n      <td>1.18</td>\n    </tr>\n    <tr>\n      <th>Chalupa</th>\n      <td>1.96</td>\n      <td>9.35</td>\n      <td>9.09</td>\n    </tr>\n  </tbody>\n</table>\n</div>"
          },
          "metadata": {}
        }
      ]
    },
    {
      "cell_type": "code",
      "source": "foods.pivot_table(values = \"Spend\", index = [\"Gender\"], columns = [\"City\", \"Item\"], aggfunc = \"min\").head(3)",
      "metadata": {
        "trusted": true
      },
      "execution_count": 60,
      "outputs": [
        {
          "execution_count": 60,
          "output_type": "execute_result",
          "data": {
            "text/plain": "City   New York                                       Philadelphia          \\\nItem     Burger Burrito Chalupa Donut Ice Cream Sushi       Burger Burrito   \nGender                                                                       \nFemale     2.25    1.02    1.96  3.15     13.39  2.52         1.97    1.04   \nMale       5.43   15.90   11.61  1.49     14.06  3.28         1.71    8.58   \n\nCity                                  Stamford                        \\\nItem   Chalupa Donut Ice Cream  Sushi   Burger Burrito Chalupa Donut   \nGender                                                                 \nFemale    9.35  2.13      7.61  11.68     6.24    1.18    9.09  1.68   \nMale      1.94  1.26      4.89   2.01     2.83    3.64   10.56  6.63   \n\nCity                     \nItem   Ice Cream  Sushi  \nGender                   \nFemale      8.80   8.20  \nMale        3.43  32.15  ",
            "text/html": "<div>\n<style scoped>\n    .dataframe tbody tr th:only-of-type {\n        vertical-align: middle;\n    }\n\n    .dataframe tbody tr th {\n        vertical-align: top;\n    }\n\n    .dataframe thead tr th {\n        text-align: left;\n    }\n\n    .dataframe thead tr:last-of-type th {\n        text-align: right;\n    }\n</style>\n<table border=\"1\" class=\"dataframe\">\n  <thead>\n    <tr>\n      <th>City</th>\n      <th colspan=\"6\" halign=\"left\">New York</th>\n      <th colspan=\"6\" halign=\"left\">Philadelphia</th>\n      <th colspan=\"6\" halign=\"left\">Stamford</th>\n    </tr>\n    <tr>\n      <th>Item</th>\n      <th>Burger</th>\n      <th>Burrito</th>\n      <th>Chalupa</th>\n      <th>Donut</th>\n      <th>Ice Cream</th>\n      <th>Sushi</th>\n      <th>Burger</th>\n      <th>Burrito</th>\n      <th>Chalupa</th>\n      <th>Donut</th>\n      <th>Ice Cream</th>\n      <th>Sushi</th>\n      <th>Burger</th>\n      <th>Burrito</th>\n      <th>Chalupa</th>\n      <th>Donut</th>\n      <th>Ice Cream</th>\n      <th>Sushi</th>\n    </tr>\n    <tr>\n      <th>Gender</th>\n      <th></th>\n      <th></th>\n      <th></th>\n      <th></th>\n      <th></th>\n      <th></th>\n      <th></th>\n      <th></th>\n      <th></th>\n      <th></th>\n      <th></th>\n      <th></th>\n      <th></th>\n      <th></th>\n      <th></th>\n      <th></th>\n      <th></th>\n      <th></th>\n    </tr>\n  </thead>\n  <tbody>\n    <tr>\n      <th>Female</th>\n      <td>2.25</td>\n      <td>1.02</td>\n      <td>1.96</td>\n      <td>3.15</td>\n      <td>13.39</td>\n      <td>2.52</td>\n      <td>1.97</td>\n      <td>1.04</td>\n      <td>9.35</td>\n      <td>2.13</td>\n      <td>7.61</td>\n      <td>11.68</td>\n      <td>6.24</td>\n      <td>1.18</td>\n      <td>9.09</td>\n      <td>1.68</td>\n      <td>8.80</td>\n      <td>8.20</td>\n    </tr>\n    <tr>\n      <th>Male</th>\n      <td>5.43</td>\n      <td>15.90</td>\n      <td>11.61</td>\n      <td>1.49</td>\n      <td>14.06</td>\n      <td>3.28</td>\n      <td>1.71</td>\n      <td>8.58</td>\n      <td>1.94</td>\n      <td>1.26</td>\n      <td>4.89</td>\n      <td>2.01</td>\n      <td>2.83</td>\n      <td>3.64</td>\n      <td>10.56</td>\n      <td>6.63</td>\n      <td>3.43</td>\n      <td>32.15</td>\n    </tr>\n  </tbody>\n</table>\n</div>"
          },
          "metadata": {}
        }
      ]
    },
    {
      "cell_type": "code",
      "source": "",
      "metadata": {},
      "execution_count": null,
      "outputs": []
    },
    {
      "cell_type": "code",
      "source": "pd.pivot_table(data = foods, values = \"Spend\", index = [\"Gender\", \"Item\"], columns = \"City\", aggfunc = \"min\").head(3)",
      "metadata": {
        "collapsed": false,
        "jupyter": {
          "outputs_hidden": false
        },
        "trusted": true
      },
      "execution_count": 61,
      "outputs": [
        {
          "execution_count": 61,
          "output_type": "execute_result",
          "data": {
            "text/plain": "City            New York  Philadelphia  Stamford\nGender Item                                     \nFemale Burger       2.25          1.97      6.24\n       Burrito      1.02          1.04      1.18\n       Chalupa      1.96          9.35      9.09",
            "text/html": "<div>\n<style scoped>\n    .dataframe tbody tr th:only-of-type {\n        vertical-align: middle;\n    }\n\n    .dataframe tbody tr th {\n        vertical-align: top;\n    }\n\n    .dataframe thead th {\n        text-align: right;\n    }\n</style>\n<table border=\"1\" class=\"dataframe\">\n  <thead>\n    <tr style=\"text-align: right;\">\n      <th></th>\n      <th>City</th>\n      <th>New York</th>\n      <th>Philadelphia</th>\n      <th>Stamford</th>\n    </tr>\n    <tr>\n      <th>Gender</th>\n      <th>Item</th>\n      <th></th>\n      <th></th>\n      <th></th>\n    </tr>\n  </thead>\n  <tbody>\n    <tr>\n      <th rowspan=\"3\" valign=\"top\">Female</th>\n      <th>Burger</th>\n      <td>2.25</td>\n      <td>1.97</td>\n      <td>6.24</td>\n    </tr>\n    <tr>\n      <th>Burrito</th>\n      <td>1.02</td>\n      <td>1.04</td>\n      <td>1.18</td>\n    </tr>\n    <tr>\n      <th>Chalupa</th>\n      <td>1.96</td>\n      <td>9.35</td>\n      <td>9.09</td>\n    </tr>\n  </tbody>\n</table>\n</div>"
          },
          "metadata": {}
        }
      ]
    },
    {
      "cell_type": "markdown",
      "source": "## The `pd.melt()` Method",
      "metadata": {}
    },
    {
      "cell_type": "code",
      "source": "sales = pd.read_csv(\"quarters.csv\")\nsales",
      "metadata": {
        "collapsed": false,
        "jupyter": {
          "outputs_hidden": false
        },
        "trusted": true
      },
      "execution_count": 64,
      "outputs": [
        {
          "execution_count": 64,
          "output_type": "execute_result",
          "data": {
            "text/plain": "  Salesman      Q1      Q2      Q3      Q4\n0    Boris  602908  233879  354479   32704\n1      Bob   43790  514863  297151  544493\n2    Tommy  392668  113579  430882  247231\n3   Travis  834663  266785  749238  570524\n4   Donald  580935  411379  110390  651572\n5      Ted  656644   70803  375948  321388\n6      Jeb  486141  600753  742716  404995\n7    Stacy  479662  742806  770712    2501\n8   Morgan  992673  879183   37945  293710",
            "text/html": "<div>\n<style scoped>\n    .dataframe tbody tr th:only-of-type {\n        vertical-align: middle;\n    }\n\n    .dataframe tbody tr th {\n        vertical-align: top;\n    }\n\n    .dataframe thead th {\n        text-align: right;\n    }\n</style>\n<table border=\"1\" class=\"dataframe\">\n  <thead>\n    <tr style=\"text-align: right;\">\n      <th></th>\n      <th>Salesman</th>\n      <th>Q1</th>\n      <th>Q2</th>\n      <th>Q3</th>\n      <th>Q4</th>\n    </tr>\n  </thead>\n  <tbody>\n    <tr>\n      <th>0</th>\n      <td>Boris</td>\n      <td>602908</td>\n      <td>233879</td>\n      <td>354479</td>\n      <td>32704</td>\n    </tr>\n    <tr>\n      <th>1</th>\n      <td>Bob</td>\n      <td>43790</td>\n      <td>514863</td>\n      <td>297151</td>\n      <td>544493</td>\n    </tr>\n    <tr>\n      <th>2</th>\n      <td>Tommy</td>\n      <td>392668</td>\n      <td>113579</td>\n      <td>430882</td>\n      <td>247231</td>\n    </tr>\n    <tr>\n      <th>3</th>\n      <td>Travis</td>\n      <td>834663</td>\n      <td>266785</td>\n      <td>749238</td>\n      <td>570524</td>\n    </tr>\n    <tr>\n      <th>4</th>\n      <td>Donald</td>\n      <td>580935</td>\n      <td>411379</td>\n      <td>110390</td>\n      <td>651572</td>\n    </tr>\n    <tr>\n      <th>5</th>\n      <td>Ted</td>\n      <td>656644</td>\n      <td>70803</td>\n      <td>375948</td>\n      <td>321388</td>\n    </tr>\n    <tr>\n      <th>6</th>\n      <td>Jeb</td>\n      <td>486141</td>\n      <td>600753</td>\n      <td>742716</td>\n      <td>404995</td>\n    </tr>\n    <tr>\n      <th>7</th>\n      <td>Stacy</td>\n      <td>479662</td>\n      <td>742806</td>\n      <td>770712</td>\n      <td>2501</td>\n    </tr>\n    <tr>\n      <th>8</th>\n      <td>Morgan</td>\n      <td>992673</td>\n      <td>879183</td>\n      <td>37945</td>\n      <td>293710</td>\n    </tr>\n  </tbody>\n</table>\n</div>"
          },
          "metadata": {}
        }
      ]
    },
    {
      "cell_type": "code",
      "source": "pd.melt(sales, id_vars = \"Salesman\", var_name = \"Quarter\", value_name = \"Revenue\")",
      "metadata": {
        "collapsed": false,
        "jupyter": {
          "outputs_hidden": false
        },
        "trusted": true
      },
      "execution_count": 65,
      "outputs": [
        {
          "execution_count": 65,
          "output_type": "execute_result",
          "data": {
            "text/plain": "   Salesman Quarter  Revenue\n0     Boris      Q1   602908\n1       Bob      Q1    43790\n2     Tommy      Q1   392668\n3    Travis      Q1   834663\n4    Donald      Q1   580935\n5       Ted      Q1   656644\n6       Jeb      Q1   486141\n7     Stacy      Q1   479662\n8    Morgan      Q1   992673\n9     Boris      Q2   233879\n10      Bob      Q2   514863\n11    Tommy      Q2   113579\n12   Travis      Q2   266785\n13   Donald      Q2   411379\n14      Ted      Q2    70803\n15      Jeb      Q2   600753\n16    Stacy      Q2   742806\n17   Morgan      Q2   879183\n18    Boris      Q3   354479\n19      Bob      Q3   297151\n20    Tommy      Q3   430882\n21   Travis      Q3   749238\n22   Donald      Q3   110390\n23      Ted      Q3   375948\n24      Jeb      Q3   742716\n25    Stacy      Q3   770712\n26   Morgan      Q3    37945\n27    Boris      Q4    32704\n28      Bob      Q4   544493\n29    Tommy      Q4   247231\n30   Travis      Q4   570524\n31   Donald      Q4   651572\n32      Ted      Q4   321388\n33      Jeb      Q4   404995\n34    Stacy      Q4     2501\n35   Morgan      Q4   293710",
            "text/html": "<div>\n<style scoped>\n    .dataframe tbody tr th:only-of-type {\n        vertical-align: middle;\n    }\n\n    .dataframe tbody tr th {\n        vertical-align: top;\n    }\n\n    .dataframe thead th {\n        text-align: right;\n    }\n</style>\n<table border=\"1\" class=\"dataframe\">\n  <thead>\n    <tr style=\"text-align: right;\">\n      <th></th>\n      <th>Salesman</th>\n      <th>Quarter</th>\n      <th>Revenue</th>\n    </tr>\n  </thead>\n  <tbody>\n    <tr>\n      <th>0</th>\n      <td>Boris</td>\n      <td>Q1</td>\n      <td>602908</td>\n    </tr>\n    <tr>\n      <th>1</th>\n      <td>Bob</td>\n      <td>Q1</td>\n      <td>43790</td>\n    </tr>\n    <tr>\n      <th>2</th>\n      <td>Tommy</td>\n      <td>Q1</td>\n      <td>392668</td>\n    </tr>\n    <tr>\n      <th>3</th>\n      <td>Travis</td>\n      <td>Q1</td>\n      <td>834663</td>\n    </tr>\n    <tr>\n      <th>4</th>\n      <td>Donald</td>\n      <td>Q1</td>\n      <td>580935</td>\n    </tr>\n    <tr>\n      <th>5</th>\n      <td>Ted</td>\n      <td>Q1</td>\n      <td>656644</td>\n    </tr>\n    <tr>\n      <th>6</th>\n      <td>Jeb</td>\n      <td>Q1</td>\n      <td>486141</td>\n    </tr>\n    <tr>\n      <th>7</th>\n      <td>Stacy</td>\n      <td>Q1</td>\n      <td>479662</td>\n    </tr>\n    <tr>\n      <th>8</th>\n      <td>Morgan</td>\n      <td>Q1</td>\n      <td>992673</td>\n    </tr>\n    <tr>\n      <th>9</th>\n      <td>Boris</td>\n      <td>Q2</td>\n      <td>233879</td>\n    </tr>\n    <tr>\n      <th>10</th>\n      <td>Bob</td>\n      <td>Q2</td>\n      <td>514863</td>\n    </tr>\n    <tr>\n      <th>11</th>\n      <td>Tommy</td>\n      <td>Q2</td>\n      <td>113579</td>\n    </tr>\n    <tr>\n      <th>12</th>\n      <td>Travis</td>\n      <td>Q2</td>\n      <td>266785</td>\n    </tr>\n    <tr>\n      <th>13</th>\n      <td>Donald</td>\n      <td>Q2</td>\n      <td>411379</td>\n    </tr>\n    <tr>\n      <th>14</th>\n      <td>Ted</td>\n      <td>Q2</td>\n      <td>70803</td>\n    </tr>\n    <tr>\n      <th>15</th>\n      <td>Jeb</td>\n      <td>Q2</td>\n      <td>600753</td>\n    </tr>\n    <tr>\n      <th>16</th>\n      <td>Stacy</td>\n      <td>Q2</td>\n      <td>742806</td>\n    </tr>\n    <tr>\n      <th>17</th>\n      <td>Morgan</td>\n      <td>Q2</td>\n      <td>879183</td>\n    </tr>\n    <tr>\n      <th>18</th>\n      <td>Boris</td>\n      <td>Q3</td>\n      <td>354479</td>\n    </tr>\n    <tr>\n      <th>19</th>\n      <td>Bob</td>\n      <td>Q3</td>\n      <td>297151</td>\n    </tr>\n    <tr>\n      <th>20</th>\n      <td>Tommy</td>\n      <td>Q3</td>\n      <td>430882</td>\n    </tr>\n    <tr>\n      <th>21</th>\n      <td>Travis</td>\n      <td>Q3</td>\n      <td>749238</td>\n    </tr>\n    <tr>\n      <th>22</th>\n      <td>Donald</td>\n      <td>Q3</td>\n      <td>110390</td>\n    </tr>\n    <tr>\n      <th>23</th>\n      <td>Ted</td>\n      <td>Q3</td>\n      <td>375948</td>\n    </tr>\n    <tr>\n      <th>24</th>\n      <td>Jeb</td>\n      <td>Q3</td>\n      <td>742716</td>\n    </tr>\n    <tr>\n      <th>25</th>\n      <td>Stacy</td>\n      <td>Q3</td>\n      <td>770712</td>\n    </tr>\n    <tr>\n      <th>26</th>\n      <td>Morgan</td>\n      <td>Q3</td>\n      <td>37945</td>\n    </tr>\n    <tr>\n      <th>27</th>\n      <td>Boris</td>\n      <td>Q4</td>\n      <td>32704</td>\n    </tr>\n    <tr>\n      <th>28</th>\n      <td>Bob</td>\n      <td>Q4</td>\n      <td>544493</td>\n    </tr>\n    <tr>\n      <th>29</th>\n      <td>Tommy</td>\n      <td>Q4</td>\n      <td>247231</td>\n    </tr>\n    <tr>\n      <th>30</th>\n      <td>Travis</td>\n      <td>Q4</td>\n      <td>570524</td>\n    </tr>\n    <tr>\n      <th>31</th>\n      <td>Donald</td>\n      <td>Q4</td>\n      <td>651572</td>\n    </tr>\n    <tr>\n      <th>32</th>\n      <td>Ted</td>\n      <td>Q4</td>\n      <td>321388</td>\n    </tr>\n    <tr>\n      <th>33</th>\n      <td>Jeb</td>\n      <td>Q4</td>\n      <td>404995</td>\n    </tr>\n    <tr>\n      <th>34</th>\n      <td>Stacy</td>\n      <td>Q4</td>\n      <td>2501</td>\n    </tr>\n    <tr>\n      <th>35</th>\n      <td>Morgan</td>\n      <td>Q4</td>\n      <td>293710</td>\n    </tr>\n  </tbody>\n</table>\n</div>"
          },
          "metadata": {}
        }
      ]
    },
    {
      "cell_type": "code",
      "source": "",
      "metadata": {
        "collapsed": true,
        "jupyter": {
          "outputs_hidden": true
        }
      },
      "execution_count": null,
      "outputs": []
    },
    {
      "cell_type": "code",
      "source": "",
      "metadata": {
        "collapsed": true,
        "jupyter": {
          "outputs_hidden": true
        }
      },
      "execution_count": null,
      "outputs": []
    },
    {
      "cell_type": "code",
      "source": "",
      "metadata": {
        "collapsed": true,
        "jupyter": {
          "outputs_hidden": true
        }
      },
      "execution_count": null,
      "outputs": []
    },
    {
      "cell_type": "code",
      "source": "",
      "metadata": {
        "collapsed": true,
        "jupyter": {
          "outputs_hidden": true
        }
      },
      "execution_count": null,
      "outputs": []
    },
    {
      "cell_type": "code",
      "source": "",
      "metadata": {
        "collapsed": true,
        "jupyter": {
          "outputs_hidden": true
        }
      },
      "execution_count": null,
      "outputs": []
    },
    {
      "cell_type": "code",
      "source": "",
      "metadata": {
        "collapsed": true,
        "jupyter": {
          "outputs_hidden": true
        }
      },
      "execution_count": null,
      "outputs": []
    },
    {
      "cell_type": "code",
      "source": "",
      "metadata": {
        "collapsed": true,
        "jupyter": {
          "outputs_hidden": true
        }
      },
      "execution_count": null,
      "outputs": []
    },
    {
      "cell_type": "code",
      "source": "",
      "metadata": {
        "collapsed": true,
        "jupyter": {
          "outputs_hidden": true
        }
      },
      "execution_count": null,
      "outputs": []
    },
    {
      "cell_type": "code",
      "source": "",
      "metadata": {
        "collapsed": true,
        "jupyter": {
          "outputs_hidden": true
        }
      },
      "execution_count": null,
      "outputs": []
    },
    {
      "cell_type": "code",
      "source": "",
      "metadata": {
        "collapsed": true,
        "jupyter": {
          "outputs_hidden": true
        }
      },
      "execution_count": null,
      "outputs": []
    }
  ]
}