{
  "metadata": {
    "anaconda-cloud": {},
    "kernelspec": {
      "name": "python",
      "display_name": "Python (Pyodide)",
      "language": "python"
    },
    "language_info": {
      "codemirror_mode": {
        "name": "python",
        "version": 3
      },
      "file_extension": ".py",
      "mimetype": "text/x-python",
      "name": "python",
      "nbconvert_exporter": "python",
      "pygments_lexer": "ipython3",
      "version": "3.8"
    }
  },
  "nbformat_minor": 4,
  "nbformat": 4,
  "cells": [
    {
      "cell_type": "code",
      "source": "import pandas as pd",
      "metadata": {
        "tags": [],
        "trusted": true
      },
      "execution_count": 2,
      "outputs": []
    },
    {
      "cell_type": "code",
      "source": "nba = pd.read_csv(\"nba.csv\")",
      "metadata": {
        "collapsed": false,
        "jupyter": {
          "outputs_hidden": false
        },
        "trusted": true
      },
      "execution_count": 2,
      "outputs": []
    },
    {
      "cell_type": "markdown",
      "source": "## Shared Methods and Attributes",
      "metadata": {}
    },
    {
      "cell_type": "code",
      "source": "nba = pd.read_csv(\"nba.csv\")",
      "metadata": {
        "tags": [],
        "trusted": true
      },
      "execution_count": 3,
      "outputs": []
    },
    {
      "cell_type": "code",
      "source": "nba.head(5)",
      "metadata": {
        "collapsed": false,
        "jupyter": {
          "outputs_hidden": false
        },
        "trusted": true
      },
      "execution_count": 5,
      "outputs": [
        {
          "execution_count": 5,
          "output_type": "execute_result",
          "data": {
            "text/plain": "            Name            Team  Number Position   Age Height  Weight  \\\n0  Avery Bradley  Boston Celtics     0.0       PG  25.0    6-2   180.0   \n1    Jae Crowder  Boston Celtics    99.0       SF  25.0    6-6   235.0   \n2   John Holland  Boston Celtics    30.0       SG  27.0    6-5   205.0   \n3    R.J. Hunter  Boston Celtics    28.0       SG  22.0    6-5   185.0   \n4  Jonas Jerebko  Boston Celtics     8.0       PF  29.0   6-10   231.0   \n\n             College     Salary  \n0              Texas  7730337.0  \n1          Marquette  6796117.0  \n2  Boston University        NaN  \n3      Georgia State  1148640.0  \n4                NaN  5000000.0  ",
            "text/html": "<div>\n<style scoped>\n    .dataframe tbody tr th:only-of-type {\n        vertical-align: middle;\n    }\n\n    .dataframe tbody tr th {\n        vertical-align: top;\n    }\n\n    .dataframe thead th {\n        text-align: right;\n    }\n</style>\n<table border=\"1\" class=\"dataframe\">\n  <thead>\n    <tr style=\"text-align: right;\">\n      <th></th>\n      <th>Name</th>\n      <th>Team</th>\n      <th>Number</th>\n      <th>Position</th>\n      <th>Age</th>\n      <th>Height</th>\n      <th>Weight</th>\n      <th>College</th>\n      <th>Salary</th>\n    </tr>\n  </thead>\n  <tbody>\n    <tr>\n      <th>0</th>\n      <td>Avery Bradley</td>\n      <td>Boston Celtics</td>\n      <td>0.0</td>\n      <td>PG</td>\n      <td>25.0</td>\n      <td>6-2</td>\n      <td>180.0</td>\n      <td>Texas</td>\n      <td>7730337.0</td>\n    </tr>\n    <tr>\n      <th>1</th>\n      <td>Jae Crowder</td>\n      <td>Boston Celtics</td>\n      <td>99.0</td>\n      <td>SF</td>\n      <td>25.0</td>\n      <td>6-6</td>\n      <td>235.0</td>\n      <td>Marquette</td>\n      <td>6796117.0</td>\n    </tr>\n    <tr>\n      <th>2</th>\n      <td>John Holland</td>\n      <td>Boston Celtics</td>\n      <td>30.0</td>\n      <td>SG</td>\n      <td>27.0</td>\n      <td>6-5</td>\n      <td>205.0</td>\n      <td>Boston University</td>\n      <td>NaN</td>\n    </tr>\n    <tr>\n      <th>3</th>\n      <td>R.J. Hunter</td>\n      <td>Boston Celtics</td>\n      <td>28.0</td>\n      <td>SG</td>\n      <td>22.0</td>\n      <td>6-5</td>\n      <td>185.0</td>\n      <td>Georgia State</td>\n      <td>1148640.0</td>\n    </tr>\n    <tr>\n      <th>4</th>\n      <td>Jonas Jerebko</td>\n      <td>Boston Celtics</td>\n      <td>8.0</td>\n      <td>PF</td>\n      <td>29.0</td>\n      <td>6-10</td>\n      <td>231.0</td>\n      <td>NaN</td>\n      <td>5000000.0</td>\n    </tr>\n  </tbody>\n</table>\n</div>"
          },
          "metadata": {}
        }
      ]
    },
    {
      "cell_type": "code",
      "source": "nba.tail()",
      "metadata": {
        "collapsed": false,
        "jupyter": {
          "outputs_hidden": false
        }
      },
      "execution_count": 9,
      "outputs": [
        {
          "execution_count": 9,
          "output_type": "execute_result",
          "data": {
            "text/html": [
              "<div>\n",
              "<table border=\"1\" class=\"dataframe\">\n",
              "  <thead>\n",
              "    <tr style=\"text-align: right;\">\n",
              "      <th></th>\n",
              "      <th>Name</th>\n",
              "      <th>Team</th>\n",
              "      <th>Number</th>\n",
              "      <th>Position</th>\n",
              "      <th>Age</th>\n",
              "      <th>Height</th>\n",
              "      <th>Weight</th>\n",
              "      <th>College</th>\n",
              "      <th>Salary</th>\n",
              "    </tr>\n",
              "  </thead>\n",
              "  <tbody>\n",
              "    <tr>\n",
              "      <th>453</th>\n",
              "      <td>Shelvin Mack</td>\n",
              "      <td>Utah Jazz</td>\n",
              "      <td>8.0</td>\n",
              "      <td>PG</td>\n",
              "      <td>26.0</td>\n",
              "      <td>6-3</td>\n",
              "      <td>203.0</td>\n",
              "      <td>Butler</td>\n",
              "      <td>2433333.0</td>\n",
              "    </tr>\n",
              "    <tr>\n",
              "      <th>454</th>\n",
              "      <td>Raul Neto</td>\n",
              "      <td>Utah Jazz</td>\n",
              "      <td>25.0</td>\n",
              "      <td>PG</td>\n",
              "      <td>24.0</td>\n",
              "      <td>6-1</td>\n",
              "      <td>179.0</td>\n",
              "      <td>NaN</td>\n",
              "      <td>900000.0</td>\n",
              "    </tr>\n",
              "    <tr>\n",
              "      <th>455</th>\n",
              "      <td>Tibor Pleiss</td>\n",
              "      <td>Utah Jazz</td>\n",
              "      <td>21.0</td>\n",
              "      <td>C</td>\n",
              "      <td>26.0</td>\n",
              "      <td>7-3</td>\n",
              "      <td>256.0</td>\n",
              "      <td>NaN</td>\n",
              "      <td>2900000.0</td>\n",
              "    </tr>\n",
              "    <tr>\n",
              "      <th>456</th>\n",
              "      <td>Jeff Withey</td>\n",
              "      <td>Utah Jazz</td>\n",
              "      <td>24.0</td>\n",
              "      <td>C</td>\n",
              "      <td>26.0</td>\n",
              "      <td>7-0</td>\n",
              "      <td>231.0</td>\n",
              "      <td>Kansas</td>\n",
              "      <td>947276.0</td>\n",
              "    </tr>\n",
              "    <tr>\n",
              "      <th>457</th>\n",
              "      <td>NaN</td>\n",
              "      <td>NaN</td>\n",
              "      <td>NaN</td>\n",
              "      <td>NaN</td>\n",
              "      <td>NaN</td>\n",
              "      <td>NaN</td>\n",
              "      <td>NaN</td>\n",
              "      <td>NaN</td>\n",
              "      <td>NaN</td>\n",
              "    </tr>\n",
              "  </tbody>\n",
              "</table>\n",
              "</div>"
            ],
            "text/plain": [
              "             Name       Team  Number Position   Age Height  Weight College  \\\n",
              "453  Shelvin Mack  Utah Jazz     8.0       PG  26.0    6-3   203.0  Butler   \n",
              "454     Raul Neto  Utah Jazz    25.0       PG  24.0    6-1   179.0     NaN   \n",
              "455  Tibor Pleiss  Utah Jazz    21.0        C  26.0    7-3   256.0     NaN   \n",
              "456   Jeff Withey  Utah Jazz    24.0        C  26.0    7-0   231.0  Kansas   \n",
              "457           NaN        NaN     NaN      NaN   NaN    NaN     NaN     NaN   \n",
              "\n",
              "        Salary  \n",
              "453  2433333.0  \n",
              "454   900000.0  \n",
              "455  2900000.0  \n",
              "456   947276.0  \n",
              "457        NaN  "
            ]
          },
          "metadata": {}
        }
      ]
    },
    {
      "cell_type": "code",
      "source": "nba.tail(n=7)",
      "metadata": {
        "trusted": true
      },
      "execution_count": 8,
      "outputs": [
        {
          "execution_count": 8,
          "output_type": "execute_result",
          "data": {
            "text/plain": "              Name       Team  Number Position   Age Height  Weight   College  \\\n451  Chris Johnson  Utah Jazz    23.0       SF  26.0    6-6   206.0    Dayton   \n452     Trey Lyles  Utah Jazz    41.0       PF  20.0   6-10   234.0  Kentucky   \n453   Shelvin Mack  Utah Jazz     8.0       PG  26.0    6-3   203.0    Butler   \n454      Raul Neto  Utah Jazz    25.0       PG  24.0    6-1   179.0       NaN   \n455   Tibor Pleiss  Utah Jazz    21.0        C  26.0    7-3   256.0       NaN   \n456    Jeff Withey  Utah Jazz    24.0        C  26.0    7-0   231.0    Kansas   \n457            NaN        NaN     NaN      NaN   NaN    NaN     NaN       NaN   \n\n        Salary  \n451   981348.0  \n452  2239800.0  \n453  2433333.0  \n454   900000.0  \n455  2900000.0  \n456   947276.0  \n457        NaN  ",
            "text/html": "<div>\n<style scoped>\n    .dataframe tbody tr th:only-of-type {\n        vertical-align: middle;\n    }\n\n    .dataframe tbody tr th {\n        vertical-align: top;\n    }\n\n    .dataframe thead th {\n        text-align: right;\n    }\n</style>\n<table border=\"1\" class=\"dataframe\">\n  <thead>\n    <tr style=\"text-align: right;\">\n      <th></th>\n      <th>Name</th>\n      <th>Team</th>\n      <th>Number</th>\n      <th>Position</th>\n      <th>Age</th>\n      <th>Height</th>\n      <th>Weight</th>\n      <th>College</th>\n      <th>Salary</th>\n    </tr>\n  </thead>\n  <tbody>\n    <tr>\n      <th>451</th>\n      <td>Chris Johnson</td>\n      <td>Utah Jazz</td>\n      <td>23.0</td>\n      <td>SF</td>\n      <td>26.0</td>\n      <td>6-6</td>\n      <td>206.0</td>\n      <td>Dayton</td>\n      <td>981348.0</td>\n    </tr>\n    <tr>\n      <th>452</th>\n      <td>Trey Lyles</td>\n      <td>Utah Jazz</td>\n      <td>41.0</td>\n      <td>PF</td>\n      <td>20.0</td>\n      <td>6-10</td>\n      <td>234.0</td>\n      <td>Kentucky</td>\n      <td>2239800.0</td>\n    </tr>\n    <tr>\n      <th>453</th>\n      <td>Shelvin Mack</td>\n      <td>Utah Jazz</td>\n      <td>8.0</td>\n      <td>PG</td>\n      <td>26.0</td>\n      <td>6-3</td>\n      <td>203.0</td>\n      <td>Butler</td>\n      <td>2433333.0</td>\n    </tr>\n    <tr>\n      <th>454</th>\n      <td>Raul Neto</td>\n      <td>Utah Jazz</td>\n      <td>25.0</td>\n      <td>PG</td>\n      <td>24.0</td>\n      <td>6-1</td>\n      <td>179.0</td>\n      <td>NaN</td>\n      <td>900000.0</td>\n    </tr>\n    <tr>\n      <th>455</th>\n      <td>Tibor Pleiss</td>\n      <td>Utah Jazz</td>\n      <td>21.0</td>\n      <td>C</td>\n      <td>26.0</td>\n      <td>7-3</td>\n      <td>256.0</td>\n      <td>NaN</td>\n      <td>2900000.0</td>\n    </tr>\n    <tr>\n      <th>456</th>\n      <td>Jeff Withey</td>\n      <td>Utah Jazz</td>\n      <td>24.0</td>\n      <td>C</td>\n      <td>26.0</td>\n      <td>7-0</td>\n      <td>231.0</td>\n      <td>Kansas</td>\n      <td>947276.0</td>\n    </tr>\n    <tr>\n      <th>457</th>\n      <td>NaN</td>\n      <td>NaN</td>\n      <td>NaN</td>\n      <td>NaN</td>\n      <td>NaN</td>\n      <td>NaN</td>\n      <td>NaN</td>\n      <td>NaN</td>\n      <td>NaN</td>\n    </tr>\n  </tbody>\n</table>\n</div>"
          },
          "metadata": {}
        }
      ]
    },
    {
      "cell_type": "code",
      "source": "nba.index",
      "metadata": {
        "collapsed": false,
        "jupyter": {
          "outputs_hidden": false
        }
      },
      "execution_count": 10,
      "outputs": [
        {
          "execution_count": 10,
          "output_type": "execute_result",
          "data": {
            "text/plain": [
              "RangeIndex(start=0, stop=458, step=1)"
            ]
          },
          "metadata": {}
        }
      ]
    },
    {
      "cell_type": "code",
      "source": "nba.values",
      "metadata": {
        "collapsed": false,
        "jupyter": {
          "outputs_hidden": false
        }
      },
      "execution_count": 11,
      "outputs": [
        {
          "execution_count": 11,
          "output_type": "execute_result",
          "data": {
            "text/plain": [
              "array([['Avery Bradley', 'Boston Celtics', 0.0, ..., 180.0, 'Texas',\n",
              "        7730337.0],\n",
              "       ['Jae Crowder', 'Boston Celtics', 99.0, ..., 235.0, 'Marquette',\n",
              "        6796117.0],\n",
              "       ['John Holland', 'Boston Celtics', 30.0, ..., 205.0,\n",
              "        'Boston University', nan],\n",
              "       ..., \n",
              "       ['Tibor Pleiss', 'Utah Jazz', 21.0, ..., 256.0, nan, 2900000.0],\n",
              "       ['Jeff Withey', 'Utah Jazz', 24.0, ..., 231.0, 'Kansas', 947276.0],\n",
              "       [nan, nan, nan, ..., nan, nan, nan]], dtype=object)"
            ]
          },
          "metadata": {}
        }
      ]
    },
    {
      "cell_type": "code",
      "source": "nba.shape",
      "metadata": {
        "collapsed": false,
        "jupyter": {
          "outputs_hidden": false
        }
      },
      "execution_count": 12,
      "outputs": [
        {
          "execution_count": 12,
          "output_type": "execute_result",
          "data": {
            "text/plain": [
              "(458, 9)"
            ]
          },
          "metadata": {}
        }
      ]
    },
    {
      "cell_type": "code",
      "source": "nba.describe",
      "metadata": {
        "trusted": true
      },
      "execution_count": 6,
      "outputs": [
        {
          "execution_count": 6,
          "output_type": "execute_result",
          "data": {
            "text/plain": "<bound method NDFrame.describe of               Name            Team  Number Position   Age Height  Weight  \\\n0    Avery Bradley  Boston Celtics     0.0       PG  25.0    6-2   180.0   \n1      Jae Crowder  Boston Celtics    99.0       SF  25.0    6-6   235.0   \n2     John Holland  Boston Celtics    30.0       SG  27.0    6-5   205.0   \n3      R.J. Hunter  Boston Celtics    28.0       SG  22.0    6-5   185.0   \n4    Jonas Jerebko  Boston Celtics     8.0       PF  29.0   6-10   231.0   \n..             ...             ...     ...      ...   ...    ...     ...   \n453   Shelvin Mack       Utah Jazz     8.0       PG  26.0    6-3   203.0   \n454      Raul Neto       Utah Jazz    25.0       PG  24.0    6-1   179.0   \n455   Tibor Pleiss       Utah Jazz    21.0        C  26.0    7-3   256.0   \n456    Jeff Withey       Utah Jazz    24.0        C  26.0    7-0   231.0   \n457            NaN             NaN     NaN      NaN   NaN    NaN     NaN   \n\n               College     Salary  \n0                Texas  7730337.0  \n1            Marquette  6796117.0  \n2    Boston University        NaN  \n3        Georgia State  1148640.0  \n4                  NaN  5000000.0  \n..                 ...        ...  \n453             Butler  2433333.0  \n454                NaN   900000.0  \n455                NaN  2900000.0  \n456             Kansas   947276.0  \n457                NaN        NaN  \n\n[458 rows x 9 columns]>"
          },
          "metadata": {}
        }
      ]
    },
    {
      "cell_type": "code",
      "source": "nba.dtypes",
      "metadata": {
        "collapsed": false,
        "jupyter": {
          "outputs_hidden": false
        }
      },
      "execution_count": 13,
      "outputs": [
        {
          "execution_count": 13,
          "output_type": "execute_result",
          "data": {
            "text/plain": [
              "Name         object\n",
              "Team         object\n",
              "Number      float64\n",
              "Position     object\n",
              "Age         float64\n",
              "Height       object\n",
              "Weight      float64\n",
              "College      object\n",
              "Salary      float64\n",
              "dtype: object"
            ]
          },
          "metadata": {}
        }
      ]
    },
    {
      "cell_type": "code",
      "source": "nba.head()",
      "metadata": {
        "collapsed": false,
        "jupyter": {
          "outputs_hidden": false
        }
      },
      "execution_count": 14,
      "outputs": [
        {
          "execution_count": 14,
          "output_type": "execute_result",
          "data": {
            "text/html": [
              "<div>\n",
              "<table border=\"1\" class=\"dataframe\">\n",
              "  <thead>\n",
              "    <tr style=\"text-align: right;\">\n",
              "      <th></th>\n",
              "      <th>Name</th>\n",
              "      <th>Team</th>\n",
              "      <th>Number</th>\n",
              "      <th>Position</th>\n",
              "      <th>Age</th>\n",
              "      <th>Height</th>\n",
              "      <th>Weight</th>\n",
              "      <th>College</th>\n",
              "      <th>Salary</th>\n",
              "    </tr>\n",
              "  </thead>\n",
              "  <tbody>\n",
              "    <tr>\n",
              "      <th>0</th>\n",
              "      <td>Avery Bradley</td>\n",
              "      <td>Boston Celtics</td>\n",
              "      <td>0.0</td>\n",
              "      <td>PG</td>\n",
              "      <td>25.0</td>\n",
              "      <td>6-2</td>\n",
              "      <td>180.0</td>\n",
              "      <td>Texas</td>\n",
              "      <td>7730337.0</td>\n",
              "    </tr>\n",
              "    <tr>\n",
              "      <th>1</th>\n",
              "      <td>Jae Crowder</td>\n",
              "      <td>Boston Celtics</td>\n",
              "      <td>99.0</td>\n",
              "      <td>SF</td>\n",
              "      <td>25.0</td>\n",
              "      <td>6-6</td>\n",
              "      <td>235.0</td>\n",
              "      <td>Marquette</td>\n",
              "      <td>6796117.0</td>\n",
              "    </tr>\n",
              "    <tr>\n",
              "      <th>2</th>\n",
              "      <td>John Holland</td>\n",
              "      <td>Boston Celtics</td>\n",
              "      <td>30.0</td>\n",
              "      <td>SG</td>\n",
              "      <td>27.0</td>\n",
              "      <td>6-5</td>\n",
              "      <td>205.0</td>\n",
              "      <td>Boston University</td>\n",
              "      <td>NaN</td>\n",
              "    </tr>\n",
              "    <tr>\n",
              "      <th>3</th>\n",
              "      <td>R.J. Hunter</td>\n",
              "      <td>Boston Celtics</td>\n",
              "      <td>28.0</td>\n",
              "      <td>SG</td>\n",
              "      <td>22.0</td>\n",
              "      <td>6-5</td>\n",
              "      <td>185.0</td>\n",
              "      <td>Georgia State</td>\n",
              "      <td>1148640.0</td>\n",
              "    </tr>\n",
              "    <tr>\n",
              "      <th>4</th>\n",
              "      <td>Jonas Jerebko</td>\n",
              "      <td>Boston Celtics</td>\n",
              "      <td>8.0</td>\n",
              "      <td>PF</td>\n",
              "      <td>29.0</td>\n",
              "      <td>6-10</td>\n",
              "      <td>231.0</td>\n",
              "      <td>NaN</td>\n",
              "      <td>5000000.0</td>\n",
              "    </tr>\n",
              "  </tbody>\n",
              "</table>\n",
              "</div>"
            ],
            "text/plain": [
              "            Name            Team  Number Position   Age Height  Weight  \\\n",
              "0  Avery Bradley  Boston Celtics     0.0       PG  25.0    6-2   180.0   \n",
              "1    Jae Crowder  Boston Celtics    99.0       SF  25.0    6-6   235.0   \n",
              "2   John Holland  Boston Celtics    30.0       SG  27.0    6-5   205.0   \n",
              "3    R.J. Hunter  Boston Celtics    28.0       SG  22.0    6-5   185.0   \n",
              "4  Jonas Jerebko  Boston Celtics     8.0       PF  29.0   6-10   231.0   \n",
              "\n",
              "             College     Salary  \n",
              "0              Texas  7730337.0  \n",
              "1          Marquette  6796117.0  \n",
              "2  Boston University        NaN  \n",
              "3      Georgia State  1148640.0  \n",
              "4                NaN  5000000.0  "
            ]
          },
          "metadata": {}
        }
      ]
    },
    {
      "cell_type": "code",
      "source": "nba.columns",
      "metadata": {
        "collapsed": false,
        "jupyter": {
          "outputs_hidden": false
        }
      },
      "execution_count": 15,
      "outputs": [
        {
          "execution_count": 15,
          "output_type": "execute_result",
          "data": {
            "text/plain": [
              "Index([u'Name', u'Team', u'Number', u'Position', u'Age', u'Height', u'Weight',\n",
              "       u'College', u'Salary'],\n",
              "      dtype='object')"
            ]
          },
          "metadata": {}
        }
      ]
    },
    {
      "cell_type": "code",
      "source": "nba.axes",
      "metadata": {
        "collapsed": false,
        "jupyter": {
          "outputs_hidden": false
        }
      },
      "execution_count": 16,
      "outputs": [
        {
          "execution_count": 16,
          "output_type": "execute_result",
          "data": {
            "text/plain": [
              "[RangeIndex(start=0, stop=458, step=1),\n",
              " Index([u'Name', u'Team', u'Number', u'Position', u'Age', u'Height', u'Weight',\n",
              "        u'College', u'Salary'],\n",
              "       dtype='object')]"
            ]
          },
          "metadata": {}
        }
      ]
    },
    {
      "cell_type": "code",
      "source": "nba.info()",
      "metadata": {
        "collapsed": false,
        "jupyter": {
          "outputs_hidden": false
        }
      },
      "execution_count": 17,
      "outputs": [
        {
          "name": "stdout",
          "output_type": "stream",
          "text": "<class 'pandas.core.frame.DataFrame'>\n\nRangeIndex: 458 entries, 0 to 457\n\nData columns (total 9 columns):\n\nName        457 non-null object\n\nTeam        457 non-null object\n\nNumber      457 non-null float64\n\nPosition    457 non-null object\n\nAge         457 non-null float64\n\nHeight      457 non-null object\n\nWeight      457 non-null float64\n\nCollege     373 non-null object\n\nSalary      446 non-null float64\n\ndtypes: float64(4), object(5)\n\nmemory usage: 32.3+ KB\n"
        }
      ]
    },
    {
      "cell_type": "code",
      "source": "nba.get_dtype_counts()",
      "metadata": {
        "collapsed": false,
        "jupyter": {
          "outputs_hidden": false
        }
      },
      "execution_count": 18,
      "outputs": [
        {
          "execution_count": 18,
          "output_type": "execute_result",
          "data": {
            "text/plain": [
              "float64    4\n",
              "object     5\n",
              "dtype: int64"
            ]
          },
          "metadata": {}
        }
      ]
    },
    {
      "cell_type": "code",
      "source": "rev = pd.read_csv(\"revenue.csv\", index_col = \"Date\")\nrev.head(3)",
      "metadata": {
        "collapsed": false,
        "jupyter": {
          "outputs_hidden": false
        },
        "trusted": true
      },
      "execution_count": 21,
      "outputs": [
        {
          "execution_count": 21,
          "output_type": "execute_result",
          "data": {
            "text/plain": "        New York  Los Angeles  Miami\nDate                                \n1/1/16       985          122    499\n1/2/16       738          788    534\n1/3/16        14           20    933",
            "text/html": "<div>\n<style scoped>\n    .dataframe tbody tr th:only-of-type {\n        vertical-align: middle;\n    }\n\n    .dataframe tbody tr th {\n        vertical-align: top;\n    }\n\n    .dataframe thead th {\n        text-align: right;\n    }\n</style>\n<table border=\"1\" class=\"dataframe\">\n  <thead>\n    <tr style=\"text-align: right;\">\n      <th></th>\n      <th>New York</th>\n      <th>Los Angeles</th>\n      <th>Miami</th>\n    </tr>\n    <tr>\n      <th>Date</th>\n      <th></th>\n      <th></th>\n      <th></th>\n    </tr>\n  </thead>\n  <tbody>\n    <tr>\n      <th>1/1/16</th>\n      <td>985</td>\n      <td>122</td>\n      <td>499</td>\n    </tr>\n    <tr>\n      <th>1/2/16</th>\n      <td>738</td>\n      <td>788</td>\n      <td>534</td>\n    </tr>\n    <tr>\n      <th>1/3/16</th>\n      <td>14</td>\n      <td>20</td>\n      <td>933</td>\n    </tr>\n  </tbody>\n</table>\n</div>"
          },
          "metadata": {}
        }
      ]
    },
    {
      "cell_type": "code",
      "source": "rev.head(5)",
      "metadata": {
        "trusted": true
      },
      "execution_count": 22,
      "outputs": [
        {
          "execution_count": 22,
          "output_type": "execute_result",
          "data": {
            "text/plain": "        New York  Los Angeles  Miami\nDate                                \n1/1/16       985          122    499\n1/2/16       738          788    534\n1/3/16        14           20    933\n1/4/16       730          904    885\n1/5/16       114           71    253",
            "text/html": "<div>\n<style scoped>\n    .dataframe tbody tr th:only-of-type {\n        vertical-align: middle;\n    }\n\n    .dataframe tbody tr th {\n        vertical-align: top;\n    }\n\n    .dataframe thead th {\n        text-align: right;\n    }\n</style>\n<table border=\"1\" class=\"dataframe\">\n  <thead>\n    <tr style=\"text-align: right;\">\n      <th></th>\n      <th>New York</th>\n      <th>Los Angeles</th>\n      <th>Miami</th>\n    </tr>\n    <tr>\n      <th>Date</th>\n      <th></th>\n      <th></th>\n      <th></th>\n    </tr>\n  </thead>\n  <tbody>\n    <tr>\n      <th>1/1/16</th>\n      <td>985</td>\n      <td>122</td>\n      <td>499</td>\n    </tr>\n    <tr>\n      <th>1/2/16</th>\n      <td>738</td>\n      <td>788</td>\n      <td>534</td>\n    </tr>\n    <tr>\n      <th>1/3/16</th>\n      <td>14</td>\n      <td>20</td>\n      <td>933</td>\n    </tr>\n    <tr>\n      <th>1/4/16</th>\n      <td>730</td>\n      <td>904</td>\n      <td>885</td>\n    </tr>\n    <tr>\n      <th>1/5/16</th>\n      <td>114</td>\n      <td>71</td>\n      <td>253</td>\n    </tr>\n  </tbody>\n</table>\n</div>"
          },
          "metadata": {}
        }
      ]
    },
    {
      "cell_type": "code",
      "source": "rev.sum()",
      "metadata": {
        "trusted": true
      },
      "execution_count": 23,
      "outputs": [
        {
          "execution_count": 23,
          "output_type": "execute_result",
          "data": {
            "text/plain": "New York       5475\nLos Angeles    5134\nMiami          5641\ndtype: int64"
          },
          "metadata": {}
        }
      ]
    },
    {
      "cell_type": "code",
      "source": "rev.sum(axis =\"index\")",
      "metadata": {
        "trusted": true
      },
      "execution_count": 26,
      "outputs": [
        {
          "execution_count": 26,
          "output_type": "execute_result",
          "data": {
            "text/plain": "New York       5475\nLos Angeles    5134\nMiami          5641\ndtype: int64"
          },
          "metadata": {}
        }
      ]
    },
    {
      "cell_type": "code",
      "source": "",
      "metadata": {},
      "execution_count": null,
      "outputs": []
    },
    {
      "cell_type": "code",
      "source": "",
      "metadata": {},
      "execution_count": null,
      "outputs": []
    },
    {
      "cell_type": "code",
      "source": "",
      "metadata": {},
      "execution_count": null,
      "outputs": []
    },
    {
      "cell_type": "raw",
      "source": "",
      "metadata": {}
    },
    {
      "cell_type": "markdown",
      "source": "",
      "metadata": {}
    },
    {
      "cell_type": "code",
      "source": "",
      "metadata": {},
      "execution_count": null,
      "outputs": []
    },
    {
      "cell_type": "code",
      "source": "",
      "metadata": {},
      "execution_count": null,
      "outputs": []
    },
    {
      "cell_type": "code",
      "source": "s = pd.Series([1, 2, 3])\ns.sum()",
      "metadata": {
        "collapsed": false,
        "jupyter": {
          "outputs_hidden": false
        }
      },
      "execution_count": 22,
      "outputs": [
        {
          "execution_count": 22,
          "output_type": "execute_result",
          "data": {
            "text/plain": [
              "6"
            ]
          },
          "metadata": {}
        }
      ]
    },
    {
      "cell_type": "code",
      "source": "rev.sum(axis = \"columns\")",
      "metadata": {
        "collapsed": false,
        "jupyter": {
          "outputs_hidden": false
        }
      },
      "execution_count": 27,
      "outputs": [
        {
          "execution_count": 27,
          "output_type": "execute_result",
          "data": {
            "text/plain": [
              "Date\n",
              "1/1/16     1606\n",
              "1/2/16     2060\n",
              "1/3/16      967\n",
              "1/4/16     2519\n",
              "1/5/16      438\n",
              "1/6/16     1935\n",
              "1/7/16     1234\n",
              "1/8/16     2313\n",
              "1/9/16     2623\n",
              "1/10/16     555\n",
              "dtype: int64"
            ]
          },
          "metadata": {}
        }
      ]
    },
    {
      "cell_type": "code",
      "source": "",
      "metadata": {},
      "execution_count": null,
      "outputs": []
    },
    {
      "cell_type": "code",
      "source": "count=0\nwhile (count<3):\n    count= count+1\n    print(\"Hello World!\")",
      "metadata": {
        "trusted": true
      },
      "execution_count": 10,
      "outputs": [
        {
          "name": "stdout",
          "text": "Hello World!\nHello World!\nHello World!\n",
          "output_type": "stream"
        }
      ]
    },
    {
      "cell_type": "code",
      "source": "a = [1,2,3,4]\nwhile a:\n    print(a.pop())",
      "metadata": {
        "trusted": true
      },
      "execution_count": 11,
      "outputs": [
        {
          "name": "stdout",
          "text": "4\n3\n2\n1\n",
          "output_type": "stream"
        }
      ]
    },
    {
      "cell_type": "code",
      "source": "for i in range(1,5):\n    print(i)",
      "metadata": {
        "trusted": true
      },
      "execution_count": 12,
      "outputs": [
        {
          "name": "stdout",
          "text": "1\n2\n3\n4\n",
          "output_type": "stream"
        }
      ]
    },
    {
      "cell_type": "code",
      "source": "for i in range (6):\n    print(i, end=\" \")\n    print()",
      "metadata": {
        "trusted": true
      },
      "execution_count": 13,
      "outputs": [
        {
          "name": "stdout",
          "text": "0 \n1 \n2 \n3 \n4 \n5 \n",
          "output_type": "stream"
        }
      ]
    },
    {
      "cell_type": "code",
      "source": "",
      "metadata": {},
      "execution_count": null,
      "outputs": []
    },
    {
      "cell_type": "code",
      "source": "",
      "metadata": {},
      "execution_count": null,
      "outputs": []
    },
    {
      "cell_type": "code",
      "source": "",
      "metadata": {},
      "execution_count": null,
      "outputs": []
    },
    {
      "cell_type": "code",
      "source": "",
      "metadata": {},
      "execution_count": null,
      "outputs": []
    },
    {
      "cell_type": "code",
      "source": "",
      "metadata": {},
      "execution_count": null,
      "outputs": []
    },
    {
      "cell_type": "markdown",
      "source": "## Select One Column from a `DataFrame`",
      "metadata": {}
    },
    {
      "cell_type": "code",
      "source": "nba = pd.read_csv(\"nba.csv\")\nnba.head(3)",
      "metadata": {
        "collapsed": false,
        "jupyter": {
          "outputs_hidden": false
        },
        "trusted": true
      },
      "execution_count": 3,
      "outputs": [
        {
          "execution_count": 3,
          "output_type": "execute_result",
          "data": {
            "text/plain": "            Name            Team  Number Position   Age Height  Weight  \\\n0  Avery Bradley  Boston Celtics     0.0       PG  25.0    6-2   180.0   \n1    Jae Crowder  Boston Celtics    99.0       SF  25.0    6-6   235.0   \n2   John Holland  Boston Celtics    30.0       SG  27.0    6-5   205.0   \n\n             College     Salary  \n0              Texas  7730337.0  \n1          Marquette  6796117.0  \n2  Boston University        NaN  ",
            "text/html": "<div>\n<style scoped>\n    .dataframe tbody tr th:only-of-type {\n        vertical-align: middle;\n    }\n\n    .dataframe tbody tr th {\n        vertical-align: top;\n    }\n\n    .dataframe thead th {\n        text-align: right;\n    }\n</style>\n<table border=\"1\" class=\"dataframe\">\n  <thead>\n    <tr style=\"text-align: right;\">\n      <th></th>\n      <th>Name</th>\n      <th>Team</th>\n      <th>Number</th>\n      <th>Position</th>\n      <th>Age</th>\n      <th>Height</th>\n      <th>Weight</th>\n      <th>College</th>\n      <th>Salary</th>\n    </tr>\n  </thead>\n  <tbody>\n    <tr>\n      <th>0</th>\n      <td>Avery Bradley</td>\n      <td>Boston Celtics</td>\n      <td>0.0</td>\n      <td>PG</td>\n      <td>25.0</td>\n      <td>6-2</td>\n      <td>180.0</td>\n      <td>Texas</td>\n      <td>7730337.0</td>\n    </tr>\n    <tr>\n      <th>1</th>\n      <td>Jae Crowder</td>\n      <td>Boston Celtics</td>\n      <td>99.0</td>\n      <td>SF</td>\n      <td>25.0</td>\n      <td>6-6</td>\n      <td>235.0</td>\n      <td>Marquette</td>\n      <td>6796117.0</td>\n    </tr>\n    <tr>\n      <th>2</th>\n      <td>John Holland</td>\n      <td>Boston Celtics</td>\n      <td>30.0</td>\n      <td>SG</td>\n      <td>27.0</td>\n      <td>6-5</td>\n      <td>205.0</td>\n      <td>Boston University</td>\n      <td>NaN</td>\n    </tr>\n  </tbody>\n</table>\n</div>"
          },
          "metadata": {}
        }
      ]
    },
    {
      "cell_type": "markdown",
      "source": "## Select Two or More Columns from A `DataFrame`",
      "metadata": {}
    },
    {
      "cell_type": "code",
      "source": "nba = pd.read_csv(\"nba.csv\")\nnba.head(3)",
      "metadata": {
        "tags": []
      },
      "execution_count": 64,
      "outputs": [
        {
          "execution_count": 64,
          "output_type": "execute_result",
          "data": {
            "text/html": [
              "<div>\n",
              "<table border=\"1\" class=\"dataframe\">\n",
              "  <thead>\n",
              "    <tr style=\"text-align: right;\">\n",
              "      <th></th>\n",
              "      <th>Name</th>\n",
              "      <th>Team</th>\n",
              "      <th>Number</th>\n",
              "      <th>Position</th>\n",
              "      <th>Age</th>\n",
              "      <th>Height</th>\n",
              "      <th>Weight</th>\n",
              "      <th>College</th>\n",
              "      <th>Salary</th>\n",
              "    </tr>\n",
              "  </thead>\n",
              "  <tbody>\n",
              "    <tr>\n",
              "      <th>0</th>\n",
              "      <td>Avery Bradley</td>\n",
              "      <td>Boston Celtics</td>\n",
              "      <td>0.0</td>\n",
              "      <td>PG</td>\n",
              "      <td>25.0</td>\n",
              "      <td>6-2</td>\n",
              "      <td>180.0</td>\n",
              "      <td>Texas</td>\n",
              "      <td>7730337.0</td>\n",
              "    </tr>\n",
              "    <tr>\n",
              "      <th>1</th>\n",
              "      <td>Jae Crowder</td>\n",
              "      <td>Boston Celtics</td>\n",
              "      <td>99.0</td>\n",
              "      <td>SF</td>\n",
              "      <td>25.0</td>\n",
              "      <td>6-6</td>\n",
              "      <td>235.0</td>\n",
              "      <td>Marquette</td>\n",
              "      <td>6796117.0</td>\n",
              "    </tr>\n",
              "    <tr>\n",
              "      <th>2</th>\n",
              "      <td>John Holland</td>\n",
              "      <td>Boston Celtics</td>\n",
              "      <td>30.0</td>\n",
              "      <td>SG</td>\n",
              "      <td>27.0</td>\n",
              "      <td>6-5</td>\n",
              "      <td>205.0</td>\n",
              "      <td>Boston University</td>\n",
              "      <td>NaN</td>\n",
              "    </tr>\n",
              "  </tbody>\n",
              "</table>\n",
              "</div>"
            ],
            "text/plain": [
              "            Name            Team  Number Position   Age Height  Weight  \\\n",
              "0  Avery Bradley  Boston Celtics     0.0       PG  25.0    6-2   180.0   \n",
              "1    Jae Crowder  Boston Celtics    99.0       SF  25.0    6-6   235.0   \n",
              "2   John Holland  Boston Celtics    30.0       SG  27.0    6-5   205.0   \n",
              "\n",
              "             College     Salary  \n",
              "0              Texas  7730337.0  \n",
              "1          Marquette  6796117.0  \n",
              "2  Boston University        NaN  "
            ]
          },
          "metadata": {}
        }
      ]
    },
    {
      "cell_type": "code",
      "source": "type(nba.Name)",
      "metadata": {
        "trusted": true
      },
      "execution_count": 6,
      "outputs": [
        {
          "execution_count": 6,
          "output_type": "execute_result",
          "data": {
            "text/plain": "pandas.core.series.Series"
          },
          "metadata": {}
        }
      ]
    },
    {
      "cell_type": "code",
      "source": "",
      "metadata": {},
      "execution_count": null,
      "outputs": []
    },
    {
      "cell_type": "code",
      "source": "",
      "metadata": {},
      "execution_count": null,
      "outputs": []
    },
    {
      "cell_type": "code",
      "source": "",
      "metadata": {},
      "execution_count": null,
      "outputs": []
    },
    {
      "cell_type": "code",
      "source": "",
      "metadata": {},
      "execution_count": null,
      "outputs": []
    },
    {
      "cell_type": "code",
      "source": "nba[[\"Team\", \"Name\"]].head()",
      "metadata": {
        "trusted": true
      },
      "execution_count": 4,
      "outputs": [
        {
          "execution_count": 4,
          "output_type": "execute_result",
          "data": {
            "text/plain": "             Team           Name\n0  Boston Celtics  Avery Bradley\n1  Boston Celtics    Jae Crowder\n2  Boston Celtics   John Holland\n3  Boston Celtics    R.J. Hunter\n4  Boston Celtics  Jonas Jerebko",
            "text/html": "<div>\n<style scoped>\n    .dataframe tbody tr th:only-of-type {\n        vertical-align: middle;\n    }\n\n    .dataframe tbody tr th {\n        vertical-align: top;\n    }\n\n    .dataframe thead th {\n        text-align: right;\n    }\n</style>\n<table border=\"1\" class=\"dataframe\">\n  <thead>\n    <tr style=\"text-align: right;\">\n      <th></th>\n      <th>Team</th>\n      <th>Name</th>\n    </tr>\n  </thead>\n  <tbody>\n    <tr>\n      <th>0</th>\n      <td>Boston Celtics</td>\n      <td>Avery Bradley</td>\n    </tr>\n    <tr>\n      <th>1</th>\n      <td>Boston Celtics</td>\n      <td>Jae Crowder</td>\n    </tr>\n    <tr>\n      <th>2</th>\n      <td>Boston Celtics</td>\n      <td>John Holland</td>\n    </tr>\n    <tr>\n      <th>3</th>\n      <td>Boston Celtics</td>\n      <td>R.J. Hunter</td>\n    </tr>\n    <tr>\n      <th>4</th>\n      <td>Boston Celtics</td>\n      <td>Jonas Jerebko</td>\n    </tr>\n  </tbody>\n</table>\n</div>"
          },
          "metadata": {}
        }
      ]
    },
    {
      "cell_type": "code",
      "source": "nba[['Team','Number','Position','Height']].head()",
      "metadata": {
        "trusted": true
      },
      "execution_count": 19,
      "outputs": [
        {
          "execution_count": 19,
          "output_type": "execute_result",
          "data": {
            "text/plain": "             Team  Number Position Height\n0  Boston Celtics     0.0       PG    6-2\n1  Boston Celtics    99.0       SF    6-6\n2  Boston Celtics    30.0       SG    6-5\n3  Boston Celtics    28.0       SG    6-5\n4  Boston Celtics     8.0       PF   6-10",
            "text/html": "<div>\n<style scoped>\n    .dataframe tbody tr th:only-of-type {\n        vertical-align: middle;\n    }\n\n    .dataframe tbody tr th {\n        vertical-align: top;\n    }\n\n    .dataframe thead th {\n        text-align: right;\n    }\n</style>\n<table border=\"1\" class=\"dataframe\">\n  <thead>\n    <tr style=\"text-align: right;\">\n      <th></th>\n      <th>Team</th>\n      <th>Number</th>\n      <th>Position</th>\n      <th>Height</th>\n    </tr>\n  </thead>\n  <tbody>\n    <tr>\n      <th>0</th>\n      <td>Boston Celtics</td>\n      <td>0.0</td>\n      <td>PG</td>\n      <td>6-2</td>\n    </tr>\n    <tr>\n      <th>1</th>\n      <td>Boston Celtics</td>\n      <td>99.0</td>\n      <td>SF</td>\n      <td>6-6</td>\n    </tr>\n    <tr>\n      <th>2</th>\n      <td>Boston Celtics</td>\n      <td>30.0</td>\n      <td>SG</td>\n      <td>6-5</td>\n    </tr>\n    <tr>\n      <th>3</th>\n      <td>Boston Celtics</td>\n      <td>28.0</td>\n      <td>SG</td>\n      <td>6-5</td>\n    </tr>\n    <tr>\n      <th>4</th>\n      <td>Boston Celtics</td>\n      <td>8.0</td>\n      <td>PF</td>\n      <td>6-10</td>\n    </tr>\n  </tbody>\n</table>\n</div>"
          },
          "metadata": {}
        }
      ]
    },
    {
      "cell_type": "code",
      "source": "nba.head()",
      "metadata": {
        "trusted": true
      },
      "execution_count": 7,
      "outputs": [
        {
          "execution_count": 7,
          "output_type": "execute_result",
          "data": {
            "text/plain": "            Name            Team  Number Position   Age Height  Weight  \\\n0  Avery Bradley  Boston Celtics     0.0       PG  25.0    6-2   180.0   \n1    Jae Crowder  Boston Celtics    99.0       SF  25.0    6-6   235.0   \n2   John Holland  Boston Celtics    30.0       SG  27.0    6-5   205.0   \n3    R.J. Hunter  Boston Celtics    28.0       SG  22.0    6-5   185.0   \n4  Jonas Jerebko  Boston Celtics     8.0       PF  29.0   6-10   231.0   \n\n             College     Salary  \n0              Texas  7730337.0  \n1          Marquette  6796117.0  \n2  Boston University        NaN  \n3      Georgia State  1148640.0  \n4                NaN  5000000.0  ",
            "text/html": "<div>\n<style scoped>\n    .dataframe tbody tr th:only-of-type {\n        vertical-align: middle;\n    }\n\n    .dataframe tbody tr th {\n        vertical-align: top;\n    }\n\n    .dataframe thead th {\n        text-align: right;\n    }\n</style>\n<table border=\"1\" class=\"dataframe\">\n  <thead>\n    <tr style=\"text-align: right;\">\n      <th></th>\n      <th>Name</th>\n      <th>Team</th>\n      <th>Number</th>\n      <th>Position</th>\n      <th>Age</th>\n      <th>Height</th>\n      <th>Weight</th>\n      <th>College</th>\n      <th>Salary</th>\n    </tr>\n  </thead>\n  <tbody>\n    <tr>\n      <th>0</th>\n      <td>Avery Bradley</td>\n      <td>Boston Celtics</td>\n      <td>0.0</td>\n      <td>PG</td>\n      <td>25.0</td>\n      <td>6-2</td>\n      <td>180.0</td>\n      <td>Texas</td>\n      <td>7730337.0</td>\n    </tr>\n    <tr>\n      <th>1</th>\n      <td>Jae Crowder</td>\n      <td>Boston Celtics</td>\n      <td>99.0</td>\n      <td>SF</td>\n      <td>25.0</td>\n      <td>6-6</td>\n      <td>235.0</td>\n      <td>Marquette</td>\n      <td>6796117.0</td>\n    </tr>\n    <tr>\n      <th>2</th>\n      <td>John Holland</td>\n      <td>Boston Celtics</td>\n      <td>30.0</td>\n      <td>SG</td>\n      <td>27.0</td>\n      <td>6-5</td>\n      <td>205.0</td>\n      <td>Boston University</td>\n      <td>NaN</td>\n    </tr>\n    <tr>\n      <th>3</th>\n      <td>R.J. Hunter</td>\n      <td>Boston Celtics</td>\n      <td>28.0</td>\n      <td>SG</td>\n      <td>22.0</td>\n      <td>6-5</td>\n      <td>185.0</td>\n      <td>Georgia State</td>\n      <td>1148640.0</td>\n    </tr>\n    <tr>\n      <th>4</th>\n      <td>Jonas Jerebko</td>\n      <td>Boston Celtics</td>\n      <td>8.0</td>\n      <td>PF</td>\n      <td>29.0</td>\n      <td>6-10</td>\n      <td>231.0</td>\n      <td>NaN</td>\n      <td>5000000.0</td>\n    </tr>\n  </tbody>\n</table>\n</div>"
          },
          "metadata": {}
        }
      ]
    },
    {
      "cell_type": "code",
      "source": "nba_name=nba[\"Name\"]",
      "metadata": {
        "trusted": true
      },
      "execution_count": 8,
      "outputs": []
    },
    {
      "cell_type": "code",
      "source": "nba_name.head()",
      "metadata": {
        "trusted": true
      },
      "execution_count": 9,
      "outputs": [
        {
          "execution_count": 9,
          "output_type": "execute_result",
          "data": {
            "text/plain": "0    Avery Bradley\n1      Jae Crowder\n2     John Holland\n3      R.J. Hunter\n4    Jonas Jerebko\nName: Name, dtype: object"
          },
          "metadata": {}
        }
      ]
    },
    {
      "cell_type": "code",
      "source": "nba_team=nba[\"Team\"]",
      "metadata": {
        "trusted": true
      },
      "execution_count": 10,
      "outputs": []
    },
    {
      "cell_type": "code",
      "source": "nba_team.head()",
      "metadata": {
        "trusted": true
      },
      "execution_count": 11,
      "outputs": [
        {
          "execution_count": 11,
          "output_type": "execute_result",
          "data": {
            "text/plain": "0    Boston Celtics\n1    Boston Celtics\n2    Boston Celtics\n3    Boston Celtics\n4    Boston Celtics\nName: Team, dtype: object"
          },
          "metadata": {}
        }
      ]
    },
    {
      "cell_type": "code",
      "source": "nba_number=nba[\"Number\"]",
      "metadata": {
        "trusted": true
      },
      "execution_count": 12,
      "outputs": []
    },
    {
      "cell_type": "code",
      "source": "nba_number.head()",
      "metadata": {
        "trusted": true
      },
      "execution_count": 14,
      "outputs": [
        {
          "execution_count": 14,
          "output_type": "execute_result",
          "data": {
            "text/plain": "0     0.0\n1    99.0\n2    30.0\n3    28.0\n4     8.0\nName: Number, dtype: float64"
          },
          "metadata": {}
        }
      ]
    },
    {
      "cell_type": "code",
      "source": "#Name\tTeam\tNumber\tPosition\tAge\tHeight\tWeight\tCollege\tSalary\n",
      "metadata": {},
      "execution_count": null,
      "outputs": []
    },
    {
      "cell_type": "code",
      "source": "nba_position=nba[\"Position\"]",
      "metadata": {
        "trusted": true
      },
      "execution_count": 16,
      "outputs": []
    },
    {
      "cell_type": "code",
      "source": "nba_position.head()",
      "metadata": {
        "trusted": true
      },
      "execution_count": 17,
      "outputs": [
        {
          "execution_count": 17,
          "output_type": "execute_result",
          "data": {
            "text/plain": "0    PG\n1    SF\n2    SG\n3    SG\n4    PF\nName: Position, dtype: object"
          },
          "metadata": {}
        }
      ]
    },
    {
      "cell_type": "code",
      "source": "",
      "metadata": {},
      "execution_count": null,
      "outputs": []
    },
    {
      "cell_type": "code",
      "source": "nba_number.head()",
      "metadata": {
        "trusted": true
      },
      "execution_count": 13,
      "outputs": [
        {
          "execution_count": 13,
          "output_type": "execute_result",
          "data": {
            "text/plain": "0     0.0\n1    99.0\n2    30.0\n3    28.0\n4     8.0\nName: Number, dtype: float64"
          },
          "metadata": {}
        }
      ]
    },
    {
      "cell_type": "code",
      "source": "nba_np=nba[[\"Name\",\"Position\"]]",
      "metadata": {
        "trusted": true
      },
      "execution_count": 19,
      "outputs": []
    },
    {
      "cell_type": "code",
      "source": "nba_np.head()",
      "metadata": {
        "trusted": true
      },
      "execution_count": 20,
      "outputs": [
        {
          "execution_count": 20,
          "output_type": "execute_result",
          "data": {
            "text/plain": "            Name Position\n0  Avery Bradley       PG\n1    Jae Crowder       SF\n2   John Holland       SG\n3    R.J. Hunter       SG\n4  Jonas Jerebko       PF",
            "text/html": "<div>\n<style scoped>\n    .dataframe tbody tr th:only-of-type {\n        vertical-align: middle;\n    }\n\n    .dataframe tbody tr th {\n        vertical-align: top;\n    }\n\n    .dataframe thead th {\n        text-align: right;\n    }\n</style>\n<table border=\"1\" class=\"dataframe\">\n  <thead>\n    <tr style=\"text-align: right;\">\n      <th></th>\n      <th>Name</th>\n      <th>Position</th>\n    </tr>\n  </thead>\n  <tbody>\n    <tr>\n      <th>0</th>\n      <td>Avery Bradley</td>\n      <td>PG</td>\n    </tr>\n    <tr>\n      <th>1</th>\n      <td>Jae Crowder</td>\n      <td>SF</td>\n    </tr>\n    <tr>\n      <th>2</th>\n      <td>John Holland</td>\n      <td>SG</td>\n    </tr>\n    <tr>\n      <th>3</th>\n      <td>R.J. Hunter</td>\n      <td>SG</td>\n    </tr>\n    <tr>\n      <th>4</th>\n      <td>Jonas Jerebko</td>\n      <td>PF</td>\n    </tr>\n  </tbody>\n</table>\n</div>"
          },
          "metadata": {}
        }
      ]
    },
    {
      "cell_type": "code",
      "source": "nba_name1=nba[[\"Name\",\"Team\",\"Number\",\"Position\",\"Age\",\"Height\"]]",
      "metadata": {
        "trusted": true
      },
      "execution_count": 21,
      "outputs": []
    },
    {
      "cell_type": "code",
      "source": "#Name\tTeam\tNumber\tPosition\tAge\tHeight\tWeight\tCollege\tSalary\nnba_name1.head()",
      "metadata": {
        "trusted": true
      },
      "execution_count": 22,
      "outputs": [
        {
          "execution_count": 22,
          "output_type": "execute_result",
          "data": {
            "text/plain": "            Name            Team  Number Position   Age Height\n0  Avery Bradley  Boston Celtics     0.0       PG  25.0    6-2\n1    Jae Crowder  Boston Celtics    99.0       SF  25.0    6-6\n2   John Holland  Boston Celtics    30.0       SG  27.0    6-5\n3    R.J. Hunter  Boston Celtics    28.0       SG  22.0    6-5\n4  Jonas Jerebko  Boston Celtics     8.0       PF  29.0   6-10",
            "text/html": "<div>\n<style scoped>\n    .dataframe tbody tr th:only-of-type {\n        vertical-align: middle;\n    }\n\n    .dataframe tbody tr th {\n        vertical-align: top;\n    }\n\n    .dataframe thead th {\n        text-align: right;\n    }\n</style>\n<table border=\"1\" class=\"dataframe\">\n  <thead>\n    <tr style=\"text-align: right;\">\n      <th></th>\n      <th>Name</th>\n      <th>Team</th>\n      <th>Number</th>\n      <th>Position</th>\n      <th>Age</th>\n      <th>Height</th>\n    </tr>\n  </thead>\n  <tbody>\n    <tr>\n      <th>0</th>\n      <td>Avery Bradley</td>\n      <td>Boston Celtics</td>\n      <td>0.0</td>\n      <td>PG</td>\n      <td>25.0</td>\n      <td>6-2</td>\n    </tr>\n    <tr>\n      <th>1</th>\n      <td>Jae Crowder</td>\n      <td>Boston Celtics</td>\n      <td>99.0</td>\n      <td>SF</td>\n      <td>25.0</td>\n      <td>6-6</td>\n    </tr>\n    <tr>\n      <th>2</th>\n      <td>John Holland</td>\n      <td>Boston Celtics</td>\n      <td>30.0</td>\n      <td>SG</td>\n      <td>27.0</td>\n      <td>6-5</td>\n    </tr>\n    <tr>\n      <th>3</th>\n      <td>R.J. Hunter</td>\n      <td>Boston Celtics</td>\n      <td>28.0</td>\n      <td>SG</td>\n      <td>22.0</td>\n      <td>6-5</td>\n    </tr>\n    <tr>\n      <th>4</th>\n      <td>Jonas Jerebko</td>\n      <td>Boston Celtics</td>\n      <td>8.0</td>\n      <td>PF</td>\n      <td>29.0</td>\n      <td>6-10</td>\n    </tr>\n  </tbody>\n</table>\n</div>"
          },
          "metadata": {}
        }
      ]
    },
    {
      "cell_type": "code",
      "source": "columns_list = [\"Name\",\"Team\",\"Number\",\"Position\",\"Age\",\"Height\",\"College\",\"Salary\"]",
      "metadata": {
        "trusted": true
      },
      "execution_count": 23,
      "outputs": []
    },
    {
      "cell_type": "code",
      "source": "nba_col = nba[columns_list]",
      "metadata": {
        "trusted": true
      },
      "execution_count": 25,
      "outputs": []
    },
    {
      "cell_type": "code",
      "source": "nba_col.head()",
      "metadata": {
        "trusted": true
      },
      "execution_count": 26,
      "outputs": [
        {
          "execution_count": 26,
          "output_type": "execute_result",
          "data": {
            "text/plain": "            Name            Team  Number Position   Age Height  \\\n0  Avery Bradley  Boston Celtics     0.0       PG  25.0    6-2   \n1    Jae Crowder  Boston Celtics    99.0       SF  25.0    6-6   \n2   John Holland  Boston Celtics    30.0       SG  27.0    6-5   \n3    R.J. Hunter  Boston Celtics    28.0       SG  22.0    6-5   \n4  Jonas Jerebko  Boston Celtics     8.0       PF  29.0   6-10   \n\n             College     Salary  \n0              Texas  7730337.0  \n1          Marquette  6796117.0  \n2  Boston University        NaN  \n3      Georgia State  1148640.0  \n4                NaN  5000000.0  ",
            "text/html": "<div>\n<style scoped>\n    .dataframe tbody tr th:only-of-type {\n        vertical-align: middle;\n    }\n\n    .dataframe tbody tr th {\n        vertical-align: top;\n    }\n\n    .dataframe thead th {\n        text-align: right;\n    }\n</style>\n<table border=\"1\" class=\"dataframe\">\n  <thead>\n    <tr style=\"text-align: right;\">\n      <th></th>\n      <th>Name</th>\n      <th>Team</th>\n      <th>Number</th>\n      <th>Position</th>\n      <th>Age</th>\n      <th>Height</th>\n      <th>College</th>\n      <th>Salary</th>\n    </tr>\n  </thead>\n  <tbody>\n    <tr>\n      <th>0</th>\n      <td>Avery Bradley</td>\n      <td>Boston Celtics</td>\n      <td>0.0</td>\n      <td>PG</td>\n      <td>25.0</td>\n      <td>6-2</td>\n      <td>Texas</td>\n      <td>7730337.0</td>\n    </tr>\n    <tr>\n      <th>1</th>\n      <td>Jae Crowder</td>\n      <td>Boston Celtics</td>\n      <td>99.0</td>\n      <td>SF</td>\n      <td>25.0</td>\n      <td>6-6</td>\n      <td>Marquette</td>\n      <td>6796117.0</td>\n    </tr>\n    <tr>\n      <th>2</th>\n      <td>John Holland</td>\n      <td>Boston Celtics</td>\n      <td>30.0</td>\n      <td>SG</td>\n      <td>27.0</td>\n      <td>6-5</td>\n      <td>Boston University</td>\n      <td>NaN</td>\n    </tr>\n    <tr>\n      <th>3</th>\n      <td>R.J. Hunter</td>\n      <td>Boston Celtics</td>\n      <td>28.0</td>\n      <td>SG</td>\n      <td>22.0</td>\n      <td>6-5</td>\n      <td>Georgia State</td>\n      <td>1148640.0</td>\n    </tr>\n    <tr>\n      <th>4</th>\n      <td>Jonas Jerebko</td>\n      <td>Boston Celtics</td>\n      <td>8.0</td>\n      <td>PF</td>\n      <td>29.0</td>\n      <td>6-10</td>\n      <td>NaN</td>\n      <td>5000000.0</td>\n    </tr>\n  </tbody>\n</table>\n</div>"
          },
          "metadata": {}
        }
      ]
    },
    {
      "cell_type": "code",
      "source": "",
      "metadata": {},
      "execution_count": null,
      "outputs": []
    },
    {
      "cell_type": "code",
      "source": "",
      "metadata": {},
      "execution_count": null,
      "outputs": []
    },
    {
      "cell_type": "code",
      "source": "",
      "metadata": {},
      "execution_count": null,
      "outputs": []
    },
    {
      "cell_type": "code",
      "source": "",
      "metadata": {},
      "execution_count": null,
      "outputs": []
    },
    {
      "cell_type": "code",
      "source": "",
      "metadata": {},
      "execution_count": null,
      "outputs": []
    },
    {
      "cell_type": "code",
      "source": "",
      "metadata": {},
      "execution_count": null,
      "outputs": []
    },
    {
      "cell_type": "code",
      "source": "nba_name=nba[\"Name]",
      "metadata": {},
      "execution_count": null,
      "outputs": []
    },
    {
      "cell_type": "code",
      "source": "",
      "metadata": {},
      "execution_count": null,
      "outputs": []
    },
    {
      "cell_type": "code",
      "source": "",
      "metadata": {},
      "execution_count": null,
      "outputs": []
    },
    {
      "cell_type": "code",
      "source": "",
      "metadata": {},
      "execution_count": null,
      "outputs": []
    },
    {
      "cell_type": "code",
      "source": "nba[[\"Team\", \"Name\"]].head(3)\nnba[[\"Number\", \"College\"]]\nnba[[\"Salary\", \"Team\", \"Name\"]].tail()",
      "metadata": {
        "collapsed": false,
        "jupyter": {
          "outputs_hidden": false
        }
      },
      "execution_count": 70,
      "outputs": [
        {
          "execution_count": 70,
          "output_type": "execute_result",
          "data": {
            "text/html": [
              "<div>\n",
              "<table border=\"1\" class=\"dataframe\">\n",
              "  <thead>\n",
              "    <tr style=\"text-align: right;\">\n",
              "      <th></th>\n",
              "      <th>Salary</th>\n",
              "      <th>Team</th>\n",
              "      <th>Name</th>\n",
              "    </tr>\n",
              "  </thead>\n",
              "  <tbody>\n",
              "    <tr>\n",
              "      <th>453</th>\n",
              "      <td>2433333.0</td>\n",
              "      <td>Utah Jazz</td>\n",
              "      <td>Shelvin Mack</td>\n",
              "    </tr>\n",
              "    <tr>\n",
              "      <th>454</th>\n",
              "      <td>900000.0</td>\n",
              "      <td>Utah Jazz</td>\n",
              "      <td>Raul Neto</td>\n",
              "    </tr>\n",
              "    <tr>\n",
              "      <th>455</th>\n",
              "      <td>2900000.0</td>\n",
              "      <td>Utah Jazz</td>\n",
              "      <td>Tibor Pleiss</td>\n",
              "    </tr>\n",
              "    <tr>\n",
              "      <th>456</th>\n",
              "      <td>947276.0</td>\n",
              "      <td>Utah Jazz</td>\n",
              "      <td>Jeff Withey</td>\n",
              "    </tr>\n",
              "    <tr>\n",
              "      <th>457</th>\n",
              "      <td>NaN</td>\n",
              "      <td>NaN</td>\n",
              "      <td>NaN</td>\n",
              "    </tr>\n",
              "  </tbody>\n",
              "</table>\n",
              "</div>"
            ],
            "text/plain": [
              "        Salary       Team          Name\n",
              "453  2433333.0  Utah Jazz  Shelvin Mack\n",
              "454   900000.0  Utah Jazz     Raul Neto\n",
              "455  2900000.0  Utah Jazz  Tibor Pleiss\n",
              "456   947276.0  Utah Jazz   Jeff Withey\n",
              "457        NaN        NaN           NaN"
            ]
          },
          "metadata": {}
        }
      ]
    },
    {
      "cell_type": "code",
      "source": "select = [\"Salary\", \"Team\", \"Name\"]\nnba[select]",
      "metadata": {
        "tags": []
      },
      "execution_count": 71,
      "outputs": [
        {
          "execution_count": 71,
          "output_type": "execute_result",
          "data": {
            "text/html": [
              "<div>\n",
              "<table border=\"1\" class=\"dataframe\">\n",
              "  <thead>\n",
              "    <tr style=\"text-align: right;\">\n",
              "      <th></th>\n",
              "      <th>Salary</th>\n",
              "      <th>Team</th>\n",
              "      <th>Name</th>\n",
              "    </tr>\n",
              "  </thead>\n",
              "  <tbody>\n",
              "    <tr>\n",
              "      <th>0</th>\n",
              "      <td>7730337.0</td>\n",
              "      <td>Boston Celtics</td>\n",
              "      <td>Avery Bradley</td>\n",
              "    </tr>\n",
              "    <tr>\n",
              "      <th>1</th>\n",
              "      <td>6796117.0</td>\n",
              "      <td>Boston Celtics</td>\n",
              "      <td>Jae Crowder</td>\n",
              "    </tr>\n",
              "    <tr>\n",
              "      <th>2</th>\n",
              "      <td>NaN</td>\n",
              "      <td>Boston Celtics</td>\n",
              "      <td>John Holland</td>\n",
              "    </tr>\n",
              "    <tr>\n",
              "      <th>3</th>\n",
              "      <td>1148640.0</td>\n",
              "      <td>Boston Celtics</td>\n",
              "      <td>R.J. Hunter</td>\n",
              "    </tr>\n",
              "    <tr>\n",
              "      <th>4</th>\n",
              "      <td>5000000.0</td>\n",
              "      <td>Boston Celtics</td>\n",
              "      <td>Jonas Jerebko</td>\n",
              "    </tr>\n",
              "    <tr>\n",
              "      <th>5</th>\n",
              "      <td>12000000.0</td>\n",
              "      <td>Boston Celtics</td>\n",
              "      <td>Amir Johnson</td>\n",
              "    </tr>\n",
              "    <tr>\n",
              "      <th>6</th>\n",
              "      <td>1170960.0</td>\n",
              "      <td>Boston Celtics</td>\n",
              "      <td>Jordan Mickey</td>\n",
              "    </tr>\n",
              "    <tr>\n",
              "      <th>7</th>\n",
              "      <td>2165160.0</td>\n",
              "      <td>Boston Celtics</td>\n",
              "      <td>Kelly Olynyk</td>\n",
              "    </tr>\n",
              "    <tr>\n",
              "      <th>8</th>\n",
              "      <td>1824360.0</td>\n",
              "      <td>Boston Celtics</td>\n",
              "      <td>Terry Rozier</td>\n",
              "    </tr>\n",
              "    <tr>\n",
              "      <th>9</th>\n",
              "      <td>3431040.0</td>\n",
              "      <td>Boston Celtics</td>\n",
              "      <td>Marcus Smart</td>\n",
              "    </tr>\n",
              "    <tr>\n",
              "      <th>10</th>\n",
              "      <td>2569260.0</td>\n",
              "      <td>Boston Celtics</td>\n",
              "      <td>Jared Sullinger</td>\n",
              "    </tr>\n",
              "    <tr>\n",
              "      <th>11</th>\n",
              "      <td>6912869.0</td>\n",
              "      <td>Boston Celtics</td>\n",
              "      <td>Isaiah Thomas</td>\n",
              "    </tr>\n",
              "    <tr>\n",
              "      <th>12</th>\n",
              "      <td>3425510.0</td>\n",
              "      <td>Boston Celtics</td>\n",
              "      <td>Evan Turner</td>\n",
              "    </tr>\n",
              "    <tr>\n",
              "      <th>13</th>\n",
              "      <td>1749840.0</td>\n",
              "      <td>Boston Celtics</td>\n",
              "      <td>James Young</td>\n",
              "    </tr>\n",
              "    <tr>\n",
              "      <th>14</th>\n",
              "      <td>2616975.0</td>\n",
              "      <td>Boston Celtics</td>\n",
              "      <td>Tyler Zeller</td>\n",
              "    </tr>\n",
              "    <tr>\n",
              "      <th>15</th>\n",
              "      <td>3425510.0</td>\n",
              "      <td>Brooklyn Nets</td>\n",
              "      <td>Bojan Bogdanovic</td>\n",
              "    </tr>\n",
              "    <tr>\n",
              "      <th>16</th>\n",
              "      <td>845059.0</td>\n",
              "      <td>Brooklyn Nets</td>\n",
              "      <td>Markel Brown</td>\n",
              "    </tr>\n",
              "    <tr>\n",
              "      <th>17</th>\n",
              "      <td>1500000.0</td>\n",
              "      <td>Brooklyn Nets</td>\n",
              "      <td>Wayne Ellington</td>\n",
              "    </tr>\n",
              "    <tr>\n",
              "      <th>18</th>\n",
              "      <td>1335480.0</td>\n",
              "      <td>Brooklyn Nets</td>\n",
              "      <td>Rondae Hollis-Jefferson</td>\n",
              "    </tr>\n",
              "    <tr>\n",
              "      <th>19</th>\n",
              "      <td>6300000.0</td>\n",
              "      <td>Brooklyn Nets</td>\n",
              "      <td>Jarrett Jack</td>\n",
              "    </tr>\n",
              "    <tr>\n",
              "      <th>20</th>\n",
              "      <td>1599840.0</td>\n",
              "      <td>Brooklyn Nets</td>\n",
              "      <td>Sergey Karasev</td>\n",
              "    </tr>\n",
              "    <tr>\n",
              "      <th>21</th>\n",
              "      <td>134215.0</td>\n",
              "      <td>Brooklyn Nets</td>\n",
              "      <td>Sean Kilpatrick</td>\n",
              "    </tr>\n",
              "    <tr>\n",
              "      <th>22</th>\n",
              "      <td>1500000.0</td>\n",
              "      <td>Brooklyn Nets</td>\n",
              "      <td>Shane Larkin</td>\n",
              "    </tr>\n",
              "    <tr>\n",
              "      <th>23</th>\n",
              "      <td>19689000.0</td>\n",
              "      <td>Brooklyn Nets</td>\n",
              "      <td>Brook Lopez</td>\n",
              "    </tr>\n",
              "    <tr>\n",
              "      <th>24</th>\n",
              "      <td>1140240.0</td>\n",
              "      <td>Brooklyn Nets</td>\n",
              "      <td>Chris McCullough</td>\n",
              "    </tr>\n",
              "    <tr>\n",
              "      <th>25</th>\n",
              "      <td>947276.0</td>\n",
              "      <td>Brooklyn Nets</td>\n",
              "      <td>Willie Reed</td>\n",
              "    </tr>\n",
              "    <tr>\n",
              "      <th>26</th>\n",
              "      <td>981348.0</td>\n",
              "      <td>Brooklyn Nets</td>\n",
              "      <td>Thomas Robinson</td>\n",
              "    </tr>\n",
              "    <tr>\n",
              "      <th>27</th>\n",
              "      <td>947276.0</td>\n",
              "      <td>Brooklyn Nets</td>\n",
              "      <td>Henry Sims</td>\n",
              "    </tr>\n",
              "    <tr>\n",
              "      <th>28</th>\n",
              "      <td>947276.0</td>\n",
              "      <td>Brooklyn Nets</td>\n",
              "      <td>Donald Sloan</td>\n",
              "    </tr>\n",
              "    <tr>\n",
              "      <th>29</th>\n",
              "      <td>11235955.0</td>\n",
              "      <td>Brooklyn Nets</td>\n",
              "      <td>Thaddeus Young</td>\n",
              "    </tr>\n",
              "    <tr>\n",
              "      <th>...</th>\n",
              "      <td>...</td>\n",
              "      <td>...</td>\n",
              "      <td>...</td>\n",
              "    </tr>\n",
              "    <tr>\n",
              "      <th>428</th>\n",
              "      <td>8042895.0</td>\n",
              "      <td>Portland Trail Blazers</td>\n",
              "      <td>Al-Farouq Aminu</td>\n",
              "    </tr>\n",
              "    <tr>\n",
              "      <th>429</th>\n",
              "      <td>625093.0</td>\n",
              "      <td>Portland Trail Blazers</td>\n",
              "      <td>Pat Connaughton</td>\n",
              "    </tr>\n",
              "    <tr>\n",
              "      <th>430</th>\n",
              "      <td>947276.0</td>\n",
              "      <td>Portland Trail Blazers</td>\n",
              "      <td>Allen Crabbe</td>\n",
              "    </tr>\n",
              "    <tr>\n",
              "      <th>431</th>\n",
              "      <td>6980802.0</td>\n",
              "      <td>Portland Trail Blazers</td>\n",
              "      <td>Ed Davis</td>\n",
              "    </tr>\n",
              "    <tr>\n",
              "      <th>432</th>\n",
              "      <td>2894059.0</td>\n",
              "      <td>Portland Trail Blazers</td>\n",
              "      <td>Maurice Harkless</td>\n",
              "    </tr>\n",
              "    <tr>\n",
              "      <th>433</th>\n",
              "      <td>6000000.0</td>\n",
              "      <td>Portland Trail Blazers</td>\n",
              "      <td>Gerald Henderson</td>\n",
              "    </tr>\n",
              "    <tr>\n",
              "      <th>434</th>\n",
              "      <td>5016000.0</td>\n",
              "      <td>Portland Trail Blazers</td>\n",
              "      <td>Chris Kaman</td>\n",
              "    </tr>\n",
              "    <tr>\n",
              "      <th>435</th>\n",
              "      <td>3075880.0</td>\n",
              "      <td>Portland Trail Blazers</td>\n",
              "      <td>Meyers Leonard</td>\n",
              "    </tr>\n",
              "    <tr>\n",
              "      <th>436</th>\n",
              "      <td>4236287.0</td>\n",
              "      <td>Portland Trail Blazers</td>\n",
              "      <td>Damian Lillard</td>\n",
              "    </tr>\n",
              "    <tr>\n",
              "      <th>437</th>\n",
              "      <td>2525160.0</td>\n",
              "      <td>Portland Trail Blazers</td>\n",
              "      <td>C.J. McCollum</td>\n",
              "    </tr>\n",
              "    <tr>\n",
              "      <th>438</th>\n",
              "      <td>525093.0</td>\n",
              "      <td>Portland Trail Blazers</td>\n",
              "      <td>Luis Montero</td>\n",
              "    </tr>\n",
              "    <tr>\n",
              "      <th>439</th>\n",
              "      <td>1415520.0</td>\n",
              "      <td>Portland Trail Blazers</td>\n",
              "      <td>Mason Plumlee</td>\n",
              "    </tr>\n",
              "    <tr>\n",
              "      <th>440</th>\n",
              "      <td>2854940.0</td>\n",
              "      <td>Portland Trail Blazers</td>\n",
              "      <td>Brian Roberts</td>\n",
              "    </tr>\n",
              "    <tr>\n",
              "      <th>441</th>\n",
              "      <td>2637720.0</td>\n",
              "      <td>Portland Trail Blazers</td>\n",
              "      <td>Noah Vonleh</td>\n",
              "    </tr>\n",
              "    <tr>\n",
              "      <th>442</th>\n",
              "      <td>4775000.0</td>\n",
              "      <td>Utah Jazz</td>\n",
              "      <td>Trevor Booker</td>\n",
              "    </tr>\n",
              "    <tr>\n",
              "      <th>443</th>\n",
              "      <td>2658240.0</td>\n",
              "      <td>Utah Jazz</td>\n",
              "      <td>Trey Burke</td>\n",
              "    </tr>\n",
              "    <tr>\n",
              "      <th>444</th>\n",
              "      <td>9463484.0</td>\n",
              "      <td>Utah Jazz</td>\n",
              "      <td>Alec Burks</td>\n",
              "    </tr>\n",
              "    <tr>\n",
              "      <th>445</th>\n",
              "      <td>3777720.0</td>\n",
              "      <td>Utah Jazz</td>\n",
              "      <td>Dante Exum</td>\n",
              "    </tr>\n",
              "    <tr>\n",
              "      <th>446</th>\n",
              "      <td>12000000.0</td>\n",
              "      <td>Utah Jazz</td>\n",
              "      <td>Derrick Favors</td>\n",
              "    </tr>\n",
              "    <tr>\n",
              "      <th>447</th>\n",
              "      <td>1175880.0</td>\n",
              "      <td>Utah Jazz</td>\n",
              "      <td>Rudy Gobert</td>\n",
              "    </tr>\n",
              "    <tr>\n",
              "      <th>448</th>\n",
              "      <td>15409570.0</td>\n",
              "      <td>Utah Jazz</td>\n",
              "      <td>Gordon Hayward</td>\n",
              "    </tr>\n",
              "    <tr>\n",
              "      <th>449</th>\n",
              "      <td>1348440.0</td>\n",
              "      <td>Utah Jazz</td>\n",
              "      <td>Rodney Hood</td>\n",
              "    </tr>\n",
              "    <tr>\n",
              "      <th>450</th>\n",
              "      <td>2050000.0</td>\n",
              "      <td>Utah Jazz</td>\n",
              "      <td>Joe Ingles</td>\n",
              "    </tr>\n",
              "    <tr>\n",
              "      <th>451</th>\n",
              "      <td>981348.0</td>\n",
              "      <td>Utah Jazz</td>\n",
              "      <td>Chris Johnson</td>\n",
              "    </tr>\n",
              "    <tr>\n",
              "      <th>452</th>\n",
              "      <td>2239800.0</td>\n",
              "      <td>Utah Jazz</td>\n",
              "      <td>Trey Lyles</td>\n",
              "    </tr>\n",
              "    <tr>\n",
              "      <th>453</th>\n",
              "      <td>2433333.0</td>\n",
              "      <td>Utah Jazz</td>\n",
              "      <td>Shelvin Mack</td>\n",
              "    </tr>\n",
              "    <tr>\n",
              "      <th>454</th>\n",
              "      <td>900000.0</td>\n",
              "      <td>Utah Jazz</td>\n",
              "      <td>Raul Neto</td>\n",
              "    </tr>\n",
              "    <tr>\n",
              "      <th>455</th>\n",
              "      <td>2900000.0</td>\n",
              "      <td>Utah Jazz</td>\n",
              "      <td>Tibor Pleiss</td>\n",
              "    </tr>\n",
              "    <tr>\n",
              "      <th>456</th>\n",
              "      <td>947276.0</td>\n",
              "      <td>Utah Jazz</td>\n",
              "      <td>Jeff Withey</td>\n",
              "    </tr>\n",
              "    <tr>\n",
              "      <th>457</th>\n",
              "      <td>NaN</td>\n",
              "      <td>NaN</td>\n",
              "      <td>NaN</td>\n",
              "    </tr>\n",
              "  </tbody>\n",
              "</table>\n",
              "<p>458 rows × 3 columns</p>\n",
              "</div>"
            ],
            "text/plain": [
              "         Salary                    Team                     Name\n",
              "0     7730337.0          Boston Celtics            Avery Bradley\n",
              "1     6796117.0          Boston Celtics              Jae Crowder\n",
              "2           NaN          Boston Celtics             John Holland\n",
              "3     1148640.0          Boston Celtics              R.J. Hunter\n",
              "4     5000000.0          Boston Celtics            Jonas Jerebko\n",
              "5    12000000.0          Boston Celtics             Amir Johnson\n",
              "6     1170960.0          Boston Celtics            Jordan Mickey\n",
              "7     2165160.0          Boston Celtics             Kelly Olynyk\n",
              "8     1824360.0          Boston Celtics             Terry Rozier\n",
              "9     3431040.0          Boston Celtics             Marcus Smart\n",
              "10    2569260.0          Boston Celtics          Jared Sullinger\n",
              "11    6912869.0          Boston Celtics            Isaiah Thomas\n",
              "12    3425510.0          Boston Celtics              Evan Turner\n",
              "13    1749840.0          Boston Celtics              James Young\n",
              "14    2616975.0          Boston Celtics             Tyler Zeller\n",
              "15    3425510.0           Brooklyn Nets         Bojan Bogdanovic\n",
              "16     845059.0           Brooklyn Nets             Markel Brown\n",
              "17    1500000.0           Brooklyn Nets          Wayne Ellington\n",
              "18    1335480.0           Brooklyn Nets  Rondae Hollis-Jefferson\n",
              "19    6300000.0           Brooklyn Nets             Jarrett Jack\n",
              "20    1599840.0           Brooklyn Nets           Sergey Karasev\n",
              "21     134215.0           Brooklyn Nets          Sean Kilpatrick\n",
              "22    1500000.0           Brooklyn Nets             Shane Larkin\n",
              "23   19689000.0           Brooklyn Nets              Brook Lopez\n",
              "24    1140240.0           Brooklyn Nets         Chris McCullough\n",
              "25     947276.0           Brooklyn Nets              Willie Reed\n",
              "26     981348.0           Brooklyn Nets          Thomas Robinson\n",
              "27     947276.0           Brooklyn Nets               Henry Sims\n",
              "28     947276.0           Brooklyn Nets             Donald Sloan\n",
              "29   11235955.0           Brooklyn Nets           Thaddeus Young\n",
              "..          ...                     ...                      ...\n",
              "428   8042895.0  Portland Trail Blazers          Al-Farouq Aminu\n",
              "429    625093.0  Portland Trail Blazers          Pat Connaughton\n",
              "430    947276.0  Portland Trail Blazers             Allen Crabbe\n",
              "431   6980802.0  Portland Trail Blazers                 Ed Davis\n",
              "432   2894059.0  Portland Trail Blazers         Maurice Harkless\n",
              "433   6000000.0  Portland Trail Blazers         Gerald Henderson\n",
              "434   5016000.0  Portland Trail Blazers              Chris Kaman\n",
              "435   3075880.0  Portland Trail Blazers           Meyers Leonard\n",
              "436   4236287.0  Portland Trail Blazers           Damian Lillard\n",
              "437   2525160.0  Portland Trail Blazers            C.J. McCollum\n",
              "438    525093.0  Portland Trail Blazers             Luis Montero\n",
              "439   1415520.0  Portland Trail Blazers            Mason Plumlee\n",
              "440   2854940.0  Portland Trail Blazers            Brian Roberts\n",
              "441   2637720.0  Portland Trail Blazers              Noah Vonleh\n",
              "442   4775000.0               Utah Jazz            Trevor Booker\n",
              "443   2658240.0               Utah Jazz               Trey Burke\n",
              "444   9463484.0               Utah Jazz               Alec Burks\n",
              "445   3777720.0               Utah Jazz               Dante Exum\n",
              "446  12000000.0               Utah Jazz           Derrick Favors\n",
              "447   1175880.0               Utah Jazz              Rudy Gobert\n",
              "448  15409570.0               Utah Jazz           Gordon Hayward\n",
              "449   1348440.0               Utah Jazz              Rodney Hood\n",
              "450   2050000.0               Utah Jazz               Joe Ingles\n",
              "451    981348.0               Utah Jazz            Chris Johnson\n",
              "452   2239800.0               Utah Jazz               Trey Lyles\n",
              "453   2433333.0               Utah Jazz             Shelvin Mack\n",
              "454    900000.0               Utah Jazz                Raul Neto\n",
              "455   2900000.0               Utah Jazz             Tibor Pleiss\n",
              "456    947276.0               Utah Jazz              Jeff Withey\n",
              "457         NaN                     NaN                      NaN\n",
              "\n",
              "[458 rows x 3 columns]"
            ]
          },
          "metadata": {}
        }
      ]
    },
    {
      "cell_type": "markdown",
      "source": "## Add New Column to `DataFrame`",
      "metadata": {}
    },
    {
      "cell_type": "code",
      "source": "nba = pd.read_csv(\"nba.csv\")\nnba.head(3)\n\nnba[\"Sport\"] = \"Basketball\"\nnba.head(3)\n\nnba[\"League\"] = \"National Basketball Association\"\nnba.head(3)\n\nnba = pd.read_csv(\"nba.csv\")\nnba.head(3)\n\nnba.insert(3, column = \"Sport\", value = \"Basketball\")\nnba.head(3)\n\nnba.insert(7, column = \"League\", value = \"National Basketball Association\")\nOutput = None",
      "metadata": {
        "collapsed": false,
        "jupyter": {
          "outputs_hidden": false
        },
        "trusted": true
      },
      "execution_count": 33,
      "outputs": []
    },
    {
      "cell_type": "code",
      "source": "\nnba.insert(9, column = \"Country\", value = \"USA\")",
      "metadata": {
        "trusted": true
      },
      "execution_count": 39,
      "outputs": []
    },
    {
      "cell_type": "code",
      "source": "nba.insert(10, column = \"City\", value = \"Philadelphia\")",
      "metadata": {
        "trusted": true
      },
      "execution_count": 41,
      "outputs": []
    },
    {
      "cell_type": "code",
      "source": "nba.head()",
      "metadata": {
        "trusted": true
      },
      "execution_count": 42,
      "outputs": [
        {
          "execution_count": 42,
          "output_type": "execute_result",
          "data": {
            "text/plain": "            Name            Team  Number       Sport Position   Age Height  \\\n0  Avery Bradley  Boston Celtics     0.0  Basketball       PG  25.0    6-2   \n1    Jae Crowder  Boston Celtics    99.0  Basketball       SF  25.0    6-6   \n2   John Holland  Boston Celtics    30.0  Basketball       SG  27.0    6-5   \n3    R.J. Hunter  Boston Celtics    28.0  Basketball       SG  22.0    6-5   \n4  Jonas Jerebko  Boston Celtics     8.0  Basketball       PF  29.0   6-10   \n\n                            League  Weight Country          City  \\\n0  National Basketball Association   180.0     USA  Philadelphia   \n1  National Basketball Association   235.0     USA  Philadelphia   \n2  National Basketball Association   205.0     USA  Philadelphia   \n3  National Basketball Association   185.0     USA  Philadelphia   \n4  National Basketball Association   231.0     USA  Philadelphia   \n\n             College     Salary  \n0              Texas  7730337.0  \n1          Marquette  6796117.0  \n2  Boston University        NaN  \n3      Georgia State  1148640.0  \n4                NaN  5000000.0  ",
            "text/html": "<div>\n<style scoped>\n    .dataframe tbody tr th:only-of-type {\n        vertical-align: middle;\n    }\n\n    .dataframe tbody tr th {\n        vertical-align: top;\n    }\n\n    .dataframe thead th {\n        text-align: right;\n    }\n</style>\n<table border=\"1\" class=\"dataframe\">\n  <thead>\n    <tr style=\"text-align: right;\">\n      <th></th>\n      <th>Name</th>\n      <th>Team</th>\n      <th>Number</th>\n      <th>Sport</th>\n      <th>Position</th>\n      <th>Age</th>\n      <th>Height</th>\n      <th>League</th>\n      <th>Weight</th>\n      <th>Country</th>\n      <th>City</th>\n      <th>College</th>\n      <th>Salary</th>\n    </tr>\n  </thead>\n  <tbody>\n    <tr>\n      <th>0</th>\n      <td>Avery Bradley</td>\n      <td>Boston Celtics</td>\n      <td>0.0</td>\n      <td>Basketball</td>\n      <td>PG</td>\n      <td>25.0</td>\n      <td>6-2</td>\n      <td>National Basketball Association</td>\n      <td>180.0</td>\n      <td>USA</td>\n      <td>Philadelphia</td>\n      <td>Texas</td>\n      <td>7730337.0</td>\n    </tr>\n    <tr>\n      <th>1</th>\n      <td>Jae Crowder</td>\n      <td>Boston Celtics</td>\n      <td>99.0</td>\n      <td>Basketball</td>\n      <td>SF</td>\n      <td>25.0</td>\n      <td>6-6</td>\n      <td>National Basketball Association</td>\n      <td>235.0</td>\n      <td>USA</td>\n      <td>Philadelphia</td>\n      <td>Marquette</td>\n      <td>6796117.0</td>\n    </tr>\n    <tr>\n      <th>2</th>\n      <td>John Holland</td>\n      <td>Boston Celtics</td>\n      <td>30.0</td>\n      <td>Basketball</td>\n      <td>SG</td>\n      <td>27.0</td>\n      <td>6-5</td>\n      <td>National Basketball Association</td>\n      <td>205.0</td>\n      <td>USA</td>\n      <td>Philadelphia</td>\n      <td>Boston University</td>\n      <td>NaN</td>\n    </tr>\n    <tr>\n      <th>3</th>\n      <td>R.J. Hunter</td>\n      <td>Boston Celtics</td>\n      <td>28.0</td>\n      <td>Basketball</td>\n      <td>SG</td>\n      <td>22.0</td>\n      <td>6-5</td>\n      <td>National Basketball Association</td>\n      <td>185.0</td>\n      <td>USA</td>\n      <td>Philadelphia</td>\n      <td>Georgia State</td>\n      <td>1148640.0</td>\n    </tr>\n    <tr>\n      <th>4</th>\n      <td>Jonas Jerebko</td>\n      <td>Boston Celtics</td>\n      <td>8.0</td>\n      <td>Basketball</td>\n      <td>PF</td>\n      <td>29.0</td>\n      <td>6-10</td>\n      <td>National Basketball Association</td>\n      <td>231.0</td>\n      <td>USA</td>\n      <td>Philadelphia</td>\n      <td>NaN</td>\n      <td>5000000.0</td>\n    </tr>\n  </tbody>\n</table>\n</div>"
          },
          "metadata": {}
        }
      ]
    },
    {
      "cell_type": "code",
      "source": "",
      "metadata": {},
      "execution_count": null,
      "outputs": []
    },
    {
      "cell_type": "code",
      "source": "nba.head()",
      "metadata": {
        "trusted": true
      },
      "execution_count": 35,
      "outputs": [
        {
          "execution_count": 35,
          "output_type": "execute_result",
          "data": {
            "text/plain": "            Name            Team  Number       Sport Position   Age Height  \\\n0  Avery Bradley  Boston Celtics     0.0  Basketball       PG  25.0    6-2   \n1    Jae Crowder  Boston Celtics    99.0  Basketball       SF  25.0    6-6   \n2   John Holland  Boston Celtics    30.0  Basketball       SG  27.0    6-5   \n3    R.J. Hunter  Boston Celtics    28.0  Basketball       SG  22.0    6-5   \n4  Jonas Jerebko  Boston Celtics     8.0  Basketball       PF  29.0   6-10   \n\n                            League  Weight            College     Salary  \n0  National Basketball Association   180.0              Texas  7730337.0  \n1  National Basketball Association   235.0          Marquette  6796117.0  \n2  National Basketball Association   205.0  Boston University        NaN  \n3  National Basketball Association   185.0      Georgia State  1148640.0  \n4  National Basketball Association   231.0                NaN  5000000.0  ",
            "text/html": "<div>\n<style scoped>\n    .dataframe tbody tr th:only-of-type {\n        vertical-align: middle;\n    }\n\n    .dataframe tbody tr th {\n        vertical-align: top;\n    }\n\n    .dataframe thead th {\n        text-align: right;\n    }\n</style>\n<table border=\"1\" class=\"dataframe\">\n  <thead>\n    <tr style=\"text-align: right;\">\n      <th></th>\n      <th>Name</th>\n      <th>Team</th>\n      <th>Number</th>\n      <th>Sport</th>\n      <th>Position</th>\n      <th>Age</th>\n      <th>Height</th>\n      <th>League</th>\n      <th>Weight</th>\n      <th>College</th>\n      <th>Salary</th>\n    </tr>\n  </thead>\n  <tbody>\n    <tr>\n      <th>0</th>\n      <td>Avery Bradley</td>\n      <td>Boston Celtics</td>\n      <td>0.0</td>\n      <td>Basketball</td>\n      <td>PG</td>\n      <td>25.0</td>\n      <td>6-2</td>\n      <td>National Basketball Association</td>\n      <td>180.0</td>\n      <td>Texas</td>\n      <td>7730337.0</td>\n    </tr>\n    <tr>\n      <th>1</th>\n      <td>Jae Crowder</td>\n      <td>Boston Celtics</td>\n      <td>99.0</td>\n      <td>Basketball</td>\n      <td>SF</td>\n      <td>25.0</td>\n      <td>6-6</td>\n      <td>National Basketball Association</td>\n      <td>235.0</td>\n      <td>Marquette</td>\n      <td>6796117.0</td>\n    </tr>\n    <tr>\n      <th>2</th>\n      <td>John Holland</td>\n      <td>Boston Celtics</td>\n      <td>30.0</td>\n      <td>Basketball</td>\n      <td>SG</td>\n      <td>27.0</td>\n      <td>6-5</td>\n      <td>National Basketball Association</td>\n      <td>205.0</td>\n      <td>Boston University</td>\n      <td>NaN</td>\n    </tr>\n    <tr>\n      <th>3</th>\n      <td>R.J. Hunter</td>\n      <td>Boston Celtics</td>\n      <td>28.0</td>\n      <td>Basketball</td>\n      <td>SG</td>\n      <td>22.0</td>\n      <td>6-5</td>\n      <td>National Basketball Association</td>\n      <td>185.0</td>\n      <td>Georgia State</td>\n      <td>1148640.0</td>\n    </tr>\n    <tr>\n      <th>4</th>\n      <td>Jonas Jerebko</td>\n      <td>Boston Celtics</td>\n      <td>8.0</td>\n      <td>Basketball</td>\n      <td>PF</td>\n      <td>29.0</td>\n      <td>6-10</td>\n      <td>National Basketball Association</td>\n      <td>231.0</td>\n      <td>NaN</td>\n      <td>5000000.0</td>\n    </tr>\n  </tbody>\n</table>\n</div>"
          },
          "metadata": {}
        }
      ]
    },
    {
      "cell_type": "code",
      "source": "nba[\"Sport\"]=\"Cricket\"",
      "metadata": {
        "trusted": true
      },
      "execution_count": 28,
      "outputs": []
    },
    {
      "cell_type": "code",
      "source": "nba.head()",
      "metadata": {
        "trusted": true
      },
      "execution_count": 32,
      "outputs": [
        {
          "execution_count": 32,
          "output_type": "execute_result",
          "data": {
            "text/plain": "            Name            Team  Number Position   Age Height  Weight  \\\n0  Avery Bradley  Boston Celtics     0.0       PG  25.0    6-2   180.0   \n1    Jae Crowder  Boston Celtics    99.0       SF  25.0    6-6   235.0   \n2   John Holland  Boston Celtics    30.0       SG  27.0    6-5   205.0   \n3    R.J. Hunter  Boston Celtics    28.0       SG  22.0    6-5   185.0   \n4  Jonas Jerebko  Boston Celtics     8.0       PF  29.0   6-10   231.0   \n\n             College     Salary    Sport     League  \n0              Texas  7730337.0  Cricket  IPL_India  \n1          Marquette  6796117.0  Cricket  IPL_India  \n2  Boston University        NaN  Cricket  IPL_India  \n3      Georgia State  1148640.0  Cricket  IPL_India  \n4                NaN  5000000.0  Cricket  IPL_India  ",
            "text/html": "<div>\n<style scoped>\n    .dataframe tbody tr th:only-of-type {\n        vertical-align: middle;\n    }\n\n    .dataframe tbody tr th {\n        vertical-align: top;\n    }\n\n    .dataframe thead th {\n        text-align: right;\n    }\n</style>\n<table border=\"1\" class=\"dataframe\">\n  <thead>\n    <tr style=\"text-align: right;\">\n      <th></th>\n      <th>Name</th>\n      <th>Team</th>\n      <th>Number</th>\n      <th>Position</th>\n      <th>Age</th>\n      <th>Height</th>\n      <th>Weight</th>\n      <th>College</th>\n      <th>Salary</th>\n      <th>Sport</th>\n      <th>League</th>\n    </tr>\n  </thead>\n  <tbody>\n    <tr>\n      <th>0</th>\n      <td>Avery Bradley</td>\n      <td>Boston Celtics</td>\n      <td>0.0</td>\n      <td>PG</td>\n      <td>25.0</td>\n      <td>6-2</td>\n      <td>180.0</td>\n      <td>Texas</td>\n      <td>7730337.0</td>\n      <td>Cricket</td>\n      <td>IPL_India</td>\n    </tr>\n    <tr>\n      <th>1</th>\n      <td>Jae Crowder</td>\n      <td>Boston Celtics</td>\n      <td>99.0</td>\n      <td>SF</td>\n      <td>25.0</td>\n      <td>6-6</td>\n      <td>235.0</td>\n      <td>Marquette</td>\n      <td>6796117.0</td>\n      <td>Cricket</td>\n      <td>IPL_India</td>\n    </tr>\n    <tr>\n      <th>2</th>\n      <td>John Holland</td>\n      <td>Boston Celtics</td>\n      <td>30.0</td>\n      <td>SG</td>\n      <td>27.0</td>\n      <td>6-5</td>\n      <td>205.0</td>\n      <td>Boston University</td>\n      <td>NaN</td>\n      <td>Cricket</td>\n      <td>IPL_India</td>\n    </tr>\n    <tr>\n      <th>3</th>\n      <td>R.J. Hunter</td>\n      <td>Boston Celtics</td>\n      <td>28.0</td>\n      <td>SG</td>\n      <td>22.0</td>\n      <td>6-5</td>\n      <td>185.0</td>\n      <td>Georgia State</td>\n      <td>1148640.0</td>\n      <td>Cricket</td>\n      <td>IPL_India</td>\n    </tr>\n    <tr>\n      <th>4</th>\n      <td>Jonas Jerebko</td>\n      <td>Boston Celtics</td>\n      <td>8.0</td>\n      <td>PF</td>\n      <td>29.0</td>\n      <td>6-10</td>\n      <td>231.0</td>\n      <td>NaN</td>\n      <td>5000000.0</td>\n      <td>Cricket</td>\n      <td>IPL_India</td>\n    </tr>\n  </tbody>\n</table>\n</div>"
          },
          "metadata": {}
        }
      ]
    },
    {
      "cell_type": "code",
      "source": "nba['League']='IPL_India'",
      "metadata": {
        "trusted": true
      },
      "execution_count": 31,
      "outputs": []
    },
    {
      "cell_type": "code",
      "source": "",
      "metadata": {},
      "execution_count": null,
      "outputs": []
    },
    {
      "cell_type": "code",
      "source": "",
      "metadata": {},
      "execution_count": null,
      "outputs": []
    },
    {
      "cell_type": "code",
      "source": "",
      "metadata": {},
      "execution_count": null,
      "outputs": []
    },
    {
      "cell_type": "code",
      "source": "",
      "metadata": {},
      "execution_count": null,
      "outputs": []
    },
    {
      "cell_type": "markdown",
      "source": "## Broadcasting Operations",
      "metadata": {}
    },
    {
      "cell_type": "code",
      "source": "nba = pd.read_csv(\"nba.csv\")\nnba.head(3)",
      "metadata": {
        "collapsed": false,
        "jupyter": {
          "outputs_hidden": false
        },
        "trusted": true
      },
      "execution_count": 43,
      "outputs": [
        {
          "execution_count": 43,
          "output_type": "execute_result",
          "data": {
            "text/plain": "            Name            Team  Number Position   Age Height  Weight  \\\n0  Avery Bradley  Boston Celtics     0.0       PG  25.0    6-2   180.0   \n1    Jae Crowder  Boston Celtics    99.0       SF  25.0    6-6   235.0   \n2   John Holland  Boston Celtics    30.0       SG  27.0    6-5   205.0   \n\n             College     Salary  \n0              Texas  7730337.0  \n1          Marquette  6796117.0  \n2  Boston University        NaN  ",
            "text/html": "<div>\n<style scoped>\n    .dataframe tbody tr th:only-of-type {\n        vertical-align: middle;\n    }\n\n    .dataframe tbody tr th {\n        vertical-align: top;\n    }\n\n    .dataframe thead th {\n        text-align: right;\n    }\n</style>\n<table border=\"1\" class=\"dataframe\">\n  <thead>\n    <tr style=\"text-align: right;\">\n      <th></th>\n      <th>Name</th>\n      <th>Team</th>\n      <th>Number</th>\n      <th>Position</th>\n      <th>Age</th>\n      <th>Height</th>\n      <th>Weight</th>\n      <th>College</th>\n      <th>Salary</th>\n    </tr>\n  </thead>\n  <tbody>\n    <tr>\n      <th>0</th>\n      <td>Avery Bradley</td>\n      <td>Boston Celtics</td>\n      <td>0.0</td>\n      <td>PG</td>\n      <td>25.0</td>\n      <td>6-2</td>\n      <td>180.0</td>\n      <td>Texas</td>\n      <td>7730337.0</td>\n    </tr>\n    <tr>\n      <th>1</th>\n      <td>Jae Crowder</td>\n      <td>Boston Celtics</td>\n      <td>99.0</td>\n      <td>SF</td>\n      <td>25.0</td>\n      <td>6-6</td>\n      <td>235.0</td>\n      <td>Marquette</td>\n      <td>6796117.0</td>\n    </tr>\n    <tr>\n      <th>2</th>\n      <td>John Holland</td>\n      <td>Boston Celtics</td>\n      <td>30.0</td>\n      <td>SG</td>\n      <td>27.0</td>\n      <td>6-5</td>\n      <td>205.0</td>\n      <td>Boston University</td>\n      <td>NaN</td>\n    </tr>\n  </tbody>\n</table>\n</div>"
          },
          "metadata": {}
        }
      ]
    },
    {
      "cell_type": "code",
      "source": "",
      "metadata": {},
      "execution_count": null,
      "outputs": []
    },
    {
      "cell_type": "code",
      "source": "nba[\"Age\"]+10",
      "metadata": {
        "trusted": true
      },
      "execution_count": 45,
      "outputs": [
        {
          "execution_count": 45,
          "output_type": "execute_result",
          "data": {
            "text/plain": "0      35.0\n1      35.0\n2      37.0\n3      32.0\n4      39.0\n       ... \n453    36.0\n454    34.0\n455    36.0\n456    36.0\n457     NaN\nName: Age, Length: 458, dtype: float64"
          },
          "metadata": {}
        }
      ]
    },
    {
      "cell_type": "code",
      "source": "",
      "metadata": {},
      "execution_count": null,
      "outputs": []
    },
    {
      "cell_type": "code",
      "source": "",
      "metadata": {},
      "execution_count": null,
      "outputs": []
    },
    {
      "cell_type": "code",
      "source": "",
      "metadata": {},
      "execution_count": null,
      "outputs": []
    },
    {
      "cell_type": "code",
      "source": "",
      "metadata": {},
      "execution_count": null,
      "outputs": []
    },
    {
      "cell_type": "code",
      "source": "",
      "metadata": {},
      "execution_count": null,
      "outputs": []
    },
    {
      "cell_type": "code",
      "source": "nba[\"Age\"].add(5)\nnba[\"Age\"] + 5\n\nnba[\"Salary\"].sub(5000000)\nnba[\"Salary\"] - 5000000\n\nnba[\"Weight\"].mul(0.453592)\nnba[\"Weight in Kilograms\"] = nba[\"Weight\"] * 0.453592",
      "metadata": {
        "collapsed": false,
        "jupyter": {
          "outputs_hidden": false
        }
      },
      "execution_count": 114,
      "outputs": []
    },
    {
      "cell_type": "code",
      "source": "nba.head(3)",
      "metadata": {
        "collapsed": false,
        "jupyter": {
          "outputs_hidden": false
        }
      },
      "execution_count": 115,
      "outputs": [
        {
          "execution_count": 115,
          "output_type": "execute_result",
          "data": {
            "text/html": [
              "<div>\n",
              "<table border=\"1\" class=\"dataframe\">\n",
              "  <thead>\n",
              "    <tr style=\"text-align: right;\">\n",
              "      <th></th>\n",
              "      <th>Name</th>\n",
              "      <th>Team</th>\n",
              "      <th>Number</th>\n",
              "      <th>Position</th>\n",
              "      <th>Age</th>\n",
              "      <th>Height</th>\n",
              "      <th>Weight</th>\n",
              "      <th>College</th>\n",
              "      <th>Salary</th>\n",
              "      <th>Weight in Kilograms</th>\n",
              "    </tr>\n",
              "  </thead>\n",
              "  <tbody>\n",
              "    <tr>\n",
              "      <th>0</th>\n",
              "      <td>Avery Bradley</td>\n",
              "      <td>Boston Celtics</td>\n",
              "      <td>0.0</td>\n",
              "      <td>PG</td>\n",
              "      <td>25.0</td>\n",
              "      <td>6-2</td>\n",
              "      <td>180.0</td>\n",
              "      <td>Texas</td>\n",
              "      <td>7730337.0</td>\n",
              "      <td>81.64656</td>\n",
              "    </tr>\n",
              "    <tr>\n",
              "      <th>1</th>\n",
              "      <td>Jae Crowder</td>\n",
              "      <td>Boston Celtics</td>\n",
              "      <td>99.0</td>\n",
              "      <td>SF</td>\n",
              "      <td>25.0</td>\n",
              "      <td>6-6</td>\n",
              "      <td>235.0</td>\n",
              "      <td>Marquette</td>\n",
              "      <td>6796117.0</td>\n",
              "      <td>106.59412</td>\n",
              "    </tr>\n",
              "    <tr>\n",
              "      <th>2</th>\n",
              "      <td>John Holland</td>\n",
              "      <td>Boston Celtics</td>\n",
              "      <td>30.0</td>\n",
              "      <td>SG</td>\n",
              "      <td>27.0</td>\n",
              "      <td>6-5</td>\n",
              "      <td>205.0</td>\n",
              "      <td>Boston University</td>\n",
              "      <td>NaN</td>\n",
              "      <td>92.98636</td>\n",
              "    </tr>\n",
              "  </tbody>\n",
              "</table>\n",
              "</div>"
            ],
            "text/plain": [
              "            Name            Team  Number Position   Age Height  Weight  \\\n",
              "0  Avery Bradley  Boston Celtics     0.0       PG  25.0    6-2   180.0   \n",
              "1    Jae Crowder  Boston Celtics    99.0       SF  25.0    6-6   235.0   \n",
              "2   John Holland  Boston Celtics    30.0       SG  27.0    6-5   205.0   \n",
              "\n",
              "             College     Salary  Weight in Kilograms  \n",
              "0              Texas  7730337.0             81.64656  \n",
              "1          Marquette  6796117.0            106.59412  \n",
              "2  Boston University        NaN             92.98636  "
            ]
          },
          "metadata": {}
        }
      ]
    },
    {
      "cell_type": "code",
      "source": "nba[\"Salary\"].div(1000000)\nnba[\"Salary in Millions\"] = nba[\"Salary\"] / 1000000",
      "metadata": {
        "collapsed": false,
        "jupyter": {
          "outputs_hidden": false
        }
      },
      "execution_count": 119,
      "outputs": []
    },
    {
      "cell_type": "code",
      "source": "nba.head(3)",
      "metadata": {
        "collapsed": false,
        "jupyter": {
          "outputs_hidden": false
        }
      },
      "execution_count": 120,
      "outputs": [
        {
          "execution_count": 120,
          "output_type": "execute_result",
          "data": {
            "text/html": [
              "<div>\n",
              "<table border=\"1\" class=\"dataframe\">\n",
              "  <thead>\n",
              "    <tr style=\"text-align: right;\">\n",
              "      <th></th>\n",
              "      <th>Name</th>\n",
              "      <th>Team</th>\n",
              "      <th>Number</th>\n",
              "      <th>Position</th>\n",
              "      <th>Age</th>\n",
              "      <th>Height</th>\n",
              "      <th>Weight</th>\n",
              "      <th>College</th>\n",
              "      <th>Salary</th>\n",
              "      <th>Weight in Kilograms</th>\n",
              "      <th>Salary in Millions</th>\n",
              "    </tr>\n",
              "  </thead>\n",
              "  <tbody>\n",
              "    <tr>\n",
              "      <th>0</th>\n",
              "      <td>Avery Bradley</td>\n",
              "      <td>Boston Celtics</td>\n",
              "      <td>0.0</td>\n",
              "      <td>PG</td>\n",
              "      <td>25.0</td>\n",
              "      <td>6-2</td>\n",
              "      <td>180.0</td>\n",
              "      <td>Texas</td>\n",
              "      <td>7730337.0</td>\n",
              "      <td>81.64656</td>\n",
              "      <td>7.730337</td>\n",
              "    </tr>\n",
              "    <tr>\n",
              "      <th>1</th>\n",
              "      <td>Jae Crowder</td>\n",
              "      <td>Boston Celtics</td>\n",
              "      <td>99.0</td>\n",
              "      <td>SF</td>\n",
              "      <td>25.0</td>\n",
              "      <td>6-6</td>\n",
              "      <td>235.0</td>\n",
              "      <td>Marquette</td>\n",
              "      <td>6796117.0</td>\n",
              "      <td>106.59412</td>\n",
              "      <td>6.796117</td>\n",
              "    </tr>\n",
              "    <tr>\n",
              "      <th>2</th>\n",
              "      <td>John Holland</td>\n",
              "      <td>Boston Celtics</td>\n",
              "      <td>30.0</td>\n",
              "      <td>SG</td>\n",
              "      <td>27.0</td>\n",
              "      <td>6-5</td>\n",
              "      <td>205.0</td>\n",
              "      <td>Boston University</td>\n",
              "      <td>NaN</td>\n",
              "      <td>92.98636</td>\n",
              "      <td>NaN</td>\n",
              "    </tr>\n",
              "  </tbody>\n",
              "</table>\n",
              "</div>"
            ],
            "text/plain": [
              "            Name            Team  Number Position   Age Height  Weight  \\\n",
              "0  Avery Bradley  Boston Celtics     0.0       PG  25.0    6-2   180.0   \n",
              "1    Jae Crowder  Boston Celtics    99.0       SF  25.0    6-6   235.0   \n",
              "2   John Holland  Boston Celtics    30.0       SG  27.0    6-5   205.0   \n",
              "\n",
              "             College     Salary  Weight in Kilograms  Salary in Millions  \n",
              "0              Texas  7730337.0             81.64656            7.730337  \n",
              "1          Marquette  6796117.0            106.59412            6.796117  \n",
              "2  Boston University        NaN             92.98636                 NaN  "
            ]
          },
          "metadata": {}
        }
      ]
    },
    {
      "cell_type": "markdown",
      "source": "## A Review of the `.value_counts()` Method",
      "metadata": {}
    },
    {
      "cell_type": "code",
      "source": "nba = pd.read_csv(\"nba.csv\")\nnba.head(3)",
      "metadata": {
        "collapsed": false,
        "jupyter": {
          "outputs_hidden": false
        },
        "trusted": true
      },
      "execution_count": 46,
      "outputs": [
        {
          "execution_count": 46,
          "output_type": "execute_result",
          "data": {
            "text/plain": "            Name            Team  Number Position   Age Height  Weight  \\\n0  Avery Bradley  Boston Celtics     0.0       PG  25.0    6-2   180.0   \n1    Jae Crowder  Boston Celtics    99.0       SF  25.0    6-6   235.0   \n2   John Holland  Boston Celtics    30.0       SG  27.0    6-5   205.0   \n\n             College     Salary  \n0              Texas  7730337.0  \n1          Marquette  6796117.0  \n2  Boston University        NaN  ",
            "text/html": "<div>\n<style scoped>\n    .dataframe tbody tr th:only-of-type {\n        vertical-align: middle;\n    }\n\n    .dataframe tbody tr th {\n        vertical-align: top;\n    }\n\n    .dataframe thead th {\n        text-align: right;\n    }\n</style>\n<table border=\"1\" class=\"dataframe\">\n  <thead>\n    <tr style=\"text-align: right;\">\n      <th></th>\n      <th>Name</th>\n      <th>Team</th>\n      <th>Number</th>\n      <th>Position</th>\n      <th>Age</th>\n      <th>Height</th>\n      <th>Weight</th>\n      <th>College</th>\n      <th>Salary</th>\n    </tr>\n  </thead>\n  <tbody>\n    <tr>\n      <th>0</th>\n      <td>Avery Bradley</td>\n      <td>Boston Celtics</td>\n      <td>0.0</td>\n      <td>PG</td>\n      <td>25.0</td>\n      <td>6-2</td>\n      <td>180.0</td>\n      <td>Texas</td>\n      <td>7730337.0</td>\n    </tr>\n    <tr>\n      <th>1</th>\n      <td>Jae Crowder</td>\n      <td>Boston Celtics</td>\n      <td>99.0</td>\n      <td>SF</td>\n      <td>25.0</td>\n      <td>6-6</td>\n      <td>235.0</td>\n      <td>Marquette</td>\n      <td>6796117.0</td>\n    </tr>\n    <tr>\n      <th>2</th>\n      <td>John Holland</td>\n      <td>Boston Celtics</td>\n      <td>30.0</td>\n      <td>SG</td>\n      <td>27.0</td>\n      <td>6-5</td>\n      <td>205.0</td>\n      <td>Boston University</td>\n      <td>NaN</td>\n    </tr>\n  </tbody>\n</table>\n</div>"
          },
          "metadata": {}
        }
      ]
    },
    {
      "cell_type": "code",
      "source": "nba[\"Team\"].value_counts()\nnba[\"Position\"].value_counts().head(1)\nnba[\"Weight\"].value_counts().tail()\nnba[\"Salary\"].value_counts()",
      "metadata": {
        "collapsed": true,
        "jupyter": {
          "outputs_hidden": true
        }
      },
      "execution_count": 132,
      "outputs": [
        {
          "execution_count": 132,
          "output_type": "execute_result",
          "data": {
            "text/plain": [
              "947276.0      31\n",
              "845059.0      18\n",
              "525093.0      13\n",
              "981348.0       6\n",
              "16407500.0     5\n",
              "4000000.0      5\n",
              "5000000.0      5\n",
              "1100602.0      5\n",
              "8000000.0      5\n",
              "12000000.0     5\n",
              "1000000.0      4\n",
              "7000000.0      4\n",
              "2814000.0      4\n",
              "3000000.0      4\n",
              "19689000.0     4\n",
              "2500000.0      3\n",
              "13500000.0     3\n",
              "2854940.0      3\n",
              "8500000.0      3\n",
              "5543725.0      3\n",
              "1015421.0      3\n",
              "200600.0       3\n",
              "14260870.0     2\n",
              "1140240.0      2\n",
              "15851950.0     2\n",
              "55722.0        2\n",
              "1270964.0      2\n",
              "13000000.0     2\n",
              "3425510.0      2\n",
              "2288205.0      2\n",
              "              ..\n",
              "2841960.0      1\n",
              "17120106.0     1\n",
              "1142880.0      1\n",
              "4950000.0      1\n",
              "306527.0       1\n",
              "206192.0       1\n",
              "1200000.0      1\n",
              "900000.0       1\n",
              "22875000.0     1\n",
              "4300000.0      1\n",
              "250750.0       1\n",
              "5219169.0      1\n",
              "1160160.0      1\n",
              "2357760.0      1\n",
              "6110034.0      1\n",
              "18671659.0     1\n",
              "22359364.0     1\n",
              "8042895.0      1\n",
              "5192520.0      1\n",
              "25000000.0     1\n",
              "3300000.0      1\n",
              "1749840.0      1\n",
              "1724250.0      1\n",
              "10000000.0     1\n",
              "1320000.0      1\n",
              "5103120.0      1\n",
              "6796117.0      1\n",
              "4088019.0      1\n",
              "10734586.0     1\n",
              "3036927.0      1\n",
              "Name: Salary, dtype: int64"
            ]
          },
          "metadata": {}
        }
      ]
    },
    {
      "cell_type": "code",
      "source": "nba[\"Position\"].value_counts().head(1)",
      "metadata": {
        "trusted": true
      },
      "execution_count": 48,
      "outputs": [
        {
          "execution_count": 48,
          "output_type": "execute_result",
          "data": {
            "text/plain": "SG    102\nName: Position, dtype: int64"
          },
          "metadata": {}
        }
      ]
    },
    {
      "cell_type": "code",
      "source": "",
      "metadata": {},
      "execution_count": null,
      "outputs": []
    },
    {
      "cell_type": "code",
      "source": "",
      "metadata": {},
      "execution_count": null,
      "outputs": []
    },
    {
      "cell_type": "markdown",
      "source": "## Drop Rows with Null Values",
      "metadata": {}
    },
    {
      "cell_type": "code",
      "source": "nba = pd.read_csv(\"nba.csv\")\nnba.head(3)",
      "metadata": {
        "collapsed": false,
        "jupyter": {
          "outputs_hidden": false
        },
        "trusted": true
      },
      "execution_count": 52,
      "outputs": [
        {
          "execution_count": 52,
          "output_type": "execute_result",
          "data": {
            "text/plain": "            Name            Team  Number Position   Age Height  Weight  \\\n0  Avery Bradley  Boston Celtics     0.0       PG  25.0    6-2   180.0   \n1    Jae Crowder  Boston Celtics    99.0       SF  25.0    6-6   235.0   \n2   John Holland  Boston Celtics    30.0       SG  27.0    6-5   205.0   \n\n             College     Salary  \n0              Texas  7730337.0  \n1          Marquette  6796117.0  \n2  Boston University        NaN  ",
            "text/html": "<div>\n<style scoped>\n    .dataframe tbody tr th:only-of-type {\n        vertical-align: middle;\n    }\n\n    .dataframe tbody tr th {\n        vertical-align: top;\n    }\n\n    .dataframe thead th {\n        text-align: right;\n    }\n</style>\n<table border=\"1\" class=\"dataframe\">\n  <thead>\n    <tr style=\"text-align: right;\">\n      <th></th>\n      <th>Name</th>\n      <th>Team</th>\n      <th>Number</th>\n      <th>Position</th>\n      <th>Age</th>\n      <th>Height</th>\n      <th>Weight</th>\n      <th>College</th>\n      <th>Salary</th>\n    </tr>\n  </thead>\n  <tbody>\n    <tr>\n      <th>0</th>\n      <td>Avery Bradley</td>\n      <td>Boston Celtics</td>\n      <td>0.0</td>\n      <td>PG</td>\n      <td>25.0</td>\n      <td>6-2</td>\n      <td>180.0</td>\n      <td>Texas</td>\n      <td>7730337.0</td>\n    </tr>\n    <tr>\n      <th>1</th>\n      <td>Jae Crowder</td>\n      <td>Boston Celtics</td>\n      <td>99.0</td>\n      <td>SF</td>\n      <td>25.0</td>\n      <td>6-6</td>\n      <td>235.0</td>\n      <td>Marquette</td>\n      <td>6796117.0</td>\n    </tr>\n    <tr>\n      <th>2</th>\n      <td>John Holland</td>\n      <td>Boston Celtics</td>\n      <td>30.0</td>\n      <td>SG</td>\n      <td>27.0</td>\n      <td>6-5</td>\n      <td>205.0</td>\n      <td>Boston University</td>\n      <td>NaN</td>\n    </tr>\n  </tbody>\n</table>\n</div>"
          },
          "metadata": {}
        }
      ]
    },
    {
      "cell_type": "code",
      "source": "nba.tail(3)",
      "metadata": {
        "collapsed": false,
        "jupyter": {
          "outputs_hidden": false
        },
        "trusted": true
      },
      "execution_count": 54,
      "outputs": [
        {
          "execution_count": 54,
          "output_type": "execute_result",
          "data": {
            "text/plain": "             Name       Team  Number Position   Age Height  Weight College  \\\n455  Tibor Pleiss  Utah Jazz    21.0        C  26.0    7-3   256.0     NaN   \n456   Jeff Withey  Utah Jazz    24.0        C  26.0    7-0   231.0  Kansas   \n457           NaN        NaN     NaN      NaN   NaN    NaN     NaN     NaN   \n\n        Salary  \n455  2900000.0  \n456   947276.0  \n457        NaN  ",
            "text/html": "<div>\n<style scoped>\n    .dataframe tbody tr th:only-of-type {\n        vertical-align: middle;\n    }\n\n    .dataframe tbody tr th {\n        vertical-align: top;\n    }\n\n    .dataframe thead th {\n        text-align: right;\n    }\n</style>\n<table border=\"1\" class=\"dataframe\">\n  <thead>\n    <tr style=\"text-align: right;\">\n      <th></th>\n      <th>Name</th>\n      <th>Team</th>\n      <th>Number</th>\n      <th>Position</th>\n      <th>Age</th>\n      <th>Height</th>\n      <th>Weight</th>\n      <th>College</th>\n      <th>Salary</th>\n    </tr>\n  </thead>\n  <tbody>\n    <tr>\n      <th>455</th>\n      <td>Tibor Pleiss</td>\n      <td>Utah Jazz</td>\n      <td>21.0</td>\n      <td>C</td>\n      <td>26.0</td>\n      <td>7-3</td>\n      <td>256.0</td>\n      <td>NaN</td>\n      <td>2900000.0</td>\n    </tr>\n    <tr>\n      <th>456</th>\n      <td>Jeff Withey</td>\n      <td>Utah Jazz</td>\n      <td>24.0</td>\n      <td>C</td>\n      <td>26.0</td>\n      <td>7-0</td>\n      <td>231.0</td>\n      <td>Kansas</td>\n      <td>947276.0</td>\n    </tr>\n    <tr>\n      <th>457</th>\n      <td>NaN</td>\n      <td>NaN</td>\n      <td>NaN</td>\n      <td>NaN</td>\n      <td>NaN</td>\n      <td>NaN</td>\n      <td>NaN</td>\n      <td>NaN</td>\n      <td>NaN</td>\n    </tr>\n  </tbody>\n</table>\n</div>"
          },
          "metadata": {}
        }
      ]
    },
    {
      "cell_type": "code",
      "source": "nba.dropna()",
      "metadata": {
        "trusted": true
      },
      "execution_count": 53,
      "outputs": [
        {
          "execution_count": 53,
          "output_type": "execute_result",
          "data": {
            "text/plain": "              Name            Team  Number Position   Age Height  Weight  \\\n0    Avery Bradley  Boston Celtics     0.0       PG  25.0    6-2   180.0   \n1      Jae Crowder  Boston Celtics    99.0       SF  25.0    6-6   235.0   \n3      R.J. Hunter  Boston Celtics    28.0       SG  22.0    6-5   185.0   \n6    Jordan Mickey  Boston Celtics    55.0       PF  21.0    6-8   235.0   \n7     Kelly Olynyk  Boston Celtics    41.0        C  25.0    7-0   238.0   \n..             ...             ...     ...      ...   ...    ...     ...   \n449    Rodney Hood       Utah Jazz     5.0       SG  23.0    6-8   206.0   \n451  Chris Johnson       Utah Jazz    23.0       SF  26.0    6-6   206.0   \n452     Trey Lyles       Utah Jazz    41.0       PF  20.0   6-10   234.0   \n453   Shelvin Mack       Utah Jazz     8.0       PG  26.0    6-3   203.0   \n456    Jeff Withey       Utah Jazz    24.0        C  26.0    7-0   231.0   \n\n           College     Salary  \n0            Texas  7730337.0  \n1        Marquette  6796117.0  \n3    Georgia State  1148640.0  \n6              LSU  1170960.0  \n7          Gonzaga  2165160.0  \n..             ...        ...  \n449           Duke  1348440.0  \n451         Dayton   981348.0  \n452       Kentucky  2239800.0  \n453         Butler  2433333.0  \n456         Kansas   947276.0  \n\n[364 rows x 9 columns]",
            "text/html": "<div>\n<style scoped>\n    .dataframe tbody tr th:only-of-type {\n        vertical-align: middle;\n    }\n\n    .dataframe tbody tr th {\n        vertical-align: top;\n    }\n\n    .dataframe thead th {\n        text-align: right;\n    }\n</style>\n<table border=\"1\" class=\"dataframe\">\n  <thead>\n    <tr style=\"text-align: right;\">\n      <th></th>\n      <th>Name</th>\n      <th>Team</th>\n      <th>Number</th>\n      <th>Position</th>\n      <th>Age</th>\n      <th>Height</th>\n      <th>Weight</th>\n      <th>College</th>\n      <th>Salary</th>\n    </tr>\n  </thead>\n  <tbody>\n    <tr>\n      <th>0</th>\n      <td>Avery Bradley</td>\n      <td>Boston Celtics</td>\n      <td>0.0</td>\n      <td>PG</td>\n      <td>25.0</td>\n      <td>6-2</td>\n      <td>180.0</td>\n      <td>Texas</td>\n      <td>7730337.0</td>\n    </tr>\n    <tr>\n      <th>1</th>\n      <td>Jae Crowder</td>\n      <td>Boston Celtics</td>\n      <td>99.0</td>\n      <td>SF</td>\n      <td>25.0</td>\n      <td>6-6</td>\n      <td>235.0</td>\n      <td>Marquette</td>\n      <td>6796117.0</td>\n    </tr>\n    <tr>\n      <th>3</th>\n      <td>R.J. Hunter</td>\n      <td>Boston Celtics</td>\n      <td>28.0</td>\n      <td>SG</td>\n      <td>22.0</td>\n      <td>6-5</td>\n      <td>185.0</td>\n      <td>Georgia State</td>\n      <td>1148640.0</td>\n    </tr>\n    <tr>\n      <th>6</th>\n      <td>Jordan Mickey</td>\n      <td>Boston Celtics</td>\n      <td>55.0</td>\n      <td>PF</td>\n      <td>21.0</td>\n      <td>6-8</td>\n      <td>235.0</td>\n      <td>LSU</td>\n      <td>1170960.0</td>\n    </tr>\n    <tr>\n      <th>7</th>\n      <td>Kelly Olynyk</td>\n      <td>Boston Celtics</td>\n      <td>41.0</td>\n      <td>C</td>\n      <td>25.0</td>\n      <td>7-0</td>\n      <td>238.0</td>\n      <td>Gonzaga</td>\n      <td>2165160.0</td>\n    </tr>\n    <tr>\n      <th>...</th>\n      <td>...</td>\n      <td>...</td>\n      <td>...</td>\n      <td>...</td>\n      <td>...</td>\n      <td>...</td>\n      <td>...</td>\n      <td>...</td>\n      <td>...</td>\n    </tr>\n    <tr>\n      <th>449</th>\n      <td>Rodney Hood</td>\n      <td>Utah Jazz</td>\n      <td>5.0</td>\n      <td>SG</td>\n      <td>23.0</td>\n      <td>6-8</td>\n      <td>206.0</td>\n      <td>Duke</td>\n      <td>1348440.0</td>\n    </tr>\n    <tr>\n      <th>451</th>\n      <td>Chris Johnson</td>\n      <td>Utah Jazz</td>\n      <td>23.0</td>\n      <td>SF</td>\n      <td>26.0</td>\n      <td>6-6</td>\n      <td>206.0</td>\n      <td>Dayton</td>\n      <td>981348.0</td>\n    </tr>\n    <tr>\n      <th>452</th>\n      <td>Trey Lyles</td>\n      <td>Utah Jazz</td>\n      <td>41.0</td>\n      <td>PF</td>\n      <td>20.0</td>\n      <td>6-10</td>\n      <td>234.0</td>\n      <td>Kentucky</td>\n      <td>2239800.0</td>\n    </tr>\n    <tr>\n      <th>453</th>\n      <td>Shelvin Mack</td>\n      <td>Utah Jazz</td>\n      <td>8.0</td>\n      <td>PG</td>\n      <td>26.0</td>\n      <td>6-3</td>\n      <td>203.0</td>\n      <td>Butler</td>\n      <td>2433333.0</td>\n    </tr>\n    <tr>\n      <th>456</th>\n      <td>Jeff Withey</td>\n      <td>Utah Jazz</td>\n      <td>24.0</td>\n      <td>C</td>\n      <td>26.0</td>\n      <td>7-0</td>\n      <td>231.0</td>\n      <td>Kansas</td>\n      <td>947276.0</td>\n    </tr>\n  </tbody>\n</table>\n<p>364 rows × 9 columns</p>\n</div>"
          },
          "metadata": {}
        }
      ]
    },
    {
      "cell_type": "code",
      "source": "nba.count()",
      "metadata": {
        "trusted": true
      },
      "execution_count": 55,
      "outputs": [
        {
          "execution_count": 55,
          "output_type": "execute_result",
          "data": {
            "text/plain": "Name        457\nTeam        457\nNumber      457\nPosition    457\nAge         457\nHeight      457\nWeight      457\nCollege     373\nSalary      446\ndtype: int64"
          },
          "metadata": {}
        }
      ]
    },
    {
      "cell_type": "code",
      "source": "nba.dropna(how = \"all\", inplace = True)",
      "metadata": {
        "collapsed": false,
        "jupyter": {
          "outputs_hidden": false
        },
        "trusted": true
      },
      "execution_count": 57,
      "outputs": []
    },
    {
      "cell_type": "code",
      "source": "nba.tail(3)",
      "metadata": {
        "collapsed": false,
        "jupyter": {
          "outputs_hidden": false
        },
        "trusted": true
      },
      "execution_count": 60,
      "outputs": [
        {
          "execution_count": 60,
          "output_type": "execute_result",
          "data": {
            "text/plain": "             Name       Team  Number Position   Age Height  Weight College  \\\n454     Raul Neto  Utah Jazz    25.0       PG  24.0    6-1   179.0     NaN   \n455  Tibor Pleiss  Utah Jazz    21.0        C  26.0    7-3   256.0     NaN   \n456   Jeff Withey  Utah Jazz    24.0        C  26.0    7-0   231.0  Kansas   \n\n        Salary  \n454   900000.0  \n455  2900000.0  \n456   947276.0  ",
            "text/html": "<div>\n<style scoped>\n    .dataframe tbody tr th:only-of-type {\n        vertical-align: middle;\n    }\n\n    .dataframe tbody tr th {\n        vertical-align: top;\n    }\n\n    .dataframe thead th {\n        text-align: right;\n    }\n</style>\n<table border=\"1\" class=\"dataframe\">\n  <thead>\n    <tr style=\"text-align: right;\">\n      <th></th>\n      <th>Name</th>\n      <th>Team</th>\n      <th>Number</th>\n      <th>Position</th>\n      <th>Age</th>\n      <th>Height</th>\n      <th>Weight</th>\n      <th>College</th>\n      <th>Salary</th>\n    </tr>\n  </thead>\n  <tbody>\n    <tr>\n      <th>454</th>\n      <td>Raul Neto</td>\n      <td>Utah Jazz</td>\n      <td>25.0</td>\n      <td>PG</td>\n      <td>24.0</td>\n      <td>6-1</td>\n      <td>179.0</td>\n      <td>NaN</td>\n      <td>900000.0</td>\n    </tr>\n    <tr>\n      <th>455</th>\n      <td>Tibor Pleiss</td>\n      <td>Utah Jazz</td>\n      <td>21.0</td>\n      <td>C</td>\n      <td>26.0</td>\n      <td>7-3</td>\n      <td>256.0</td>\n      <td>NaN</td>\n      <td>2900000.0</td>\n    </tr>\n    <tr>\n      <th>456</th>\n      <td>Jeff Withey</td>\n      <td>Utah Jazz</td>\n      <td>24.0</td>\n      <td>C</td>\n      <td>26.0</td>\n      <td>7-0</td>\n      <td>231.0</td>\n      <td>Kansas</td>\n      <td>947276.0</td>\n    </tr>\n  </tbody>\n</table>\n</div>"
          },
          "metadata": {}
        }
      ]
    },
    {
      "cell_type": "code",
      "source": "nba.dropna(subset=[\"College\"])",
      "metadata": {
        "trusted": true
      },
      "execution_count": 61,
      "outputs": [
        {
          "execution_count": 61,
          "output_type": "execute_result",
          "data": {
            "text/plain": "              Name            Team  Number Position   Age Height  Weight  \\\n0    Avery Bradley  Boston Celtics     0.0       PG  25.0    6-2   180.0   \n1      Jae Crowder  Boston Celtics    99.0       SF  25.0    6-6   235.0   \n2     John Holland  Boston Celtics    30.0       SG  27.0    6-5   205.0   \n3      R.J. Hunter  Boston Celtics    28.0       SG  22.0    6-5   185.0   \n6    Jordan Mickey  Boston Celtics    55.0       PF  21.0    6-8   235.0   \n..             ...             ...     ...      ...   ...    ...     ...   \n449    Rodney Hood       Utah Jazz     5.0       SG  23.0    6-8   206.0   \n451  Chris Johnson       Utah Jazz    23.0       SF  26.0    6-6   206.0   \n452     Trey Lyles       Utah Jazz    41.0       PF  20.0   6-10   234.0   \n453   Shelvin Mack       Utah Jazz     8.0       PG  26.0    6-3   203.0   \n456    Jeff Withey       Utah Jazz    24.0        C  26.0    7-0   231.0   \n\n               College     Salary  \n0                Texas  7730337.0  \n1            Marquette  6796117.0  \n2    Boston University        NaN  \n3        Georgia State  1148640.0  \n6                  LSU  1170960.0  \n..                 ...        ...  \n449               Duke  1348440.0  \n451             Dayton   981348.0  \n452           Kentucky  2239800.0  \n453             Butler  2433333.0  \n456             Kansas   947276.0  \n\n[373 rows x 9 columns]",
            "text/html": "<div>\n<style scoped>\n    .dataframe tbody tr th:only-of-type {\n        vertical-align: middle;\n    }\n\n    .dataframe tbody tr th {\n        vertical-align: top;\n    }\n\n    .dataframe thead th {\n        text-align: right;\n    }\n</style>\n<table border=\"1\" class=\"dataframe\">\n  <thead>\n    <tr style=\"text-align: right;\">\n      <th></th>\n      <th>Name</th>\n      <th>Team</th>\n      <th>Number</th>\n      <th>Position</th>\n      <th>Age</th>\n      <th>Height</th>\n      <th>Weight</th>\n      <th>College</th>\n      <th>Salary</th>\n    </tr>\n  </thead>\n  <tbody>\n    <tr>\n      <th>0</th>\n      <td>Avery Bradley</td>\n      <td>Boston Celtics</td>\n      <td>0.0</td>\n      <td>PG</td>\n      <td>25.0</td>\n      <td>6-2</td>\n      <td>180.0</td>\n      <td>Texas</td>\n      <td>7730337.0</td>\n    </tr>\n    <tr>\n      <th>1</th>\n      <td>Jae Crowder</td>\n      <td>Boston Celtics</td>\n      <td>99.0</td>\n      <td>SF</td>\n      <td>25.0</td>\n      <td>6-6</td>\n      <td>235.0</td>\n      <td>Marquette</td>\n      <td>6796117.0</td>\n    </tr>\n    <tr>\n      <th>2</th>\n      <td>John Holland</td>\n      <td>Boston Celtics</td>\n      <td>30.0</td>\n      <td>SG</td>\n      <td>27.0</td>\n      <td>6-5</td>\n      <td>205.0</td>\n      <td>Boston University</td>\n      <td>NaN</td>\n    </tr>\n    <tr>\n      <th>3</th>\n      <td>R.J. Hunter</td>\n      <td>Boston Celtics</td>\n      <td>28.0</td>\n      <td>SG</td>\n      <td>22.0</td>\n      <td>6-5</td>\n      <td>185.0</td>\n      <td>Georgia State</td>\n      <td>1148640.0</td>\n    </tr>\n    <tr>\n      <th>6</th>\n      <td>Jordan Mickey</td>\n      <td>Boston Celtics</td>\n      <td>55.0</td>\n      <td>PF</td>\n      <td>21.0</td>\n      <td>6-8</td>\n      <td>235.0</td>\n      <td>LSU</td>\n      <td>1170960.0</td>\n    </tr>\n    <tr>\n      <th>...</th>\n      <td>...</td>\n      <td>...</td>\n      <td>...</td>\n      <td>...</td>\n      <td>...</td>\n      <td>...</td>\n      <td>...</td>\n      <td>...</td>\n      <td>...</td>\n    </tr>\n    <tr>\n      <th>449</th>\n      <td>Rodney Hood</td>\n      <td>Utah Jazz</td>\n      <td>5.0</td>\n      <td>SG</td>\n      <td>23.0</td>\n      <td>6-8</td>\n      <td>206.0</td>\n      <td>Duke</td>\n      <td>1348440.0</td>\n    </tr>\n    <tr>\n      <th>451</th>\n      <td>Chris Johnson</td>\n      <td>Utah Jazz</td>\n      <td>23.0</td>\n      <td>SF</td>\n      <td>26.0</td>\n      <td>6-6</td>\n      <td>206.0</td>\n      <td>Dayton</td>\n      <td>981348.0</td>\n    </tr>\n    <tr>\n      <th>452</th>\n      <td>Trey Lyles</td>\n      <td>Utah Jazz</td>\n      <td>41.0</td>\n      <td>PF</td>\n      <td>20.0</td>\n      <td>6-10</td>\n      <td>234.0</td>\n      <td>Kentucky</td>\n      <td>2239800.0</td>\n    </tr>\n    <tr>\n      <th>453</th>\n      <td>Shelvin Mack</td>\n      <td>Utah Jazz</td>\n      <td>8.0</td>\n      <td>PG</td>\n      <td>26.0</td>\n      <td>6-3</td>\n      <td>203.0</td>\n      <td>Butler</td>\n      <td>2433333.0</td>\n    </tr>\n    <tr>\n      <th>456</th>\n      <td>Jeff Withey</td>\n      <td>Utah Jazz</td>\n      <td>24.0</td>\n      <td>C</td>\n      <td>26.0</td>\n      <td>7-0</td>\n      <td>231.0</td>\n      <td>Kansas</td>\n      <td>947276.0</td>\n    </tr>\n  </tbody>\n</table>\n<p>373 rows × 9 columns</p>\n</div>"
          },
          "metadata": {}
        }
      ]
    },
    {
      "cell_type": "code",
      "source": "nba.dropna(subset=[\"College\",\"Salary\"])",
      "metadata": {
        "trusted": true
      },
      "execution_count": 63,
      "outputs": [
        {
          "execution_count": 63,
          "output_type": "execute_result",
          "data": {
            "text/plain": "              Name            Team  Number Position   Age Height  Weight  \\\n0    Avery Bradley  Boston Celtics     0.0       PG  25.0    6-2   180.0   \n1      Jae Crowder  Boston Celtics    99.0       SF  25.0    6-6   235.0   \n3      R.J. Hunter  Boston Celtics    28.0       SG  22.0    6-5   185.0   \n6    Jordan Mickey  Boston Celtics    55.0       PF  21.0    6-8   235.0   \n7     Kelly Olynyk  Boston Celtics    41.0        C  25.0    7-0   238.0   \n..             ...             ...     ...      ...   ...    ...     ...   \n449    Rodney Hood       Utah Jazz     5.0       SG  23.0    6-8   206.0   \n451  Chris Johnson       Utah Jazz    23.0       SF  26.0    6-6   206.0   \n452     Trey Lyles       Utah Jazz    41.0       PF  20.0   6-10   234.0   \n453   Shelvin Mack       Utah Jazz     8.0       PG  26.0    6-3   203.0   \n456    Jeff Withey       Utah Jazz    24.0        C  26.0    7-0   231.0   \n\n           College     Salary  \n0            Texas  7730337.0  \n1        Marquette  6796117.0  \n3    Georgia State  1148640.0  \n6              LSU  1170960.0  \n7          Gonzaga  2165160.0  \n..             ...        ...  \n449           Duke  1348440.0  \n451         Dayton   981348.0  \n452       Kentucky  2239800.0  \n453         Butler  2433333.0  \n456         Kansas   947276.0  \n\n[364 rows x 9 columns]",
            "text/html": "<div>\n<style scoped>\n    .dataframe tbody tr th:only-of-type {\n        vertical-align: middle;\n    }\n\n    .dataframe tbody tr th {\n        vertical-align: top;\n    }\n\n    .dataframe thead th {\n        text-align: right;\n    }\n</style>\n<table border=\"1\" class=\"dataframe\">\n  <thead>\n    <tr style=\"text-align: right;\">\n      <th></th>\n      <th>Name</th>\n      <th>Team</th>\n      <th>Number</th>\n      <th>Position</th>\n      <th>Age</th>\n      <th>Height</th>\n      <th>Weight</th>\n      <th>College</th>\n      <th>Salary</th>\n    </tr>\n  </thead>\n  <tbody>\n    <tr>\n      <th>0</th>\n      <td>Avery Bradley</td>\n      <td>Boston Celtics</td>\n      <td>0.0</td>\n      <td>PG</td>\n      <td>25.0</td>\n      <td>6-2</td>\n      <td>180.0</td>\n      <td>Texas</td>\n      <td>7730337.0</td>\n    </tr>\n    <tr>\n      <th>1</th>\n      <td>Jae Crowder</td>\n      <td>Boston Celtics</td>\n      <td>99.0</td>\n      <td>SF</td>\n      <td>25.0</td>\n      <td>6-6</td>\n      <td>235.0</td>\n      <td>Marquette</td>\n      <td>6796117.0</td>\n    </tr>\n    <tr>\n      <th>3</th>\n      <td>R.J. Hunter</td>\n      <td>Boston Celtics</td>\n      <td>28.0</td>\n      <td>SG</td>\n      <td>22.0</td>\n      <td>6-5</td>\n      <td>185.0</td>\n      <td>Georgia State</td>\n      <td>1148640.0</td>\n    </tr>\n    <tr>\n      <th>6</th>\n      <td>Jordan Mickey</td>\n      <td>Boston Celtics</td>\n      <td>55.0</td>\n      <td>PF</td>\n      <td>21.0</td>\n      <td>6-8</td>\n      <td>235.0</td>\n      <td>LSU</td>\n      <td>1170960.0</td>\n    </tr>\n    <tr>\n      <th>7</th>\n      <td>Kelly Olynyk</td>\n      <td>Boston Celtics</td>\n      <td>41.0</td>\n      <td>C</td>\n      <td>25.0</td>\n      <td>7-0</td>\n      <td>238.0</td>\n      <td>Gonzaga</td>\n      <td>2165160.0</td>\n    </tr>\n    <tr>\n      <th>...</th>\n      <td>...</td>\n      <td>...</td>\n      <td>...</td>\n      <td>...</td>\n      <td>...</td>\n      <td>...</td>\n      <td>...</td>\n      <td>...</td>\n      <td>...</td>\n    </tr>\n    <tr>\n      <th>449</th>\n      <td>Rodney Hood</td>\n      <td>Utah Jazz</td>\n      <td>5.0</td>\n      <td>SG</td>\n      <td>23.0</td>\n      <td>6-8</td>\n      <td>206.0</td>\n      <td>Duke</td>\n      <td>1348440.0</td>\n    </tr>\n    <tr>\n      <th>451</th>\n      <td>Chris Johnson</td>\n      <td>Utah Jazz</td>\n      <td>23.0</td>\n      <td>SF</td>\n      <td>26.0</td>\n      <td>6-6</td>\n      <td>206.0</td>\n      <td>Dayton</td>\n      <td>981348.0</td>\n    </tr>\n    <tr>\n      <th>452</th>\n      <td>Trey Lyles</td>\n      <td>Utah Jazz</td>\n      <td>41.0</td>\n      <td>PF</td>\n      <td>20.0</td>\n      <td>6-10</td>\n      <td>234.0</td>\n      <td>Kentucky</td>\n      <td>2239800.0</td>\n    </tr>\n    <tr>\n      <th>453</th>\n      <td>Shelvin Mack</td>\n      <td>Utah Jazz</td>\n      <td>8.0</td>\n      <td>PG</td>\n      <td>26.0</td>\n      <td>6-3</td>\n      <td>203.0</td>\n      <td>Butler</td>\n      <td>2433333.0</td>\n    </tr>\n    <tr>\n      <th>456</th>\n      <td>Jeff Withey</td>\n      <td>Utah Jazz</td>\n      <td>24.0</td>\n      <td>C</td>\n      <td>26.0</td>\n      <td>7-0</td>\n      <td>231.0</td>\n      <td>Kansas</td>\n      <td>947276.0</td>\n    </tr>\n  </tbody>\n</table>\n<p>364 rows × 9 columns</p>\n</div>"
          },
          "metadata": {}
        }
      ]
    },
    {
      "cell_type": "code",
      "source": "nba.dropna(how = \"any\", inplace = True)",
      "metadata": {
        "trusted": true
      },
      "execution_count": 64,
      "outputs": []
    },
    {
      "cell_type": "code",
      "source": "nba.value_counts()",
      "metadata": {
        "trusted": true
      },
      "execution_count": 65,
      "outputs": [
        {
          "execution_count": 65,
          "output_type": "execute_result",
          "data": {
            "text/plain": "Name                    Team                   Number  Position  Age   Height  Weight  College         Salary    \nAaron Brooks            Chicago Bulls          0.0     PG        31.0  6-0     161.0   Oregon          2250000.0     1\nMike Muscala            Atlanta Hawks          31.0    PF        24.0  6-11    240.0   Bucknell        947276.0      1\nMike Dunleavy           Chicago Bulls          34.0    SG        35.0  6-9     230.0   Duke            4500000.0     1\nMike Conley             Memphis Grizzlies      11.0    PG        28.0  6-1     175.0   Ohio State      9588426.0     1\nMichael Kidd-Gilchrist  Charlotte Hornets      14.0    SF        22.0  6-7     232.0   Kentucky        6331404.0     1\n                                                                                                                    ..\nHassan Whiteside        Miami Heat             21.0    C         26.0  7-0     265.0   Marshall        981348.0      1\nHarrison Barnes         Golden State Warriors  40.0    SF        24.0  6-8     225.0   North Carolina  3873398.0     1\nGreivis Vasquez         Milwaukee Bucks        21.0    PG        29.0  6-6     217.0   Maryland        6600000.0     1\nGreg Monroe             Milwaukee Bucks        15.0    C         26.0  6-11    265.0   Georgetown      16407500.0    1\nZach Randolph           Memphis Grizzlies      50.0    PF        34.0  6-9     260.0   Michigan State  9638555.0     1\nLength: 364, dtype: int64"
          },
          "metadata": {}
        }
      ]
    },
    {
      "cell_type": "code",
      "source": "nba.count()",
      "metadata": {
        "trusted": true
      },
      "execution_count": 66,
      "outputs": [
        {
          "execution_count": 66,
          "output_type": "execute_result",
          "data": {
            "text/plain": "Name        364\nTeam        364\nNumber      364\nPosition    364\nAge         364\nHeight      364\nWeight      364\nCollege     364\nSalary      364\ndtype: int64"
          },
          "metadata": {}
        }
      ]
    },
    {
      "cell_type": "code",
      "source": "",
      "metadata": {},
      "execution_count": null,
      "outputs": []
    },
    {
      "cell_type": "code",
      "source": "",
      "metadata": {},
      "execution_count": null,
      "outputs": []
    },
    {
      "cell_type": "code",
      "source": "nba.count()",
      "metadata": {
        "trusted": true
      },
      "execution_count": 59,
      "outputs": [
        {
          "execution_count": 59,
          "output_type": "execute_result",
          "data": {
            "text/plain": "Name        457\nTeam        457\nNumber      457\nPosition    457\nAge         457\nHeight      457\nWeight      457\nCollege     373\nSalary      446\ndtype: int64"
          },
          "metadata": {}
        }
      ]
    },
    {
      "cell_type": "code",
      "source": "",
      "metadata": {},
      "execution_count": null,
      "outputs": []
    },
    {
      "cell_type": "code",
      "source": "",
      "metadata": {},
      "execution_count": null,
      "outputs": []
    },
    {
      "cell_type": "code",
      "source": "nba.head(3)",
      "metadata": {
        "collapsed": false,
        "jupyter": {
          "outputs_hidden": false
        }
      },
      "execution_count": 141,
      "outputs": [
        {
          "execution_count": 141,
          "output_type": "execute_result",
          "data": {
            "text/html": [
              "<div>\n",
              "<table border=\"1\" class=\"dataframe\">\n",
              "  <thead>\n",
              "    <tr style=\"text-align: right;\">\n",
              "      <th></th>\n",
              "      <th>Name</th>\n",
              "      <th>Team</th>\n",
              "      <th>Number</th>\n",
              "      <th>Position</th>\n",
              "      <th>Age</th>\n",
              "      <th>Height</th>\n",
              "      <th>Weight</th>\n",
              "      <th>College</th>\n",
              "      <th>Salary</th>\n",
              "    </tr>\n",
              "  </thead>\n",
              "  <tbody>\n",
              "    <tr>\n",
              "      <th>0</th>\n",
              "      <td>Avery Bradley</td>\n",
              "      <td>Boston Celtics</td>\n",
              "      <td>0.0</td>\n",
              "      <td>PG</td>\n",
              "      <td>25.0</td>\n",
              "      <td>6-2</td>\n",
              "      <td>180.0</td>\n",
              "      <td>Texas</td>\n",
              "      <td>7730337.0</td>\n",
              "    </tr>\n",
              "    <tr>\n",
              "      <th>1</th>\n",
              "      <td>Jae Crowder</td>\n",
              "      <td>Boston Celtics</td>\n",
              "      <td>99.0</td>\n",
              "      <td>SF</td>\n",
              "      <td>25.0</td>\n",
              "      <td>6-6</td>\n",
              "      <td>235.0</td>\n",
              "      <td>Marquette</td>\n",
              "      <td>6796117.0</td>\n",
              "    </tr>\n",
              "    <tr>\n",
              "      <th>2</th>\n",
              "      <td>John Holland</td>\n",
              "      <td>Boston Celtics</td>\n",
              "      <td>30.0</td>\n",
              "      <td>SG</td>\n",
              "      <td>27.0</td>\n",
              "      <td>6-5</td>\n",
              "      <td>205.0</td>\n",
              "      <td>Boston University</td>\n",
              "      <td>NaN</td>\n",
              "    </tr>\n",
              "  </tbody>\n",
              "</table>\n",
              "</div>"
            ],
            "text/plain": [
              "            Name            Team  Number Position   Age Height  Weight  \\\n",
              "0  Avery Bradley  Boston Celtics     0.0       PG  25.0    6-2   180.0   \n",
              "1    Jae Crowder  Boston Celtics    99.0       SF  25.0    6-6   235.0   \n",
              "2   John Holland  Boston Celtics    30.0       SG  27.0    6-5   205.0   \n",
              "\n",
              "             College     Salary  \n",
              "0              Texas  7730337.0  \n",
              "1          Marquette  6796117.0  \n",
              "2  Boston University        NaN  "
            ]
          },
          "metadata": {}
        }
      ]
    },
    {
      "cell_type": "code",
      "source": "nba.dropna(subset = [\"Salary\", \"College\"])",
      "metadata": {
        "collapsed": true,
        "jupyter": {
          "outputs_hidden": true
        }
      },
      "execution_count": 143,
      "outputs": [
        {
          "execution_count": 143,
          "output_type": "execute_result",
          "data": {
            "text/html": [
              "<div>\n",
              "<table border=\"1\" class=\"dataframe\">\n",
              "  <thead>\n",
              "    <tr style=\"text-align: right;\">\n",
              "      <th></th>\n",
              "      <th>Name</th>\n",
              "      <th>Team</th>\n",
              "      <th>Number</th>\n",
              "      <th>Position</th>\n",
              "      <th>Age</th>\n",
              "      <th>Height</th>\n",
              "      <th>Weight</th>\n",
              "      <th>College</th>\n",
              "      <th>Salary</th>\n",
              "    </tr>\n",
              "  </thead>\n",
              "  <tbody>\n",
              "    <tr>\n",
              "      <th>0</th>\n",
              "      <td>Avery Bradley</td>\n",
              "      <td>Boston Celtics</td>\n",
              "      <td>0.0</td>\n",
              "      <td>PG</td>\n",
              "      <td>25.0</td>\n",
              "      <td>6-2</td>\n",
              "      <td>180.0</td>\n",
              "      <td>Texas</td>\n",
              "      <td>7730337.0</td>\n",
              "    </tr>\n",
              "    <tr>\n",
              "      <th>1</th>\n",
              "      <td>Jae Crowder</td>\n",
              "      <td>Boston Celtics</td>\n",
              "      <td>99.0</td>\n",
              "      <td>SF</td>\n",
              "      <td>25.0</td>\n",
              "      <td>6-6</td>\n",
              "      <td>235.0</td>\n",
              "      <td>Marquette</td>\n",
              "      <td>6796117.0</td>\n",
              "    </tr>\n",
              "    <tr>\n",
              "      <th>3</th>\n",
              "      <td>R.J. Hunter</td>\n",
              "      <td>Boston Celtics</td>\n",
              "      <td>28.0</td>\n",
              "      <td>SG</td>\n",
              "      <td>22.0</td>\n",
              "      <td>6-5</td>\n",
              "      <td>185.0</td>\n",
              "      <td>Georgia State</td>\n",
              "      <td>1148640.0</td>\n",
              "    </tr>\n",
              "    <tr>\n",
              "      <th>6</th>\n",
              "      <td>Jordan Mickey</td>\n",
              "      <td>Boston Celtics</td>\n",
              "      <td>55.0</td>\n",
              "      <td>PF</td>\n",
              "      <td>21.0</td>\n",
              "      <td>6-8</td>\n",
              "      <td>235.0</td>\n",
              "      <td>LSU</td>\n",
              "      <td>1170960.0</td>\n",
              "    </tr>\n",
              "    <tr>\n",
              "      <th>7</th>\n",
              "      <td>Kelly Olynyk</td>\n",
              "      <td>Boston Celtics</td>\n",
              "      <td>41.0</td>\n",
              "      <td>C</td>\n",
              "      <td>25.0</td>\n",
              "      <td>7-0</td>\n",
              "      <td>238.0</td>\n",
              "      <td>Gonzaga</td>\n",
              "      <td>2165160.0</td>\n",
              "    </tr>\n",
              "    <tr>\n",
              "      <th>8</th>\n",
              "      <td>Terry Rozier</td>\n",
              "      <td>Boston Celtics</td>\n",
              "      <td>12.0</td>\n",
              "      <td>PG</td>\n",
              "      <td>22.0</td>\n",
              "      <td>6-2</td>\n",
              "      <td>190.0</td>\n",
              "      <td>Louisville</td>\n",
              "      <td>1824360.0</td>\n",
              "    </tr>\n",
              "    <tr>\n",
              "      <th>9</th>\n",
              "      <td>Marcus Smart</td>\n",
              "      <td>Boston Celtics</td>\n",
              "      <td>36.0</td>\n",
              "      <td>PG</td>\n",
              "      <td>22.0</td>\n",
              "      <td>6-4</td>\n",
              "      <td>220.0</td>\n",
              "      <td>Oklahoma State</td>\n",
              "      <td>3431040.0</td>\n",
              "    </tr>\n",
              "    <tr>\n",
              "      <th>10</th>\n",
              "      <td>Jared Sullinger</td>\n",
              "      <td>Boston Celtics</td>\n",
              "      <td>7.0</td>\n",
              "      <td>C</td>\n",
              "      <td>24.0</td>\n",
              "      <td>6-9</td>\n",
              "      <td>260.0</td>\n",
              "      <td>Ohio State</td>\n",
              "      <td>2569260.0</td>\n",
              "    </tr>\n",
              "    <tr>\n",
              "      <th>11</th>\n",
              "      <td>Isaiah Thomas</td>\n",
              "      <td>Boston Celtics</td>\n",
              "      <td>4.0</td>\n",
              "      <td>PG</td>\n",
              "      <td>27.0</td>\n",
              "      <td>5-9</td>\n",
              "      <td>185.0</td>\n",
              "      <td>Washington</td>\n",
              "      <td>6912869.0</td>\n",
              "    </tr>\n",
              "    <tr>\n",
              "      <th>12</th>\n",
              "      <td>Evan Turner</td>\n",
              "      <td>Boston Celtics</td>\n",
              "      <td>11.0</td>\n",
              "      <td>SG</td>\n",
              "      <td>27.0</td>\n",
              "      <td>6-7</td>\n",
              "      <td>220.0</td>\n",
              "      <td>Ohio State</td>\n",
              "      <td>3425510.0</td>\n",
              "    </tr>\n",
              "    <tr>\n",
              "      <th>13</th>\n",
              "      <td>James Young</td>\n",
              "      <td>Boston Celtics</td>\n",
              "      <td>13.0</td>\n",
              "      <td>SG</td>\n",
              "      <td>20.0</td>\n",
              "      <td>6-6</td>\n",
              "      <td>215.0</td>\n",
              "      <td>Kentucky</td>\n",
              "      <td>1749840.0</td>\n",
              "    </tr>\n",
              "    <tr>\n",
              "      <th>14</th>\n",
              "      <td>Tyler Zeller</td>\n",
              "      <td>Boston Celtics</td>\n",
              "      <td>44.0</td>\n",
              "      <td>C</td>\n",
              "      <td>26.0</td>\n",
              "      <td>7-0</td>\n",
              "      <td>253.0</td>\n",
              "      <td>North Carolina</td>\n",
              "      <td>2616975.0</td>\n",
              "    </tr>\n",
              "    <tr>\n",
              "      <th>16</th>\n",
              "      <td>Markel Brown</td>\n",
              "      <td>Brooklyn Nets</td>\n",
              "      <td>22.0</td>\n",
              "      <td>SG</td>\n",
              "      <td>24.0</td>\n",
              "      <td>6-3</td>\n",
              "      <td>190.0</td>\n",
              "      <td>Oklahoma State</td>\n",
              "      <td>845059.0</td>\n",
              "    </tr>\n",
              "    <tr>\n",
              "      <th>17</th>\n",
              "      <td>Wayne Ellington</td>\n",
              "      <td>Brooklyn Nets</td>\n",
              "      <td>21.0</td>\n",
              "      <td>SG</td>\n",
              "      <td>28.0</td>\n",
              "      <td>6-4</td>\n",
              "      <td>200.0</td>\n",
              "      <td>North Carolina</td>\n",
              "      <td>1500000.0</td>\n",
              "    </tr>\n",
              "    <tr>\n",
              "      <th>18</th>\n",
              "      <td>Rondae Hollis-Jefferson</td>\n",
              "      <td>Brooklyn Nets</td>\n",
              "      <td>24.0</td>\n",
              "      <td>SG</td>\n",
              "      <td>21.0</td>\n",
              "      <td>6-7</td>\n",
              "      <td>220.0</td>\n",
              "      <td>Arizona</td>\n",
              "      <td>1335480.0</td>\n",
              "    </tr>\n",
              "    <tr>\n",
              "      <th>19</th>\n",
              "      <td>Jarrett Jack</td>\n",
              "      <td>Brooklyn Nets</td>\n",
              "      <td>2.0</td>\n",
              "      <td>PG</td>\n",
              "      <td>32.0</td>\n",
              "      <td>6-3</td>\n",
              "      <td>200.0</td>\n",
              "      <td>Georgia Tech</td>\n",
              "      <td>6300000.0</td>\n",
              "    </tr>\n",
              "    <tr>\n",
              "      <th>21</th>\n",
              "      <td>Sean Kilpatrick</td>\n",
              "      <td>Brooklyn Nets</td>\n",
              "      <td>6.0</td>\n",
              "      <td>SG</td>\n",
              "      <td>26.0</td>\n",
              "      <td>6-4</td>\n",
              "      <td>219.0</td>\n",
              "      <td>Cincinnati</td>\n",
              "      <td>134215.0</td>\n",
              "    </tr>\n",
              "    <tr>\n",
              "      <th>22</th>\n",
              "      <td>Shane Larkin</td>\n",
              "      <td>Brooklyn Nets</td>\n",
              "      <td>0.0</td>\n",
              "      <td>PG</td>\n",
              "      <td>23.0</td>\n",
              "      <td>5-11</td>\n",
              "      <td>175.0</td>\n",
              "      <td>Miami (FL)</td>\n",
              "      <td>1500000.0</td>\n",
              "    </tr>\n",
              "    <tr>\n",
              "      <th>23</th>\n",
              "      <td>Brook Lopez</td>\n",
              "      <td>Brooklyn Nets</td>\n",
              "      <td>11.0</td>\n",
              "      <td>C</td>\n",
              "      <td>28.0</td>\n",
              "      <td>7-0</td>\n",
              "      <td>275.0</td>\n",
              "      <td>Stanford</td>\n",
              "      <td>19689000.0</td>\n",
              "    </tr>\n",
              "    <tr>\n",
              "      <th>24</th>\n",
              "      <td>Chris McCullough</td>\n",
              "      <td>Brooklyn Nets</td>\n",
              "      <td>1.0</td>\n",
              "      <td>PF</td>\n",
              "      <td>21.0</td>\n",
              "      <td>6-11</td>\n",
              "      <td>200.0</td>\n",
              "      <td>Syracuse</td>\n",
              "      <td>1140240.0</td>\n",
              "    </tr>\n",
              "    <tr>\n",
              "      <th>25</th>\n",
              "      <td>Willie Reed</td>\n",
              "      <td>Brooklyn Nets</td>\n",
              "      <td>33.0</td>\n",
              "      <td>PF</td>\n",
              "      <td>26.0</td>\n",
              "      <td>6-10</td>\n",
              "      <td>220.0</td>\n",
              "      <td>Saint Louis</td>\n",
              "      <td>947276.0</td>\n",
              "    </tr>\n",
              "    <tr>\n",
              "      <th>26</th>\n",
              "      <td>Thomas Robinson</td>\n",
              "      <td>Brooklyn Nets</td>\n",
              "      <td>41.0</td>\n",
              "      <td>PF</td>\n",
              "      <td>25.0</td>\n",
              "      <td>6-10</td>\n",
              "      <td>237.0</td>\n",
              "      <td>Kansas</td>\n",
              "      <td>981348.0</td>\n",
              "    </tr>\n",
              "    <tr>\n",
              "      <th>27</th>\n",
              "      <td>Henry Sims</td>\n",
              "      <td>Brooklyn Nets</td>\n",
              "      <td>14.0</td>\n",
              "      <td>C</td>\n",
              "      <td>26.0</td>\n",
              "      <td>6-10</td>\n",
              "      <td>248.0</td>\n",
              "      <td>Georgetown</td>\n",
              "      <td>947276.0</td>\n",
              "    </tr>\n",
              "    <tr>\n",
              "      <th>28</th>\n",
              "      <td>Donald Sloan</td>\n",
              "      <td>Brooklyn Nets</td>\n",
              "      <td>15.0</td>\n",
              "      <td>PG</td>\n",
              "      <td>28.0</td>\n",
              "      <td>6-3</td>\n",
              "      <td>205.0</td>\n",
              "      <td>Texas A&amp;M</td>\n",
              "      <td>947276.0</td>\n",
              "    </tr>\n",
              "    <tr>\n",
              "      <th>29</th>\n",
              "      <td>Thaddeus Young</td>\n",
              "      <td>Brooklyn Nets</td>\n",
              "      <td>30.0</td>\n",
              "      <td>PF</td>\n",
              "      <td>27.0</td>\n",
              "      <td>6-8</td>\n",
              "      <td>221.0</td>\n",
              "      <td>Georgia Tech</td>\n",
              "      <td>11235955.0</td>\n",
              "    </tr>\n",
              "    <tr>\n",
              "      <th>30</th>\n",
              "      <td>Arron Afflalo</td>\n",
              "      <td>New York Knicks</td>\n",
              "      <td>4.0</td>\n",
              "      <td>SG</td>\n",
              "      <td>30.0</td>\n",
              "      <td>6-5</td>\n",
              "      <td>210.0</td>\n",
              "      <td>UCLA</td>\n",
              "      <td>8000000.0</td>\n",
              "    </tr>\n",
              "    <tr>\n",
              "      <th>31</th>\n",
              "      <td>Lou Amundson</td>\n",
              "      <td>New York Knicks</td>\n",
              "      <td>17.0</td>\n",
              "      <td>PF</td>\n",
              "      <td>33.0</td>\n",
              "      <td>6-9</td>\n",
              "      <td>220.0</td>\n",
              "      <td>UNLV</td>\n",
              "      <td>1635476.0</td>\n",
              "    </tr>\n",
              "    <tr>\n",
              "      <th>33</th>\n",
              "      <td>Carmelo Anthony</td>\n",
              "      <td>New York Knicks</td>\n",
              "      <td>7.0</td>\n",
              "      <td>SF</td>\n",
              "      <td>32.0</td>\n",
              "      <td>6-8</td>\n",
              "      <td>240.0</td>\n",
              "      <td>Syracuse</td>\n",
              "      <td>22875000.0</td>\n",
              "    </tr>\n",
              "    <tr>\n",
              "      <th>35</th>\n",
              "      <td>Cleanthony Early</td>\n",
              "      <td>New York Knicks</td>\n",
              "      <td>11.0</td>\n",
              "      <td>SF</td>\n",
              "      <td>25.0</td>\n",
              "      <td>6-8</td>\n",
              "      <td>210.0</td>\n",
              "      <td>Wichita State</td>\n",
              "      <td>845059.0</td>\n",
              "    </tr>\n",
              "    <tr>\n",
              "      <th>36</th>\n",
              "      <td>Langston Galloway</td>\n",
              "      <td>New York Knicks</td>\n",
              "      <td>2.0</td>\n",
              "      <td>SG</td>\n",
              "      <td>24.0</td>\n",
              "      <td>6-2</td>\n",
              "      <td>200.0</td>\n",
              "      <td>Saint Joseph's</td>\n",
              "      <td>845059.0</td>\n",
              "    </tr>\n",
              "    <tr>\n",
              "      <th>...</th>\n",
              "      <td>...</td>\n",
              "      <td>...</td>\n",
              "      <td>...</td>\n",
              "      <td>...</td>\n",
              "      <td>...</td>\n",
              "      <td>...</td>\n",
              "      <td>...</td>\n",
              "      <td>...</td>\n",
              "      <td>...</td>\n",
              "    </tr>\n",
              "    <tr>\n",
              "      <th>422</th>\n",
              "      <td>Cameron Payne</td>\n",
              "      <td>Oklahoma City Thunder</td>\n",
              "      <td>22.0</td>\n",
              "      <td>PG</td>\n",
              "      <td>21.0</td>\n",
              "      <td>6-3</td>\n",
              "      <td>185.0</td>\n",
              "      <td>Murray State</td>\n",
              "      <td>2021520.0</td>\n",
              "    </tr>\n",
              "    <tr>\n",
              "      <th>423</th>\n",
              "      <td>Andre Roberson</td>\n",
              "      <td>Oklahoma City Thunder</td>\n",
              "      <td>21.0</td>\n",
              "      <td>SG</td>\n",
              "      <td>24.0</td>\n",
              "      <td>6-7</td>\n",
              "      <td>210.0</td>\n",
              "      <td>Colorado</td>\n",
              "      <td>1210800.0</td>\n",
              "    </tr>\n",
              "    <tr>\n",
              "      <th>424</th>\n",
              "      <td>Kyle Singler</td>\n",
              "      <td>Oklahoma City Thunder</td>\n",
              "      <td>5.0</td>\n",
              "      <td>SF</td>\n",
              "      <td>28.0</td>\n",
              "      <td>6-8</td>\n",
              "      <td>228.0</td>\n",
              "      <td>Duke</td>\n",
              "      <td>4500000.0</td>\n",
              "    </tr>\n",
              "    <tr>\n",
              "      <th>425</th>\n",
              "      <td>Dion Waiters</td>\n",
              "      <td>Oklahoma City Thunder</td>\n",
              "      <td>3.0</td>\n",
              "      <td>SG</td>\n",
              "      <td>24.0</td>\n",
              "      <td>6-4</td>\n",
              "      <td>220.0</td>\n",
              "      <td>Syracuse</td>\n",
              "      <td>5138430.0</td>\n",
              "    </tr>\n",
              "    <tr>\n",
              "      <th>426</th>\n",
              "      <td>Russell Westbrook</td>\n",
              "      <td>Oklahoma City Thunder</td>\n",
              "      <td>0.0</td>\n",
              "      <td>PG</td>\n",
              "      <td>27.0</td>\n",
              "      <td>6-3</td>\n",
              "      <td>200.0</td>\n",
              "      <td>UCLA</td>\n",
              "      <td>16744218.0</td>\n",
              "    </tr>\n",
              "    <tr>\n",
              "      <th>427</th>\n",
              "      <td>Cliff Alexander</td>\n",
              "      <td>Portland Trail Blazers</td>\n",
              "      <td>34.0</td>\n",
              "      <td>PF</td>\n",
              "      <td>20.0</td>\n",
              "      <td>6-8</td>\n",
              "      <td>240.0</td>\n",
              "      <td>Kansas</td>\n",
              "      <td>525093.0</td>\n",
              "    </tr>\n",
              "    <tr>\n",
              "      <th>428</th>\n",
              "      <td>Al-Farouq Aminu</td>\n",
              "      <td>Portland Trail Blazers</td>\n",
              "      <td>8.0</td>\n",
              "      <td>SF</td>\n",
              "      <td>25.0</td>\n",
              "      <td>6-9</td>\n",
              "      <td>215.0</td>\n",
              "      <td>Wake Forest</td>\n",
              "      <td>8042895.0</td>\n",
              "    </tr>\n",
              "    <tr>\n",
              "      <th>429</th>\n",
              "      <td>Pat Connaughton</td>\n",
              "      <td>Portland Trail Blazers</td>\n",
              "      <td>5.0</td>\n",
              "      <td>SG</td>\n",
              "      <td>23.0</td>\n",
              "      <td>6-5</td>\n",
              "      <td>206.0</td>\n",
              "      <td>Notre Dame</td>\n",
              "      <td>625093.0</td>\n",
              "    </tr>\n",
              "    <tr>\n",
              "      <th>430</th>\n",
              "      <td>Allen Crabbe</td>\n",
              "      <td>Portland Trail Blazers</td>\n",
              "      <td>23.0</td>\n",
              "      <td>SG</td>\n",
              "      <td>24.0</td>\n",
              "      <td>6-6</td>\n",
              "      <td>210.0</td>\n",
              "      <td>California</td>\n",
              "      <td>947276.0</td>\n",
              "    </tr>\n",
              "    <tr>\n",
              "      <th>431</th>\n",
              "      <td>Ed Davis</td>\n",
              "      <td>Portland Trail Blazers</td>\n",
              "      <td>17.0</td>\n",
              "      <td>C</td>\n",
              "      <td>27.0</td>\n",
              "      <td>6-10</td>\n",
              "      <td>240.0</td>\n",
              "      <td>North Carolina</td>\n",
              "      <td>6980802.0</td>\n",
              "    </tr>\n",
              "    <tr>\n",
              "      <th>432</th>\n",
              "      <td>Maurice Harkless</td>\n",
              "      <td>Portland Trail Blazers</td>\n",
              "      <td>4.0</td>\n",
              "      <td>SF</td>\n",
              "      <td>23.0</td>\n",
              "      <td>6-9</td>\n",
              "      <td>215.0</td>\n",
              "      <td>St. John's</td>\n",
              "      <td>2894059.0</td>\n",
              "    </tr>\n",
              "    <tr>\n",
              "      <th>433</th>\n",
              "      <td>Gerald Henderson</td>\n",
              "      <td>Portland Trail Blazers</td>\n",
              "      <td>9.0</td>\n",
              "      <td>SG</td>\n",
              "      <td>28.0</td>\n",
              "      <td>6-5</td>\n",
              "      <td>215.0</td>\n",
              "      <td>Duke</td>\n",
              "      <td>6000000.0</td>\n",
              "    </tr>\n",
              "    <tr>\n",
              "      <th>434</th>\n",
              "      <td>Chris Kaman</td>\n",
              "      <td>Portland Trail Blazers</td>\n",
              "      <td>35.0</td>\n",
              "      <td>C</td>\n",
              "      <td>34.0</td>\n",
              "      <td>7-0</td>\n",
              "      <td>265.0</td>\n",
              "      <td>Central Michigan</td>\n",
              "      <td>5016000.0</td>\n",
              "    </tr>\n",
              "    <tr>\n",
              "      <th>435</th>\n",
              "      <td>Meyers Leonard</td>\n",
              "      <td>Portland Trail Blazers</td>\n",
              "      <td>11.0</td>\n",
              "      <td>PF</td>\n",
              "      <td>24.0</td>\n",
              "      <td>7-1</td>\n",
              "      <td>245.0</td>\n",
              "      <td>Illinois</td>\n",
              "      <td>3075880.0</td>\n",
              "    </tr>\n",
              "    <tr>\n",
              "      <th>436</th>\n",
              "      <td>Damian Lillard</td>\n",
              "      <td>Portland Trail Blazers</td>\n",
              "      <td>0.0</td>\n",
              "      <td>PG</td>\n",
              "      <td>25.0</td>\n",
              "      <td>6-3</td>\n",
              "      <td>195.0</td>\n",
              "      <td>Weber State</td>\n",
              "      <td>4236287.0</td>\n",
              "    </tr>\n",
              "    <tr>\n",
              "      <th>437</th>\n",
              "      <td>C.J. McCollum</td>\n",
              "      <td>Portland Trail Blazers</td>\n",
              "      <td>3.0</td>\n",
              "      <td>SG</td>\n",
              "      <td>24.0</td>\n",
              "      <td>6-4</td>\n",
              "      <td>200.0</td>\n",
              "      <td>Lehigh</td>\n",
              "      <td>2525160.0</td>\n",
              "    </tr>\n",
              "    <tr>\n",
              "      <th>438</th>\n",
              "      <td>Luis Montero</td>\n",
              "      <td>Portland Trail Blazers</td>\n",
              "      <td>44.0</td>\n",
              "      <td>SG</td>\n",
              "      <td>23.0</td>\n",
              "      <td>6-7</td>\n",
              "      <td>185.0</td>\n",
              "      <td>Westchester CC</td>\n",
              "      <td>525093.0</td>\n",
              "    </tr>\n",
              "    <tr>\n",
              "      <th>439</th>\n",
              "      <td>Mason Plumlee</td>\n",
              "      <td>Portland Trail Blazers</td>\n",
              "      <td>24.0</td>\n",
              "      <td>C</td>\n",
              "      <td>26.0</td>\n",
              "      <td>6-11</td>\n",
              "      <td>235.0</td>\n",
              "      <td>Duke</td>\n",
              "      <td>1415520.0</td>\n",
              "    </tr>\n",
              "    <tr>\n",
              "      <th>440</th>\n",
              "      <td>Brian Roberts</td>\n",
              "      <td>Portland Trail Blazers</td>\n",
              "      <td>2.0</td>\n",
              "      <td>PG</td>\n",
              "      <td>30.0</td>\n",
              "      <td>6-1</td>\n",
              "      <td>173.0</td>\n",
              "      <td>Dayton</td>\n",
              "      <td>2854940.0</td>\n",
              "    </tr>\n",
              "    <tr>\n",
              "      <th>441</th>\n",
              "      <td>Noah Vonleh</td>\n",
              "      <td>Portland Trail Blazers</td>\n",
              "      <td>21.0</td>\n",
              "      <td>PF</td>\n",
              "      <td>20.0</td>\n",
              "      <td>6-9</td>\n",
              "      <td>240.0</td>\n",
              "      <td>Indiana</td>\n",
              "      <td>2637720.0</td>\n",
              "    </tr>\n",
              "    <tr>\n",
              "      <th>442</th>\n",
              "      <td>Trevor Booker</td>\n",
              "      <td>Utah Jazz</td>\n",
              "      <td>33.0</td>\n",
              "      <td>PF</td>\n",
              "      <td>28.0</td>\n",
              "      <td>6-8</td>\n",
              "      <td>228.0</td>\n",
              "      <td>Clemson</td>\n",
              "      <td>4775000.0</td>\n",
              "    </tr>\n",
              "    <tr>\n",
              "      <th>443</th>\n",
              "      <td>Trey Burke</td>\n",
              "      <td>Utah Jazz</td>\n",
              "      <td>3.0</td>\n",
              "      <td>PG</td>\n",
              "      <td>23.0</td>\n",
              "      <td>6-1</td>\n",
              "      <td>191.0</td>\n",
              "      <td>Michigan</td>\n",
              "      <td>2658240.0</td>\n",
              "    </tr>\n",
              "    <tr>\n",
              "      <th>444</th>\n",
              "      <td>Alec Burks</td>\n",
              "      <td>Utah Jazz</td>\n",
              "      <td>10.0</td>\n",
              "      <td>SG</td>\n",
              "      <td>24.0</td>\n",
              "      <td>6-6</td>\n",
              "      <td>214.0</td>\n",
              "      <td>Colorado</td>\n",
              "      <td>9463484.0</td>\n",
              "    </tr>\n",
              "    <tr>\n",
              "      <th>446</th>\n",
              "      <td>Derrick Favors</td>\n",
              "      <td>Utah Jazz</td>\n",
              "      <td>15.0</td>\n",
              "      <td>PF</td>\n",
              "      <td>24.0</td>\n",
              "      <td>6-10</td>\n",
              "      <td>265.0</td>\n",
              "      <td>Georgia Tech</td>\n",
              "      <td>12000000.0</td>\n",
              "    </tr>\n",
              "    <tr>\n",
              "      <th>448</th>\n",
              "      <td>Gordon Hayward</td>\n",
              "      <td>Utah Jazz</td>\n",
              "      <td>20.0</td>\n",
              "      <td>SF</td>\n",
              "      <td>26.0</td>\n",
              "      <td>6-8</td>\n",
              "      <td>226.0</td>\n",
              "      <td>Butler</td>\n",
              "      <td>15409570.0</td>\n",
              "    </tr>\n",
              "    <tr>\n",
              "      <th>449</th>\n",
              "      <td>Rodney Hood</td>\n",
              "      <td>Utah Jazz</td>\n",
              "      <td>5.0</td>\n",
              "      <td>SG</td>\n",
              "      <td>23.0</td>\n",
              "      <td>6-8</td>\n",
              "      <td>206.0</td>\n",
              "      <td>Duke</td>\n",
              "      <td>1348440.0</td>\n",
              "    </tr>\n",
              "    <tr>\n",
              "      <th>451</th>\n",
              "      <td>Chris Johnson</td>\n",
              "      <td>Utah Jazz</td>\n",
              "      <td>23.0</td>\n",
              "      <td>SF</td>\n",
              "      <td>26.0</td>\n",
              "      <td>6-6</td>\n",
              "      <td>206.0</td>\n",
              "      <td>Dayton</td>\n",
              "      <td>981348.0</td>\n",
              "    </tr>\n",
              "    <tr>\n",
              "      <th>452</th>\n",
              "      <td>Trey Lyles</td>\n",
              "      <td>Utah Jazz</td>\n",
              "      <td>41.0</td>\n",
              "      <td>PF</td>\n",
              "      <td>20.0</td>\n",
              "      <td>6-10</td>\n",
              "      <td>234.0</td>\n",
              "      <td>Kentucky</td>\n",
              "      <td>2239800.0</td>\n",
              "    </tr>\n",
              "    <tr>\n",
              "      <th>453</th>\n",
              "      <td>Shelvin Mack</td>\n",
              "      <td>Utah Jazz</td>\n",
              "      <td>8.0</td>\n",
              "      <td>PG</td>\n",
              "      <td>26.0</td>\n",
              "      <td>6-3</td>\n",
              "      <td>203.0</td>\n",
              "      <td>Butler</td>\n",
              "      <td>2433333.0</td>\n",
              "    </tr>\n",
              "    <tr>\n",
              "      <th>456</th>\n",
              "      <td>Jeff Withey</td>\n",
              "      <td>Utah Jazz</td>\n",
              "      <td>24.0</td>\n",
              "      <td>C</td>\n",
              "      <td>26.0</td>\n",
              "      <td>7-0</td>\n",
              "      <td>231.0</td>\n",
              "      <td>Kansas</td>\n",
              "      <td>947276.0</td>\n",
              "    </tr>\n",
              "  </tbody>\n",
              "</table>\n",
              "<p>364 rows × 9 columns</p>\n",
              "</div>"
            ],
            "text/plain": [
              "                        Name                    Team  Number Position   Age  \\\n",
              "0              Avery Bradley          Boston Celtics     0.0       PG  25.0   \n",
              "1                Jae Crowder          Boston Celtics    99.0       SF  25.0   \n",
              "3                R.J. Hunter          Boston Celtics    28.0       SG  22.0   \n",
              "6              Jordan Mickey          Boston Celtics    55.0       PF  21.0   \n",
              "7               Kelly Olynyk          Boston Celtics    41.0        C  25.0   \n",
              "8               Terry Rozier          Boston Celtics    12.0       PG  22.0   \n",
              "9               Marcus Smart          Boston Celtics    36.0       PG  22.0   \n",
              "10           Jared Sullinger          Boston Celtics     7.0        C  24.0   \n",
              "11             Isaiah Thomas          Boston Celtics     4.0       PG  27.0   \n",
              "12               Evan Turner          Boston Celtics    11.0       SG  27.0   \n",
              "13               James Young          Boston Celtics    13.0       SG  20.0   \n",
              "14              Tyler Zeller          Boston Celtics    44.0        C  26.0   \n",
              "16              Markel Brown           Brooklyn Nets    22.0       SG  24.0   \n",
              "17           Wayne Ellington           Brooklyn Nets    21.0       SG  28.0   \n",
              "18   Rondae Hollis-Jefferson           Brooklyn Nets    24.0       SG  21.0   \n",
              "19              Jarrett Jack           Brooklyn Nets     2.0       PG  32.0   \n",
              "21           Sean Kilpatrick           Brooklyn Nets     6.0       SG  26.0   \n",
              "22              Shane Larkin           Brooklyn Nets     0.0       PG  23.0   \n",
              "23               Brook Lopez           Brooklyn Nets    11.0        C  28.0   \n",
              "24          Chris McCullough           Brooklyn Nets     1.0       PF  21.0   \n",
              "25               Willie Reed           Brooklyn Nets    33.0       PF  26.0   \n",
              "26           Thomas Robinson           Brooklyn Nets    41.0       PF  25.0   \n",
              "27                Henry Sims           Brooklyn Nets    14.0        C  26.0   \n",
              "28              Donald Sloan           Brooklyn Nets    15.0       PG  28.0   \n",
              "29            Thaddeus Young           Brooklyn Nets    30.0       PF  27.0   \n",
              "30             Arron Afflalo         New York Knicks     4.0       SG  30.0   \n",
              "31              Lou Amundson         New York Knicks    17.0       PF  33.0   \n",
              "33           Carmelo Anthony         New York Knicks     7.0       SF  32.0   \n",
              "35          Cleanthony Early         New York Knicks    11.0       SF  25.0   \n",
              "36         Langston Galloway         New York Knicks     2.0       SG  24.0   \n",
              "..                       ...                     ...     ...      ...   ...   \n",
              "422            Cameron Payne   Oklahoma City Thunder    22.0       PG  21.0   \n",
              "423           Andre Roberson   Oklahoma City Thunder    21.0       SG  24.0   \n",
              "424             Kyle Singler   Oklahoma City Thunder     5.0       SF  28.0   \n",
              "425             Dion Waiters   Oklahoma City Thunder     3.0       SG  24.0   \n",
              "426        Russell Westbrook   Oklahoma City Thunder     0.0       PG  27.0   \n",
              "427          Cliff Alexander  Portland Trail Blazers    34.0       PF  20.0   \n",
              "428          Al-Farouq Aminu  Portland Trail Blazers     8.0       SF  25.0   \n",
              "429          Pat Connaughton  Portland Trail Blazers     5.0       SG  23.0   \n",
              "430             Allen Crabbe  Portland Trail Blazers    23.0       SG  24.0   \n",
              "431                 Ed Davis  Portland Trail Blazers    17.0        C  27.0   \n",
              "432         Maurice Harkless  Portland Trail Blazers     4.0       SF  23.0   \n",
              "433         Gerald Henderson  Portland Trail Blazers     9.0       SG  28.0   \n",
              "434              Chris Kaman  Portland Trail Blazers    35.0        C  34.0   \n",
              "435           Meyers Leonard  Portland Trail Blazers    11.0       PF  24.0   \n",
              "436           Damian Lillard  Portland Trail Blazers     0.0       PG  25.0   \n",
              "437            C.J. McCollum  Portland Trail Blazers     3.0       SG  24.0   \n",
              "438             Luis Montero  Portland Trail Blazers    44.0       SG  23.0   \n",
              "439            Mason Plumlee  Portland Trail Blazers    24.0        C  26.0   \n",
              "440            Brian Roberts  Portland Trail Blazers     2.0       PG  30.0   \n",
              "441              Noah Vonleh  Portland Trail Blazers    21.0       PF  20.0   \n",
              "442            Trevor Booker               Utah Jazz    33.0       PF  28.0   \n",
              "443               Trey Burke               Utah Jazz     3.0       PG  23.0   \n",
              "444               Alec Burks               Utah Jazz    10.0       SG  24.0   \n",
              "446           Derrick Favors               Utah Jazz    15.0       PF  24.0   \n",
              "448           Gordon Hayward               Utah Jazz    20.0       SF  26.0   \n",
              "449              Rodney Hood               Utah Jazz     5.0       SG  23.0   \n",
              "451            Chris Johnson               Utah Jazz    23.0       SF  26.0   \n",
              "452               Trey Lyles               Utah Jazz    41.0       PF  20.0   \n",
              "453             Shelvin Mack               Utah Jazz     8.0       PG  26.0   \n",
              "456              Jeff Withey               Utah Jazz    24.0        C  26.0   \n",
              "\n",
              "    Height  Weight           College      Salary  \n",
              "0      6-2   180.0             Texas   7730337.0  \n",
              "1      6-6   235.0         Marquette   6796117.0  \n",
              "3      6-5   185.0     Georgia State   1148640.0  \n",
              "6      6-8   235.0               LSU   1170960.0  \n",
              "7      7-0   238.0           Gonzaga   2165160.0  \n",
              "8      6-2   190.0        Louisville   1824360.0  \n",
              "9      6-4   220.0    Oklahoma State   3431040.0  \n",
              "10     6-9   260.0        Ohio State   2569260.0  \n",
              "11     5-9   185.0        Washington   6912869.0  \n",
              "12     6-7   220.0        Ohio State   3425510.0  \n",
              "13     6-6   215.0          Kentucky   1749840.0  \n",
              "14     7-0   253.0    North Carolina   2616975.0  \n",
              "16     6-3   190.0    Oklahoma State    845059.0  \n",
              "17     6-4   200.0    North Carolina   1500000.0  \n",
              "18     6-7   220.0           Arizona   1335480.0  \n",
              "19     6-3   200.0      Georgia Tech   6300000.0  \n",
              "21     6-4   219.0        Cincinnati    134215.0  \n",
              "22    5-11   175.0        Miami (FL)   1500000.0  \n",
              "23     7-0   275.0          Stanford  19689000.0  \n",
              "24    6-11   200.0          Syracuse   1140240.0  \n",
              "25    6-10   220.0       Saint Louis    947276.0  \n",
              "26    6-10   237.0            Kansas    981348.0  \n",
              "27    6-10   248.0        Georgetown    947276.0  \n",
              "28     6-3   205.0         Texas A&M    947276.0  \n",
              "29     6-8   221.0      Georgia Tech  11235955.0  \n",
              "30     6-5   210.0              UCLA   8000000.0  \n",
              "31     6-9   220.0              UNLV   1635476.0  \n",
              "33     6-8   240.0          Syracuse  22875000.0  \n",
              "35     6-8   210.0     Wichita State    845059.0  \n",
              "36     6-2   200.0    Saint Joseph's    845059.0  \n",
              "..     ...     ...               ...         ...  \n",
              "422    6-3   185.0      Murray State   2021520.0  \n",
              "423    6-7   210.0          Colorado   1210800.0  \n",
              "424    6-8   228.0              Duke   4500000.0  \n",
              "425    6-4   220.0          Syracuse   5138430.0  \n",
              "426    6-3   200.0              UCLA  16744218.0  \n",
              "427    6-8   240.0            Kansas    525093.0  \n",
              "428    6-9   215.0       Wake Forest   8042895.0  \n",
              "429    6-5   206.0        Notre Dame    625093.0  \n",
              "430    6-6   210.0        California    947276.0  \n",
              "431   6-10   240.0    North Carolina   6980802.0  \n",
              "432    6-9   215.0        St. John's   2894059.0  \n",
              "433    6-5   215.0              Duke   6000000.0  \n",
              "434    7-0   265.0  Central Michigan   5016000.0  \n",
              "435    7-1   245.0          Illinois   3075880.0  \n",
              "436    6-3   195.0       Weber State   4236287.0  \n",
              "437    6-4   200.0            Lehigh   2525160.0  \n",
              "438    6-7   185.0    Westchester CC    525093.0  \n",
              "439   6-11   235.0              Duke   1415520.0  \n",
              "440    6-1   173.0            Dayton   2854940.0  \n",
              "441    6-9   240.0           Indiana   2637720.0  \n",
              "442    6-8   228.0           Clemson   4775000.0  \n",
              "443    6-1   191.0          Michigan   2658240.0  \n",
              "444    6-6   214.0          Colorado   9463484.0  \n",
              "446   6-10   265.0      Georgia Tech  12000000.0  \n",
              "448    6-8   226.0            Butler  15409570.0  \n",
              "449    6-8   206.0              Duke   1348440.0  \n",
              "451    6-6   206.0            Dayton    981348.0  \n",
              "452   6-10   234.0          Kentucky   2239800.0  \n",
              "453    6-3   203.0            Butler   2433333.0  \n",
              "456    7-0   231.0            Kansas    947276.0  \n",
              "\n",
              "[364 rows x 9 columns]"
            ]
          },
          "metadata": {}
        }
      ]
    },
    {
      "cell_type": "markdown",
      "source": "## Fill in Null Values with the `.fillna()` Method",
      "metadata": {}
    },
    {
      "cell_type": "code",
      "source": "nba = pd.read_csv(\"nba.csv\")\nnba.head(3)",
      "metadata": {
        "collapsed": false,
        "jupyter": {
          "outputs_hidden": false
        },
        "trusted": true
      },
      "execution_count": 81,
      "outputs": [
        {
          "execution_count": 81,
          "output_type": "execute_result",
          "data": {
            "text/plain": "            Name            Team  Number Position   Age Height  Weight  \\\n0  Avery Bradley  Boston Celtics     0.0       PG  25.0    6-2   180.0   \n1    Jae Crowder  Boston Celtics    99.0       SF  25.0    6-6   235.0   \n2   John Holland  Boston Celtics    30.0       SG  27.0    6-5   205.0   \n\n             College     Salary  \n0              Texas  7730337.0  \n1          Marquette  6796117.0  \n2  Boston University        NaN  ",
            "text/html": "<div>\n<style scoped>\n    .dataframe tbody tr th:only-of-type {\n        vertical-align: middle;\n    }\n\n    .dataframe tbody tr th {\n        vertical-align: top;\n    }\n\n    .dataframe thead th {\n        text-align: right;\n    }\n</style>\n<table border=\"1\" class=\"dataframe\">\n  <thead>\n    <tr style=\"text-align: right;\">\n      <th></th>\n      <th>Name</th>\n      <th>Team</th>\n      <th>Number</th>\n      <th>Position</th>\n      <th>Age</th>\n      <th>Height</th>\n      <th>Weight</th>\n      <th>College</th>\n      <th>Salary</th>\n    </tr>\n  </thead>\n  <tbody>\n    <tr>\n      <th>0</th>\n      <td>Avery Bradley</td>\n      <td>Boston Celtics</td>\n      <td>0.0</td>\n      <td>PG</td>\n      <td>25.0</td>\n      <td>6-2</td>\n      <td>180.0</td>\n      <td>Texas</td>\n      <td>7730337.0</td>\n    </tr>\n    <tr>\n      <th>1</th>\n      <td>Jae Crowder</td>\n      <td>Boston Celtics</td>\n      <td>99.0</td>\n      <td>SF</td>\n      <td>25.0</td>\n      <td>6-6</td>\n      <td>235.0</td>\n      <td>Marquette</td>\n      <td>6796117.0</td>\n    </tr>\n    <tr>\n      <th>2</th>\n      <td>John Holland</td>\n      <td>Boston Celtics</td>\n      <td>30.0</td>\n      <td>SG</td>\n      <td>27.0</td>\n      <td>6-5</td>\n      <td>205.0</td>\n      <td>Boston University</td>\n      <td>NaN</td>\n    </tr>\n  </tbody>\n</table>\n</div>"
          },
          "metadata": {}
        }
      ]
    },
    {
      "cell_type": "code",
      "source": "nba.fillna(0)",
      "metadata": {
        "collapsed": true,
        "jupyter": {
          "outputs_hidden": true
        }
      },
      "execution_count": 21,
      "outputs": [
        {
          "execution_count": 21,
          "output_type": "execute_result",
          "data": {
            "text/html": [
              "<div>\n",
              "<table border=\"1\" class=\"dataframe\">\n",
              "  <thead>\n",
              "    <tr style=\"text-align: right;\">\n",
              "      <th></th>\n",
              "      <th>Name</th>\n",
              "      <th>Team</th>\n",
              "      <th>Number</th>\n",
              "      <th>Position</th>\n",
              "      <th>Age</th>\n",
              "      <th>Height</th>\n",
              "      <th>Weight</th>\n",
              "      <th>College</th>\n",
              "      <th>Salary</th>\n",
              "    </tr>\n",
              "  </thead>\n",
              "  <tbody>\n",
              "    <tr>\n",
              "      <th>0</th>\n",
              "      <td>Avery Bradley</td>\n",
              "      <td>Boston Celtics</td>\n",
              "      <td>0.0</td>\n",
              "      <td>PG</td>\n",
              "      <td>25.0</td>\n",
              "      <td>6-2</td>\n",
              "      <td>180.0</td>\n",
              "      <td>Texas</td>\n",
              "      <td>7730337.0</td>\n",
              "    </tr>\n",
              "    <tr>\n",
              "      <th>1</th>\n",
              "      <td>Jae Crowder</td>\n",
              "      <td>Boston Celtics</td>\n",
              "      <td>99.0</td>\n",
              "      <td>SF</td>\n",
              "      <td>25.0</td>\n",
              "      <td>6-6</td>\n",
              "      <td>235.0</td>\n",
              "      <td>Marquette</td>\n",
              "      <td>6796117.0</td>\n",
              "    </tr>\n",
              "    <tr>\n",
              "      <th>2</th>\n",
              "      <td>John Holland</td>\n",
              "      <td>Boston Celtics</td>\n",
              "      <td>30.0</td>\n",
              "      <td>SG</td>\n",
              "      <td>27.0</td>\n",
              "      <td>6-5</td>\n",
              "      <td>205.0</td>\n",
              "      <td>Boston University</td>\n",
              "      <td>0.0</td>\n",
              "    </tr>\n",
              "    <tr>\n",
              "      <th>3</th>\n",
              "      <td>R.J. Hunter</td>\n",
              "      <td>Boston Celtics</td>\n",
              "      <td>28.0</td>\n",
              "      <td>SG</td>\n",
              "      <td>22.0</td>\n",
              "      <td>6-5</td>\n",
              "      <td>185.0</td>\n",
              "      <td>Georgia State</td>\n",
              "      <td>1148640.0</td>\n",
              "    </tr>\n",
              "    <tr>\n",
              "      <th>4</th>\n",
              "      <td>Jonas Jerebko</td>\n",
              "      <td>Boston Celtics</td>\n",
              "      <td>8.0</td>\n",
              "      <td>PF</td>\n",
              "      <td>29.0</td>\n",
              "      <td>6-10</td>\n",
              "      <td>231.0</td>\n",
              "      <td>0</td>\n",
              "      <td>5000000.0</td>\n",
              "    </tr>\n",
              "    <tr>\n",
              "      <th>5</th>\n",
              "      <td>Amir Johnson</td>\n",
              "      <td>Boston Celtics</td>\n",
              "      <td>90.0</td>\n",
              "      <td>PF</td>\n",
              "      <td>29.0</td>\n",
              "      <td>6-9</td>\n",
              "      <td>240.0</td>\n",
              "      <td>0</td>\n",
              "      <td>12000000.0</td>\n",
              "    </tr>\n",
              "    <tr>\n",
              "      <th>6</th>\n",
              "      <td>Jordan Mickey</td>\n",
              "      <td>Boston Celtics</td>\n",
              "      <td>55.0</td>\n",
              "      <td>PF</td>\n",
              "      <td>21.0</td>\n",
              "      <td>6-8</td>\n",
              "      <td>235.0</td>\n",
              "      <td>LSU</td>\n",
              "      <td>1170960.0</td>\n",
              "    </tr>\n",
              "    <tr>\n",
              "      <th>7</th>\n",
              "      <td>Kelly Olynyk</td>\n",
              "      <td>Boston Celtics</td>\n",
              "      <td>41.0</td>\n",
              "      <td>C</td>\n",
              "      <td>25.0</td>\n",
              "      <td>7-0</td>\n",
              "      <td>238.0</td>\n",
              "      <td>Gonzaga</td>\n",
              "      <td>2165160.0</td>\n",
              "    </tr>\n",
              "    <tr>\n",
              "      <th>8</th>\n",
              "      <td>Terry Rozier</td>\n",
              "      <td>Boston Celtics</td>\n",
              "      <td>12.0</td>\n",
              "      <td>PG</td>\n",
              "      <td>22.0</td>\n",
              "      <td>6-2</td>\n",
              "      <td>190.0</td>\n",
              "      <td>Louisville</td>\n",
              "      <td>1824360.0</td>\n",
              "    </tr>\n",
              "    <tr>\n",
              "      <th>9</th>\n",
              "      <td>Marcus Smart</td>\n",
              "      <td>Boston Celtics</td>\n",
              "      <td>36.0</td>\n",
              "      <td>PG</td>\n",
              "      <td>22.0</td>\n",
              "      <td>6-4</td>\n",
              "      <td>220.0</td>\n",
              "      <td>Oklahoma State</td>\n",
              "      <td>3431040.0</td>\n",
              "    </tr>\n",
              "    <tr>\n",
              "      <th>10</th>\n",
              "      <td>Jared Sullinger</td>\n",
              "      <td>Boston Celtics</td>\n",
              "      <td>7.0</td>\n",
              "      <td>C</td>\n",
              "      <td>24.0</td>\n",
              "      <td>6-9</td>\n",
              "      <td>260.0</td>\n",
              "      <td>Ohio State</td>\n",
              "      <td>2569260.0</td>\n",
              "    </tr>\n",
              "    <tr>\n",
              "      <th>11</th>\n",
              "      <td>Isaiah Thomas</td>\n",
              "      <td>Boston Celtics</td>\n",
              "      <td>4.0</td>\n",
              "      <td>PG</td>\n",
              "      <td>27.0</td>\n",
              "      <td>5-9</td>\n",
              "      <td>185.0</td>\n",
              "      <td>Washington</td>\n",
              "      <td>6912869.0</td>\n",
              "    </tr>\n",
              "    <tr>\n",
              "      <th>12</th>\n",
              "      <td>Evan Turner</td>\n",
              "      <td>Boston Celtics</td>\n",
              "      <td>11.0</td>\n",
              "      <td>SG</td>\n",
              "      <td>27.0</td>\n",
              "      <td>6-7</td>\n",
              "      <td>220.0</td>\n",
              "      <td>Ohio State</td>\n",
              "      <td>3425510.0</td>\n",
              "    </tr>\n",
              "    <tr>\n",
              "      <th>13</th>\n",
              "      <td>James Young</td>\n",
              "      <td>Boston Celtics</td>\n",
              "      <td>13.0</td>\n",
              "      <td>SG</td>\n",
              "      <td>20.0</td>\n",
              "      <td>6-6</td>\n",
              "      <td>215.0</td>\n",
              "      <td>Kentucky</td>\n",
              "      <td>1749840.0</td>\n",
              "    </tr>\n",
              "    <tr>\n",
              "      <th>14</th>\n",
              "      <td>Tyler Zeller</td>\n",
              "      <td>Boston Celtics</td>\n",
              "      <td>44.0</td>\n",
              "      <td>C</td>\n",
              "      <td>26.0</td>\n",
              "      <td>7-0</td>\n",
              "      <td>253.0</td>\n",
              "      <td>North Carolina</td>\n",
              "      <td>2616975.0</td>\n",
              "    </tr>\n",
              "    <tr>\n",
              "      <th>15</th>\n",
              "      <td>Bojan Bogdanovic</td>\n",
              "      <td>Brooklyn Nets</td>\n",
              "      <td>44.0</td>\n",
              "      <td>SG</td>\n",
              "      <td>27.0</td>\n",
              "      <td>6-8</td>\n",
              "      <td>216.0</td>\n",
              "      <td>0</td>\n",
              "      <td>3425510.0</td>\n",
              "    </tr>\n",
              "    <tr>\n",
              "      <th>16</th>\n",
              "      <td>Markel Brown</td>\n",
              "      <td>Brooklyn Nets</td>\n",
              "      <td>22.0</td>\n",
              "      <td>SG</td>\n",
              "      <td>24.0</td>\n",
              "      <td>6-3</td>\n",
              "      <td>190.0</td>\n",
              "      <td>Oklahoma State</td>\n",
              "      <td>845059.0</td>\n",
              "    </tr>\n",
              "    <tr>\n",
              "      <th>17</th>\n",
              "      <td>Wayne Ellington</td>\n",
              "      <td>Brooklyn Nets</td>\n",
              "      <td>21.0</td>\n",
              "      <td>SG</td>\n",
              "      <td>28.0</td>\n",
              "      <td>6-4</td>\n",
              "      <td>200.0</td>\n",
              "      <td>North Carolina</td>\n",
              "      <td>1500000.0</td>\n",
              "    </tr>\n",
              "    <tr>\n",
              "      <th>18</th>\n",
              "      <td>Rondae Hollis-Jefferson</td>\n",
              "      <td>Brooklyn Nets</td>\n",
              "      <td>24.0</td>\n",
              "      <td>SG</td>\n",
              "      <td>21.0</td>\n",
              "      <td>6-7</td>\n",
              "      <td>220.0</td>\n",
              "      <td>Arizona</td>\n",
              "      <td>1335480.0</td>\n",
              "    </tr>\n",
              "    <tr>\n",
              "      <th>19</th>\n",
              "      <td>Jarrett Jack</td>\n",
              "      <td>Brooklyn Nets</td>\n",
              "      <td>2.0</td>\n",
              "      <td>PG</td>\n",
              "      <td>32.0</td>\n",
              "      <td>6-3</td>\n",
              "      <td>200.0</td>\n",
              "      <td>Georgia Tech</td>\n",
              "      <td>6300000.0</td>\n",
              "    </tr>\n",
              "    <tr>\n",
              "      <th>20</th>\n",
              "      <td>Sergey Karasev</td>\n",
              "      <td>Brooklyn Nets</td>\n",
              "      <td>10.0</td>\n",
              "      <td>SG</td>\n",
              "      <td>22.0</td>\n",
              "      <td>6-7</td>\n",
              "      <td>208.0</td>\n",
              "      <td>0</td>\n",
              "      <td>1599840.0</td>\n",
              "    </tr>\n",
              "    <tr>\n",
              "      <th>21</th>\n",
              "      <td>Sean Kilpatrick</td>\n",
              "      <td>Brooklyn Nets</td>\n",
              "      <td>6.0</td>\n",
              "      <td>SG</td>\n",
              "      <td>26.0</td>\n",
              "      <td>6-4</td>\n",
              "      <td>219.0</td>\n",
              "      <td>Cincinnati</td>\n",
              "      <td>134215.0</td>\n",
              "    </tr>\n",
              "    <tr>\n",
              "      <th>22</th>\n",
              "      <td>Shane Larkin</td>\n",
              "      <td>Brooklyn Nets</td>\n",
              "      <td>0.0</td>\n",
              "      <td>PG</td>\n",
              "      <td>23.0</td>\n",
              "      <td>5-11</td>\n",
              "      <td>175.0</td>\n",
              "      <td>Miami (FL)</td>\n",
              "      <td>1500000.0</td>\n",
              "    </tr>\n",
              "    <tr>\n",
              "      <th>23</th>\n",
              "      <td>Brook Lopez</td>\n",
              "      <td>Brooklyn Nets</td>\n",
              "      <td>11.0</td>\n",
              "      <td>C</td>\n",
              "      <td>28.0</td>\n",
              "      <td>7-0</td>\n",
              "      <td>275.0</td>\n",
              "      <td>Stanford</td>\n",
              "      <td>19689000.0</td>\n",
              "    </tr>\n",
              "    <tr>\n",
              "      <th>24</th>\n",
              "      <td>Chris McCullough</td>\n",
              "      <td>Brooklyn Nets</td>\n",
              "      <td>1.0</td>\n",
              "      <td>PF</td>\n",
              "      <td>21.0</td>\n",
              "      <td>6-11</td>\n",
              "      <td>200.0</td>\n",
              "      <td>Syracuse</td>\n",
              "      <td>1140240.0</td>\n",
              "    </tr>\n",
              "    <tr>\n",
              "      <th>25</th>\n",
              "      <td>Willie Reed</td>\n",
              "      <td>Brooklyn Nets</td>\n",
              "      <td>33.0</td>\n",
              "      <td>PF</td>\n",
              "      <td>26.0</td>\n",
              "      <td>6-10</td>\n",
              "      <td>220.0</td>\n",
              "      <td>Saint Louis</td>\n",
              "      <td>947276.0</td>\n",
              "    </tr>\n",
              "    <tr>\n",
              "      <th>26</th>\n",
              "      <td>Thomas Robinson</td>\n",
              "      <td>Brooklyn Nets</td>\n",
              "      <td>41.0</td>\n",
              "      <td>PF</td>\n",
              "      <td>25.0</td>\n",
              "      <td>6-10</td>\n",
              "      <td>237.0</td>\n",
              "      <td>Kansas</td>\n",
              "      <td>981348.0</td>\n",
              "    </tr>\n",
              "    <tr>\n",
              "      <th>27</th>\n",
              "      <td>Henry Sims</td>\n",
              "      <td>Brooklyn Nets</td>\n",
              "      <td>14.0</td>\n",
              "      <td>C</td>\n",
              "      <td>26.0</td>\n",
              "      <td>6-10</td>\n",
              "      <td>248.0</td>\n",
              "      <td>Georgetown</td>\n",
              "      <td>947276.0</td>\n",
              "    </tr>\n",
              "    <tr>\n",
              "      <th>28</th>\n",
              "      <td>Donald Sloan</td>\n",
              "      <td>Brooklyn Nets</td>\n",
              "      <td>15.0</td>\n",
              "      <td>PG</td>\n",
              "      <td>28.0</td>\n",
              "      <td>6-3</td>\n",
              "      <td>205.0</td>\n",
              "      <td>Texas A&amp;M</td>\n",
              "      <td>947276.0</td>\n",
              "    </tr>\n",
              "    <tr>\n",
              "      <th>29</th>\n",
              "      <td>Thaddeus Young</td>\n",
              "      <td>Brooklyn Nets</td>\n",
              "      <td>30.0</td>\n",
              "      <td>PF</td>\n",
              "      <td>27.0</td>\n",
              "      <td>6-8</td>\n",
              "      <td>221.0</td>\n",
              "      <td>Georgia Tech</td>\n",
              "      <td>11235955.0</td>\n",
              "    </tr>\n",
              "    <tr>\n",
              "      <th>...</th>\n",
              "      <td>...</td>\n",
              "      <td>...</td>\n",
              "      <td>...</td>\n",
              "      <td>...</td>\n",
              "      <td>...</td>\n",
              "      <td>...</td>\n",
              "      <td>...</td>\n",
              "      <td>...</td>\n",
              "      <td>...</td>\n",
              "    </tr>\n",
              "    <tr>\n",
              "      <th>428</th>\n",
              "      <td>Al-Farouq Aminu</td>\n",
              "      <td>Portland Trail Blazers</td>\n",
              "      <td>8.0</td>\n",
              "      <td>SF</td>\n",
              "      <td>25.0</td>\n",
              "      <td>6-9</td>\n",
              "      <td>215.0</td>\n",
              "      <td>Wake Forest</td>\n",
              "      <td>8042895.0</td>\n",
              "    </tr>\n",
              "    <tr>\n",
              "      <th>429</th>\n",
              "      <td>Pat Connaughton</td>\n",
              "      <td>Portland Trail Blazers</td>\n",
              "      <td>5.0</td>\n",
              "      <td>SG</td>\n",
              "      <td>23.0</td>\n",
              "      <td>6-5</td>\n",
              "      <td>206.0</td>\n",
              "      <td>Notre Dame</td>\n",
              "      <td>625093.0</td>\n",
              "    </tr>\n",
              "    <tr>\n",
              "      <th>430</th>\n",
              "      <td>Allen Crabbe</td>\n",
              "      <td>Portland Trail Blazers</td>\n",
              "      <td>23.0</td>\n",
              "      <td>SG</td>\n",
              "      <td>24.0</td>\n",
              "      <td>6-6</td>\n",
              "      <td>210.0</td>\n",
              "      <td>California</td>\n",
              "      <td>947276.0</td>\n",
              "    </tr>\n",
              "    <tr>\n",
              "      <th>431</th>\n",
              "      <td>Ed Davis</td>\n",
              "      <td>Portland Trail Blazers</td>\n",
              "      <td>17.0</td>\n",
              "      <td>C</td>\n",
              "      <td>27.0</td>\n",
              "      <td>6-10</td>\n",
              "      <td>240.0</td>\n",
              "      <td>North Carolina</td>\n",
              "      <td>6980802.0</td>\n",
              "    </tr>\n",
              "    <tr>\n",
              "      <th>432</th>\n",
              "      <td>Maurice Harkless</td>\n",
              "      <td>Portland Trail Blazers</td>\n",
              "      <td>4.0</td>\n",
              "      <td>SF</td>\n",
              "      <td>23.0</td>\n",
              "      <td>6-9</td>\n",
              "      <td>215.0</td>\n",
              "      <td>St. John's</td>\n",
              "      <td>2894059.0</td>\n",
              "    </tr>\n",
              "    <tr>\n",
              "      <th>433</th>\n",
              "      <td>Gerald Henderson</td>\n",
              "      <td>Portland Trail Blazers</td>\n",
              "      <td>9.0</td>\n",
              "      <td>SG</td>\n",
              "      <td>28.0</td>\n",
              "      <td>6-5</td>\n",
              "      <td>215.0</td>\n",
              "      <td>Duke</td>\n",
              "      <td>6000000.0</td>\n",
              "    </tr>\n",
              "    <tr>\n",
              "      <th>434</th>\n",
              "      <td>Chris Kaman</td>\n",
              "      <td>Portland Trail Blazers</td>\n",
              "      <td>35.0</td>\n",
              "      <td>C</td>\n",
              "      <td>34.0</td>\n",
              "      <td>7-0</td>\n",
              "      <td>265.0</td>\n",
              "      <td>Central Michigan</td>\n",
              "      <td>5016000.0</td>\n",
              "    </tr>\n",
              "    <tr>\n",
              "      <th>435</th>\n",
              "      <td>Meyers Leonard</td>\n",
              "      <td>Portland Trail Blazers</td>\n",
              "      <td>11.0</td>\n",
              "      <td>PF</td>\n",
              "      <td>24.0</td>\n",
              "      <td>7-1</td>\n",
              "      <td>245.0</td>\n",
              "      <td>Illinois</td>\n",
              "      <td>3075880.0</td>\n",
              "    </tr>\n",
              "    <tr>\n",
              "      <th>436</th>\n",
              "      <td>Damian Lillard</td>\n",
              "      <td>Portland Trail Blazers</td>\n",
              "      <td>0.0</td>\n",
              "      <td>PG</td>\n",
              "      <td>25.0</td>\n",
              "      <td>6-3</td>\n",
              "      <td>195.0</td>\n",
              "      <td>Weber State</td>\n",
              "      <td>4236287.0</td>\n",
              "    </tr>\n",
              "    <tr>\n",
              "      <th>437</th>\n",
              "      <td>C.J. McCollum</td>\n",
              "      <td>Portland Trail Blazers</td>\n",
              "      <td>3.0</td>\n",
              "      <td>SG</td>\n",
              "      <td>24.0</td>\n",
              "      <td>6-4</td>\n",
              "      <td>200.0</td>\n",
              "      <td>Lehigh</td>\n",
              "      <td>2525160.0</td>\n",
              "    </tr>\n",
              "    <tr>\n",
              "      <th>438</th>\n",
              "      <td>Luis Montero</td>\n",
              "      <td>Portland Trail Blazers</td>\n",
              "      <td>44.0</td>\n",
              "      <td>SG</td>\n",
              "      <td>23.0</td>\n",
              "      <td>6-7</td>\n",
              "      <td>185.0</td>\n",
              "      <td>Westchester CC</td>\n",
              "      <td>525093.0</td>\n",
              "    </tr>\n",
              "    <tr>\n",
              "      <th>439</th>\n",
              "      <td>Mason Plumlee</td>\n",
              "      <td>Portland Trail Blazers</td>\n",
              "      <td>24.0</td>\n",
              "      <td>C</td>\n",
              "      <td>26.0</td>\n",
              "      <td>6-11</td>\n",
              "      <td>235.0</td>\n",
              "      <td>Duke</td>\n",
              "      <td>1415520.0</td>\n",
              "    </tr>\n",
              "    <tr>\n",
              "      <th>440</th>\n",
              "      <td>Brian Roberts</td>\n",
              "      <td>Portland Trail Blazers</td>\n",
              "      <td>2.0</td>\n",
              "      <td>PG</td>\n",
              "      <td>30.0</td>\n",
              "      <td>6-1</td>\n",
              "      <td>173.0</td>\n",
              "      <td>Dayton</td>\n",
              "      <td>2854940.0</td>\n",
              "    </tr>\n",
              "    <tr>\n",
              "      <th>441</th>\n",
              "      <td>Noah Vonleh</td>\n",
              "      <td>Portland Trail Blazers</td>\n",
              "      <td>21.0</td>\n",
              "      <td>PF</td>\n",
              "      <td>20.0</td>\n",
              "      <td>6-9</td>\n",
              "      <td>240.0</td>\n",
              "      <td>Indiana</td>\n",
              "      <td>2637720.0</td>\n",
              "    </tr>\n",
              "    <tr>\n",
              "      <th>442</th>\n",
              "      <td>Trevor Booker</td>\n",
              "      <td>Utah Jazz</td>\n",
              "      <td>33.0</td>\n",
              "      <td>PF</td>\n",
              "      <td>28.0</td>\n",
              "      <td>6-8</td>\n",
              "      <td>228.0</td>\n",
              "      <td>Clemson</td>\n",
              "      <td>4775000.0</td>\n",
              "    </tr>\n",
              "    <tr>\n",
              "      <th>443</th>\n",
              "      <td>Trey Burke</td>\n",
              "      <td>Utah Jazz</td>\n",
              "      <td>3.0</td>\n",
              "      <td>PG</td>\n",
              "      <td>23.0</td>\n",
              "      <td>6-1</td>\n",
              "      <td>191.0</td>\n",
              "      <td>Michigan</td>\n",
              "      <td>2658240.0</td>\n",
              "    </tr>\n",
              "    <tr>\n",
              "      <th>444</th>\n",
              "      <td>Alec Burks</td>\n",
              "      <td>Utah Jazz</td>\n",
              "      <td>10.0</td>\n",
              "      <td>SG</td>\n",
              "      <td>24.0</td>\n",
              "      <td>6-6</td>\n",
              "      <td>214.0</td>\n",
              "      <td>Colorado</td>\n",
              "      <td>9463484.0</td>\n",
              "    </tr>\n",
              "    <tr>\n",
              "      <th>445</th>\n",
              "      <td>Dante Exum</td>\n",
              "      <td>Utah Jazz</td>\n",
              "      <td>11.0</td>\n",
              "      <td>PG</td>\n",
              "      <td>20.0</td>\n",
              "      <td>6-6</td>\n",
              "      <td>190.0</td>\n",
              "      <td>0</td>\n",
              "      <td>3777720.0</td>\n",
              "    </tr>\n",
              "    <tr>\n",
              "      <th>446</th>\n",
              "      <td>Derrick Favors</td>\n",
              "      <td>Utah Jazz</td>\n",
              "      <td>15.0</td>\n",
              "      <td>PF</td>\n",
              "      <td>24.0</td>\n",
              "      <td>6-10</td>\n",
              "      <td>265.0</td>\n",
              "      <td>Georgia Tech</td>\n",
              "      <td>12000000.0</td>\n",
              "    </tr>\n",
              "    <tr>\n",
              "      <th>447</th>\n",
              "      <td>Rudy Gobert</td>\n",
              "      <td>Utah Jazz</td>\n",
              "      <td>27.0</td>\n",
              "      <td>C</td>\n",
              "      <td>23.0</td>\n",
              "      <td>7-1</td>\n",
              "      <td>245.0</td>\n",
              "      <td>0</td>\n",
              "      <td>1175880.0</td>\n",
              "    </tr>\n",
              "    <tr>\n",
              "      <th>448</th>\n",
              "      <td>Gordon Hayward</td>\n",
              "      <td>Utah Jazz</td>\n",
              "      <td>20.0</td>\n",
              "      <td>SF</td>\n",
              "      <td>26.0</td>\n",
              "      <td>6-8</td>\n",
              "      <td>226.0</td>\n",
              "      <td>Butler</td>\n",
              "      <td>15409570.0</td>\n",
              "    </tr>\n",
              "    <tr>\n",
              "      <th>449</th>\n",
              "      <td>Rodney Hood</td>\n",
              "      <td>Utah Jazz</td>\n",
              "      <td>5.0</td>\n",
              "      <td>SG</td>\n",
              "      <td>23.0</td>\n",
              "      <td>6-8</td>\n",
              "      <td>206.0</td>\n",
              "      <td>Duke</td>\n",
              "      <td>1348440.0</td>\n",
              "    </tr>\n",
              "    <tr>\n",
              "      <th>450</th>\n",
              "      <td>Joe Ingles</td>\n",
              "      <td>Utah Jazz</td>\n",
              "      <td>2.0</td>\n",
              "      <td>SF</td>\n",
              "      <td>28.0</td>\n",
              "      <td>6-8</td>\n",
              "      <td>226.0</td>\n",
              "      <td>0</td>\n",
              "      <td>2050000.0</td>\n",
              "    </tr>\n",
              "    <tr>\n",
              "      <th>451</th>\n",
              "      <td>Chris Johnson</td>\n",
              "      <td>Utah Jazz</td>\n",
              "      <td>23.0</td>\n",
              "      <td>SF</td>\n",
              "      <td>26.0</td>\n",
              "      <td>6-6</td>\n",
              "      <td>206.0</td>\n",
              "      <td>Dayton</td>\n",
              "      <td>981348.0</td>\n",
              "    </tr>\n",
              "    <tr>\n",
              "      <th>452</th>\n",
              "      <td>Trey Lyles</td>\n",
              "      <td>Utah Jazz</td>\n",
              "      <td>41.0</td>\n",
              "      <td>PF</td>\n",
              "      <td>20.0</td>\n",
              "      <td>6-10</td>\n",
              "      <td>234.0</td>\n",
              "      <td>Kentucky</td>\n",
              "      <td>2239800.0</td>\n",
              "    </tr>\n",
              "    <tr>\n",
              "      <th>453</th>\n",
              "      <td>Shelvin Mack</td>\n",
              "      <td>Utah Jazz</td>\n",
              "      <td>8.0</td>\n",
              "      <td>PG</td>\n",
              "      <td>26.0</td>\n",
              "      <td>6-3</td>\n",
              "      <td>203.0</td>\n",
              "      <td>Butler</td>\n",
              "      <td>2433333.0</td>\n",
              "    </tr>\n",
              "    <tr>\n",
              "      <th>454</th>\n",
              "      <td>Raul Neto</td>\n",
              "      <td>Utah Jazz</td>\n",
              "      <td>25.0</td>\n",
              "      <td>PG</td>\n",
              "      <td>24.0</td>\n",
              "      <td>6-1</td>\n",
              "      <td>179.0</td>\n",
              "      <td>0</td>\n",
              "      <td>900000.0</td>\n",
              "    </tr>\n",
              "    <tr>\n",
              "      <th>455</th>\n",
              "      <td>Tibor Pleiss</td>\n",
              "      <td>Utah Jazz</td>\n",
              "      <td>21.0</td>\n",
              "      <td>C</td>\n",
              "      <td>26.0</td>\n",
              "      <td>7-3</td>\n",
              "      <td>256.0</td>\n",
              "      <td>0</td>\n",
              "      <td>2900000.0</td>\n",
              "    </tr>\n",
              "    <tr>\n",
              "      <th>456</th>\n",
              "      <td>Jeff Withey</td>\n",
              "      <td>Utah Jazz</td>\n",
              "      <td>24.0</td>\n",
              "      <td>C</td>\n",
              "      <td>26.0</td>\n",
              "      <td>7-0</td>\n",
              "      <td>231.0</td>\n",
              "      <td>Kansas</td>\n",
              "      <td>947276.0</td>\n",
              "    </tr>\n",
              "    <tr>\n",
              "      <th>457</th>\n",
              "      <td>0</td>\n",
              "      <td>0</td>\n",
              "      <td>0.0</td>\n",
              "      <td>0</td>\n",
              "      <td>0.0</td>\n",
              "      <td>0</td>\n",
              "      <td>0.0</td>\n",
              "      <td>0</td>\n",
              "      <td>0.0</td>\n",
              "    </tr>\n",
              "  </tbody>\n",
              "</table>\n",
              "<p>458 rows × 9 columns</p>\n",
              "</div>"
            ],
            "text/plain": [
              "                        Name                    Team  Number Position   Age  \\\n",
              "0              Avery Bradley          Boston Celtics     0.0       PG  25.0   \n",
              "1                Jae Crowder          Boston Celtics    99.0       SF  25.0   \n",
              "2               John Holland          Boston Celtics    30.0       SG  27.0   \n",
              "3                R.J. Hunter          Boston Celtics    28.0       SG  22.0   \n",
              "4              Jonas Jerebko          Boston Celtics     8.0       PF  29.0   \n",
              "5               Amir Johnson          Boston Celtics    90.0       PF  29.0   \n",
              "6              Jordan Mickey          Boston Celtics    55.0       PF  21.0   \n",
              "7               Kelly Olynyk          Boston Celtics    41.0        C  25.0   \n",
              "8               Terry Rozier          Boston Celtics    12.0       PG  22.0   \n",
              "9               Marcus Smart          Boston Celtics    36.0       PG  22.0   \n",
              "10           Jared Sullinger          Boston Celtics     7.0        C  24.0   \n",
              "11             Isaiah Thomas          Boston Celtics     4.0       PG  27.0   \n",
              "12               Evan Turner          Boston Celtics    11.0       SG  27.0   \n",
              "13               James Young          Boston Celtics    13.0       SG  20.0   \n",
              "14              Tyler Zeller          Boston Celtics    44.0        C  26.0   \n",
              "15          Bojan Bogdanovic           Brooklyn Nets    44.0       SG  27.0   \n",
              "16              Markel Brown           Brooklyn Nets    22.0       SG  24.0   \n",
              "17           Wayne Ellington           Brooklyn Nets    21.0       SG  28.0   \n",
              "18   Rondae Hollis-Jefferson           Brooklyn Nets    24.0       SG  21.0   \n",
              "19              Jarrett Jack           Brooklyn Nets     2.0       PG  32.0   \n",
              "20            Sergey Karasev           Brooklyn Nets    10.0       SG  22.0   \n",
              "21           Sean Kilpatrick           Brooklyn Nets     6.0       SG  26.0   \n",
              "22              Shane Larkin           Brooklyn Nets     0.0       PG  23.0   \n",
              "23               Brook Lopez           Brooklyn Nets    11.0        C  28.0   \n",
              "24          Chris McCullough           Brooklyn Nets     1.0       PF  21.0   \n",
              "25               Willie Reed           Brooklyn Nets    33.0       PF  26.0   \n",
              "26           Thomas Robinson           Brooklyn Nets    41.0       PF  25.0   \n",
              "27                Henry Sims           Brooklyn Nets    14.0        C  26.0   \n",
              "28              Donald Sloan           Brooklyn Nets    15.0       PG  28.0   \n",
              "29            Thaddeus Young           Brooklyn Nets    30.0       PF  27.0   \n",
              "..                       ...                     ...     ...      ...   ...   \n",
              "428          Al-Farouq Aminu  Portland Trail Blazers     8.0       SF  25.0   \n",
              "429          Pat Connaughton  Portland Trail Blazers     5.0       SG  23.0   \n",
              "430             Allen Crabbe  Portland Trail Blazers    23.0       SG  24.0   \n",
              "431                 Ed Davis  Portland Trail Blazers    17.0        C  27.0   \n",
              "432         Maurice Harkless  Portland Trail Blazers     4.0       SF  23.0   \n",
              "433         Gerald Henderson  Portland Trail Blazers     9.0       SG  28.0   \n",
              "434              Chris Kaman  Portland Trail Blazers    35.0        C  34.0   \n",
              "435           Meyers Leonard  Portland Trail Blazers    11.0       PF  24.0   \n",
              "436           Damian Lillard  Portland Trail Blazers     0.0       PG  25.0   \n",
              "437            C.J. McCollum  Portland Trail Blazers     3.0       SG  24.0   \n",
              "438             Luis Montero  Portland Trail Blazers    44.0       SG  23.0   \n",
              "439            Mason Plumlee  Portland Trail Blazers    24.0        C  26.0   \n",
              "440            Brian Roberts  Portland Trail Blazers     2.0       PG  30.0   \n",
              "441              Noah Vonleh  Portland Trail Blazers    21.0       PF  20.0   \n",
              "442            Trevor Booker               Utah Jazz    33.0       PF  28.0   \n",
              "443               Trey Burke               Utah Jazz     3.0       PG  23.0   \n",
              "444               Alec Burks               Utah Jazz    10.0       SG  24.0   \n",
              "445               Dante Exum               Utah Jazz    11.0       PG  20.0   \n",
              "446           Derrick Favors               Utah Jazz    15.0       PF  24.0   \n",
              "447              Rudy Gobert               Utah Jazz    27.0        C  23.0   \n",
              "448           Gordon Hayward               Utah Jazz    20.0       SF  26.0   \n",
              "449              Rodney Hood               Utah Jazz     5.0       SG  23.0   \n",
              "450               Joe Ingles               Utah Jazz     2.0       SF  28.0   \n",
              "451            Chris Johnson               Utah Jazz    23.0       SF  26.0   \n",
              "452               Trey Lyles               Utah Jazz    41.0       PF  20.0   \n",
              "453             Shelvin Mack               Utah Jazz     8.0       PG  26.0   \n",
              "454                Raul Neto               Utah Jazz    25.0       PG  24.0   \n",
              "455             Tibor Pleiss               Utah Jazz    21.0        C  26.0   \n",
              "456              Jeff Withey               Utah Jazz    24.0        C  26.0   \n",
              "457                        0                       0     0.0        0   0.0   \n",
              "\n",
              "    Height  Weight            College      Salary  \n",
              "0      6-2   180.0              Texas   7730337.0  \n",
              "1      6-6   235.0          Marquette   6796117.0  \n",
              "2      6-5   205.0  Boston University         0.0  \n",
              "3      6-5   185.0      Georgia State   1148640.0  \n",
              "4     6-10   231.0                  0   5000000.0  \n",
              "5      6-9   240.0                  0  12000000.0  \n",
              "6      6-8   235.0                LSU   1170960.0  \n",
              "7      7-0   238.0            Gonzaga   2165160.0  \n",
              "8      6-2   190.0         Louisville   1824360.0  \n",
              "9      6-4   220.0     Oklahoma State   3431040.0  \n",
              "10     6-9   260.0         Ohio State   2569260.0  \n",
              "11     5-9   185.0         Washington   6912869.0  \n",
              "12     6-7   220.0         Ohio State   3425510.0  \n",
              "13     6-6   215.0           Kentucky   1749840.0  \n",
              "14     7-0   253.0     North Carolina   2616975.0  \n",
              "15     6-8   216.0                  0   3425510.0  \n",
              "16     6-3   190.0     Oklahoma State    845059.0  \n",
              "17     6-4   200.0     North Carolina   1500000.0  \n",
              "18     6-7   220.0            Arizona   1335480.0  \n",
              "19     6-3   200.0       Georgia Tech   6300000.0  \n",
              "20     6-7   208.0                  0   1599840.0  \n",
              "21     6-4   219.0         Cincinnati    134215.0  \n",
              "22    5-11   175.0         Miami (FL)   1500000.0  \n",
              "23     7-0   275.0           Stanford  19689000.0  \n",
              "24    6-11   200.0           Syracuse   1140240.0  \n",
              "25    6-10   220.0        Saint Louis    947276.0  \n",
              "26    6-10   237.0             Kansas    981348.0  \n",
              "27    6-10   248.0         Georgetown    947276.0  \n",
              "28     6-3   205.0          Texas A&M    947276.0  \n",
              "29     6-8   221.0       Georgia Tech  11235955.0  \n",
              "..     ...     ...                ...         ...  \n",
              "428    6-9   215.0        Wake Forest   8042895.0  \n",
              "429    6-5   206.0         Notre Dame    625093.0  \n",
              "430    6-6   210.0         California    947276.0  \n",
              "431   6-10   240.0     North Carolina   6980802.0  \n",
              "432    6-9   215.0         St. John's   2894059.0  \n",
              "433    6-5   215.0               Duke   6000000.0  \n",
              "434    7-0   265.0   Central Michigan   5016000.0  \n",
              "435    7-1   245.0           Illinois   3075880.0  \n",
              "436    6-3   195.0        Weber State   4236287.0  \n",
              "437    6-4   200.0             Lehigh   2525160.0  \n",
              "438    6-7   185.0     Westchester CC    525093.0  \n",
              "439   6-11   235.0               Duke   1415520.0  \n",
              "440    6-1   173.0             Dayton   2854940.0  \n",
              "441    6-9   240.0            Indiana   2637720.0  \n",
              "442    6-8   228.0            Clemson   4775000.0  \n",
              "443    6-1   191.0           Michigan   2658240.0  \n",
              "444    6-6   214.0           Colorado   9463484.0  \n",
              "445    6-6   190.0                  0   3777720.0  \n",
              "446   6-10   265.0       Georgia Tech  12000000.0  \n",
              "447    7-1   245.0                  0   1175880.0  \n",
              "448    6-8   226.0             Butler  15409570.0  \n",
              "449    6-8   206.0               Duke   1348440.0  \n",
              "450    6-8   226.0                  0   2050000.0  \n",
              "451    6-6   206.0             Dayton    981348.0  \n",
              "452   6-10   234.0           Kentucky   2239800.0  \n",
              "453    6-3   203.0             Butler   2433333.0  \n",
              "454    6-1   179.0                  0    900000.0  \n",
              "455    7-3   256.0                  0   2900000.0  \n",
              "456    7-0   231.0             Kansas    947276.0  \n",
              "457      0     0.0                  0         0.0  \n",
              "\n",
              "[458 rows x 9 columns]"
            ]
          },
          "metadata": {}
        }
      ]
    },
    {
      "cell_type": "code",
      "source": "nba[\"Salary\"].fillna(0, inplace = True)",
      "metadata": {
        "collapsed": false,
        "jupyter": {
          "outputs_hidden": false
        },
        "trusted": true
      },
      "execution_count": 68,
      "outputs": []
    },
    {
      "cell_type": "code",
      "source": "nba.head()",
      "metadata": {
        "collapsed": false,
        "jupyter": {
          "outputs_hidden": false
        },
        "trusted": true
      },
      "execution_count": 69,
      "outputs": [
        {
          "execution_count": 69,
          "output_type": "execute_result",
          "data": {
            "text/plain": "            Name            Team  Number Position   Age Height  Weight  \\\n0  Avery Bradley  Boston Celtics     0.0       PG  25.0    6-2   180.0   \n1    Jae Crowder  Boston Celtics    99.0       SF  25.0    6-6   235.0   \n2   John Holland  Boston Celtics    30.0       SG  27.0    6-5   205.0   \n3    R.J. Hunter  Boston Celtics    28.0       SG  22.0    6-5   185.0   \n4  Jonas Jerebko  Boston Celtics     8.0       PF  29.0   6-10   231.0   \n\n             College     Salary  \n0              Texas  7730337.0  \n1          Marquette  6796117.0  \n2  Boston University        0.0  \n3      Georgia State  1148640.0  \n4                NaN  5000000.0  ",
            "text/html": "<div>\n<style scoped>\n    .dataframe tbody tr th:only-of-type {\n        vertical-align: middle;\n    }\n\n    .dataframe tbody tr th {\n        vertical-align: top;\n    }\n\n    .dataframe thead th {\n        text-align: right;\n    }\n</style>\n<table border=\"1\" class=\"dataframe\">\n  <thead>\n    <tr style=\"text-align: right;\">\n      <th></th>\n      <th>Name</th>\n      <th>Team</th>\n      <th>Number</th>\n      <th>Position</th>\n      <th>Age</th>\n      <th>Height</th>\n      <th>Weight</th>\n      <th>College</th>\n      <th>Salary</th>\n    </tr>\n  </thead>\n  <tbody>\n    <tr>\n      <th>0</th>\n      <td>Avery Bradley</td>\n      <td>Boston Celtics</td>\n      <td>0.0</td>\n      <td>PG</td>\n      <td>25.0</td>\n      <td>6-2</td>\n      <td>180.0</td>\n      <td>Texas</td>\n      <td>7730337.0</td>\n    </tr>\n    <tr>\n      <th>1</th>\n      <td>Jae Crowder</td>\n      <td>Boston Celtics</td>\n      <td>99.0</td>\n      <td>SF</td>\n      <td>25.0</td>\n      <td>6-6</td>\n      <td>235.0</td>\n      <td>Marquette</td>\n      <td>6796117.0</td>\n    </tr>\n    <tr>\n      <th>2</th>\n      <td>John Holland</td>\n      <td>Boston Celtics</td>\n      <td>30.0</td>\n      <td>SG</td>\n      <td>27.0</td>\n      <td>6-5</td>\n      <td>205.0</td>\n      <td>Boston University</td>\n      <td>0.0</td>\n    </tr>\n    <tr>\n      <th>3</th>\n      <td>R.J. Hunter</td>\n      <td>Boston Celtics</td>\n      <td>28.0</td>\n      <td>SG</td>\n      <td>22.0</td>\n      <td>6-5</td>\n      <td>185.0</td>\n      <td>Georgia State</td>\n      <td>1148640.0</td>\n    </tr>\n    <tr>\n      <th>4</th>\n      <td>Jonas Jerebko</td>\n      <td>Boston Celtics</td>\n      <td>8.0</td>\n      <td>PF</td>\n      <td>29.0</td>\n      <td>6-10</td>\n      <td>231.0</td>\n      <td>NaN</td>\n      <td>5000000.0</td>\n    </tr>\n  </tbody>\n</table>\n</div>"
          },
          "metadata": {}
        }
      ]
    },
    {
      "cell_type": "code",
      "source": "nba[\"College\"].fillna(\"No College\", inplace = True)",
      "metadata": {
        "collapsed": false,
        "jupyter": {
          "outputs_hidden": false
        },
        "trusted": true
      },
      "execution_count": 70,
      "outputs": []
    },
    {
      "cell_type": "code",
      "source": "nba.head()",
      "metadata": {
        "collapsed": false,
        "jupyter": {
          "outputs_hidden": false
        },
        "trusted": true
      },
      "execution_count": 72,
      "outputs": [
        {
          "execution_count": 72,
          "output_type": "execute_result",
          "data": {
            "text/plain": "            Name            Team  Number Position   Age Height  Weight  \\\n0  Avery Bradley  Boston Celtics     0.0       PG  25.0    6-2   180.0   \n1    Jae Crowder  Boston Celtics    99.0       SF  25.0    6-6   235.0   \n2   John Holland  Boston Celtics    30.0       SG  27.0    6-5   205.0   \n3    R.J. Hunter  Boston Celtics    28.0       SG  22.0    6-5   185.0   \n4  Jonas Jerebko  Boston Celtics     8.0       PF  29.0   6-10   231.0   \n\n             College     Salary  \n0              Texas  7730337.0  \n1          Marquette  6796117.0  \n2  Boston University        0.0  \n3      Georgia State  1148640.0  \n4         No College  5000000.0  ",
            "text/html": "<div>\n<style scoped>\n    .dataframe tbody tr th:only-of-type {\n        vertical-align: middle;\n    }\n\n    .dataframe tbody tr th {\n        vertical-align: top;\n    }\n\n    .dataframe thead th {\n        text-align: right;\n    }\n</style>\n<table border=\"1\" class=\"dataframe\">\n  <thead>\n    <tr style=\"text-align: right;\">\n      <th></th>\n      <th>Name</th>\n      <th>Team</th>\n      <th>Number</th>\n      <th>Position</th>\n      <th>Age</th>\n      <th>Height</th>\n      <th>Weight</th>\n      <th>College</th>\n      <th>Salary</th>\n    </tr>\n  </thead>\n  <tbody>\n    <tr>\n      <th>0</th>\n      <td>Avery Bradley</td>\n      <td>Boston Celtics</td>\n      <td>0.0</td>\n      <td>PG</td>\n      <td>25.0</td>\n      <td>6-2</td>\n      <td>180.0</td>\n      <td>Texas</td>\n      <td>7730337.0</td>\n    </tr>\n    <tr>\n      <th>1</th>\n      <td>Jae Crowder</td>\n      <td>Boston Celtics</td>\n      <td>99.0</td>\n      <td>SF</td>\n      <td>25.0</td>\n      <td>6-6</td>\n      <td>235.0</td>\n      <td>Marquette</td>\n      <td>6796117.0</td>\n    </tr>\n    <tr>\n      <th>2</th>\n      <td>John Holland</td>\n      <td>Boston Celtics</td>\n      <td>30.0</td>\n      <td>SG</td>\n      <td>27.0</td>\n      <td>6-5</td>\n      <td>205.0</td>\n      <td>Boston University</td>\n      <td>0.0</td>\n    </tr>\n    <tr>\n      <th>3</th>\n      <td>R.J. Hunter</td>\n      <td>Boston Celtics</td>\n      <td>28.0</td>\n      <td>SG</td>\n      <td>22.0</td>\n      <td>6-5</td>\n      <td>185.0</td>\n      <td>Georgia State</td>\n      <td>1148640.0</td>\n    </tr>\n    <tr>\n      <th>4</th>\n      <td>Jonas Jerebko</td>\n      <td>Boston Celtics</td>\n      <td>8.0</td>\n      <td>PF</td>\n      <td>29.0</td>\n      <td>6-10</td>\n      <td>231.0</td>\n      <td>No College</td>\n      <td>5000000.0</td>\n    </tr>\n  </tbody>\n</table>\n</div>"
          },
          "metadata": {}
        }
      ]
    },
    {
      "cell_type": "code",
      "source": "",
      "metadata": {
        "collapsed": true,
        "jupyter": {
          "outputs_hidden": true
        }
      },
      "execution_count": null,
      "outputs": []
    },
    {
      "cell_type": "code",
      "source": "",
      "metadata": {},
      "execution_count": null,
      "outputs": []
    },
    {
      "cell_type": "code",
      "source": "",
      "metadata": {},
      "execution_count": null,
      "outputs": []
    },
    {
      "cell_type": "code",
      "source": "",
      "metadata": {},
      "execution_count": null,
      "outputs": []
    },
    {
      "cell_type": "code",
      "source": "",
      "metadata": {},
      "execution_count": null,
      "outputs": []
    },
    {
      "cell_type": "code",
      "source": "",
      "metadata": {
        "collapsed": true,
        "jupyter": {
          "outputs_hidden": true
        }
      },
      "execution_count": null,
      "outputs": []
    },
    {
      "cell_type": "code",
      "source": "",
      "metadata": {
        "collapsed": true,
        "jupyter": {
          "outputs_hidden": true
        }
      },
      "execution_count": null,
      "outputs": []
    },
    {
      "cell_type": "code",
      "source": "",
      "metadata": {
        "collapsed": true,
        "jupyter": {
          "outputs_hidden": true
        }
      },
      "execution_count": null,
      "outputs": []
    },
    {
      "cell_type": "code",
      "source": "",
      "metadata": {
        "collapsed": true,
        "jupyter": {
          "outputs_hidden": true
        }
      },
      "execution_count": null,
      "outputs": []
    },
    {
      "cell_type": "code",
      "source": "",
      "metadata": {
        "collapsed": true,
        "jupyter": {
          "outputs_hidden": true
        }
      },
      "execution_count": null,
      "outputs": []
    },
    {
      "cell_type": "code",
      "source": "",
      "metadata": {
        "collapsed": true,
        "jupyter": {
          "outputs_hidden": true
        }
      },
      "execution_count": null,
      "outputs": []
    },
    {
      "cell_type": "code",
      "source": "",
      "metadata": {
        "collapsed": true,
        "jupyter": {
          "outputs_hidden": true
        }
      },
      "execution_count": null,
      "outputs": []
    },
    {
      "cell_type": "code",
      "source": "",
      "metadata": {
        "collapsed": true,
        "jupyter": {
          "outputs_hidden": true
        }
      },
      "execution_count": null,
      "outputs": []
    },
    {
      "cell_type": "code",
      "source": "",
      "metadata": {
        "collapsed": true,
        "jupyter": {
          "outputs_hidden": true
        }
      },
      "execution_count": null,
      "outputs": []
    },
    {
      "cell_type": "code",
      "source": "",
      "metadata": {
        "collapsed": true,
        "jupyter": {
          "outputs_hidden": true
        }
      },
      "execution_count": null,
      "outputs": []
    },
    {
      "cell_type": "code",
      "source": "",
      "metadata": {
        "collapsed": true,
        "jupyter": {
          "outputs_hidden": true
        }
      },
      "execution_count": null,
      "outputs": []
    },
    {
      "cell_type": "code",
      "source": "",
      "metadata": {
        "collapsed": true,
        "jupyter": {
          "outputs_hidden": true
        }
      },
      "execution_count": null,
      "outputs": []
    },
    {
      "cell_type": "code",
      "source": "",
      "metadata": {
        "collapsed": true,
        "jupyter": {
          "outputs_hidden": true
        }
      },
      "execution_count": null,
      "outputs": []
    },
    {
      "cell_type": "code",
      "source": "",
      "metadata": {
        "collapsed": true,
        "jupyter": {
          "outputs_hidden": true
        }
      },
      "execution_count": null,
      "outputs": []
    },
    {
      "cell_type": "code",
      "source": "",
      "metadata": {
        "collapsed": true,
        "jupyter": {
          "outputs_hidden": true
        }
      },
      "execution_count": null,
      "outputs": []
    },
    {
      "cell_type": "code",
      "source": "",
      "metadata": {
        "collapsed": true,
        "jupyter": {
          "outputs_hidden": true
        }
      },
      "execution_count": null,
      "outputs": []
    },
    {
      "cell_type": "markdown",
      "source": "## The `.astype()` Method",
      "metadata": {}
    },
    {
      "cell_type": "code",
      "source": "nba = pd.read_csv(\"nba.csv\").dropna(how = \"all\")\nnba[\"Salary\"].fillna(0, inplace = True)\nnba[\"College\"].fillna(\"None\", inplace = True)\nnba.head(6)",
      "metadata": {
        "collapsed": false,
        "jupyter": {
          "outputs_hidden": false
        },
        "trusted": true
      },
      "execution_count": 73,
      "outputs": [
        {
          "execution_count": 73,
          "output_type": "execute_result",
          "data": {
            "text/plain": "            Name            Team  Number Position   Age Height  Weight  \\\n0  Avery Bradley  Boston Celtics     0.0       PG  25.0    6-2   180.0   \n1    Jae Crowder  Boston Celtics    99.0       SF  25.0    6-6   235.0   \n2   John Holland  Boston Celtics    30.0       SG  27.0    6-5   205.0   \n3    R.J. Hunter  Boston Celtics    28.0       SG  22.0    6-5   185.0   \n4  Jonas Jerebko  Boston Celtics     8.0       PF  29.0   6-10   231.0   \n5   Amir Johnson  Boston Celtics    90.0       PF  29.0    6-9   240.0   \n\n             College      Salary  \n0              Texas   7730337.0  \n1          Marquette   6796117.0  \n2  Boston University         0.0  \n3      Georgia State   1148640.0  \n4               None   5000000.0  \n5               None  12000000.0  ",
            "text/html": "<div>\n<style scoped>\n    .dataframe tbody tr th:only-of-type {\n        vertical-align: middle;\n    }\n\n    .dataframe tbody tr th {\n        vertical-align: top;\n    }\n\n    .dataframe thead th {\n        text-align: right;\n    }\n</style>\n<table border=\"1\" class=\"dataframe\">\n  <thead>\n    <tr style=\"text-align: right;\">\n      <th></th>\n      <th>Name</th>\n      <th>Team</th>\n      <th>Number</th>\n      <th>Position</th>\n      <th>Age</th>\n      <th>Height</th>\n      <th>Weight</th>\n      <th>College</th>\n      <th>Salary</th>\n    </tr>\n  </thead>\n  <tbody>\n    <tr>\n      <th>0</th>\n      <td>Avery Bradley</td>\n      <td>Boston Celtics</td>\n      <td>0.0</td>\n      <td>PG</td>\n      <td>25.0</td>\n      <td>6-2</td>\n      <td>180.0</td>\n      <td>Texas</td>\n      <td>7730337.0</td>\n    </tr>\n    <tr>\n      <th>1</th>\n      <td>Jae Crowder</td>\n      <td>Boston Celtics</td>\n      <td>99.0</td>\n      <td>SF</td>\n      <td>25.0</td>\n      <td>6-6</td>\n      <td>235.0</td>\n      <td>Marquette</td>\n      <td>6796117.0</td>\n    </tr>\n    <tr>\n      <th>2</th>\n      <td>John Holland</td>\n      <td>Boston Celtics</td>\n      <td>30.0</td>\n      <td>SG</td>\n      <td>27.0</td>\n      <td>6-5</td>\n      <td>205.0</td>\n      <td>Boston University</td>\n      <td>0.0</td>\n    </tr>\n    <tr>\n      <th>3</th>\n      <td>R.J. Hunter</td>\n      <td>Boston Celtics</td>\n      <td>28.0</td>\n      <td>SG</td>\n      <td>22.0</td>\n      <td>6-5</td>\n      <td>185.0</td>\n      <td>Georgia State</td>\n      <td>1148640.0</td>\n    </tr>\n    <tr>\n      <th>4</th>\n      <td>Jonas Jerebko</td>\n      <td>Boston Celtics</td>\n      <td>8.0</td>\n      <td>PF</td>\n      <td>29.0</td>\n      <td>6-10</td>\n      <td>231.0</td>\n      <td>None</td>\n      <td>5000000.0</td>\n    </tr>\n    <tr>\n      <th>5</th>\n      <td>Amir Johnson</td>\n      <td>Boston Celtics</td>\n      <td>90.0</td>\n      <td>PF</td>\n      <td>29.0</td>\n      <td>6-9</td>\n      <td>240.0</td>\n      <td>None</td>\n      <td>12000000.0</td>\n    </tr>\n  </tbody>\n</table>\n</div>"
          },
          "metadata": {}
        }
      ]
    },
    {
      "cell_type": "code",
      "source": "nba.dtypes\nnba.info()",
      "metadata": {
        "collapsed": false,
        "jupyter": {
          "outputs_hidden": false
        },
        "trusted": true
      },
      "execution_count": 74,
      "outputs": [
        {
          "name": "stdout",
          "text": "<class 'pandas.core.frame.DataFrame'>\nInt64Index: 457 entries, 0 to 456\nData columns (total 9 columns):\n #   Column    Non-Null Count  Dtype  \n---  ------    --------------  -----  \n 0   Name      457 non-null    object \n 1   Team      457 non-null    object \n 2   Number    457 non-null    float64\n 3   Position  457 non-null    object \n 4   Age       457 non-null    float64\n 5   Height    457 non-null    object \n 6   Weight    457 non-null    float64\n 7   College   457 non-null    object \n 8   Salary    457 non-null    float64\ndtypes: float64(4), object(5)\nmemory usage: 26.8+ KB\n",
          "output_type": "stream"
        }
      ]
    },
    {
      "cell_type": "code",
      "source": "nba[\"Salary\"] = nba[\"Salary\"].astype(\"int\")",
      "metadata": {
        "collapsed": false,
        "jupyter": {
          "outputs_hidden": false
        },
        "trusted": true
      },
      "execution_count": 76,
      "outputs": []
    },
    {
      "cell_type": "code",
      "source": "nba.dtypes\nnba.info()",
      "metadata": {
        "trusted": true
      },
      "execution_count": 77,
      "outputs": [
        {
          "name": "stdout",
          "text": "<class 'pandas.core.frame.DataFrame'>\nInt64Index: 457 entries, 0 to 456\nData columns (total 9 columns):\n #   Column    Non-Null Count  Dtype  \n---  ------    --------------  -----  \n 0   Name      457 non-null    object \n 1   Team      457 non-null    object \n 2   Number    457 non-null    float64\n 3   Position  457 non-null    object \n 4   Age       457 non-null    float64\n 5   Height    457 non-null    object \n 6   Weight    457 non-null    float64\n 7   College   457 non-null    object \n 8   Salary    457 non-null    int32  \ndtypes: float64(3), int32(1), object(5)\nmemory usage: 25.0+ KB\n",
          "output_type": "stream"
        }
      ]
    },
    {
      "cell_type": "code",
      "source": "nba.head(3)",
      "metadata": {
        "collapsed": false,
        "jupyter": {
          "outputs_hidden": false
        },
        "trusted": true
      },
      "execution_count": 75,
      "outputs": [
        {
          "execution_count": 75,
          "output_type": "execute_result",
          "data": {
            "text/plain": "            Name            Team  Number Position   Age Height  Weight  \\\n0  Avery Bradley  Boston Celtics     0.0       PG  25.0    6-2   180.0   \n1    Jae Crowder  Boston Celtics    99.0       SF  25.0    6-6   235.0   \n2   John Holland  Boston Celtics    30.0       SG  27.0    6-5   205.0   \n\n             College     Salary  \n0              Texas  7730337.0  \n1          Marquette  6796117.0  \n2  Boston University        0.0  ",
            "text/html": "<div>\n<style scoped>\n    .dataframe tbody tr th:only-of-type {\n        vertical-align: middle;\n    }\n\n    .dataframe tbody tr th {\n        vertical-align: top;\n    }\n\n    .dataframe thead th {\n        text-align: right;\n    }\n</style>\n<table border=\"1\" class=\"dataframe\">\n  <thead>\n    <tr style=\"text-align: right;\">\n      <th></th>\n      <th>Name</th>\n      <th>Team</th>\n      <th>Number</th>\n      <th>Position</th>\n      <th>Age</th>\n      <th>Height</th>\n      <th>Weight</th>\n      <th>College</th>\n      <th>Salary</th>\n    </tr>\n  </thead>\n  <tbody>\n    <tr>\n      <th>0</th>\n      <td>Avery Bradley</td>\n      <td>Boston Celtics</td>\n      <td>0.0</td>\n      <td>PG</td>\n      <td>25.0</td>\n      <td>6-2</td>\n      <td>180.0</td>\n      <td>Texas</td>\n      <td>7730337.0</td>\n    </tr>\n    <tr>\n      <th>1</th>\n      <td>Jae Crowder</td>\n      <td>Boston Celtics</td>\n      <td>99.0</td>\n      <td>SF</td>\n      <td>25.0</td>\n      <td>6-6</td>\n      <td>235.0</td>\n      <td>Marquette</td>\n      <td>6796117.0</td>\n    </tr>\n    <tr>\n      <th>2</th>\n      <td>John Holland</td>\n      <td>Boston Celtics</td>\n      <td>30.0</td>\n      <td>SG</td>\n      <td>27.0</td>\n      <td>6-5</td>\n      <td>205.0</td>\n      <td>Boston University</td>\n      <td>0.0</td>\n    </tr>\n  </tbody>\n</table>\n</div>"
          },
          "metadata": {}
        }
      ]
    },
    {
      "cell_type": "code",
      "source": "nba[\"Number\"] = nba[\"Number\"].astype(\"int\")\nnba[\"Age\"] = nba[\"Age\"].astype(\"int\")\nnba.head(3)",
      "metadata": {
        "collapsed": false,
        "jupyter": {
          "outputs_hidden": false
        },
        "trusted": true
      },
      "execution_count": 78,
      "outputs": [
        {
          "execution_count": 78,
          "output_type": "execute_result",
          "data": {
            "text/plain": "            Name            Team  Number Position  Age Height  Weight  \\\n0  Avery Bradley  Boston Celtics       0       PG   25    6-2   180.0   \n1    Jae Crowder  Boston Celtics      99       SF   25    6-6   235.0   \n2   John Holland  Boston Celtics      30       SG   27    6-5   205.0   \n\n             College   Salary  \n0              Texas  7730337  \n1          Marquette  6796117  \n2  Boston University        0  ",
            "text/html": "<div>\n<style scoped>\n    .dataframe tbody tr th:only-of-type {\n        vertical-align: middle;\n    }\n\n    .dataframe tbody tr th {\n        vertical-align: top;\n    }\n\n    .dataframe thead th {\n        text-align: right;\n    }\n</style>\n<table border=\"1\" class=\"dataframe\">\n  <thead>\n    <tr style=\"text-align: right;\">\n      <th></th>\n      <th>Name</th>\n      <th>Team</th>\n      <th>Number</th>\n      <th>Position</th>\n      <th>Age</th>\n      <th>Height</th>\n      <th>Weight</th>\n      <th>College</th>\n      <th>Salary</th>\n    </tr>\n  </thead>\n  <tbody>\n    <tr>\n      <th>0</th>\n      <td>Avery Bradley</td>\n      <td>Boston Celtics</td>\n      <td>0</td>\n      <td>PG</td>\n      <td>25</td>\n      <td>6-2</td>\n      <td>180.0</td>\n      <td>Texas</td>\n      <td>7730337</td>\n    </tr>\n    <tr>\n      <th>1</th>\n      <td>Jae Crowder</td>\n      <td>Boston Celtics</td>\n      <td>99</td>\n      <td>SF</td>\n      <td>25</td>\n      <td>6-6</td>\n      <td>235.0</td>\n      <td>Marquette</td>\n      <td>6796117</td>\n    </tr>\n    <tr>\n      <th>2</th>\n      <td>John Holland</td>\n      <td>Boston Celtics</td>\n      <td>30</td>\n      <td>SG</td>\n      <td>27</td>\n      <td>6-5</td>\n      <td>205.0</td>\n      <td>Boston University</td>\n      <td>0</td>\n    </tr>\n  </tbody>\n</table>\n</div>"
          },
          "metadata": {}
        }
      ]
    },
    {
      "cell_type": "code",
      "source": "nba[\"Salary\"].hasnans",
      "metadata": {
        "trusted": true
      },
      "execution_count": 82,
      "outputs": [
        {
          "execution_count": 82,
          "output_type": "execute_result",
          "data": {
            "text/plain": "True"
          },
          "metadata": {}
        }
      ]
    },
    {
      "cell_type": "code",
      "source": "nba[\"Salary\"]=nba[\"Salary\"].fillna(0)",
      "metadata": {
        "trusted": true
      },
      "execution_count": 83,
      "outputs": []
    },
    {
      "cell_type": "code",
      "source": "nba[\"Salary\"].astype(int)",
      "metadata": {
        "trusted": true
      },
      "execution_count": 84,
      "outputs": [
        {
          "execution_count": 84,
          "output_type": "execute_result",
          "data": {
            "text/plain": "0      7730337\n1      6796117\n2            0\n3      1148640\n4      5000000\n        ...   \n453    2433333\n454     900000\n455    2900000\n456     947276\n457          0\nName: Salary, Length: 458, dtype: int32"
          },
          "metadata": {}
        }
      ]
    },
    {
      "cell_type": "code",
      "source": "",
      "metadata": {},
      "execution_count": null,
      "outputs": []
    },
    {
      "cell_type": "code",
      "source": "nba.dtypes",
      "metadata": {
        "trusted": true
      },
      "execution_count": 92,
      "outputs": [
        {
          "execution_count": 92,
          "output_type": "execute_result",
          "data": {
            "text/plain": "Name          object\nTeam        category\nNumber       float64\nPosition    category\nAge          float64\nHeight        object\nWeight       float64\nCollege       object\nSalary       float64\ndtype: object"
          },
          "metadata": {}
        }
      ]
    },
    {
      "cell_type": "code",
      "source": "",
      "metadata": {},
      "execution_count": null,
      "outputs": []
    },
    {
      "cell_type": "code",
      "source": "",
      "metadata": {},
      "execution_count": null,
      "outputs": []
    },
    {
      "cell_type": "code",
      "source": "",
      "metadata": {},
      "execution_count": null,
      "outputs": []
    },
    {
      "cell_type": "code",
      "source": "nba[\"Age\"].astype(\"float\")",
      "metadata": {
        "tags": [],
        "trusted": true
      },
      "execution_count": 85,
      "outputs": [
        {
          "execution_count": 85,
          "output_type": "execute_result",
          "data": {
            "text/plain": "0      25.0\n1      25.0\n2      27.0\n3      22.0\n4      29.0\n       ... \n453    26.0\n454    24.0\n455    26.0\n456    26.0\n457     NaN\nName: Age, Length: 458, dtype: float64"
          },
          "metadata": {}
        }
      ]
    },
    {
      "cell_type": "code",
      "source": "nba[\"Position\"].nunique()",
      "metadata": {
        "collapsed": false,
        "jupyter": {
          "outputs_hidden": false
        },
        "trusted": true
      },
      "execution_count": 86,
      "outputs": [
        {
          "execution_count": 86,
          "output_type": "execute_result",
          "data": {
            "text/plain": "5"
          },
          "metadata": {}
        }
      ]
    },
    {
      "cell_type": "code",
      "source": "nba[\"Position\"] = nba[\"Position\"].astype(\"category\")",
      "metadata": {
        "collapsed": false,
        "jupyter": {
          "outputs_hidden": false
        },
        "trusted": true
      },
      "execution_count": 93,
      "outputs": []
    },
    {
      "cell_type": "code",
      "source": "nba[\"Team\"] = nba[\"Team\"].astype(\"category\")",
      "metadata": {
        "collapsed": false,
        "jupyter": {
          "outputs_hidden": false
        },
        "trusted": true
      },
      "execution_count": 94,
      "outputs": []
    },
    {
      "cell_type": "code",
      "source": "nba.head()",
      "metadata": {
        "collapsed": false,
        "jupyter": {
          "outputs_hidden": false
        },
        "trusted": true
      },
      "execution_count": 95,
      "outputs": [
        {
          "execution_count": 95,
          "output_type": "execute_result",
          "data": {
            "text/plain": "            Name            Team  Number Position   Age Height  Weight  \\\n0  Avery Bradley  Boston Celtics     0.0       PG  25.0    6-2   180.0   \n1    Jae Crowder  Boston Celtics    99.0       SF  25.0    6-6   235.0   \n2   John Holland  Boston Celtics    30.0       SG  27.0    6-5   205.0   \n3    R.J. Hunter  Boston Celtics    28.0       SG  22.0    6-5   185.0   \n4  Jonas Jerebko  Boston Celtics     8.0       PF  29.0   6-10   231.0   \n\n             College     Salary  \n0              Texas  7730337.0  \n1          Marquette  6796117.0  \n2  Boston University        0.0  \n3      Georgia State  1148640.0  \n4                NaN  5000000.0  ",
            "text/html": "<div>\n<style scoped>\n    .dataframe tbody tr th:only-of-type {\n        vertical-align: middle;\n    }\n\n    .dataframe tbody tr th {\n        vertical-align: top;\n    }\n\n    .dataframe thead th {\n        text-align: right;\n    }\n</style>\n<table border=\"1\" class=\"dataframe\">\n  <thead>\n    <tr style=\"text-align: right;\">\n      <th></th>\n      <th>Name</th>\n      <th>Team</th>\n      <th>Number</th>\n      <th>Position</th>\n      <th>Age</th>\n      <th>Height</th>\n      <th>Weight</th>\n      <th>College</th>\n      <th>Salary</th>\n    </tr>\n  </thead>\n  <tbody>\n    <tr>\n      <th>0</th>\n      <td>Avery Bradley</td>\n      <td>Boston Celtics</td>\n      <td>0.0</td>\n      <td>PG</td>\n      <td>25.0</td>\n      <td>6-2</td>\n      <td>180.0</td>\n      <td>Texas</td>\n      <td>7730337.0</td>\n    </tr>\n    <tr>\n      <th>1</th>\n      <td>Jae Crowder</td>\n      <td>Boston Celtics</td>\n      <td>99.0</td>\n      <td>SF</td>\n      <td>25.0</td>\n      <td>6-6</td>\n      <td>235.0</td>\n      <td>Marquette</td>\n      <td>6796117.0</td>\n    </tr>\n    <tr>\n      <th>2</th>\n      <td>John Holland</td>\n      <td>Boston Celtics</td>\n      <td>30.0</td>\n      <td>SG</td>\n      <td>27.0</td>\n      <td>6-5</td>\n      <td>205.0</td>\n      <td>Boston University</td>\n      <td>0.0</td>\n    </tr>\n    <tr>\n      <th>3</th>\n      <td>R.J. Hunter</td>\n      <td>Boston Celtics</td>\n      <td>28.0</td>\n      <td>SG</td>\n      <td>22.0</td>\n      <td>6-5</td>\n      <td>185.0</td>\n      <td>Georgia State</td>\n      <td>1148640.0</td>\n    </tr>\n    <tr>\n      <th>4</th>\n      <td>Jonas Jerebko</td>\n      <td>Boston Celtics</td>\n      <td>8.0</td>\n      <td>PF</td>\n      <td>29.0</td>\n      <td>6-10</td>\n      <td>231.0</td>\n      <td>NaN</td>\n      <td>5000000.0</td>\n    </tr>\n  </tbody>\n</table>\n</div>"
          },
          "metadata": {}
        }
      ]
    },
    {
      "cell_type": "code",
      "source": "nba.info()",
      "metadata": {
        "trusted": true
      },
      "execution_count": 96,
      "outputs": [
        {
          "name": "stdout",
          "text": "<class 'pandas.core.frame.DataFrame'>\nRangeIndex: 458 entries, 0 to 457\nData columns (total 9 columns):\n #   Column    Non-Null Count  Dtype   \n---  ------    --------------  -----   \n 0   Name      457 non-null    object  \n 1   Team      457 non-null    category\n 2   Number    457 non-null    float64 \n 3   Position  457 non-null    category\n 4   Age       457 non-null    float64 \n 5   Height    457 non-null    object  \n 6   Weight    457 non-null    float64 \n 7   College   373 non-null    object  \n 8   Salary    458 non-null    float64 \ndtypes: category(2), float64(4), object(3)\nmemory usage: 21.4+ KB\n",
          "output_type": "stream"
        }
      ]
    },
    {
      "cell_type": "code",
      "source": "",
      "metadata": {},
      "execution_count": null,
      "outputs": []
    },
    {
      "cell_type": "code",
      "source": "",
      "metadata": {},
      "execution_count": null,
      "outputs": []
    },
    {
      "cell_type": "code",
      "source": "",
      "metadata": {},
      "execution_count": null,
      "outputs": []
    },
    {
      "cell_type": "markdown",
      "source": "## Sort a `DataFrame` with the `.sort_values()` Method, Part I",
      "metadata": {}
    },
    {
      "cell_type": "code",
      "source": "nba = pd.read_csv(\"nba.csv\")\nnba.head(3)",
      "metadata": {
        "collapsed": false,
        "jupyter": {
          "outputs_hidden": false
        },
        "trusted": true
      },
      "execution_count": 97,
      "outputs": [
        {
          "execution_count": 97,
          "output_type": "execute_result",
          "data": {
            "text/plain": "            Name            Team  Number Position   Age Height  Weight  \\\n0  Avery Bradley  Boston Celtics     0.0       PG  25.0    6-2   180.0   \n1    Jae Crowder  Boston Celtics    99.0       SF  25.0    6-6   235.0   \n2   John Holland  Boston Celtics    30.0       SG  27.0    6-5   205.0   \n\n             College     Salary  \n0              Texas  7730337.0  \n1          Marquette  6796117.0  \n2  Boston University        NaN  ",
            "text/html": "<div>\n<style scoped>\n    .dataframe tbody tr th:only-of-type {\n        vertical-align: middle;\n    }\n\n    .dataframe tbody tr th {\n        vertical-align: top;\n    }\n\n    .dataframe thead th {\n        text-align: right;\n    }\n</style>\n<table border=\"1\" class=\"dataframe\">\n  <thead>\n    <tr style=\"text-align: right;\">\n      <th></th>\n      <th>Name</th>\n      <th>Team</th>\n      <th>Number</th>\n      <th>Position</th>\n      <th>Age</th>\n      <th>Height</th>\n      <th>Weight</th>\n      <th>College</th>\n      <th>Salary</th>\n    </tr>\n  </thead>\n  <tbody>\n    <tr>\n      <th>0</th>\n      <td>Avery Bradley</td>\n      <td>Boston Celtics</td>\n      <td>0.0</td>\n      <td>PG</td>\n      <td>25.0</td>\n      <td>6-2</td>\n      <td>180.0</td>\n      <td>Texas</td>\n      <td>7730337.0</td>\n    </tr>\n    <tr>\n      <th>1</th>\n      <td>Jae Crowder</td>\n      <td>Boston Celtics</td>\n      <td>99.0</td>\n      <td>SF</td>\n      <td>25.0</td>\n      <td>6-6</td>\n      <td>235.0</td>\n      <td>Marquette</td>\n      <td>6796117.0</td>\n    </tr>\n    <tr>\n      <th>2</th>\n      <td>John Holland</td>\n      <td>Boston Celtics</td>\n      <td>30.0</td>\n      <td>SG</td>\n      <td>27.0</td>\n      <td>6-5</td>\n      <td>205.0</td>\n      <td>Boston University</td>\n      <td>NaN</td>\n    </tr>\n  </tbody>\n</table>\n</div>"
          },
          "metadata": {}
        }
      ]
    },
    {
      "cell_type": "code",
      "source": "nba.sort_values(\"Name\", ascending = False)\n\nnba.sort_values(\"Age\", ascending = False)\n\nnba.sort_values(\"Salary\", ascending = False, inplace = True)\nnba.head(3)",
      "metadata": {
        "collapsed": false,
        "jupyter": {
          "outputs_hidden": false
        },
        "trusted": true
      },
      "execution_count": 98,
      "outputs": [
        {
          "execution_count": 98,
          "output_type": "execute_result",
          "data": {
            "text/plain": "                Name                 Team  Number Position   Age Height  \\\n109      Kobe Bryant   Los Angeles Lakers    24.0       SF  37.0    6-6   \n169     LeBron James  Cleveland Cavaliers    23.0       SF  31.0    6-8   \n33   Carmelo Anthony      New York Knicks     7.0       SF  32.0    6-8   \n\n     Weight   College      Salary  \n109   212.0       NaN  25000000.0  \n169   250.0       NaN  22970500.0  \n33    240.0  Syracuse  22875000.0  ",
            "text/html": "<div>\n<style scoped>\n    .dataframe tbody tr th:only-of-type {\n        vertical-align: middle;\n    }\n\n    .dataframe tbody tr th {\n        vertical-align: top;\n    }\n\n    .dataframe thead th {\n        text-align: right;\n    }\n</style>\n<table border=\"1\" class=\"dataframe\">\n  <thead>\n    <tr style=\"text-align: right;\">\n      <th></th>\n      <th>Name</th>\n      <th>Team</th>\n      <th>Number</th>\n      <th>Position</th>\n      <th>Age</th>\n      <th>Height</th>\n      <th>Weight</th>\n      <th>College</th>\n      <th>Salary</th>\n    </tr>\n  </thead>\n  <tbody>\n    <tr>\n      <th>109</th>\n      <td>Kobe Bryant</td>\n      <td>Los Angeles Lakers</td>\n      <td>24.0</td>\n      <td>SF</td>\n      <td>37.0</td>\n      <td>6-6</td>\n      <td>212.0</td>\n      <td>NaN</td>\n      <td>25000000.0</td>\n    </tr>\n    <tr>\n      <th>169</th>\n      <td>LeBron James</td>\n      <td>Cleveland Cavaliers</td>\n      <td>23.0</td>\n      <td>SF</td>\n      <td>31.0</td>\n      <td>6-8</td>\n      <td>250.0</td>\n      <td>NaN</td>\n      <td>22970500.0</td>\n    </tr>\n    <tr>\n      <th>33</th>\n      <td>Carmelo Anthony</td>\n      <td>New York Knicks</td>\n      <td>7.0</td>\n      <td>SF</td>\n      <td>32.0</td>\n      <td>6-8</td>\n      <td>240.0</td>\n      <td>Syracuse</td>\n      <td>22875000.0</td>\n    </tr>\n  </tbody>\n</table>\n</div>"
          },
          "metadata": {}
        }
      ]
    },
    {
      "cell_type": "code",
      "source": "nba.sort_values(\"Salary\", ascending = False, na_position = \"first\").tail()\n",
      "metadata": {
        "collapsed": false,
        "jupyter": {
          "outputs_hidden": false
        },
        "trusted": true
      },
      "execution_count": 99,
      "outputs": [
        {
          "execution_count": 99,
          "output_type": "execute_result",
          "data": {
            "text/plain": "                       Name                  Team  Number Position   Age  \\\n175            Jordan McRae   Cleveland Cavaliers    12.0       SG  25.0   \n135           Alan Williams          Phoenix Suns    15.0        C  23.0   \n291         Orlando Johnson  New Orleans Pelicans     0.0       SG  27.0   \n130            Phil Pressey          Phoenix Suns    25.0       PG  25.0   \n32   Thanasis Antetokounmpo       New York Knicks    43.0       SF  23.0   \n\n    Height  Weight           College    Salary  \n175    6-5   179.0         Tennessee  111196.0  \n135    6-8   260.0  UC Santa Barbara   83397.0  \n291    6-5   220.0  UC Santa Barbara   55722.0  \n130   5-11   175.0          Missouri   55722.0  \n32     6-7   205.0               NaN   30888.0  ",
            "text/html": "<div>\n<style scoped>\n    .dataframe tbody tr th:only-of-type {\n        vertical-align: middle;\n    }\n\n    .dataframe tbody tr th {\n        vertical-align: top;\n    }\n\n    .dataframe thead th {\n        text-align: right;\n    }\n</style>\n<table border=\"1\" class=\"dataframe\">\n  <thead>\n    <tr style=\"text-align: right;\">\n      <th></th>\n      <th>Name</th>\n      <th>Team</th>\n      <th>Number</th>\n      <th>Position</th>\n      <th>Age</th>\n      <th>Height</th>\n      <th>Weight</th>\n      <th>College</th>\n      <th>Salary</th>\n    </tr>\n  </thead>\n  <tbody>\n    <tr>\n      <th>175</th>\n      <td>Jordan McRae</td>\n      <td>Cleveland Cavaliers</td>\n      <td>12.0</td>\n      <td>SG</td>\n      <td>25.0</td>\n      <td>6-5</td>\n      <td>179.0</td>\n      <td>Tennessee</td>\n      <td>111196.0</td>\n    </tr>\n    <tr>\n      <th>135</th>\n      <td>Alan Williams</td>\n      <td>Phoenix Suns</td>\n      <td>15.0</td>\n      <td>C</td>\n      <td>23.0</td>\n      <td>6-8</td>\n      <td>260.0</td>\n      <td>UC Santa Barbara</td>\n      <td>83397.0</td>\n    </tr>\n    <tr>\n      <th>291</th>\n      <td>Orlando Johnson</td>\n      <td>New Orleans Pelicans</td>\n      <td>0.0</td>\n      <td>SG</td>\n      <td>27.0</td>\n      <td>6-5</td>\n      <td>220.0</td>\n      <td>UC Santa Barbara</td>\n      <td>55722.0</td>\n    </tr>\n    <tr>\n      <th>130</th>\n      <td>Phil Pressey</td>\n      <td>Phoenix Suns</td>\n      <td>25.0</td>\n      <td>PG</td>\n      <td>25.0</td>\n      <td>5-11</td>\n      <td>175.0</td>\n      <td>Missouri</td>\n      <td>55722.0</td>\n    </tr>\n    <tr>\n      <th>32</th>\n      <td>Thanasis Antetokounmpo</td>\n      <td>New York Knicks</td>\n      <td>43.0</td>\n      <td>SF</td>\n      <td>23.0</td>\n      <td>6-7</td>\n      <td>205.0</td>\n      <td>NaN</td>\n      <td>30888.0</td>\n    </tr>\n  </tbody>\n</table>\n</div>"
          },
          "metadata": {}
        }
      ]
    },
    {
      "cell_type": "markdown",
      "source": "## Sort a `DataFrame` with the `.sort_values()` Method, Part II",
      "metadata": {}
    },
    {
      "cell_type": "code",
      "source": "nba = pd.read_csv(\"nba.csv\")\nnba.head(3)",
      "metadata": {
        "collapsed": false,
        "jupyter": {
          "outputs_hidden": false
        }
      },
      "execution_count": 16,
      "outputs": [
        {
          "execution_count": 16,
          "output_type": "execute_result",
          "data": {
            "text/html": [
              "<div>\n",
              "<table border=\"1\" class=\"dataframe\">\n",
              "  <thead>\n",
              "    <tr style=\"text-align: right;\">\n",
              "      <th></th>\n",
              "      <th>Name</th>\n",
              "      <th>Team</th>\n",
              "      <th>Number</th>\n",
              "      <th>Position</th>\n",
              "      <th>Age</th>\n",
              "      <th>Height</th>\n",
              "      <th>Weight</th>\n",
              "      <th>College</th>\n",
              "      <th>Salary</th>\n",
              "    </tr>\n",
              "  </thead>\n",
              "  <tbody>\n",
              "    <tr>\n",
              "      <th>0</th>\n",
              "      <td>Avery Bradley</td>\n",
              "      <td>Boston Celtics</td>\n",
              "      <td>0.0</td>\n",
              "      <td>PG</td>\n",
              "      <td>25.0</td>\n",
              "      <td>6-2</td>\n",
              "      <td>180.0</td>\n",
              "      <td>Texas</td>\n",
              "      <td>7730337.0</td>\n",
              "    </tr>\n",
              "    <tr>\n",
              "      <th>1</th>\n",
              "      <td>Jae Crowder</td>\n",
              "      <td>Boston Celtics</td>\n",
              "      <td>99.0</td>\n",
              "      <td>SF</td>\n",
              "      <td>25.0</td>\n",
              "      <td>6-6</td>\n",
              "      <td>235.0</td>\n",
              "      <td>Marquette</td>\n",
              "      <td>6796117.0</td>\n",
              "    </tr>\n",
              "    <tr>\n",
              "      <th>2</th>\n",
              "      <td>John Holland</td>\n",
              "      <td>Boston Celtics</td>\n",
              "      <td>30.0</td>\n",
              "      <td>SG</td>\n",
              "      <td>27.0</td>\n",
              "      <td>6-5</td>\n",
              "      <td>205.0</td>\n",
              "      <td>Boston University</td>\n",
              "      <td>NaN</td>\n",
              "    </tr>\n",
              "  </tbody>\n",
              "</table>\n",
              "</div>"
            ],
            "text/plain": [
              "            Name            Team  Number Position   Age Height  Weight  \\\n",
              "0  Avery Bradley  Boston Celtics     0.0       PG  25.0    6-2   180.0   \n",
              "1    Jae Crowder  Boston Celtics    99.0       SF  25.0    6-6   235.0   \n",
              "2   John Holland  Boston Celtics    30.0       SG  27.0    6-5   205.0   \n",
              "\n",
              "             College     Salary  \n",
              "0              Texas  7730337.0  \n",
              "1          Marquette  6796117.0  \n",
              "2  Boston University        NaN  "
            ]
          },
          "metadata": {}
        }
      ]
    },
    {
      "cell_type": "code",
      "source": "nba.sort_values([\"Team\", \"Name\"], ascending = [True, False], inplace = True)\nnba.head(3)",
      "metadata": {
        "collapsed": false,
        "jupyter": {
          "outputs_hidden": false
        }
      },
      "execution_count": 20,
      "outputs": [
        {
          "execution_count": 20,
          "output_type": "execute_result",
          "data": {
            "text/html": [
              "<div>\n",
              "<table border=\"1\" class=\"dataframe\">\n",
              "  <thead>\n",
              "    <tr style=\"text-align: right;\">\n",
              "      <th></th>\n",
              "      <th>Name</th>\n",
              "      <th>Team</th>\n",
              "      <th>Number</th>\n",
              "      <th>Position</th>\n",
              "      <th>Age</th>\n",
              "      <th>Height</th>\n",
              "      <th>Weight</th>\n",
              "      <th>College</th>\n",
              "      <th>Salary</th>\n",
              "    </tr>\n",
              "  </thead>\n",
              "  <tbody>\n",
              "    <tr>\n",
              "      <th>322</th>\n",
              "      <td>Walter Tavares</td>\n",
              "      <td>Atlanta Hawks</td>\n",
              "      <td>22.0</td>\n",
              "      <td>C</td>\n",
              "      <td>24.0</td>\n",
              "      <td>7-3</td>\n",
              "      <td>260.0</td>\n",
              "      <td>NaN</td>\n",
              "      <td>1000000.0</td>\n",
              "    </tr>\n",
              "    <tr>\n",
              "      <th>310</th>\n",
              "      <td>Tim Hardaway Jr.</td>\n",
              "      <td>Atlanta Hawks</td>\n",
              "      <td>10.0</td>\n",
              "      <td>SG</td>\n",
              "      <td>24.0</td>\n",
              "      <td>6-6</td>\n",
              "      <td>205.0</td>\n",
              "      <td>Michigan</td>\n",
              "      <td>1304520.0</td>\n",
              "    </tr>\n",
              "    <tr>\n",
              "      <th>321</th>\n",
              "      <td>Tiago Splitter</td>\n",
              "      <td>Atlanta Hawks</td>\n",
              "      <td>11.0</td>\n",
              "      <td>C</td>\n",
              "      <td>31.0</td>\n",
              "      <td>6-11</td>\n",
              "      <td>245.0</td>\n",
              "      <td>NaN</td>\n",
              "      <td>9756250.0</td>\n",
              "    </tr>\n",
              "  </tbody>\n",
              "</table>\n",
              "</div>"
            ],
            "text/plain": [
              "                 Name           Team  Number Position   Age Height  Weight  \\\n",
              "322    Walter Tavares  Atlanta Hawks    22.0        C  24.0    7-3   260.0   \n",
              "310  Tim Hardaway Jr.  Atlanta Hawks    10.0       SG  24.0    6-6   205.0   \n",
              "321    Tiago Splitter  Atlanta Hawks    11.0        C  31.0   6-11   245.0   \n",
              "\n",
              "      College     Salary  \n",
              "322       NaN  1000000.0  \n",
              "310  Michigan  1304520.0  \n",
              "321       NaN  9756250.0  "
            ]
          },
          "metadata": {}
        }
      ]
    },
    {
      "cell_type": "markdown",
      "source": "## Sort `DataFrame` with the `.sort_index()` Method",
      "metadata": {}
    },
    {
      "cell_type": "code",
      "source": "nba = pd.read_csv(\"nba.csv\")\nnba.head(3)",
      "metadata": {
        "collapsed": false,
        "jupyter": {
          "outputs_hidden": false
        },
        "trusted": true
      },
      "execution_count": 108,
      "outputs": [
        {
          "execution_count": 108,
          "output_type": "execute_result",
          "data": {
            "text/plain": "            Name            Team  Number Position   Age Height  Weight  \\\n0  Avery Bradley  Boston Celtics     0.0       PG  25.0    6-2   180.0   \n1    Jae Crowder  Boston Celtics    99.0       SF  25.0    6-6   235.0   \n2   John Holland  Boston Celtics    30.0       SG  27.0    6-5   205.0   \n\n             College     Salary  \n0              Texas  7730337.0  \n1          Marquette  6796117.0  \n2  Boston University        NaN  ",
            "text/html": "<div>\n<style scoped>\n    .dataframe tbody tr th:only-of-type {\n        vertical-align: middle;\n    }\n\n    .dataframe tbody tr th {\n        vertical-align: top;\n    }\n\n    .dataframe thead th {\n        text-align: right;\n    }\n</style>\n<table border=\"1\" class=\"dataframe\">\n  <thead>\n    <tr style=\"text-align: right;\">\n      <th></th>\n      <th>Name</th>\n      <th>Team</th>\n      <th>Number</th>\n      <th>Position</th>\n      <th>Age</th>\n      <th>Height</th>\n      <th>Weight</th>\n      <th>College</th>\n      <th>Salary</th>\n    </tr>\n  </thead>\n  <tbody>\n    <tr>\n      <th>0</th>\n      <td>Avery Bradley</td>\n      <td>Boston Celtics</td>\n      <td>0.0</td>\n      <td>PG</td>\n      <td>25.0</td>\n      <td>6-2</td>\n      <td>180.0</td>\n      <td>Texas</td>\n      <td>7730337.0</td>\n    </tr>\n    <tr>\n      <th>1</th>\n      <td>Jae Crowder</td>\n      <td>Boston Celtics</td>\n      <td>99.0</td>\n      <td>SF</td>\n      <td>25.0</td>\n      <td>6-6</td>\n      <td>235.0</td>\n      <td>Marquette</td>\n      <td>6796117.0</td>\n    </tr>\n    <tr>\n      <th>2</th>\n      <td>John Holland</td>\n      <td>Boston Celtics</td>\n      <td>30.0</td>\n      <td>SG</td>\n      <td>27.0</td>\n      <td>6-5</td>\n      <td>205.0</td>\n      <td>Boston University</td>\n      <td>NaN</td>\n    </tr>\n  </tbody>\n</table>\n</div>"
          },
          "metadata": {}
        }
      ]
    },
    {
      "cell_type": "code",
      "source": "nba.sort_values([\"Number\", \"Salary\", \"Name\"], inplace = True)\nnba.tail(3)",
      "metadata": {
        "collapsed": false,
        "jupyter": {
          "outputs_hidden": false
        },
        "trusted": true
      },
      "execution_count": 109,
      "outputs": [
        {
          "execution_count": 109,
          "output_type": "execute_result",
          "data": {
            "text/plain": "               Name             Team  Number Position   Age Height  Weight  \\\n68   Lucas Nogueira  Toronto Raptors    92.0        C  23.0    7-0   220.0   \n1       Jae Crowder   Boston Celtics    99.0       SF  25.0    6-6   235.0   \n457             NaN              NaN     NaN      NaN   NaN    NaN     NaN   \n\n       College     Salary  \n68         NaN  1842000.0  \n1    Marquette  6796117.0  \n457        NaN        NaN  ",
            "text/html": "<div>\n<style scoped>\n    .dataframe tbody tr th:only-of-type {\n        vertical-align: middle;\n    }\n\n    .dataframe tbody tr th {\n        vertical-align: top;\n    }\n\n    .dataframe thead th {\n        text-align: right;\n    }\n</style>\n<table border=\"1\" class=\"dataframe\">\n  <thead>\n    <tr style=\"text-align: right;\">\n      <th></th>\n      <th>Name</th>\n      <th>Team</th>\n      <th>Number</th>\n      <th>Position</th>\n      <th>Age</th>\n      <th>Height</th>\n      <th>Weight</th>\n      <th>College</th>\n      <th>Salary</th>\n    </tr>\n  </thead>\n  <tbody>\n    <tr>\n      <th>68</th>\n      <td>Lucas Nogueira</td>\n      <td>Toronto Raptors</td>\n      <td>92.0</td>\n      <td>C</td>\n      <td>23.0</td>\n      <td>7-0</td>\n      <td>220.0</td>\n      <td>NaN</td>\n      <td>1842000.0</td>\n    </tr>\n    <tr>\n      <th>1</th>\n      <td>Jae Crowder</td>\n      <td>Boston Celtics</td>\n      <td>99.0</td>\n      <td>SF</td>\n      <td>25.0</td>\n      <td>6-6</td>\n      <td>235.0</td>\n      <td>Marquette</td>\n      <td>6796117.0</td>\n    </tr>\n    <tr>\n      <th>457</th>\n      <td>NaN</td>\n      <td>NaN</td>\n      <td>NaN</td>\n      <td>NaN</td>\n      <td>NaN</td>\n      <td>NaN</td>\n      <td>NaN</td>\n      <td>NaN</td>\n      <td>NaN</td>\n    </tr>\n  </tbody>\n</table>\n</div>"
          },
          "metadata": {}
        }
      ]
    },
    {
      "cell_type": "code",
      "source": "nba.sort_index(ascending = False, inplace = True)",
      "metadata": {
        "tags": [],
        "trusted": true
      },
      "execution_count": 110,
      "outputs": []
    },
    {
      "cell_type": "code",
      "source": "nba.head()",
      "metadata": {
        "trusted": true
      },
      "execution_count": 111,
      "outputs": [
        {
          "execution_count": 111,
          "output_type": "execute_result",
          "data": {
            "text/plain": "             Name       Team  Number Position   Age Height  Weight College  \\\n457           NaN        NaN     NaN      NaN   NaN    NaN     NaN     NaN   \n456   Jeff Withey  Utah Jazz    24.0        C  26.0    7-0   231.0  Kansas   \n455  Tibor Pleiss  Utah Jazz    21.0        C  26.0    7-3   256.0     NaN   \n454     Raul Neto  Utah Jazz    25.0       PG  24.0    6-1   179.0     NaN   \n453  Shelvin Mack  Utah Jazz     8.0       PG  26.0    6-3   203.0  Butler   \n\n        Salary  \n457        NaN  \n456   947276.0  \n455  2900000.0  \n454   900000.0  \n453  2433333.0  ",
            "text/html": "<div>\n<style scoped>\n    .dataframe tbody tr th:only-of-type {\n        vertical-align: middle;\n    }\n\n    .dataframe tbody tr th {\n        vertical-align: top;\n    }\n\n    .dataframe thead th {\n        text-align: right;\n    }\n</style>\n<table border=\"1\" class=\"dataframe\">\n  <thead>\n    <tr style=\"text-align: right;\">\n      <th></th>\n      <th>Name</th>\n      <th>Team</th>\n      <th>Number</th>\n      <th>Position</th>\n      <th>Age</th>\n      <th>Height</th>\n      <th>Weight</th>\n      <th>College</th>\n      <th>Salary</th>\n    </tr>\n  </thead>\n  <tbody>\n    <tr>\n      <th>457</th>\n      <td>NaN</td>\n      <td>NaN</td>\n      <td>NaN</td>\n      <td>NaN</td>\n      <td>NaN</td>\n      <td>NaN</td>\n      <td>NaN</td>\n      <td>NaN</td>\n      <td>NaN</td>\n    </tr>\n    <tr>\n      <th>456</th>\n      <td>Jeff Withey</td>\n      <td>Utah Jazz</td>\n      <td>24.0</td>\n      <td>C</td>\n      <td>26.0</td>\n      <td>7-0</td>\n      <td>231.0</td>\n      <td>Kansas</td>\n      <td>947276.0</td>\n    </tr>\n    <tr>\n      <th>455</th>\n      <td>Tibor Pleiss</td>\n      <td>Utah Jazz</td>\n      <td>21.0</td>\n      <td>C</td>\n      <td>26.0</td>\n      <td>7-3</td>\n      <td>256.0</td>\n      <td>NaN</td>\n      <td>2900000.0</td>\n    </tr>\n    <tr>\n      <th>454</th>\n      <td>Raul Neto</td>\n      <td>Utah Jazz</td>\n      <td>25.0</td>\n      <td>PG</td>\n      <td>24.0</td>\n      <td>6-1</td>\n      <td>179.0</td>\n      <td>NaN</td>\n      <td>900000.0</td>\n    </tr>\n    <tr>\n      <th>453</th>\n      <td>Shelvin Mack</td>\n      <td>Utah Jazz</td>\n      <td>8.0</td>\n      <td>PG</td>\n      <td>26.0</td>\n      <td>6-3</td>\n      <td>203.0</td>\n      <td>Butler</td>\n      <td>2433333.0</td>\n    </tr>\n  </tbody>\n</table>\n</div>"
          },
          "metadata": {}
        }
      ]
    },
    {
      "cell_type": "code",
      "source": "nba.sort_index(ascending = True, inplace = True)",
      "metadata": {
        "trusted": true
      },
      "execution_count": null,
      "outputs": []
    },
    {
      "cell_type": "code",
      "source": "nba.head()",
      "metadata": {
        "trusted": true
      },
      "execution_count": 113,
      "outputs": [
        {
          "execution_count": 113,
          "output_type": "execute_result",
          "data": {
            "text/plain": "            Name            Team  Number Position   Age Height  Weight  \\\n0  Avery Bradley  Boston Celtics     0.0       PG  25.0    6-2   180.0   \n1    Jae Crowder  Boston Celtics    99.0       SF  25.0    6-6   235.0   \n2   John Holland  Boston Celtics    30.0       SG  27.0    6-5   205.0   \n3    R.J. Hunter  Boston Celtics    28.0       SG  22.0    6-5   185.0   \n4  Jonas Jerebko  Boston Celtics     8.0       PF  29.0   6-10   231.0   \n\n             College     Salary  \n0              Texas  7730337.0  \n1          Marquette  6796117.0  \n2  Boston University        NaN  \n3      Georgia State  1148640.0  \n4                NaN  5000000.0  ",
            "text/html": "<div>\n<style scoped>\n    .dataframe tbody tr th:only-of-type {\n        vertical-align: middle;\n    }\n\n    .dataframe tbody tr th {\n        vertical-align: top;\n    }\n\n    .dataframe thead th {\n        text-align: right;\n    }\n</style>\n<table border=\"1\" class=\"dataframe\">\n  <thead>\n    <tr style=\"text-align: right;\">\n      <th></th>\n      <th>Name</th>\n      <th>Team</th>\n      <th>Number</th>\n      <th>Position</th>\n      <th>Age</th>\n      <th>Height</th>\n      <th>Weight</th>\n      <th>College</th>\n      <th>Salary</th>\n    </tr>\n  </thead>\n  <tbody>\n    <tr>\n      <th>0</th>\n      <td>Avery Bradley</td>\n      <td>Boston Celtics</td>\n      <td>0.0</td>\n      <td>PG</td>\n      <td>25.0</td>\n      <td>6-2</td>\n      <td>180.0</td>\n      <td>Texas</td>\n      <td>7730337.0</td>\n    </tr>\n    <tr>\n      <th>1</th>\n      <td>Jae Crowder</td>\n      <td>Boston Celtics</td>\n      <td>99.0</td>\n      <td>SF</td>\n      <td>25.0</td>\n      <td>6-6</td>\n      <td>235.0</td>\n      <td>Marquette</td>\n      <td>6796117.0</td>\n    </tr>\n    <tr>\n      <th>2</th>\n      <td>John Holland</td>\n      <td>Boston Celtics</td>\n      <td>30.0</td>\n      <td>SG</td>\n      <td>27.0</td>\n      <td>6-5</td>\n      <td>205.0</td>\n      <td>Boston University</td>\n      <td>NaN</td>\n    </tr>\n    <tr>\n      <th>3</th>\n      <td>R.J. Hunter</td>\n      <td>Boston Celtics</td>\n      <td>28.0</td>\n      <td>SG</td>\n      <td>22.0</td>\n      <td>6-5</td>\n      <td>185.0</td>\n      <td>Georgia State</td>\n      <td>1148640.0</td>\n    </tr>\n    <tr>\n      <th>4</th>\n      <td>Jonas Jerebko</td>\n      <td>Boston Celtics</td>\n      <td>8.0</td>\n      <td>PF</td>\n      <td>29.0</td>\n      <td>6-10</td>\n      <td>231.0</td>\n      <td>NaN</td>\n      <td>5000000.0</td>\n    </tr>\n  </tbody>\n</table>\n</div>"
          },
          "metadata": {}
        }
      ]
    },
    {
      "cell_type": "code",
      "source": "",
      "metadata": {},
      "execution_count": null,
      "outputs": []
    },
    {
      "cell_type": "code",
      "source": "",
      "metadata": {},
      "execution_count": null,
      "outputs": []
    },
    {
      "cell_type": "code",
      "source": "",
      "metadata": {},
      "execution_count": null,
      "outputs": []
    },
    {
      "cell_type": "code",
      "source": "",
      "metadata": {},
      "execution_count": null,
      "outputs": []
    },
    {
      "cell_type": "code",
      "source": "nba.sort_values([\"Salary Rank\"],ascending=True)",
      "metadata": {
        "trusted": true
      },
      "execution_count": 107,
      "outputs": [
        {
          "execution_count": 107,
          "output_type": "execute_result",
          "data": {
            "text/plain": "                Name                    Team  Number Position   Age Height  \\\n109      Kobe Bryant      Los Angeles Lakers    24.0       SF  37.0    6-6   \n169     LeBron James     Cleveland Cavaliers    23.0       SF  31.0    6-8   \n33   Carmelo Anthony         New York Knicks     7.0       SF  32.0    6-8   \n251    Dwight Howard         Houston Rockets    12.0        C  30.0   6-11   \n339       Chris Bosh              Miami Heat     1.0       PF  32.0   6-11   \n..               ...                     ...     ...      ...   ...    ...   \n409       Greg Smith  Minnesota Timberwolves     4.0       PF  25.0   6-10   \n353    Dorell Wright              Miami Heat    11.0       SF  30.0    6-9   \n46       Elton Brand      Philadelphia 76ers    42.0       PF  37.0    6-9   \n270   Xavier Munford       Memphis Grizzlies    14.0       PG  24.0    6-3   \n397     Axel Toupane          Denver Nuggets     6.0       SG  23.0    6-7   \n\n     Weight       College    Salary  Salary Rank  \n109   212.0           NaN  25000000            1  \n169   250.0           NaN  22970500            2  \n33    240.0      Syracuse  22875000            3  \n251   265.0           NaN  22359364            4  \n339   235.0  Georgia Tech  22192730            5  \n..      ...           ...       ...          ...  \n409   250.0  Fresno State         0          452  \n353   205.0           NaN         0          452  \n46    254.0          Duke         0          452  \n270   180.0  Rhode Island         0          452  \n397   210.0           NaN         0          452  \n\n[457 rows x 10 columns]",
            "text/html": "<div>\n<style scoped>\n    .dataframe tbody tr th:only-of-type {\n        vertical-align: middle;\n    }\n\n    .dataframe tbody tr th {\n        vertical-align: top;\n    }\n\n    .dataframe thead th {\n        text-align: right;\n    }\n</style>\n<table border=\"1\" class=\"dataframe\">\n  <thead>\n    <tr style=\"text-align: right;\">\n      <th></th>\n      <th>Name</th>\n      <th>Team</th>\n      <th>Number</th>\n      <th>Position</th>\n      <th>Age</th>\n      <th>Height</th>\n      <th>Weight</th>\n      <th>College</th>\n      <th>Salary</th>\n      <th>Salary Rank</th>\n    </tr>\n  </thead>\n  <tbody>\n    <tr>\n      <th>109</th>\n      <td>Kobe Bryant</td>\n      <td>Los Angeles Lakers</td>\n      <td>24.0</td>\n      <td>SF</td>\n      <td>37.0</td>\n      <td>6-6</td>\n      <td>212.0</td>\n      <td>NaN</td>\n      <td>25000000</td>\n      <td>1</td>\n    </tr>\n    <tr>\n      <th>169</th>\n      <td>LeBron James</td>\n      <td>Cleveland Cavaliers</td>\n      <td>23.0</td>\n      <td>SF</td>\n      <td>31.0</td>\n      <td>6-8</td>\n      <td>250.0</td>\n      <td>NaN</td>\n      <td>22970500</td>\n      <td>2</td>\n    </tr>\n    <tr>\n      <th>33</th>\n      <td>Carmelo Anthony</td>\n      <td>New York Knicks</td>\n      <td>7.0</td>\n      <td>SF</td>\n      <td>32.0</td>\n      <td>6-8</td>\n      <td>240.0</td>\n      <td>Syracuse</td>\n      <td>22875000</td>\n      <td>3</td>\n    </tr>\n    <tr>\n      <th>251</th>\n      <td>Dwight Howard</td>\n      <td>Houston Rockets</td>\n      <td>12.0</td>\n      <td>C</td>\n      <td>30.0</td>\n      <td>6-11</td>\n      <td>265.0</td>\n      <td>NaN</td>\n      <td>22359364</td>\n      <td>4</td>\n    </tr>\n    <tr>\n      <th>339</th>\n      <td>Chris Bosh</td>\n      <td>Miami Heat</td>\n      <td>1.0</td>\n      <td>PF</td>\n      <td>32.0</td>\n      <td>6-11</td>\n      <td>235.0</td>\n      <td>Georgia Tech</td>\n      <td>22192730</td>\n      <td>5</td>\n    </tr>\n    <tr>\n      <th>...</th>\n      <td>...</td>\n      <td>...</td>\n      <td>...</td>\n      <td>...</td>\n      <td>...</td>\n      <td>...</td>\n      <td>...</td>\n      <td>...</td>\n      <td>...</td>\n      <td>...</td>\n    </tr>\n    <tr>\n      <th>409</th>\n      <td>Greg Smith</td>\n      <td>Minnesota Timberwolves</td>\n      <td>4.0</td>\n      <td>PF</td>\n      <td>25.0</td>\n      <td>6-10</td>\n      <td>250.0</td>\n      <td>Fresno State</td>\n      <td>0</td>\n      <td>452</td>\n    </tr>\n    <tr>\n      <th>353</th>\n      <td>Dorell Wright</td>\n      <td>Miami Heat</td>\n      <td>11.0</td>\n      <td>SF</td>\n      <td>30.0</td>\n      <td>6-9</td>\n      <td>205.0</td>\n      <td>NaN</td>\n      <td>0</td>\n      <td>452</td>\n    </tr>\n    <tr>\n      <th>46</th>\n      <td>Elton Brand</td>\n      <td>Philadelphia 76ers</td>\n      <td>42.0</td>\n      <td>PF</td>\n      <td>37.0</td>\n      <td>6-9</td>\n      <td>254.0</td>\n      <td>Duke</td>\n      <td>0</td>\n      <td>452</td>\n    </tr>\n    <tr>\n      <th>270</th>\n      <td>Xavier Munford</td>\n      <td>Memphis Grizzlies</td>\n      <td>14.0</td>\n      <td>PG</td>\n      <td>24.0</td>\n      <td>6-3</td>\n      <td>180.0</td>\n      <td>Rhode Island</td>\n      <td>0</td>\n      <td>452</td>\n    </tr>\n    <tr>\n      <th>397</th>\n      <td>Axel Toupane</td>\n      <td>Denver Nuggets</td>\n      <td>6.0</td>\n      <td>SG</td>\n      <td>23.0</td>\n      <td>6-7</td>\n      <td>210.0</td>\n      <td>NaN</td>\n      <td>0</td>\n      <td>452</td>\n    </tr>\n  </tbody>\n</table>\n<p>457 rows × 10 columns</p>\n</div>"
          },
          "metadata": {}
        }
      ]
    },
    {
      "cell_type": "code",
      "source": "",
      "metadata": {},
      "execution_count": null,
      "outputs": []
    },
    {
      "cell_type": "code",
      "source": "nba.head(3)",
      "metadata": {
        "collapsed": false,
        "jupyter": {
          "outputs_hidden": false
        },
        "trusted": true
      },
      "execution_count": 106,
      "outputs": [
        {
          "execution_count": 106,
          "output_type": "execute_result",
          "data": {
            "text/plain": "            Name            Team  Number Position   Age Height  Weight  \\\n0  Avery Bradley  Boston Celtics     0.0       PG  25.0    6-2   180.0   \n1    Jae Crowder  Boston Celtics    99.0       SF  25.0    6-6   235.0   \n2   John Holland  Boston Celtics    30.0       SG  27.0    6-5   205.0   \n\n             College   Salary  Salary Rank  \n0              Texas  7730337           97  \n1          Marquette  6796117          110  \n2  Boston University        0          452  ",
            "text/html": "<div>\n<style scoped>\n    .dataframe tbody tr th:only-of-type {\n        vertical-align: middle;\n    }\n\n    .dataframe tbody tr th {\n        vertical-align: top;\n    }\n\n    .dataframe thead th {\n        text-align: right;\n    }\n</style>\n<table border=\"1\" class=\"dataframe\">\n  <thead>\n    <tr style=\"text-align: right;\">\n      <th></th>\n      <th>Name</th>\n      <th>Team</th>\n      <th>Number</th>\n      <th>Position</th>\n      <th>Age</th>\n      <th>Height</th>\n      <th>Weight</th>\n      <th>College</th>\n      <th>Salary</th>\n      <th>Salary Rank</th>\n    </tr>\n  </thead>\n  <tbody>\n    <tr>\n      <th>0</th>\n      <td>Avery Bradley</td>\n      <td>Boston Celtics</td>\n      <td>0.0</td>\n      <td>PG</td>\n      <td>25.0</td>\n      <td>6-2</td>\n      <td>180.0</td>\n      <td>Texas</td>\n      <td>7730337</td>\n      <td>97</td>\n    </tr>\n    <tr>\n      <th>1</th>\n      <td>Jae Crowder</td>\n      <td>Boston Celtics</td>\n      <td>99.0</td>\n      <td>SF</td>\n      <td>25.0</td>\n      <td>6-6</td>\n      <td>235.0</td>\n      <td>Marquette</td>\n      <td>6796117</td>\n      <td>110</td>\n    </tr>\n    <tr>\n      <th>2</th>\n      <td>John Holland</td>\n      <td>Boston Celtics</td>\n      <td>30.0</td>\n      <td>SG</td>\n      <td>27.0</td>\n      <td>6-5</td>\n      <td>205.0</td>\n      <td>Boston University</td>\n      <td>0</td>\n      <td>452</td>\n    </tr>\n  </tbody>\n</table>\n</div>"
          },
          "metadata": {}
        }
      ]
    },
    {
      "cell_type": "markdown",
      "source": "## Rank Values with the `.rank()` Method",
      "metadata": {}
    },
    {
      "cell_type": "code",
      "source": "nba = pd.read_csv(\"nba.csv\").dropna(how = \"all\")\nnba[\"Salary\"] = nba[\"Salary\"].fillna(0).astype(\"int\")\nnba.head(3)",
      "metadata": {
        "collapsed": false,
        "jupyter": {
          "outputs_hidden": false
        },
        "trusted": true
      },
      "execution_count": 114,
      "outputs": [
        {
          "execution_count": 114,
          "output_type": "execute_result",
          "data": {
            "text/plain": "            Name            Team  Number Position   Age Height  Weight  \\\n0  Avery Bradley  Boston Celtics     0.0       PG  25.0    6-2   180.0   \n1    Jae Crowder  Boston Celtics    99.0       SF  25.0    6-6   235.0   \n2   John Holland  Boston Celtics    30.0       SG  27.0    6-5   205.0   \n\n             College   Salary  \n0              Texas  7730337  \n1          Marquette  6796117  \n2  Boston University        0  ",
            "text/html": "<div>\n<style scoped>\n    .dataframe tbody tr th:only-of-type {\n        vertical-align: middle;\n    }\n\n    .dataframe tbody tr th {\n        vertical-align: top;\n    }\n\n    .dataframe thead th {\n        text-align: right;\n    }\n</style>\n<table border=\"1\" class=\"dataframe\">\n  <thead>\n    <tr style=\"text-align: right;\">\n      <th></th>\n      <th>Name</th>\n      <th>Team</th>\n      <th>Number</th>\n      <th>Position</th>\n      <th>Age</th>\n      <th>Height</th>\n      <th>Weight</th>\n      <th>College</th>\n      <th>Salary</th>\n    </tr>\n  </thead>\n  <tbody>\n    <tr>\n      <th>0</th>\n      <td>Avery Bradley</td>\n      <td>Boston Celtics</td>\n      <td>0.0</td>\n      <td>PG</td>\n      <td>25.0</td>\n      <td>6-2</td>\n      <td>180.0</td>\n      <td>Texas</td>\n      <td>7730337</td>\n    </tr>\n    <tr>\n      <th>1</th>\n      <td>Jae Crowder</td>\n      <td>Boston Celtics</td>\n      <td>99.0</td>\n      <td>SF</td>\n      <td>25.0</td>\n      <td>6-6</td>\n      <td>235.0</td>\n      <td>Marquette</td>\n      <td>6796117</td>\n    </tr>\n    <tr>\n      <th>2</th>\n      <td>John Holland</td>\n      <td>Boston Celtics</td>\n      <td>30.0</td>\n      <td>SG</td>\n      <td>27.0</td>\n      <td>6-5</td>\n      <td>205.0</td>\n      <td>Boston University</td>\n      <td>0</td>\n    </tr>\n  </tbody>\n</table>\n</div>"
          },
          "metadata": {}
        }
      ]
    },
    {
      "cell_type": "code",
      "source": "nba[\"Salary Rank\"] = nba[\"Salary\"].rank(ascending = False).astype(\"int\")\nnba.head(3)",
      "metadata": {
        "collapsed": false,
        "jupyter": {
          "outputs_hidden": false
        },
        "trusted": true
      },
      "execution_count": 115,
      "outputs": [
        {
          "execution_count": 115,
          "output_type": "execute_result",
          "data": {
            "text/plain": "            Name            Team  Number Position   Age Height  Weight  \\\n0  Avery Bradley  Boston Celtics     0.0       PG  25.0    6-2   180.0   \n1    Jae Crowder  Boston Celtics    99.0       SF  25.0    6-6   235.0   \n2   John Holland  Boston Celtics    30.0       SG  27.0    6-5   205.0   \n\n             College   Salary  Salary Rank  \n0              Texas  7730337           97  \n1          Marquette  6796117          110  \n2  Boston University        0          452  ",
            "text/html": "<div>\n<style scoped>\n    .dataframe tbody tr th:only-of-type {\n        vertical-align: middle;\n    }\n\n    .dataframe tbody tr th {\n        vertical-align: top;\n    }\n\n    .dataframe thead th {\n        text-align: right;\n    }\n</style>\n<table border=\"1\" class=\"dataframe\">\n  <thead>\n    <tr style=\"text-align: right;\">\n      <th></th>\n      <th>Name</th>\n      <th>Team</th>\n      <th>Number</th>\n      <th>Position</th>\n      <th>Age</th>\n      <th>Height</th>\n      <th>Weight</th>\n      <th>College</th>\n      <th>Salary</th>\n      <th>Salary Rank</th>\n    </tr>\n  </thead>\n  <tbody>\n    <tr>\n      <th>0</th>\n      <td>Avery Bradley</td>\n      <td>Boston Celtics</td>\n      <td>0.0</td>\n      <td>PG</td>\n      <td>25.0</td>\n      <td>6-2</td>\n      <td>180.0</td>\n      <td>Texas</td>\n      <td>7730337</td>\n      <td>97</td>\n    </tr>\n    <tr>\n      <th>1</th>\n      <td>Jae Crowder</td>\n      <td>Boston Celtics</td>\n      <td>99.0</td>\n      <td>SF</td>\n      <td>25.0</td>\n      <td>6-6</td>\n      <td>235.0</td>\n      <td>Marquette</td>\n      <td>6796117</td>\n      <td>110</td>\n    </tr>\n    <tr>\n      <th>2</th>\n      <td>John Holland</td>\n      <td>Boston Celtics</td>\n      <td>30.0</td>\n      <td>SG</td>\n      <td>27.0</td>\n      <td>6-5</td>\n      <td>205.0</td>\n      <td>Boston University</td>\n      <td>0</td>\n      <td>452</td>\n    </tr>\n  </tbody>\n</table>\n</div>"
          },
          "metadata": {}
        }
      ]
    },
    {
      "cell_type": "code",
      "source": "nba.sort_values(by = \"Salary\", ascending = False)",
      "metadata": {
        "collapsed": false,
        "jupyter": {
          "outputs_hidden": false
        },
        "trusted": true
      },
      "execution_count": 104,
      "outputs": [
        {
          "execution_count": 104,
          "output_type": "execute_result",
          "data": {
            "text/plain": "                Name                    Team  Number Position   Age Height  \\\n109      Kobe Bryant      Los Angeles Lakers    24.0       SF  37.0    6-6   \n169     LeBron James     Cleveland Cavaliers    23.0       SF  31.0    6-8   \n33   Carmelo Anthony         New York Knicks     7.0       SF  32.0    6-8   \n251    Dwight Howard         Houston Rockets    12.0        C  30.0   6-11   \n339       Chris Bosh              Miami Heat     1.0       PF  32.0   6-11   \n..               ...                     ...     ...      ...   ...    ...   \n353    Dorell Wright              Miami Heat    11.0       SF  30.0    6-9   \n264    Jordan Farmar       Memphis Grizzlies     4.0       PG  29.0    6-2   \n409       Greg Smith  Minnesota Timberwolves     4.0       PF  25.0   6-10   \n273   Alex Stepheson       Memphis Grizzlies    35.0       PF  28.0   6-10   \n270   Xavier Munford       Memphis Grizzlies    14.0       PG  24.0    6-3   \n\n     Weight       College    Salary  Salary Rank  \n109   212.0           NaN  25000000            1  \n169   250.0           NaN  22970500            2  \n33    240.0      Syracuse  22875000            3  \n251   265.0           NaN  22359364            4  \n339   235.0  Georgia Tech  22192730            5  \n..      ...           ...       ...          ...  \n353   205.0           NaN         0          452  \n264   180.0          UCLA         0          452  \n409   250.0  Fresno State         0          452  \n273   270.0           USC         0          452  \n270   180.0  Rhode Island         0          452  \n\n[457 rows x 10 columns]",
            "text/html": "<div>\n<style scoped>\n    .dataframe tbody tr th:only-of-type {\n        vertical-align: middle;\n    }\n\n    .dataframe tbody tr th {\n        vertical-align: top;\n    }\n\n    .dataframe thead th {\n        text-align: right;\n    }\n</style>\n<table border=\"1\" class=\"dataframe\">\n  <thead>\n    <tr style=\"text-align: right;\">\n      <th></th>\n      <th>Name</th>\n      <th>Team</th>\n      <th>Number</th>\n      <th>Position</th>\n      <th>Age</th>\n      <th>Height</th>\n      <th>Weight</th>\n      <th>College</th>\n      <th>Salary</th>\n      <th>Salary Rank</th>\n    </tr>\n  </thead>\n  <tbody>\n    <tr>\n      <th>109</th>\n      <td>Kobe Bryant</td>\n      <td>Los Angeles Lakers</td>\n      <td>24.0</td>\n      <td>SF</td>\n      <td>37.0</td>\n      <td>6-6</td>\n      <td>212.0</td>\n      <td>NaN</td>\n      <td>25000000</td>\n      <td>1</td>\n    </tr>\n    <tr>\n      <th>169</th>\n      <td>LeBron James</td>\n      <td>Cleveland Cavaliers</td>\n      <td>23.0</td>\n      <td>SF</td>\n      <td>31.0</td>\n      <td>6-8</td>\n      <td>250.0</td>\n      <td>NaN</td>\n      <td>22970500</td>\n      <td>2</td>\n    </tr>\n    <tr>\n      <th>33</th>\n      <td>Carmelo Anthony</td>\n      <td>New York Knicks</td>\n      <td>7.0</td>\n      <td>SF</td>\n      <td>32.0</td>\n      <td>6-8</td>\n      <td>240.0</td>\n      <td>Syracuse</td>\n      <td>22875000</td>\n      <td>3</td>\n    </tr>\n    <tr>\n      <th>251</th>\n      <td>Dwight Howard</td>\n      <td>Houston Rockets</td>\n      <td>12.0</td>\n      <td>C</td>\n      <td>30.0</td>\n      <td>6-11</td>\n      <td>265.0</td>\n      <td>NaN</td>\n      <td>22359364</td>\n      <td>4</td>\n    </tr>\n    <tr>\n      <th>339</th>\n      <td>Chris Bosh</td>\n      <td>Miami Heat</td>\n      <td>1.0</td>\n      <td>PF</td>\n      <td>32.0</td>\n      <td>6-11</td>\n      <td>235.0</td>\n      <td>Georgia Tech</td>\n      <td>22192730</td>\n      <td>5</td>\n    </tr>\n    <tr>\n      <th>...</th>\n      <td>...</td>\n      <td>...</td>\n      <td>...</td>\n      <td>...</td>\n      <td>...</td>\n      <td>...</td>\n      <td>...</td>\n      <td>...</td>\n      <td>...</td>\n      <td>...</td>\n    </tr>\n    <tr>\n      <th>353</th>\n      <td>Dorell Wright</td>\n      <td>Miami Heat</td>\n      <td>11.0</td>\n      <td>SF</td>\n      <td>30.0</td>\n      <td>6-9</td>\n      <td>205.0</td>\n      <td>NaN</td>\n      <td>0</td>\n      <td>452</td>\n    </tr>\n    <tr>\n      <th>264</th>\n      <td>Jordan Farmar</td>\n      <td>Memphis Grizzlies</td>\n      <td>4.0</td>\n      <td>PG</td>\n      <td>29.0</td>\n      <td>6-2</td>\n      <td>180.0</td>\n      <td>UCLA</td>\n      <td>0</td>\n      <td>452</td>\n    </tr>\n    <tr>\n      <th>409</th>\n      <td>Greg Smith</td>\n      <td>Minnesota Timberwolves</td>\n      <td>4.0</td>\n      <td>PF</td>\n      <td>25.0</td>\n      <td>6-10</td>\n      <td>250.0</td>\n      <td>Fresno State</td>\n      <td>0</td>\n      <td>452</td>\n    </tr>\n    <tr>\n      <th>273</th>\n      <td>Alex Stepheson</td>\n      <td>Memphis Grizzlies</td>\n      <td>35.0</td>\n      <td>PF</td>\n      <td>28.0</td>\n      <td>6-10</td>\n      <td>270.0</td>\n      <td>USC</td>\n      <td>0</td>\n      <td>452</td>\n    </tr>\n    <tr>\n      <th>270</th>\n      <td>Xavier Munford</td>\n      <td>Memphis Grizzlies</td>\n      <td>14.0</td>\n      <td>PG</td>\n      <td>24.0</td>\n      <td>6-3</td>\n      <td>180.0</td>\n      <td>Rhode Island</td>\n      <td>0</td>\n      <td>452</td>\n    </tr>\n  </tbody>\n</table>\n<p>457 rows × 10 columns</p>\n</div>"
          },
          "metadata": {}
        }
      ]
    },
    {
      "cell_type": "code",
      "source": "",
      "metadata": {
        "collapsed": true,
        "jupyter": {
          "outputs_hidden": true
        }
      },
      "execution_count": null,
      "outputs": []
    },
    {
      "cell_type": "code",
      "source": "",
      "metadata": {
        "collapsed": true,
        "jupyter": {
          "outputs_hidden": true
        }
      },
      "execution_count": null,
      "outputs": []
    },
    {
      "cell_type": "code",
      "source": "",
      "metadata": {
        "collapsed": true,
        "jupyter": {
          "outputs_hidden": true
        }
      },
      "execution_count": null,
      "outputs": []
    },
    {
      "cell_type": "code",
      "source": "",
      "metadata": {
        "collapsed": true,
        "jupyter": {
          "outputs_hidden": true
        }
      },
      "execution_count": null,
      "outputs": []
    },
    {
      "cell_type": "code",
      "source": "",
      "metadata": {
        "collapsed": true,
        "jupyter": {
          "outputs_hidden": true
        }
      },
      "execution_count": null,
      "outputs": []
    },
    {
      "cell_type": "code",
      "source": "",
      "metadata": {
        "collapsed": true,
        "jupyter": {
          "outputs_hidden": true
        }
      },
      "execution_count": null,
      "outputs": []
    },
    {
      "cell_type": "code",
      "source": "",
      "metadata": {
        "collapsed": true,
        "jupyter": {
          "outputs_hidden": true
        }
      },
      "execution_count": null,
      "outputs": []
    },
    {
      "cell_type": "code",
      "source": "",
      "metadata": {
        "collapsed": true,
        "jupyter": {
          "outputs_hidden": true
        }
      },
      "execution_count": null,
      "outputs": []
    },
    {
      "cell_type": "code",
      "source": "",
      "metadata": {
        "collapsed": true,
        "jupyter": {
          "outputs_hidden": true
        }
      },
      "execution_count": null,
      "outputs": []
    }
  ]
}