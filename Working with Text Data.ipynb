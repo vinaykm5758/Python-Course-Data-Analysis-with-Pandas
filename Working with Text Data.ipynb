{
  "metadata": {
    "anaconda-cloud": {},
    "kernelspec": {
      "name": "python",
      "display_name": "Python (Pyodide)",
      "language": "python"
    },
    "language_info": {
      "codemirror_mode": {
        "name": "python",
        "version": 3
      },
      "file_extension": ".py",
      "mimetype": "text/x-python",
      "name": "python",
      "nbconvert_exporter": "python",
      "pygments_lexer": "ipython3",
      "version": "3.8"
    }
  },
  "nbformat_minor": 4,
  "nbformat": 4,
  "cells": [
    {
      "cell_type": "code",
      "source": "import pandas as pd ",
      "metadata": {
        "tags": [],
        "trusted": true
      },
      "execution_count": 2,
      "outputs": []
    },
    {
      "cell_type": "code",
      "source": "chicago = pd.read_csv(\"chicago.csv\")\nchicago[\"Department\"] = chicago[\"Department\"].astype(\"category\")\nchicago.head()",
      "metadata": {
        "collapsed": false,
        "jupyter": {
          "outputs_hidden": false
        },
        "trusted": true
      },
      "execution_count": 3,
      "outputs": [
        {
          "execution_count": 3,
          "output_type": "execute_result",
          "data": {
            "text/plain": "                  Name            Position Title        Department  \\\n0      AARON,  ELVIA J          WATER RATE TAKER       WATER MGMNT   \n1    AARON,  JEFFERY M            POLICE OFFICER            POLICE   \n2       AARON,  KARINA            POLICE OFFICER            POLICE   \n3  AARON,  KIMBERLEI R  CHIEF CONTRACT EXPEDITER  GENERAL SERVICES   \n4  ABAD JR,  VICENTE M         CIVIL ENGINEER IV       WATER MGMNT   \n\n  Employee Annual Salary  \n0              $90744.00  \n1              $84450.00  \n2              $84450.00  \n3              $89880.00  \n4             $106836.00  ",
            "text/html": "<div>\n<style scoped>\n    .dataframe tbody tr th:only-of-type {\n        vertical-align: middle;\n    }\n\n    .dataframe tbody tr th {\n        vertical-align: top;\n    }\n\n    .dataframe thead th {\n        text-align: right;\n    }\n</style>\n<table border=\"1\" class=\"dataframe\">\n  <thead>\n    <tr style=\"text-align: right;\">\n      <th></th>\n      <th>Name</th>\n      <th>Position Title</th>\n      <th>Department</th>\n      <th>Employee Annual Salary</th>\n    </tr>\n  </thead>\n  <tbody>\n    <tr>\n      <th>0</th>\n      <td>AARON,  ELVIA J</td>\n      <td>WATER RATE TAKER</td>\n      <td>WATER MGMNT</td>\n      <td>$90744.00</td>\n    </tr>\n    <tr>\n      <th>1</th>\n      <td>AARON,  JEFFERY M</td>\n      <td>POLICE OFFICER</td>\n      <td>POLICE</td>\n      <td>$84450.00</td>\n    </tr>\n    <tr>\n      <th>2</th>\n      <td>AARON,  KARINA</td>\n      <td>POLICE OFFICER</td>\n      <td>POLICE</td>\n      <td>$84450.00</td>\n    </tr>\n    <tr>\n      <th>3</th>\n      <td>AARON,  KIMBERLEI R</td>\n      <td>CHIEF CONTRACT EXPEDITER</td>\n      <td>GENERAL SERVICES</td>\n      <td>$89880.00</td>\n    </tr>\n    <tr>\n      <th>4</th>\n      <td>ABAD JR,  VICENTE M</td>\n      <td>CIVIL ENGINEER IV</td>\n      <td>WATER MGMNT</td>\n      <td>$106836.00</td>\n    </tr>\n  </tbody>\n</table>\n</div>"
          },
          "metadata": {}
        }
      ]
    },
    {
      "cell_type": "code",
      "source": "chicago.info()",
      "metadata": {
        "collapsed": false,
        "jupyter": {
          "outputs_hidden": false
        },
        "trusted": true
      },
      "execution_count": 10,
      "outputs": [
        {
          "name": "stdout",
          "text": "<class 'pandas.core.frame.DataFrame'>\nRangeIndex: 32063 entries, 0 to 32062\nData columns (total 4 columns):\n #   Column                  Non-Null Count  Dtype   \n---  ------                  --------------  -----   \n 0   Name                    32062 non-null  object  \n 1   Position Title          32062 non-null  object  \n 2   Department              32062 non-null  category\n 3   Employee Annual Salary  32062 non-null  object  \ndtypes: category(1), object(3)\nmemory usage: 407.8+ KB\n",
          "output_type": "stream"
        }
      ]
    },
    {
      "cell_type": "code",
      "source": "chicago[\"Department\"].nunique()",
      "metadata": {
        "collapsed": false,
        "jupyter": {
          "outputs_hidden": false
        },
        "trusted": true
      },
      "execution_count": 11,
      "outputs": [
        {
          "execution_count": 11,
          "output_type": "execute_result",
          "data": {
            "text/plain": "35"
          },
          "metadata": {}
        }
      ]
    },
    {
      "cell_type": "code",
      "source": "chicago.nunique()",
      "metadata": {
        "trusted": true
      },
      "execution_count": 13,
      "outputs": [
        {
          "execution_count": 13,
          "output_type": "execute_result",
          "data": {
            "text/plain": "Name                      31776\nPosition Title             1093\nDepartment                   35\nEmployee Annual Salary     1156\ndtype: int64"
          },
          "metadata": {}
        }
      ]
    },
    {
      "cell_type": "code",
      "source": "",
      "metadata": {},
      "execution_count": null,
      "outputs": []
    },
    {
      "cell_type": "code",
      "source": "",
      "metadata": {},
      "execution_count": null,
      "outputs": []
    },
    {
      "cell_type": "code",
      "source": "chicago[\"Department\"].count()",
      "metadata": {
        "collapsed": false,
        "jupyter": {
          "outputs_hidden": false
        },
        "trusted": true
      },
      "execution_count": 7,
      "outputs": [
        {
          "execution_count": 7,
          "output_type": "execute_result",
          "data": {
            "text/plain": "32062"
          },
          "metadata": {}
        }
      ]
    },
    {
      "cell_type": "code",
      "source": "chicago[\"Department\"].unique()",
      "metadata": {
        "collapsed": false,
        "jupyter": {
          "outputs_hidden": false
        },
        "trusted": true
      },
      "execution_count": 12,
      "outputs": [
        {
          "execution_count": 12,
          "output_type": "execute_result",
          "data": {
            "text/plain": "['WATER MGMNT', 'POLICE', 'GENERAL SERVICES', 'CITY COUNCIL', 'STREETS & SAN', ..., 'BOARD OF ETHICS', 'POLICE BOARD', 'ADMIN HEARNG', 'LICENSE APPL COMM', NaN]\nLength: 36\nCategories (35, object): ['ADMIN HEARNG', 'ANIMAL CONTRL', 'AVIATION', 'BOARD OF ELECTION', ...,\n                          'STREETS & SAN', 'TRANSPORTN', 'TREASURER', 'WATER MGMNT']"
          },
          "metadata": {}
        }
      ]
    },
    {
      "cell_type": "code",
      "source": "chicago.head()",
      "metadata": {
        "tags": [],
        "trusted": true
      },
      "execution_count": 14,
      "outputs": [
        {
          "execution_count": 14,
          "output_type": "execute_result",
          "data": {
            "text/plain": "                  Name            Position Title        Department  \\\n0      AARON,  ELVIA J          WATER RATE TAKER       WATER MGMNT   \n1    AARON,  JEFFERY M            POLICE OFFICER            POLICE   \n2       AARON,  KARINA            POLICE OFFICER            POLICE   \n3  AARON,  KIMBERLEI R  CHIEF CONTRACT EXPEDITER  GENERAL SERVICES   \n4  ABAD JR,  VICENTE M         CIVIL ENGINEER IV       WATER MGMNT   \n\n  Employee Annual Salary  \n0              $90744.00  \n1              $84450.00  \n2              $84450.00  \n3              $89880.00  \n4             $106836.00  ",
            "text/html": "<div>\n<style scoped>\n    .dataframe tbody tr th:only-of-type {\n        vertical-align: middle;\n    }\n\n    .dataframe tbody tr th {\n        vertical-align: top;\n    }\n\n    .dataframe thead th {\n        text-align: right;\n    }\n</style>\n<table border=\"1\" class=\"dataframe\">\n  <thead>\n    <tr style=\"text-align: right;\">\n      <th></th>\n      <th>Name</th>\n      <th>Position Title</th>\n      <th>Department</th>\n      <th>Employee Annual Salary</th>\n    </tr>\n  </thead>\n  <tbody>\n    <tr>\n      <th>0</th>\n      <td>AARON,  ELVIA J</td>\n      <td>WATER RATE TAKER</td>\n      <td>WATER MGMNT</td>\n      <td>$90744.00</td>\n    </tr>\n    <tr>\n      <th>1</th>\n      <td>AARON,  JEFFERY M</td>\n      <td>POLICE OFFICER</td>\n      <td>POLICE</td>\n      <td>$84450.00</td>\n    </tr>\n    <tr>\n      <th>2</th>\n      <td>AARON,  KARINA</td>\n      <td>POLICE OFFICER</td>\n      <td>POLICE</td>\n      <td>$84450.00</td>\n    </tr>\n    <tr>\n      <th>3</th>\n      <td>AARON,  KIMBERLEI R</td>\n      <td>CHIEF CONTRACT EXPEDITER</td>\n      <td>GENERAL SERVICES</td>\n      <td>$89880.00</td>\n    </tr>\n    <tr>\n      <th>4</th>\n      <td>ABAD JR,  VICENTE M</td>\n      <td>CIVIL ENGINEER IV</td>\n      <td>WATER MGMNT</td>\n      <td>$106836.00</td>\n    </tr>\n  </tbody>\n</table>\n</div>"
          },
          "metadata": {}
        }
      ]
    },
    {
      "cell_type": "code",
      "source": "",
      "metadata": {
        "tags": []
      },
      "execution_count": null,
      "outputs": []
    },
    {
      "cell_type": "code",
      "source": "\"Hello World\".replace(\"l\",\"!\")",
      "metadata": {
        "trusted": true
      },
      "execution_count": 3,
      "outputs": [
        {
          "execution_count": 3,
          "output_type": "execute_result",
          "data": {
            "text/plain": "'He!!o Wor!d'"
          },
          "metadata": {}
        }
      ]
    },
    {
      "cell_type": "code",
      "source": "",
      "metadata": {},
      "execution_count": null,
      "outputs": []
    },
    {
      "cell_type": "code",
      "source": "chicago.head()",
      "metadata": {
        "trusted": true
      },
      "execution_count": 4,
      "outputs": [
        {
          "execution_count": 4,
          "output_type": "execute_result",
          "data": {
            "text/plain": "                  Name            Position Title        Department  \\\n0      AARON,  ELVIA J          WATER RATE TAKER       WATER MGMNT   \n1    AARON,  JEFFERY M            POLICE OFFICER            POLICE   \n2       AARON,  KARINA            POLICE OFFICER            POLICE   \n3  AARON,  KIMBERLEI R  CHIEF CONTRACT EXPEDITER  GENERAL SERVICES   \n4  ABAD JR,  VICENTE M         CIVIL ENGINEER IV       WATER MGMNT   \n\n  Employee Annual Salary  \n0              $90744.00  \n1              $84450.00  \n2              $84450.00  \n3              $89880.00  \n4             $106836.00  ",
            "text/html": "<div>\n<style scoped>\n    .dataframe tbody tr th:only-of-type {\n        vertical-align: middle;\n    }\n\n    .dataframe tbody tr th {\n        vertical-align: top;\n    }\n\n    .dataframe thead th {\n        text-align: right;\n    }\n</style>\n<table border=\"1\" class=\"dataframe\">\n  <thead>\n    <tr style=\"text-align: right;\">\n      <th></th>\n      <th>Name</th>\n      <th>Position Title</th>\n      <th>Department</th>\n      <th>Employee Annual Salary</th>\n    </tr>\n  </thead>\n  <tbody>\n    <tr>\n      <th>0</th>\n      <td>AARON,  ELVIA J</td>\n      <td>WATER RATE TAKER</td>\n      <td>WATER MGMNT</td>\n      <td>$90744.00</td>\n    </tr>\n    <tr>\n      <th>1</th>\n      <td>AARON,  JEFFERY M</td>\n      <td>POLICE OFFICER</td>\n      <td>POLICE</td>\n      <td>$84450.00</td>\n    </tr>\n    <tr>\n      <th>2</th>\n      <td>AARON,  KARINA</td>\n      <td>POLICE OFFICER</td>\n      <td>POLICE</td>\n      <td>$84450.00</td>\n    </tr>\n    <tr>\n      <th>3</th>\n      <td>AARON,  KIMBERLEI R</td>\n      <td>CHIEF CONTRACT EXPEDITER</td>\n      <td>GENERAL SERVICES</td>\n      <td>$89880.00</td>\n    </tr>\n    <tr>\n      <th>4</th>\n      <td>ABAD JR,  VICENTE M</td>\n      <td>CIVIL ENGINEER IV</td>\n      <td>WATER MGMNT</td>\n      <td>$106836.00</td>\n    </tr>\n  </tbody>\n</table>\n</div>"
          },
          "metadata": {}
        }
      ]
    },
    {
      "cell_type": "code",
      "source": "chicago.tail()",
      "metadata": {
        "trusted": true
      },
      "execution_count": 8,
      "outputs": [
        {
          "execution_count": 8,
          "output_type": "execute_result",
          "data": {
            "text/plain": "                      Name           Position Title Department  \\\n32058   ZYGOWICZ,  PETER J           POLICE OFFICER     POLICE   \n32059    ZYMANTAS,  MARK E           POLICE OFFICER     POLICE   \n32060  ZYRKOWSKI,  CARLO E           POLICE OFFICER     POLICE   \n32061  ZYSKOWSKI,  DARIUSZ  CHIEF DATA BASE ANALYST       DoIT   \n32062                  NaN                      NaN        NaN   \n\n      Employee Annual Salary  \n32058              $87384.00  \n32059              $84450.00  \n32060              $87384.00  \n32061             $113664.00  \n32062                    NaN  ",
            "text/html": "<div>\n<style scoped>\n    .dataframe tbody tr th:only-of-type {\n        vertical-align: middle;\n    }\n\n    .dataframe tbody tr th {\n        vertical-align: top;\n    }\n\n    .dataframe thead th {\n        text-align: right;\n    }\n</style>\n<table border=\"1\" class=\"dataframe\">\n  <thead>\n    <tr style=\"text-align: right;\">\n      <th></th>\n      <th>Name</th>\n      <th>Position Title</th>\n      <th>Department</th>\n      <th>Employee Annual Salary</th>\n    </tr>\n  </thead>\n  <tbody>\n    <tr>\n      <th>32058</th>\n      <td>ZYGOWICZ,  PETER J</td>\n      <td>POLICE OFFICER</td>\n      <td>POLICE</td>\n      <td>$87384.00</td>\n    </tr>\n    <tr>\n      <th>32059</th>\n      <td>ZYMANTAS,  MARK E</td>\n      <td>POLICE OFFICER</td>\n      <td>POLICE</td>\n      <td>$84450.00</td>\n    </tr>\n    <tr>\n      <th>32060</th>\n      <td>ZYRKOWSKI,  CARLO E</td>\n      <td>POLICE OFFICER</td>\n      <td>POLICE</td>\n      <td>$87384.00</td>\n    </tr>\n    <tr>\n      <th>32061</th>\n      <td>ZYSKOWSKI,  DARIUSZ</td>\n      <td>CHIEF DATA BASE ANALYST</td>\n      <td>DoIT</td>\n      <td>$113664.00</td>\n    </tr>\n    <tr>\n      <th>32062</th>\n      <td>NaN</td>\n      <td>NaN</td>\n      <td>NaN</td>\n      <td>NaN</td>\n    </tr>\n  </tbody>\n</table>\n</div>"
          },
          "metadata": {}
        }
      ]
    },
    {
      "cell_type": "code",
      "source": "chicago.dropna(how=\"all\",inplace=True)",
      "metadata": {
        "trusted": true
      },
      "execution_count": 11,
      "outputs": []
    },
    {
      "cell_type": "code",
      "source": "",
      "metadata": {
        "tags": []
      },
      "execution_count": null,
      "outputs": []
    },
    {
      "cell_type": "code",
      "source": "chicago.tail()",
      "metadata": {
        "tags": [],
        "trusted": true
      },
      "execution_count": 12,
      "outputs": [
        {
          "execution_count": 12,
          "output_type": "execute_result",
          "data": {
            "text/plain": "                      Name                  Position Title        Department  \\\n32057  ZYGADLO,  MICHAEL J  FRM OF MACHINISTS - AUTOMOTIVE  GENERAL SERVICES   \n32058   ZYGOWICZ,  PETER J                  POLICE OFFICER            POLICE   \n32059    ZYMANTAS,  MARK E                  POLICE OFFICER            POLICE   \n32060  ZYRKOWSKI,  CARLO E                  POLICE OFFICER            POLICE   \n32061  ZYSKOWSKI,  DARIUSZ         CHIEF DATA BASE ANALYST              DoIT   \n\n      Employee Annual Salary  \n32057              $99528.00  \n32058              $87384.00  \n32059              $84450.00  \n32060              $87384.00  \n32061             $113664.00  ",
            "text/html": "<div>\n<style scoped>\n    .dataframe tbody tr th:only-of-type {\n        vertical-align: middle;\n    }\n\n    .dataframe tbody tr th {\n        vertical-align: top;\n    }\n\n    .dataframe thead th {\n        text-align: right;\n    }\n</style>\n<table border=\"1\" class=\"dataframe\">\n  <thead>\n    <tr style=\"text-align: right;\">\n      <th></th>\n      <th>Name</th>\n      <th>Position Title</th>\n      <th>Department</th>\n      <th>Employee Annual Salary</th>\n    </tr>\n  </thead>\n  <tbody>\n    <tr>\n      <th>32057</th>\n      <td>ZYGADLO,  MICHAEL J</td>\n      <td>FRM OF MACHINISTS - AUTOMOTIVE</td>\n      <td>GENERAL SERVICES</td>\n      <td>$99528.00</td>\n    </tr>\n    <tr>\n      <th>32058</th>\n      <td>ZYGOWICZ,  PETER J</td>\n      <td>POLICE OFFICER</td>\n      <td>POLICE</td>\n      <td>$87384.00</td>\n    </tr>\n    <tr>\n      <th>32059</th>\n      <td>ZYMANTAS,  MARK E</td>\n      <td>POLICE OFFICER</td>\n      <td>POLICE</td>\n      <td>$84450.00</td>\n    </tr>\n    <tr>\n      <th>32060</th>\n      <td>ZYRKOWSKI,  CARLO E</td>\n      <td>POLICE OFFICER</td>\n      <td>POLICE</td>\n      <td>$87384.00</td>\n    </tr>\n    <tr>\n      <th>32061</th>\n      <td>ZYSKOWSKI,  DARIUSZ</td>\n      <td>CHIEF DATA BASE ANALYST</td>\n      <td>DoIT</td>\n      <td>$113664.00</td>\n    </tr>\n  </tbody>\n</table>\n</div>"
          },
          "metadata": {}
        }
      ]
    },
    {
      "cell_type": "code",
      "source": "chicago[\"Employee Annual Salary\"].head()",
      "metadata": {
        "tags": [],
        "trusted": true
      },
      "execution_count": 14,
      "outputs": [
        {
          "execution_count": 14,
          "output_type": "execute_result",
          "data": {
            "text/plain": "0     $90744.00\n1     $84450.00\n2     $84450.00\n3     $89880.00\n4    $106836.00\nName: Employee Annual Salary, dtype: object"
          },
          "metadata": {}
        }
      ]
    },
    {
      "cell_type": "code",
      "source": "chicago[\"Employee Annual Salary\"].str.replace(\"$\",'').astype(float)",
      "metadata": {
        "tags": [],
        "trusted": true
      },
      "execution_count": 15,
      "outputs": [
        {
          "name": "stderr",
          "text": "<ipython-input-15-59ceffe58be6>:1: FutureWarning: The default value of regex will change from True to False in a future version. In addition, single character regular expressions will *not* be treated as literal strings when regex=True.\n  chicago[\"Employee Annual Salary\"].str.replace(\"$\",'').astype(float)\n",
          "output_type": "stream"
        },
        {
          "execution_count": 15,
          "output_type": "execute_result",
          "data": {
            "text/plain": "0         90744.0\n1         84450.0\n2         84450.0\n3         89880.0\n4        106836.0\n           ...   \n32057     99528.0\n32058     87384.0\n32059     84450.0\n32060     87384.0\n32061    113664.0\nName: Employee Annual Salary, Length: 32062, dtype: float64"
          },
          "metadata": {}
        }
      ]
    },
    {
      "cell_type": "code",
      "source": "",
      "metadata": {
        "collapsed": true,
        "jupyter": {
          "outputs_hidden": true
        }
      },
      "execution_count": null,
      "outputs": []
    },
    {
      "cell_type": "code",
      "source": "\"Hello My Name is Boston\".upper().split(\" \")",
      "metadata": {
        "tags": [],
        "trusted": true
      },
      "execution_count": 24,
      "outputs": [
        {
          "execution_count": 24,
          "output_type": "execute_result",
          "data": {
            "text/plain": "['HELLO', 'MY', 'NAME', 'IS', 'BOSTON']"
          },
          "metadata": {}
        }
      ]
    },
    {
      "cell_type": "code",
      "source": "chicago[\"Position Title\"].str.split(\" \").str.get(0).value_counts()",
      "metadata": {
        "tags": [],
        "trusted": true
      },
      "execution_count": 25,
      "outputs": [
        {
          "execution_count": 25,
          "output_type": "execute_result",
          "data": {
            "text/plain": "POLICE             10856\nFIREFIGHTER-EMT     1509\nSERGEANT            1186\nPOOL                 918\nFIREFIGHTER          810\n                   ...  \nDENTIST                1\nASSOC                  1\nTELEPHONE              1\nMAYOR                  1\nPREPRESS               1\nName: Position Title, Length: 320, dtype: int64"
          },
          "metadata": {}
        }
      ]
    },
    {
      "cell_type": "code",
      "source": "chicago[\"Position Title\"].str.split(\" \").str.get(1).value_counts()",
      "metadata": {
        "tags": [],
        "trusted": true
      },
      "execution_count": 26,
      "outputs": [
        {
          "execution_count": 26,
          "output_type": "execute_result",
          "data": {
            "text/plain": "OFFICER    10400\nLABORER     1538\nMOTOR        918\nGUARD        775\nTRUCK        721\n           ...  \nLAW            1\nUNIT           1\nARTS           1\nCOOLING        1\nHAND           1\nName: Position Title, Length: 285, dtype: int64"
          },
          "metadata": {}
        }
      ]
    },
    {
      "cell_type": "code",
      "source": "chicago[\"Position Title\"].head()",
      "metadata": {
        "tags": [],
        "trusted": true
      },
      "execution_count": 27,
      "outputs": [
        {
          "execution_count": 27,
          "output_type": "execute_result",
          "data": {
            "text/plain": "0            WATER RATE TAKER\n1              POLICE OFFICER\n2              POLICE OFFICER\n3    CHIEF CONTRACT EXPEDITER\n4           CIVIL ENGINEER IV\nName: Position Title, dtype: object"
          },
          "metadata": {}
        }
      ]
    },
    {
      "cell_type": "code",
      "source": "chicago.head()",
      "metadata": {
        "tags": [],
        "trusted": true
      },
      "execution_count": 4,
      "outputs": [
        {
          "execution_count": 4,
          "output_type": "execute_result",
          "data": {
            "text/plain": "                  Name            Position Title        Department  \\\n0      AARON,  ELVIA J          WATER RATE TAKER       WATER MGMNT   \n1    AARON,  JEFFERY M            POLICE OFFICER            POLICE   \n2       AARON,  KARINA            POLICE OFFICER            POLICE   \n3  AARON,  KIMBERLEI R  CHIEF CONTRACT EXPEDITER  GENERAL SERVICES   \n4  ABAD JR,  VICENTE M         CIVIL ENGINEER IV       WATER MGMNT   \n\n  Employee Annual Salary  \n0              $90744.00  \n1              $84450.00  \n2              $84450.00  \n3              $89880.00  \n4             $106836.00  ",
            "text/html": "<div>\n<style scoped>\n    .dataframe tbody tr th:only-of-type {\n        vertical-align: middle;\n    }\n\n    .dataframe tbody tr th {\n        vertical-align: top;\n    }\n\n    .dataframe thead th {\n        text-align: right;\n    }\n</style>\n<table border=\"1\" class=\"dataframe\">\n  <thead>\n    <tr style=\"text-align: right;\">\n      <th></th>\n      <th>Name</th>\n      <th>Position Title</th>\n      <th>Department</th>\n      <th>Employee Annual Salary</th>\n    </tr>\n  </thead>\n  <tbody>\n    <tr>\n      <th>0</th>\n      <td>AARON,  ELVIA J</td>\n      <td>WATER RATE TAKER</td>\n      <td>WATER MGMNT</td>\n      <td>$90744.00</td>\n    </tr>\n    <tr>\n      <th>1</th>\n      <td>AARON,  JEFFERY M</td>\n      <td>POLICE OFFICER</td>\n      <td>POLICE</td>\n      <td>$84450.00</td>\n    </tr>\n    <tr>\n      <th>2</th>\n      <td>AARON,  KARINA</td>\n      <td>POLICE OFFICER</td>\n      <td>POLICE</td>\n      <td>$84450.00</td>\n    </tr>\n    <tr>\n      <th>3</th>\n      <td>AARON,  KIMBERLEI R</td>\n      <td>CHIEF CONTRACT EXPEDITER</td>\n      <td>GENERAL SERVICES</td>\n      <td>$89880.00</td>\n    </tr>\n    <tr>\n      <th>4</th>\n      <td>ABAD JR,  VICENTE M</td>\n      <td>CIVIL ENGINEER IV</td>\n      <td>WATER MGMNT</td>\n      <td>$106836.00</td>\n    </tr>\n  </tbody>\n</table>\n</div>"
          },
          "metadata": {}
        }
      ]
    },
    {
      "cell_type": "code",
      "source": "chicago[\"Name\"].str.split(\",\").str.get(0).value_counts().head()",
      "metadata": {
        "tags": [],
        "trusted": true
      },
      "execution_count": 6,
      "outputs": [
        {
          "execution_count": 6,
          "output_type": "execute_result",
          "data": {
            "text/plain": "WILLIAMS    293\nJOHNSON     244\nSMITH       241\nBROWN       185\nJONES       183\nName: Name, dtype: int64"
          },
          "metadata": {}
        }
      ]
    },
    {
      "cell_type": "code",
      "source": "chicago[\"Name\"].str.split(\",\").str.get(1).value_counts().head()",
      "metadata": {
        "tags": [],
        "trusted": true
      },
      "execution_count": 7,
      "outputs": [
        {
          "execution_count": 7,
          "output_type": "execute_result",
          "data": {
            "text/plain": "  MICHAEL J    270\n  MICHAEL      165\n  MICHAEL A    158\n  DAVID        128\n  THOMAS J     120\nName: Name, dtype: int64"
          },
          "metadata": {}
        }
      ]
    },
    {
      "cell_type": "code",
      "source": "chicago[\"Name\"].str.split(\",\").str.get(1).str.strip().str.split(\" \").str.get(0).value_counts().head()",
      "metadata": {
        "tags": [],
        "trusted": true
      },
      "execution_count": 8,
      "outputs": [
        {
          "execution_count": 8,
          "output_type": "execute_result",
          "data": {
            "text/plain": "MICHAEL    1153\nJOHN        899\nJAMES       676\nROBERT      622\nJOSEPH      537\nName: Name, dtype: int64"
          },
          "metadata": {}
        }
      ]
    },
    {
      "cell_type": "code",
      "source": "chicago[\"Name\"].str.split(\",\").str.get(1).str.strip().str.split(\" \").str.get(1).value_counts().head()",
      "metadata": {
        "tags": [],
        "trusted": true
      },
      "execution_count": 9,
      "outputs": [
        {
          "execution_count": 9,
          "output_type": "execute_result",
          "data": {
            "text/plain": "J    3140\nA    3022\nM    2830\nL    2041\nR    1364\nName: Name, dtype: int64"
          },
          "metadata": {}
        }
      ]
    },
    {
      "cell_type": "code",
      "source": "chicago[\"Name\"].str.split(\",\")",
      "metadata": {
        "tags": [],
        "trusted": true
      },
      "execution_count": 10,
      "outputs": [
        {
          "execution_count": 10,
          "output_type": "execute_result",
          "data": {
            "text/plain": "0            [AARON,   ELVIA J]\n1          [AARON,   JEFFERY M]\n2             [AARON,   KARINA]\n3        [AARON,   KIMBERLEI R]\n4        [ABAD JR,   VICENTE M]\n                  ...          \n32058     [ZYGOWICZ,   PETER J]\n32059      [ZYMANTAS,   MARK E]\n32060    [ZYRKOWSKI,   CARLO E]\n32061    [ZYSKOWSKI,   DARIUSZ]\n32062                       NaN\nName: Name, Length: 32063, dtype: object"
          },
          "metadata": {}
        }
      ]
    },
    {
      "cell_type": "code",
      "source": "chicago[\"Name\"].str.split(\",\",expand=True)",
      "metadata": {
        "tags": [],
        "trusted": true
      },
      "execution_count": 11,
      "outputs": [
        {
          "execution_count": 11,
          "output_type": "execute_result",
          "data": {
            "text/plain": "               0              1\n0          AARON        ELVIA J\n1          AARON      JEFFERY M\n2          AARON         KARINA\n3          AARON    KIMBERLEI R\n4        ABAD JR      VICENTE M\n...          ...            ...\n32058   ZYGOWICZ        PETER J\n32059   ZYMANTAS         MARK E\n32060  ZYRKOWSKI        CARLO E\n32061  ZYSKOWSKI        DARIUSZ\n32062        NaN            NaN\n\n[32063 rows x 2 columns]",
            "text/html": "<div>\n<style scoped>\n    .dataframe tbody tr th:only-of-type {\n        vertical-align: middle;\n    }\n\n    .dataframe tbody tr th {\n        vertical-align: top;\n    }\n\n    .dataframe thead th {\n        text-align: right;\n    }\n</style>\n<table border=\"1\" class=\"dataframe\">\n  <thead>\n    <tr style=\"text-align: right;\">\n      <th></th>\n      <th>0</th>\n      <th>1</th>\n    </tr>\n  </thead>\n  <tbody>\n    <tr>\n      <th>0</th>\n      <td>AARON</td>\n      <td>ELVIA J</td>\n    </tr>\n    <tr>\n      <th>1</th>\n      <td>AARON</td>\n      <td>JEFFERY M</td>\n    </tr>\n    <tr>\n      <th>2</th>\n      <td>AARON</td>\n      <td>KARINA</td>\n    </tr>\n    <tr>\n      <th>3</th>\n      <td>AARON</td>\n      <td>KIMBERLEI R</td>\n    </tr>\n    <tr>\n      <th>4</th>\n      <td>ABAD JR</td>\n      <td>VICENTE M</td>\n    </tr>\n    <tr>\n      <th>...</th>\n      <td>...</td>\n      <td>...</td>\n    </tr>\n    <tr>\n      <th>32058</th>\n      <td>ZYGOWICZ</td>\n      <td>PETER J</td>\n    </tr>\n    <tr>\n      <th>32059</th>\n      <td>ZYMANTAS</td>\n      <td>MARK E</td>\n    </tr>\n    <tr>\n      <th>32060</th>\n      <td>ZYRKOWSKI</td>\n      <td>CARLO E</td>\n    </tr>\n    <tr>\n      <th>32061</th>\n      <td>ZYSKOWSKI</td>\n      <td>DARIUSZ</td>\n    </tr>\n    <tr>\n      <th>32062</th>\n      <td>NaN</td>\n      <td>NaN</td>\n    </tr>\n  </tbody>\n</table>\n<p>32063 rows × 2 columns</p>\n</div>"
          },
          "metadata": {}
        }
      ]
    },
    {
      "cell_type": "code",
      "source": "chicago[[\"FirstName\",\"LastName\"]]=chicago[\"Name\"].str.split(\",\",expand=True)",
      "metadata": {
        "tags": [],
        "trusted": true
      },
      "execution_count": 13,
      "outputs": []
    },
    {
      "cell_type": "code",
      "source": "chicago.head()",
      "metadata": {
        "tags": [],
        "trusted": true
      },
      "execution_count": 14,
      "outputs": [
        {
          "execution_count": 14,
          "output_type": "execute_result",
          "data": {
            "text/plain": "                  Name            Position Title        Department  \\\n0      AARON,  ELVIA J          WATER RATE TAKER       WATER MGMNT   \n1    AARON,  JEFFERY M            POLICE OFFICER            POLICE   \n2       AARON,  KARINA            POLICE OFFICER            POLICE   \n3  AARON,  KIMBERLEI R  CHIEF CONTRACT EXPEDITER  GENERAL SERVICES   \n4  ABAD JR,  VICENTE M         CIVIL ENGINEER IV       WATER MGMNT   \n\n  Employee Annual Salary FirstName       LastName  \n0              $90744.00     AARON        ELVIA J  \n1              $84450.00     AARON      JEFFERY M  \n2              $84450.00     AARON         KARINA  \n3              $89880.00     AARON    KIMBERLEI R  \n4             $106836.00   ABAD JR      VICENTE M  ",
            "text/html": "<div>\n<style scoped>\n    .dataframe tbody tr th:only-of-type {\n        vertical-align: middle;\n    }\n\n    .dataframe tbody tr th {\n        vertical-align: top;\n    }\n\n    .dataframe thead th {\n        text-align: right;\n    }\n</style>\n<table border=\"1\" class=\"dataframe\">\n  <thead>\n    <tr style=\"text-align: right;\">\n      <th></th>\n      <th>Name</th>\n      <th>Position Title</th>\n      <th>Department</th>\n      <th>Employee Annual Salary</th>\n      <th>FirstName</th>\n      <th>LastName</th>\n    </tr>\n  </thead>\n  <tbody>\n    <tr>\n      <th>0</th>\n      <td>AARON,  ELVIA J</td>\n      <td>WATER RATE TAKER</td>\n      <td>WATER MGMNT</td>\n      <td>$90744.00</td>\n      <td>AARON</td>\n      <td>ELVIA J</td>\n    </tr>\n    <tr>\n      <th>1</th>\n      <td>AARON,  JEFFERY M</td>\n      <td>POLICE OFFICER</td>\n      <td>POLICE</td>\n      <td>$84450.00</td>\n      <td>AARON</td>\n      <td>JEFFERY M</td>\n    </tr>\n    <tr>\n      <th>2</th>\n      <td>AARON,  KARINA</td>\n      <td>POLICE OFFICER</td>\n      <td>POLICE</td>\n      <td>$84450.00</td>\n      <td>AARON</td>\n      <td>KARINA</td>\n    </tr>\n    <tr>\n      <th>3</th>\n      <td>AARON,  KIMBERLEI R</td>\n      <td>CHIEF CONTRACT EXPEDITER</td>\n      <td>GENERAL SERVICES</td>\n      <td>$89880.00</td>\n      <td>AARON</td>\n      <td>KIMBERLEI R</td>\n    </tr>\n    <tr>\n      <th>4</th>\n      <td>ABAD JR,  VICENTE M</td>\n      <td>CIVIL ENGINEER IV</td>\n      <td>WATER MGMNT</td>\n      <td>$106836.00</td>\n      <td>ABAD JR</td>\n      <td>VICENTE M</td>\n    </tr>\n  </tbody>\n</table>\n</div>"
          },
          "metadata": {}
        }
      ]
    },
    {
      "cell_type": "code",
      "source": "chicago.tail()",
      "metadata": {
        "tags": [],
        "trusted": true
      },
      "execution_count": 16,
      "outputs": [
        {
          "execution_count": 16,
          "output_type": "execute_result",
          "data": {
            "text/plain": "                      Name           Position Title Department  \\\n32058   ZYGOWICZ,  PETER J           POLICE OFFICER     POLICE   \n32059    ZYMANTAS,  MARK E           POLICE OFFICER     POLICE   \n32060  ZYRKOWSKI,  CARLO E           POLICE OFFICER     POLICE   \n32061  ZYSKOWSKI,  DARIUSZ  CHIEF DATA BASE ANALYST       DoIT   \n32062                  NaN                      NaN        NaN   \n\n      Employee Annual Salary  FirstName   LastName  \n32058              $87384.00   ZYGOWICZ    PETER J  \n32059              $84450.00   ZYMANTAS     MARK E  \n32060              $87384.00  ZYRKOWSKI    CARLO E  \n32061             $113664.00  ZYSKOWSKI    DARIUSZ  \n32062                    NaN        NaN        NaN  ",
            "text/html": "<div>\n<style scoped>\n    .dataframe tbody tr th:only-of-type {\n        vertical-align: middle;\n    }\n\n    .dataframe tbody tr th {\n        vertical-align: top;\n    }\n\n    .dataframe thead th {\n        text-align: right;\n    }\n</style>\n<table border=\"1\" class=\"dataframe\">\n  <thead>\n    <tr style=\"text-align: right;\">\n      <th></th>\n      <th>Name</th>\n      <th>Position Title</th>\n      <th>Department</th>\n      <th>Employee Annual Salary</th>\n      <th>FirstName</th>\n      <th>LastName</th>\n    </tr>\n  </thead>\n  <tbody>\n    <tr>\n      <th>32058</th>\n      <td>ZYGOWICZ,  PETER J</td>\n      <td>POLICE OFFICER</td>\n      <td>POLICE</td>\n      <td>$87384.00</td>\n      <td>ZYGOWICZ</td>\n      <td>PETER J</td>\n    </tr>\n    <tr>\n      <th>32059</th>\n      <td>ZYMANTAS,  MARK E</td>\n      <td>POLICE OFFICER</td>\n      <td>POLICE</td>\n      <td>$84450.00</td>\n      <td>ZYMANTAS</td>\n      <td>MARK E</td>\n    </tr>\n    <tr>\n      <th>32060</th>\n      <td>ZYRKOWSKI,  CARLO E</td>\n      <td>POLICE OFFICER</td>\n      <td>POLICE</td>\n      <td>$87384.00</td>\n      <td>ZYRKOWSKI</td>\n      <td>CARLO E</td>\n    </tr>\n    <tr>\n      <th>32061</th>\n      <td>ZYSKOWSKI,  DARIUSZ</td>\n      <td>CHIEF DATA BASE ANALYST</td>\n      <td>DoIT</td>\n      <td>$113664.00</td>\n      <td>ZYSKOWSKI</td>\n      <td>DARIUSZ</td>\n    </tr>\n    <tr>\n      <th>32062</th>\n      <td>NaN</td>\n      <td>NaN</td>\n      <td>NaN</td>\n      <td>NaN</td>\n      <td>NaN</td>\n      <td>NaN</td>\n    </tr>\n  </tbody>\n</table>\n</div>"
          },
          "metadata": {}
        }
      ]
    },
    {
      "cell_type": "code",
      "source": "",
      "metadata": {},
      "execution_count": null,
      "outputs": []
    },
    {
      "cell_type": "code",
      "source": "chicago[\"Position Title\"].head()",
      "metadata": {
        "trusted": true
      },
      "execution_count": 18,
      "outputs": [
        {
          "execution_count": 18,
          "output_type": "execute_result",
          "data": {
            "text/plain": "0            WATER RATE TAKER\n1              POLICE OFFICER\n2              POLICE OFFICER\n3    CHIEF CONTRACT EXPEDITER\n4           CIVIL ENGINEER IV\nName: Position Title, dtype: object"
          },
          "metadata": {}
        }
      ]
    },
    {
      "cell_type": "code",
      "source": "",
      "metadata": {},
      "execution_count": null,
      "outputs": []
    },
    {
      "cell_type": "code",
      "source": "",
      "metadata": {},
      "execution_count": null,
      "outputs": []
    },
    {
      "cell_type": "code",
      "source": "",
      "metadata": {},
      "execution_count": null,
      "outputs": []
    },
    {
      "cell_type": "code",
      "source": "#chicago[[\"FirstName\",\"LastName\"]]=\nchicago[\"Position Title\"].str.split(\" \",expand=True,n=1)",
      "metadata": {
        "tags": [],
        "trusted": true
      },
      "execution_count": 19,
      "outputs": [
        {
          "execution_count": 19,
          "output_type": "execute_result",
          "data": {
            "text/plain": "            0                   1\n0       WATER          RATE TAKER\n1      POLICE             OFFICER\n2      POLICE             OFFICER\n3       CHIEF  CONTRACT EXPEDITER\n4       CIVIL         ENGINEER IV\n...       ...                 ...\n32058  POLICE             OFFICER\n32059  POLICE             OFFICER\n32060  POLICE             OFFICER\n32061   CHIEF   DATA BASE ANALYST\n32062     NaN                 NaN\n\n[32063 rows x 2 columns]",
            "text/html": "<div>\n<style scoped>\n    .dataframe tbody tr th:only-of-type {\n        vertical-align: middle;\n    }\n\n    .dataframe tbody tr th {\n        vertical-align: top;\n    }\n\n    .dataframe thead th {\n        text-align: right;\n    }\n</style>\n<table border=\"1\" class=\"dataframe\">\n  <thead>\n    <tr style=\"text-align: right;\">\n      <th></th>\n      <th>0</th>\n      <th>1</th>\n    </tr>\n  </thead>\n  <tbody>\n    <tr>\n      <th>0</th>\n      <td>WATER</td>\n      <td>RATE TAKER</td>\n    </tr>\n    <tr>\n      <th>1</th>\n      <td>POLICE</td>\n      <td>OFFICER</td>\n    </tr>\n    <tr>\n      <th>2</th>\n      <td>POLICE</td>\n      <td>OFFICER</td>\n    </tr>\n    <tr>\n      <th>3</th>\n      <td>CHIEF</td>\n      <td>CONTRACT EXPEDITER</td>\n    </tr>\n    <tr>\n      <th>4</th>\n      <td>CIVIL</td>\n      <td>ENGINEER IV</td>\n    </tr>\n    <tr>\n      <th>...</th>\n      <td>...</td>\n      <td>...</td>\n    </tr>\n    <tr>\n      <th>32058</th>\n      <td>POLICE</td>\n      <td>OFFICER</td>\n    </tr>\n    <tr>\n      <th>32059</th>\n      <td>POLICE</td>\n      <td>OFFICER</td>\n    </tr>\n    <tr>\n      <th>32060</th>\n      <td>POLICE</td>\n      <td>OFFICER</td>\n    </tr>\n    <tr>\n      <th>32061</th>\n      <td>CHIEF</td>\n      <td>DATA BASE ANALYST</td>\n    </tr>\n    <tr>\n      <th>32062</th>\n      <td>NaN</td>\n      <td>NaN</td>\n    </tr>\n  </tbody>\n</table>\n<p>32063 rows × 2 columns</p>\n</div>"
          },
          "metadata": {}
        }
      ]
    },
    {
      "cell_type": "code",
      "source": "",
      "metadata": {
        "collapsed": true,
        "jupyter": {
          "outputs_hidden": true
        }
      },
      "execution_count": null,
      "outputs": []
    },
    {
      "cell_type": "code",
      "source": "",
      "metadata": {
        "collapsed": true,
        "jupyter": {
          "outputs_hidden": true
        }
      },
      "execution_count": null,
      "outputs": []
    },
    {
      "cell_type": "code",
      "source": "",
      "metadata": {
        "collapsed": true,
        "jupyter": {
          "outputs_hidden": true
        }
      },
      "execution_count": null,
      "outputs": []
    },
    {
      "cell_type": "code",
      "source": "",
      "metadata": {
        "collapsed": true,
        "jupyter": {
          "outputs_hidden": true
        }
      },
      "execution_count": null,
      "outputs": []
    },
    {
      "cell_type": "code",
      "source": "",
      "metadata": {
        "collapsed": true,
        "jupyter": {
          "outputs_hidden": true
        }
      },
      "execution_count": null,
      "outputs": []
    },
    {
      "cell_type": "code",
      "source": "",
      "metadata": {
        "collapsed": true,
        "jupyter": {
          "outputs_hidden": true
        }
      },
      "execution_count": null,
      "outputs": []
    },
    {
      "cell_type": "code",
      "source": "",
      "metadata": {
        "collapsed": true,
        "jupyter": {
          "outputs_hidden": true
        }
      },
      "execution_count": null,
      "outputs": []
    },
    {
      "cell_type": "code",
      "source": "",
      "metadata": {
        "collapsed": true,
        "jupyter": {
          "outputs_hidden": true
        }
      },
      "execution_count": null,
      "outputs": []
    },
    {
      "cell_type": "code",
      "source": "",
      "metadata": {
        "collapsed": true,
        "jupyter": {
          "outputs_hidden": true
        }
      },
      "execution_count": null,
      "outputs": []
    },
    {
      "cell_type": "code",
      "source": "",
      "metadata": {
        "collapsed": true,
        "jupyter": {
          "outputs_hidden": true
        }
      },
      "execution_count": null,
      "outputs": []
    },
    {
      "cell_type": "code",
      "source": "",
      "metadata": {
        "collapsed": true,
        "jupyter": {
          "outputs_hidden": true
        }
      },
      "execution_count": null,
      "outputs": []
    },
    {
      "cell_type": "code",
      "source": "",
      "metadata": {
        "collapsed": true,
        "jupyter": {
          "outputs_hidden": true
        }
      },
      "execution_count": null,
      "outputs": []
    },
    {
      "cell_type": "code",
      "source": "",
      "metadata": {
        "collapsed": true,
        "jupyter": {
          "outputs_hidden": true
        }
      },
      "execution_count": null,
      "outputs": []
    },
    {
      "cell_type": "code",
      "source": "",
      "metadata": {
        "collapsed": true,
        "jupyter": {
          "outputs_hidden": true
        }
      },
      "execution_count": null,
      "outputs": []
    },
    {
      "cell_type": "code",
      "source": "",
      "metadata": {
        "collapsed": true,
        "jupyter": {
          "outputs_hidden": true
        }
      },
      "execution_count": null,
      "outputs": []
    },
    {
      "cell_type": "code",
      "source": "",
      "metadata": {
        "collapsed": true,
        "jupyter": {
          "outputs_hidden": true
        }
      },
      "execution_count": null,
      "outputs": []
    },
    {
      "cell_type": "code",
      "source": "",
      "metadata": {
        "collapsed": true,
        "jupyter": {
          "outputs_hidden": true
        }
      },
      "execution_count": null,
      "outputs": []
    }
  ]
}